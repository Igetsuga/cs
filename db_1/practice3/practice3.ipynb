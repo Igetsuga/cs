{
 "cells": [
  {
   "cell_type": "code",
   "execution_count": 1,
   "metadata": {
    "id": "exFkotWz7Lk_"
   },
   "outputs": [
    {
     "data": {
      "text/plain": [
       "'Connected: @chinook.db'"
      ]
     },
     "execution_count": 1,
     "metadata": {},
     "output_type": "execute_result"
    }
   ],
   "source": [
    "%load_ext sql\n",
    "%sql sqlite:///chinook.db"
   ]
  },
  {
   "cell_type": "markdown",
   "metadata": {
    "id": "8Nwojma57LlH"
   },
   "source": [
    "## Задание 1\n",
    "Вывести среднюю продолжительность плейлиста в секундах *(продолжительность плейлиста - сумма длин треков в нём)*."
   ]
  },
  {
   "cell_type": "code",
   "execution_count": 2,
   "metadata": {
    "id": "ONDjMOxyWLnL"
   },
   "outputs": [
    {
     "name": "stdout",
     "output_type": "stream",
     "text": [
      " * sqlite:///chinook.db\n",
      "Done.\n"
     ]
    },
    {
     "data": {
      "text/html": [
       "<table>\n",
       "    <thead>\n",
       "        <tr>\n",
       "            <th>avg(Time)</th>\n",
       "        </tr>\n",
       "    </thead>\n",
       "    <tbody>\n",
       "        <tr>\n",
       "            <td>230150.2142857143</td>\n",
       "        </tr>\n",
       "    </tbody>\n",
       "</table>"
      ],
      "text/plain": [
       "[(230150.2142857143,)]"
      ]
     },
     "execution_count": 2,
     "metadata": {},
     "output_type": "execute_result"
    }
   ],
   "source": [
    "%%sql\n",
    "--\n",
    "SELECT\n",
    "    avg(Time)\n",
    "FROM\n",
    "    (\n",
    "    SELECT\n",
    "        sum(Milliseconds) / 1000 AS Time\n",
    "    FROM\n",
    "        tracks LEFT JOIN (SELECT TrackId, PlaylistId FROM playlist_track) USING (TrackId)\n",
    "    GROUP BY\n",
    "        PlaylistId\n",
    "    )\n"
   ]
  },
  {
   "cell_type": "markdown",
   "metadata": {
    "id": "epfFVrwEAQzY"
   },
   "source": [
    "## Задание 2\n",
    "Вывести альбом, который является минимальным по продолжительности среди альбомов со стоимостью, большей средней цены за альбом *(аналогично цена альбома - сумма цен треков)*."
   ]
  },
  {
   "cell_type": "code",
   "execution_count": 4,
   "metadata": {
    "id": "_KE5Y3IvWMFa"
   },
   "outputs": [
    {
     "name": "stdout",
     "output_type": "stream",
     "text": [
      " * sqlite:///chinook.db\n",
      "Done.\n"
     ]
    },
    {
     "data": {
      "text/html": [
       "<table>\n",
       "    <thead>\n",
       "        <tr>\n",
       "            <th>Title</th>\n",
       "            <th>min(Time)</th>\n",
       "        </tr>\n",
       "    </thead>\n",
       "    <tbody>\n",
       "        <tr>\n",
       "            <td>BackBeat Soundtrack</td>\n",
       "            <td>1615</td>\n",
       "        </tr>\n",
       "    </tbody>\n",
       "</table>"
      ],
      "text/plain": [
       "[('BackBeat Soundtrack', 1615)]"
      ]
     },
     "execution_count": 4,
     "metadata": {},
     "output_type": "execute_result"
    }
   ],
   "source": [
    "%%sql\n",
    "--\n",
    "SELECT\n",
    "    Title, min(Time)\n",
    "FROM \n",
    "    (\n",
    "    SELECT\n",
    "        s.Title, s.Cost, s.Time\n",
    "    FROM\n",
    "        (\n",
    "        SELECT\n",
    "            Title, sum(UnitPrice) AS Cost, sum(Milliseconds) / 1000 AS Time\n",
    "        FROM\n",
    "            tracks LEFT JOIN (SELECT * FROM albums) USING (AlbumId)\n",
    "        GROUP BY\n",
    "            Title\n",
    "        ) s,\n",
    "        (\n",
    "        SELECT \n",
    "            avg(Cost) AS avg_cost\n",
    "        FROM\n",
    "            (\n",
    "            SELECT\n",
    "                Title, sum(UnitPrice) AS Cost\n",
    "            FROM\n",
    "                tracks LEFT JOIN (SELECT * FROM albums) USING (AlbumId)\n",
    "            GROUP BY\n",
    "                Title\n",
    "            )\n",
    "        )\n",
    "    WHERE\n",
    "        s.Cost > avg_cost\n",
    "    )\n"
   ]
  },
  {
   "cell_type": "markdown",
   "metadata": {
    "id": "nLIbkB-w_aD6"
   },
   "source": [
    "## Задание 3\n",
    "Вывести общую стоимость треков, приобретённых компаниями, которые обслуживались сотрудниками, нанятыми после 3 сентября 2002 года."
   ]
  },
  {
   "cell_type": "code",
   "execution_count": 5,
   "metadata": {
    "id": "CufkUckwWNFb"
   },
   "outputs": [
    {
     "name": "stdout",
     "output_type": "stream",
     "text": [
      " * sqlite:///chinook.db\n",
      "Done.\n"
     ]
    },
    {
     "data": {
      "text/html": [
       "<table>\n",
       "    <thead>\n",
       "        <tr>\n",
       "            <th>sum(UnitPrice)</th>\n",
       "        </tr>\n",
       "    </thead>\n",
       "    <tbody>\n",
       "        <tr>\n",
       "            <td>230.72000000000062</td>\n",
       "        </tr>\n",
       "    </tbody>\n",
       "</table>"
      ],
      "text/plain": [
       "[(230.72000000000062,)]"
      ]
     },
     "execution_count": 5,
     "metadata": {},
     "output_type": "execute_result"
    }
   ],
   "source": [
    "%%sql\n",
    "--\n",
    "SELECT\n",
    "    sum(UnitPrice)\n",
    "FROM\n",
    "    tracks\n",
    "        LEFT JOIN (SELECT TrackId,    InvoiceId                FROM invoice_items) USING (TrackId)\n",
    "        LEFT JOIN (SELECT InvoiceId,  CustomerId               FROM invoices)      USING (InvoiceId)\n",
    "        LEFT JOIN (SELECT CustomerId, SupportRepId,   Company  FROM customers)     USING (CustomerId)\n",
    "        LEFT JOIN (SELECT EmployeeId AS SupportRepId, HireDate FROM employees)     USING (SupportRepId)   \n",
    "WHERE \n",
    "    (Company IS NOT null) AND (HireDate > \"2002-09-3\")"
   ]
  },
  {
   "cell_type": "markdown",
   "metadata": {
    "id": "sxAD3kTf_iSy"
   },
   "source": [
    "## Задание 4\n",
    "Для каждого альбома определить все жанры песен, которые в нём есть и количество песен по каждому жанру (формат вывода: альбом, жанр, количество).\n",
    "Выводить только те альбомы, где жанров больше одного."
   ]
  },
  {
   "cell_type": "code",
   "execution_count": 17,
   "metadata": {
    "id": "t4oHi_AvWN0j"
   },
   "outputs": [
    {
     "name": "stdout",
     "output_type": "stream",
     "text": [
      " * sqlite:///chinook.db\n",
      "Done.\n"
     ]
    },
    {
     "data": {
      "text/html": [
       "<table>\n",
       "    <thead>\n",
       "        <tr>\n",
       "            <th>AlbumId</th>\n",
       "            <th>Title</th>\n",
       "            <th>Genre</th>\n",
       "            <th>Count</th>\n",
       "        </tr>\n",
       "    </thead>\n",
       "    <tbody>\n",
       "        <tr>\n",
       "            <td>73</td>\n",
       "            <td>Unplugged</td>\n",
       "            <td>Blues</td>\n",
       "            <td>14</td>\n",
       "        </tr>\n",
       "        <tr>\n",
       "            <td>73</td>\n",
       "            <td>Unplugged</td>\n",
       "            <td>Latin</td>\n",
       "            <td>16</td>\n",
       "        </tr>\n",
       "        <tr>\n",
       "            <td>102</td>\n",
       "            <td>Live After Death</td>\n",
       "            <td>Heavy Metal</td>\n",
       "            <td>7</td>\n",
       "        </tr>\n",
       "        <tr>\n",
       "            <td>102</td>\n",
       "            <td>Live After Death</td>\n",
       "            <td>Metal</td>\n",
       "            <td>11</td>\n",
       "        </tr>\n",
       "        <tr>\n",
       "            <td>109</td>\n",
       "            <td>Rock In Rio [CD2]</td>\n",
       "            <td>Metal</td>\n",
       "            <td>1</td>\n",
       "        </tr>\n",
       "        <tr>\n",
       "            <td>109</td>\n",
       "            <td>Rock In Rio [CD2]</td>\n",
       "            <td>Rock</td>\n",
       "            <td>8</td>\n",
       "        </tr>\n",
       "        <tr>\n",
       "            <td>112</td>\n",
       "            <td>The Number of The Beast</td>\n",
       "            <td>Metal</td>\n",
       "            <td>7</td>\n",
       "        </tr>\n",
       "        <tr>\n",
       "            <td>112</td>\n",
       "            <td>The Number of The Beast</td>\n",
       "            <td>Rock</td>\n",
       "            <td>1</td>\n",
       "        </tr>\n",
       "        <tr>\n",
       "            <td>141</td>\n",
       "            <td>Greatest Hits</td>\n",
       "            <td>Metal</td>\n",
       "            <td>14</td>\n",
       "        </tr>\n",
       "        <tr>\n",
       "            <td>141</td>\n",
       "            <td>Greatest Hits</td>\n",
       "            <td>Reggae</td>\n",
       "            <td>13</td>\n",
       "        </tr>\n",
       "    </tbody>\n",
       "</table>"
      ],
      "text/plain": [
       "[(73, 'Unplugged', 'Blues', 14),\n",
       " (73, 'Unplugged', 'Latin', 16),\n",
       " (102, 'Live After Death', 'Heavy Metal', 7),\n",
       " (102, 'Live After Death', 'Metal', 11),\n",
       " (109, 'Rock In Rio [CD2]', 'Metal', 1),\n",
       " (109, 'Rock In Rio [CD2]', 'Rock', 8),\n",
       " (112, 'The Number of The Beast', 'Metal', 7),\n",
       " (112, 'The Number of The Beast', 'Rock', 1),\n",
       " (141, 'Greatest Hits', 'Metal', 14),\n",
       " (141, 'Greatest Hits', 'Reggae', 13)]"
      ]
     },
     "execution_count": 17,
     "metadata": {},
     "output_type": "execute_result"
    }
   ],
   "source": [
    "%%sql\n",
    "--\n",
    "SELECT\n",
    "    AlbumId, Title, Genre, count(TrackId) AS Count\n",
    "FROM\n",
    "    (SELECT\n",
    "        *\n",
    "    FROM\n",
    "        tracks\n",
    "            LEFT JOIN (SELECT GenreId, Name AS Genre FROM genres) USING (GenreId)\n",
    "            LEFT JOIN (SELECT AlbumId, Title         FROM albums) USING (AlbumId)\n",
    "    ) t,\n",
    "    (\n",
    "    SELECT \n",
    "        AlbumId AS Ids\n",
    "    FROM\n",
    "        tracks\n",
    "            LEFT JOIN (SELECT GenreId, Name AS Genre FROM genres) USING (GenreId)\n",
    "            LEFT JOIN (SELECT AlbumId, Title         FROM albums) USING (AlbumId)\n",
    "    GROUP BY\n",
    "        AlbumId\n",
    "    HAVING\n",
    "        count(distinct Genre) > 1\n",
    "    )\n",
    "WHERE\n",
    "    t.AlbumId = Ids\n",
    "GROUP BY\n",
    "    t.AlbumId, t.Genre\n",
    "LIMIT \n",
    "    10\n"
   ]
  },
  {
   "cell_type": "code",
   "execution_count": 7,
   "metadata": {},
   "outputs": [
    {
     "name": "stdout",
     "output_type": "stream",
     "text": [
      " * sqlite:///chinook.db\n",
      "Done.\n"
     ]
    },
    {
     "data": {
      "text/html": [
       "<table>\n",
       "    <thead>\n",
       "        <tr>\n",
       "            <th>AlbumId</th>\n",
       "        </tr>\n",
       "    </thead>\n",
       "    <tbody>\n",
       "        <tr>\n",
       "            <td>73</td>\n",
       "        </tr>\n",
       "        <tr>\n",
       "            <td>102</td>\n",
       "        </tr>\n",
       "        <tr>\n",
       "            <td>109</td>\n",
       "        </tr>\n",
       "        <tr>\n",
       "            <td>112</td>\n",
       "        </tr>\n",
       "        <tr>\n",
       "            <td>141</td>\n",
       "        </tr>\n",
       "        <tr>\n",
       "            <td>227</td>\n",
       "        </tr>\n",
       "        <tr>\n",
       "            <td>228</td>\n",
       "        </tr>\n",
       "        <tr>\n",
       "            <td>229</td>\n",
       "        </tr>\n",
       "        <tr>\n",
       "            <td>231</td>\n",
       "        </tr>\n",
       "        <tr>\n",
       "            <td>251</td>\n",
       "        </tr>\n",
       "        <tr>\n",
       "            <td>261</td>\n",
       "        </tr>\n",
       "    </tbody>\n",
       "</table>"
      ],
      "text/plain": [
       "[(73,),\n",
       " (102,),\n",
       " (109,),\n",
       " (112,),\n",
       " (141,),\n",
       " (227,),\n",
       " (228,),\n",
       " (229,),\n",
       " (231,),\n",
       " (251,),\n",
       " (261,)]"
      ]
     },
     "execution_count": 7,
     "metadata": {},
     "output_type": "execute_result"
    }
   ],
   "source": [
    "%%sql\n",
    "--\n",
    "SELECT \n",
    "    AlbumId\n",
    "FROM\n",
    "    tracks LEFT JOIN (SELECT GenreId, Name AS Genre FROM genres) USING (GenreId)\n",
    "           LEFT JOIN (SELECT AlbumId, Title         FROM albums) USING (AlbumId)\n",
    "GROUP BY\n",
    "    AlbumId\n",
    "HAVING \n",
    "    count(distinct Genre) > 1"
   ]
  },
  {
   "cell_type": "raw",
   "metadata": {},
   "source": [
    "%%sql\n",
    "--\n",
    "SELECT\n",
    "    AlbumId, Title, group_concat(distinct Genre) AS Genres, count(TrackId) AS NumOfTracks\n",
    "FROM\n",
    "    tracks LEFT JOIN (SELECT GenreId, Name AS Genre FROM genres)\n",
    "        USING (GenreId)\n",
    "        LEFT JOIN(SELECT AlbumId, Title FROM albums)\n",
    "        USING (AlbumId)\n",
    "GROUP BY AlbumId\n",
    "having count(distinct Genre) > 1\n",
    "order by AlbumId"
   ]
  },
  {
   "cell_type": "markdown",
   "metadata": {
    "id": "Bu60tw0tADem"
   },
   "source": [
    "## Задание 5\n",
    "Для каждого артиста (таблицы Artists), у которых есть песни нескольких жанров, найти жанр, по которому он заработал наибольшее количество денег, а также вывести соотношение суммы, заработанной артистом по этому жанру к общей сумме заработанных денег. Если по нескольким жанрам заработано одинаковое количество денег, максимальное для артиста, то выбирается жанр раньше по алфавиту. Формат вывода: артист, жанр, соотношение."
   ]
  },
  {
   "cell_type": "code",
   "execution_count": 31,
   "metadata": {
    "id": "fwHo7Ro2WOg0"
   },
   "outputs": [
    {
     "name": "stdout",
     "output_type": "stream",
     "text": [
      " * sqlite:///chinook.db\n",
      "Done.\n"
     ]
    },
    {
     "data": {
      "text/html": [
       "<table>\n",
       "    <thead>\n",
       "        <tr>\n",
       "            <th>Artist</th>\n",
       "            <th>Genre</th>\n",
       "            <th>Max</th>\n",
       "            <th>Ratio</th>\n",
       "        </tr>\n",
       "    </thead>\n",
       "    <tbody>\n",
       "        <tr>\n",
       "            <td>Audioslave</td>\n",
       "            <td>Alternative</td>\n",
       "            <td>13.860000000000001</td>\n",
       "            <td>0.35000000000000003</td>\n",
       "        </tr>\n",
       "        <tr>\n",
       "            <td>Faith No More</td>\n",
       "            <td>Alternative &amp; Punk</td>\n",
       "            <td>36.62999999999999</td>\n",
       "            <td>0.7115384615384615</td>\n",
       "        </tr>\n",
       "        <tr>\n",
       "            <td>R.E.M.</td>\n",
       "            <td>Alternative &amp; Punk</td>\n",
       "            <td>26.729999999999986</td>\n",
       "            <td>0.6585365853658535</td>\n",
       "        </tr>\n",
       "        <tr>\n",
       "            <td>Eric Clapton</td>\n",
       "            <td>Blues</td>\n",
       "            <td>31.67999999999998</td>\n",
       "            <td>0.6666666666666665</td>\n",
       "        </tr>\n",
       "        <tr>\n",
       "            <td>Heroes</td>\n",
       "            <td>Drama</td>\n",
       "            <td>39.8</td>\n",
       "            <td>0.8695652173913043</td>\n",
       "        </tr>\n",
       "        <tr>\n",
       "            <td>Jamiroquai</td>\n",
       "            <td>Electronica/Dance</td>\n",
       "            <td>10.89</td>\n",
       "            <td>0.34375</td>\n",
       "        </tr>\n",
       "        <tr>\n",
       "            <td>Antônio Carlos Jobim</td>\n",
       "            <td>Latin</td>\n",
       "            <td>16.830000000000002</td>\n",
       "            <td>0.5483870967741935</td>\n",
       "        </tr>\n",
       "        <tr>\n",
       "            <td>Gilberto Gil</td>\n",
       "            <td>Latin</td>\n",
       "            <td>14.850000000000001</td>\n",
       "            <td>0.46875000000000006</td>\n",
       "        </tr>\n",
       "        <tr>\n",
       "            <td>Various Artists</td>\n",
       "            <td>Latin</td>\n",
       "            <td>27.719999999999985</td>\n",
       "            <td>0.4999999999999999</td>\n",
       "        </tr>\n",
       "        <tr>\n",
       "            <td>Iron Maiden</td>\n",
       "            <td>Metal</td>\n",
       "            <td>94.04999999999988</td>\n",
       "            <td>0.4460093896713613</td>\n",
       "        </tr>\n",
       "    </tbody>\n",
       "</table>"
      ],
      "text/plain": [
       "[('Audioslave', 'Alternative', 13.860000000000001, 0.35000000000000003),\n",
       " ('Faith No More', 'Alternative & Punk', 36.62999999999999, 0.7115384615384615),\n",
       " ('R.E.M.', 'Alternative & Punk', 26.729999999999986, 0.6585365853658535),\n",
       " ('Eric Clapton', 'Blues', 31.67999999999998, 0.6666666666666665),\n",
       " ('Heroes', 'Drama', 39.8, 0.8695652173913043),\n",
       " ('Jamiroquai', 'Electronica/Dance', 10.89, 0.34375),\n",
       " ('Antônio Carlos Jobim', 'Latin', 16.830000000000002, 0.5483870967741935),\n",
       " ('Gilberto Gil', 'Latin', 14.850000000000001, 0.46875000000000006),\n",
       " ('Various Artists', 'Latin', 27.719999999999985, 0.4999999999999999),\n",
       " ('Iron Maiden', 'Metal', 94.04999999999988, 0.4460093896713613)]"
      ]
     },
     "execution_count": 31,
     "metadata": {},
     "output_type": "execute_result"
    }
   ],
   "source": [
    "%%sql\n",
    "SELECT \n",
    "    Artist, Genre, max(Sum) AS Max, max(Sum) / sum(Sum) AS Ratio\n",
    "FROM\n",
    "    (\n",
    "    SELECT\n",
    "        Artist, Genre, sum(UnitPrice) AS Sum\n",
    "    FROM\n",
    "        (\n",
    "        SELECT\n",
    "            ArtistId\n",
    "        FROM\n",
    "            tracks LEFT JOIN (SELECT GenreId, Name AS Genre   FROM genres )  USING (GenreId) \n",
    "                   LEFT JOIN (SELECT AlbumId, Title, ArtistId FROM albums)   USING (AlbumId)\n",
    "                   LEFT JOIN (SELECT ArtistId, Name AS Artist FROM artists)  USING (ArtistId)\n",
    "        GROUP BY \n",
    "            ArtistId\n",
    "        HAVING \n",
    "            count(distinct Genre) > 1\n",
    "        ) ids,\n",
    "        (\n",
    "        SELECT\n",
    "            *\n",
    "       FROM\n",
    "           tracks\n",
    "               LEFT JOIN (SELECT GenreId, Name AS Genre   FROM genres)  USING (GenreId)\n",
    "               LEFT JOIN (SELECT AlbumId, Title, ArtistId FROM albums)  USING (AlbumId)\n",
    "               LEFT JOIN (SELECT ArtistId, Name AS Artist FROM artists) USING (ArtistId)\n",
    "        ) t\n",
    "    WHERE\n",
    "        t.ArtistId = ids.ArtistId\n",
    "    GROUP BY \n",
    "        t.ArtistId, t.Genre\n",
    "    )\n",
    "GROUP BY\n",
    "    Artist\n",
    "ORDER BY \n",
    "    Genre  ASC,\n",
    "    Artist ASC \n",
    "LIMIT 10"
   ]
  },
  {
   "cell_type": "code",
   "execution_count": 13,
   "metadata": {},
   "outputs": [
    {
     "name": "stdout",
     "output_type": "stream",
     "text": [
      " * sqlite:///chinook.db\n",
      "Done.\n"
     ]
    },
    {
     "data": {
      "text/html": [
       "<table>\n",
       "    <thead>\n",
       "        <tr>\n",
       "            <th>Artist</th>\n",
       "            <th>Genre</th>\n",
       "            <th>count(distinct TrackId)</th>\n",
       "            <th>Sum</th>\n",
       "        </tr>\n",
       "    </thead>\n",
       "    <tbody>\n",
       "        <tr>\n",
       "            <td>Antônio Carlos Jobim</td>\n",
       "            <td>Jazz</td>\n",
       "            <td>14</td>\n",
       "            <td>13.860000000000001</td>\n",
       "        </tr>\n",
       "        <tr>\n",
       "            <td>Antônio Carlos Jobim</td>\n",
       "            <td>Latin</td>\n",
       "            <td>17</td>\n",
       "            <td>16.830000000000002</td>\n",
       "        </tr>\n",
       "        <tr>\n",
       "            <td>Audioslave</td>\n",
       "            <td>Alternative</td>\n",
       "            <td>14</td>\n",
       "            <td>13.860000000000001</td>\n",
       "        </tr>\n",
       "        <tr>\n",
       "            <td>Audioslave</td>\n",
       "            <td>Alternative &amp; Punk</td>\n",
       "            <td>12</td>\n",
       "            <td>11.88</td>\n",
       "        </tr>\n",
       "        <tr>\n",
       "            <td>Audioslave</td>\n",
       "            <td>Rock</td>\n",
       "            <td>14</td>\n",
       "            <td>13.860000000000001</td>\n",
       "        </tr>\n",
       "        <tr>\n",
       "            <td>Various Artists</td>\n",
       "            <td>Latin</td>\n",
       "            <td>28</td>\n",
       "            <td>27.719999999999985</td>\n",
       "        </tr>\n",
       "        <tr>\n",
       "            <td>Various Artists</td>\n",
       "            <td>Pop</td>\n",
       "            <td>14</td>\n",
       "            <td>13.860000000000001</td>\n",
       "        </tr>\n",
       "        <tr>\n",
       "            <td>Various Artists</td>\n",
       "            <td>Soundtrack</td>\n",
       "            <td>14</td>\n",
       "            <td>13.860000000000001</td>\n",
       "        </tr>\n",
       "        <tr>\n",
       "            <td>Gilberto Gil</td>\n",
       "            <td>Jazz</td>\n",
       "            <td>3</td>\n",
       "            <td>2.9699999999999998</td>\n",
       "        </tr>\n",
       "        <tr>\n",
       "            <td>Gilberto Gil</td>\n",
       "            <td>Latin</td>\n",
       "            <td>15</td>\n",
       "            <td>14.850000000000001</td>\n",
       "        </tr>\n",
       "    </tbody>\n",
       "</table>"
      ],
      "text/plain": [
       "[('Antônio Carlos Jobim', 'Jazz', 14, 13.860000000000001),\n",
       " ('Antônio Carlos Jobim', 'Latin', 17, 16.830000000000002),\n",
       " ('Audioslave', 'Alternative', 14, 13.860000000000001),\n",
       " ('Audioslave', 'Alternative & Punk', 12, 11.88),\n",
       " ('Audioslave', 'Rock', 14, 13.860000000000001),\n",
       " ('Various Artists', 'Latin', 28, 27.719999999999985),\n",
       " ('Various Artists', 'Pop', 14, 13.860000000000001),\n",
       " ('Various Artists', 'Soundtrack', 14, 13.860000000000001),\n",
       " ('Gilberto Gil', 'Jazz', 3, 2.9699999999999998),\n",
       " ('Gilberto Gil', 'Latin', 15, 14.850000000000001)]"
      ]
     },
     "execution_count": 13,
     "metadata": {},
     "output_type": "execute_result"
    }
   ],
   "source": [
    "%%sql\n",
    "--\n",
    "SELECT\n",
    "    Artist, Genre, count(distinct TrackId), sum(UnitPrice) AS Sum\n",
    "FROM\n",
    "    (\n",
    "    SELECT\n",
    "        ArtistId\n",
    "    FROM\n",
    "        tracks\n",
    "            LEFT JOIN (SELECT GenreId, Name AS Genre   FROM genres)  USING (GenreId)\n",
    "            LEFT JOIN (SELECT AlbumId, Title, ArtistId FROM albums)  USING (AlbumId)\n",
    "            LEFT JOIN (SELECT ArtistId, Name AS Artist FROM artists) USING (ArtistId)\n",
    "    GROUP BY\n",
    "        ArtistId\n",
    "    HAVING \n",
    "        count(distinct Genre) > 1) ids,\n",
    "    (\n",
    "    SELECT\n",
    "        *\n",
    "    FROM\n",
    "        tracks\n",
    "            LEFT JOIN (SELECT GenreId, Name AS Genre   FROM genres)  USING (GenreId)\n",
    "            LEFT JOIN (SELECT AlbumId, Title, ArtistId FROM albums)  USING (AlbumId)\n",
    "            LEFT JOIN (SELECT ArtistId, Name AS Artist FROM artists) USING (ArtistId)\n",
    "    ) t\n",
    "WHERE\n",
    "    t.ArtistId = ids.ArtistId\n",
    "GROUP BY\n",
    "    t.ArtistId, t.Genre\n",
    "LIMIT \n",
    "    10"
   ]
  }
 ],
 "metadata": {
  "colab": {
   "collapsed_sections": [],
   "provenance": [
    {
     "file_id": "19JOx_LfMt2SgIO5TvfOzYcv1CcCBzPR2",
     "timestamp": 1666365391514
    }
   ]
  },
  "kernelspec": {
   "display_name": "base",
   "language": "python",
   "name": "python3"
  },
  "language_info": {
   "codemirror_mode": {
    "name": "ipython",
    "version": 3
   },
   "file_extension": ".py",
   "mimetype": "text/x-python",
   "name": "python",
   "nbconvert_exporter": "python",
   "pygments_lexer": "ipython3",
   "version": "3.9.13"
  },
  "vscode": {
   "interpreter": {
    "hash": "6ab56d11b4cf3e03d7f332440c2c92d1ca556039c60f4ee8d632b8580b2537bf"
   }
  }
 },
 "nbformat": 4,
 "nbformat_minor": 1
}
