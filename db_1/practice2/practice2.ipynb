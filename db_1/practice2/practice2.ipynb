{
 "cells": [
  {
   "cell_type": "code",
   "execution_count": 1,
   "metadata": {
    "colab": {
     "base_uri": "https://localhost:8080/",
     "height": 35
    },
    "executionInfo": {
     "elapsed": 18,
     "status": "ok",
     "timestamp": 1633442160338,
     "user": {
      "displayName": "Alexander F",
      "photoUrl": "https://lh3.googleusercontent.com/a/default-user=s64",
      "userId": "00383436763330758578"
     },
     "user_tz": -180
    },
    "id": "exFkotWz7Lk_",
    "outputId": "37ed4d1b-f970-4e49-b4ce-a0ae90158c8d"
   },
   "outputs": [
    {
     "data": {
      "text/plain": [
       "'Connected: @chinook.db'"
      ]
     },
     "execution_count": 1,
     "metadata": {},
     "output_type": "execute_result"
    }
   ],
   "source": [
    "%load_ext sql\n",
    "%sql sqlite:///chinook.db"
   ]
  },
  {
   "cell_type": "markdown",
   "metadata": {
    "id": "IwJ_E91n7LlD"
   },
   "source": [
    "## Задание 1\n",
    "Вывести названия всех групп, их песен и названия их альбомов для всех треков жанра Rock, приобретенные сотрудниками Microsoft\n"
   ]
  },
  {
   "cell_type": "code",
   "execution_count": 10,
   "metadata": {
    "id": "9b5SWBYUCqmy"
   },
   "outputs": [
    {
     "name": "stdout",
     "output_type": "stream",
     "text": [
      " * sqlite:///chinook.db\n",
      "Done.\n"
     ]
    },
    {
     "data": {
      "text/html": [
       "<table>\n",
       "    <thead>\n",
       "        <tr>\n",
       "            <th>Artist</th>\n",
       "            <th>TrackName</th>\n",
       "            <th>Title</th>\n",
       "        </tr>\n",
       "    </thead>\n",
       "    <tbody>\n",
       "        <tr>\n",
       "            <td>Foo Fighters</td>\n",
       "            <td>No Way Back</td>\n",
       "            <td>In Your Honor [Disc 1]</td>\n",
       "        </tr>\n",
       "        <tr>\n",
       "            <td>Foo Fighters</td>\n",
       "            <td>Still</td>\n",
       "            <td>In Your Honor [Disc 2]</td>\n",
       "        </tr>\n",
       "        <tr>\n",
       "            <td>Foo Fighters</td>\n",
       "            <td>Razor</td>\n",
       "            <td>In Your Honor [Disc 2]</td>\n",
       "        </tr>\n",
       "        <tr>\n",
       "            <td>Foo Fighters</td>\n",
       "            <td>My Hero</td>\n",
       "            <td>The Colour And The Shape</td>\n",
       "        </tr>\n",
       "        <tr>\n",
       "            <td>Guns N&#x27; Roses</td>\n",
       "            <td>Double Talkin&#x27; Jive</td>\n",
       "            <td>Use Your Illusion I</td>\n",
       "        </tr>\n",
       "        <tr>\n",
       "            <td>Guns N&#x27; Roses</td>\n",
       "            <td>The Garden</td>\n",
       "            <td>Use Your Illusion I</td>\n",
       "        </tr>\n",
       "        <tr>\n",
       "            <td>Guns N&#x27; Roses</td>\n",
       "            <td>Don&#x27;t Damn Me</td>\n",
       "            <td>Use Your Illusion I</td>\n",
       "        </tr>\n",
       "        <tr>\n",
       "            <td>Guns N&#x27; Roses</td>\n",
       "            <td>Dead Horse</td>\n",
       "            <td>Use Your Illusion I</td>\n",
       "        </tr>\n",
       "    </tbody>\n",
       "</table>"
      ],
      "text/plain": [
       "[('Foo Fighters', 'No Way Back', 'In Your Honor [Disc 1]'),\n",
       " ('Foo Fighters', 'Still', 'In Your Honor [Disc 2]'),\n",
       " ('Foo Fighters', 'Razor', 'In Your Honor [Disc 2]'),\n",
       " ('Foo Fighters', 'My Hero', 'The Colour And The Shape'),\n",
       " (\"Guns N' Roses\", \"Double Talkin' Jive\", 'Use Your Illusion I'),\n",
       " (\"Guns N' Roses\", 'The Garden', 'Use Your Illusion I'),\n",
       " (\"Guns N' Roses\", \"Don't Damn Me\", 'Use Your Illusion I'),\n",
       " (\"Guns N' Roses\", 'Dead Horse', 'Use Your Illusion I')]"
      ]
     },
     "execution_count": 10,
     "metadata": {},
     "output_type": "execute_result"
    }
   ],
   "source": [
    "%%sql\n",
    "--\n",
    "SELECT \n",
    "    Artist, Name AS TrackName, Title\n",
    "FROM\n",
    "    tracks t \n",
    "        LEFT JOIN (SELECT AlbumId, Title, ArtistId  FROM albums)  USING (AlbumId)\n",
    "        LEFT JOIN (SELECT ArtistId, Name AS Artist  FROM artists) USING (ArtistId),\n",
    "    (\n",
    "        SELECT\n",
    "            TrackId\n",
    "        FROM\n",
    "            tracks LEFT JOIN (SELECT GenreId, Name AS Genre FROM genres WHERE Name LIKE '%Rock%') USING (GenreId)\n",
    "        WHERE\n",
    "            (Genre IS NOT null)\n",
    "        --\n",
    "        INTERSECT\n",
    "        --\n",
    "        SELECT \n",
    "            TrackId\n",
    "        FROM\n",
    "            customers LEFT JOIN (SELECT CustomerId, InvoiceId FROM invoices)      USING (CustomerId)\n",
    "                      LEFT JOIN (SELECT TrackId, InvoiceId    FROM invoice_items) USING (InvoiceId)\n",
    "        WHERE\n",
    "            (Company LIKE '%Microsoft%')\n",
    "    ) sum\n",
    "WHERE\n",
    "    t.TrackId == sum.TrackId\n",
    "    "
   ]
  },
  {
   "cell_type": "markdown",
   "metadata": {
    "id": "eEAq-gUB7LlF"
   },
   "source": [
    "## Задание 2\n",
    "Вывести 20 самых больших по размеру треков жанра Blues и формата MPEG (используйте команду LIMIT 10)\n"
   ]
  },
  {
   "cell_type": "code",
   "execution_count": 7,
   "metadata": {
    "id": "LQxLAdI3CrDC"
   },
   "outputs": [
    {
     "name": "stdout",
     "output_type": "stream",
     "text": [
      " * sqlite:///chinook.db\n",
      "Done.\n"
     ]
    },
    {
     "data": {
      "text/html": [
       "<table>\n",
       "    <thead>\n",
       "        <tr>\n",
       "            <th>TrackId</th>\n",
       "            <th>Name</th>\n",
       "            <th>AlbumId</th>\n",
       "            <th>Composer</th>\n",
       "            <th>Milliseconds</th>\n",
       "            <th>Bytes</th>\n",
       "        </tr>\n",
       "    </thead>\n",
       "    <tbody>\n",
       "        <tr>\n",
       "            <td>204</td>\n",
       "            <td>Talkin&#x27; &#x27;Bout Women Obviously</td>\n",
       "            <td>20</td>\n",
       "            <td>Amos Blakemore/Buddy Guy</td>\n",
       "            <td>589531</td>\n",
       "            <td>19161377</td>\n",
       "        </tr>\n",
       "        <tr>\n",
       "            <td>2541</td>\n",
       "            <td>Riviera Paradise</td>\n",
       "            <td>205</td>\n",
       "            <td>Stevie Ray Vaughan</td>\n",
       "            <td>528692</td>\n",
       "            <td>17232776</td>\n",
       "        </tr>\n",
       "        <tr>\n",
       "            <td>2584</td>\n",
       "            <td>Title Song</td>\n",
       "            <td>210</td>\n",
       "            <td>Chris Robinson/Rich Robinson</td>\n",
       "            <td>505521</td>\n",
       "            <td>16501316</td>\n",
       "        </tr>\n",
       "        <tr>\n",
       "            <td>921</td>\n",
       "            <td>Old Love</td>\n",
       "            <td>73</td>\n",
       "            <td>Eric Clapton, Robert Cray</td>\n",
       "            <td>472920</td>\n",
       "            <td>15780747</td>\n",
       "        </tr>\n",
       "        <tr>\n",
       "            <td>2579</td>\n",
       "            <td>Wiser Time</td>\n",
       "            <td>209</td>\n",
       "            <td>Chris Robinson/Rich Robinson</td>\n",
       "            <td>459990</td>\n",
       "            <td>15161907</td>\n",
       "        </tr>\n",
       "        <tr>\n",
       "            <td>196</td>\n",
       "            <td>Stone Crazy</td>\n",
       "            <td>20</td>\n",
       "            <td>Buddy Guy</td>\n",
       "            <td>433397</td>\n",
       "            <td>14184984</td>\n",
       "        </tr>\n",
       "        <tr>\n",
       "            <td>891</td>\n",
       "            <td>Layla</td>\n",
       "            <td>72</td>\n",
       "            <td>Clapton/Gordon</td>\n",
       "            <td>430733</td>\n",
       "            <td>14115792</td>\n",
       "        </tr>\n",
       "        <tr>\n",
       "            <td>2580</td>\n",
       "            <td>Girl From A Pawnshop</td>\n",
       "            <td>209</td>\n",
       "            <td>Chris Robinson/Rich Robinson</td>\n",
       "            <td>404688</td>\n",
       "            <td>13250848</td>\n",
       "        </tr>\n",
       "        <tr>\n",
       "            <td>2576</td>\n",
       "            <td>Sometimes Salvation</td>\n",
       "            <td>209</td>\n",
       "            <td>Chris Robinson/Rich Robinson</td>\n",
       "            <td>389146</td>\n",
       "            <td>12749424</td>\n",
       "        </tr>\n",
       "        <tr>\n",
       "            <td>916</td>\n",
       "            <td>Running On Faith</td>\n",
       "            <td>73</td>\n",
       "            <td>Jerry Lynn Williams</td>\n",
       "            <td>378984</td>\n",
       "            <td>12536275</td>\n",
       "        </tr>\n",
       "        <tr>\n",
       "            <td>2583</td>\n",
       "            <td>High Head Blues</td>\n",
       "            <td>210</td>\n",
       "            <td>Chris Robinson/Rich Robinson</td>\n",
       "            <td>371879</td>\n",
       "            <td>12227998</td>\n",
       "        </tr>\n",
       "        <tr>\n",
       "            <td>2578</td>\n",
       "            <td>Miracle To Me</td>\n",
       "            <td>209</td>\n",
       "            <td>Chris Robinson/Rich Robinson</td>\n",
       "            <td>372636</td>\n",
       "            <td>12222116</td>\n",
       "        </tr>\n",
       "        <tr>\n",
       "            <td>2577</td>\n",
       "            <td>Cursed Diamonds</td>\n",
       "            <td>209</td>\n",
       "            <td>Chris Robinson/Rich Robinson</td>\n",
       "            <td>368300</td>\n",
       "            <td>12047978</td>\n",
       "        </tr>\n",
       "        <tr>\n",
       "            <td>2585</td>\n",
       "            <td>She Talks To Angels</td>\n",
       "            <td>210</td>\n",
       "            <td>Chris Robinson/Rich Robinson</td>\n",
       "            <td>361978</td>\n",
       "            <td>11837342</td>\n",
       "        </tr>\n",
       "        <tr>\n",
       "            <td>2582</td>\n",
       "            <td>Black Moon Creeping</td>\n",
       "            <td>210</td>\n",
       "            <td>Chris Robinson/Rich Robinson</td>\n",
       "            <td>359314</td>\n",
       "            <td>11740886</td>\n",
       "        </tr>\n",
       "        <tr>\n",
       "            <td>2538</td>\n",
       "            <td>Wall Of Denial</td>\n",
       "            <td>205</td>\n",
       "            <td>Doyle Bramhall/Stevie Ray Vaughan</td>\n",
       "            <td>336927</td>\n",
       "            <td>11085915</td>\n",
       "        </tr>\n",
       "        <tr>\n",
       "            <td>2590</td>\n",
       "            <td>Remedy</td>\n",
       "            <td>210</td>\n",
       "            <td>Chris Robinson/Rich Robinson</td>\n",
       "            <td>337084</td>\n",
       "            <td>11049098</td>\n",
       "        </tr>\n",
       "        <tr>\n",
       "            <td>913</td>\n",
       "            <td>Lonely Stranger</td>\n",
       "            <td>73</td>\n",
       "            <td>Eric Clapton</td>\n",
       "            <td>328724</td>\n",
       "            <td>10894406</td>\n",
       "        </tr>\n",
       "        <tr>\n",
       "            <td>2587</td>\n",
       "            <td>Lickin&#x27;</td>\n",
       "            <td>210</td>\n",
       "            <td>Chris Robinson/Rich Robinson</td>\n",
       "            <td>314409</td>\n",
       "            <td>10331216</td>\n",
       "        </tr>\n",
       "        <tr>\n",
       "            <td>1272</td>\n",
       "            <td>05 - Phantom of the Opera</td>\n",
       "            <td>100</td>\n",
       "            <td>Steve Harris</td>\n",
       "            <td>428016</td>\n",
       "            <td>10276872</td>\n",
       "        </tr>\n",
       "    </tbody>\n",
       "</table>"
      ],
      "text/plain": [
       "[(204, \"Talkin' 'Bout Women Obviously\", 20, 'Amos Blakemore/Buddy Guy', 589531, 19161377),\n",
       " (2541, 'Riviera Paradise', 205, 'Stevie Ray Vaughan', 528692, 17232776),\n",
       " (2584, 'Title Song', 210, 'Chris Robinson/Rich Robinson', 505521, 16501316),\n",
       " (921, 'Old Love', 73, 'Eric Clapton, Robert Cray', 472920, 15780747),\n",
       " (2579, 'Wiser Time', 209, 'Chris Robinson/Rich Robinson', 459990, 15161907),\n",
       " (196, 'Stone Crazy', 20, 'Buddy Guy', 433397, 14184984),\n",
       " (891, 'Layla', 72, 'Clapton/Gordon', 430733, 14115792),\n",
       " (2580, 'Girl From A Pawnshop', 209, 'Chris Robinson/Rich Robinson', 404688, 13250848),\n",
       " (2576, 'Sometimes Salvation', 209, 'Chris Robinson/Rich Robinson', 389146, 12749424),\n",
       " (916, 'Running On Faith', 73, 'Jerry Lynn Williams', 378984, 12536275),\n",
       " (2583, 'High Head Blues', 210, 'Chris Robinson/Rich Robinson', 371879, 12227998),\n",
       " (2578, 'Miracle To Me', 209, 'Chris Robinson/Rich Robinson', 372636, 12222116),\n",
       " (2577, 'Cursed Diamonds', 209, 'Chris Robinson/Rich Robinson', 368300, 12047978),\n",
       " (2585, 'She Talks To Angels', 210, 'Chris Robinson/Rich Robinson', 361978, 11837342),\n",
       " (2582, 'Black Moon Creeping', 210, 'Chris Robinson/Rich Robinson', 359314, 11740886),\n",
       " (2538, 'Wall Of Denial', 205, 'Doyle Bramhall/Stevie Ray Vaughan', 336927, 11085915),\n",
       " (2590, 'Remedy', 210, 'Chris Robinson/Rich Robinson', 337084, 11049098),\n",
       " (913, 'Lonely Stranger', 73, 'Eric Clapton', 328724, 10894406),\n",
       " (2587, \"Lickin'\", 210, 'Chris Robinson/Rich Robinson', 314409, 10331216),\n",
       " (1272, '05 - Phantom of the Opera', 100, 'Steve Harris', 428016, 10276872)]"
      ]
     },
     "execution_count": 7,
     "metadata": {},
     "output_type": "execute_result"
    }
   ],
   "source": [
    "%%sql\n",
    "\n",
    "SELECT\n",
    "    TrackId, Name, AlbumId, Composer, Milliseconds, Bytes\n",
    "FROM\n",
    "    tracks\n",
    "        LEFT JOIN (SELECT GenreId, Name AS Genre         FROM genres      WHERE Name LIKE '%Blues%') USING (GenreId)\n",
    "        LEFT JOIN (SELECT MediaTypeId, Name AS MediaType FROM media_types WHERE Name LIKE '%MPEG%')  USING (MediaTypeId)\n",
    "\n",
    "WHERE \n",
    "    (Genre IS NOT null) AND (MediaType IS NOT null)\n",
    "ORDER BY\n",
    "    Bytes DESC\n",
    "LIMIT\n",
    "    10"
   ]
  },
  {
   "cell_type": "markdown",
   "metadata": {
    "id": "0mmLXQXr7LlG"
   },
   "source": [
    "## Задание 3\n",
    "Для каждой компании вывести общее количество купленных джазовых композиций\n"
   ]
  },
  {
   "cell_type": "code",
   "execution_count": 6,
   "metadata": {
    "id": "9kcvxk8OCrby"
   },
   "outputs": [
    {
     "name": "stdout",
     "output_type": "stream",
     "text": [
      " * sqlite:///chinook.db\n",
      "Done.\n"
     ]
    },
    {
     "data": {
      "text/html": [
       "<table>\n",
       "    <thead>\n",
       "        <tr>\n",
       "            <th>Company</th>\n",
       "            <th>count(Genre)</th>\n",
       "        </tr>\n",
       "    </thead>\n",
       "    <tbody>\n",
       "        <tr>\n",
       "            <td>Apple Inc.</td>\n",
       "            <td>2</td>\n",
       "        </tr>\n",
       "        <tr>\n",
       "            <td>Google Inc.</td>\n",
       "            <td>2</td>\n",
       "        </tr>\n",
       "        <tr>\n",
       "            <td>JetBrains s.r.o.</td>\n",
       "            <td>3</td>\n",
       "        </tr>\n",
       "        <tr>\n",
       "            <td>Microsoft Corporation</td>\n",
       "            <td>2</td>\n",
       "        </tr>\n",
       "        <tr>\n",
       "            <td>Telus</td>\n",
       "            <td>2</td>\n",
       "        </tr>\n",
       "    </tbody>\n",
       "</table>"
      ],
      "text/plain": [
       "[('Apple Inc.', 2),\n",
       " ('Google Inc.', 2),\n",
       " ('JetBrains s.r.o.', 3),\n",
       " ('Microsoft Corporation', 2),\n",
       " ('Telus', 2)]"
      ]
     },
     "execution_count": 6,
     "metadata": {},
     "output_type": "execute_result"
    }
   ],
   "source": [
    "%%sql\n",
    "--\n",
    "SELECT\n",
    "    Company, count(Genre)\n",
    "FROM\n",
    "    customers\n",
    "        LEFT JOIN (SELECT CustomerId, InvoiceId  FROM invoices)      USING (CustomerId)\n",
    "        LEFT JOIN (SELECT InvoiceId,   TrackId   FROM invoice_items) USING (InvoiceId)\n",
    "        LEFT JOIN (SELECT TrackId,     GenreId   FROM tracks)        USING (TrackId)\n",
    "        LEFT JOIN (SELECT GenreId, Name AS Genre FROM genres)        USING (GenreId)\n",
    "WHERE \n",
    "    (Company IS NOT null) AND (Genre LIKE '%Jazz%')\n",
    "GROUP BY Company"
   ]
  },
  {
   "cell_type": "markdown",
   "metadata": {
    "id": "M2JDkqnT7LlG"
   },
   "source": [
    "## Задание 4\n",
    "Для каждой компании вывести общее число заказов их клиентов\n"
   ]
  },
  {
   "cell_type": "code",
   "execution_count": 5,
   "metadata": {
    "id": "isEzp0r0Crzy"
   },
   "outputs": [
    {
     "name": "stdout",
     "output_type": "stream",
     "text": [
      " * sqlite:///chinook.db\n",
      "Done.\n"
     ]
    },
    {
     "data": {
      "text/html": [
       "<table>\n",
       "    <thead>\n",
       "        <tr>\n",
       "            <th>Company</th>\n",
       "            <th>count(InvoiceId)</th>\n",
       "        </tr>\n",
       "    </thead>\n",
       "    <tbody>\n",
       "        <tr>\n",
       "            <td>Apple Inc.</td>\n",
       "            <td>7</td>\n",
       "        </tr>\n",
       "        <tr>\n",
       "            <td>Banco do Brasil S.A.</td>\n",
       "            <td>7</td>\n",
       "        </tr>\n",
       "        <tr>\n",
       "            <td>Embraer - Empresa Brasileira de Aeronáutica S.A.</td>\n",
       "            <td>7</td>\n",
       "        </tr>\n",
       "        <tr>\n",
       "            <td>Google Inc.</td>\n",
       "            <td>7</td>\n",
       "        </tr>\n",
       "        <tr>\n",
       "            <td>JetBrains s.r.o.</td>\n",
       "            <td>7</td>\n",
       "        </tr>\n",
       "        <tr>\n",
       "            <td>Microsoft Corporation</td>\n",
       "            <td>7</td>\n",
       "        </tr>\n",
       "        <tr>\n",
       "            <td>Riotur</td>\n",
       "            <td>7</td>\n",
       "        </tr>\n",
       "        <tr>\n",
       "            <td>Rogers Canada</td>\n",
       "            <td>7</td>\n",
       "        </tr>\n",
       "        <tr>\n",
       "            <td>Telus</td>\n",
       "            <td>7</td>\n",
       "        </tr>\n",
       "        <tr>\n",
       "            <td>Woodstock Discos</td>\n",
       "            <td>7</td>\n",
       "        </tr>\n",
       "    </tbody>\n",
       "</table>"
      ],
      "text/plain": [
       "[('Apple Inc.', 7),\n",
       " ('Banco do Brasil S.A.', 7),\n",
       " ('Embraer - Empresa Brasileira de Aeronáutica S.A.', 7),\n",
       " ('Google Inc.', 7),\n",
       " ('JetBrains s.r.o.', 7),\n",
       " ('Microsoft Corporation', 7),\n",
       " ('Riotur', 7),\n",
       " ('Rogers Canada', 7),\n",
       " ('Telus', 7),\n",
       " ('Woodstock Discos', 7)]"
      ]
     },
     "execution_count": 5,
     "metadata": {},
     "output_type": "execute_result"
    }
   ],
   "source": [
    "%%sql\n",
    "SELECT\n",
    "    Company, count(InvoiceId)\n",
    "FROM\n",
    "    customers\n",
    "        LEFT JOIN (SELECT CustomerId, InvoiceId FROM invoices) USING (CustomerId)\n",
    "WHERE \n",
    "    (Company IS NOT null)\n",
    "GROUP BY Company"
   ]
  },
  {
   "cell_type": "markdown",
   "metadata": {
    "id": "Ni7Mi7ur7LlH"
   },
   "source": [
    "## Задание 5\n",
    "Для каждого набора (жанр, тип медиа) вывести среднюю цену по стоимости трека и общее количество, причем вывести только те наборы, для которых **все** треки стоят больше 1,5$ и для которых в наборе есть хотя бы один трек"
   ]
  },
  {
   "cell_type": "code",
   "execution_count": 9,
   "metadata": {
    "id": "TooWokIqCsIi"
   },
   "outputs": [
    {
     "name": "stdout",
     "output_type": "stream",
     "text": [
      " * sqlite:///chinook.db\n",
      "Done.\n"
     ]
    },
    {
     "data": {
      "text/html": [
       "<table>\n",
       "    <thead>\n",
       "        <tr>\n",
       "            <th>Genre</th>\n",
       "            <th>AvgPrice</th>\n",
       "            <th>Num</th>\n",
       "        </tr>\n",
       "    </thead>\n",
       "    <tbody>\n",
       "        <tr>\n",
       "            <td>Comedy</td>\n",
       "            <td>1.9899999999999995</td>\n",
       "            <td>17</td>\n",
       "        </tr>\n",
       "        <tr>\n",
       "            <td>Drama</td>\n",
       "            <td>1.9899999999999978</td>\n",
       "            <td>64</td>\n",
       "        </tr>\n",
       "        <tr>\n",
       "            <td>Sci Fi &amp; Fantasy</td>\n",
       "            <td>1.9900000000000004</td>\n",
       "            <td>26</td>\n",
       "        </tr>\n",
       "        <tr>\n",
       "            <td>Science Fiction</td>\n",
       "            <td>1.9899999999999995</td>\n",
       "            <td>13</td>\n",
       "        </tr>\n",
       "        <tr>\n",
       "            <td>TV Shows</td>\n",
       "            <td>1.990000000000001</td>\n",
       "            <td>93</td>\n",
       "        </tr>\n",
       "    </tbody>\n",
       "</table>"
      ],
      "text/plain": [
       "[('Comedy', 1.9899999999999995, 17),\n",
       " ('Drama', 1.9899999999999978, 64),\n",
       " ('Sci Fi & Fantasy', 1.9900000000000004, 26),\n",
       " ('Science Fiction', 1.9899999999999995, 13),\n",
       " ('TV Shows', 1.990000000000001, 93)]"
      ]
     },
     "execution_count": 9,
     "metadata": {},
     "output_type": "execute_result"
    }
   ],
   "source": [
    "%%sql\n",
    "SELECT\n",
    "    Genre,\n",
    "    avg(UnitPrice) AS AvgPrice,\n",
    "    count(TrackId) AS Num\n",
    "FROM\n",
    "    tracks\n",
    "        LEFT JOIN (SELECT GenreId,     Name AS Genre FROM genres)      USING (GenreId)\n",
    "        LEFT JOIN (SELECT MediaTypeId, Name AS Type  FROM media_types) USING (MediaTypeId)\n",
    "GROUP BY \n",
    "    Genre,\n",
    "    Type\n",
    "HAVING min(UnitPrice) > 1.5"
   ]
  },
  {
   "cell_type": "code",
   "execution_count": null,
   "metadata": {},
   "outputs": [],
   "source": [
    ",,,,,\n"
   ]
  }
 ],
 "metadata": {
  "colab": {
   "collapsed_sections": [],
   "provenance": []
  },
  "kernelspec": {
   "display_name": "base",
   "language": "python",
   "name": "python3"
  },
  "language_info": {
   "codemirror_mode": {
    "name": "ipython",
    "version": 3
   },
   "file_extension": ".py",
   "mimetype": "text/x-python",
   "name": "python",
   "nbconvert_exporter": "python",
   "pygments_lexer": "ipython3",
   "version": "3.9.13"
  },
  "vscode": {
   "interpreter": {
    "hash": "6ab56d11b4cf3e03d7f332440c2c92d1ca556039c60f4ee8d632b8580b2537bf"
   }
  }
 },
 "nbformat": 4,
 "nbformat_minor": 1
}
