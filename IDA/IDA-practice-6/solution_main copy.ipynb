{
 "cells": [
  {
   "cell_type": "markdown",
   "metadata": {},
   "source": [
    "## Практическая работа №6\n",
    "##### Сиразетдинов Рустем (Вариант - 20)"
   ]
  },
  {
   "cell_type": "markdown",
   "metadata": {},
   "source": [
    "Предсказание стоимости медецинской страховки\n",
    "\n",
    "Данные: https://www.kaggle.com/mirichoi0218/insurance"
   ]
  },
  {
   "cell_type": "code",
   "execution_count": null,
   "metadata": {},
   "outputs": [],
   "source": [
    "import numpy as np\n",
    "import pandas as pd\n",
    "import seaborn as sns\n",
    "import matplotlib.pyplot as plt\n",
    "import plotly.express as px\n",
    "import plotly.graph_objects as go\n",
    "from plotly.offline import plot, iplot, init_notebook_mode\n",
    "from sklearn.preprocessing import StandardScaler, PolynomialFeatures\n",
    "from sklearn.decomposition import PCA\n",
    "from sklearn.linear_model import LinearRegression\n",
    "from sklearn.ensemble import GradientBoostingRegressor\n",
    "from sklearn.model_selection import train_test_split, RandomizedSearchCV\n",
    "from sklearn.metrics import r2_score, mean_squared_error\n",
    "import warnings\n",
    "warnings.filterwarnings(\"ignore\")\n",
    "import math\n",
    "\n",
    "# Выгрузка датасета\n",
    "ins = pd.read_csv('C:\\\\Users\\\\averu\\\\Documents\\\\git_local\\\\programming-practice\\\\IDA\\\\IDA-practice-5\\\\insurance.csv')\n",
    "print(\"There are {:,} observations and {} columns in the data set.\".format(ins.shape[0], ins.shape[1]))\n",
    "print(\"There are {} missing values in the data.\".format(ins.isna().sum().sum()))\n",
    "\n",
    "\n",
    "ins['sex'] = ins['sex'].str.capitalize()\n",
    "ins['smoker'] = ins['smoker'].apply(lambda x: 'Smoker' if x=='yes' else 'Non-Smoker')\n",
    "ins['region'] = ins['region'].str.capitalize()"
   ]
  },
  {
   "cell_type": "code",
   "execution_count": null,
   "metadata": {},
   "outputs": [],
   "source": [
    "init_notebook_mode(connected=True)\n",
    "px.defaults.template = \"plotly_white\"\n",
    "plot_df=ins.copy()\n",
    "fig = px.box(plot_df, x=\"region\", y=\"charges\", color=\"region\", \n",
    "             notched=True, points=\"outliers\", height=600,\n",
    "             title=\"\",\n",
    "             color_discrete_sequence=['#B14B51', '#D0A99C', '#5D8370', '#6C839B'])\n",
    "fig.update_traces(marker=dict(size=9, opacity=0.5, line=dict(width=1,color=\"#F7F7F7\")), showlegend=False)\n",
    "fig.update_layout(font_color=\"#303030\", xaxis_title='Region', yaxis_title='Claim Amount, $',\n",
    "                  yaxis=dict(showgrid=True, gridwidth=1, gridcolor='#EAEAEA', zerolinecolor='#EAEAEA'))\n",
    "fig.show()"
   ]
  },
  {
   "cell_type": "markdown",
   "metadata": {},
   "source": [
    "Для каждого региона графики показывают, что страховые сборы положительно искажены с несколькими большими отклонениями. Страховые сборы более изменчивы в Юго-Восточном регионе, который содержит самую высокую претензию в наборе данных - более 63 000 долларов США, а также самую низкую претензию - 1121 доллар США. Северо-Восточный регион имеет самую высокую среднюю стоимость в целом, хотя, поскольку отметки в графиках накладываются друг на друга, средние суммы претензий, вероятно, существенно не отличаются."
   ]
  },
  {
   "cell_type": "code",
   "execution_count": null,
   "metadata": {},
   "outputs": [],
   "source": [
    "ins['female'] = ins['sex'].apply(lambda x: 1 if x=='Female' else 0)\n",
    "ins['smoker_yes'] = ins['smoker'].apply(lambda x: 1 if x=='Smoker' else 0)\n",
    "ins.drop(['sex', 'smoker'], axis=1, inplace=True)\n",
    "\n",
    "sns.set_context(\"notebook\")\n",
    "fig, ax = plt.subplots(figsize=(9,6))   \n",
    "corr=ins.corr()\n",
    "mask=np.triu(np.ones_like(corr, dtype=bool))[1:, :-1]\n",
    "corr=corr.iloc[1:,:-1].copy()\n",
    "ax=sns.heatmap(corr, mask=mask, vmin=-.1, vmax=.9, center=0, annot=True, fmt='.2f', \n",
    "               cmap='ocean', linewidths=4, annot_kws={\"fontsize\":12})\n",
    "ax.set_title('', fontsize=18)\n",
    "ax.set_xticklabels(ax.get_xticklabels(), rotation=45, horizontalalignment='right',fontsize=12)\n",
    "ax.set_yticklabels(ax.get_yticklabels(), fontsize=12)\n",
    "fig.show()"
   ]
  },
  {
   "cell_type": "markdown",
   "metadata": {},
   "source": [
    "Корреляционная матрица показывает, что курильщики имеют сильную положительную связь со страховыми взносами на уровне 0,79, но в целом переменные в наборе данных не слишком сильно коррелируют друг с другом."
   ]
  },
  {
   "cell_type": "markdown",
   "metadata": {},
   "source": [
    "Построение линейной регрессии"
   ]
  },
  {
   "cell_type": "code",
   "execution_count": null,
   "metadata": {},
   "outputs": [],
   "source": [
    "data = pd.read_csv('C:\\\\Users\\\\averu\\\\Documents\\\\git_local\\\\programming-practice\\\\IDA\\\\IDA-practice-5\\\\insurance.csv')\n",
    "\n",
    "data['sex'] = data['sex'].str.capitalize()\n",
    "data['smoker'] = data['smoker'].apply(lambda x: 'Smoker' if x=='yes' else 'Non-Smoker')\n",
    "\n",
    "data['female'] = data['sex'].apply(lambda x: 1 if x=='Female' else 0)\n",
    "data['smoker_yes'] = data['smoker'].apply(lambda x: 1 if x=='Smoker' else 0)\n",
    "\n",
    "\n",
    "region = pd.get_dummies(data['region']) \n",
    "data = pd.concat((data, region), axis=1)\n",
    "data = data.loc[:, data.columns.isin(['age', 'female', 'bmi', 'children' , 'smoker_yes', 'charges', 'northeast', 'northwest','southeast', 'southwest'])]\n",
    "\n",
    "data.head(7)"
   ]
  },
  {
   "cell_type": "markdown",
   "metadata": {},
   "source": [
    "Модель 1. Все признаки присутствуют."
   ]
  },
  {
   "cell_type": "code",
   "execution_count": null,
   "metadata": {},
   "outputs": [],
   "source": [
    "y_train=data.pop('charges')\n",
    "X_train = data.copy()\n",
    "\n",
    "import statsmodels.api as sm\n",
    "X_train_sm = sm.add_constant(X_train)\n",
    "\n",
    "lm= sm.OLS(y_train, X_train_sm).fit()\n",
    "\n",
    "lm.summary()"
   ]
  },
  {
   "cell_type": "markdown",
   "metadata": {},
   "source": [
    "Модель 2. Квадрат признака `bmi`. "
   ]
  },
  {
   "cell_type": "code",
   "execution_count": null,
   "metadata": {},
   "outputs": [],
   "source": [
    "# y_train=data.pop('charges')\n",
    "X_train = data.copy()\n",
    "for i in range(0 , len(X_train['bmi'])):\n",
    "    X_train['bmi'][i] = X_train['bmi'][i] * X_train['bmi'][i]\n",
    "\n",
    "# X_train['bmi'] = list(map(lambda x: x, X_train['bmi']))\n",
    "\n",
    "import statsmodels.api as sm\n",
    "X_train_sm = sm.add_constant(X_train)\n",
    "\n",
    "bmi_sq= sm.OLS(y_train, X_train_sm).fit()\n",
    "\n",
    "bmi_sq.summary()"
   ]
  },
  {
   "cell_type": "markdown",
   "metadata": {},
   "source": [
    "Модель 3. Квадрат признака `age`."
   ]
  },
  {
   "cell_type": "code",
   "execution_count": null,
   "metadata": {},
   "outputs": [],
   "source": [
    "# y_train=data.pop('charges')\n",
    "X_train = data.copy()\n",
    "for i in range(0 , len(X_train['age'])):\n",
    "    X_train['age'][i] = X_train['age'][i] * X_train['age'][i]\n",
    "\n",
    "\n",
    "import statsmodels.api as sm\n",
    "X_train_sm = sm.add_constant(X_train)\n",
    "\n",
    "age_sq= sm.OLS(y_train, X_train_sm).fit()\n",
    "\n",
    "age_sq.summary()"
   ]
  },
  {
   "cell_type": "markdown",
   "metadata": {},
   "source": [
    "Модель 4. Квадраты признаков `age` и `bmi`."
   ]
  },
  {
   "cell_type": "code",
   "execution_count": null,
   "metadata": {},
   "outputs": [],
   "source": [
    "# y_train=data.pop('charges')\n",
    "X_train = data.copy()\n",
    "for i in range(0 , len(X_train['age'])):\n",
    "    X_train['age'][i] = X_train['age'][i] * X_train['age'][i]\n",
    "    X_train['bmi'][i] = X_train['bmi'][i] * X_train['bmi'][i]\n",
    "\n",
    "\n",
    "import statsmodels.api as sm\n",
    "X_train_sm = sm.add_constant(X_train)\n",
    "\n",
    "bmi_age_sq= sm.OLS(y_train, X_train_sm).fit()\n",
    "\n",
    "bmi_age_sq.summary()"
   ]
  },
  {
   "cell_type": "markdown",
   "metadata": {},
   "source": [
    "Модель 5."
   ]
  },
  {
   "cell_type": "code",
   "execution_count": null,
   "metadata": {},
   "outputs": [],
   "source": [
    "# y_train=data.pop('charges')\n",
    "X_train = data.copy()\n",
    "for i in range(0 , len(X_train['age'])):\n",
    "    X_train['age'][i] = X_train['age'][i] * X_train['age'][i]\n",
    "    X_train['bmi'][i] = X_train['bmi'][i] * X_train['bmi'][i]\n",
    "\n",
    "\n",
    "import statsmodels.api as sm\n",
    "X_train_sm = sm.add_constant(X_train)\n",
    "\n",
    "lm_5= sm.OLS(y_train, X_train_sm).fit()\n",
    "lm_5.summary()"
   ]
  },
  {
   "cell_type": "code",
   "execution_count": null,
   "metadata": {},
   "outputs": [],
   "source": [
    "# y_train=data.pop('charges')\n",
    "\n",
    "X_train = data.copy()\n",
    "for i in range(0 , len(X_train['age'])):\n",
    "    X_train['age'][i] = math.log(X_train['age'][i],10)\n",
    "    \n",
    "\n",
    "\n",
    "import statsmodels.api as sm\n",
    "X_train_sm = sm.add_constant(X_train)\n",
    "\n",
    "age_lg= sm.OLS(y_train, X_train_sm).fit()\n",
    "age_lg.summary()"
   ]
  },
  {
   "cell_type": "code",
   "execution_count": null,
   "metadata": {},
   "outputs": [],
   "source": [
    "# y_train=data.pop('charges')\n",
    "import math\n",
    "X_train = data.copy()\n",
    "for i in range(0 , len(X_train['bmi'])):\n",
    "    X_train['bmi'][i] = math.log(X_train['bmi'][i],10)\n",
    "    \n",
    "\n",
    "\n",
    "import statsmodels.api as sm\n",
    "X_train_sm = sm.add_constant(X_train)\n",
    "\n",
    "bmi_lg= sm.OLS(y_train, X_train_sm).fit()\n",
    "bmi_lg.summary()"
   ]
  },
  {
   "cell_type": "code",
   "execution_count": null,
   "metadata": {},
   "outputs": [],
   "source": [
    "# y_train=data.pop('charges')\n",
    "\n",
    "X_train = data.copy()\n",
    "for i in range(0 , len(X_train['bmi'])):\n",
    "    X_train['bmi'][i] = math.log(X_train['bmi'][i],10)\n",
    "    X_train['age'][i] = math.log(X_train['age'][i],10)\n",
    "\n",
    "\n",
    "import statsmodels.api as sm\n",
    "X_train_sm = sm.add_constant(X_train)\n",
    "\n",
    "bmi_age_lg= sm.OLS(y_train, X_train_sm).fit()\n",
    "bmi_age_lg.summary()"
   ]
  },
  {
   "cell_type": "code",
   "execution_count": null,
   "metadata": {},
   "outputs": [],
   "source": [
    "\n",
    "X_train = data.copy()\n",
    "for i in range(0 , len(X_train['bmi'])):\n",
    "    X_train['bmi'][i] = math.log(X_train['bmi'][i],10)\n",
    "    X_train['age'][i] = X_train['age'][i] * X_train['age'][i]\n",
    "\n",
    "\n",
    "import statsmodels.api as sm\n",
    "X_train_sm = sm.add_constant(X_train)\n",
    "\n",
    "lm_16= sm.OLS(y_train, X_train_sm).fit()\n",
    "lm_16.summary()"
   ]
  },
  {
   "cell_type": "code",
   "execution_count": null,
   "metadata": {},
   "outputs": [],
   "source": [
    "# y_train=data.pop('charges')\n",
    "\n",
    "\n",
    "X_train = data.loc[:, data.columns.isin(['bmi', 'smoker_yes',])]\n",
    "\n",
    "import statsmodels.api as sm\n",
    "X_train_sm = sm.add_constant(X_train)\n",
    "\n",
    "lm_9= sm.OLS(y_train, X_train_sm).fit()\n",
    "lm_9.summary()"
   ]
  },
  {
   "cell_type": "code",
   "execution_count": null,
   "metadata": {},
   "outputs": [],
   "source": [
    "# y_train=data.pop('charges')\n",
    "\n",
    "X_train = data.loc[:, data.columns.isin(['age', 'smoker_yes',])]\n",
    "\n",
    "\n",
    "import statsmodels.api as sm\n",
    "X_train_sm = sm.add_constant(X_train)\n",
    "\n",
    "age_smoke= sm.OLS(y_train, X_train_sm).fit()\n",
    "age_smoke.summary()"
   ]
  },
  {
   "cell_type": "code",
   "execution_count": null,
   "metadata": {},
   "outputs": [],
   "source": [
    "# y_train=data.pop('charges')\n",
    "X_train = data.copy()\n",
    "for i in range(0 , len(X_train['smoker_yes'])):\n",
    "    X_train['smoker_yes'][i] = X_train['smoker_yes'][i] * X_train['smoker_yes'][i]\n",
    "\n",
    "\n",
    "import statsmodels.api as sm\n",
    "X_train_sm = sm.add_constant(X_train)\n",
    "\n",
    "lm_11= sm.OLS(y_train, X_train_sm).fit()\n",
    "lm_11.summary()"
   ]
  },
  {
   "cell_type": "code",
   "execution_count": null,
   "metadata": {},
   "outputs": [],
   "source": [
    "# y_train=data.pop('charges')\n",
    "X_train = data.loc[:, data.columns.isin(['age', 'bmi',])]\n",
    "\n",
    "\n",
    "import statsmodels.api as sm\n",
    "X_train_sm = sm.add_constant(X_train)\n",
    "\n",
    "lm_12= sm.OLS(y_train, X_train_sm).fit()\n",
    "lm_12.summary()"
   ]
  },
  {
   "cell_type": "code",
   "execution_count": null,
   "metadata": {},
   "outputs": [],
   "source": [
    "# y_train=data.pop('charges')\n",
    "y_train=data.pop('smoker_yes')\n",
    "# X_train = [data['female'].copy(), data['bmi'].copy()]\n",
    "X_train = data.loc[:, data.columns.isin(['age', 'female', 'bmi', 'children' , 'charges', 'northeast', 'northwest','southeast', 'southwest'])]\n",
    "\n",
    "import statsmodels.api as sm\n",
    "X_train_sm = sm.add_constant(X_train)\n",
    "\n",
    "lm_13= sm.OLS(y_train, X_train_sm).fit()\n",
    "lm_13.summary()"
   ]
  },
  {
   "cell_type": "code",
   "execution_count": null,
   "metadata": {},
   "outputs": [],
   "source": [
    "# y_train=data.pop('charges')\n",
    "y_train=data.pop('bmi')\n",
    "# X_train = [data['female'].copy(), data['bmi'].copy()]\n",
    "X_train = data.loc[:, data.columns.isin(['age', 'female', 'smoker_yes', 'children' , 'charges', 'northeast', 'northwest','southeast', 'southwest'])]\n",
    "\n",
    "import statsmodels.api as sm\n",
    "X_train_sm = sm.add_constant(X_train)\n",
    "\n",
    "lm_20= sm.OLS(y_train, X_train_sm).fit()\n",
    "lm_20.summary()"
   ]
  },
  {
   "cell_type": "markdown",
   "metadata": {},
   "source": []
  },
  {
   "cell_type": "code",
   "execution_count": null,
   "metadata": {},
   "outputs": [],
   "source": [
    "# Dataframe to save results\n",
    "\n",
    "\n",
    "regions = ins.region.unique()\n",
    "s = StandardScaler()\n",
    "\n",
    "actuals=[]\n",
    "preds=[]\n",
    "rmses=[]\n",
    "r2_scores=[]\n",
    "adj_r2_scores=[]\n",
    "\n",
    "for i in regions:\n",
    "    \n",
    "    # Filter data by region\n",
    "    print(\"\\nRegion: {}\\n\".format(i))\n",
    "    ins_df = ins[ins.region==i]\n",
    "    X=ins_df.drop(['charges', 'region'], axis=1)\n",
    "    y=ins_df.charges\n",
    "    \n",
    "    # Add polynomial features\n",
    "    pf = PolynomialFeatures(degree=2, include_bias=False)\n",
    "    X_pf = pd.DataFrame(data=pf.fit_transform(X), columns=pf.get_feature_names(X.columns))\n",
    "    \n",
    "    # Create training and test sets\n",
    "    X_train, X_test, y_train, y_test = train_test_split(X_pf, y, test_size=0.2, random_state=1)\n",
    "    \n",
    "    # Scale features\n",
    "    X_train_scaled = s.fit_transform(X_train)\n",
    "    X_test_scaled = s.transform(X_test)\n",
    "    \n",
    "    # PCA\n",
    "    pca = PCA(.95)\n",
    "    X_train_pca=pca.fit_transform(X_train_scaled)\n",
    "    X_test_pca=pca.transform(X_test_scaled)\n",
    "    print(\"Number of Principal Components = {}\".format(pca.n_components_))\n",
    "    print(\"Train Shape:{} {}  Test Shape:{} {}\".format(X_train_pca.shape, y_train.shape, X_test_pca.shape, y_test.shape))\n",
    "    \n",
    "    # Linear Regression\n",
    "    lr = LinearRegression().fit(X_train_pca, y_train)\n",
    "    y_pred=lr.predict(X_test_pca)\n",
    "    rmse=np.sqrt(mean_squared_error(y_test, y_pred)).round(2)\n",
    "    r2=r2_score(y_test, y_pred)\n",
    "    adj_r2 = 1 - (1-r2)*(len(y_test)-1)/(len(y_test)-X_test_pca.shape[1]-1)\n",
    "    \n",
    "    actuals.append(pd.Series(y_test, name='actuals').reset_index())\n",
    "    preds.append(pd.Series(y_pred, name='preds').reset_index(drop=True))\n",
    "    rmses.append(rmse)\n",
    "    r2_scores.append(r2)\n",
    "    adj_r2_scores.append(adj_r2)\n",
    "    \n",
    "    print(\"Test Error (RMSE) = {:,}\".format(rmse))\n",
    "    print(\"R-Squared = {:.2f}%, Adjusted R-Squared = {:.2f}%\".format(r2*100, adj_r2*100))\n",
    "    if i != 'Northeast':\n",
    "        print(\"__________________________\")\n",
    "\n",
    "# Plot results\n",
    "for i in range(0,4):\n",
    "    actuals[i].loc[:,'index']=regions[i]\n",
    "actual = pd.concat([actuals[i] for i in range(4)], axis = 0)\n",
    "pred = pd.concat([preds[i] for i in range(4)], axis = 0)\n",
    "df = pd.concat([actual, pred], axis=1).reset_index(drop=True)\n",
    "col = [\"#B14B51\", '#D0A99C', '#5D8370','#6C839B']\n",
    "fig = px.scatter(df, x=\"actuals\", y=\"preds\", color=\"index\", trendline=\"ols\", height=700,\n",
    "                 title=\"Actual vs Predicted Insurance Costs by Region,<br>Linear Regression with Principal Component Analysis\",\n",
    "                 color_discrete_sequence=col, opacity=0.7, facet_col='index', facet_col_wrap=2)\n",
    "\n",
    "fig.for_each_annotation(lambda a: a.update(text=a.text.split(\"=\")[-1]))\n",
    "fig.add_annotation(text=\"Adj. R-Squared = {:.1f}%<br>RMSE = {:,.0f}\".format(adj_r2_scores[0]*100,rmses[0]),\n",
    "                   x=51e3,y=15e3, row=2,col=1, showarrow=False)\n",
    "fig.add_annotation(text=\"Adj. R-Squared = {:.1f}%<br>RMSE = {:,.0f}\".format(adj_r2_scores[1]*100,rmses[1]),\n",
    "                   x=51e3,y=15e3, row=2,col=2, showarrow=False)\n",
    "fig.add_annotation(text=\"Adj. R-Squared = {:.1f}%<br>RMSE = {:,.0f}\".format(adj_r2_scores[2]*100,rmses[2]),\n",
    "                   x=51e3,y=15e3, row=1,col=1, showarrow=False)\n",
    "fig.add_annotation(text=\"Adj. R-Squared = {:.1f}%<br>RMSE = {:,.0f}\".format(adj_r2_scores[3]*100,rmses[3]),\n",
    "                   x=51e3,y=15e3, row=1,col=2, showarrow=False)\n",
    "\n",
    "fig.update_traces(hovertemplate=\"Actual Cost: %{x:$,.2f}<br>Predicted Cost: %{y:$,.2f}\",\n",
    "                  marker=dict(size=10, line=dict(width=1,color=\"#F7F7F7\")),\n",
    "                  selector=dict(mode=\"markers\"), showlegend=False)\n",
    "fig.update_xaxes(title=\"Actual Cost, $\", row=1)\n",
    "fig.update_xaxes(showgrid=True, gridwidth=1, gridcolor='#EAEAEA',\n",
    "                 zeroline=True, zerolinewidth=2, zerolinecolor='#5E5E5E')\n",
    "fig.update_yaxes(title=\"Predicted Cost, $\", col=1)\n",
    "fig.update_yaxes(showgrid=True, gridwidth=1, gridcolor='#E3E3E3',\n",
    "                 zeroline=True, zerolinewidth=2, zerolinecolor='#5E5E5E')\n",
    "fig.update_layout(font_color=\"#303030\", paper_bgcolor=\"white\", plot_bgcolor=\"white\")\n",
    "fig.show()"
   ]
  },
  {
   "cell_type": "markdown",
   "metadata": {},
   "source": [
    "Gradient Boosting"
   ]
  },
  {
   "cell_type": "code",
   "execution_count": null,
   "metadata": {},
   "outputs": [],
   "source": [
    "actuals=[]\n",
    "preds=[]\n",
    "rmses=[]\n",
    "r2_scores=[]\n",
    "adj_r2_scores=[]\n",
    "feat_importance=pd.DataFrame()\n",
    "regions = ins.region.unique()\n",
    "s = StandardScaler()\n",
    "col = [\"#B14B51\", '#D0A99C', '#5D8370','#6C839B']\n",
    "\n",
    "for i in regions:\n",
    "    \n",
    "    # Разделение датасета по региону\n",
    "    ins_df = ins[ins.region==i]\n",
    "    X=ins_df.drop(['charges', 'region'], axis=1)\n",
    "    y=ins_df.charges\n",
    "    \n",
    "    \n",
    "    \n",
    "    pf = PolynomialFeatures(degree=2, include_bias=False)\n",
    "    X_pf = pd.DataFrame(data=pf.fit_transform(X), columns=pf.get_feature_names(X.columns))\n",
    "    \n",
    "    # Распределение на выборки\n",
    "    X_train, X_test, y_train, y_test = train_test_split(X_pf, y, test_size=0.2, random_state=1)\n",
    "    X_train = pd.DataFrame(X_train, columns = X_pf.columns)\n",
    "    X_test = pd.DataFrame(X_test, columns = X_pf.columns)\n",
    "    actuals.append(pd.Series(y_test, name='actuals').reset_index())\n",
    "    print(\"\\nRegion: {}\\n\".format(i))\n",
    "    print(\"Train Shape:{} {}  Test Shape:{} {}\".format(X_train.shape, y_train.shape, X_test.shape, y_test.shape))\n",
    "    \n",
    "    \n",
    "    X_train = pd.DataFrame(data=s.fit_transform(X_train), columns=X_pf.columns)\n",
    "    X_test = pd.DataFrame(data=s.transform(X_test), columns=X_pf.columns)\n",
    "    \n",
    "    \n",
    "    grid = {'learning_rate': [0.0001, 0.001, 0.01, 0.1, 0.25, 0.5],\n",
    "            'n_estimators': [int(x) for x in np.linspace(start = 200, stop = 1000, num = 5)],\n",
    "            'subsample': [0.5, 0.8, 1],\n",
    "            'min_samples_split': [2, 5, 10],\n",
    "            'min_samples_leaf': [1, 2, 4],\n",
    "            'max_depth': [int(x) for x in np.linspace(2, 10, num = 5)],\n",
    "            'max_features': [None, 'sqrt']}\n",
    "    xgb=GradientBoostingRegressor(random_state=21)\n",
    "    xgb_cv=RandomizedSearchCV(estimator=xgb, param_distributions=grid, scoring='neg_mean_squared_error', \n",
    "                              n_iter=100, cv=3, random_state=21, n_jobs=-1)\n",
    "    xgb_cv.fit(X_train, y_train)\n",
    "    y_pred=xgb_cv.predict(X_test)\n",
    "    preds.append(pd.Series(y_pred, name='preds').reset_index(drop=True))\n",
    "    rmse=np.sqrt(mean_squared_error(y_test, y_pred)).round(2)\n",
    "    r2=r2_score(y_test, y_pred)\n",
    "    adj_r2 = 1 - (1-r2)*(len(y_test)-1)/(len(y_test)-X_test.shape[1]-1)\n",
    "    rmses.append(rmse)\n",
    "    r2_scores.append(r2)\n",
    "    adj_r2_scores.append(adj_r2)\n",
    "    \n",
    "    \n",
    "    feat_importance[\"Importance_\"+str(i)]=xgb_cv.best_estimator_.feature_importances_\n",
    "    \n",
    "    print(\"Test Error (RMSE) = {:,}\".format(rmse))\n",
    "    print(\"R-Squared = {:.2f}%, Adjusted R-Squared = {:.2f}%\".format(r2*100, adj_r2*100))\n",
    "    if i != 'Northeast':\n",
    "        print(\"__________________________\")\n",
    "\n",
    "# Plot results\n",
    "for i in range(0,4):\n",
    "    actuals[i].loc[:,'index']=regions[i]\n",
    "actual = pd.concat([actuals[i] for i in range(4)], axis = 0)\n",
    "pred = pd.concat([preds[i] for i in range(4)], axis = 0)\n",
    "df = pd.concat([actual, pred], axis=1).reset_index(drop=True)\n",
    "\n",
    "fig = px.scatter(df, x=\"actuals\", y=\"preds\", color=\"index\", trendline=\"lowess\", height=700,\n",
    "                 title=\"Реальные vs Предсказанные результаты стоимости соответсвтующих регионам,<br>Gradient Boosting\",\n",
    "                 color_discrete_sequence=col, opacity=0.7, facet_col='index', facet_col_wrap=2)\n",
    "\n",
    "fig.for_each_annotation(lambda a: a.update(text=a.text.split(\"=\")[-1]))\n",
    "fig.add_annotation(text=\"Adj. R-Squared = {:.1f}%<br>RMSE = {:,.0f}\".format(adj_r2_scores[0]*100,rmses[0]),\n",
    "                   x=51e3,y=15e3, row=2,col=1, showarrow=False)\n",
    "fig.add_annotation(text=\"Adj. R-Squared = {:.1f}%<br>RMSE = {:,.0f}\".format(adj_r2_scores[1]*100,rmses[1]),\n",
    "                   x=51e3,y=15e3, row=2,col=2, showarrow=False)\n",
    "fig.add_annotation(text=\"Adj. R-Squared = {:.1f}%<br>RMSE = {:,.0f}\".format(adj_r2_scores[2]*100,rmses[2]),\n",
    "                   x=51e3,y=15e3, row=1,col=1, showarrow=False)\n",
    "fig.add_annotation(text=\"Adj. R-Squared = {:.1f}%<br>RMSE = {:,.0f}\".format(adj_r2_scores[3]*100,rmses[3]),\n",
    "                   x=51e3,y=15e3, row=1,col=2, showarrow=False)\n",
    "\n",
    "fig.update_traces(hovertemplate=\"Actual Cost: %{x:$,.2f}<br>Predicted Cost: %{y:$,.2f}\",\n",
    "                  marker=dict(size=10,line=dict(width=1,color=\"#F7F7F7\")),\n",
    "                  selector=dict(mode=\"markers\"), showlegend=False)\n",
    "fig.update_xaxes(title=\"Actual Cost, $\", row=1)\n",
    "fig.update_xaxes(showgrid=True, gridwidth=1, gridcolor='#EAEAEA',\n",
    "                 zeroline=True, zerolinewidth=2, zerolinecolor='#5E5E5E')\n",
    "fig.update_yaxes(title=\"Predicted Cost, $\", col=1)\n",
    "fig.update_yaxes(showgrid=True, gridwidth=1, gridcolor='#E3E3E3',\n",
    "                 zeroline=True, zerolinewidth=2, zerolinecolor='#5E5E5E')\n",
    "fig.update_layout(font_color=\"#303030\", paper_bgcolor=\"white\", plot_bgcolor=\"white\")\n",
    "fig.show()"
   ]
  },
  {
   "cell_type": "code",
   "execution_count": null,
   "metadata": {},
   "outputs": [],
   "source": [
    "# models=[\"Linear Regression\", \"KNN\", \"SVM\", \"Gradient Boosting\"]\n",
    "# mod_res=pd.DataFrame(columns=[\"Average RMSE\", \"Avg. Adjusted R2\"], index=models)\n",
    "\n",
    "# mod_res.iloc[3,0]=pd.Series(rmses).mean()\n",
    "# mod_res.iloc[3,1]=pd.Series(adj_r2_scores).mean()\n",
    "# mod_res[\"Average RMSE\"]=mod_res[\"Average RMSE\"].map('{:,.2f}'.format)\n",
    "# mod_res[\"Avg. Adjusted R2\"]=mod_res[\"Avg. Adjusted R2\"].mul(100).map('{:.2f}%'.format)\n",
    "# display(mod_res.sort_values(\"Average RMSE\"))"
   ]
  },
  {
   "cell_type": "markdown",
   "metadata": {},
   "source": []
  },
  {
   "cell_type": "code",
   "execution_count": null,
   "metadata": {},
   "outputs": [],
   "source": [
    "col=sns.color_palette(\"magma\", 20).as_hex()[::-1]\n",
    "feat_importance.set_index(X_train.columns, inplace=True)\n",
    "ft=pd.DataFrame({\"Средняя значимость\":feat_importance.mean(axis=1)})\n",
    "plot_df=ft.nlargest(20, columns=\"Средняя значимость\").sort_values(by=\"Средняя значимость\",ascending=False)\n",
    "fig = px.bar(plot_df, x=\"Средняя значимость\", y=plot_df.index, text=\"Средняя значимость\", height=700,\n",
    "             color=plot_df.index,width=700,opacity=.8,color_discrete_sequence=col)\n",
    "fig.update_traces(texttemplate='%{text:.2f}', textposition='outside',\n",
    "                  marker_line=dict(width=1, color='#3F3B3A'), showlegend=False, \n",
    "                  hovertemplate='Значимость = <b>%{x:.2}</b>')\n",
    "fig.update_layout(title_text='Значимость факторов при оценке стоимости медицинской страховки', \n",
    "                  coloraxis_showscale=False, yaxis_title=\"\", font_color=\"#303030\", yaxis_linecolor=\"#D8D8D8\", \n",
    "                  xaxis=dict(title=\"Средняя значимость\", showgrid=True, showline=True, \n",
    "                             linecolor=\"#9A9A9A\", gridcolor=\"#F5F5F5\"))"
   ]
  }
 ],
 "metadata": {
  "interpreter": {
   "hash": "50ff43e8070212667bfca142fe2278bb73e035152a7dcb29e242b66042ec9537"
  },
  "kernelspec": {
   "display_name": "Python 3.9.7 ('base')",
   "language": "python",
   "name": "python3"
  },
  "language_info": {
   "codemirror_mode": {
    "name": "ipython",
    "version": 3
   },
   "file_extension": ".py",
   "mimetype": "text/x-python",
   "name": "python",
   "nbconvert_exporter": "python",
   "pygments_lexer": "ipython3",
   "version": "3.9.7"
  },
  "orig_nbformat": 4
 },
 "nbformat": 4,
 "nbformat_minor": 2
}
