{
 "cells": [
  {
   "cell_type": "markdown",
   "metadata": {},
   "source": [
    "## Практическая работа №6\n",
    "##### Сиразетдинов Рустем (Вариант - 20)"
   ]
  },
  {
   "cell_type": "markdown",
   "metadata": {},
   "source": [
    "Предсказание стоимости медецинской страховки\n",
    "\n",
    "Данные: https://www.kaggle.com/mirichoi0218/insurance"
   ]
  },
  {
   "cell_type": "code",
   "execution_count": 38,
   "metadata": {},
   "outputs": [
    {
     "name": "stdout",
     "output_type": "stream",
     "text": [
      "There are 1,338 observations and 7 columns in the data set.\n",
      "There are 0 missing values in the data.\n"
     ]
    }
   ],
   "source": [
    "import numpy as np\n",
    "import pandas as pd\n",
    "import seaborn as sns\n",
    "import matplotlib.pyplot as plt\n",
    "import plotly.express as px\n",
    "import plotly.graph_objects as go\n",
    "from plotly.offline import plot, iplot, init_notebook_mode\n",
    "from sklearn.preprocessing import StandardScaler, PolynomialFeatures\n",
    "from sklearn.decomposition import PCA\n",
    "from sklearn.linear_model import LinearRegression\n",
    "from sklearn.ensemble import GradientBoostingRegressor\n",
    "from sklearn.model_selection import train_test_split, RandomizedSearchCV\n",
    "from sklearn.metrics import r2_score, mean_squared_error\n",
    "import warnings\n",
    "warnings.filterwarnings(\"ignore\")\n",
    "import math\n",
    "\n",
    "# Выгрузка датасета\n",
    "ins = pd.read_csv('C:\\\\Users\\\\averu\\\\Documents\\\\git_local\\\\programming-practice\\\\IDA\\\\IDA-practice-5\\\\insurance.csv')\n",
    "print(\"There are {:,} observations and {} columns in the data set.\".format(ins.shape[0], ins.shape[1]))\n",
    "print(\"There are {} missing values in the data.\".format(ins.isna().sum().sum()))\n",
    "\n",
    "\n",
    "ins['sex'] = ins['sex'].str.capitalize()\n",
    "ins['smoker'] = ins['smoker'].apply(lambda x: 'Smoker' if x=='yes' else 'Non-Smoker')\n",
    "ins['region'] = ins['region'].str.capitalize()"
   ]
  },
  {
   "cell_type": "code",
   "execution_count": 39,
   "metadata": {},
   "outputs": [
    {
     "data": {
      "text/html": [
       "        <script type=\"text/javascript\">\n",
       "        window.PlotlyConfig = {MathJaxConfig: 'local'};\n",
       "        if (window.MathJax) {MathJax.Hub.Config({SVG: {font: \"STIX-Web\"}});}\n",
       "        if (typeof require !== 'undefined') {\n",
       "        require.undef(\"plotly\");\n",
       "        requirejs.config({\n",
       "            paths: {\n",
       "                'plotly': ['https://cdn.plot.ly/plotly-2.9.0.min']\n",
       "            }\n",
       "        });\n",
       "        require(['plotly'], function(Plotly) {\n",
       "            window._Plotly = Plotly;\n",
       "        });\n",
       "        }\n",
       "        </script>\n",
       "        "
      ]
     },
     "metadata": {},
     "output_type": "display_data"
    },
    {
     "data": {
      "application/vnd.plotly.v1+json": {
       "config": {
        "plotlyServerURL": "https://plot.ly"
       },
       "data": [
        {
         "alignmentgroup": "True",
         "boxpoints": "outliers",
         "hovertemplate": "region=%{x}<br>charges=%{y}<extra></extra>",
         "legendgroup": "Southwest",
         "marker": {
          "color": "#B14B51",
          "line": {
           "color": "#F7F7F7",
           "width": 1
          },
          "opacity": 0.5,
          "size": 9
         },
         "name": "Southwest",
         "notched": true,
         "offsetgroup": "Southwest",
         "orientation": "v",
         "showlegend": false,
         "type": "box",
         "x": [
          "Southwest",
          "Southwest",
          "Southwest",
          "Southwest",
          "Southwest",
          "Southwest",
          "Southwest",
          "Southwest",
          "Southwest",
          "Southwest",
          "Southwest",
          "Southwest",
          "Southwest",
          "Southwest",
          "Southwest",
          "Southwest",
          "Southwest",
          "Southwest",
          "Southwest",
          "Southwest",
          "Southwest",
          "Southwest",
          "Southwest",
          "Southwest",
          "Southwest",
          "Southwest",
          "Southwest",
          "Southwest",
          "Southwest",
          "Southwest",
          "Southwest",
          "Southwest",
          "Southwest",
          "Southwest",
          "Southwest",
          "Southwest",
          "Southwest",
          "Southwest",
          "Southwest",
          "Southwest",
          "Southwest",
          "Southwest",
          "Southwest",
          "Southwest",
          "Southwest",
          "Southwest",
          "Southwest",
          "Southwest",
          "Southwest",
          "Southwest",
          "Southwest",
          "Southwest",
          "Southwest",
          "Southwest",
          "Southwest",
          "Southwest",
          "Southwest",
          "Southwest",
          "Southwest",
          "Southwest",
          "Southwest",
          "Southwest",
          "Southwest",
          "Southwest",
          "Southwest",
          "Southwest",
          "Southwest",
          "Southwest",
          "Southwest",
          "Southwest",
          "Southwest",
          "Southwest",
          "Southwest",
          "Southwest",
          "Southwest",
          "Southwest",
          "Southwest",
          "Southwest",
          "Southwest",
          "Southwest",
          "Southwest",
          "Southwest",
          "Southwest",
          "Southwest",
          "Southwest",
          "Southwest",
          "Southwest",
          "Southwest",
          "Southwest",
          "Southwest",
          "Southwest",
          "Southwest",
          "Southwest",
          "Southwest",
          "Southwest",
          "Southwest",
          "Southwest",
          "Southwest",
          "Southwest",
          "Southwest",
          "Southwest",
          "Southwest",
          "Southwest",
          "Southwest",
          "Southwest",
          "Southwest",
          "Southwest",
          "Southwest",
          "Southwest",
          "Southwest",
          "Southwest",
          "Southwest",
          "Southwest",
          "Southwest",
          "Southwest",
          "Southwest",
          "Southwest",
          "Southwest",
          "Southwest",
          "Southwest",
          "Southwest",
          "Southwest",
          "Southwest",
          "Southwest",
          "Southwest",
          "Southwest",
          "Southwest",
          "Southwest",
          "Southwest",
          "Southwest",
          "Southwest",
          "Southwest",
          "Southwest",
          "Southwest",
          "Southwest",
          "Southwest",
          "Southwest",
          "Southwest",
          "Southwest",
          "Southwest",
          "Southwest",
          "Southwest",
          "Southwest",
          "Southwest",
          "Southwest",
          "Southwest",
          "Southwest",
          "Southwest",
          "Southwest",
          "Southwest",
          "Southwest",
          "Southwest",
          "Southwest",
          "Southwest",
          "Southwest",
          "Southwest",
          "Southwest",
          "Southwest",
          "Southwest",
          "Southwest",
          "Southwest",
          "Southwest",
          "Southwest",
          "Southwest",
          "Southwest",
          "Southwest",
          "Southwest",
          "Southwest",
          "Southwest",
          "Southwest",
          "Southwest",
          "Southwest",
          "Southwest",
          "Southwest",
          "Southwest",
          "Southwest",
          "Southwest",
          "Southwest",
          "Southwest",
          "Southwest",
          "Southwest",
          "Southwest",
          "Southwest",
          "Southwest",
          "Southwest",
          "Southwest",
          "Southwest",
          "Southwest",
          "Southwest",
          "Southwest",
          "Southwest",
          "Southwest",
          "Southwest",
          "Southwest",
          "Southwest",
          "Southwest",
          "Southwest",
          "Southwest",
          "Southwest",
          "Southwest",
          "Southwest",
          "Southwest",
          "Southwest",
          "Southwest",
          "Southwest",
          "Southwest",
          "Southwest",
          "Southwest",
          "Southwest",
          "Southwest",
          "Southwest",
          "Southwest",
          "Southwest",
          "Southwest",
          "Southwest",
          "Southwest",
          "Southwest",
          "Southwest",
          "Southwest",
          "Southwest",
          "Southwest",
          "Southwest",
          "Southwest",
          "Southwest",
          "Southwest",
          "Southwest",
          "Southwest",
          "Southwest",
          "Southwest",
          "Southwest",
          "Southwest",
          "Southwest",
          "Southwest",
          "Southwest",
          "Southwest",
          "Southwest",
          "Southwest",
          "Southwest",
          "Southwest",
          "Southwest",
          "Southwest",
          "Southwest",
          "Southwest",
          "Southwest",
          "Southwest",
          "Southwest",
          "Southwest",
          "Southwest",
          "Southwest",
          "Southwest",
          "Southwest",
          "Southwest",
          "Southwest",
          "Southwest",
          "Southwest",
          "Southwest",
          "Southwest",
          "Southwest",
          "Southwest",
          "Southwest",
          "Southwest",
          "Southwest",
          "Southwest",
          "Southwest",
          "Southwest",
          "Southwest",
          "Southwest",
          "Southwest",
          "Southwest",
          "Southwest",
          "Southwest",
          "Southwest",
          "Southwest",
          "Southwest",
          "Southwest",
          "Southwest",
          "Southwest",
          "Southwest",
          "Southwest",
          "Southwest",
          "Southwest",
          "Southwest",
          "Southwest",
          "Southwest",
          "Southwest",
          "Southwest",
          "Southwest",
          "Southwest",
          "Southwest",
          "Southwest",
          "Southwest",
          "Southwest",
          "Southwest",
          "Southwest",
          "Southwest",
          "Southwest",
          "Southwest",
          "Southwest",
          "Southwest",
          "Southwest",
          "Southwest",
          "Southwest",
          "Southwest",
          "Southwest",
          "Southwest",
          "Southwest",
          "Southwest",
          "Southwest",
          "Southwest",
          "Southwest",
          "Southwest",
          "Southwest",
          "Southwest",
          "Southwest",
          "Southwest",
          "Southwest",
          "Southwest",
          "Southwest",
          "Southwest",
          "Southwest",
          "Southwest",
          "Southwest",
          "Southwest",
          "Southwest",
          "Southwest"
         ],
         "x0": " ",
         "xaxis": "x",
         "y": [
          16884.924,
          1826.843,
          1837.237,
          10602.385,
          36837.467,
          4149.736,
          38711,
          35585.576,
          4687.797,
          51194.55914,
          2302.3,
          48173.361,
          20630.28351,
          23568.272,
          1743.214,
          14235.072,
          11741.726,
          7726.854,
          39836.519,
          11073.176,
          47291.055,
          12105.32,
          15820.699,
          6186.127,
          5003.853,
          2331.519,
          11881.358,
          4646.759,
          7740.337,
          17081.08,
          9634.538,
          6082.405,
          11163.568,
          1261.442,
          2166.732,
          1842.519,
          10450.552,
          5152.134,
          4830.63,
          8116.68,
          5246.047,
          48824.45,
          10436.096,
          8823.279,
          5325.651,
          6775.961,
          4883.866,
          5649.715,
          7147.105,
          13880.949,
          1980.07,
          8520.026,
          7371.772,
          5012.471,
          5253.524,
          34779.615,
          1727.785,
          12333.828,
          35160.13457,
          7196.867,
          1832.094,
          47305.305,
          4260.744,
          11837.16,
          7441.053,
          42856.838,
          2150.469,
          9625.92,
          3172.018,
          3906.127,
          16297.846,
          12646.207,
          20177.67113,
          8444.474,
          1737.376,
          34838.873,
          35491.64,
          2866.091,
          47928.03,
          9144.565,
          13822.803,
          18955.22017,
          8932.084,
          3554.203,
          24603.04837,
          4751.07,
          13844.506,
          2597.779,
          36085.219,
          1261.859,
          8522.003,
          14988.432,
          9264.797,
          3260.199,
          8539.671,
          5080.096,
          18608.262,
          8968.33,
          23082.95533,
          5969.723,
          12638.195,
          5926.846,
          37079.372,
          7345.084,
          5910.944,
          4762.329,
          7512.267,
          1969.614,
          21797.0004,
          10601.412,
          22144.032,
          13224.693,
          1744.465,
          25382.297,
          9880.068,
          9563.029,
          1253.936,
          1748.774,
          12574.049,
          17942.106,
          4931.647,
          8027.968,
          13470.86,
          36197.699,
          11455.28,
          1256.299,
          21082.16,
          11362.755,
          5240.765,
          9861.025,
          5972.378,
          8825.086,
          6196.448,
          11538.421,
          13390.559,
          12957.118,
          3847.674,
          2494.022,
          11552.904,
          3761.292,
          9724.53,
          1242.816,
          11842.442,
          7441.501,
          11070.535,
          39241.442,
          6571.544,
          23306.547,
          10713.644,
          3659.346,
          40182.246,
          9182.17,
          11365.952,
          10085.846,
          1977.815,
          9391.346,
          6666.243,
          3410.324,
          8703.456,
          12363.547,
          2585.269,
          1242.26,
          40103.89,
          4766.022,
          26236.57997,
          8068.185,
          3577.999,
          5375.038,
          2457.502,
          12146.971,
          11264.541,
          12979.358,
          1263.249,
          10065.413,
          4234.927,
          14007.222,
          3484.331,
          44585.45587,
          11737.84884,
          8556.907,
          2416.955,
          19040.876,
          8062.764,
          7050.642,
          14319.031,
          27941.28758,
          11150.78,
          18259.216,
          24520.264,
          6414.178,
          1252.407,
          11848.141,
          2103.08,
          9414.92,
          3597.596,
          7445.918,
          13393.756,
          4402.233,
          1526.312,
          9872.701,
          2974.126,
          1875.344,
          10965.446,
          46113.511,
          7151.092,
          8782.469,
          6600.361,
          11576.13,
          4391.652,
          8457.818,
          6849.026,
          26140.3603,
          6282.235,
          6311.952,
          3443.064,
          1682.597,
          13063.883,
          12644.589,
          15170.069,
          17496.306,
          7626.993,
          13041.921,
          13451.122,
          13462.52,
          5488.262,
          6250.435,
          2913.569,
          12032.326,
          6238.298,
          10096.97,
          7348.142,
          12233.828,
          11674.13,
          7160.094,
          19933.458,
          38998.546,
          3353.284,
          4746.344,
          1759.338,
          19199.944,
          7624.63,
          3378.91,
          10118.424,
          7418.522,
          34472.841,
          1972.95,
          21232.18226,
          8269.044,
          5383.536,
          3987.926,
          8798.593,
          2020.177,
          9850.432,
          12094.478,
          3161.454,
          39727.614,
          25309.489,
          8277.523,
          5708.867,
          7045.499,
          8551.347,
          4076.497,
          19023.26,
          10577.087,
          3591.48,
          11299.343,
          11253.421,
          20420.60465,
          2904.088,
          34166.273,
          10214.636,
          14358.36437,
          1728.897,
          3693.428,
          7623.518,
          7954.517,
          9630.397,
          52590.82939,
          10791.96,
          5979.731,
          3989.841,
          4529.477,
          4670.64,
          22478.6,
          2154.361,
          6496.886,
          2632.992,
          13126.67745,
          4934.705,
          36910.60803,
          38415.474,
          12347.172,
          10806.839,
          41661.602,
          20167.33603,
          11345.519,
          5615.369,
          9101.798,
          6059.173,
          1241.565,
          16232.847,
          15828.82173,
          6474.013,
          3277.161,
          7337.748,
          10704.47,
          1880.487,
          8615.3,
          10959.33,
          47403.88,
          5472.449,
          38344.566,
          34828.654,
          1964.78,
          3208.787,
          37829.7242,
          33900.653,
          6875.961,
          4536.259,
          36397.576,
          1731.677,
          10325.206,
          10795.93733,
          11411.685,
          2007.945
         ],
         "y0": " ",
         "yaxis": "y"
        },
        {
         "alignmentgroup": "True",
         "boxpoints": "outliers",
         "hovertemplate": "region=%{x}<br>charges=%{y}<extra></extra>",
         "legendgroup": "Southeast",
         "marker": {
          "color": "#D0A99C",
          "line": {
           "color": "#F7F7F7",
           "width": 1
          },
          "opacity": 0.5,
          "size": 9
         },
         "name": "Southeast",
         "notched": true,
         "offsetgroup": "Southeast",
         "orientation": "v",
         "showlegend": false,
         "type": "box",
         "x": [
          "Southeast",
          "Southeast",
          "Southeast",
          "Southeast",
          "Southeast",
          "Southeast",
          "Southeast",
          "Southeast",
          "Southeast",
          "Southeast",
          "Southeast",
          "Southeast",
          "Southeast",
          "Southeast",
          "Southeast",
          "Southeast",
          "Southeast",
          "Southeast",
          "Southeast",
          "Southeast",
          "Southeast",
          "Southeast",
          "Southeast",
          "Southeast",
          "Southeast",
          "Southeast",
          "Southeast",
          "Southeast",
          "Southeast",
          "Southeast",
          "Southeast",
          "Southeast",
          "Southeast",
          "Southeast",
          "Southeast",
          "Southeast",
          "Southeast",
          "Southeast",
          "Southeast",
          "Southeast",
          "Southeast",
          "Southeast",
          "Southeast",
          "Southeast",
          "Southeast",
          "Southeast",
          "Southeast",
          "Southeast",
          "Southeast",
          "Southeast",
          "Southeast",
          "Southeast",
          "Southeast",
          "Southeast",
          "Southeast",
          "Southeast",
          "Southeast",
          "Southeast",
          "Southeast",
          "Southeast",
          "Southeast",
          "Southeast",
          "Southeast",
          "Southeast",
          "Southeast",
          "Southeast",
          "Southeast",
          "Southeast",
          "Southeast",
          "Southeast",
          "Southeast",
          "Southeast",
          "Southeast",
          "Southeast",
          "Southeast",
          "Southeast",
          "Southeast",
          "Southeast",
          "Southeast",
          "Southeast",
          "Southeast",
          "Southeast",
          "Southeast",
          "Southeast",
          "Southeast",
          "Southeast",
          "Southeast",
          "Southeast",
          "Southeast",
          "Southeast",
          "Southeast",
          "Southeast",
          "Southeast",
          "Southeast",
          "Southeast",
          "Southeast",
          "Southeast",
          "Southeast",
          "Southeast",
          "Southeast",
          "Southeast",
          "Southeast",
          "Southeast",
          "Southeast",
          "Southeast",
          "Southeast",
          "Southeast",
          "Southeast",
          "Southeast",
          "Southeast",
          "Southeast",
          "Southeast",
          "Southeast",
          "Southeast",
          "Southeast",
          "Southeast",
          "Southeast",
          "Southeast",
          "Southeast",
          "Southeast",
          "Southeast",
          "Southeast",
          "Southeast",
          "Southeast",
          "Southeast",
          "Southeast",
          "Southeast",
          "Southeast",
          "Southeast",
          "Southeast",
          "Southeast",
          "Southeast",
          "Southeast",
          "Southeast",
          "Southeast",
          "Southeast",
          "Southeast",
          "Southeast",
          "Southeast",
          "Southeast",
          "Southeast",
          "Southeast",
          "Southeast",
          "Southeast",
          "Southeast",
          "Southeast",
          "Southeast",
          "Southeast",
          "Southeast",
          "Southeast",
          "Southeast",
          "Southeast",
          "Southeast",
          "Southeast",
          "Southeast",
          "Southeast",
          "Southeast",
          "Southeast",
          "Southeast",
          "Southeast",
          "Southeast",
          "Southeast",
          "Southeast",
          "Southeast",
          "Southeast",
          "Southeast",
          "Southeast",
          "Southeast",
          "Southeast",
          "Southeast",
          "Southeast",
          "Southeast",
          "Southeast",
          "Southeast",
          "Southeast",
          "Southeast",
          "Southeast",
          "Southeast",
          "Southeast",
          "Southeast",
          "Southeast",
          "Southeast",
          "Southeast",
          "Southeast",
          "Southeast",
          "Southeast",
          "Southeast",
          "Southeast",
          "Southeast",
          "Southeast",
          "Southeast",
          "Southeast",
          "Southeast",
          "Southeast",
          "Southeast",
          "Southeast",
          "Southeast",
          "Southeast",
          "Southeast",
          "Southeast",
          "Southeast",
          "Southeast",
          "Southeast",
          "Southeast",
          "Southeast",
          "Southeast",
          "Southeast",
          "Southeast",
          "Southeast",
          "Southeast",
          "Southeast",
          "Southeast",
          "Southeast",
          "Southeast",
          "Southeast",
          "Southeast",
          "Southeast",
          "Southeast",
          "Southeast",
          "Southeast",
          "Southeast",
          "Southeast",
          "Southeast",
          "Southeast",
          "Southeast",
          "Southeast",
          "Southeast",
          "Southeast",
          "Southeast",
          "Southeast",
          "Southeast",
          "Southeast",
          "Southeast",
          "Southeast",
          "Southeast",
          "Southeast",
          "Southeast",
          "Southeast",
          "Southeast",
          "Southeast",
          "Southeast",
          "Southeast",
          "Southeast",
          "Southeast",
          "Southeast",
          "Southeast",
          "Southeast",
          "Southeast",
          "Southeast",
          "Southeast",
          "Southeast",
          "Southeast",
          "Southeast",
          "Southeast",
          "Southeast",
          "Southeast",
          "Southeast",
          "Southeast",
          "Southeast",
          "Southeast",
          "Southeast",
          "Southeast",
          "Southeast",
          "Southeast",
          "Southeast",
          "Southeast",
          "Southeast",
          "Southeast",
          "Southeast",
          "Southeast",
          "Southeast",
          "Southeast",
          "Southeast",
          "Southeast",
          "Southeast",
          "Southeast",
          "Southeast",
          "Southeast",
          "Southeast",
          "Southeast",
          "Southeast",
          "Southeast",
          "Southeast",
          "Southeast",
          "Southeast",
          "Southeast",
          "Southeast",
          "Southeast",
          "Southeast",
          "Southeast",
          "Southeast",
          "Southeast",
          "Southeast",
          "Southeast",
          "Southeast",
          "Southeast",
          "Southeast",
          "Southeast",
          "Southeast",
          "Southeast",
          "Southeast",
          "Southeast",
          "Southeast",
          "Southeast",
          "Southeast",
          "Southeast",
          "Southeast",
          "Southeast",
          "Southeast",
          "Southeast",
          "Southeast",
          "Southeast",
          "Southeast",
          "Southeast",
          "Southeast",
          "Southeast",
          "Southeast",
          "Southeast",
          "Southeast",
          "Southeast",
          "Southeast",
          "Southeast",
          "Southeast",
          "Southeast",
          "Southeast",
          "Southeast",
          "Southeast",
          "Southeast",
          "Southeast",
          "Southeast",
          "Southeast",
          "Southeast",
          "Southeast",
          "Southeast",
          "Southeast",
          "Southeast",
          "Southeast",
          "Southeast",
          "Southeast",
          "Southeast",
          "Southeast",
          "Southeast",
          "Southeast",
          "Southeast",
          "Southeast",
          "Southeast",
          "Southeast",
          "Southeast",
          "Southeast",
          "Southeast",
          "Southeast",
          "Southeast",
          "Southeast",
          "Southeast",
          "Southeast",
          "Southeast",
          "Southeast",
          "Southeast",
          "Southeast",
          "Southeast",
          "Southeast",
          "Southeast",
          "Southeast",
          "Southeast"
         ],
         "x0": " ",
         "xaxis": "x",
         "y": [
          1725.5523,
          4449.462,
          3756.6216,
          8240.5896,
          27808.7251,
          11090.7178,
          39611.7577,
          1137.011,
          14001.1338,
          4949.7587,
          6272.4772,
          6313.759,
          12629.8967,
          38709.176,
          37742.5757,
          34303.1672,
          23244.7902,
          4504.6624,
          5920.1041,
          17663.1442,
          16577.7795,
          11946.6259,
          3947.4131,
          1532.4697,
          37165.1638,
          2026.9741,
          3766.8838,
          10226.2842,
          30942.1918,
          2867.1196,
          47055.5321,
          11381.3254,
          19107.7796,
          8601.3293,
          2155.6815,
          27322.73386,
          18972.495,
          5138.2567,
          9877.6077,
          7789.635,
          21223.6758,
          36950.2567,
          19749.38338,
          36149.4835,
          13405.3903,
          1631.8212,
          7731.4271,
          3981.9768,
          12557.6053,
          2137.6536,
          1137.4697,
          8516.829,
          8871.1517,
          37133.8982,
          11743.299,
          5002.7827,
          2483.736,
          3392.9768,
          25081.76784,
          19515.5416,
          11987.1682,
          2689.4954,
          24227.33724,
          14001.2867,
          19444.2658,
          1615.7667,
          4463.2051,
          7152.6714,
          12648.7034,
          1986.9334,
          44260.7499,
          5400.9805,
          17085.2676,
          20462.99766,
          46151.1245,
          17179.522,
          1719.4363,
          12928.7911,
          9855.1314,
          7742.1098,
          25992.82104,
          42112.2356,
          2156.7518,
          21978.6769,
          12265.5069,
          4349.462,
          4151.0287,
          42124.5153,
          8124.4084,
          3561.8889,
          12142.5786,
          8232.6388,
          10977.2063,
          6184.2994,
          4889.9995,
          5478.0368,
          14133.03775,
          8944.1151,
          1837.2819,
          1607.5101,
          3180.5101,
          1391.5287,
          38126.2465,
          27000.98473,
          20781.48892,
          5846.9176,
          11856.4115,
          16586.49771,
          1631.6683,
          8083.9198,
          4185.0979,
          6652.5288,
          4074.4537,
          7345.7266,
          9140.951,
          14418.2804,
          46889.2612,
          46599.1084,
          9788.8659,
          13919.8229,
          12592.5345,
          1149.3959,
          28287.89766,
          4686.3887,
          11881.9696,
          7682.67,
          10381.4787,
          19521.9682,
          2201.0971,
          2497.0383,
          1534.3045,
          1824.2854,
          9304.7019,
          1622.1885,
          48885.13561,
          24513.09126,
          8211.1002,
          22218.1149,
          32548.3405,
          5974.3847,
          2498.4144,
          27724.28875,
          3994.1778,
          5397.6167,
          38245.59327,
          11482.63485,
          48675.5177,
          12925.886,
          19214.70553,
          13831.1152,
          8233.0975,
          27346.04207,
          3056.3881,
          13887.204,
          63770.42801,
          45863.205,
          3972.9247,
          3935.1799,
          9058.7303,
          2801.2588,
          2219.4451,
          4753.6368,
          1664.9996,
          6356.2707,
          17626.23951,
          4779.6023,
          5976.8311,
          2566.4707,
          5709.1644,
          7640.3092,
          1633.0444,
          16085.1275,
          9283.562,
          8547.6913,
          1880.07,
          42969.8527,
          34439.8559,
          11326.71487,
          3366.6697,
          12949.1554,
          18806.14547,
          9800.8882,
          10579.711,
          8280.6227,
          8527.532,
          12244.531,
          24667.419,
          6435.6237,
          22192.43711,
          1136.3994,
          27037.9141,
          42560.4304,
          6500.2359,
          4837.5823,
          4399.731,
          6185.3208,
          46200.9851,
          12485.8009,
          5438.7491,
          34806.4677,
          40273.6455,
          3500.6123,
          2020.5523,
          9504.3103,
          44400.4064,
          1727.54,
          10107.2206,
          40932.4295,
          6781.3542,
          19361.9988,
          40419.0191,
          18246.4955,
          3757.8448,
          19539.243,
          11833.7823,
          23065.4207,
          36307.7983,
          10560.4917,
          5934.3798,
          1146.7966,
          9386.1613,
          4350.5144,
          13457.9608,
          5662.225,
          21195.818,
          4266.1658,
          7046.7222,
          14313.8463,
          38792.6856,
          1815.8759,
          1131.5066,
          11013.7119,
          5584.3057,
          1877.9294,
          1621.8827,
          8219.2039,
          43813.8661,
          7160.3303,
          36021.0112,
          27533.9129,
          45008.9555,
          2438.0552,
          40974.1649,
          18218.16139,
          1141.4451,
          3392.3652,
          5966.8874,
          6653.7886,
          19719.6947,
          7243.8136,
          44202.6536,
          1634.5734,
          48673.5588,
          8125.7845,
          7633.7206,
          2473.3341,
          5245.2269,
          13470.8044,
          6289.7549,
          2927.0647,
          4673.3922,
          2304.0022,
          9487.6442,
          1121.8739,
          9549.5651,
          12982.8747,
          47462.894,
          3875.7341,
          41999.52,
          14474.675,
          8596.8278,
          10702.6424,
          2322.6218,
          7804.1605,
          2902.9065,
          4889.0368,
          5484.4673,
          13887.9685,
          18767.7377,
          36580.28216,
          35595.5898,
          42211.1382,
          1711.0268,
          8569.8618,
          44423.803,
          37484.4493,
          44501.3982,
          17929.30337,
          2480.9791,
          1981.5819,
          11554.2236,
          48970.2476,
          8978.1851,
          10928.849,
          39871.7043,
          4562.8421,
          34672.1472,
          15161.5344,
          11884.04858,
          9748.9106,
          41676.0811,
          1674.6323,
          3227.1211,
          3471.4096,
          11363.2832,
          10338.9316,
          8605.3615,
          41949.2441,
          24180.9335,
          10807.4863,
          36124.5737,
          38282.7495,
          8347.1643,
          5836.5204,
          8582.3023,
          3704.3545,
          9048.0273,
          27117.99378,
          6338.0756,
          40941.2854,
          39722.7462,
          5124.1887,
          18963.17192,
          10982.5013,
          11093.6229,
          19350.3689,
          18328.2381,
          5699.8375,
          18223.4512,
          23563.01618,
          5415.6612,
          4058.1161,
          6593.5083,
          8442.667,
          26125.67477,
          4795.6568,
          7162.0122,
          10594.2257,
          8515.7587,
          3238.4357,
          47269.854,
          49577.6624,
          3171.6149,
          1135.9407,
          1633.9618,
          4415.1588,
          6770.1925,
          26926.5144,
          14478.33015,
          4747.0529,
          17043.3414,
          8283.6807,
          1720.3537,
          7147.4728,
          1515.3449,
          4340.4409,
          62592.87309,
          2464.6188,
          1163.4627,
          12981.3457,
          43896.3763,
          9377.9047,
          12629.1656,
          1629.8335
         ],
         "y0": " ",
         "yaxis": "y"
        },
        {
         "alignmentgroup": "True",
         "boxpoints": "outliers",
         "hovertemplate": "region=%{x}<br>charges=%{y}<extra></extra>",
         "legendgroup": "Northwest",
         "marker": {
          "color": "#5D8370",
          "line": {
           "color": "#F7F7F7",
           "width": 1
          },
          "opacity": 0.5,
          "size": 9
         },
         "name": "Northwest",
         "notched": true,
         "offsetgroup": "Northwest",
         "orientation": "v",
         "showlegend": false,
         "type": "box",
         "x": [
          "Northwest",
          "Northwest",
          "Northwest",
          "Northwest",
          "Northwest",
          "Northwest",
          "Northwest",
          "Northwest",
          "Northwest",
          "Northwest",
          "Northwest",
          "Northwest",
          "Northwest",
          "Northwest",
          "Northwest",
          "Northwest",
          "Northwest",
          "Northwest",
          "Northwest",
          "Northwest",
          "Northwest",
          "Northwest",
          "Northwest",
          "Northwest",
          "Northwest",
          "Northwest",
          "Northwest",
          "Northwest",
          "Northwest",
          "Northwest",
          "Northwest",
          "Northwest",
          "Northwest",
          "Northwest",
          "Northwest",
          "Northwest",
          "Northwest",
          "Northwest",
          "Northwest",
          "Northwest",
          "Northwest",
          "Northwest",
          "Northwest",
          "Northwest",
          "Northwest",
          "Northwest",
          "Northwest",
          "Northwest",
          "Northwest",
          "Northwest",
          "Northwest",
          "Northwest",
          "Northwest",
          "Northwest",
          "Northwest",
          "Northwest",
          "Northwest",
          "Northwest",
          "Northwest",
          "Northwest",
          "Northwest",
          "Northwest",
          "Northwest",
          "Northwest",
          "Northwest",
          "Northwest",
          "Northwest",
          "Northwest",
          "Northwest",
          "Northwest",
          "Northwest",
          "Northwest",
          "Northwest",
          "Northwest",
          "Northwest",
          "Northwest",
          "Northwest",
          "Northwest",
          "Northwest",
          "Northwest",
          "Northwest",
          "Northwest",
          "Northwest",
          "Northwest",
          "Northwest",
          "Northwest",
          "Northwest",
          "Northwest",
          "Northwest",
          "Northwest",
          "Northwest",
          "Northwest",
          "Northwest",
          "Northwest",
          "Northwest",
          "Northwest",
          "Northwest",
          "Northwest",
          "Northwest",
          "Northwest",
          "Northwest",
          "Northwest",
          "Northwest",
          "Northwest",
          "Northwest",
          "Northwest",
          "Northwest",
          "Northwest",
          "Northwest",
          "Northwest",
          "Northwest",
          "Northwest",
          "Northwest",
          "Northwest",
          "Northwest",
          "Northwest",
          "Northwest",
          "Northwest",
          "Northwest",
          "Northwest",
          "Northwest",
          "Northwest",
          "Northwest",
          "Northwest",
          "Northwest",
          "Northwest",
          "Northwest",
          "Northwest",
          "Northwest",
          "Northwest",
          "Northwest",
          "Northwest",
          "Northwest",
          "Northwest",
          "Northwest",
          "Northwest",
          "Northwest",
          "Northwest",
          "Northwest",
          "Northwest",
          "Northwest",
          "Northwest",
          "Northwest",
          "Northwest",
          "Northwest",
          "Northwest",
          "Northwest",
          "Northwest",
          "Northwest",
          "Northwest",
          "Northwest",
          "Northwest",
          "Northwest",
          "Northwest",
          "Northwest",
          "Northwest",
          "Northwest",
          "Northwest",
          "Northwest",
          "Northwest",
          "Northwest",
          "Northwest",
          "Northwest",
          "Northwest",
          "Northwest",
          "Northwest",
          "Northwest",
          "Northwest",
          "Northwest",
          "Northwest",
          "Northwest",
          "Northwest",
          "Northwest",
          "Northwest",
          "Northwest",
          "Northwest",
          "Northwest",
          "Northwest",
          "Northwest",
          "Northwest",
          "Northwest",
          "Northwest",
          "Northwest",
          "Northwest",
          "Northwest",
          "Northwest",
          "Northwest",
          "Northwest",
          "Northwest",
          "Northwest",
          "Northwest",
          "Northwest",
          "Northwest",
          "Northwest",
          "Northwest",
          "Northwest",
          "Northwest",
          "Northwest",
          "Northwest",
          "Northwest",
          "Northwest",
          "Northwest",
          "Northwest",
          "Northwest",
          "Northwest",
          "Northwest",
          "Northwest",
          "Northwest",
          "Northwest",
          "Northwest",
          "Northwest",
          "Northwest",
          "Northwest",
          "Northwest",
          "Northwest",
          "Northwest",
          "Northwest",
          "Northwest",
          "Northwest",
          "Northwest",
          "Northwest",
          "Northwest",
          "Northwest",
          "Northwest",
          "Northwest",
          "Northwest",
          "Northwest",
          "Northwest",
          "Northwest",
          "Northwest",
          "Northwest",
          "Northwest",
          "Northwest",
          "Northwest",
          "Northwest",
          "Northwest",
          "Northwest",
          "Northwest",
          "Northwest",
          "Northwest",
          "Northwest",
          "Northwest",
          "Northwest",
          "Northwest",
          "Northwest",
          "Northwest",
          "Northwest",
          "Northwest",
          "Northwest",
          "Northwest",
          "Northwest",
          "Northwest",
          "Northwest",
          "Northwest",
          "Northwest",
          "Northwest",
          "Northwest",
          "Northwest",
          "Northwest",
          "Northwest",
          "Northwest",
          "Northwest",
          "Northwest",
          "Northwest",
          "Northwest",
          "Northwest",
          "Northwest",
          "Northwest",
          "Northwest",
          "Northwest",
          "Northwest",
          "Northwest",
          "Northwest",
          "Northwest",
          "Northwest",
          "Northwest",
          "Northwest",
          "Northwest",
          "Northwest",
          "Northwest",
          "Northwest",
          "Northwest",
          "Northwest",
          "Northwest",
          "Northwest",
          "Northwest",
          "Northwest",
          "Northwest",
          "Northwest",
          "Northwest",
          "Northwest",
          "Northwest",
          "Northwest",
          "Northwest",
          "Northwest",
          "Northwest",
          "Northwest",
          "Northwest",
          "Northwest",
          "Northwest",
          "Northwest",
          "Northwest",
          "Northwest",
          "Northwest",
          "Northwest",
          "Northwest",
          "Northwest",
          "Northwest",
          "Northwest",
          "Northwest",
          "Northwest",
          "Northwest",
          "Northwest",
          "Northwest",
          "Northwest",
          "Northwest",
          "Northwest",
          "Northwest",
          "Northwest",
          "Northwest",
          "Northwest",
          "Northwest",
          "Northwest",
          "Northwest",
          "Northwest"
         ],
         "x0": " ",
         "xaxis": "x",
         "y": [
          21984.47061,
          3866.8552,
          7281.5056,
          28923.13692,
          6203.90175,
          12268.63225,
          2775.19215,
          13770.0979,
          1625.43375,
          15612.19335,
          3556.9223,
          3579.8287,
          8059.6791,
          47496.49445,
          5989.52365,
          30166.61817,
          4133.64165,
          14711.7438,
          6389.37785,
          11356.6609,
          6571.02435,
          11033.6617,
          21098.55405,
          43578.9394,
          8026.6666,
          11082.5772,
          10942.13205,
          5729.0053,
          17560.37975,
          3877.30425,
          10825.2537,
          2404.7338,
          6686.4313,
          2257.47525,
          10115.00885,
          32734.1863,
          1632.56445,
          2045.68525,
          18157.876,
          20745.9891,
          40720.55105,
          10959.6947,
          5125.2157,
          6948.7008,
          21348.706,
          5028.1466,
          6128.79745,
          2719.27975,
          2855.43755,
          6455.86265,
          11735.87905,
          7419.4779,
          4922.9159,
          12044.342,
          1639.5631,
          9644.2525,
          2130.6759,
          13012.20865,
          8162.71625,
          3537.703,
          10355.641,
          7443.64305,
          6710.1919,
          17352.6803,
          24476.47851,
          43921.1837,
          11520.09985,
          33750.2918,
          36219.40545,
          7265.7025,
          2523.1695,
          2803.69785,
          14256.1928,
          38746.3551,
          9249.4952,
          19442.3535,
          7749.1564,
          8835.26495,
          7421.19455,
          4894.7533,
          42760.5022,
          24393.6224,
          13429.0354,
          13937.6665,
          13352.0998,
          1635.73365,
          11830.6072,
          9620.3307,
          8017.06115,
          8116.26885,
          13415.0381,
          18033.9679,
          16455.70785,
          30284.64294,
          3176.8159,
          4618.0799,
          2138.0707,
          7526.70645,
          14692.66935,
          10269.46,
          1621.3402,
          2134.9015,
          28950.4692,
          18804.7524,
          4906.40965,
          4243.59005,
          4738.2682,
          26109.32905,
          11454.0215,
          4032.2407,
          1769.53165,
          11840.77505,
          1632.03625,
          12643.3778,
          28868.6639,
          2534.39375,
          15555.18875,
          12475.3513,
          10461.9794,
          6796.86325,
          2643.2685,
          3077.0955,
          8413.46305,
          24059.68019,
          10231.4999,
          23807.2406,
          11187.6567,
          39983.42595,
          1646.4297,
          9193.8385,
          2128.43105,
          6373.55735,
          7256.7231,
          45702.02235,
          12222.8983,
          1639.5631,
          43943.8761,
          8428.0693,
          33471.97189,
          9174.13565,
          17468.9839,
          25678.77845,
          12129.61415,
          3736.4647,
          42983.4585,
          2709.1119,
          32787.45859,
          4466.6214,
          6123.5688,
          4058.71245,
          40003.33225,
          7222.78625,
          46130.5265,
          10156.7832,
          9863.4718,
          2362.22905,
          2352.96845,
          3201.24515,
          10976.24575,
          5385.3379,
          8930.93455,
          10264.4421,
          8310.83915,
          9566.9909,
          13112.6048,
          10848.1343,
          12231.6136,
          6664.68595,
          9583.8933,
          8827.2099,
          9910.35985,
          1627.28245,
          3062.50825,
          1906.35825,
          14210.53595,
          11842.62375,
          6933.24225,
          17748.5062,
          7261.741,
          6986.697,
          9869.8102,
          1917.3184,
          7209.4918,
          18310.742,
          7731.85785,
          28476.73499,
          2136.88225,
          6360.9936,
          2842.76075,
          55135.40209,
          2680.9493,
          12523.6048,
          6117.4945,
          5266.3656,
          4719.73655,
          11743.9341,
          5377.4578,
          12622.1795,
          10601.63225,
          14119.62,
          15817.9857,
          12269.68865,
          2690.1138,
          2789.0574,
          4877.98105,
          5272.1758,
          11945.1327,
          29330.98315,
          2221.56445,
          2117.33885,
          2639.0429,
          14382.70905,
          5257.50795,
          21774.32215,
          4320.41085,
          8965.79575,
          1628.4709,
          6358.77645,
          4527.18295,
          20009.63365,
          12609.88702,
          28468.91901,
          2730.10785,
          26467.09737,
          23967.38305,
          7518.02535,
          2527.81865,
          8410.04685,
          28340.18885,
          16420.49455,
          5267.81815,
          17361.7661,
          4433.3877,
          24915.22085,
          8765.249,
          12124.9924,
          2709.24395,
          12495.29085,
          26018.95052,
          16450.8947,
          21595.38229,
          21677.28345,
          12950.0712,
          39725.51805,
          22493.65964,
          20234.85475,
          21880.82,
          3594.17085,
          8023.13545,
          3353.4703,
          10594.50155,
          4462.7218,
          6548.19505,
          14349.8544,
          1909.52745,
          4454.40265,
          5855.9025,
          15019.76005,
          11353.2276,
          33907.548,
          8988.15875,
          10493.9458,
          5312.16985,
          5693.4305,
          46661.4424,
          14254.6082,
          9991.03765,
          19673.33573,
          11085.5868,
          3176.2877,
          36898.73308,
          11289.10925,
          2261.5688,
          12235.8392,
          5630.45785,
          11015.1747,
          14426.07385,
          7727.2532,
          7153.5539,
          6112.35295,
          6457.8434,
          4433.9159,
          23887.6627,
          2850.68375,
          37465.34375,
          13844.7972,
          5327.40025,
          8671.19125,
          4134.08245,
          18838.70366,
          33307.5508,
          6393.60345,
          6198.7518,
          8733.22925,
          2055.3249,
          5116.5004,
          5373.36425,
          3956.07145,
          7537.1639,
          60021.39897,
          12479.70895,
          2699.56835,
          12224.35085,
          4296.2712,
          11436.73815,
          11305.93455,
          30063.58055,
          3292.52985,
          3021.80915,
          4357.04365,
          4189.1131,
          24535.69855,
          9301.89355,
          5261.46945,
          2710.82855,
          46718.16325,
          21472.4788,
          6940.90985,
          4571.41305,
          18765.87545,
          7201.70085,
          5425.02335,
          4239.89265,
          10600.5483,
          29141.3603
         ],
         "y0": " ",
         "yaxis": "y"
        },
        {
         "alignmentgroup": "True",
         "boxpoints": "outliers",
         "hovertemplate": "region=%{x}<br>charges=%{y}<extra></extra>",
         "legendgroup": "Northeast",
         "marker": {
          "color": "#6C839B",
          "line": {
           "color": "#F7F7F7",
           "width": 1
          },
          "opacity": 0.5,
          "size": 9
         },
         "name": "Northeast",
         "notched": true,
         "offsetgroup": "Northeast",
         "orientation": "v",
         "showlegend": false,
         "type": "box",
         "x": [
          "Northeast",
          "Northeast",
          "Northeast",
          "Northeast",
          "Northeast",
          "Northeast",
          "Northeast",
          "Northeast",
          "Northeast",
          "Northeast",
          "Northeast",
          "Northeast",
          "Northeast",
          "Northeast",
          "Northeast",
          "Northeast",
          "Northeast",
          "Northeast",
          "Northeast",
          "Northeast",
          "Northeast",
          "Northeast",
          "Northeast",
          "Northeast",
          "Northeast",
          "Northeast",
          "Northeast",
          "Northeast",
          "Northeast",
          "Northeast",
          "Northeast",
          "Northeast",
          "Northeast",
          "Northeast",
          "Northeast",
          "Northeast",
          "Northeast",
          "Northeast",
          "Northeast",
          "Northeast",
          "Northeast",
          "Northeast",
          "Northeast",
          "Northeast",
          "Northeast",
          "Northeast",
          "Northeast",
          "Northeast",
          "Northeast",
          "Northeast",
          "Northeast",
          "Northeast",
          "Northeast",
          "Northeast",
          "Northeast",
          "Northeast",
          "Northeast",
          "Northeast",
          "Northeast",
          "Northeast",
          "Northeast",
          "Northeast",
          "Northeast",
          "Northeast",
          "Northeast",
          "Northeast",
          "Northeast",
          "Northeast",
          "Northeast",
          "Northeast",
          "Northeast",
          "Northeast",
          "Northeast",
          "Northeast",
          "Northeast",
          "Northeast",
          "Northeast",
          "Northeast",
          "Northeast",
          "Northeast",
          "Northeast",
          "Northeast",
          "Northeast",
          "Northeast",
          "Northeast",
          "Northeast",
          "Northeast",
          "Northeast",
          "Northeast",
          "Northeast",
          "Northeast",
          "Northeast",
          "Northeast",
          "Northeast",
          "Northeast",
          "Northeast",
          "Northeast",
          "Northeast",
          "Northeast",
          "Northeast",
          "Northeast",
          "Northeast",
          "Northeast",
          "Northeast",
          "Northeast",
          "Northeast",
          "Northeast",
          "Northeast",
          "Northeast",
          "Northeast",
          "Northeast",
          "Northeast",
          "Northeast",
          "Northeast",
          "Northeast",
          "Northeast",
          "Northeast",
          "Northeast",
          "Northeast",
          "Northeast",
          "Northeast",
          "Northeast",
          "Northeast",
          "Northeast",
          "Northeast",
          "Northeast",
          "Northeast",
          "Northeast",
          "Northeast",
          "Northeast",
          "Northeast",
          "Northeast",
          "Northeast",
          "Northeast",
          "Northeast",
          "Northeast",
          "Northeast",
          "Northeast",
          "Northeast",
          "Northeast",
          "Northeast",
          "Northeast",
          "Northeast",
          "Northeast",
          "Northeast",
          "Northeast",
          "Northeast",
          "Northeast",
          "Northeast",
          "Northeast",
          "Northeast",
          "Northeast",
          "Northeast",
          "Northeast",
          "Northeast",
          "Northeast",
          "Northeast",
          "Northeast",
          "Northeast",
          "Northeast",
          "Northeast",
          "Northeast",
          "Northeast",
          "Northeast",
          "Northeast",
          "Northeast",
          "Northeast",
          "Northeast",
          "Northeast",
          "Northeast",
          "Northeast",
          "Northeast",
          "Northeast",
          "Northeast",
          "Northeast",
          "Northeast",
          "Northeast",
          "Northeast",
          "Northeast",
          "Northeast",
          "Northeast",
          "Northeast",
          "Northeast",
          "Northeast",
          "Northeast",
          "Northeast",
          "Northeast",
          "Northeast",
          "Northeast",
          "Northeast",
          "Northeast",
          "Northeast",
          "Northeast",
          "Northeast",
          "Northeast",
          "Northeast",
          "Northeast",
          "Northeast",
          "Northeast",
          "Northeast",
          "Northeast",
          "Northeast",
          "Northeast",
          "Northeast",
          "Northeast",
          "Northeast",
          "Northeast",
          "Northeast",
          "Northeast",
          "Northeast",
          "Northeast",
          "Northeast",
          "Northeast",
          "Northeast",
          "Northeast",
          "Northeast",
          "Northeast",
          "Northeast",
          "Northeast",
          "Northeast",
          "Northeast",
          "Northeast",
          "Northeast",
          "Northeast",
          "Northeast",
          "Northeast",
          "Northeast",
          "Northeast",
          "Northeast",
          "Northeast",
          "Northeast",
          "Northeast",
          "Northeast",
          "Northeast",
          "Northeast",
          "Northeast",
          "Northeast",
          "Northeast",
          "Northeast",
          "Northeast",
          "Northeast",
          "Northeast",
          "Northeast",
          "Northeast",
          "Northeast",
          "Northeast",
          "Northeast",
          "Northeast",
          "Northeast",
          "Northeast",
          "Northeast",
          "Northeast",
          "Northeast",
          "Northeast",
          "Northeast",
          "Northeast",
          "Northeast",
          "Northeast",
          "Northeast",
          "Northeast",
          "Northeast",
          "Northeast",
          "Northeast",
          "Northeast",
          "Northeast",
          "Northeast",
          "Northeast",
          "Northeast",
          "Northeast",
          "Northeast",
          "Northeast",
          "Northeast",
          "Northeast",
          "Northeast",
          "Northeast",
          "Northeast",
          "Northeast",
          "Northeast",
          "Northeast",
          "Northeast",
          "Northeast",
          "Northeast",
          "Northeast",
          "Northeast",
          "Northeast",
          "Northeast",
          "Northeast",
          "Northeast",
          "Northeast",
          "Northeast",
          "Northeast",
          "Northeast",
          "Northeast",
          "Northeast",
          "Northeast",
          "Northeast",
          "Northeast",
          "Northeast",
          "Northeast",
          "Northeast",
          "Northeast",
          "Northeast",
          "Northeast",
          "Northeast",
          "Northeast",
          "Northeast",
          "Northeast",
          "Northeast",
          "Northeast",
          "Northeast",
          "Northeast",
          "Northeast",
          "Northeast",
          "Northeast",
          "Northeast",
          "Northeast",
          "Northeast",
          "Northeast",
          "Northeast",
          "Northeast",
          "Northeast",
          "Northeast",
          "Northeast",
          "Northeast"
         ],
         "x0": " ",
         "xaxis": "x",
         "y": [
          6406.4107,
          2721.3208,
          10797.3362,
          2395.17155,
          13228.84695,
          37701.8768,
          14451.83515,
          2198.18985,
          39774.2763,
          3046.062,
          6079.6715,
          3393.35635,
          2211.13075,
          13607.36875,
          8606.2174,
          6799.458,
          2755.02095,
          4441.21315,
          7935.29115,
          30184.9367,
          22412.6485,
          3645.0894,
          21344.8467,
          11488.31695,
          30259.99556,
          1705.6245,
          39556.4945,
          3385.39915,
          12815.44495,
          13616.3586,
          2457.21115,
          27375.90478,
          3490.5491,
          6334.34355,
          19964.7463,
          7077.1894,
          15518.18025,
          10407.08585,
          4827.90495,
          1694.7964,
          8538.28845,
          4005.4225,
          43753.33705,
          14901.5167,
          4337.7352,
          20984.0936,
          6610.1097,
          10564.8845,
          7358.17565,
          9225.2564,
          38511.6283,
          5354.07465,
          29523.1656,
          4040.55825,
          12829.4551,
          41097.16175,
          13047.33235,
          24869.8368,
          14590.63205,
          9282.4806,
          9617.66245,
          9715.841,
          22331.5668,
          48549.17835,
          4237.12655,
          11879.10405,
          9432.9253,
          47896.79135,
          20277.80751,
          1704.5681,
          6746.7425,
          24873.3849,
          11944.59435,
          9722.7695,
          10435.06525,
          4667.60765,
          24671.66334,
          11566.30055,
          6600.20595,
          48517.56315,
          11658.37915,
          19144.57652,
          41919.097,
          13217.0945,
          13981.85035,
          8334.45755,
          12404.8791,
          10043.249,
          9778.3472,
          13430.265,
          3481.868,
          12029.2867,
          7639.41745,
          21659.9301,
          15006.57945,
          42303.69215,
          8302.53565,
          10736.87075,
          8964.06055,
          9290.1395,
          9411.005,
          11396.9002,
          19594.80965,
          14455.64405,
          39125.33225,
          2727.3951,
          6555.07035,
          7323.734819,
          3167.45585,
          2254.7967,
          2897.3235,
          12730.9996,
          15230.32405,
          11165.41765,
          23288.9284,
          2203.47185,
          20878.78443,
          35147.52848,
          4347.02335,
          2196.4732,
          1967.0227,
          6837.3687,
          3044.2133,
          11763.0009,
          9361.3268,
          3857.75925,
          25656.57526,
          9866.30485,
          8342.90875,
          1708.0014,
          14043.4767,
          6067.12675,
          3268.84665,
          3213.62205,
          17878.90068,
          8334.5896,
          10923.9332,
          31620.00106,
          13224.05705,
          58571.07448,
          3206.49135,
          12913.9924,
          3861.20965,
          13635.6379,
          15359.1045,
          8823.98575,
          5594.8455,
          3558.62025,
          4435.0942,
          2207.69745,
          6753.038,
          11658.11505,
          34617.84065,
          6748.5912,
          7173.35995,
          14410.9321,
          24915.04626,
          20149.3229,
          13143.86485,
          10141.1362,
          8252.2843,
          1712.227,
          12430.95335,
          26392.26029,
          14394.39815,
          5148.5526,
          45710.20785,
          3943.5954,
          11244.3769,
          7729.64575,
          2104.1134,
          29186.48236,
          9541.69555,
          6113.23105,
          5469.0066,
          1984.4533,
          9875.6804,
          10106.13425,
          16657.71745,
          2217.6012,
          9447.25035,
          36189.1017,
          8604.48365,
          43254.41795,
          17128.42608,
          5031.26955,
          7985.815,
          5428.7277,
          3925.7582,
          3070.8087,
          9095.06825,
          12797.20962,
          7448.40395,
          12741.16745,
          5209.57885,
          2731.9122,
          4719.52405,
          17904.52705,
          3309.7926,
          4428.88785,
          23401.30575,
          16069.08475,
          20773.62775,
          39597.4072,
          11657.7189,
          6402.29135,
          12323.936,
          10072.05505,
          37270.1512,
          42111.6647,
          11729.6795,
          24106.91255,
          5458.04645,
          13129.60345,
          8891.1395,
          2585.85065,
          46255.1125,
          27218.43725,
          10422.91665,
          13555.0049,
          19798.05455,
          8688.85885,
          4661.28635,
          4564.19145,
          4846.92015,
          33732.6867,
          35069.37452,
          25333.33284,
          32108.66282,
          2217.46915,
          39047.285,
          11534.87265,
          41034.2214,
          9500.57305,
          3279.86855,
          4992.3764,
          16138.76205,
          9704.66805,
          25517.11363,
          4500.33925,
          16796.41194,
          4915.05985,
          4518.82625,
          14571.8908,
          7144.86265,
          7986.47525,
          6551.7501,
          8627.5411,
          4438.2634,
          23241.47453,
          9957.7216,
          6877.9801,
          4137.5227,
          13747.87235,
          2250.8352,
          1704.70015,
          33475.81715,
          11394.06555,
          7325.0482,
          14394.5579,
          9288.0267,
          5757.41345,
          13974.45555,
          12096.6512,
          13204.28565,
          2102.2647,
          10796.35025,
          11286.5387,
          4561.1885,
          44641.1974,
          23045.56616,
          16776.30405,
          11512.405,
          2396.0959,
          9222.4026,
          18903.49141,
          40904.1995,
          20709.02034,
          2203.73595,
          7228.21565,
          2459.7201,
          2200.83085,
          5227.98875,
          17178.6824,
          2899.48935,
          7650.77375,
          9447.3824,
          8603.8234,
          21771.3423,
          13725.47184,
          13019.16105,
          9964.06,
          20296.86345,
          1702.4553,
          12890.05765,
          4718.20355,
          6858.4796,
          6640.54485,
          11938.25595,
          14449.8544,
          6985.50695,
          37607.5277,
          18648.4217,
          10197.7722,
          4544.2348,
          10370.91255,
          34254.05335,
          2741.948,
          22462.04375,
          14283.4594,
          8534.6718,
          3732.6251,
          7133.9025,
          11931.12525,
          1708.92575,
          21259.37795,
          16115.3045,
          11272.33139,
          19496.71917,
          28101.33305,
          13143.33665,
          7050.0213,
          22395.74424,
          2205.9808
         ],
         "y0": " ",
         "yaxis": "y"
        }
       ],
       "layout": {
        "boxmode": "overlay",
        "font": {
         "color": "#303030"
        },
        "height": 600,
        "legend": {
         "title": {
          "text": "region"
         },
         "tracegroupgap": 0
        },
        "margin": {
         "t": 60
        },
        "template": {
         "data": {
          "bar": [
           {
            "error_x": {
             "color": "#2a3f5f"
            },
            "error_y": {
             "color": "#2a3f5f"
            },
            "marker": {
             "line": {
              "color": "white",
              "width": 0.5
             },
             "pattern": {
              "fillmode": "overlay",
              "size": 10,
              "solidity": 0.2
             }
            },
            "type": "bar"
           }
          ],
          "barpolar": [
           {
            "marker": {
             "line": {
              "color": "white",
              "width": 0.5
             },
             "pattern": {
              "fillmode": "overlay",
              "size": 10,
              "solidity": 0.2
             }
            },
            "type": "barpolar"
           }
          ],
          "carpet": [
           {
            "aaxis": {
             "endlinecolor": "#2a3f5f",
             "gridcolor": "#C8D4E3",
             "linecolor": "#C8D4E3",
             "minorgridcolor": "#C8D4E3",
             "startlinecolor": "#2a3f5f"
            },
            "baxis": {
             "endlinecolor": "#2a3f5f",
             "gridcolor": "#C8D4E3",
             "linecolor": "#C8D4E3",
             "minorgridcolor": "#C8D4E3",
             "startlinecolor": "#2a3f5f"
            },
            "type": "carpet"
           }
          ],
          "choropleth": [
           {
            "colorbar": {
             "outlinewidth": 0,
             "ticks": ""
            },
            "type": "choropleth"
           }
          ],
          "contour": [
           {
            "colorbar": {
             "outlinewidth": 0,
             "ticks": ""
            },
            "colorscale": [
             [
              0,
              "#0d0887"
             ],
             [
              0.1111111111111111,
              "#46039f"
             ],
             [
              0.2222222222222222,
              "#7201a8"
             ],
             [
              0.3333333333333333,
              "#9c179e"
             ],
             [
              0.4444444444444444,
              "#bd3786"
             ],
             [
              0.5555555555555556,
              "#d8576b"
             ],
             [
              0.6666666666666666,
              "#ed7953"
             ],
             [
              0.7777777777777778,
              "#fb9f3a"
             ],
             [
              0.8888888888888888,
              "#fdca26"
             ],
             [
              1,
              "#f0f921"
             ]
            ],
            "type": "contour"
           }
          ],
          "contourcarpet": [
           {
            "colorbar": {
             "outlinewidth": 0,
             "ticks": ""
            },
            "type": "contourcarpet"
           }
          ],
          "heatmap": [
           {
            "colorbar": {
             "outlinewidth": 0,
             "ticks": ""
            },
            "colorscale": [
             [
              0,
              "#0d0887"
             ],
             [
              0.1111111111111111,
              "#46039f"
             ],
             [
              0.2222222222222222,
              "#7201a8"
             ],
             [
              0.3333333333333333,
              "#9c179e"
             ],
             [
              0.4444444444444444,
              "#bd3786"
             ],
             [
              0.5555555555555556,
              "#d8576b"
             ],
             [
              0.6666666666666666,
              "#ed7953"
             ],
             [
              0.7777777777777778,
              "#fb9f3a"
             ],
             [
              0.8888888888888888,
              "#fdca26"
             ],
             [
              1,
              "#f0f921"
             ]
            ],
            "type": "heatmap"
           }
          ],
          "heatmapgl": [
           {
            "colorbar": {
             "outlinewidth": 0,
             "ticks": ""
            },
            "colorscale": [
             [
              0,
              "#0d0887"
             ],
             [
              0.1111111111111111,
              "#46039f"
             ],
             [
              0.2222222222222222,
              "#7201a8"
             ],
             [
              0.3333333333333333,
              "#9c179e"
             ],
             [
              0.4444444444444444,
              "#bd3786"
             ],
             [
              0.5555555555555556,
              "#d8576b"
             ],
             [
              0.6666666666666666,
              "#ed7953"
             ],
             [
              0.7777777777777778,
              "#fb9f3a"
             ],
             [
              0.8888888888888888,
              "#fdca26"
             ],
             [
              1,
              "#f0f921"
             ]
            ],
            "type": "heatmapgl"
           }
          ],
          "histogram": [
           {
            "marker": {
             "pattern": {
              "fillmode": "overlay",
              "size": 10,
              "solidity": 0.2
             }
            },
            "type": "histogram"
           }
          ],
          "histogram2d": [
           {
            "colorbar": {
             "outlinewidth": 0,
             "ticks": ""
            },
            "colorscale": [
             [
              0,
              "#0d0887"
             ],
             [
              0.1111111111111111,
              "#46039f"
             ],
             [
              0.2222222222222222,
              "#7201a8"
             ],
             [
              0.3333333333333333,
              "#9c179e"
             ],
             [
              0.4444444444444444,
              "#bd3786"
             ],
             [
              0.5555555555555556,
              "#d8576b"
             ],
             [
              0.6666666666666666,
              "#ed7953"
             ],
             [
              0.7777777777777778,
              "#fb9f3a"
             ],
             [
              0.8888888888888888,
              "#fdca26"
             ],
             [
              1,
              "#f0f921"
             ]
            ],
            "type": "histogram2d"
           }
          ],
          "histogram2dcontour": [
           {
            "colorbar": {
             "outlinewidth": 0,
             "ticks": ""
            },
            "colorscale": [
             [
              0,
              "#0d0887"
             ],
             [
              0.1111111111111111,
              "#46039f"
             ],
             [
              0.2222222222222222,
              "#7201a8"
             ],
             [
              0.3333333333333333,
              "#9c179e"
             ],
             [
              0.4444444444444444,
              "#bd3786"
             ],
             [
              0.5555555555555556,
              "#d8576b"
             ],
             [
              0.6666666666666666,
              "#ed7953"
             ],
             [
              0.7777777777777778,
              "#fb9f3a"
             ],
             [
              0.8888888888888888,
              "#fdca26"
             ],
             [
              1,
              "#f0f921"
             ]
            ],
            "type": "histogram2dcontour"
           }
          ],
          "mesh3d": [
           {
            "colorbar": {
             "outlinewidth": 0,
             "ticks": ""
            },
            "type": "mesh3d"
           }
          ],
          "parcoords": [
           {
            "line": {
             "colorbar": {
              "outlinewidth": 0,
              "ticks": ""
             }
            },
            "type": "parcoords"
           }
          ],
          "pie": [
           {
            "automargin": true,
            "type": "pie"
           }
          ],
          "scatter": [
           {
            "marker": {
             "colorbar": {
              "outlinewidth": 0,
              "ticks": ""
             }
            },
            "type": "scatter"
           }
          ],
          "scatter3d": [
           {
            "line": {
             "colorbar": {
              "outlinewidth": 0,
              "ticks": ""
             }
            },
            "marker": {
             "colorbar": {
              "outlinewidth": 0,
              "ticks": ""
             }
            },
            "type": "scatter3d"
           }
          ],
          "scattercarpet": [
           {
            "marker": {
             "colorbar": {
              "outlinewidth": 0,
              "ticks": ""
             }
            },
            "type": "scattercarpet"
           }
          ],
          "scattergeo": [
           {
            "marker": {
             "colorbar": {
              "outlinewidth": 0,
              "ticks": ""
             }
            },
            "type": "scattergeo"
           }
          ],
          "scattergl": [
           {
            "marker": {
             "colorbar": {
              "outlinewidth": 0,
              "ticks": ""
             }
            },
            "type": "scattergl"
           }
          ],
          "scattermapbox": [
           {
            "marker": {
             "colorbar": {
              "outlinewidth": 0,
              "ticks": ""
             }
            },
            "type": "scattermapbox"
           }
          ],
          "scatterpolar": [
           {
            "marker": {
             "colorbar": {
              "outlinewidth": 0,
              "ticks": ""
             }
            },
            "type": "scatterpolar"
           }
          ],
          "scatterpolargl": [
           {
            "marker": {
             "colorbar": {
              "outlinewidth": 0,
              "ticks": ""
             }
            },
            "type": "scatterpolargl"
           }
          ],
          "scatterternary": [
           {
            "marker": {
             "colorbar": {
              "outlinewidth": 0,
              "ticks": ""
             }
            },
            "type": "scatterternary"
           }
          ],
          "surface": [
           {
            "colorbar": {
             "outlinewidth": 0,
             "ticks": ""
            },
            "colorscale": [
             [
              0,
              "#0d0887"
             ],
             [
              0.1111111111111111,
              "#46039f"
             ],
             [
              0.2222222222222222,
              "#7201a8"
             ],
             [
              0.3333333333333333,
              "#9c179e"
             ],
             [
              0.4444444444444444,
              "#bd3786"
             ],
             [
              0.5555555555555556,
              "#d8576b"
             ],
             [
              0.6666666666666666,
              "#ed7953"
             ],
             [
              0.7777777777777778,
              "#fb9f3a"
             ],
             [
              0.8888888888888888,
              "#fdca26"
             ],
             [
              1,
              "#f0f921"
             ]
            ],
            "type": "surface"
           }
          ],
          "table": [
           {
            "cells": {
             "fill": {
              "color": "#EBF0F8"
             },
             "line": {
              "color": "white"
             }
            },
            "header": {
             "fill": {
              "color": "#C8D4E3"
             },
             "line": {
              "color": "white"
             }
            },
            "type": "table"
           }
          ]
         },
         "layout": {
          "annotationdefaults": {
           "arrowcolor": "#2a3f5f",
           "arrowhead": 0,
           "arrowwidth": 1
          },
          "autotypenumbers": "strict",
          "coloraxis": {
           "colorbar": {
            "outlinewidth": 0,
            "ticks": ""
           }
          },
          "colorscale": {
           "diverging": [
            [
             0,
             "#8e0152"
            ],
            [
             0.1,
             "#c51b7d"
            ],
            [
             0.2,
             "#de77ae"
            ],
            [
             0.3,
             "#f1b6da"
            ],
            [
             0.4,
             "#fde0ef"
            ],
            [
             0.5,
             "#f7f7f7"
            ],
            [
             0.6,
             "#e6f5d0"
            ],
            [
             0.7,
             "#b8e186"
            ],
            [
             0.8,
             "#7fbc41"
            ],
            [
             0.9,
             "#4d9221"
            ],
            [
             1,
             "#276419"
            ]
           ],
           "sequential": [
            [
             0,
             "#0d0887"
            ],
            [
             0.1111111111111111,
             "#46039f"
            ],
            [
             0.2222222222222222,
             "#7201a8"
            ],
            [
             0.3333333333333333,
             "#9c179e"
            ],
            [
             0.4444444444444444,
             "#bd3786"
            ],
            [
             0.5555555555555556,
             "#d8576b"
            ],
            [
             0.6666666666666666,
             "#ed7953"
            ],
            [
             0.7777777777777778,
             "#fb9f3a"
            ],
            [
             0.8888888888888888,
             "#fdca26"
            ],
            [
             1,
             "#f0f921"
            ]
           ],
           "sequentialminus": [
            [
             0,
             "#0d0887"
            ],
            [
             0.1111111111111111,
             "#46039f"
            ],
            [
             0.2222222222222222,
             "#7201a8"
            ],
            [
             0.3333333333333333,
             "#9c179e"
            ],
            [
             0.4444444444444444,
             "#bd3786"
            ],
            [
             0.5555555555555556,
             "#d8576b"
            ],
            [
             0.6666666666666666,
             "#ed7953"
            ],
            [
             0.7777777777777778,
             "#fb9f3a"
            ],
            [
             0.8888888888888888,
             "#fdca26"
            ],
            [
             1,
             "#f0f921"
            ]
           ]
          },
          "colorway": [
           "#636efa",
           "#EF553B",
           "#00cc96",
           "#ab63fa",
           "#FFA15A",
           "#19d3f3",
           "#FF6692",
           "#B6E880",
           "#FF97FF",
           "#FECB52"
          ],
          "font": {
           "color": "#2a3f5f"
          },
          "geo": {
           "bgcolor": "white",
           "lakecolor": "white",
           "landcolor": "white",
           "showlakes": true,
           "showland": true,
           "subunitcolor": "#C8D4E3"
          },
          "hoverlabel": {
           "align": "left"
          },
          "hovermode": "closest",
          "mapbox": {
           "style": "light"
          },
          "paper_bgcolor": "white",
          "plot_bgcolor": "white",
          "polar": {
           "angularaxis": {
            "gridcolor": "#EBF0F8",
            "linecolor": "#EBF0F8",
            "ticks": ""
           },
           "bgcolor": "white",
           "radialaxis": {
            "gridcolor": "#EBF0F8",
            "linecolor": "#EBF0F8",
            "ticks": ""
           }
          },
          "scene": {
           "xaxis": {
            "backgroundcolor": "white",
            "gridcolor": "#DFE8F3",
            "gridwidth": 2,
            "linecolor": "#EBF0F8",
            "showbackground": true,
            "ticks": "",
            "zerolinecolor": "#EBF0F8"
           },
           "yaxis": {
            "backgroundcolor": "white",
            "gridcolor": "#DFE8F3",
            "gridwidth": 2,
            "linecolor": "#EBF0F8",
            "showbackground": true,
            "ticks": "",
            "zerolinecolor": "#EBF0F8"
           },
           "zaxis": {
            "backgroundcolor": "white",
            "gridcolor": "#DFE8F3",
            "gridwidth": 2,
            "linecolor": "#EBF0F8",
            "showbackground": true,
            "ticks": "",
            "zerolinecolor": "#EBF0F8"
           }
          },
          "shapedefaults": {
           "line": {
            "color": "#2a3f5f"
           }
          },
          "ternary": {
           "aaxis": {
            "gridcolor": "#DFE8F3",
            "linecolor": "#A2B1C6",
            "ticks": ""
           },
           "baxis": {
            "gridcolor": "#DFE8F3",
            "linecolor": "#A2B1C6",
            "ticks": ""
           },
           "bgcolor": "white",
           "caxis": {
            "gridcolor": "#DFE8F3",
            "linecolor": "#A2B1C6",
            "ticks": ""
           }
          },
          "title": {
           "x": 0.05
          },
          "xaxis": {
           "automargin": true,
           "gridcolor": "#EBF0F8",
           "linecolor": "#EBF0F8",
           "ticks": "",
           "title": {
            "standoff": 15
           },
           "zerolinecolor": "#EBF0F8",
           "zerolinewidth": 2
          },
          "yaxis": {
           "automargin": true,
           "gridcolor": "#EBF0F8",
           "linecolor": "#EBF0F8",
           "ticks": "",
           "title": {
            "standoff": 15
           },
           "zerolinecolor": "#EBF0F8",
           "zerolinewidth": 2
          }
         }
        },
        "xaxis": {
         "anchor": "y",
         "categoryarray": [
          "Southwest",
          "Southeast",
          "Northwest",
          "Northeast"
         ],
         "categoryorder": "array",
         "domain": [
          0,
          1
         ],
         "title": {
          "text": "Region"
         }
        },
        "yaxis": {
         "anchor": "x",
         "domain": [
          0,
          1
         ],
         "gridcolor": "#EAEAEA",
         "gridwidth": 1,
         "showgrid": true,
         "title": {
          "text": "Claim Amount, $"
         },
         "zerolinecolor": "#EAEAEA"
        }
       }
      },
      "text/html": [
       "<div>                            <div id=\"6785c4a1-a593-42a0-a8fe-f88d493de1dd\" class=\"plotly-graph-div\" style=\"height:600px; width:100%;\"></div>            <script type=\"text/javascript\">                require([\"plotly\"], function(Plotly) {                    window.PLOTLYENV=window.PLOTLYENV || {};                                    if (document.getElementById(\"6785c4a1-a593-42a0-a8fe-f88d493de1dd\")) {                    Plotly.newPlot(                        \"6785c4a1-a593-42a0-a8fe-f88d493de1dd\",                        [{\"alignmentgroup\":\"True\",\"boxpoints\":\"outliers\",\"hovertemplate\":\"region=%{x}<br>charges=%{y}<extra></extra>\",\"legendgroup\":\"Southwest\",\"marker\":{\"color\":\"#B14B51\",\"line\":{\"color\":\"#F7F7F7\",\"width\":1},\"opacity\":0.5,\"size\":9},\"name\":\"Southwest\",\"notched\":true,\"offsetgroup\":\"Southwest\",\"orientation\":\"v\",\"showlegend\":false,\"x\":[\"Southwest\",\"Southwest\",\"Southwest\",\"Southwest\",\"Southwest\",\"Southwest\",\"Southwest\",\"Southwest\",\"Southwest\",\"Southwest\",\"Southwest\",\"Southwest\",\"Southwest\",\"Southwest\",\"Southwest\",\"Southwest\",\"Southwest\",\"Southwest\",\"Southwest\",\"Southwest\",\"Southwest\",\"Southwest\",\"Southwest\",\"Southwest\",\"Southwest\",\"Southwest\",\"Southwest\",\"Southwest\",\"Southwest\",\"Southwest\",\"Southwest\",\"Southwest\",\"Southwest\",\"Southwest\",\"Southwest\",\"Southwest\",\"Southwest\",\"Southwest\",\"Southwest\",\"Southwest\",\"Southwest\",\"Southwest\",\"Southwest\",\"Southwest\",\"Southwest\",\"Southwest\",\"Southwest\",\"Southwest\",\"Southwest\",\"Southwest\",\"Southwest\",\"Southwest\",\"Southwest\",\"Southwest\",\"Southwest\",\"Southwest\",\"Southwest\",\"Southwest\",\"Southwest\",\"Southwest\",\"Southwest\",\"Southwest\",\"Southwest\",\"Southwest\",\"Southwest\",\"Southwest\",\"Southwest\",\"Southwest\",\"Southwest\",\"Southwest\",\"Southwest\",\"Southwest\",\"Southwest\",\"Southwest\",\"Southwest\",\"Southwest\",\"Southwest\",\"Southwest\",\"Southwest\",\"Southwest\",\"Southwest\",\"Southwest\",\"Southwest\",\"Southwest\",\"Southwest\",\"Southwest\",\"Southwest\",\"Southwest\",\"Southwest\",\"Southwest\",\"Southwest\",\"Southwest\",\"Southwest\",\"Southwest\",\"Southwest\",\"Southwest\",\"Southwest\",\"Southwest\",\"Southwest\",\"Southwest\",\"Southwest\",\"Southwest\",\"Southwest\",\"Southwest\",\"Southwest\",\"Southwest\",\"Southwest\",\"Southwest\",\"Southwest\",\"Southwest\",\"Southwest\",\"Southwest\",\"Southwest\",\"Southwest\",\"Southwest\",\"Southwest\",\"Southwest\",\"Southwest\",\"Southwest\",\"Southwest\",\"Southwest\",\"Southwest\",\"Southwest\",\"Southwest\",\"Southwest\",\"Southwest\",\"Southwest\",\"Southwest\",\"Southwest\",\"Southwest\",\"Southwest\",\"Southwest\",\"Southwest\",\"Southwest\",\"Southwest\",\"Southwest\",\"Southwest\",\"Southwest\",\"Southwest\",\"Southwest\",\"Southwest\",\"Southwest\",\"Southwest\",\"Southwest\",\"Southwest\",\"Southwest\",\"Southwest\",\"Southwest\",\"Southwest\",\"Southwest\",\"Southwest\",\"Southwest\",\"Southwest\",\"Southwest\",\"Southwest\",\"Southwest\",\"Southwest\",\"Southwest\",\"Southwest\",\"Southwest\",\"Southwest\",\"Southwest\",\"Southwest\",\"Southwest\",\"Southwest\",\"Southwest\",\"Southwest\",\"Southwest\",\"Southwest\",\"Southwest\",\"Southwest\",\"Southwest\",\"Southwest\",\"Southwest\",\"Southwest\",\"Southwest\",\"Southwest\",\"Southwest\",\"Southwest\",\"Southwest\",\"Southwest\",\"Southwest\",\"Southwest\",\"Southwest\",\"Southwest\",\"Southwest\",\"Southwest\",\"Southwest\",\"Southwest\",\"Southwest\",\"Southwest\",\"Southwest\",\"Southwest\",\"Southwest\",\"Southwest\",\"Southwest\",\"Southwest\",\"Southwest\",\"Southwest\",\"Southwest\",\"Southwest\",\"Southwest\",\"Southwest\",\"Southwest\",\"Southwest\",\"Southwest\",\"Southwest\",\"Southwest\",\"Southwest\",\"Southwest\",\"Southwest\",\"Southwest\",\"Southwest\",\"Southwest\",\"Southwest\",\"Southwest\",\"Southwest\",\"Southwest\",\"Southwest\",\"Southwest\",\"Southwest\",\"Southwest\",\"Southwest\",\"Southwest\",\"Southwest\",\"Southwest\",\"Southwest\",\"Southwest\",\"Southwest\",\"Southwest\",\"Southwest\",\"Southwest\",\"Southwest\",\"Southwest\",\"Southwest\",\"Southwest\",\"Southwest\",\"Southwest\",\"Southwest\",\"Southwest\",\"Southwest\",\"Southwest\",\"Southwest\",\"Southwest\",\"Southwest\",\"Southwest\",\"Southwest\",\"Southwest\",\"Southwest\",\"Southwest\",\"Southwest\",\"Southwest\",\"Southwest\",\"Southwest\",\"Southwest\",\"Southwest\",\"Southwest\",\"Southwest\",\"Southwest\",\"Southwest\",\"Southwest\",\"Southwest\",\"Southwest\",\"Southwest\",\"Southwest\",\"Southwest\",\"Southwest\",\"Southwest\",\"Southwest\",\"Southwest\",\"Southwest\",\"Southwest\",\"Southwest\",\"Southwest\",\"Southwest\",\"Southwest\",\"Southwest\",\"Southwest\",\"Southwest\",\"Southwest\",\"Southwest\",\"Southwest\",\"Southwest\",\"Southwest\",\"Southwest\",\"Southwest\",\"Southwest\",\"Southwest\",\"Southwest\",\"Southwest\",\"Southwest\",\"Southwest\",\"Southwest\",\"Southwest\",\"Southwest\",\"Southwest\",\"Southwest\",\"Southwest\",\"Southwest\",\"Southwest\",\"Southwest\",\"Southwest\",\"Southwest\",\"Southwest\",\"Southwest\",\"Southwest\",\"Southwest\",\"Southwest\",\"Southwest\",\"Southwest\",\"Southwest\",\"Southwest\",\"Southwest\",\"Southwest\",\"Southwest\",\"Southwest\",\"Southwest\",\"Southwest\",\"Southwest\",\"Southwest\",\"Southwest\",\"Southwest\",\"Southwest\",\"Southwest\",\"Southwest\"],\"x0\":\" \",\"xaxis\":\"x\",\"y\":[16884.924,1826.843,1837.237,10602.385,36837.467,4149.736,38711.0,35585.576,4687.797,51194.55914,2302.3,48173.361,20630.28351,23568.272,1743.214,14235.072,11741.726,7726.854,39836.519,11073.176,47291.055,12105.32,15820.699,6186.127,5003.853,2331.519,11881.358,4646.759,7740.337,17081.08,9634.538,6082.405,11163.568,1261.442,2166.732,1842.519,10450.552,5152.134,4830.63,8116.68,5246.047,48824.45,10436.096,8823.279,5325.651,6775.961,4883.866,5649.715,7147.105,13880.949,1980.07,8520.026,7371.772,5012.471,5253.524,34779.615,1727.785,12333.828,35160.13457,7196.867,1832.094,47305.305,4260.744,11837.16,7441.053,42856.838,2150.469,9625.92,3172.018,3906.127,16297.846,12646.207,20177.67113,8444.474,1737.376,34838.873,35491.64,2866.091,47928.03,9144.565,13822.803,18955.22017,8932.084,3554.203,24603.04837,4751.07,13844.506,2597.779,36085.219,1261.859,8522.003,14988.432,9264.797,3260.199,8539.671,5080.096,18608.262,8968.33,23082.95533,5969.723,12638.195,5926.846,37079.372,7345.084,5910.944,4762.329,7512.267,1969.614,21797.0004,10601.412,22144.032,13224.693,1744.465,25382.297,9880.068,9563.029,1253.936,1748.774,12574.049,17942.106,4931.647,8027.968,13470.86,36197.699,11455.28,1256.299,21082.16,11362.755,5240.765,9861.025,5972.378,8825.086,6196.448,11538.421,13390.559,12957.118,3847.674,2494.022,11552.904,3761.292,9724.53,1242.816,11842.442,7441.501,11070.535,39241.442,6571.544,23306.547,10713.644,3659.346,40182.246,9182.17,11365.952,10085.846,1977.815,9391.346,6666.243,3410.324,8703.456,12363.547,2585.269,1242.26,40103.89,4766.022,26236.57997,8068.185,3577.999,5375.038,2457.502,12146.971,11264.541,12979.358,1263.249,10065.413,4234.927,14007.222,3484.331,44585.45587,11737.84884,8556.907,2416.955,19040.876,8062.764,7050.642,14319.031,27941.28758,11150.78,18259.216,24520.264,6414.178,1252.407,11848.141,2103.08,9414.92,3597.596,7445.918,13393.756,4402.233,1526.312,9872.701,2974.126,1875.344,10965.446,46113.511,7151.092,8782.469,6600.361,11576.13,4391.652,8457.818,6849.026,26140.3603,6282.235,6311.952,3443.064,1682.597,13063.883,12644.589,15170.069,17496.306,7626.993,13041.921,13451.122,13462.52,5488.262,6250.435,2913.569,12032.326,6238.298,10096.97,7348.142,12233.828,11674.13,7160.094,19933.458,38998.546,3353.284,4746.344,1759.338,19199.944,7624.63,3378.91,10118.424,7418.522,34472.841,1972.95,21232.18226,8269.044,5383.536,3987.926,8798.593,2020.177,9850.432,12094.478,3161.454,39727.614,25309.489,8277.523,5708.867,7045.499,8551.347,4076.497,19023.26,10577.087,3591.48,11299.343,11253.421,20420.60465,2904.088,34166.273,10214.636,14358.36437,1728.897,3693.428,7623.518,7954.517,9630.397,52590.82939,10791.96,5979.731,3989.841,4529.477,4670.64,22478.6,2154.361,6496.886,2632.992,13126.67745,4934.705,36910.60803,38415.474,12347.172,10806.839,41661.602,20167.33603,11345.519,5615.369,9101.798,6059.173,1241.565,16232.847,15828.82173,6474.013,3277.161,7337.748,10704.47,1880.487,8615.3,10959.33,47403.88,5472.449,38344.566,34828.654,1964.78,3208.787,37829.7242,33900.653,6875.961,4536.259,36397.576,1731.677,10325.206,10795.93733,11411.685,2007.945],\"y0\":\" \",\"yaxis\":\"y\",\"type\":\"box\"},{\"alignmentgroup\":\"True\",\"boxpoints\":\"outliers\",\"hovertemplate\":\"region=%{x}<br>charges=%{y}<extra></extra>\",\"legendgroup\":\"Southeast\",\"marker\":{\"color\":\"#D0A99C\",\"line\":{\"color\":\"#F7F7F7\",\"width\":1},\"opacity\":0.5,\"size\":9},\"name\":\"Southeast\",\"notched\":true,\"offsetgroup\":\"Southeast\",\"orientation\":\"v\",\"showlegend\":false,\"x\":[\"Southeast\",\"Southeast\",\"Southeast\",\"Southeast\",\"Southeast\",\"Southeast\",\"Southeast\",\"Southeast\",\"Southeast\",\"Southeast\",\"Southeast\",\"Southeast\",\"Southeast\",\"Southeast\",\"Southeast\",\"Southeast\",\"Southeast\",\"Southeast\",\"Southeast\",\"Southeast\",\"Southeast\",\"Southeast\",\"Southeast\",\"Southeast\",\"Southeast\",\"Southeast\",\"Southeast\",\"Southeast\",\"Southeast\",\"Southeast\",\"Southeast\",\"Southeast\",\"Southeast\",\"Southeast\",\"Southeast\",\"Southeast\",\"Southeast\",\"Southeast\",\"Southeast\",\"Southeast\",\"Southeast\",\"Southeast\",\"Southeast\",\"Southeast\",\"Southeast\",\"Southeast\",\"Southeast\",\"Southeast\",\"Southeast\",\"Southeast\",\"Southeast\",\"Southeast\",\"Southeast\",\"Southeast\",\"Southeast\",\"Southeast\",\"Southeast\",\"Southeast\",\"Southeast\",\"Southeast\",\"Southeast\",\"Southeast\",\"Southeast\",\"Southeast\",\"Southeast\",\"Southeast\",\"Southeast\",\"Southeast\",\"Southeast\",\"Southeast\",\"Southeast\",\"Southeast\",\"Southeast\",\"Southeast\",\"Southeast\",\"Southeast\",\"Southeast\",\"Southeast\",\"Southeast\",\"Southeast\",\"Southeast\",\"Southeast\",\"Southeast\",\"Southeast\",\"Southeast\",\"Southeast\",\"Southeast\",\"Southeast\",\"Southeast\",\"Southeast\",\"Southeast\",\"Southeast\",\"Southeast\",\"Southeast\",\"Southeast\",\"Southeast\",\"Southeast\",\"Southeast\",\"Southeast\",\"Southeast\",\"Southeast\",\"Southeast\",\"Southeast\",\"Southeast\",\"Southeast\",\"Southeast\",\"Southeast\",\"Southeast\",\"Southeast\",\"Southeast\",\"Southeast\",\"Southeast\",\"Southeast\",\"Southeast\",\"Southeast\",\"Southeast\",\"Southeast\",\"Southeast\",\"Southeast\",\"Southeast\",\"Southeast\",\"Southeast\",\"Southeast\",\"Southeast\",\"Southeast\",\"Southeast\",\"Southeast\",\"Southeast\",\"Southeast\",\"Southeast\",\"Southeast\",\"Southeast\",\"Southeast\",\"Southeast\",\"Southeast\",\"Southeast\",\"Southeast\",\"Southeast\",\"Southeast\",\"Southeast\",\"Southeast\",\"Southeast\",\"Southeast\",\"Southeast\",\"Southeast\",\"Southeast\",\"Southeast\",\"Southeast\",\"Southeast\",\"Southeast\",\"Southeast\",\"Southeast\",\"Southeast\",\"Southeast\",\"Southeast\",\"Southeast\",\"Southeast\",\"Southeast\",\"Southeast\",\"Southeast\",\"Southeast\",\"Southeast\",\"Southeast\",\"Southeast\",\"Southeast\",\"Southeast\",\"Southeast\",\"Southeast\",\"Southeast\",\"Southeast\",\"Southeast\",\"Southeast\",\"Southeast\",\"Southeast\",\"Southeast\",\"Southeast\",\"Southeast\",\"Southeast\",\"Southeast\",\"Southeast\",\"Southeast\",\"Southeast\",\"Southeast\",\"Southeast\",\"Southeast\",\"Southeast\",\"Southeast\",\"Southeast\",\"Southeast\",\"Southeast\",\"Southeast\",\"Southeast\",\"Southeast\",\"Southeast\",\"Southeast\",\"Southeast\",\"Southeast\",\"Southeast\",\"Southeast\",\"Southeast\",\"Southeast\",\"Southeast\",\"Southeast\",\"Southeast\",\"Southeast\",\"Southeast\",\"Southeast\",\"Southeast\",\"Southeast\",\"Southeast\",\"Southeast\",\"Southeast\",\"Southeast\",\"Southeast\",\"Southeast\",\"Southeast\",\"Southeast\",\"Southeast\",\"Southeast\",\"Southeast\",\"Southeast\",\"Southeast\",\"Southeast\",\"Southeast\",\"Southeast\",\"Southeast\",\"Southeast\",\"Southeast\",\"Southeast\",\"Southeast\",\"Southeast\",\"Southeast\",\"Southeast\",\"Southeast\",\"Southeast\",\"Southeast\",\"Southeast\",\"Southeast\",\"Southeast\",\"Southeast\",\"Southeast\",\"Southeast\",\"Southeast\",\"Southeast\",\"Southeast\",\"Southeast\",\"Southeast\",\"Southeast\",\"Southeast\",\"Southeast\",\"Southeast\",\"Southeast\",\"Southeast\",\"Southeast\",\"Southeast\",\"Southeast\",\"Southeast\",\"Southeast\",\"Southeast\",\"Southeast\",\"Southeast\",\"Southeast\",\"Southeast\",\"Southeast\",\"Southeast\",\"Southeast\",\"Southeast\",\"Southeast\",\"Southeast\",\"Southeast\",\"Southeast\",\"Southeast\",\"Southeast\",\"Southeast\",\"Southeast\",\"Southeast\",\"Southeast\",\"Southeast\",\"Southeast\",\"Southeast\",\"Southeast\",\"Southeast\",\"Southeast\",\"Southeast\",\"Southeast\",\"Southeast\",\"Southeast\",\"Southeast\",\"Southeast\",\"Southeast\",\"Southeast\",\"Southeast\",\"Southeast\",\"Southeast\",\"Southeast\",\"Southeast\",\"Southeast\",\"Southeast\",\"Southeast\",\"Southeast\",\"Southeast\",\"Southeast\",\"Southeast\",\"Southeast\",\"Southeast\",\"Southeast\",\"Southeast\",\"Southeast\",\"Southeast\",\"Southeast\",\"Southeast\",\"Southeast\",\"Southeast\",\"Southeast\",\"Southeast\",\"Southeast\",\"Southeast\",\"Southeast\",\"Southeast\",\"Southeast\",\"Southeast\",\"Southeast\",\"Southeast\",\"Southeast\",\"Southeast\",\"Southeast\",\"Southeast\",\"Southeast\",\"Southeast\",\"Southeast\",\"Southeast\",\"Southeast\",\"Southeast\",\"Southeast\",\"Southeast\",\"Southeast\",\"Southeast\",\"Southeast\",\"Southeast\",\"Southeast\",\"Southeast\",\"Southeast\",\"Southeast\",\"Southeast\",\"Southeast\",\"Southeast\",\"Southeast\",\"Southeast\",\"Southeast\",\"Southeast\",\"Southeast\",\"Southeast\",\"Southeast\",\"Southeast\",\"Southeast\",\"Southeast\",\"Southeast\",\"Southeast\",\"Southeast\",\"Southeast\",\"Southeast\",\"Southeast\",\"Southeast\",\"Southeast\"],\"x0\":\" \",\"xaxis\":\"x\",\"y\":[1725.5523,4449.462,3756.6216,8240.5896,27808.7251,11090.7178,39611.7577,1137.011,14001.1338,4949.7587,6272.4772,6313.759,12629.8967,38709.176,37742.5757,34303.1672,23244.7902,4504.6624,5920.1041,17663.1442,16577.7795,11946.6259,3947.4131,1532.4697,37165.1638,2026.9741,3766.8838,10226.2842,30942.1918,2867.1196,47055.5321,11381.3254,19107.7796,8601.3293,2155.6815,27322.73386,18972.495,5138.2567,9877.6077,7789.635,21223.6758,36950.2567,19749.38338,36149.4835,13405.3903,1631.8212,7731.4271,3981.9768,12557.6053,2137.6536,1137.4697,8516.829,8871.1517,37133.8982,11743.299,5002.7827,2483.736,3392.9768,25081.76784,19515.5416,11987.1682,2689.4954,24227.33724,14001.2867,19444.2658,1615.7667,4463.2051,7152.6714,12648.7034,1986.9334,44260.7499,5400.9805,17085.2676,20462.99766,46151.1245,17179.522,1719.4363,12928.7911,9855.1314,7742.1098,25992.82104,42112.2356,2156.7518,21978.6769,12265.5069,4349.462,4151.0287,42124.5153,8124.4084,3561.8889,12142.5786,8232.6388,10977.2063,6184.2994,4889.9995,5478.0368,14133.03775,8944.1151,1837.2819,1607.5101,3180.5101,1391.5287,38126.2465,27000.98473,20781.48892,5846.9176,11856.4115,16586.49771,1631.6683,8083.9198,4185.0979,6652.5288,4074.4537,7345.7266,9140.951,14418.2804,46889.2612,46599.1084,9788.8659,13919.8229,12592.5345,1149.3959,28287.89766,4686.3887,11881.9696,7682.67,10381.4787,19521.9682,2201.0971,2497.0383,1534.3045,1824.2854,9304.7019,1622.1885,48885.13561,24513.09126,8211.1002,22218.1149,32548.3405,5974.3847,2498.4144,27724.28875,3994.1778,5397.6167,38245.59327,11482.63485,48675.5177,12925.886,19214.70553,13831.1152,8233.0975,27346.04207,3056.3881,13887.204,63770.42801,45863.205,3972.9247,3935.1799,9058.7303,2801.2588,2219.4451,4753.6368,1664.9996,6356.2707,17626.23951,4779.6023,5976.8311,2566.4707,5709.1644,7640.3092,1633.0444,16085.1275,9283.562,8547.6913,1880.07,42969.8527,34439.8559,11326.71487,3366.6697,12949.1554,18806.14547,9800.8882,10579.711,8280.6227,8527.532,12244.531,24667.419,6435.6237,22192.43711,1136.3994,27037.9141,42560.4304,6500.2359,4837.5823,4399.731,6185.3208,46200.9851,12485.8009,5438.7491,34806.4677,40273.6455,3500.6123,2020.5523,9504.3103,44400.4064,1727.54,10107.2206,40932.4295,6781.3542,19361.9988,40419.0191,18246.4955,3757.8448,19539.243,11833.7823,23065.4207,36307.7983,10560.4917,5934.3798,1146.7966,9386.1613,4350.5144,13457.9608,5662.225,21195.818,4266.1658,7046.7222,14313.8463,38792.6856,1815.8759,1131.5066,11013.7119,5584.3057,1877.9294,1621.8827,8219.2039,43813.8661,7160.3303,36021.0112,27533.9129,45008.9555,2438.0552,40974.1649,18218.16139,1141.4451,3392.3652,5966.8874,6653.7886,19719.6947,7243.8136,44202.6536,1634.5734,48673.5588,8125.7845,7633.7206,2473.3341,5245.2269,13470.8044,6289.7549,2927.0647,4673.3922,2304.0022,9487.6442,1121.8739,9549.5651,12982.8747,47462.894,3875.7341,41999.52,14474.675,8596.8278,10702.6424,2322.6218,7804.1605,2902.9065,4889.0368,5484.4673,13887.9685,18767.7377,36580.28216,35595.5898,42211.1382,1711.0268,8569.8618,44423.803,37484.4493,44501.3982,17929.30337,2480.9791,1981.5819,11554.2236,48970.2476,8978.1851,10928.849,39871.7043,4562.8421,34672.1472,15161.5344,11884.04858,9748.9106,41676.0811,1674.6323,3227.1211,3471.4096,11363.2832,10338.9316,8605.3615,41949.2441,24180.9335,10807.4863,36124.5737,38282.7495,8347.1643,5836.5204,8582.3023,3704.3545,9048.0273,27117.99378,6338.0756,40941.2854,39722.7462,5124.1887,18963.17192,10982.5013,11093.6229,19350.3689,18328.2381,5699.8375,18223.4512,23563.01618,5415.6612,4058.1161,6593.5083,8442.667,26125.67477,4795.6568,7162.0122,10594.2257,8515.7587,3238.4357,47269.854,49577.6624,3171.6149,1135.9407,1633.9618,4415.1588,6770.1925,26926.5144,14478.33015,4747.0529,17043.3414,8283.6807,1720.3537,7147.4728,1515.3449,4340.4409,62592.87309,2464.6188,1163.4627,12981.3457,43896.3763,9377.9047,12629.1656,1629.8335],\"y0\":\" \",\"yaxis\":\"y\",\"type\":\"box\"},{\"alignmentgroup\":\"True\",\"boxpoints\":\"outliers\",\"hovertemplate\":\"region=%{x}<br>charges=%{y}<extra></extra>\",\"legendgroup\":\"Northwest\",\"marker\":{\"color\":\"#5D8370\",\"line\":{\"color\":\"#F7F7F7\",\"width\":1},\"opacity\":0.5,\"size\":9},\"name\":\"Northwest\",\"notched\":true,\"offsetgroup\":\"Northwest\",\"orientation\":\"v\",\"showlegend\":false,\"x\":[\"Northwest\",\"Northwest\",\"Northwest\",\"Northwest\",\"Northwest\",\"Northwest\",\"Northwest\",\"Northwest\",\"Northwest\",\"Northwest\",\"Northwest\",\"Northwest\",\"Northwest\",\"Northwest\",\"Northwest\",\"Northwest\",\"Northwest\",\"Northwest\",\"Northwest\",\"Northwest\",\"Northwest\",\"Northwest\",\"Northwest\",\"Northwest\",\"Northwest\",\"Northwest\",\"Northwest\",\"Northwest\",\"Northwest\",\"Northwest\",\"Northwest\",\"Northwest\",\"Northwest\",\"Northwest\",\"Northwest\",\"Northwest\",\"Northwest\",\"Northwest\",\"Northwest\",\"Northwest\",\"Northwest\",\"Northwest\",\"Northwest\",\"Northwest\",\"Northwest\",\"Northwest\",\"Northwest\",\"Northwest\",\"Northwest\",\"Northwest\",\"Northwest\",\"Northwest\",\"Northwest\",\"Northwest\",\"Northwest\",\"Northwest\",\"Northwest\",\"Northwest\",\"Northwest\",\"Northwest\",\"Northwest\",\"Northwest\",\"Northwest\",\"Northwest\",\"Northwest\",\"Northwest\",\"Northwest\",\"Northwest\",\"Northwest\",\"Northwest\",\"Northwest\",\"Northwest\",\"Northwest\",\"Northwest\",\"Northwest\",\"Northwest\",\"Northwest\",\"Northwest\",\"Northwest\",\"Northwest\",\"Northwest\",\"Northwest\",\"Northwest\",\"Northwest\",\"Northwest\",\"Northwest\",\"Northwest\",\"Northwest\",\"Northwest\",\"Northwest\",\"Northwest\",\"Northwest\",\"Northwest\",\"Northwest\",\"Northwest\",\"Northwest\",\"Northwest\",\"Northwest\",\"Northwest\",\"Northwest\",\"Northwest\",\"Northwest\",\"Northwest\",\"Northwest\",\"Northwest\",\"Northwest\",\"Northwest\",\"Northwest\",\"Northwest\",\"Northwest\",\"Northwest\",\"Northwest\",\"Northwest\",\"Northwest\",\"Northwest\",\"Northwest\",\"Northwest\",\"Northwest\",\"Northwest\",\"Northwest\",\"Northwest\",\"Northwest\",\"Northwest\",\"Northwest\",\"Northwest\",\"Northwest\",\"Northwest\",\"Northwest\",\"Northwest\",\"Northwest\",\"Northwest\",\"Northwest\",\"Northwest\",\"Northwest\",\"Northwest\",\"Northwest\",\"Northwest\",\"Northwest\",\"Northwest\",\"Northwest\",\"Northwest\",\"Northwest\",\"Northwest\",\"Northwest\",\"Northwest\",\"Northwest\",\"Northwest\",\"Northwest\",\"Northwest\",\"Northwest\",\"Northwest\",\"Northwest\",\"Northwest\",\"Northwest\",\"Northwest\",\"Northwest\",\"Northwest\",\"Northwest\",\"Northwest\",\"Northwest\",\"Northwest\",\"Northwest\",\"Northwest\",\"Northwest\",\"Northwest\",\"Northwest\",\"Northwest\",\"Northwest\",\"Northwest\",\"Northwest\",\"Northwest\",\"Northwest\",\"Northwest\",\"Northwest\",\"Northwest\",\"Northwest\",\"Northwest\",\"Northwest\",\"Northwest\",\"Northwest\",\"Northwest\",\"Northwest\",\"Northwest\",\"Northwest\",\"Northwest\",\"Northwest\",\"Northwest\",\"Northwest\",\"Northwest\",\"Northwest\",\"Northwest\",\"Northwest\",\"Northwest\",\"Northwest\",\"Northwest\",\"Northwest\",\"Northwest\",\"Northwest\",\"Northwest\",\"Northwest\",\"Northwest\",\"Northwest\",\"Northwest\",\"Northwest\",\"Northwest\",\"Northwest\",\"Northwest\",\"Northwest\",\"Northwest\",\"Northwest\",\"Northwest\",\"Northwest\",\"Northwest\",\"Northwest\",\"Northwest\",\"Northwest\",\"Northwest\",\"Northwest\",\"Northwest\",\"Northwest\",\"Northwest\",\"Northwest\",\"Northwest\",\"Northwest\",\"Northwest\",\"Northwest\",\"Northwest\",\"Northwest\",\"Northwest\",\"Northwest\",\"Northwest\",\"Northwest\",\"Northwest\",\"Northwest\",\"Northwest\",\"Northwest\",\"Northwest\",\"Northwest\",\"Northwest\",\"Northwest\",\"Northwest\",\"Northwest\",\"Northwest\",\"Northwest\",\"Northwest\",\"Northwest\",\"Northwest\",\"Northwest\",\"Northwest\",\"Northwest\",\"Northwest\",\"Northwest\",\"Northwest\",\"Northwest\",\"Northwest\",\"Northwest\",\"Northwest\",\"Northwest\",\"Northwest\",\"Northwest\",\"Northwest\",\"Northwest\",\"Northwest\",\"Northwest\",\"Northwest\",\"Northwest\",\"Northwest\",\"Northwest\",\"Northwest\",\"Northwest\",\"Northwest\",\"Northwest\",\"Northwest\",\"Northwest\",\"Northwest\",\"Northwest\",\"Northwest\",\"Northwest\",\"Northwest\",\"Northwest\",\"Northwest\",\"Northwest\",\"Northwest\",\"Northwest\",\"Northwest\",\"Northwest\",\"Northwest\",\"Northwest\",\"Northwest\",\"Northwest\",\"Northwest\",\"Northwest\",\"Northwest\",\"Northwest\",\"Northwest\",\"Northwest\",\"Northwest\",\"Northwest\",\"Northwest\",\"Northwest\",\"Northwest\",\"Northwest\",\"Northwest\",\"Northwest\",\"Northwest\",\"Northwest\",\"Northwest\",\"Northwest\",\"Northwest\",\"Northwest\",\"Northwest\",\"Northwest\",\"Northwest\",\"Northwest\",\"Northwest\",\"Northwest\",\"Northwest\",\"Northwest\",\"Northwest\",\"Northwest\",\"Northwest\",\"Northwest\",\"Northwest\",\"Northwest\",\"Northwest\"],\"x0\":\" \",\"xaxis\":\"x\",\"y\":[21984.47061,3866.8552,7281.5056,28923.13692,6203.90175,12268.63225,2775.19215,13770.0979,1625.43375,15612.19335,3556.9223,3579.8287,8059.6791,47496.49445,5989.52365,30166.61817,4133.64165,14711.7438,6389.37785,11356.6609,6571.02435,11033.6617,21098.55405,43578.9394,8026.6666,11082.5772,10942.13205,5729.0053,17560.37975,3877.30425,10825.2537,2404.7338,6686.4313,2257.47525,10115.00885,32734.1863,1632.56445,2045.68525,18157.876,20745.9891,40720.55105,10959.6947,5125.2157,6948.7008,21348.706,5028.1466,6128.79745,2719.27975,2855.43755,6455.86265,11735.87905,7419.4779,4922.9159,12044.342,1639.5631,9644.2525,2130.6759,13012.20865,8162.71625,3537.703,10355.641,7443.64305,6710.1919,17352.6803,24476.47851,43921.1837,11520.09985,33750.2918,36219.40545,7265.7025,2523.1695,2803.69785,14256.1928,38746.3551,9249.4952,19442.3535,7749.1564,8835.26495,7421.19455,4894.7533,42760.5022,24393.6224,13429.0354,13937.6665,13352.0998,1635.73365,11830.6072,9620.3307,8017.06115,8116.26885,13415.0381,18033.9679,16455.70785,30284.64294,3176.8159,4618.0799,2138.0707,7526.70645,14692.66935,10269.46,1621.3402,2134.9015,28950.4692,18804.7524,4906.40965,4243.59005,4738.2682,26109.32905,11454.0215,4032.2407,1769.53165,11840.77505,1632.03625,12643.3778,28868.6639,2534.39375,15555.18875,12475.3513,10461.9794,6796.86325,2643.2685,3077.0955,8413.46305,24059.68019,10231.4999,23807.2406,11187.6567,39983.42595,1646.4297,9193.8385,2128.43105,6373.55735,7256.7231,45702.02235,12222.8983,1639.5631,43943.8761,8428.0693,33471.97189,9174.13565,17468.9839,25678.77845,12129.61415,3736.4647,42983.4585,2709.1119,32787.45859,4466.6214,6123.5688,4058.71245,40003.33225,7222.78625,46130.5265,10156.7832,9863.4718,2362.22905,2352.96845,3201.24515,10976.24575,5385.3379,8930.93455,10264.4421,8310.83915,9566.9909,13112.6048,10848.1343,12231.6136,6664.68595,9583.8933,8827.2099,9910.35985,1627.28245,3062.50825,1906.35825,14210.53595,11842.62375,6933.24225,17748.5062,7261.741,6986.697,9869.8102,1917.3184,7209.4918,18310.742,7731.85785,28476.73499,2136.88225,6360.9936,2842.76075,55135.40209,2680.9493,12523.6048,6117.4945,5266.3656,4719.73655,11743.9341,5377.4578,12622.1795,10601.63225,14119.62,15817.9857,12269.68865,2690.1138,2789.0574,4877.98105,5272.1758,11945.1327,29330.98315,2221.56445,2117.33885,2639.0429,14382.70905,5257.50795,21774.32215,4320.41085,8965.79575,1628.4709,6358.77645,4527.18295,20009.63365,12609.88702,28468.91901,2730.10785,26467.09737,23967.38305,7518.02535,2527.81865,8410.04685,28340.18885,16420.49455,5267.81815,17361.7661,4433.3877,24915.22085,8765.249,12124.9924,2709.24395,12495.29085,26018.95052,16450.8947,21595.38229,21677.28345,12950.0712,39725.51805,22493.65964,20234.85475,21880.82,3594.17085,8023.13545,3353.4703,10594.50155,4462.7218,6548.19505,14349.8544,1909.52745,4454.40265,5855.9025,15019.76005,11353.2276,33907.548,8988.15875,10493.9458,5312.16985,5693.4305,46661.4424,14254.6082,9991.03765,19673.33573,11085.5868,3176.2877,36898.73308,11289.10925,2261.5688,12235.8392,5630.45785,11015.1747,14426.07385,7727.2532,7153.5539,6112.35295,6457.8434,4433.9159,23887.6627,2850.68375,37465.34375,13844.7972,5327.40025,8671.19125,4134.08245,18838.70366,33307.5508,6393.60345,6198.7518,8733.22925,2055.3249,5116.5004,5373.36425,3956.07145,7537.1639,60021.39897,12479.70895,2699.56835,12224.35085,4296.2712,11436.73815,11305.93455,30063.58055,3292.52985,3021.80915,4357.04365,4189.1131,24535.69855,9301.89355,5261.46945,2710.82855,46718.16325,21472.4788,6940.90985,4571.41305,18765.87545,7201.70085,5425.02335,4239.89265,10600.5483,29141.3603],\"y0\":\" \",\"yaxis\":\"y\",\"type\":\"box\"},{\"alignmentgroup\":\"True\",\"boxpoints\":\"outliers\",\"hovertemplate\":\"region=%{x}<br>charges=%{y}<extra></extra>\",\"legendgroup\":\"Northeast\",\"marker\":{\"color\":\"#6C839B\",\"line\":{\"color\":\"#F7F7F7\",\"width\":1},\"opacity\":0.5,\"size\":9},\"name\":\"Northeast\",\"notched\":true,\"offsetgroup\":\"Northeast\",\"orientation\":\"v\",\"showlegend\":false,\"x\":[\"Northeast\",\"Northeast\",\"Northeast\",\"Northeast\",\"Northeast\",\"Northeast\",\"Northeast\",\"Northeast\",\"Northeast\",\"Northeast\",\"Northeast\",\"Northeast\",\"Northeast\",\"Northeast\",\"Northeast\",\"Northeast\",\"Northeast\",\"Northeast\",\"Northeast\",\"Northeast\",\"Northeast\",\"Northeast\",\"Northeast\",\"Northeast\",\"Northeast\",\"Northeast\",\"Northeast\",\"Northeast\",\"Northeast\",\"Northeast\",\"Northeast\",\"Northeast\",\"Northeast\",\"Northeast\",\"Northeast\",\"Northeast\",\"Northeast\",\"Northeast\",\"Northeast\",\"Northeast\",\"Northeast\",\"Northeast\",\"Northeast\",\"Northeast\",\"Northeast\",\"Northeast\",\"Northeast\",\"Northeast\",\"Northeast\",\"Northeast\",\"Northeast\",\"Northeast\",\"Northeast\",\"Northeast\",\"Northeast\",\"Northeast\",\"Northeast\",\"Northeast\",\"Northeast\",\"Northeast\",\"Northeast\",\"Northeast\",\"Northeast\",\"Northeast\",\"Northeast\",\"Northeast\",\"Northeast\",\"Northeast\",\"Northeast\",\"Northeast\",\"Northeast\",\"Northeast\",\"Northeast\",\"Northeast\",\"Northeast\",\"Northeast\",\"Northeast\",\"Northeast\",\"Northeast\",\"Northeast\",\"Northeast\",\"Northeast\",\"Northeast\",\"Northeast\",\"Northeast\",\"Northeast\",\"Northeast\",\"Northeast\",\"Northeast\",\"Northeast\",\"Northeast\",\"Northeast\",\"Northeast\",\"Northeast\",\"Northeast\",\"Northeast\",\"Northeast\",\"Northeast\",\"Northeast\",\"Northeast\",\"Northeast\",\"Northeast\",\"Northeast\",\"Northeast\",\"Northeast\",\"Northeast\",\"Northeast\",\"Northeast\",\"Northeast\",\"Northeast\",\"Northeast\",\"Northeast\",\"Northeast\",\"Northeast\",\"Northeast\",\"Northeast\",\"Northeast\",\"Northeast\",\"Northeast\",\"Northeast\",\"Northeast\",\"Northeast\",\"Northeast\",\"Northeast\",\"Northeast\",\"Northeast\",\"Northeast\",\"Northeast\",\"Northeast\",\"Northeast\",\"Northeast\",\"Northeast\",\"Northeast\",\"Northeast\",\"Northeast\",\"Northeast\",\"Northeast\",\"Northeast\",\"Northeast\",\"Northeast\",\"Northeast\",\"Northeast\",\"Northeast\",\"Northeast\",\"Northeast\",\"Northeast\",\"Northeast\",\"Northeast\",\"Northeast\",\"Northeast\",\"Northeast\",\"Northeast\",\"Northeast\",\"Northeast\",\"Northeast\",\"Northeast\",\"Northeast\",\"Northeast\",\"Northeast\",\"Northeast\",\"Northeast\",\"Northeast\",\"Northeast\",\"Northeast\",\"Northeast\",\"Northeast\",\"Northeast\",\"Northeast\",\"Northeast\",\"Northeast\",\"Northeast\",\"Northeast\",\"Northeast\",\"Northeast\",\"Northeast\",\"Northeast\",\"Northeast\",\"Northeast\",\"Northeast\",\"Northeast\",\"Northeast\",\"Northeast\",\"Northeast\",\"Northeast\",\"Northeast\",\"Northeast\",\"Northeast\",\"Northeast\",\"Northeast\",\"Northeast\",\"Northeast\",\"Northeast\",\"Northeast\",\"Northeast\",\"Northeast\",\"Northeast\",\"Northeast\",\"Northeast\",\"Northeast\",\"Northeast\",\"Northeast\",\"Northeast\",\"Northeast\",\"Northeast\",\"Northeast\",\"Northeast\",\"Northeast\",\"Northeast\",\"Northeast\",\"Northeast\",\"Northeast\",\"Northeast\",\"Northeast\",\"Northeast\",\"Northeast\",\"Northeast\",\"Northeast\",\"Northeast\",\"Northeast\",\"Northeast\",\"Northeast\",\"Northeast\",\"Northeast\",\"Northeast\",\"Northeast\",\"Northeast\",\"Northeast\",\"Northeast\",\"Northeast\",\"Northeast\",\"Northeast\",\"Northeast\",\"Northeast\",\"Northeast\",\"Northeast\",\"Northeast\",\"Northeast\",\"Northeast\",\"Northeast\",\"Northeast\",\"Northeast\",\"Northeast\",\"Northeast\",\"Northeast\",\"Northeast\",\"Northeast\",\"Northeast\",\"Northeast\",\"Northeast\",\"Northeast\",\"Northeast\",\"Northeast\",\"Northeast\",\"Northeast\",\"Northeast\",\"Northeast\",\"Northeast\",\"Northeast\",\"Northeast\",\"Northeast\",\"Northeast\",\"Northeast\",\"Northeast\",\"Northeast\",\"Northeast\",\"Northeast\",\"Northeast\",\"Northeast\",\"Northeast\",\"Northeast\",\"Northeast\",\"Northeast\",\"Northeast\",\"Northeast\",\"Northeast\",\"Northeast\",\"Northeast\",\"Northeast\",\"Northeast\",\"Northeast\",\"Northeast\",\"Northeast\",\"Northeast\",\"Northeast\",\"Northeast\",\"Northeast\",\"Northeast\",\"Northeast\",\"Northeast\",\"Northeast\",\"Northeast\",\"Northeast\",\"Northeast\",\"Northeast\",\"Northeast\",\"Northeast\",\"Northeast\",\"Northeast\",\"Northeast\",\"Northeast\",\"Northeast\",\"Northeast\",\"Northeast\",\"Northeast\",\"Northeast\",\"Northeast\",\"Northeast\",\"Northeast\",\"Northeast\",\"Northeast\",\"Northeast\",\"Northeast\",\"Northeast\",\"Northeast\",\"Northeast\",\"Northeast\",\"Northeast\",\"Northeast\",\"Northeast\",\"Northeast\",\"Northeast\",\"Northeast\",\"Northeast\",\"Northeast\"],\"x0\":\" \",\"xaxis\":\"x\",\"y\":[6406.4107,2721.3208,10797.3362,2395.17155,13228.84695,37701.8768,14451.83515,2198.18985,39774.2763,3046.062,6079.6715,3393.35635,2211.13075,13607.36875,8606.2174,6799.458,2755.02095,4441.21315,7935.29115,30184.9367,22412.6485,3645.0894,21344.8467,11488.31695,30259.99556,1705.6245,39556.4945,3385.39915,12815.44495,13616.3586,2457.21115,27375.90478,3490.5491,6334.34355,19964.7463,7077.1894,15518.18025,10407.08585,4827.90495,1694.7964,8538.28845,4005.4225,43753.33705,14901.5167,4337.7352,20984.0936,6610.1097,10564.8845,7358.17565,9225.2564,38511.6283,5354.07465,29523.1656,4040.55825,12829.4551,41097.16175,13047.33235,24869.8368,14590.63205,9282.4806,9617.66245,9715.841,22331.5668,48549.17835,4237.12655,11879.10405,9432.9253,47896.79135,20277.80751,1704.5681,6746.7425,24873.3849,11944.59435,9722.7695,10435.06525,4667.60765,24671.66334,11566.30055,6600.20595,48517.56315,11658.37915,19144.57652,41919.097,13217.0945,13981.85035,8334.45755,12404.8791,10043.249,9778.3472,13430.265,3481.868,12029.2867,7639.41745,21659.9301,15006.57945,42303.69215,8302.53565,10736.87075,8964.06055,9290.1395,9411.005,11396.9002,19594.80965,14455.64405,39125.33225,2727.3951,6555.07035,7323.734819,3167.45585,2254.7967,2897.3235,12730.9996,15230.32405,11165.41765,23288.9284,2203.47185,20878.78443,35147.52848,4347.02335,2196.4732,1967.0227,6837.3687,3044.2133,11763.0009,9361.3268,3857.75925,25656.57526,9866.30485,8342.90875,1708.0014,14043.4767,6067.12675,3268.84665,3213.62205,17878.90068,8334.5896,10923.9332,31620.00106,13224.05705,58571.07448,3206.49135,12913.9924,3861.20965,13635.6379,15359.1045,8823.98575,5594.8455,3558.62025,4435.0942,2207.69745,6753.038,11658.11505,34617.84065,6748.5912,7173.35995,14410.9321,24915.04626,20149.3229,13143.86485,10141.1362,8252.2843,1712.227,12430.95335,26392.26029,14394.39815,5148.5526,45710.20785,3943.5954,11244.3769,7729.64575,2104.1134,29186.48236,9541.69555,6113.23105,5469.0066,1984.4533,9875.6804,10106.13425,16657.71745,2217.6012,9447.25035,36189.1017,8604.48365,43254.41795,17128.42608,5031.26955,7985.815,5428.7277,3925.7582,3070.8087,9095.06825,12797.20962,7448.40395,12741.16745,5209.57885,2731.9122,4719.52405,17904.52705,3309.7926,4428.88785,23401.30575,16069.08475,20773.62775,39597.4072,11657.7189,6402.29135,12323.936,10072.05505,37270.1512,42111.6647,11729.6795,24106.91255,5458.04645,13129.60345,8891.1395,2585.85065,46255.1125,27218.43725,10422.91665,13555.0049,19798.05455,8688.85885,4661.28635,4564.19145,4846.92015,33732.6867,35069.37452,25333.33284,32108.66282,2217.46915,39047.285,11534.87265,41034.2214,9500.57305,3279.86855,4992.3764,16138.76205,9704.66805,25517.11363,4500.33925,16796.41194,4915.05985,4518.82625,14571.8908,7144.86265,7986.47525,6551.7501,8627.5411,4438.2634,23241.47453,9957.7216,6877.9801,4137.5227,13747.87235,2250.8352,1704.70015,33475.81715,11394.06555,7325.0482,14394.5579,9288.0267,5757.41345,13974.45555,12096.6512,13204.28565,2102.2647,10796.35025,11286.5387,4561.1885,44641.1974,23045.56616,16776.30405,11512.405,2396.0959,9222.4026,18903.49141,40904.1995,20709.02034,2203.73595,7228.21565,2459.7201,2200.83085,5227.98875,17178.6824,2899.48935,7650.77375,9447.3824,8603.8234,21771.3423,13725.47184,13019.16105,9964.06,20296.86345,1702.4553,12890.05765,4718.20355,6858.4796,6640.54485,11938.25595,14449.8544,6985.50695,37607.5277,18648.4217,10197.7722,4544.2348,10370.91255,34254.05335,2741.948,22462.04375,14283.4594,8534.6718,3732.6251,7133.9025,11931.12525,1708.92575,21259.37795,16115.3045,11272.33139,19496.71917,28101.33305,13143.33665,7050.0213,22395.74424,2205.9808],\"y0\":\" \",\"yaxis\":\"y\",\"type\":\"box\"}],                        {\"template\":{\"data\":{\"barpolar\":[{\"marker\":{\"line\":{\"color\":\"white\",\"width\":0.5},\"pattern\":{\"fillmode\":\"overlay\",\"size\":10,\"solidity\":0.2}},\"type\":\"barpolar\"}],\"bar\":[{\"error_x\":{\"color\":\"#2a3f5f\"},\"error_y\":{\"color\":\"#2a3f5f\"},\"marker\":{\"line\":{\"color\":\"white\",\"width\":0.5},\"pattern\":{\"fillmode\":\"overlay\",\"size\":10,\"solidity\":0.2}},\"type\":\"bar\"}],\"carpet\":[{\"aaxis\":{\"endlinecolor\":\"#2a3f5f\",\"gridcolor\":\"#C8D4E3\",\"linecolor\":\"#C8D4E3\",\"minorgridcolor\":\"#C8D4E3\",\"startlinecolor\":\"#2a3f5f\"},\"baxis\":{\"endlinecolor\":\"#2a3f5f\",\"gridcolor\":\"#C8D4E3\",\"linecolor\":\"#C8D4E3\",\"minorgridcolor\":\"#C8D4E3\",\"startlinecolor\":\"#2a3f5f\"},\"type\":\"carpet\"}],\"choropleth\":[{\"colorbar\":{\"outlinewidth\":0,\"ticks\":\"\"},\"type\":\"choropleth\"}],\"contourcarpet\":[{\"colorbar\":{\"outlinewidth\":0,\"ticks\":\"\"},\"type\":\"contourcarpet\"}],\"contour\":[{\"colorbar\":{\"outlinewidth\":0,\"ticks\":\"\"},\"colorscale\":[[0.0,\"#0d0887\"],[0.1111111111111111,\"#46039f\"],[0.2222222222222222,\"#7201a8\"],[0.3333333333333333,\"#9c179e\"],[0.4444444444444444,\"#bd3786\"],[0.5555555555555556,\"#d8576b\"],[0.6666666666666666,\"#ed7953\"],[0.7777777777777778,\"#fb9f3a\"],[0.8888888888888888,\"#fdca26\"],[1.0,\"#f0f921\"]],\"type\":\"contour\"}],\"heatmapgl\":[{\"colorbar\":{\"outlinewidth\":0,\"ticks\":\"\"},\"colorscale\":[[0.0,\"#0d0887\"],[0.1111111111111111,\"#46039f\"],[0.2222222222222222,\"#7201a8\"],[0.3333333333333333,\"#9c179e\"],[0.4444444444444444,\"#bd3786\"],[0.5555555555555556,\"#d8576b\"],[0.6666666666666666,\"#ed7953\"],[0.7777777777777778,\"#fb9f3a\"],[0.8888888888888888,\"#fdca26\"],[1.0,\"#f0f921\"]],\"type\":\"heatmapgl\"}],\"heatmap\":[{\"colorbar\":{\"outlinewidth\":0,\"ticks\":\"\"},\"colorscale\":[[0.0,\"#0d0887\"],[0.1111111111111111,\"#46039f\"],[0.2222222222222222,\"#7201a8\"],[0.3333333333333333,\"#9c179e\"],[0.4444444444444444,\"#bd3786\"],[0.5555555555555556,\"#d8576b\"],[0.6666666666666666,\"#ed7953\"],[0.7777777777777778,\"#fb9f3a\"],[0.8888888888888888,\"#fdca26\"],[1.0,\"#f0f921\"]],\"type\":\"heatmap\"}],\"histogram2dcontour\":[{\"colorbar\":{\"outlinewidth\":0,\"ticks\":\"\"},\"colorscale\":[[0.0,\"#0d0887\"],[0.1111111111111111,\"#46039f\"],[0.2222222222222222,\"#7201a8\"],[0.3333333333333333,\"#9c179e\"],[0.4444444444444444,\"#bd3786\"],[0.5555555555555556,\"#d8576b\"],[0.6666666666666666,\"#ed7953\"],[0.7777777777777778,\"#fb9f3a\"],[0.8888888888888888,\"#fdca26\"],[1.0,\"#f0f921\"]],\"type\":\"histogram2dcontour\"}],\"histogram2d\":[{\"colorbar\":{\"outlinewidth\":0,\"ticks\":\"\"},\"colorscale\":[[0.0,\"#0d0887\"],[0.1111111111111111,\"#46039f\"],[0.2222222222222222,\"#7201a8\"],[0.3333333333333333,\"#9c179e\"],[0.4444444444444444,\"#bd3786\"],[0.5555555555555556,\"#d8576b\"],[0.6666666666666666,\"#ed7953\"],[0.7777777777777778,\"#fb9f3a\"],[0.8888888888888888,\"#fdca26\"],[1.0,\"#f0f921\"]],\"type\":\"histogram2d\"}],\"histogram\":[{\"marker\":{\"pattern\":{\"fillmode\":\"overlay\",\"size\":10,\"solidity\":0.2}},\"type\":\"histogram\"}],\"mesh3d\":[{\"colorbar\":{\"outlinewidth\":0,\"ticks\":\"\"},\"type\":\"mesh3d\"}],\"parcoords\":[{\"line\":{\"colorbar\":{\"outlinewidth\":0,\"ticks\":\"\"}},\"type\":\"parcoords\"}],\"pie\":[{\"automargin\":true,\"type\":\"pie\"}],\"scatter3d\":[{\"line\":{\"colorbar\":{\"outlinewidth\":0,\"ticks\":\"\"}},\"marker\":{\"colorbar\":{\"outlinewidth\":0,\"ticks\":\"\"}},\"type\":\"scatter3d\"}],\"scattercarpet\":[{\"marker\":{\"colorbar\":{\"outlinewidth\":0,\"ticks\":\"\"}},\"type\":\"scattercarpet\"}],\"scattergeo\":[{\"marker\":{\"colorbar\":{\"outlinewidth\":0,\"ticks\":\"\"}},\"type\":\"scattergeo\"}],\"scattergl\":[{\"marker\":{\"colorbar\":{\"outlinewidth\":0,\"ticks\":\"\"}},\"type\":\"scattergl\"}],\"scattermapbox\":[{\"marker\":{\"colorbar\":{\"outlinewidth\":0,\"ticks\":\"\"}},\"type\":\"scattermapbox\"}],\"scatterpolargl\":[{\"marker\":{\"colorbar\":{\"outlinewidth\":0,\"ticks\":\"\"}},\"type\":\"scatterpolargl\"}],\"scatterpolar\":[{\"marker\":{\"colorbar\":{\"outlinewidth\":0,\"ticks\":\"\"}},\"type\":\"scatterpolar\"}],\"scatter\":[{\"marker\":{\"colorbar\":{\"outlinewidth\":0,\"ticks\":\"\"}},\"type\":\"scatter\"}],\"scatterternary\":[{\"marker\":{\"colorbar\":{\"outlinewidth\":0,\"ticks\":\"\"}},\"type\":\"scatterternary\"}],\"surface\":[{\"colorbar\":{\"outlinewidth\":0,\"ticks\":\"\"},\"colorscale\":[[0.0,\"#0d0887\"],[0.1111111111111111,\"#46039f\"],[0.2222222222222222,\"#7201a8\"],[0.3333333333333333,\"#9c179e\"],[0.4444444444444444,\"#bd3786\"],[0.5555555555555556,\"#d8576b\"],[0.6666666666666666,\"#ed7953\"],[0.7777777777777778,\"#fb9f3a\"],[0.8888888888888888,\"#fdca26\"],[1.0,\"#f0f921\"]],\"type\":\"surface\"}],\"table\":[{\"cells\":{\"fill\":{\"color\":\"#EBF0F8\"},\"line\":{\"color\":\"white\"}},\"header\":{\"fill\":{\"color\":\"#C8D4E3\"},\"line\":{\"color\":\"white\"}},\"type\":\"table\"}]},\"layout\":{\"annotationdefaults\":{\"arrowcolor\":\"#2a3f5f\",\"arrowhead\":0,\"arrowwidth\":1},\"autotypenumbers\":\"strict\",\"coloraxis\":{\"colorbar\":{\"outlinewidth\":0,\"ticks\":\"\"}},\"colorscale\":{\"diverging\":[[0,\"#8e0152\"],[0.1,\"#c51b7d\"],[0.2,\"#de77ae\"],[0.3,\"#f1b6da\"],[0.4,\"#fde0ef\"],[0.5,\"#f7f7f7\"],[0.6,\"#e6f5d0\"],[0.7,\"#b8e186\"],[0.8,\"#7fbc41\"],[0.9,\"#4d9221\"],[1,\"#276419\"]],\"sequential\":[[0.0,\"#0d0887\"],[0.1111111111111111,\"#46039f\"],[0.2222222222222222,\"#7201a8\"],[0.3333333333333333,\"#9c179e\"],[0.4444444444444444,\"#bd3786\"],[0.5555555555555556,\"#d8576b\"],[0.6666666666666666,\"#ed7953\"],[0.7777777777777778,\"#fb9f3a\"],[0.8888888888888888,\"#fdca26\"],[1.0,\"#f0f921\"]],\"sequentialminus\":[[0.0,\"#0d0887\"],[0.1111111111111111,\"#46039f\"],[0.2222222222222222,\"#7201a8\"],[0.3333333333333333,\"#9c179e\"],[0.4444444444444444,\"#bd3786\"],[0.5555555555555556,\"#d8576b\"],[0.6666666666666666,\"#ed7953\"],[0.7777777777777778,\"#fb9f3a\"],[0.8888888888888888,\"#fdca26\"],[1.0,\"#f0f921\"]]},\"colorway\":[\"#636efa\",\"#EF553B\",\"#00cc96\",\"#ab63fa\",\"#FFA15A\",\"#19d3f3\",\"#FF6692\",\"#B6E880\",\"#FF97FF\",\"#FECB52\"],\"font\":{\"color\":\"#2a3f5f\"},\"geo\":{\"bgcolor\":\"white\",\"lakecolor\":\"white\",\"landcolor\":\"white\",\"showlakes\":true,\"showland\":true,\"subunitcolor\":\"#C8D4E3\"},\"hoverlabel\":{\"align\":\"left\"},\"hovermode\":\"closest\",\"mapbox\":{\"style\":\"light\"},\"paper_bgcolor\":\"white\",\"plot_bgcolor\":\"white\",\"polar\":{\"angularaxis\":{\"gridcolor\":\"#EBF0F8\",\"linecolor\":\"#EBF0F8\",\"ticks\":\"\"},\"bgcolor\":\"white\",\"radialaxis\":{\"gridcolor\":\"#EBF0F8\",\"linecolor\":\"#EBF0F8\",\"ticks\":\"\"}},\"scene\":{\"xaxis\":{\"backgroundcolor\":\"white\",\"gridcolor\":\"#DFE8F3\",\"gridwidth\":2,\"linecolor\":\"#EBF0F8\",\"showbackground\":true,\"ticks\":\"\",\"zerolinecolor\":\"#EBF0F8\"},\"yaxis\":{\"backgroundcolor\":\"white\",\"gridcolor\":\"#DFE8F3\",\"gridwidth\":2,\"linecolor\":\"#EBF0F8\",\"showbackground\":true,\"ticks\":\"\",\"zerolinecolor\":\"#EBF0F8\"},\"zaxis\":{\"backgroundcolor\":\"white\",\"gridcolor\":\"#DFE8F3\",\"gridwidth\":2,\"linecolor\":\"#EBF0F8\",\"showbackground\":true,\"ticks\":\"\",\"zerolinecolor\":\"#EBF0F8\"}},\"shapedefaults\":{\"line\":{\"color\":\"#2a3f5f\"}},\"ternary\":{\"aaxis\":{\"gridcolor\":\"#DFE8F3\",\"linecolor\":\"#A2B1C6\",\"ticks\":\"\"},\"baxis\":{\"gridcolor\":\"#DFE8F3\",\"linecolor\":\"#A2B1C6\",\"ticks\":\"\"},\"bgcolor\":\"white\",\"caxis\":{\"gridcolor\":\"#DFE8F3\",\"linecolor\":\"#A2B1C6\",\"ticks\":\"\"}},\"title\":{\"x\":0.05},\"xaxis\":{\"automargin\":true,\"gridcolor\":\"#EBF0F8\",\"linecolor\":\"#EBF0F8\",\"ticks\":\"\",\"title\":{\"standoff\":15},\"zerolinecolor\":\"#EBF0F8\",\"zerolinewidth\":2},\"yaxis\":{\"automargin\":true,\"gridcolor\":\"#EBF0F8\",\"linecolor\":\"#EBF0F8\",\"ticks\":\"\",\"title\":{\"standoff\":15},\"zerolinecolor\":\"#EBF0F8\",\"zerolinewidth\":2}}},\"xaxis\":{\"anchor\":\"y\",\"domain\":[0.0,1.0],\"title\":{\"text\":\"Region\"},\"categoryorder\":\"array\",\"categoryarray\":[\"Southwest\",\"Southeast\",\"Northwest\",\"Northeast\"]},\"yaxis\":{\"anchor\":\"x\",\"domain\":[0.0,1.0],\"title\":{\"text\":\"Claim Amount, $\"},\"showgrid\":true,\"gridwidth\":1,\"gridcolor\":\"#EAEAEA\",\"zerolinecolor\":\"#EAEAEA\"},\"legend\":{\"title\":{\"text\":\"region\"},\"tracegroupgap\":0},\"margin\":{\"t\":60},\"boxmode\":\"overlay\",\"height\":600,\"font\":{\"color\":\"#303030\"}},                        {\"responsive\": true}                    ).then(function(){\n",
       "                            \n",
       "var gd = document.getElementById('6785c4a1-a593-42a0-a8fe-f88d493de1dd');\n",
       "var x = new MutationObserver(function (mutations, observer) {{\n",
       "        var display = window.getComputedStyle(gd).display;\n",
       "        if (!display || display === 'none') {{\n",
       "            console.log([gd, 'removed!']);\n",
       "            Plotly.purge(gd);\n",
       "            observer.disconnect();\n",
       "        }}\n",
       "}});\n",
       "\n",
       "// Listen for the removal of the full notebook cells\n",
       "var notebookContainer = gd.closest('#notebook-container');\n",
       "if (notebookContainer) {{\n",
       "    x.observe(notebookContainer, {childList: true});\n",
       "}}\n",
       "\n",
       "// Listen for the clearing of the current output cell\n",
       "var outputEl = gd.closest('.output');\n",
       "if (outputEl) {{\n",
       "    x.observe(outputEl, {childList: true});\n",
       "}}\n",
       "\n",
       "                        })                };                });            </script>        </div>"
      ]
     },
     "metadata": {},
     "output_type": "display_data"
    }
   ],
   "source": [
    "init_notebook_mode(connected=True)\n",
    "px.defaults.template = \"plotly_white\"\n",
    "plot_df=ins.copy()\n",
    "fig = px.box(plot_df, x=\"region\", y=\"charges\", color=\"region\", \n",
    "             notched=True, points=\"outliers\", height=600,\n",
    "             title=\"\",\n",
    "             color_discrete_sequence=['#B14B51', '#D0A99C', '#5D8370', '#6C839B'])\n",
    "fig.update_traces(marker=dict(size=9, opacity=0.5, line=dict(width=1,color=\"#F7F7F7\")), showlegend=False)\n",
    "fig.update_layout(font_color=\"#303030\", xaxis_title='Region', yaxis_title='Claim Amount, $',\n",
    "                  yaxis=dict(showgrid=True, gridwidth=1, gridcolor='#EAEAEA', zerolinecolor='#EAEAEA'))\n",
    "fig.show()"
   ]
  },
  {
   "cell_type": "markdown",
   "metadata": {},
   "source": [
    "Для каждого региона графики показывают, что страховые сборы положительно искажены с несколькими большими отклонениями. Страховые сборы более изменчивы в Юго-Восточном регионе, который содержит самую высокую претензию в наборе данных - более 63 000 долларов США, а также самую низкую претензию - 1121 доллар США. Северо-Восточный регион имеет самую высокую среднюю стоимость в целом, хотя, поскольку отметки в графиках накладываются друг на друга, средние суммы претензий, вероятно, существенно не отличаются."
   ]
  },
  {
   "cell_type": "code",
   "execution_count": 40,
   "metadata": {},
   "outputs": [
    {
     "data": {
      "image/png": "[encoded data removed]",
      "text/plain": [
       "<Figure size 648x432 with 2 Axes>"
      ]
     },
     "metadata": {
      "needs_background": "light"
     },
     "output_type": "display_data"
    }
   ],
   "source": [
    "ins['female'] = ins['sex'].apply(lambda x: 1 if x=='Female' else 0)\n",
    "ins['smoker_yes'] = ins['smoker'].apply(lambda x: 1 if x=='Smoker' else 0)\n",
    "ins.drop(['sex', 'smoker'], axis=1, inplace=True)\n",
    "\n",
    "sns.set_context(\"notebook\")\n",
    "fig, ax = plt.subplots(figsize=(9,6))   \n",
    "corr=ins.corr()\n",
    "mask=np.triu(np.ones_like(corr, dtype=bool))[1:, :-1]\n",
    "corr=corr.iloc[1:,:-1].copy()\n",
    "ax=sns.heatmap(corr, mask=mask, vmin=-.1, vmax=.9, center=0, annot=True, fmt='.2f', \n",
    "               cmap='ocean', linewidths=4, annot_kws={\"fontsize\":12})\n",
    "ax.set_title('', fontsize=18)\n",
    "ax.set_xticklabels(ax.get_xticklabels(), rotation=45, horizontalalignment='right',fontsize=12)\n",
    "ax.set_yticklabels(ax.get_yticklabels(), fontsize=12)\n",
    "fig.show()"
   ]
  },
  {
   "cell_type": "markdown",
   "metadata": {},
   "source": [
    "Корреляционная матрица показывает, что курильщики имеют сильную положительную связь со страховыми взносами на уровне 0,79, но в целом переменные в наборе данных не слишком сильно коррелируют друг с другом."
   ]
  },
  {
   "cell_type": "markdown",
   "metadata": {},
   "source": [
    "Построение линейной регрессии"
   ]
  },
  {
   "cell_type": "code",
   "execution_count": 41,
   "metadata": {},
   "outputs": [
    {
     "data": {
      "text/html": [
       "<div>\n",
       "<style scoped>\n",
       "    .dataframe tbody tr th:only-of-type {\n",
       "        vertical-align: middle;\n",
       "    }\n",
       "\n",
       "    .dataframe tbody tr th {\n",
       "        vertical-align: top;\n",
       "    }\n",
       "\n",
       "    .dataframe thead th {\n",
       "        text-align: right;\n",
       "    }\n",
       "</style>\n",
       "<table border=\"1\" class=\"dataframe\">\n",
       "  <thead>\n",
       "    <tr style=\"text-align: right;\">\n",
       "      <th></th>\n",
       "      <th>age</th>\n",
       "      <th>bmi</th>\n",
       "      <th>children</th>\n",
       "      <th>charges</th>\n",
       "      <th>female</th>\n",
       "      <th>smoker_yes</th>\n",
       "      <th>northeast</th>\n",
       "      <th>northwest</th>\n",
       "      <th>southeast</th>\n",
       "      <th>southwest</th>\n",
       "    </tr>\n",
       "  </thead>\n",
       "  <tbody>\n",
       "    <tr>\n",
       "      <th>0</th>\n",
       "      <td>19</td>\n",
       "      <td>27.900</td>\n",
       "      <td>0</td>\n",
       "      <td>16884.92400</td>\n",
       "      <td>1</td>\n",
       "      <td>1</td>\n",
       "      <td>0</td>\n",
       "      <td>0</td>\n",
       "      <td>0</td>\n",
       "      <td>1</td>\n",
       "    </tr>\n",
       "    <tr>\n",
       "      <th>1</th>\n",
       "      <td>18</td>\n",
       "      <td>33.770</td>\n",
       "      <td>1</td>\n",
       "      <td>1725.55230</td>\n",
       "      <td>0</td>\n",
       "      <td>0</td>\n",
       "      <td>0</td>\n",
       "      <td>0</td>\n",
       "      <td>1</td>\n",
       "      <td>0</td>\n",
       "    </tr>\n",
       "    <tr>\n",
       "      <th>2</th>\n",
       "      <td>28</td>\n",
       "      <td>33.000</td>\n",
       "      <td>3</td>\n",
       "      <td>4449.46200</td>\n",
       "      <td>0</td>\n",
       "      <td>0</td>\n",
       "      <td>0</td>\n",
       "      <td>0</td>\n",
       "      <td>1</td>\n",
       "      <td>0</td>\n",
       "    </tr>\n",
       "    <tr>\n",
       "      <th>3</th>\n",
       "      <td>33</td>\n",
       "      <td>22.705</td>\n",
       "      <td>0</td>\n",
       "      <td>21984.47061</td>\n",
       "      <td>0</td>\n",
       "      <td>0</td>\n",
       "      <td>0</td>\n",
       "      <td>1</td>\n",
       "      <td>0</td>\n",
       "      <td>0</td>\n",
       "    </tr>\n",
       "    <tr>\n",
       "      <th>4</th>\n",
       "      <td>32</td>\n",
       "      <td>28.880</td>\n",
       "      <td>0</td>\n",
       "      <td>3866.85520</td>\n",
       "      <td>0</td>\n",
       "      <td>0</td>\n",
       "      <td>0</td>\n",
       "      <td>1</td>\n",
       "      <td>0</td>\n",
       "      <td>0</td>\n",
       "    </tr>\n",
       "    <tr>\n",
       "      <th>5</th>\n",
       "      <td>31</td>\n",
       "      <td>25.740</td>\n",
       "      <td>0</td>\n",
       "      <td>3756.62160</td>\n",
       "      <td>1</td>\n",
       "      <td>0</td>\n",
       "      <td>0</td>\n",
       "      <td>0</td>\n",
       "      <td>1</td>\n",
       "      <td>0</td>\n",
       "    </tr>\n",
       "    <tr>\n",
       "      <th>6</th>\n",
       "      <td>46</td>\n",
       "      <td>33.440</td>\n",
       "      <td>1</td>\n",
       "      <td>8240.58960</td>\n",
       "      <td>1</td>\n",
       "      <td>0</td>\n",
       "      <td>0</td>\n",
       "      <td>0</td>\n",
       "      <td>1</td>\n",
       "      <td>0</td>\n",
       "    </tr>\n",
       "  </tbody>\n",
       "</table>\n",
       "</div>"
      ],
      "text/plain": [
       "   age     bmi  children      charges  female  smoker_yes  northeast  \\\n",
       "0   19  27.900         0  16884.92400       1           1          0   \n",
       "1   18  33.770         1   1725.55230       0           0          0   \n",
       "2   28  33.000         3   4449.46200       0           0          0   \n",
       "3   33  22.705         0  21984.47061       0           0          0   \n",
       "4   32  28.880         0   3866.85520       0           0          0   \n",
       "5   31  25.740         0   3756.62160       1           0          0   \n",
       "6   46  33.440         1   8240.58960       1           0          0   \n",
       "\n",
       "   northwest  southeast  southwest  \n",
       "0          0          0          1  \n",
       "1          0          1          0  \n",
       "2          0          1          0  \n",
       "3          1          0          0  \n",
       "4          1          0          0  \n",
       "5          0          1          0  \n",
       "6          0          1          0  "
      ]
     },
     "execution_count": 41,
     "metadata": {},
     "output_type": "execute_result"
    }
   ],
   "source": [
    "data = pd.read_csv('C:\\\\Users\\\\averu\\\\Documents\\\\git_local\\\\programming-practice\\\\IDA\\\\IDA-practice-5\\\\insurance.csv')\n",
    "\n",
    "data['sex'] = data['sex'].str.capitalize()\n",
    "data['smoker'] = data['smoker'].apply(lambda x: 'Smoker' if x=='yes' else 'Non-Smoker')\n",
    "\n",
    "data['female'] = data['sex'].apply(lambda x: 1 if x=='Female' else 0)\n",
    "data['smoker_yes'] = data['smoker'].apply(lambda x: 1 if x=='Smoker' else 0)\n",
    "\n",
    "\n",
    "region = pd.get_dummies(data['region']) \n",
    "data = pd.concat((data, region), axis=1)\n",
    "data = data.loc[:, data.columns.isin(['age', 'female', 'bmi', 'children' , 'smoker_yes', 'charges', 'northeast', 'northwest','southeast', 'southwest'])]\n",
    "\n",
    "data.head(7)"
   ]
  },
  {
   "cell_type": "markdown",
   "metadata": {},
   "source": [
    "Модель 1. Все признаки присутствуют."
   ]
  },
  {
   "cell_type": "code",
   "execution_count": 42,
   "metadata": {},
   "outputs": [
    {
     "data": {
      "text/html": [
       "<table class=\"simpletable\">\n",
       "<caption>OLS Regression Results</caption>\n",
       "<tr>\n",
       "  <th>Dep. Variable:</th>         <td>charges</td>     <th>  R-squared:         </th> <td>   0.751</td> \n",
       "</tr>\n",
       "<tr>\n",
       "  <th>Model:</th>                   <td>OLS</td>       <th>  Adj. R-squared:    </th> <td>   0.749</td> \n",
       "</tr>\n",
       "<tr>\n",
       "  <th>Method:</th>             <td>Least Squares</td>  <th>  F-statistic:       </th> <td>   500.8</td> \n",
       "</tr>\n",
       "<tr>\n",
       "  <th>Date:</th>             <td>Fri, 03 Jun 2022</td> <th>  Prob (F-statistic):</th>  <td>  0.00</td>  \n",
       "</tr>\n",
       "<tr>\n",
       "  <th>Time:</th>                 <td>13:03:31</td>     <th>  Log-Likelihood:    </th> <td> -13548.</td> \n",
       "</tr>\n",
       "<tr>\n",
       "  <th>No. Observations:</th>      <td>  1338</td>      <th>  AIC:               </th> <td>2.711e+04</td>\n",
       "</tr>\n",
       "<tr>\n",
       "  <th>Df Residuals:</th>          <td>  1329</td>      <th>  BIC:               </th> <td>2.716e+04</td>\n",
       "</tr>\n",
       "<tr>\n",
       "  <th>Df Model:</th>              <td>     8</td>      <th>                     </th>     <td> </td>    \n",
       "</tr>\n",
       "<tr>\n",
       "  <th>Covariance Type:</th>      <td>nonrobust</td>    <th>                     </th>     <td> </td>    \n",
       "</tr>\n",
       "</table>\n",
       "<table class=\"simpletable\">\n",
       "<tr>\n",
       "       <td></td>         <th>coef</th>     <th>std err</th>      <th>t</th>      <th>P>|t|</th>  <th>[0.025</th>    <th>0.975]</th>  \n",
       "</tr>\n",
       "<tr>\n",
       "  <th>const</th>      <td>-1.013e+04</td> <td>  791.569</td> <td>  -12.792</td> <td> 0.000</td> <td>-1.17e+04</td> <td>-8572.628</td>\n",
       "</tr>\n",
       "<tr>\n",
       "  <th>age</th>        <td>  256.8564</td> <td>   11.899</td> <td>   21.587</td> <td> 0.000</td> <td>  233.514</td> <td>  280.199</td>\n",
       "</tr>\n",
       "<tr>\n",
       "  <th>bmi</th>        <td>  339.1935</td> <td>   28.599</td> <td>   11.860</td> <td> 0.000</td> <td>  283.088</td> <td>  395.298</td>\n",
       "</tr>\n",
       "<tr>\n",
       "  <th>children</th>   <td>  475.5005</td> <td>  137.804</td> <td>    3.451</td> <td> 0.001</td> <td>  205.163</td> <td>  745.838</td>\n",
       "</tr>\n",
       "<tr>\n",
       "  <th>female</th>     <td>  131.3144</td> <td>  332.945</td> <td>    0.394</td> <td> 0.693</td> <td> -521.842</td> <td>  784.470</td>\n",
       "</tr>\n",
       "<tr>\n",
       "  <th>smoker_yes</th> <td> 2.385e+04</td> <td>  413.153</td> <td>   57.723</td> <td> 0.000</td> <td>  2.3e+04</td> <td> 2.47e+04</td>\n",
       "</tr>\n",
       "<tr>\n",
       "  <th>northeast</th>  <td>-1944.3632</td> <td>  334.580</td> <td>   -5.811</td> <td> 0.000</td> <td>-2600.725</td> <td>-1288.001</td>\n",
       "</tr>\n",
       "<tr>\n",
       "  <th>northwest</th>  <td>-2297.3271</td> <td>  335.065</td> <td>   -6.856</td> <td> 0.000</td> <td>-2954.641</td> <td>-1640.014</td>\n",
       "</tr>\n",
       "<tr>\n",
       "  <th>southeast</th>  <td>-2979.3852</td> <td>  386.076</td> <td>   -7.717</td> <td> 0.000</td> <td>-3736.771</td> <td>-2222.000</td>\n",
       "</tr>\n",
       "<tr>\n",
       "  <th>southwest</th>  <td>-2904.4142</td> <td>  352.330</td> <td>   -8.243</td> <td> 0.000</td> <td>-3595.597</td> <td>-2213.231</td>\n",
       "</tr>\n",
       "</table>\n",
       "<table class=\"simpletable\">\n",
       "<tr>\n",
       "  <th>Omnibus:</th>       <td>300.366</td> <th>  Durbin-Watson:     </th> <td>   2.088</td> \n",
       "</tr>\n",
       "<tr>\n",
       "  <th>Prob(Omnibus):</th> <td> 0.000</td>  <th>  Jarque-Bera (JB):  </th> <td> 718.887</td> \n",
       "</tr>\n",
       "<tr>\n",
       "  <th>Skew:</th>          <td> 1.211</td>  <th>  Prob(JB):          </th> <td>7.86e-157</td>\n",
       "</tr>\n",
       "<tr>\n",
       "  <th>Kurtosis:</th>      <td> 5.651</td>  <th>  Cond. No.          </th> <td>2.36e+17</td> \n",
       "</tr>\n",
       "</table><br/><br/>Notes:<br/>[1] Standard Errors assume that the covariance matrix of the errors is correctly specified.<br/>[2] The smallest eigenvalue is 6.3e-29. This might indicate that there are<br/>strong multicollinearity problems or that the design matrix is singular."
      ],
      "text/plain": [
       "<class 'statsmodels.iolib.summary.Summary'>\n",
       "\"\"\"\n",
       "                            OLS Regression Results                            \n",
       "==============================================================================\n",
       "Dep. Variable:                charges   R-squared:                       0.751\n",
       "Model:                            OLS   Adj. R-squared:                  0.749\n",
       "Method:                 Least Squares   F-statistic:                     500.8\n",
       "Date:                Fri, 03 Jun 2022   Prob (F-statistic):               0.00\n",
       "Time:                        13:03:31   Log-Likelihood:                -13548.\n",
       "No. Observations:                1338   AIC:                         2.711e+04\n",
       "Df Residuals:                    1329   BIC:                         2.716e+04\n",
       "Df Model:                           8                                         \n",
       "Covariance Type:            nonrobust                                         \n",
       "==============================================================================\n",
       "                 coef    std err          t      P>|t|      [0.025      0.975]\n",
       "------------------------------------------------------------------------------\n",
       "const      -1.013e+04    791.569    -12.792      0.000   -1.17e+04   -8572.628\n",
       "age          256.8564     11.899     21.587      0.000     233.514     280.199\n",
       "bmi          339.1935     28.599     11.860      0.000     283.088     395.298\n",
       "children     475.5005    137.804      3.451      0.001     205.163     745.838\n",
       "female       131.3144    332.945      0.394      0.693    -521.842     784.470\n",
       "smoker_yes  2.385e+04    413.153     57.723      0.000     2.3e+04    2.47e+04\n",
       "northeast  -1944.3632    334.580     -5.811      0.000   -2600.725   -1288.001\n",
       "northwest  -2297.3271    335.065     -6.856      0.000   -2954.641   -1640.014\n",
       "southeast  -2979.3852    386.076     -7.717      0.000   -3736.771   -2222.000\n",
       "southwest  -2904.4142    352.330     -8.243      0.000   -3595.597   -2213.231\n",
       "==============================================================================\n",
       "Omnibus:                      300.366   Durbin-Watson:                   2.088\n",
       "Prob(Omnibus):                  0.000   Jarque-Bera (JB):              718.887\n",
       "Skew:                           1.211   Prob(JB):                    7.86e-157\n",
       "Kurtosis:                       5.651   Cond. No.                     2.36e+17\n",
       "==============================================================================\n",
       "\n",
       "Notes:\n",
       "[1] Standard Errors assume that the covariance matrix of the errors is correctly specified.\n",
       "[2] The smallest eigenvalue is 6.3e-29. This might indicate that there are\n",
       "strong multicollinearity problems or that the design matrix is singular.\n",
       "\"\"\""
      ]
     },
     "execution_count": 42,
     "metadata": {},
     "output_type": "execute_result"
    }
   ],
   "source": [
    "y_train=data.pop('charges')\n",
    "X_train = data.copy()\n",
    "\n",
    "import statsmodels.api as sm\n",
    "X_train_sm = sm.add_constant(X_train)\n",
    "\n",
    "lm= sm.OLS(y_train, X_train_sm).fit()\n",
    "\n",
    "lm.summary()"
   ]
  },
  {
   "cell_type": "markdown",
   "metadata": {},
   "source": [
    "Модель 2. Квадрат признака `bmi`. "
   ]
  },
  {
   "cell_type": "code",
   "execution_count": 43,
   "metadata": {},
   "outputs": [
    {
     "data": {
      "text/html": [
       "<table class=\"simpletable\">\n",
       "<caption>OLS Regression Results</caption>\n",
       "<tr>\n",
       "  <th>Dep. Variable:</th>         <td>charges</td>     <th>  R-squared:         </th> <td>   0.749</td> \n",
       "</tr>\n",
       "<tr>\n",
       "  <th>Model:</th>                   <td>OLS</td>       <th>  Adj. R-squared:    </th> <td>   0.748</td> \n",
       "</tr>\n",
       "<tr>\n",
       "  <th>Method:</th>             <td>Least Squares</td>  <th>  F-statistic:       </th> <td>   496.0</td> \n",
       "</tr>\n",
       "<tr>\n",
       "  <th>Date:</th>             <td>Fri, 03 Jun 2022</td> <th>  Prob (F-statistic):</th>  <td>  0.00</td>  \n",
       "</tr>\n",
       "<tr>\n",
       "  <th>Time:</th>                 <td>13:03:31</td>     <th>  Log-Likelihood:    </th> <td> -13553.</td> \n",
       "</tr>\n",
       "<tr>\n",
       "  <th>No. Observations:</th>      <td>  1338</td>      <th>  AIC:               </th> <td>2.712e+04</td>\n",
       "</tr>\n",
       "<tr>\n",
       "  <th>Df Residuals:</th>          <td>  1329</td>      <th>  BIC:               </th> <td>2.717e+04</td>\n",
       "</tr>\n",
       "<tr>\n",
       "  <th>Df Model:</th>              <td>     8</td>      <th>                     </th>     <td> </td>    \n",
       "</tr>\n",
       "<tr>\n",
       "  <th>Covariance Type:</th>      <td>nonrobust</td>    <th>                     </th>     <td> </td>    \n",
       "</tr>\n",
       "</table>\n",
       "<table class=\"simpletable\">\n",
       "<tr>\n",
       "       <td></td>         <th>coef</th>     <th>std err</th>      <th>t</th>      <th>P>|t|</th>  <th>[0.025</th>    <th>0.975]</th>  \n",
       "</tr>\n",
       "<tr>\n",
       "  <th>const</th>      <td>-5883.5713</td> <td>  538.559</td> <td>  -10.925</td> <td> 0.000</td> <td>-6940.089</td> <td>-4827.053</td>\n",
       "</tr>\n",
       "<tr>\n",
       "  <th>age</th>        <td>  258.6085</td> <td>   11.930</td> <td>   21.676</td> <td> 0.000</td> <td>  235.204</td> <td>  282.013</td>\n",
       "</tr>\n",
       "<tr>\n",
       "  <th>bmi</th>        <td>    5.1537</td> <td>    0.452</td> <td>   11.405</td> <td> 0.000</td> <td>    4.267</td> <td>    6.040</td>\n",
       "</tr>\n",
       "<tr>\n",
       "  <th>children</th>   <td>  475.2722</td> <td>  138.305</td> <td>    3.436</td> <td> 0.001</td> <td>  203.953</td> <td>  746.592</td>\n",
       "</tr>\n",
       "<tr>\n",
       "  <th>female</th>     <td>  122.1799</td> <td>  334.141</td> <td>    0.366</td> <td> 0.715</td> <td> -533.322</td> <td>  777.682</td>\n",
       "</tr>\n",
       "<tr>\n",
       "  <th>smoker_yes</th> <td> 2.383e+04</td> <td>  414.638</td> <td>   57.483</td> <td> 0.000</td> <td>  2.3e+04</td> <td> 2.46e+04</td>\n",
       "</tr>\n",
       "<tr>\n",
       "  <th>northeast</th>  <td> -919.4003</td> <td>  313.989</td> <td>   -2.928</td> <td> 0.003</td> <td>-1535.368</td> <td> -303.433</td>\n",
       "</tr>\n",
       "<tr>\n",
       "  <th>northwest</th>  <td>-1225.9668</td> <td>  313.839</td> <td>   -3.906</td> <td> 0.000</td> <td>-1841.641</td> <td> -610.293</td>\n",
       "</tr>\n",
       "<tr>\n",
       "  <th>southeast</th>  <td>-1917.0905</td> <td>  340.227</td> <td>   -5.635</td> <td> 0.000</td> <td>-2584.532</td> <td>-1249.649</td>\n",
       "</tr>\n",
       "<tr>\n",
       "  <th>southwest</th>  <td>-1821.1137</td> <td>  321.593</td> <td>   -5.663</td> <td> 0.000</td> <td>-2451.998</td> <td>-1190.229</td>\n",
       "</tr>\n",
       "</table>\n",
       "<table class=\"simpletable\">\n",
       "<tr>\n",
       "  <th>Omnibus:</th>       <td>294.077</td> <th>  Durbin-Watson:     </th> <td>   2.092</td> \n",
       "</tr>\n",
       "<tr>\n",
       "  <th>Prob(Omnibus):</th> <td> 0.000</td>  <th>  Jarque-Bera (JB):  </th> <td> 706.585</td> \n",
       "</tr>\n",
       "<tr>\n",
       "  <th>Skew:</th>          <td> 1.185</td>  <th>  Prob(JB):          </th> <td>3.69e-154</td>\n",
       "</tr>\n",
       "<tr>\n",
       "  <th>Kurtosis:</th>      <td> 5.657</td>  <th>  Cond. No.          </th> <td>5.96e+18</td> \n",
       "</tr>\n",
       "</table><br/><br/>Notes:<br/>[1] Standard Errors assume that the covariance matrix of the errors is correctly specified.<br/>[2] The smallest eigenvalue is 4.16e-29. This might indicate that there are<br/>strong multicollinearity problems or that the design matrix is singular."
      ],
      "text/plain": [
       "<class 'statsmodels.iolib.summary.Summary'>\n",
       "\"\"\"\n",
       "                            OLS Regression Results                            \n",
       "==============================================================================\n",
       "Dep. Variable:                charges   R-squared:                       0.749\n",
       "Model:                            OLS   Adj. R-squared:                  0.748\n",
       "Method:                 Least Squares   F-statistic:                     496.0\n",
       "Date:                Fri, 03 Jun 2022   Prob (F-statistic):               0.00\n",
       "Time:                        13:03:31   Log-Likelihood:                -13553.\n",
       "No. Observations:                1338   AIC:                         2.712e+04\n",
       "Df Residuals:                    1329   BIC:                         2.717e+04\n",
       "Df Model:                           8                                         \n",
       "Covariance Type:            nonrobust                                         \n",
       "==============================================================================\n",
       "                 coef    std err          t      P>|t|      [0.025      0.975]\n",
       "------------------------------------------------------------------------------\n",
       "const      -5883.5713    538.559    -10.925      0.000   -6940.089   -4827.053\n",
       "age          258.6085     11.930     21.676      0.000     235.204     282.013\n",
       "bmi            5.1537      0.452     11.405      0.000       4.267       6.040\n",
       "children     475.2722    138.305      3.436      0.001     203.953     746.592\n",
       "female       122.1799    334.141      0.366      0.715    -533.322     777.682\n",
       "smoker_yes  2.383e+04    414.638     57.483      0.000     2.3e+04    2.46e+04\n",
       "northeast   -919.4003    313.989     -2.928      0.003   -1535.368    -303.433\n",
       "northwest  -1225.9668    313.839     -3.906      0.000   -1841.641    -610.293\n",
       "southeast  -1917.0905    340.227     -5.635      0.000   -2584.532   -1249.649\n",
       "southwest  -1821.1137    321.593     -5.663      0.000   -2451.998   -1190.229\n",
       "==============================================================================\n",
       "Omnibus:                      294.077   Durbin-Watson:                   2.092\n",
       "Prob(Omnibus):                  0.000   Jarque-Bera (JB):              706.585\n",
       "Skew:                           1.185   Prob(JB):                    3.69e-154\n",
       "Kurtosis:                       5.657   Cond. No.                     5.96e+18\n",
       "==============================================================================\n",
       "\n",
       "Notes:\n",
       "[1] Standard Errors assume that the covariance matrix of the errors is correctly specified.\n",
       "[2] The smallest eigenvalue is 4.16e-29. This might indicate that there are\n",
       "strong multicollinearity problems or that the design matrix is singular.\n",
       "\"\"\""
      ]
     },
     "execution_count": 43,
     "metadata": {},
     "output_type": "execute_result"
    }
   ],
   "source": [
    "# y_train=data.pop('charges')\n",
    "X_train = data.copy()\n",
    "for i in range(0 , len(X_train['bmi'])):\n",
    "    X_train['bmi'][i] = X_train['bmi'][i] * X_train['bmi'][i]\n",
    "\n",
    "# X_train['bmi'] = list(map(lambda x: x, X_train['bmi']))\n",
    "\n",
    "import statsmodels.api as sm\n",
    "X_train_sm = sm.add_constant(X_train)\n",
    "\n",
    "bmi_sq= sm.OLS(y_train, X_train_sm).fit()\n",
    "\n",
    "bmi_sq.summary()"
   ]
  },
  {
   "cell_type": "code",
   "execution_count": 44,
   "metadata": {},
   "outputs": [
    {
     "data": {
      "text/html": [
       "<table class=\"simpletable\">\n",
       "<caption>OLS Regression Results</caption>\n",
       "<tr>\n",
       "  <th>Dep. Variable:</th>         <td>charges</td>     <th>  R-squared:         </th> <td>   0.746</td> \n",
       "</tr>\n",
       "<tr>\n",
       "  <th>Model:</th>                   <td>OLS</td>       <th>  Adj. R-squared:    </th> <td>   0.745</td> \n",
       "</tr>\n",
       "<tr>\n",
       "  <th>Method:</th>             <td>Least Squares</td>  <th>  F-statistic:       </th> <td>   488.8</td> \n",
       "</tr>\n",
       "<tr>\n",
       "  <th>Date:</th>             <td>Fri, 03 Jun 2022</td> <th>  Prob (F-statistic):</th>  <td>  0.00</td>  \n",
       "</tr>\n",
       "<tr>\n",
       "  <th>Time:</th>                 <td>13:03:32</td>     <th>  Log-Likelihood:    </th> <td> -13560.</td> \n",
       "</tr>\n",
       "<tr>\n",
       "  <th>No. Observations:</th>      <td>  1338</td>      <th>  AIC:               </th> <td>2.714e+04</td>\n",
       "</tr>\n",
       "<tr>\n",
       "  <th>Df Residuals:</th>          <td>  1329</td>      <th>  BIC:               </th> <td>2.718e+04</td>\n",
       "</tr>\n",
       "<tr>\n",
       "  <th>Df Model:</th>              <td>     8</td>      <th>                     </th>     <td> </td>    \n",
       "</tr>\n",
       "<tr>\n",
       "  <th>Covariance Type:</th>      <td>nonrobust</td>    <th>                     </th>     <td> </td>    \n",
       "</tr>\n",
       "</table>\n",
       "<table class=\"simpletable\">\n",
       "<tr>\n",
       "       <td></td>         <th>coef</th>     <th>std err</th>      <th>t</th>      <th>P>|t|</th>  <th>[0.025</th>    <th>0.975]</th>  \n",
       "</tr>\n",
       "<tr>\n",
       "  <th>const</th>      <td>-4413.6325</td> <td>  481.816</td> <td>   -9.160</td> <td> 0.000</td> <td>-5358.835</td> <td>-3468.430</td>\n",
       "</tr>\n",
       "<tr>\n",
       "  <th>age</th>        <td>  260.8030</td> <td>   11.983</td> <td>   21.764</td> <td> 0.000</td> <td>  237.295</td> <td>  284.311</td>\n",
       "</tr>\n",
       "<tr>\n",
       "  <th>bmi</th>        <td>    0.0966</td> <td>    0.009</td> <td>   10.683</td> <td> 0.000</td> <td>    0.079</td> <td>    0.114</td>\n",
       "</tr>\n",
       "<tr>\n",
       "  <th>children</th>   <td>  475.6285</td> <td>  139.068</td> <td>    3.420</td> <td> 0.001</td> <td>  202.812</td> <td>  748.445</td>\n",
       "</tr>\n",
       "<tr>\n",
       "  <th>female</th>     <td>  108.3835</td> <td>  335.968</td> <td>    0.323</td> <td> 0.747</td> <td> -550.701</td> <td>  767.468</td>\n",
       "</tr>\n",
       "<tr>\n",
       "  <th>smoker_yes</th> <td> 2.382e+04</td> <td>  416.911</td> <td>   57.136</td> <td> 0.000</td> <td>  2.3e+04</td> <td> 2.46e+04</td>\n",
       "</tr>\n",
       "<tr>\n",
       "  <th>northeast</th>  <td> -599.2807</td> <td>  313.375</td> <td>   -1.912</td> <td> 0.056</td> <td>-1214.044</td> <td>   15.483</td>\n",
       "</tr>\n",
       "<tr>\n",
       "  <th>northwest</th>  <td> -871.5931</td> <td>  313.438</td> <td>   -2.781</td> <td> 0.005</td> <td>-1486.481</td> <td> -256.706</td>\n",
       "</tr>\n",
       "<tr>\n",
       "  <th>southeast</th>  <td>-1508.7125</td> <td>  329.623</td> <td>   -4.577</td> <td> 0.000</td> <td>-2155.351</td> <td> -862.075</td>\n",
       "</tr>\n",
       "<tr>\n",
       "  <th>southwest</th>  <td>-1434.0462</td> <td>  317.310</td> <td>   -4.519</td> <td> 0.000</td> <td>-2056.529</td> <td> -811.564</td>\n",
       "</tr>\n",
       "</table>\n",
       "<table class=\"simpletable\">\n",
       "<tr>\n",
       "  <th>Omnibus:</th>       <td>286.501</td> <th>  Durbin-Watson:     </th> <td>   2.094</td> \n",
       "</tr>\n",
       "<tr>\n",
       "  <th>Prob(Omnibus):</th> <td> 0.000</td>  <th>  Jarque-Bera (JB):  </th> <td> 689.952</td> \n",
       "</tr>\n",
       "<tr>\n",
       "  <th>Skew:</th>          <td> 1.154</td>  <th>  Prob(JB):          </th> <td>1.51e-150</td>\n",
       "</tr>\n",
       "<tr>\n",
       "  <th>Kurtosis:</th>      <td> 5.654</td>  <th>  Cond. No.          </th> <td>1.75e+20</td> \n",
       "</tr>\n",
       "</table><br/><br/>Notes:<br/>[1] Standard Errors assume that the covariance matrix of the errors is correctly specified.<br/>[2] The smallest eigenvalue is 6.2e-29. This might indicate that there are<br/>strong multicollinearity problems or that the design matrix is singular."
      ],
      "text/plain": [
       "<class 'statsmodels.iolib.summary.Summary'>\n",
       "\"\"\"\n",
       "                            OLS Regression Results                            \n",
       "==============================================================================\n",
       "Dep. Variable:                charges   R-squared:                       0.746\n",
       "Model:                            OLS   Adj. R-squared:                  0.745\n",
       "Method:                 Least Squares   F-statistic:                     488.8\n",
       "Date:                Fri, 03 Jun 2022   Prob (F-statistic):               0.00\n",
       "Time:                        13:03:32   Log-Likelihood:                -13560.\n",
       "No. Observations:                1338   AIC:                         2.714e+04\n",
       "Df Residuals:                    1329   BIC:                         2.718e+04\n",
       "Df Model:                           8                                         \n",
       "Covariance Type:            nonrobust                                         \n",
       "==============================================================================\n",
       "                 coef    std err          t      P>|t|      [0.025      0.975]\n",
       "------------------------------------------------------------------------------\n",
       "const      -4413.6325    481.816     -9.160      0.000   -5358.835   -3468.430\n",
       "age          260.8030     11.983     21.764      0.000     237.295     284.311\n",
       "bmi            0.0966      0.009     10.683      0.000       0.079       0.114\n",
       "children     475.6285    139.068      3.420      0.001     202.812     748.445\n",
       "female       108.3835    335.968      0.323      0.747    -550.701     767.468\n",
       "smoker_yes  2.382e+04    416.911     57.136      0.000     2.3e+04    2.46e+04\n",
       "northeast   -599.2807    313.375     -1.912      0.056   -1214.044      15.483\n",
       "northwest   -871.5931    313.438     -2.781      0.005   -1486.481    -256.706\n",
       "southeast  -1508.7125    329.623     -4.577      0.000   -2155.351    -862.075\n",
       "southwest  -1434.0462    317.310     -4.519      0.000   -2056.529    -811.564\n",
       "==============================================================================\n",
       "Omnibus:                      286.501   Durbin-Watson:                   2.094\n",
       "Prob(Omnibus):                  0.000   Jarque-Bera (JB):              689.952\n",
       "Skew:                           1.154   Prob(JB):                    1.51e-150\n",
       "Kurtosis:                       5.654   Cond. No.                     1.75e+20\n",
       "==============================================================================\n",
       "\n",
       "Notes:\n",
       "[1] Standard Errors assume that the covariance matrix of the errors is correctly specified.\n",
       "[2] The smallest eigenvalue is 6.2e-29. This might indicate that there are\n",
       "strong multicollinearity problems or that the design matrix is singular.\n",
       "\"\"\""
      ]
     },
     "execution_count": 44,
     "metadata": {},
     "output_type": "execute_result"
    }
   ],
   "source": [
    "# y_train=data.pop('charges')\n",
    "X_train = data.copy()\n",
    "for i in range(0 , len(X_train['bmi'])):\n",
    "    X_train['bmi'][i] = X_train['bmi'][i] * X_train['bmi'][i] * X_train['bmi'][i]\n",
    "\n",
    "# X_train['bmi'] = list(map(lambda x: x, X_train['bmi']))\n",
    "\n",
    "import statsmodels.api as sm\n",
    "X_train_sm = sm.add_constant(X_train)\n",
    "\n",
    "bmi_sq= sm.OLS(y_train, X_train_sm).fit()\n",
    "\n",
    "bmi_sq.summary()"
   ]
  },
  {
   "cell_type": "code",
   "execution_count": 45,
   "metadata": {},
   "outputs": [
    {
     "data": {
      "text/html": [
       "<table class=\"simpletable\">\n",
       "<caption>OLS Regression Results</caption>\n",
       "<tr>\n",
       "  <th>Dep. Variable:</th>         <td>charges</td>     <th>  R-squared:         </th> <td>   0.753</td> \n",
       "</tr>\n",
       "<tr>\n",
       "  <th>Model:</th>                   <td>OLS</td>       <th>  Adj. R-squared:    </th> <td>   0.751</td> \n",
       "</tr>\n",
       "<tr>\n",
       "  <th>Method:</th>             <td>Least Squares</td>  <th>  F-statistic:       </th> <td>   505.9</td> \n",
       "</tr>\n",
       "<tr>\n",
       "  <th>Date:</th>             <td>Fri, 03 Jun 2022</td> <th>  Prob (F-statistic):</th>  <td>  0.00</td>  \n",
       "</tr>\n",
       "<tr>\n",
       "  <th>Time:</th>                 <td>13:03:32</td>     <th>  Log-Likelihood:    </th> <td> -13543.</td> \n",
       "</tr>\n",
       "<tr>\n",
       "  <th>No. Observations:</th>      <td>  1338</td>      <th>  AIC:               </th> <td>2.710e+04</td>\n",
       "</tr>\n",
       "<tr>\n",
       "  <th>Df Residuals:</th>          <td>  1329</td>      <th>  BIC:               </th> <td>2.715e+04</td>\n",
       "</tr>\n",
       "<tr>\n",
       "  <th>Df Model:</th>              <td>     8</td>      <th>                     </th>     <td> </td>    \n",
       "</tr>\n",
       "<tr>\n",
       "  <th>Covariance Type:</th>      <td>nonrobust</td>    <th>                     </th>     <td> </td>    \n",
       "</tr>\n",
       "</table>\n",
       "<table class=\"simpletable\">\n",
       "<tr>\n",
       "       <td></td>         <th>coef</th>     <th>std err</th>      <th>t</th>      <th>P>|t|</th>  <th>[0.025</th>    <th>0.975]</th>  \n",
       "</tr>\n",
       "<tr>\n",
       "  <th>const</th>      <td>-5503.6284</td> <td>  739.074</td> <td>   -7.447</td> <td> 0.000</td> <td>-6953.507</td> <td>-4053.749</td>\n",
       "</tr>\n",
       "<tr>\n",
       "  <th>age</th>        <td>    0.0494</td> <td>    0.002</td> <td>   21.899</td> <td> 0.000</td> <td>    0.045</td> <td>    0.054</td>\n",
       "</tr>\n",
       "<tr>\n",
       "  <th>bmi</th>        <td>  335.2383</td> <td>   28.509</td> <td>   11.759</td> <td> 0.000</td> <td>  279.311</td> <td>  391.166</td>\n",
       "</tr>\n",
       "<tr>\n",
       "  <th>children</th>   <td>  728.8385</td> <td>  137.301</td> <td>    5.308</td> <td> 0.000</td> <td>  459.489</td> <td>  998.188</td>\n",
       "</tr>\n",
       "<tr>\n",
       "  <th>female</th>     <td>  146.6043</td> <td>  331.672</td> <td>    0.442</td> <td> 0.659</td> <td> -504.054</td> <td>  797.262</td>\n",
       "</tr>\n",
       "<tr>\n",
       "  <th>smoker_yes</th> <td> 2.385e+04</td> <td>  411.599</td> <td>   57.952</td> <td> 0.000</td> <td>  2.3e+04</td> <td> 2.47e+04</td>\n",
       "</tr>\n",
       "<tr>\n",
       "  <th>northeast</th>  <td> -778.6449</td> <td>  325.191</td> <td>   -2.394</td> <td> 0.017</td> <td>-1416.590</td> <td> -140.700</td>\n",
       "</tr>\n",
       "<tr>\n",
       "  <th>northwest</th>  <td>-1161.5119</td> <td>  326.079</td> <td>   -3.562</td> <td> 0.000</td> <td>-1801.198</td> <td> -521.826</td>\n",
       "</tr>\n",
       "<tr>\n",
       "  <th>southeast</th>  <td>-1820.4286</td> <td>  380.077</td> <td>   -4.790</td> <td> 0.000</td> <td>-2566.045</td> <td>-1074.812</td>\n",
       "</tr>\n",
       "<tr>\n",
       "  <th>southwest</th>  <td>-1743.0429</td> <td>  343.828</td> <td>   -5.070</td> <td> 0.000</td> <td>-2417.547</td> <td>-1068.538</td>\n",
       "</tr>\n",
       "</table>\n",
       "<table class=\"simpletable\">\n",
       "<tr>\n",
       "  <th>Omnibus:</th>       <td>306.978</td> <th>  Durbin-Watson:     </th> <td>   2.099</td> \n",
       "</tr>\n",
       "<tr>\n",
       "  <th>Prob(Omnibus):</th> <td> 0.000</td>  <th>  Jarque-Bera (JB):  </th> <td> 758.555</td> \n",
       "</tr>\n",
       "<tr>\n",
       "  <th>Skew:</th>          <td> 1.223</td>  <th>  Prob(JB):          </th> <td>1.91e-165</td>\n",
       "</tr>\n",
       "<tr>\n",
       "  <th>Kurtosis:</th>      <td> 5.760</td>  <th>  Cond. No.          </th> <td>5.67e+20</td> \n",
       "</tr>\n",
       "</table><br/><br/>Notes:<br/>[1] Standard Errors assume that the covariance matrix of the errors is correctly specified.<br/>[2] The smallest eigenvalue is 5.19e-29. This might indicate that there are<br/>strong multicollinearity problems or that the design matrix is singular."
      ],
      "text/plain": [
       "<class 'statsmodels.iolib.summary.Summary'>\n",
       "\"\"\"\n",
       "                            OLS Regression Results                            \n",
       "==============================================================================\n",
       "Dep. Variable:                charges   R-squared:                       0.753\n",
       "Model:                            OLS   Adj. R-squared:                  0.751\n",
       "Method:                 Least Squares   F-statistic:                     505.9\n",
       "Date:                Fri, 03 Jun 2022   Prob (F-statistic):               0.00\n",
       "Time:                        13:03:32   Log-Likelihood:                -13543.\n",
       "No. Observations:                1338   AIC:                         2.710e+04\n",
       "Df Residuals:                    1329   BIC:                         2.715e+04\n",
       "Df Model:                           8                                         \n",
       "Covariance Type:            nonrobust                                         \n",
       "==============================================================================\n",
       "                 coef    std err          t      P>|t|      [0.025      0.975]\n",
       "------------------------------------------------------------------------------\n",
       "const      -5503.6284    739.074     -7.447      0.000   -6953.507   -4053.749\n",
       "age            0.0494      0.002     21.899      0.000       0.045       0.054\n",
       "bmi          335.2383     28.509     11.759      0.000     279.311     391.166\n",
       "children     728.8385    137.301      5.308      0.000     459.489     998.188\n",
       "female       146.6043    331.672      0.442      0.659    -504.054     797.262\n",
       "smoker_yes  2.385e+04    411.599     57.952      0.000     2.3e+04    2.47e+04\n",
       "northeast   -778.6449    325.191     -2.394      0.017   -1416.590    -140.700\n",
       "northwest  -1161.5119    326.079     -3.562      0.000   -1801.198    -521.826\n",
       "southeast  -1820.4286    380.077     -4.790      0.000   -2566.045   -1074.812\n",
       "southwest  -1743.0429    343.828     -5.070      0.000   -2417.547   -1068.538\n",
       "==============================================================================\n",
       "Omnibus:                      306.978   Durbin-Watson:                   2.099\n",
       "Prob(Omnibus):                  0.000   Jarque-Bera (JB):              758.555\n",
       "Skew:                           1.223   Prob(JB):                    1.91e-165\n",
       "Kurtosis:                       5.760   Cond. No.                     5.67e+20\n",
       "==============================================================================\n",
       "\n",
       "Notes:\n",
       "[1] Standard Errors assume that the covariance matrix of the errors is correctly specified.\n",
       "[2] The smallest eigenvalue is 5.19e-29. This might indicate that there are\n",
       "strong multicollinearity problems or that the design matrix is singular.\n",
       "\"\"\""
      ]
     },
     "execution_count": 45,
     "metadata": {},
     "output_type": "execute_result"
    }
   ],
   "source": [
    "# y_train=data.pop('charges')\n",
    "X_train = data.copy()\n",
    "for i in range(0 , len(X_train['age'])):\n",
    "    X_train['age'][i] = X_train['age'][i] * X_train['age'][i] * X_train['age'][i]\n",
    "\n",
    "# X_train['bmi'] = list(map(lambda x: x, X_train['bmi']))\n",
    "\n",
    "import statsmodels.api as sm\n",
    "X_train_sm = sm.add_constant(X_train)\n",
    "\n",
    "bmi_sq= sm.OLS(y_train, X_train_sm).fit()\n",
    "\n",
    "bmi_sq.summary()"
   ]
  },
  {
   "cell_type": "code",
   "execution_count": 46,
   "metadata": {},
   "outputs": [
    {
     "data": {
      "text/html": [
       "<table class=\"simpletable\">\n",
       "<caption>OLS Regression Results</caption>\n",
       "<tr>\n",
       "  <th>Dep. Variable:</th>         <td>charges</td>     <th>  R-squared:         </th> <td>   0.733</td> \n",
       "</tr>\n",
       "<tr>\n",
       "  <th>Model:</th>                   <td>OLS</td>       <th>  Adj. R-squared:    </th> <td>   0.731</td> \n",
       "</tr>\n",
       "<tr>\n",
       "  <th>Method:</th>             <td>Least Squares</td>  <th>  F-statistic:       </th> <td>   455.8</td> \n",
       "</tr>\n",
       "<tr>\n",
       "  <th>Date:</th>             <td>Fri, 03 Jun 2022</td> <th>  Prob (F-statistic):</th>  <td>  0.00</td>  \n",
       "</tr>\n",
       "<tr>\n",
       "  <th>Time:</th>                 <td>13:03:32</td>     <th>  Log-Likelihood:    </th> <td> -13594.</td> \n",
       "</tr>\n",
       "<tr>\n",
       "  <th>No. Observations:</th>      <td>  1338</td>      <th>  AIC:               </th> <td>2.721e+04</td>\n",
       "</tr>\n",
       "<tr>\n",
       "  <th>Df Residuals:</th>          <td>  1329</td>      <th>  BIC:               </th> <td>2.725e+04</td>\n",
       "</tr>\n",
       "<tr>\n",
       "  <th>Df Model:</th>              <td>     8</td>      <th>                     </th>     <td> </td>    \n",
       "</tr>\n",
       "<tr>\n",
       "  <th>Covariance Type:</th>      <td>nonrobust</td>    <th>                     </th>     <td> </td>    \n",
       "</tr>\n",
       "</table>\n",
       "<table class=\"simpletable\">\n",
       "<tr>\n",
       "       <td></td>         <th>coef</th>     <th>std err</th>      <th>t</th>      <th>P>|t|</th>  <th>[0.025</th>    <th>0.975]</th>  \n",
       "</tr>\n",
       "<tr>\n",
       "  <th>const</th>      <td>-1.657e+04</td> <td> 1022.033</td> <td>  -16.210</td> <td> 0.000</td> <td>-1.86e+04</td> <td>-1.46e+04</td>\n",
       "</tr>\n",
       "<tr>\n",
       "  <th>age</th>        <td> 4645.6706</td> <td>  250.168</td> <td>   18.570</td> <td> 0.000</td> <td> 4154.904</td> <td> 5136.437</td>\n",
       "</tr>\n",
       "<tr>\n",
       "  <th>bmi</th>        <td>  349.1908</td> <td>   29.603</td> <td>   11.796</td> <td> 0.000</td> <td>  291.117</td> <td>  407.265</td>\n",
       "</tr>\n",
       "<tr>\n",
       "  <th>children</th>   <td>  582.3995</td> <td>  142.585</td> <td>    4.085</td> <td> 0.000</td> <td>  302.682</td> <td>  862.117</td>\n",
       "</tr>\n",
       "<tr>\n",
       "  <th>female</th>     <td>  160.4322</td> <td>  344.770</td> <td>    0.465</td> <td> 0.642</td> <td> -515.920</td> <td>  836.784</td>\n",
       "</tr>\n",
       "<tr>\n",
       "  <th>smoker_yes</th> <td> 2.379e+04</td> <td>  427.807</td> <td>   55.620</td> <td> 0.000</td> <td>  2.3e+04</td> <td> 2.46e+04</td>\n",
       "</tr>\n",
       "<tr>\n",
       "  <th>northeast</th>  <td>-3530.9103</td> <td>  379.803</td> <td>   -9.297</td> <td> 0.000</td> <td>-4275.989</td> <td>-2785.832</td>\n",
       "</tr>\n",
       "<tr>\n",
       "  <th>northwest</th>  <td>-3903.5203</td> <td>  380.164</td> <td>  -10.268</td> <td> 0.000</td> <td>-4649.308</td> <td>-3157.733</td>\n",
       "</tr>\n",
       "<tr>\n",
       "  <th>southeast</th>  <td>-4632.7308</td> <td>  425.510</td> <td>  -10.887</td> <td> 0.000</td> <td>-5467.475</td> <td>-3797.987</td>\n",
       "</tr>\n",
       "<tr>\n",
       "  <th>southwest</th>  <td>-4500.2306</td> <td>  395.848</td> <td>  -11.369</td> <td> 0.000</td> <td>-5276.785</td> <td>-3723.676</td>\n",
       "</tr>\n",
       "</table>\n",
       "<table class=\"simpletable\">\n",
       "<tr>\n",
       "  <th>Omnibus:</th>       <td>285.712</td> <th>  Durbin-Watson:     </th> <td>   2.070</td> \n",
       "</tr>\n",
       "<tr>\n",
       "  <th>Prob(Omnibus):</th> <td> 0.000</td>  <th>  Jarque-Bera (JB):  </th> <td> 665.974</td> \n",
       "</tr>\n",
       "<tr>\n",
       "  <th>Skew:</th>          <td> 1.165</td>  <th>  Prob(JB):          </th> <td>2.43e-145</td>\n",
       "</tr>\n",
       "<tr>\n",
       "  <th>Kurtosis:</th>      <td> 5.553</td>  <th>  Cond. No.          </th> <td>1.18e+17</td> \n",
       "</tr>\n",
       "</table><br/><br/>Notes:<br/>[1] Standard Errors assume that the covariance matrix of the errors is correctly specified.<br/>[2] The smallest eigenvalue is 9.59e-29. This might indicate that there are<br/>strong multicollinearity problems or that the design matrix is singular."
      ],
      "text/plain": [
       "<class 'statsmodels.iolib.summary.Summary'>\n",
       "\"\"\"\n",
       "                            OLS Regression Results                            \n",
       "==============================================================================\n",
       "Dep. Variable:                charges   R-squared:                       0.733\n",
       "Model:                            OLS   Adj. R-squared:                  0.731\n",
       "Method:                 Least Squares   F-statistic:                     455.8\n",
       "Date:                Fri, 03 Jun 2022   Prob (F-statistic):               0.00\n",
       "Time:                        13:03:32   Log-Likelihood:                -13594.\n",
       "No. Observations:                1338   AIC:                         2.721e+04\n",
       "Df Residuals:                    1329   BIC:                         2.725e+04\n",
       "Df Model:                           8                                         \n",
       "Covariance Type:            nonrobust                                         \n",
       "==============================================================================\n",
       "                 coef    std err          t      P>|t|      [0.025      0.975]\n",
       "------------------------------------------------------------------------------\n",
       "const      -1.657e+04   1022.033    -16.210      0.000   -1.86e+04   -1.46e+04\n",
       "age         4645.6706    250.168     18.570      0.000    4154.904    5136.437\n",
       "bmi          349.1908     29.603     11.796      0.000     291.117     407.265\n",
       "children     582.3995    142.585      4.085      0.000     302.682     862.117\n",
       "female       160.4322    344.770      0.465      0.642    -515.920     836.784\n",
       "smoker_yes  2.379e+04    427.807     55.620      0.000     2.3e+04    2.46e+04\n",
       "northeast  -3530.9103    379.803     -9.297      0.000   -4275.989   -2785.832\n",
       "northwest  -3903.5203    380.164    -10.268      0.000   -4649.308   -3157.733\n",
       "southeast  -4632.7308    425.510    -10.887      0.000   -5467.475   -3797.987\n",
       "southwest  -4500.2306    395.848    -11.369      0.000   -5276.785   -3723.676\n",
       "==============================================================================\n",
       "Omnibus:                      285.712   Durbin-Watson:                   2.070\n",
       "Prob(Omnibus):                  0.000   Jarque-Bera (JB):              665.974\n",
       "Skew:                           1.165   Prob(JB):                    2.43e-145\n",
       "Kurtosis:                       5.553   Cond. No.                     1.18e+17\n",
       "==============================================================================\n",
       "\n",
       "Notes:\n",
       "[1] Standard Errors assume that the covariance matrix of the errors is correctly specified.\n",
       "[2] The smallest eigenvalue is 9.59e-29. This might indicate that there are\n",
       "strong multicollinearity problems or that the design matrix is singular.\n",
       "\"\"\""
      ]
     },
     "execution_count": 46,
     "metadata": {},
     "output_type": "execute_result"
    }
   ],
   "source": [
    "# y_train=data.pop('charges')\n",
    "X_train = data.copy()\n",
    "for i in range(0 , len(X_train['age'])):\n",
    "    X_train['age'][i] = pow(X_train['age'][i], 0.4)\n",
    "\n",
    "# X_train['bmi'] = list(map(lambda x: x, X_train['bmi']))\n",
    "\n",
    "import statsmodels.api as sm\n",
    "X_train_sm = sm.add_constant(X_train)\n",
    "\n",
    "bmi_sq= sm.OLS(y_train, X_train_sm).fit()\n",
    "\n",
    "bmi_sq.summary()"
   ]
  },
  {
   "cell_type": "code",
   "execution_count": 47,
   "metadata": {},
   "outputs": [
    {
     "data": {
      "text/html": [
       "<table class=\"simpletable\">\n",
       "<caption>OLS Regression Results</caption>\n",
       "<tr>\n",
       "  <th>Dep. Variable:</th>         <td>charges</td>     <th>  R-squared:         </th> <td>   0.749</td> \n",
       "</tr>\n",
       "<tr>\n",
       "  <th>Model:</th>                   <td>OLS</td>       <th>  Adj. R-squared:    </th> <td>   0.748</td> \n",
       "</tr>\n",
       "<tr>\n",
       "  <th>Method:</th>             <td>Least Squares</td>  <th>  F-statistic:       </th> <td>   496.8</td> \n",
       "</tr>\n",
       "<tr>\n",
       "  <th>Date:</th>             <td>Fri, 03 Jun 2022</td> <th>  Prob (F-statistic):</th>  <td>  0.00</td>  \n",
       "</tr>\n",
       "<tr>\n",
       "  <th>Time:</th>                 <td>13:03:33</td>     <th>  Log-Likelihood:    </th> <td> -13552.</td> \n",
       "</tr>\n",
       "<tr>\n",
       "  <th>No. Observations:</th>      <td>  1338</td>      <th>  AIC:               </th> <td>2.712e+04</td>\n",
       "</tr>\n",
       "<tr>\n",
       "  <th>Df Residuals:</th>          <td>  1329</td>      <th>  BIC:               </th> <td>2.717e+04</td>\n",
       "</tr>\n",
       "<tr>\n",
       "  <th>Df Model:</th>              <td>     8</td>      <th>                     </th>     <td> </td>    \n",
       "</tr>\n",
       "<tr>\n",
       "  <th>Covariance Type:</th>      <td>nonrobust</td>    <th>                     </th>     <td> </td>    \n",
       "</tr>\n",
       "</table>\n",
       "<table class=\"simpletable\">\n",
       "<tr>\n",
       "       <td></td>         <th>coef</th>     <th>std err</th>      <th>t</th>      <th>P>|t|</th>  <th>[0.025</th>    <th>0.975]</th>  \n",
       "</tr>\n",
       "<tr>\n",
       "  <th>const</th>      <td>-1.162e+04</td> <td>  822.762</td> <td>  -14.121</td> <td> 0.000</td> <td>-1.32e+04</td> <td>   -1e+04</td>\n",
       "</tr>\n",
       "<tr>\n",
       "  <th>age</th>        <td>  657.8267</td> <td>   30.829</td> <td>   21.338</td> <td> 0.000</td> <td>  597.348</td> <td>  718.305</td>\n",
       "</tr>\n",
       "<tr>\n",
       "  <th>bmi</th>        <td>  340.4290</td> <td>   28.682</td> <td>   11.869</td> <td> 0.000</td> <td>  284.163</td> <td>  396.695</td>\n",
       "</tr>\n",
       "<tr>\n",
       "  <th>children</th>   <td>  443.4386</td> <td>  138.288</td> <td>    3.207</td> <td> 0.001</td> <td>  172.152</td> <td>  714.725</td>\n",
       "</tr>\n",
       "<tr>\n",
       "  <th>female</th>     <td>  132.7205</td> <td>  333.940</td> <td>    0.397</td> <td> 0.691</td> <td> -522.387</td> <td>  787.828</td>\n",
       "</tr>\n",
       "<tr>\n",
       "  <th>smoker_yes</th> <td> 2.387e+04</td> <td>  414.414</td> <td>   57.603</td> <td> 0.000</td> <td> 2.31e+04</td> <td> 2.47e+04</td>\n",
       "</tr>\n",
       "<tr>\n",
       "  <th>northeast</th>  <td>-2332.2410</td> <td>  340.401</td> <td>   -6.851</td> <td> 0.000</td> <td>-3000.023</td> <td>-1664.459</td>\n",
       "</tr>\n",
       "<tr>\n",
       "  <th>northwest</th>  <td>-2650.7961</td> <td>  340.333</td> <td>   -7.789</td> <td> 0.000</td> <td>-3318.445</td> <td>-1983.147</td>\n",
       "</tr>\n",
       "<tr>\n",
       "  <th>southeast</th>  <td>-3372.5650</td> <td>  390.595</td> <td>   -8.634</td> <td> 0.000</td> <td>-4138.815</td> <td>-2606.315</td>\n",
       "</tr>\n",
       "<tr>\n",
       "  <th>southwest</th>  <td>-3262.2291</td> <td>  357.419</td> <td>   -9.127</td> <td> 0.000</td> <td>-3963.396</td> <td>-2561.062</td>\n",
       "</tr>\n",
       "</table>\n",
       "<table class=\"simpletable\">\n",
       "<tr>\n",
       "  <th>Omnibus:</th>       <td>296.714</td> <th>  Durbin-Watson:     </th> <td>   2.088</td> \n",
       "</tr>\n",
       "<tr>\n",
       "  <th>Prob(Omnibus):</th> <td> 0.000</td>  <th>  Jarque-Bera (JB):  </th> <td> 702.164</td> \n",
       "</tr>\n",
       "<tr>\n",
       "  <th>Skew:</th>          <td> 1.202</td>  <th>  Prob(JB):          </th> <td>3.37e-153</td>\n",
       "</tr>\n",
       "<tr>\n",
       "  <th>Kurtosis:</th>      <td> 5.611</td>  <th>  Cond. No.          </th> <td>1.82e+17</td> \n",
       "</tr>\n",
       "</table><br/><br/>Notes:<br/>[1] Standard Errors assume that the covariance matrix of the errors is correctly specified.<br/>[2] The smallest eigenvalue is 5.31e-29. This might indicate that there are<br/>strong multicollinearity problems or that the design matrix is singular."
      ],
      "text/plain": [
       "<class 'statsmodels.iolib.summary.Summary'>\n",
       "\"\"\"\n",
       "                            OLS Regression Results                            \n",
       "==============================================================================\n",
       "Dep. Variable:                charges   R-squared:                       0.749\n",
       "Model:                            OLS   Adj. R-squared:                  0.748\n",
       "Method:                 Least Squares   F-statistic:                     496.8\n",
       "Date:                Fri, 03 Jun 2022   Prob (F-statistic):               0.00\n",
       "Time:                        13:03:33   Log-Likelihood:                -13552.\n",
       "No. Observations:                1338   AIC:                         2.712e+04\n",
       "Df Residuals:                    1329   BIC:                         2.717e+04\n",
       "Df Model:                           8                                         \n",
       "Covariance Type:            nonrobust                                         \n",
       "==============================================================================\n",
       "                 coef    std err          t      P>|t|      [0.025      0.975]\n",
       "------------------------------------------------------------------------------\n",
       "const      -1.162e+04    822.762    -14.121      0.000   -1.32e+04      -1e+04\n",
       "age          657.8267     30.829     21.338      0.000     597.348     718.305\n",
       "bmi          340.4290     28.682     11.869      0.000     284.163     396.695\n",
       "children     443.4386    138.288      3.207      0.001     172.152     714.725\n",
       "female       132.7205    333.940      0.397      0.691    -522.387     787.828\n",
       "smoker_yes  2.387e+04    414.414     57.603      0.000    2.31e+04    2.47e+04\n",
       "northeast  -2332.2410    340.401     -6.851      0.000   -3000.023   -1664.459\n",
       "northwest  -2650.7961    340.333     -7.789      0.000   -3318.445   -1983.147\n",
       "southeast  -3372.5650    390.595     -8.634      0.000   -4138.815   -2606.315\n",
       "southwest  -3262.2291    357.419     -9.127      0.000   -3963.396   -2561.062\n",
       "==============================================================================\n",
       "Omnibus:                      296.714   Durbin-Watson:                   2.088\n",
       "Prob(Omnibus):                  0.000   Jarque-Bera (JB):              702.164\n",
       "Skew:                           1.202   Prob(JB):                    3.37e-153\n",
       "Kurtosis:                       5.611   Cond. No.                     1.82e+17\n",
       "==============================================================================\n",
       "\n",
       "Notes:\n",
       "[1] Standard Errors assume that the covariance matrix of the errors is correctly specified.\n",
       "[2] The smallest eigenvalue is 5.31e-29. This might indicate that there are\n",
       "strong multicollinearity problems or that the design matrix is singular.\n",
       "\"\"\""
      ]
     },
     "execution_count": 47,
     "metadata": {},
     "output_type": "execute_result"
    }
   ],
   "source": [
    "# y_train=data.pop('charges')\n",
    "X_train = data.copy()\n",
    "for i in range(0 , len(X_train['age'])):\n",
    "    X_train['age'][i] = pow(X_train['age'][i], 0.8)\n",
    "\n",
    "# X_train['bmi'] = list(map(lambda x: x, X_train['bmi']))\n",
    "\n",
    "import statsmodels.api as sm\n",
    "X_train_sm = sm.add_constant(X_train)\n",
    "\n",
    "bmi_sq= sm.OLS(y_train, X_train_sm).fit()\n",
    "\n",
    "bmi_sq.summary()"
   ]
  },
  {
   "cell_type": "code",
   "execution_count": 48,
   "metadata": {},
   "outputs": [
    {
     "data": {
      "text/html": [
       "<table class=\"simpletable\">\n",
       "<caption>OLS Regression Results</caption>\n",
       "<tr>\n",
       "  <th>Dep. Variable:</th>         <td>charges</td>     <th>  R-squared:         </th> <td>   0.752</td> \n",
       "</tr>\n",
       "<tr>\n",
       "  <th>Model:</th>                   <td>OLS</td>       <th>  Adj. R-squared:    </th> <td>   0.750</td> \n",
       "</tr>\n",
       "<tr>\n",
       "  <th>Method:</th>             <td>Least Squares</td>  <th>  F-statistic:       </th> <td>   503.4</td> \n",
       "</tr>\n",
       "<tr>\n",
       "  <th>Date:</th>             <td>Fri, 03 Jun 2022</td> <th>  Prob (F-statistic):</th>  <td>  0.00</td>  \n",
       "</tr>\n",
       "<tr>\n",
       "  <th>Time:</th>                 <td>13:03:33</td>     <th>  Log-Likelihood:    </th> <td> -13545.</td> \n",
       "</tr>\n",
       "<tr>\n",
       "  <th>No. Observations:</th>      <td>  1338</td>      <th>  AIC:               </th> <td>2.711e+04</td>\n",
       "</tr>\n",
       "<tr>\n",
       "  <th>Df Residuals:</th>          <td>  1329</td>      <th>  BIC:               </th> <td>2.716e+04</td>\n",
       "</tr>\n",
       "<tr>\n",
       "  <th>Df Model:</th>              <td>     8</td>      <th>                     </th>     <td> </td>    \n",
       "</tr>\n",
       "<tr>\n",
       "  <th>Covariance Type:</th>      <td>nonrobust</td>    <th>                     </th>     <td> </td>    \n",
       "</tr>\n",
       "</table>\n",
       "<table class=\"simpletable\">\n",
       "<tr>\n",
       "       <td></td>         <th>coef</th>     <th>std err</th>      <th>t</th>      <th>P>|t|</th>  <th>[0.025</th>    <th>0.975]</th>  \n",
       "</tr>\n",
       "<tr>\n",
       "  <th>const</th>      <td>-8916.3223</td> <td>  771.341</td> <td>  -11.560</td> <td> 0.000</td> <td>-1.04e+04</td> <td>-7403.143</td>\n",
       "</tr>\n",
       "<tr>\n",
       "  <th>age</th>        <td>  103.8060</td> <td>    4.774</td> <td>   21.746</td> <td> 0.000</td> <td>   94.441</td> <td>  113.171</td>\n",
       "</tr>\n",
       "<tr>\n",
       "  <th>bmi</th>        <td>  338.0808</td> <td>   28.549</td> <td>   11.842</td> <td> 0.000</td> <td>  282.075</td> <td>  394.086</td>\n",
       "</tr>\n",
       "<tr>\n",
       "  <th>children</th>   <td>  504.9358</td> <td>  137.491</td> <td>    3.673</td> <td> 0.000</td> <td>  235.213</td> <td>  774.658</td>\n",
       "</tr>\n",
       "<tr>\n",
       "  <th>female</th>     <td>  131.3019</td> <td>  332.307</td> <td>    0.395</td> <td> 0.693</td> <td> -520.602</td> <td>  783.206</td>\n",
       "</tr>\n",
       "<tr>\n",
       "  <th>smoker_yes</th> <td> 2.385e+04</td> <td>  412.362</td> <td>   57.833</td> <td> 0.000</td> <td>  2.3e+04</td> <td> 2.47e+04</td>\n",
       "</tr>\n",
       "<tr>\n",
       "  <th>northeast</th>  <td>-1642.8805</td> <td>  330.953</td> <td>   -4.964</td> <td> 0.000</td> <td>-2292.127</td> <td> -993.634</td>\n",
       "</tr>\n",
       "<tr>\n",
       "  <th>northwest</th>  <td>-1996.2360</td> <td>  331.525</td> <td>   -6.021</td> <td> 0.000</td> <td>-2646.605</td> <td>-1345.867</td>\n",
       "</tr>\n",
       "<tr>\n",
       "  <th>southeast</th>  <td>-2676.2085</td> <td>  383.401</td> <td>   -6.980</td> <td> 0.000</td> <td>-3428.345</td> <td>-1924.072</td>\n",
       "</tr>\n",
       "<tr>\n",
       "  <th>southwest</th>  <td>-2600.9974</td> <td>  348.944</td> <td>   -7.454</td> <td> 0.000</td> <td>-3285.539</td> <td>-1916.456</td>\n",
       "</tr>\n",
       "</table>\n",
       "<table class=\"simpletable\">\n",
       "<tr>\n",
       "  <th>Omnibus:</th>       <td>302.840</td> <th>  Durbin-Watson:     </th> <td>   2.090</td> \n",
       "</tr>\n",
       "<tr>\n",
       "  <th>Prob(Omnibus):</th> <td> 0.000</td>  <th>  Jarque-Bera (JB):  </th> <td> 730.609</td> \n",
       "</tr>\n",
       "<tr>\n",
       "  <th>Skew:</th>          <td> 1.217</td>  <th>  Prob(JB):          </th> <td>2.24e-159</td>\n",
       "</tr>\n",
       "<tr>\n",
       "  <th>Kurtosis:</th>      <td> 5.679</td>  <th>  Cond. No.          </th> <td>5.66e+17</td> \n",
       "</tr>\n",
       "</table><br/><br/>Notes:<br/>[1] Standard Errors assume that the covariance matrix of the errors is correctly specified.<br/>[2] The smallest eigenvalue is 3.69e-29. This might indicate that there are<br/>strong multicollinearity problems or that the design matrix is singular."
      ],
      "text/plain": [
       "<class 'statsmodels.iolib.summary.Summary'>\n",
       "\"\"\"\n",
       "                            OLS Regression Results                            \n",
       "==============================================================================\n",
       "Dep. Variable:                charges   R-squared:                       0.752\n",
       "Model:                            OLS   Adj. R-squared:                  0.750\n",
       "Method:                 Least Squares   F-statistic:                     503.4\n",
       "Date:                Fri, 03 Jun 2022   Prob (F-statistic):               0.00\n",
       "Time:                        13:03:33   Log-Likelihood:                -13545.\n",
       "No. Observations:                1338   AIC:                         2.711e+04\n",
       "Df Residuals:                    1329   BIC:                         2.716e+04\n",
       "Df Model:                           8                                         \n",
       "Covariance Type:            nonrobust                                         \n",
       "==============================================================================\n",
       "                 coef    std err          t      P>|t|      [0.025      0.975]\n",
       "------------------------------------------------------------------------------\n",
       "const      -8916.3223    771.341    -11.560      0.000   -1.04e+04   -7403.143\n",
       "age          103.8060      4.774     21.746      0.000      94.441     113.171\n",
       "bmi          338.0808     28.549     11.842      0.000     282.075     394.086\n",
       "children     504.9358    137.491      3.673      0.000     235.213     774.658\n",
       "female       131.3019    332.307      0.395      0.693    -520.602     783.206\n",
       "smoker_yes  2.385e+04    412.362     57.833      0.000     2.3e+04    2.47e+04\n",
       "northeast  -1642.8805    330.953     -4.964      0.000   -2292.127    -993.634\n",
       "northwest  -1996.2360    331.525     -6.021      0.000   -2646.605   -1345.867\n",
       "southeast  -2676.2085    383.401     -6.980      0.000   -3428.345   -1924.072\n",
       "southwest  -2600.9974    348.944     -7.454      0.000   -3285.539   -1916.456\n",
       "==============================================================================\n",
       "Omnibus:                      302.840   Durbin-Watson:                   2.090\n",
       "Prob(Omnibus):                  0.000   Jarque-Bera (JB):              730.609\n",
       "Skew:                           1.217   Prob(JB):                    2.24e-159\n",
       "Kurtosis:                       5.679   Cond. No.                     5.66e+17\n",
       "==============================================================================\n",
       "\n",
       "Notes:\n",
       "[1] Standard Errors assume that the covariance matrix of the errors is correctly specified.\n",
       "[2] The smallest eigenvalue is 3.69e-29. This might indicate that there are\n",
       "strong multicollinearity problems or that the design matrix is singular.\n",
       "\"\"\""
      ]
     },
     "execution_count": 48,
     "metadata": {},
     "output_type": "execute_result"
    }
   ],
   "source": [
    "# y_train=data.pop('charges')\n",
    "X_train = data.copy()\n",
    "for i in range(0 , len(X_train['age'])):\n",
    "    X_train['age'][i] = pow(X_train['age'][i], 1.2)\n",
    "\n",
    "# X_train['bmi'] = list(map(lambda x: x, X_train['bmi']))\n",
    "\n",
    "import statsmodels.api as sm\n",
    "X_train_sm = sm.add_constant(X_train)\n",
    "\n",
    "bmi_sq= sm.OLS(y_train, X_train_sm).fit()\n",
    "\n",
    "bmi_sq.summary()"
   ]
  },
  {
   "cell_type": "code",
   "execution_count": 49,
   "metadata": {},
   "outputs": [
    {
     "data": {
      "text/html": [
       "<table class=\"simpletable\">\n",
       "<caption>OLS Regression Results</caption>\n",
       "<tr>\n",
       "  <th>Dep. Variable:</th>         <td>charges</td>     <th>  R-squared:         </th> <td>   0.753</td> \n",
       "</tr>\n",
       "<tr>\n",
       "  <th>Model:</th>                   <td>OLS</td>       <th>  Adj. R-squared:    </th> <td>   0.752</td> \n",
       "</tr>\n",
       "<tr>\n",
       "  <th>Method:</th>             <td>Least Squares</td>  <th>  F-statistic:       </th> <td>   506.5</td> \n",
       "</tr>\n",
       "<tr>\n",
       "  <th>Date:</th>             <td>Fri, 03 Jun 2022</td> <th>  Prob (F-statistic):</th>  <td>  0.00</td>  \n",
       "</tr>\n",
       "<tr>\n",
       "  <th>Time:</th>                 <td>13:03:33</td>     <th>  Log-Likelihood:    </th> <td> -13542.</td> \n",
       "</tr>\n",
       "<tr>\n",
       "  <th>No. Observations:</th>      <td>  1338</td>      <th>  AIC:               </th> <td>2.710e+04</td>\n",
       "</tr>\n",
       "<tr>\n",
       "  <th>Df Residuals:</th>          <td>  1329</td>      <th>  BIC:               </th> <td>2.715e+04</td>\n",
       "</tr>\n",
       "<tr>\n",
       "  <th>Df Model:</th>              <td>     8</td>      <th>                     </th>     <td> </td>    \n",
       "</tr>\n",
       "<tr>\n",
       "  <th>Covariance Type:</th>      <td>nonrobust</td>    <th>                     </th>     <td> </td>    \n",
       "</tr>\n",
       "</table>\n",
       "<table class=\"simpletable\">\n",
       "<tr>\n",
       "       <td></td>         <th>coef</th>     <th>std err</th>      <th>t</th>      <th>P>|t|</th>  <th>[0.025</th>    <th>0.975]</th>  \n",
       "</tr>\n",
       "<tr>\n",
       "  <th>const</th>      <td>-7477.5902</td> <td>  752.541</td> <td>   -9.936</td> <td> 0.000</td> <td>-8953.887</td> <td>-6001.293</td>\n",
       "</tr>\n",
       "<tr>\n",
       "  <th>age</th>        <td>   17.9509</td> <td>    0.818</td> <td>   21.938</td> <td> 0.000</td> <td>   16.346</td> <td>   19.556</td>\n",
       "</tr>\n",
       "<tr>\n",
       "  <th>bmi</th>        <td>  336.6231</td> <td>   28.488</td> <td>   11.816</td> <td> 0.000</td> <td>  280.738</td> <td>  392.509</td>\n",
       "</tr>\n",
       "<tr>\n",
       "  <th>children</th>   <td>  559.2908</td> <td>  137.116</td> <td>    4.079</td> <td> 0.000</td> <td>  290.303</td> <td>  828.279</td>\n",
       "</tr>\n",
       "<tr>\n",
       "  <th>female</th>     <td>  133.4898</td> <td>  331.531</td> <td>    0.403</td> <td> 0.687</td> <td> -516.891</td> <td>  783.870</td>\n",
       "</tr>\n",
       "<tr>\n",
       "  <th>smoker_yes</th> <td> 2.386e+04</td> <td>  411.409</td> <td>   57.987</td> <td> 0.000</td> <td>  2.3e+04</td> <td> 2.47e+04</td>\n",
       "</tr>\n",
       "<tr>\n",
       "  <th>northeast</th>  <td>-1282.0044</td> <td>  327.424</td> <td>   -3.915</td> <td> 0.000</td> <td>-1924.328</td> <td> -639.680</td>\n",
       "</tr>\n",
       "<tr>\n",
       "  <th>northwest</th>  <td>-1642.6042</td> <td>  328.137</td> <td>   -5.006</td> <td> 0.000</td> <td>-2286.327</td> <td> -998.882</td>\n",
       "</tr>\n",
       "<tr>\n",
       "  <th>southeast</th>  <td>-2312.4326</td> <td>  380.894</td> <td>   -6.071</td> <td> 0.000</td> <td>-3059.652</td> <td>-1565.213</td>\n",
       "</tr>\n",
       "<tr>\n",
       "  <th>southwest</th>  <td>-2240.5490</td> <td>  345.687</td> <td>   -6.481</td> <td> 0.000</td> <td>-2918.701</td> <td>-1562.397</td>\n",
       "</tr>\n",
       "</table>\n",
       "<table class=\"simpletable\">\n",
       "<tr>\n",
       "  <th>Omnibus:</th>       <td>306.224</td> <th>  Durbin-Watson:     </th> <td>   2.093</td> \n",
       "</tr>\n",
       "<tr>\n",
       "  <th>Prob(Omnibus):</th> <td> 0.000</td>  <th>  Jarque-Bera (JB):  </th> <td> 746.939</td> \n",
       "</tr>\n",
       "<tr>\n",
       "  <th>Skew:</th>          <td> 1.226</td>  <th>  Prob(JB):          </th> <td>6.37e-163</td>\n",
       "</tr>\n",
       "<tr>\n",
       "  <th>Kurtosis:</th>      <td> 5.718</td>  <th>  Cond. No.          </th> <td>2.92e+18</td> \n",
       "</tr>\n",
       "</table><br/><br/>Notes:<br/>[1] Standard Errors assume that the covariance matrix of the errors is correctly specified.<br/>[2] The smallest eigenvalue is 2.88e-29. This might indicate that there are<br/>strong multicollinearity problems or that the design matrix is singular."
      ],
      "text/plain": [
       "<class 'statsmodels.iolib.summary.Summary'>\n",
       "\"\"\"\n",
       "                            OLS Regression Results                            \n",
       "==============================================================================\n",
       "Dep. Variable:                charges   R-squared:                       0.753\n",
       "Model:                            OLS   Adj. R-squared:                  0.752\n",
       "Method:                 Least Squares   F-statistic:                     506.5\n",
       "Date:                Fri, 03 Jun 2022   Prob (F-statistic):               0.00\n",
       "Time:                        13:03:33   Log-Likelihood:                -13542.\n",
       "No. Observations:                1338   AIC:                         2.710e+04\n",
       "Df Residuals:                    1329   BIC:                         2.715e+04\n",
       "Df Model:                           8                                         \n",
       "Covariance Type:            nonrobust                                         \n",
       "==============================================================================\n",
       "                 coef    std err          t      P>|t|      [0.025      0.975]\n",
       "------------------------------------------------------------------------------\n",
       "const      -7477.5902    752.541     -9.936      0.000   -8953.887   -6001.293\n",
       "age           17.9509      0.818     21.938      0.000      16.346      19.556\n",
       "bmi          336.6231     28.488     11.816      0.000     280.738     392.509\n",
       "children     559.2908    137.116      4.079      0.000     290.303     828.279\n",
       "female       133.4898    331.531      0.403      0.687    -516.891     783.870\n",
       "smoker_yes  2.386e+04    411.409     57.987      0.000     2.3e+04    2.47e+04\n",
       "northeast  -1282.0044    327.424     -3.915      0.000   -1924.328    -639.680\n",
       "northwest  -1642.6042    328.137     -5.006      0.000   -2286.327    -998.882\n",
       "southeast  -2312.4326    380.894     -6.071      0.000   -3059.652   -1565.213\n",
       "southwest  -2240.5490    345.687     -6.481      0.000   -2918.701   -1562.397\n",
       "==============================================================================\n",
       "Omnibus:                      306.224   Durbin-Watson:                   2.093\n",
       "Prob(Omnibus):                  0.000   Jarque-Bera (JB):              746.939\n",
       "Skew:                           1.226   Prob(JB):                    6.37e-163\n",
       "Kurtosis:                       5.718   Cond. No.                     2.92e+18\n",
       "==============================================================================\n",
       "\n",
       "Notes:\n",
       "[1] Standard Errors assume that the covariance matrix of the errors is correctly specified.\n",
       "[2] The smallest eigenvalue is 2.88e-29. This might indicate that there are\n",
       "strong multicollinearity problems or that the design matrix is singular.\n",
       "\"\"\""
      ]
     },
     "execution_count": 49,
     "metadata": {},
     "output_type": "execute_result"
    }
   ],
   "source": [
    "# y_train=data.pop('charges')\n",
    "X_train = data.copy()\n",
    "for i in range(0 , len(X_train['age'])):\n",
    "    X_train['age'][i] = pow(X_train['age'][i], 1.6)\n",
    "\n",
    "# X_train['bmi'] = list(map(lambda x: x, X_train['bmi']))\n",
    "\n",
    "import statsmodels.api as sm\n",
    "X_train_sm = sm.add_constant(X_train)\n",
    "\n",
    "bmi_sq= sm.OLS(y_train, X_train_sm).fit()\n",
    "\n",
    "bmi_sq.summary()"
   ]
  },
  {
   "cell_type": "code",
   "execution_count": 50,
   "metadata": {},
   "outputs": [
    {
     "data": {
      "text/html": [
       "<table class=\"simpletable\">\n",
       "<caption>OLS Regression Results</caption>\n",
       "<tr>\n",
       "  <th>Dep. Variable:</th>         <td>charges</td>     <th>  R-squared:         </th> <td>   0.751</td> \n",
       "</tr>\n",
       "<tr>\n",
       "  <th>Model:</th>                   <td>OLS</td>       <th>  Adj. R-squared:    </th> <td>   0.750</td> \n",
       "</tr>\n",
       "<tr>\n",
       "  <th>Method:</th>             <td>Least Squares</td>  <th>  F-statistic:       </th> <td>   502.1</td> \n",
       "</tr>\n",
       "<tr>\n",
       "  <th>Date:</th>             <td>Fri, 03 Jun 2022</td> <th>  Prob (F-statistic):</th>  <td>  0.00</td>  \n",
       "</tr>\n",
       "<tr>\n",
       "  <th>Time:</th>                 <td>13:03:34</td>     <th>  Log-Likelihood:    </th> <td> -13546.</td> \n",
       "</tr>\n",
       "<tr>\n",
       "  <th>No. Observations:</th>      <td>  1338</td>      <th>  AIC:               </th> <td>2.711e+04</td>\n",
       "</tr>\n",
       "<tr>\n",
       "  <th>Df Residuals:</th>          <td>  1329</td>      <th>  BIC:               </th> <td>2.716e+04</td>\n",
       "</tr>\n",
       "<tr>\n",
       "  <th>Df Model:</th>              <td>     8</td>      <th>                     </th>     <td> </td>    \n",
       "</tr>\n",
       "<tr>\n",
       "  <th>Covariance Type:</th>      <td>nonrobust</td>    <th>                     </th>     <td> </td>    \n",
       "</tr>\n",
       "</table>\n",
       "<table class=\"simpletable\">\n",
       "<tr>\n",
       "       <td></td>         <th>coef</th>     <th>std err</th>      <th>t</th>      <th>P>|t|</th>  <th>[0.025</th>    <th>0.975]</th>  \n",
       "</tr>\n",
       "<tr>\n",
       "  <th>const</th>      <td>-2.255e+04</td> <td> 1747.813</td> <td>  -12.904</td> <td> 0.000</td> <td> -2.6e+04</td> <td>-1.91e+04</td>\n",
       "</tr>\n",
       "<tr>\n",
       "  <th>age</th>        <td>  256.1060</td> <td>   11.894</td> <td>   21.533</td> <td> 0.000</td> <td>  232.774</td> <td>  279.438</td>\n",
       "</tr>\n",
       "<tr>\n",
       "  <th>bmi</th>        <td> 6634.0562</td> <td>  553.928</td> <td>   11.976</td> <td> 0.000</td> <td> 5547.388</td> <td> 7720.725</td>\n",
       "</tr>\n",
       "<tr>\n",
       "  <th>children</th>   <td>  475.9245</td> <td>  137.674</td> <td>    3.457</td> <td> 0.001</td> <td>  205.843</td> <td>  746.006</td>\n",
       "</tr>\n",
       "<tr>\n",
       "  <th>female</th>     <td>  133.6667</td> <td>  332.635</td> <td>    0.402</td> <td> 0.688</td> <td> -518.880</td> <td>  786.213</td>\n",
       "</tr>\n",
       "<tr>\n",
       "  <th>smoker_yes</th> <td> 2.386e+04</td> <td>  412.773</td> <td>   57.794</td> <td> 0.000</td> <td>  2.3e+04</td> <td> 2.47e+04</td>\n",
       "</tr>\n",
       "<tr>\n",
       "  <th>northeast</th>  <td>-5038.0788</td> <td>  492.197</td> <td>  -10.236</td> <td> 0.000</td> <td>-6003.647</td> <td>-4072.510</td>\n",
       "</tr>\n",
       "<tr>\n",
       "  <th>northwest</th>  <td>-5422.4808</td> <td>  494.887</td> <td>  -10.957</td> <td> 0.000</td> <td>-6393.325</td> <td>-4451.636</td>\n",
       "</tr>\n",
       "<tr>\n",
       "  <th>southeast</th>  <td>-6068.0726</td> <td>  582.700</td> <td>  -10.414</td> <td> 0.000</td> <td>-7211.185</td> <td>-4924.960</td>\n",
       "</tr>\n",
       "<tr>\n",
       "  <th>southwest</th>  <td>-6025.4980</td> <td>  526.010</td> <td>  -11.455</td> <td> 0.000</td> <td>-7057.398</td> <td>-4993.599</td>\n",
       "</tr>\n",
       "</table>\n",
       "<table class=\"simpletable\">\n",
       "<tr>\n",
       "  <th>Omnibus:</th>       <td>302.970</td> <th>  Durbin-Watson:     </th> <td>   2.086</td> \n",
       "</tr>\n",
       "<tr>\n",
       "  <th>Prob(Omnibus):</th> <td> 0.000</td>  <th>  Jarque-Bera (JB):  </th> <td> 722.822</td> \n",
       "</tr>\n",
       "<tr>\n",
       "  <th>Skew:</th>          <td> 1.223</td>  <th>  Prob(JB):          </th> <td>1.10e-157</td>\n",
       "</tr>\n",
       "<tr>\n",
       "  <th>Kurtosis:</th>      <td> 5.643</td>  <th>  Cond. No.          </th> <td>1.85e+17</td> \n",
       "</tr>\n",
       "</table><br/><br/>Notes:<br/>[1] Standard Errors assume that the covariance matrix of the errors is correctly specified.<br/>[2] The smallest eigenvalue is 6.87e-29. This might indicate that there are<br/>strong multicollinearity problems or that the design matrix is singular."
      ],
      "text/plain": [
       "<class 'statsmodels.iolib.summary.Summary'>\n",
       "\"\"\"\n",
       "                            OLS Regression Results                            \n",
       "==============================================================================\n",
       "Dep. Variable:                charges   R-squared:                       0.751\n",
       "Model:                            OLS   Adj. R-squared:                  0.750\n",
       "Method:                 Least Squares   F-statistic:                     502.1\n",
       "Date:                Fri, 03 Jun 2022   Prob (F-statistic):               0.00\n",
       "Time:                        13:03:34   Log-Likelihood:                -13546.\n",
       "No. Observations:                1338   AIC:                         2.711e+04\n",
       "Df Residuals:                    1329   BIC:                         2.716e+04\n",
       "Df Model:                           8                                         \n",
       "Covariance Type:            nonrobust                                         \n",
       "==============================================================================\n",
       "                 coef    std err          t      P>|t|      [0.025      0.975]\n",
       "------------------------------------------------------------------------------\n",
       "const      -2.255e+04   1747.813    -12.904      0.000    -2.6e+04   -1.91e+04\n",
       "age          256.1060     11.894     21.533      0.000     232.774     279.438\n",
       "bmi         6634.0562    553.928     11.976      0.000    5547.388    7720.725\n",
       "children     475.9245    137.674      3.457      0.001     205.843     746.006\n",
       "female       133.6667    332.635      0.402      0.688    -518.880     786.213\n",
       "smoker_yes  2.386e+04    412.773     57.794      0.000     2.3e+04    2.47e+04\n",
       "northeast  -5038.0788    492.197    -10.236      0.000   -6003.647   -4072.510\n",
       "northwest  -5422.4808    494.887    -10.957      0.000   -6393.325   -4451.636\n",
       "southeast  -6068.0726    582.700    -10.414      0.000   -7211.185   -4924.960\n",
       "southwest  -6025.4980    526.010    -11.455      0.000   -7057.398   -4993.599\n",
       "==============================================================================\n",
       "Omnibus:                      302.970   Durbin-Watson:                   2.086\n",
       "Prob(Omnibus):                  0.000   Jarque-Bera (JB):              722.822\n",
       "Skew:                           1.223   Prob(JB):                    1.10e-157\n",
       "Kurtosis:                       5.643   Cond. No.                     1.85e+17\n",
       "==============================================================================\n",
       "\n",
       "Notes:\n",
       "[1] Standard Errors assume that the covariance matrix of the errors is correctly specified.\n",
       "[2] The smallest eigenvalue is 6.87e-29. This might indicate that there are\n",
       "strong multicollinearity problems or that the design matrix is singular.\n",
       "\"\"\""
      ]
     },
     "execution_count": 50,
     "metadata": {},
     "output_type": "execute_result"
    }
   ],
   "source": [
    "# y_train=data.pop('charges')\n",
    "X_train = data.copy()\n",
    "for i in range(0 , len(X_train['bmi'])):\n",
    "    X_train['bmi'][i] = pow(X_train['bmi'][i], 0.4)\n",
    "\n",
    "# X_train['bmi'] = list(map(lambda x: x, X_train['bmi']))\n",
    "\n",
    "import statsmodels.api as sm\n",
    "X_train_sm = sm.add_constant(X_train)\n",
    "\n",
    "bmi_sq= sm.OLS(y_train, X_train_sm).fit()\n",
    "\n",
    "bmi_sq.summary()"
   ]
  },
  {
   "cell_type": "code",
   "execution_count": 51,
   "metadata": {},
   "outputs": [
    {
     "data": {
      "text/html": [
       "<table class=\"simpletable\">\n",
       "<caption>OLS Regression Results</caption>\n",
       "<tr>\n",
       "  <th>Dep. Variable:</th>         <td>charges</td>     <th>  R-squared:         </th> <td>   0.751</td> \n",
       "</tr>\n",
       "<tr>\n",
       "  <th>Model:</th>                   <td>OLS</td>       <th>  Adj. R-squared:    </th> <td>   0.750</td> \n",
       "</tr>\n",
       "<tr>\n",
       "  <th>Method:</th>             <td>Least Squares</td>  <th>  F-statistic:       </th> <td>   501.4</td> \n",
       "</tr>\n",
       "<tr>\n",
       "  <th>Date:</th>             <td>Fri, 03 Jun 2022</td> <th>  Prob (F-statistic):</th>  <td>  0.00</td>  \n",
       "</tr>\n",
       "<tr>\n",
       "  <th>Time:</th>                 <td>13:03:34</td>     <th>  Log-Likelihood:    </th> <td> -13547.</td> \n",
       "</tr>\n",
       "<tr>\n",
       "  <th>No. Observations:</th>      <td>  1338</td>      <th>  AIC:               </th> <td>2.711e+04</td>\n",
       "</tr>\n",
       "<tr>\n",
       "  <th>Df Residuals:</th>          <td>  1329</td>      <th>  BIC:               </th> <td>2.716e+04</td>\n",
       "</tr>\n",
       "<tr>\n",
       "  <th>Df Model:</th>              <td>     8</td>      <th>                     </th>     <td> </td>    \n",
       "</tr>\n",
       "<tr>\n",
       "  <th>Covariance Type:</th>      <td>nonrobust</td>    <th>                     </th>     <td> </td>    \n",
       "</tr>\n",
       "</table>\n",
       "<table class=\"simpletable\">\n",
       "<tr>\n",
       "       <td></td>         <th>coef</th>     <th>std err</th>      <th>t</th>      <th>P>|t|</th>  <th>[0.025</th>    <th>0.975]</th>  \n",
       "</tr>\n",
       "<tr>\n",
       "  <th>const</th>      <td>-1.221e+04</td> <td>  940.137</td> <td>  -12.988</td> <td> 0.000</td> <td>-1.41e+04</td> <td>-1.04e+04</td>\n",
       "</tr>\n",
       "<tr>\n",
       "  <th>age</th>        <td>  256.5783</td> <td>   11.896</td> <td>   21.569</td> <td> 0.000</td> <td>  233.242</td> <td>  279.915</td>\n",
       "</tr>\n",
       "<tr>\n",
       "  <th>bmi</th>        <td>  844.4961</td> <td>   70.890</td> <td>   11.913</td> <td> 0.000</td> <td>  705.428</td> <td>  983.564</td>\n",
       "</tr>\n",
       "<tr>\n",
       "  <th>children</th>   <td>  475.6175</td> <td>  137.745</td> <td>    3.453</td> <td> 0.001</td> <td>  205.396</td> <td>  745.839</td>\n",
       "</tr>\n",
       "<tr>\n",
       "  <th>female</th>     <td>  132.3892</td> <td>  332.805</td> <td>    0.398</td> <td> 0.691</td> <td> -520.491</td> <td>  785.270</td>\n",
       "</tr>\n",
       "<tr>\n",
       "  <th>smoker_yes</th> <td> 2.385e+04</td> <td>  412.980</td> <td>   57.754</td> <td> 0.000</td> <td>  2.3e+04</td> <td> 2.47e+04</td>\n",
       "</tr>\n",
       "<tr>\n",
       "  <th>northeast</th>  <td>-2460.5007</td> <td>  352.710</td> <td>   -6.976</td> <td> 0.000</td> <td>-3152.429</td> <td>-1768.573</td>\n",
       "</tr>\n",
       "<tr>\n",
       "  <th>northwest</th>  <td>-2823.7571</td> <td>  353.656</td> <td>   -7.984</td> <td> 0.000</td> <td>-3517.542</td> <td>-2129.972</td>\n",
       "</tr>\n",
       "<tr>\n",
       "  <th>southeast</th>  <td>-3496.1789</td> <td>  414.150</td> <td>   -8.442</td> <td> 0.000</td> <td>-4308.638</td> <td>-2683.720</td>\n",
       "</tr>\n",
       "<tr>\n",
       "  <th>southwest</th>  <td>-3430.4384</td> <td>  374.567</td> <td>   -9.158</td> <td> 0.000</td> <td>-4165.245</td> <td>-2695.632</td>\n",
       "</tr>\n",
       "</table>\n",
       "<table class=\"simpletable\">\n",
       "<tr>\n",
       "  <th>Omnibus:</th>       <td>301.349</td> <th>  Durbin-Watson:     </th> <td>   2.088</td> \n",
       "</tr>\n",
       "<tr>\n",
       "  <th>Prob(Omnibus):</th> <td> 0.000</td>  <th>  Jarque-Bera (JB):  </th> <td> 720.526</td> \n",
       "</tr>\n",
       "<tr>\n",
       "  <th>Skew:</th>          <td> 1.216</td>  <th>  Prob(JB):          </th> <td>3.47e-157</td>\n",
       "</tr>\n",
       "<tr>\n",
       "  <th>Kurtosis:</th>      <td> 5.648</td>  <th>  Cond. No.          </th> <td>3.32e+17</td> \n",
       "</tr>\n",
       "</table><br/><br/>Notes:<br/>[1] Standard Errors assume that the covariance matrix of the errors is correctly specified.<br/>[2] The smallest eigenvalue is 2.37e-29. This might indicate that there are<br/>strong multicollinearity problems or that the design matrix is singular."
      ],
      "text/plain": [
       "<class 'statsmodels.iolib.summary.Summary'>\n",
       "\"\"\"\n",
       "                            OLS Regression Results                            \n",
       "==============================================================================\n",
       "Dep. Variable:                charges   R-squared:                       0.751\n",
       "Model:                            OLS   Adj. R-squared:                  0.750\n",
       "Method:                 Least Squares   F-statistic:                     501.4\n",
       "Date:                Fri, 03 Jun 2022   Prob (F-statistic):               0.00\n",
       "Time:                        13:03:34   Log-Likelihood:                -13547.\n",
       "No. Observations:                1338   AIC:                         2.711e+04\n",
       "Df Residuals:                    1329   BIC:                         2.716e+04\n",
       "Df Model:                           8                                         \n",
       "Covariance Type:            nonrobust                                         \n",
       "==============================================================================\n",
       "                 coef    std err          t      P>|t|      [0.025      0.975]\n",
       "------------------------------------------------------------------------------\n",
       "const      -1.221e+04    940.137    -12.988      0.000   -1.41e+04   -1.04e+04\n",
       "age          256.5783     11.896     21.569      0.000     233.242     279.915\n",
       "bmi          844.4961     70.890     11.913      0.000     705.428     983.564\n",
       "children     475.6175    137.745      3.453      0.001     205.396     745.839\n",
       "female       132.3892    332.805      0.398      0.691    -520.491     785.270\n",
       "smoker_yes  2.385e+04    412.980     57.754      0.000     2.3e+04    2.47e+04\n",
       "northeast  -2460.5007    352.710     -6.976      0.000   -3152.429   -1768.573\n",
       "northwest  -2823.7571    353.656     -7.984      0.000   -3517.542   -2129.972\n",
       "southeast  -3496.1789    414.150     -8.442      0.000   -4308.638   -2683.720\n",
       "southwest  -3430.4384    374.567     -9.158      0.000   -4165.245   -2695.632\n",
       "==============================================================================\n",
       "Omnibus:                      301.349   Durbin-Watson:                   2.088\n",
       "Prob(Omnibus):                  0.000   Jarque-Bera (JB):              720.526\n",
       "Skew:                           1.216   Prob(JB):                    3.47e-157\n",
       "Kurtosis:                       5.648   Cond. No.                     3.32e+17\n",
       "==============================================================================\n",
       "\n",
       "Notes:\n",
       "[1] Standard Errors assume that the covariance matrix of the errors is correctly specified.\n",
       "[2] The smallest eigenvalue is 2.37e-29. This might indicate that there are\n",
       "strong multicollinearity problems or that the design matrix is singular.\n",
       "\"\"\""
      ]
     },
     "execution_count": 51,
     "metadata": {},
     "output_type": "execute_result"
    }
   ],
   "source": [
    "# y_train=data.pop('charges')\n",
    "X_train = data.copy()\n",
    "for i in range(0 , len(X_train['bmi'])):\n",
    "    X_train['bmi'][i] = pow(X_train['bmi'][i], 0.8)\n",
    "\n",
    "# X_train['bmi'] = list(map(lambda x: x, X_train['bmi']))\n",
    "\n",
    "import statsmodels.api as sm\n",
    "X_train_sm = sm.add_constant(X_train)\n",
    "\n",
    "bmi_sq= sm.OLS(y_train, X_train_sm).fit()\n",
    "\n",
    "bmi_sq.summary()"
   ]
  },
  {
   "cell_type": "code",
   "execution_count": 52,
   "metadata": {},
   "outputs": [
    {
     "data": {
      "text/html": [
       "<table class=\"simpletable\">\n",
       "<caption>OLS Regression Results</caption>\n",
       "<tr>\n",
       "  <th>Dep. Variable:</th>         <td>charges</td>     <th>  R-squared:         </th> <td>   0.751</td> \n",
       "</tr>\n",
       "<tr>\n",
       "  <th>Model:</th>                   <td>OLS</td>       <th>  Adj. R-squared:    </th> <td>   0.749</td> \n",
       "</tr>\n",
       "<tr>\n",
       "  <th>Method:</th>             <td>Least Squares</td>  <th>  F-statistic:       </th> <td>   500.1</td> \n",
       "</tr>\n",
       "<tr>\n",
       "  <th>Date:</th>             <td>Fri, 03 Jun 2022</td> <th>  Prob (F-statistic):</th>  <td>  0.00</td>  \n",
       "</tr>\n",
       "<tr>\n",
       "  <th>Time:</th>                 <td>13:03:35</td>     <th>  Log-Likelihood:    </th> <td> -13548.</td> \n",
       "</tr>\n",
       "<tr>\n",
       "  <th>No. Observations:</th>      <td>  1338</td>      <th>  AIC:               </th> <td>2.711e+04</td>\n",
       "</tr>\n",
       "<tr>\n",
       "  <th>Df Residuals:</th>          <td>  1329</td>      <th>  BIC:               </th> <td>2.716e+04</td>\n",
       "</tr>\n",
       "<tr>\n",
       "  <th>Df Model:</th>              <td>     8</td>      <th>                     </th>     <td> </td>    \n",
       "</tr>\n",
       "<tr>\n",
       "  <th>Covariance Type:</th>      <td>nonrobust</td>    <th>                     </th>     <td> </td>    \n",
       "</tr>\n",
       "</table>\n",
       "<table class=\"simpletable\">\n",
       "<tr>\n",
       "       <td></td>         <th>coef</th>     <th>std err</th>      <th>t</th>      <th>P>|t|</th>  <th>[0.025</th>    <th>0.975]</th>  \n",
       "</tr>\n",
       "<tr>\n",
       "  <th>const</th>      <td>-8726.5717</td> <td>  698.508</td> <td>  -12.493</td> <td> 0.000</td> <td>-1.01e+04</td> <td>-7356.273</td>\n",
       "</tr>\n",
       "<tr>\n",
       "  <th>age</th>        <td>  257.1606</td> <td>   11.903</td> <td>   21.605</td> <td> 0.000</td> <td>  233.810</td> <td>  280.511</td>\n",
       "</tr>\n",
       "<tr>\n",
       "  <th>bmi</th>        <td>  141.4491</td> <td>   11.993</td> <td>   11.794</td> <td> 0.000</td> <td>  117.921</td> <td>  164.977</td>\n",
       "</tr>\n",
       "<tr>\n",
       "  <th>children</th>   <td>  475.4076</td> <td>  137.878</td> <td>    3.448</td> <td> 0.001</td> <td>  204.926</td> <td>  745.889</td>\n",
       "</tr>\n",
       "<tr>\n",
       "  <th>female</th>     <td>  129.9672</td> <td>  333.121</td> <td>    0.390</td> <td> 0.696</td> <td> -523.533</td> <td>  783.468</td>\n",
       "</tr>\n",
       "<tr>\n",
       "  <th>smoker_yes</th> <td> 2.385e+04</td> <td>  413.371</td> <td>   57.687</td> <td> 0.000</td> <td>  2.3e+04</td> <td> 2.47e+04</td>\n",
       "</tr>\n",
       "<tr>\n",
       "  <th>northeast</th>  <td>-1600.5258</td> <td>  325.161</td> <td>   -4.922</td> <td> 0.000</td> <td>-2238.411</td> <td> -962.641</td>\n",
       "</tr>\n",
       "<tr>\n",
       "  <th>northwest</th>  <td>-1943.4652</td> <td>  325.354</td> <td>   -5.973</td> <td> 0.000</td> <td>-2581.729</td> <td>-1305.202</td>\n",
       "</tr>\n",
       "<tr>\n",
       "  <th>southeast</th>  <td>-2632.5727</td> <td>  369.030</td> <td>   -7.134</td> <td> 0.000</td> <td>-3356.517</td> <td>-1908.628</td>\n",
       "</tr>\n",
       "<tr>\n",
       "  <th>southwest</th>  <td>-2550.0079</td> <td>  339.789</td> <td>   -7.505</td> <td> 0.000</td> <td>-3216.589</td> <td>-1883.427</td>\n",
       "</tr>\n",
       "</table>\n",
       "<table class=\"simpletable\">\n",
       "<tr>\n",
       "  <th>Omnibus:</th>       <td>299.278</td> <th>  Durbin-Watson:     </th> <td>   2.089</td> \n",
       "</tr>\n",
       "<tr>\n",
       "  <th>Prob(Omnibus):</th> <td> 0.000</td>  <th>  Jarque-Bera (JB):  </th> <td> 716.944</td> \n",
       "</tr>\n",
       "<tr>\n",
       "  <th>Skew:</th>          <td> 1.207</td>  <th>  Prob(JB):          </th> <td>2.08e-156</td>\n",
       "</tr>\n",
       "<tr>\n",
       "  <th>Kurtosis:</th>      <td> 5.653</td>  <th>  Cond. No.          </th> <td>5.01e+17</td> \n",
       "</tr>\n",
       "</table><br/><br/>Notes:<br/>[1] Standard Errors assume that the covariance matrix of the errors is correctly specified.<br/>[2] The smallest eigenvalue is 2.93e-29. This might indicate that there are<br/>strong multicollinearity problems or that the design matrix is singular."
      ],
      "text/plain": [
       "<class 'statsmodels.iolib.summary.Summary'>\n",
       "\"\"\"\n",
       "                            OLS Regression Results                            \n",
       "==============================================================================\n",
       "Dep. Variable:                charges   R-squared:                       0.751\n",
       "Model:                            OLS   Adj. R-squared:                  0.749\n",
       "Method:                 Least Squares   F-statistic:                     500.1\n",
       "Date:                Fri, 03 Jun 2022   Prob (F-statistic):               0.00\n",
       "Time:                        13:03:35   Log-Likelihood:                -13548.\n",
       "No. Observations:                1338   AIC:                         2.711e+04\n",
       "Df Residuals:                    1329   BIC:                         2.716e+04\n",
       "Df Model:                           8                                         \n",
       "Covariance Type:            nonrobust                                         \n",
       "==============================================================================\n",
       "                 coef    std err          t      P>|t|      [0.025      0.975]\n",
       "------------------------------------------------------------------------------\n",
       "const      -8726.5717    698.508    -12.493      0.000   -1.01e+04   -7356.273\n",
       "age          257.1606     11.903     21.605      0.000     233.810     280.511\n",
       "bmi          141.4491     11.993     11.794      0.000     117.921     164.977\n",
       "children     475.4076    137.878      3.448      0.001     204.926     745.889\n",
       "female       129.9672    333.121      0.390      0.696    -523.533     783.468\n",
       "smoker_yes  2.385e+04    413.371     57.687      0.000     2.3e+04    2.47e+04\n",
       "northeast  -1600.5258    325.161     -4.922      0.000   -2238.411    -962.641\n",
       "northwest  -1943.4652    325.354     -5.973      0.000   -2581.729   -1305.202\n",
       "southeast  -2632.5727    369.030     -7.134      0.000   -3356.517   -1908.628\n",
       "southwest  -2550.0079    339.789     -7.505      0.000   -3216.589   -1883.427\n",
       "==============================================================================\n",
       "Omnibus:                      299.278   Durbin-Watson:                   2.089\n",
       "Prob(Omnibus):                  0.000   Jarque-Bera (JB):              716.944\n",
       "Skew:                           1.207   Prob(JB):                    2.08e-156\n",
       "Kurtosis:                       5.653   Cond. No.                     5.01e+17\n",
       "==============================================================================\n",
       "\n",
       "Notes:\n",
       "[1] Standard Errors assume that the covariance matrix of the errors is correctly specified.\n",
       "[2] The smallest eigenvalue is 2.93e-29. This might indicate that there are\n",
       "strong multicollinearity problems or that the design matrix is singular.\n",
       "\"\"\""
      ]
     },
     "execution_count": 52,
     "metadata": {},
     "output_type": "execute_result"
    }
   ],
   "source": [
    "# y_train=data.pop('charges')\n",
    "X_train = data.copy()\n",
    "for i in range(0 , len(X_train['bmi'])):\n",
    "    X_train['bmi'][i] = pow(X_train['bmi'][i], 1.2)\n",
    "\n",
    "# X_train['bmi'] = list(map(lambda x: x, X_train['bmi']))\n",
    "\n",
    "import statsmodels.api as sm\n",
    "X_train_sm = sm.add_constant(X_train)\n",
    "\n",
    "bmi_sq= sm.OLS(y_train, X_train_sm).fit()\n",
    "\n",
    "bmi_sq.summary()"
   ]
  },
  {
   "cell_type": "code",
   "execution_count": 53,
   "metadata": {},
   "outputs": [
    {
     "data": {
      "text/html": [
       "<table class=\"simpletable\">\n",
       "<caption>OLS Regression Results</caption>\n",
       "<tr>\n",
       "  <th>Dep. Variable:</th>         <td>charges</td>     <th>  R-squared:         </th> <td>   0.750</td> \n",
       "</tr>\n",
       "<tr>\n",
       "  <th>Model:</th>                   <td>OLS</td>       <th>  Adj. R-squared:    </th> <td>   0.748</td> \n",
       "</tr>\n",
       "<tr>\n",
       "  <th>Method:</th>             <td>Least Squares</td>  <th>  F-statistic:       </th> <td>   498.3</td> \n",
       "</tr>\n",
       "<tr>\n",
       "  <th>Date:</th>             <td>Fri, 03 Jun 2022</td> <th>  Prob (F-statistic):</th>  <td>  0.00</td>  \n",
       "</tr>\n",
       "<tr>\n",
       "  <th>Time:</th>                 <td>13:03:35</td>     <th>  Log-Likelihood:    </th> <td> -13550.</td> \n",
       "</tr>\n",
       "<tr>\n",
       "  <th>No. Observations:</th>      <td>  1338</td>      <th>  AIC:               </th> <td>2.712e+04</td>\n",
       "</tr>\n",
       "<tr>\n",
       "  <th>Df Residuals:</th>          <td>  1329</td>      <th>  BIC:               </th> <td>2.717e+04</td>\n",
       "</tr>\n",
       "<tr>\n",
       "  <th>Df Model:</th>              <td>     8</td>      <th>                     </th>     <td> </td>    \n",
       "</tr>\n",
       "<tr>\n",
       "  <th>Covariance Type:</th>      <td>nonrobust</td>    <th>                     </th>     <td> </td>    \n",
       "</tr>\n",
       "</table>\n",
       "<table class=\"simpletable\">\n",
       "<tr>\n",
       "       <td></td>         <th>coef</th>     <th>std err</th>      <th>t</th>      <th>P>|t|</th>  <th>[0.025</th>    <th>0.975]</th>  \n",
       "</tr>\n",
       "<tr>\n",
       "  <th>const</th>      <td>-6960.0812</td> <td>  593.059</td> <td>  -11.736</td> <td> 0.000</td> <td>-8123.516</td> <td>-5796.647</td>\n",
       "</tr>\n",
       "<tr>\n",
       "  <th>age</th>        <td>  257.8417</td> <td>   11.915</td> <td>   21.641</td> <td> 0.000</td> <td>  234.468</td> <td>  281.215</td>\n",
       "</tr>\n",
       "<tr>\n",
       "  <th>bmi</th>        <td>   26.3092</td> <td>    2.264</td> <td>   11.623</td> <td> 0.000</td> <td>   21.869</td> <td>   30.750</td>\n",
       "</tr>\n",
       "<tr>\n",
       "  <th>children</th>   <td>  475.2930</td> <td>  138.066</td> <td>    3.442</td> <td> 0.001</td> <td>  204.441</td> <td>  746.145</td>\n",
       "</tr>\n",
       "<tr>\n",
       "  <th>female</th>     <td>  126.5191</td> <td>  333.572</td> <td>    0.379</td> <td> 0.705</td> <td> -527.865</td> <td>  780.903</td>\n",
       "</tr>\n",
       "<tr>\n",
       "  <th>smoker_yes</th> <td> 2.384e+04</td> <td>  413.929</td> <td>   57.595</td> <td> 0.000</td> <td>  2.3e+04</td> <td> 2.47e+04</td>\n",
       "</tr>\n",
       "<tr>\n",
       "  <th>northeast</th>  <td>-1172.5869</td> <td>  316.851</td> <td>   -3.701</td> <td> 0.000</td> <td>-1794.170</td> <td> -551.004</td>\n",
       "</tr>\n",
       "<tr>\n",
       "  <th>northwest</th>  <td>-1496.4999</td> <td>  316.763</td> <td>   -4.724</td> <td> 0.000</td> <td>-2117.910</td> <td> -875.089</td>\n",
       "</tr>\n",
       "<tr>\n",
       "  <th>southeast</th>  <td>-2191.8475</td> <td>  350.059</td> <td>   -6.261</td> <td> 0.000</td> <td>-2878.577</td> <td>-1505.118</td>\n",
       "</tr>\n",
       "<tr>\n",
       "  <th>southwest</th>  <td>-2099.1469</td> <td>  327.187</td> <td>   -6.416</td> <td> 0.000</td> <td>-2741.006</td> <td>-1457.288</td>\n",
       "</tr>\n",
       "</table>\n",
       "<table class=\"simpletable\">\n",
       "<tr>\n",
       "  <th>Omnibus:</th>       <td>296.827</td> <th>  Durbin-Watson:     </th> <td>   2.090</td> \n",
       "</tr>\n",
       "<tr>\n",
       "  <th>Prob(Omnibus):</th> <td> 0.000</td>  <th>  Jarque-Bera (JB):  </th> <td> 712.229</td> \n",
       "</tr>\n",
       "<tr>\n",
       "  <th>Skew:</th>          <td> 1.196</td>  <th>  Prob(JB):          </th> <td>2.19e-155</td>\n",
       "</tr>\n",
       "<tr>\n",
       "  <th>Kurtosis:</th>      <td> 5.656</td>  <th>  Cond. No.          </th> <td>1.41e+18</td> \n",
       "</tr>\n",
       "</table><br/><br/>Notes:<br/>[1] Standard Errors assume that the covariance matrix of the errors is correctly specified.<br/>[2] The smallest eigenvalue is 4.52e-29. This might indicate that there are<br/>strong multicollinearity problems or that the design matrix is singular."
      ],
      "text/plain": [
       "<class 'statsmodels.iolib.summary.Summary'>\n",
       "\"\"\"\n",
       "                            OLS Regression Results                            \n",
       "==============================================================================\n",
       "Dep. Variable:                charges   R-squared:                       0.750\n",
       "Model:                            OLS   Adj. R-squared:                  0.748\n",
       "Method:                 Least Squares   F-statistic:                     498.3\n",
       "Date:                Fri, 03 Jun 2022   Prob (F-statistic):               0.00\n",
       "Time:                        13:03:35   Log-Likelihood:                -13550.\n",
       "No. Observations:                1338   AIC:                         2.712e+04\n",
       "Df Residuals:                    1329   BIC:                         2.717e+04\n",
       "Df Model:                           8                                         \n",
       "Covariance Type:            nonrobust                                         \n",
       "==============================================================================\n",
       "                 coef    std err          t      P>|t|      [0.025      0.975]\n",
       "------------------------------------------------------------------------------\n",
       "const      -6960.0812    593.059    -11.736      0.000   -8123.516   -5796.647\n",
       "age          257.8417     11.915     21.641      0.000     234.468     281.215\n",
       "bmi           26.3092      2.264     11.623      0.000      21.869      30.750\n",
       "children     475.2930    138.066      3.442      0.001     204.441     746.145\n",
       "female       126.5191    333.572      0.379      0.705    -527.865     780.903\n",
       "smoker_yes  2.384e+04    413.929     57.595      0.000     2.3e+04    2.47e+04\n",
       "northeast  -1172.5869    316.851     -3.701      0.000   -1794.170    -551.004\n",
       "northwest  -1496.4999    316.763     -4.724      0.000   -2117.910    -875.089\n",
       "southeast  -2191.8475    350.059     -6.261      0.000   -2878.577   -1505.118\n",
       "southwest  -2099.1469    327.187     -6.416      0.000   -2741.006   -1457.288\n",
       "==============================================================================\n",
       "Omnibus:                      296.827   Durbin-Watson:                   2.090\n",
       "Prob(Omnibus):                  0.000   Jarque-Bera (JB):              712.229\n",
       "Skew:                           1.196   Prob(JB):                    2.19e-155\n",
       "Kurtosis:                       5.656   Cond. No.                     1.41e+18\n",
       "==============================================================================\n",
       "\n",
       "Notes:\n",
       "[1] Standard Errors assume that the covariance matrix of the errors is correctly specified.\n",
       "[2] The smallest eigenvalue is 4.52e-29. This might indicate that there are\n",
       "strong multicollinearity problems or that the design matrix is singular.\n",
       "\"\"\""
      ]
     },
     "execution_count": 53,
     "metadata": {},
     "output_type": "execute_result"
    }
   ],
   "source": [
    "# y_train=data.pop('charges')\n",
    "X_train = data.copy()\n",
    "for i in range(0 , len(X_train['bmi'])):\n",
    "    X_train['bmi'][i] = pow(X_train['bmi'][i], 1.6)\n",
    "\n",
    "# X_train['bmi'] = list(map(lambda x: x, X_train['bmi']))\n",
    "\n",
    "import statsmodels.api as sm\n",
    "X_train_sm = sm.add_constant(X_train)\n",
    "\n",
    "bmi_sq= sm.OLS(y_train, X_train_sm).fit()\n",
    "\n",
    "bmi_sq.summary()"
   ]
  },
  {
   "cell_type": "code",
   "execution_count": 54,
   "metadata": {},
   "outputs": [
    {
     "data": {
      "text/html": [
       "<table class=\"simpletable\">\n",
       "<caption>OLS Regression Results</caption>\n",
       "<tr>\n",
       "  <th>Dep. Variable:</th>         <td>charges</td>     <th>  R-squared:         </th> <td>   0.732</td> \n",
       "</tr>\n",
       "<tr>\n",
       "  <th>Model:</th>                   <td>OLS</td>       <th>  Adj. R-squared:    </th> <td>   0.730</td> \n",
       "</tr>\n",
       "<tr>\n",
       "  <th>Method:</th>             <td>Least Squares</td>  <th>  F-statistic:       </th> <td>   453.2</td> \n",
       "</tr>\n",
       "<tr>\n",
       "  <th>Date:</th>             <td>Fri, 03 Jun 2022</td> <th>  Prob (F-statistic):</th>  <td>  0.00</td>  \n",
       "</tr>\n",
       "<tr>\n",
       "  <th>Time:</th>                 <td>13:03:36</td>     <th>  Log-Likelihood:    </th> <td> -13597.</td> \n",
       "</tr>\n",
       "<tr>\n",
       "  <th>No. Observations:</th>      <td>  1338</td>      <th>  AIC:               </th> <td>2.721e+04</td>\n",
       "</tr>\n",
       "<tr>\n",
       "  <th>Df Residuals:</th>          <td>  1329</td>      <th>  BIC:               </th> <td>2.726e+04</td>\n",
       "</tr>\n",
       "<tr>\n",
       "  <th>Df Model:</th>              <td>     8</td>      <th>                     </th>     <td> </td>    \n",
       "</tr>\n",
       "<tr>\n",
       "  <th>Covariance Type:</th>      <td>nonrobust</td>    <th>                     </th>     <td> </td>    \n",
       "</tr>\n",
       "</table>\n",
       "<table class=\"simpletable\">\n",
       "<tr>\n",
       "       <td></td>         <th>coef</th>     <th>std err</th>      <th>t</th>      <th>P>|t|</th>  <th>[0.025</th>    <th>0.975]</th>  \n",
       "</tr>\n",
       "<tr>\n",
       "  <th>const</th>      <td>-1.332e+04</td> <td>  880.388</td> <td>  -15.135</td> <td> 0.000</td> <td>-1.51e+04</td> <td>-1.16e+04</td>\n",
       "</tr>\n",
       "<tr>\n",
       "  <th>age</th>        <td> 4664.1304</td> <td>  250.570</td> <td>   18.614</td> <td> 0.000</td> <td> 4172.575</td> <td> 5155.685</td>\n",
       "</tr>\n",
       "<tr>\n",
       "  <th>bmi</th>        <td>   27.0383</td> <td>    2.344</td> <td>   11.537</td> <td> 0.000</td> <td>   22.441</td> <td>   31.636</td>\n",
       "</tr>\n",
       "<tr>\n",
       "  <th>children</th>   <td>  582.6618</td> <td>  142.880</td> <td>    4.078</td> <td> 0.000</td> <td>  302.367</td> <td>  862.956</td>\n",
       "</tr>\n",
       "<tr>\n",
       "  <th>female</th>     <td>  155.2846</td> <td>  345.475</td> <td>    0.449</td> <td> 0.653</td> <td> -522.451</td> <td>  833.020</td>\n",
       "</tr>\n",
       "<tr>\n",
       "  <th>smoker_yes</th> <td> 2.379e+04</td> <td>  428.680</td> <td>   55.486</td> <td> 0.000</td> <td> 2.29e+04</td> <td> 2.46e+04</td>\n",
       "</tr>\n",
       "<tr>\n",
       "  <th>northeast</th>  <td>-2741.0808</td> <td>  365.264</td> <td>   -7.504</td> <td> 0.000</td> <td>-3457.639</td> <td>-2024.523</td>\n",
       "</tr>\n",
       "<tr>\n",
       "  <th>northwest</th>  <td>-3083.9025</td> <td>  365.173</td> <td>   -8.445</td> <td> 0.000</td> <td>-3800.281</td> <td>-2367.524</td>\n",
       "</tr>\n",
       "<tr>\n",
       "  <th>southeast</th>  <td>-3824.2983</td> <td>  392.774</td> <td>   -9.737</td> <td> 0.000</td> <td>-4594.823</td> <td>-3053.774</td>\n",
       "</tr>\n",
       "<tr>\n",
       "  <th>southwest</th>  <td>-3675.1219</td> <td>  374.167</td> <td>   -9.822</td> <td> 0.000</td> <td>-4409.143</td> <td>-2941.100</td>\n",
       "</tr>\n",
       "</table>\n",
       "<table class=\"simpletable\">\n",
       "<tr>\n",
       "  <th>Omnibus:</th>       <td>282.444</td> <th>  Durbin-Watson:     </th> <td>   2.072</td> \n",
       "</tr>\n",
       "<tr>\n",
       "  <th>Prob(Omnibus):</th> <td> 0.000</td>  <th>  Jarque-Bera (JB):  </th> <td> 659.424</td> \n",
       "</tr>\n",
       "<tr>\n",
       "  <th>Skew:</th>          <td> 1.151</td>  <th>  Prob(JB):          </th> <td>6.43e-144</td>\n",
       "</tr>\n",
       "<tr>\n",
       "  <th>Kurtosis:</th>      <td> 5.554</td>  <th>  Cond. No.          </th> <td>1.26e+18</td> \n",
       "</tr>\n",
       "</table><br/><br/>Notes:<br/>[1] Standard Errors assume that the covariance matrix of the errors is correctly specified.<br/>[2] The smallest eigenvalue is 5.47e-29. This might indicate that there are<br/>strong multicollinearity problems or that the design matrix is singular."
      ],
      "text/plain": [
       "<class 'statsmodels.iolib.summary.Summary'>\n",
       "\"\"\"\n",
       "                            OLS Regression Results                            \n",
       "==============================================================================\n",
       "Dep. Variable:                charges   R-squared:                       0.732\n",
       "Model:                            OLS   Adj. R-squared:                  0.730\n",
       "Method:                 Least Squares   F-statistic:                     453.2\n",
       "Date:                Fri, 03 Jun 2022   Prob (F-statistic):               0.00\n",
       "Time:                        13:03:36   Log-Likelihood:                -13597.\n",
       "No. Observations:                1338   AIC:                         2.721e+04\n",
       "Df Residuals:                    1329   BIC:                         2.726e+04\n",
       "Df Model:                           8                                         \n",
       "Covariance Type:            nonrobust                                         \n",
       "==============================================================================\n",
       "                 coef    std err          t      P>|t|      [0.025      0.975]\n",
       "------------------------------------------------------------------------------\n",
       "const      -1.332e+04    880.388    -15.135      0.000   -1.51e+04   -1.16e+04\n",
       "age         4664.1304    250.570     18.614      0.000    4172.575    5155.685\n",
       "bmi           27.0383      2.344     11.537      0.000      22.441      31.636\n",
       "children     582.6618    142.880      4.078      0.000     302.367     862.956\n",
       "female       155.2846    345.475      0.449      0.653    -522.451     833.020\n",
       "smoker_yes  2.379e+04    428.680     55.486      0.000    2.29e+04    2.46e+04\n",
       "northeast  -2741.0808    365.264     -7.504      0.000   -3457.639   -2024.523\n",
       "northwest  -3083.9025    365.173     -8.445      0.000   -3800.281   -2367.524\n",
       "southeast  -3824.2983    392.774     -9.737      0.000   -4594.823   -3053.774\n",
       "southwest  -3675.1219    374.167     -9.822      0.000   -4409.143   -2941.100\n",
       "==============================================================================\n",
       "Omnibus:                      282.444   Durbin-Watson:                   2.072\n",
       "Prob(Omnibus):                  0.000   Jarque-Bera (JB):              659.424\n",
       "Skew:                           1.151   Prob(JB):                    6.43e-144\n",
       "Kurtosis:                       5.554   Cond. No.                     1.26e+18\n",
       "==============================================================================\n",
       "\n",
       "Notes:\n",
       "[1] Standard Errors assume that the covariance matrix of the errors is correctly specified.\n",
       "[2] The smallest eigenvalue is 5.47e-29. This might indicate that there are\n",
       "strong multicollinearity problems or that the design matrix is singular.\n",
       "\"\"\""
      ]
     },
     "execution_count": 54,
     "metadata": {},
     "output_type": "execute_result"
    }
   ],
   "source": [
    "# y_train=data.pop('charges')\n",
    "X_train = data.copy()\n",
    "for i in range(0 , len(X_train['bmi'])):\n",
    "    X_train['bmi'][i] = pow(X_train['bmi'][i], 1.6)\n",
    "    X_train['age'][i] = pow(X_train['age'][i], 0.4)\n",
    "# X_train['bmi'] = list(map(lambda x: x, X_train['bmi']))\n",
    "\n",
    "import statsmodels.api as sm\n",
    "X_train_sm = sm.add_constant(X_train)\n",
    "\n",
    "bmi_sq= sm.OLS(y_train, X_train_sm).fit()\n",
    "\n",
    "bmi_sq.summary()"
   ]
  },
  {
   "cell_type": "code",
   "execution_count": 55,
   "metadata": {},
   "outputs": [
    {
     "data": {
      "text/html": [
       "<table class=\"simpletable\">\n",
       "<caption>OLS Regression Results</caption>\n",
       "<tr>\n",
       "  <th>Dep. Variable:</th>         <td>charges</td>     <th>  R-squared:         </th> <td>   0.748</td> \n",
       "</tr>\n",
       "<tr>\n",
       "  <th>Model:</th>                   <td>OLS</td>       <th>  Adj. R-squared:    </th> <td>   0.747</td> \n",
       "</tr>\n",
       "<tr>\n",
       "  <th>Method:</th>             <td>Least Squares</td>  <th>  F-statistic:       </th> <td>   494.3</td> \n",
       "</tr>\n",
       "<tr>\n",
       "  <th>Date:</th>             <td>Fri, 03 Jun 2022</td> <th>  Prob (F-statistic):</th>  <td>  0.00</td>  \n",
       "</tr>\n",
       "<tr>\n",
       "  <th>Time:</th>                 <td>13:03:36</td>     <th>  Log-Likelihood:    </th> <td> -13554.</td> \n",
       "</tr>\n",
       "<tr>\n",
       "  <th>No. Observations:</th>      <td>  1338</td>      <th>  AIC:               </th> <td>2.713e+04</td>\n",
       "</tr>\n",
       "<tr>\n",
       "  <th>Df Residuals:</th>          <td>  1329</td>      <th>  BIC:               </th> <td>2.717e+04</td>\n",
       "</tr>\n",
       "<tr>\n",
       "  <th>Df Model:</th>              <td>     8</td>      <th>                     </th>     <td> </td>    \n",
       "</tr>\n",
       "<tr>\n",
       "  <th>Covariance Type:</th>      <td>nonrobust</td>    <th>                     </th>     <td> </td>    \n",
       "</tr>\n",
       "</table>\n",
       "<table class=\"simpletable\">\n",
       "<tr>\n",
       "       <td></td>         <th>coef</th>     <th>std err</th>      <th>t</th>      <th>P>|t|</th>  <th>[0.025</th>    <th>0.975]</th>  \n",
       "</tr>\n",
       "<tr>\n",
       "  <th>const</th>      <td>-8446.5180</td> <td>  636.479</td> <td>  -13.271</td> <td> 0.000</td> <td>-9695.132</td> <td>-7197.904</td>\n",
       "</tr>\n",
       "<tr>\n",
       "  <th>age</th>        <td>  660.3703</td> <td>   30.870</td> <td>   21.392</td> <td> 0.000</td> <td>  599.810</td> <td>  720.930</td>\n",
       "</tr>\n",
       "<tr>\n",
       "  <th>bmi</th>        <td>   26.4043</td> <td>    2.270</td> <td>   11.632</td> <td> 0.000</td> <td>   21.951</td> <td>   30.857</td>\n",
       "</tr>\n",
       "<tr>\n",
       "  <th>children</th>   <td>  443.1055</td> <td>  138.552</td> <td>    3.198</td> <td> 0.001</td> <td>  171.301</td> <td>  714.910</td>\n",
       "</tr>\n",
       "<tr>\n",
       "  <th>female</th>     <td>  127.9031</td> <td>  334.571</td> <td>    0.382</td> <td> 0.702</td> <td> -528.441</td> <td>  784.247</td>\n",
       "</tr>\n",
       "<tr>\n",
       "  <th>smoker_yes</th> <td> 2.386e+04</td> <td>  415.195</td> <td>   57.475</td> <td> 0.000</td> <td>  2.3e+04</td> <td> 2.47e+04</td>\n",
       "</tr>\n",
       "<tr>\n",
       "  <th>northeast</th>  <td>-1559.1381</td> <td>  323.341</td> <td>   -4.822</td> <td> 0.000</td> <td>-2193.452</td> <td> -924.824</td>\n",
       "</tr>\n",
       "<tr>\n",
       "  <th>northwest</th>  <td>-1848.4035</td> <td>  322.650</td> <td>   -5.729</td> <td> 0.000</td> <td>-2481.363</td> <td>-1215.444</td>\n",
       "</tr>\n",
       "<tr>\n",
       "  <th>southeast</th>  <td>-2583.5993</td> <td>  355.257</td> <td>   -7.272</td> <td> 0.000</td> <td>-3280.525</td> <td>-1886.674</td>\n",
       "</tr>\n",
       "<tr>\n",
       "  <th>southwest</th>  <td>-2455.3770</td> <td>  332.937</td> <td>   -7.375</td> <td> 0.000</td> <td>-3108.517</td> <td>-1802.237</td>\n",
       "</tr>\n",
       "</table>\n",
       "<table class=\"simpletable\">\n",
       "<tr>\n",
       "  <th>Omnibus:</th>       <td>293.264</td> <th>  Durbin-Watson:     </th> <td>   2.090</td> \n",
       "</tr>\n",
       "<tr>\n",
       "  <th>Prob(Omnibus):</th> <td> 0.000</td>  <th>  Jarque-Bera (JB):  </th> <td> 695.917</td> \n",
       "</tr>\n",
       "<tr>\n",
       "  <th>Skew:</th>          <td> 1.187</td>  <th>  Prob(JB):          </th> <td>7.65e-152</td>\n",
       "</tr>\n",
       "<tr>\n",
       "  <th>Kurtosis:</th>      <td> 5.617</td>  <th>  Cond. No.          </th> <td>1.19e+18</td> \n",
       "</tr>\n",
       "</table><br/><br/>Notes:<br/>[1] Standard Errors assume that the covariance matrix of the errors is correctly specified.<br/>[2] The smallest eigenvalue is 6.19e-29. This might indicate that there are<br/>strong multicollinearity problems or that the design matrix is singular."
      ],
      "text/plain": [
       "<class 'statsmodels.iolib.summary.Summary'>\n",
       "\"\"\"\n",
       "                            OLS Regression Results                            \n",
       "==============================================================================\n",
       "Dep. Variable:                charges   R-squared:                       0.748\n",
       "Model:                            OLS   Adj. R-squared:                  0.747\n",
       "Method:                 Least Squares   F-statistic:                     494.3\n",
       "Date:                Fri, 03 Jun 2022   Prob (F-statistic):               0.00\n",
       "Time:                        13:03:36   Log-Likelihood:                -13554.\n",
       "No. Observations:                1338   AIC:                         2.713e+04\n",
       "Df Residuals:                    1329   BIC:                         2.717e+04\n",
       "Df Model:                           8                                         \n",
       "Covariance Type:            nonrobust                                         \n",
       "==============================================================================\n",
       "                 coef    std err          t      P>|t|      [0.025      0.975]\n",
       "------------------------------------------------------------------------------\n",
       "const      -8446.5180    636.479    -13.271      0.000   -9695.132   -7197.904\n",
       "age          660.3703     30.870     21.392      0.000     599.810     720.930\n",
       "bmi           26.4043      2.270     11.632      0.000      21.951      30.857\n",
       "children     443.1055    138.552      3.198      0.001     171.301     714.910\n",
       "female       127.9031    334.571      0.382      0.702    -528.441     784.247\n",
       "smoker_yes  2.386e+04    415.195     57.475      0.000     2.3e+04    2.47e+04\n",
       "northeast  -1559.1381    323.341     -4.822      0.000   -2193.452    -924.824\n",
       "northwest  -1848.4035    322.650     -5.729      0.000   -2481.363   -1215.444\n",
       "southeast  -2583.5993    355.257     -7.272      0.000   -3280.525   -1886.674\n",
       "southwest  -2455.3770    332.937     -7.375      0.000   -3108.517   -1802.237\n",
       "==============================================================================\n",
       "Omnibus:                      293.264   Durbin-Watson:                   2.090\n",
       "Prob(Omnibus):                  0.000   Jarque-Bera (JB):              695.917\n",
       "Skew:                           1.187   Prob(JB):                    7.65e-152\n",
       "Kurtosis:                       5.617   Cond. No.                     1.19e+18\n",
       "==============================================================================\n",
       "\n",
       "Notes:\n",
       "[1] Standard Errors assume that the covariance matrix of the errors is correctly specified.\n",
       "[2] The smallest eigenvalue is 6.19e-29. This might indicate that there are\n",
       "strong multicollinearity problems or that the design matrix is singular.\n",
       "\"\"\""
      ]
     },
     "execution_count": 55,
     "metadata": {},
     "output_type": "execute_result"
    }
   ],
   "source": [
    "# y_train=data.pop('charges')\n",
    "X_train = data.copy()\n",
    "for i in range(0 , len(X_train['bmi'])):\n",
    "    X_train['bmi'][i] = pow(X_train['bmi'][i], 1.6)\n",
    "    X_train['age'][i] = pow(X_train['age'][i], 0.8)\n",
    "# X_train['bmi'] = list(map(lambda x: x, X_train['bmi']))\n",
    "\n",
    "import statsmodels.api as sm\n",
    "X_train_sm = sm.add_constant(X_train)\n",
    "\n",
    "bmi_sq= sm.OLS(y_train, X_train_sm).fit()\n",
    "\n",
    "bmi_sq.summary()"
   ]
  },
  {
   "cell_type": "code",
   "execution_count": 56,
   "metadata": {},
   "outputs": [
    {
     "data": {
      "text/html": [
       "<table class=\"simpletable\">\n",
       "<caption>OLS Regression Results</caption>\n",
       "<tr>\n",
       "  <th>Dep. Variable:</th>         <td>charges</td>     <th>  R-squared:         </th> <td>   0.751</td> \n",
       "</tr>\n",
       "<tr>\n",
       "  <th>Model:</th>                   <td>OLS</td>       <th>  Adj. R-squared:    </th> <td>   0.749</td> \n",
       "</tr>\n",
       "<tr>\n",
       "  <th>Method:</th>             <td>Least Squares</td>  <th>  F-statistic:       </th> <td>   500.8</td> \n",
       "</tr>\n",
       "<tr>\n",
       "  <th>Date:</th>             <td>Fri, 03 Jun 2022</td> <th>  Prob (F-statistic):</th>  <td>  0.00</td>  \n",
       "</tr>\n",
       "<tr>\n",
       "  <th>Time:</th>                 <td>13:03:37</td>     <th>  Log-Likelihood:    </th> <td> -13548.</td> \n",
       "</tr>\n",
       "<tr>\n",
       "  <th>No. Observations:</th>      <td>  1338</td>      <th>  AIC:               </th> <td>2.711e+04</td>\n",
       "</tr>\n",
       "<tr>\n",
       "  <th>Df Residuals:</th>          <td>  1329</td>      <th>  BIC:               </th> <td>2.716e+04</td>\n",
       "</tr>\n",
       "<tr>\n",
       "  <th>Df Model:</th>              <td>     8</td>      <th>                     </th>     <td> </td>    \n",
       "</tr>\n",
       "<tr>\n",
       "  <th>Covariance Type:</th>      <td>nonrobust</td>    <th>                     </th>     <td> </td>    \n",
       "</tr>\n",
       "</table>\n",
       "<table class=\"simpletable\">\n",
       "<tr>\n",
       "       <td></td>         <th>coef</th>     <th>std err</th>      <th>t</th>      <th>P>|t|</th>  <th>[0.025</th>    <th>0.975]</th>  \n",
       "</tr>\n",
       "<tr>\n",
       "  <th>const</th>      <td>-5756.5219</td> <td>  563.468</td> <td>  -10.216</td> <td> 0.000</td> <td>-6861.905</td> <td>-4651.138</td>\n",
       "</tr>\n",
       "<tr>\n",
       "  <th>age</th>        <td>  104.2017</td> <td>    4.780</td> <td>   21.800</td> <td> 0.000</td> <td>   94.825</td> <td>  113.579</td>\n",
       "</tr>\n",
       "<tr>\n",
       "  <th>bmi</th>        <td>   26.2220</td> <td>    2.259</td> <td>   11.605</td> <td> 0.000</td> <td>   21.790</td> <td>   30.655</td>\n",
       "</tr>\n",
       "<tr>\n",
       "  <th>children</th>   <td>  504.8432</td> <td>  137.752</td> <td>    3.665</td> <td> 0.000</td> <td>  234.608</td> <td>  775.078</td>\n",
       "</tr>\n",
       "<tr>\n",
       "  <th>female</th>     <td>  126.5203</td> <td>  332.931</td> <td>    0.380</td> <td> 0.704</td> <td> -526.608</td> <td>  779.649</td>\n",
       "</tr>\n",
       "<tr>\n",
       "  <th>smoker_yes</th> <td> 2.384e+04</td> <td>  413.135</td> <td>   57.706</td> <td> 0.000</td> <td>  2.3e+04</td> <td> 2.47e+04</td>\n",
       "</tr>\n",
       "<tr>\n",
       "  <th>northeast</th>  <td> -872.4546</td> <td>  312.737</td> <td>   -2.790</td> <td> 0.005</td> <td>-1485.967</td> <td> -258.942</td>\n",
       "</tr>\n",
       "<tr>\n",
       "  <th>northwest</th>  <td>-1196.8573</td> <td>  312.726</td> <td>   -3.827</td> <td> 0.000</td> <td>-1810.347</td> <td> -583.368</td>\n",
       "</tr>\n",
       "<tr>\n",
       "  <th>southeast</th>  <td>-1890.0366</td> <td>  346.913</td> <td>   -5.448</td> <td> 0.000</td> <td>-2570.594</td> <td>-1209.479</td>\n",
       "</tr>\n",
       "<tr>\n",
       "  <th>southwest</th>  <td>-1797.1733</td> <td>  323.278</td> <td>   -5.559</td> <td> 0.000</td> <td>-2431.364</td> <td>-1162.983</td>\n",
       "</tr>\n",
       "</table>\n",
       "<table class=\"simpletable\">\n",
       "<tr>\n",
       "  <th>Omnibus:</th>       <td>299.259</td> <th>  Durbin-Watson:     </th> <td>   2.092</td> \n",
       "</tr>\n",
       "<tr>\n",
       "  <th>Prob(Omnibus):</th> <td> 0.000</td>  <th>  Jarque-Bera (JB):  </th> <td> 723.742</td> \n",
       "</tr>\n",
       "<tr>\n",
       "  <th>Skew:</th>          <td> 1.202</td>  <th>  Prob(JB):          </th> <td>6.94e-158</td>\n",
       "</tr>\n",
       "<tr>\n",
       "  <th>Kurtosis:</th>      <td> 5.683</td>  <th>  Cond. No.          </th> <td>1.85e+18</td> \n",
       "</tr>\n",
       "</table><br/><br/>Notes:<br/>[1] Standard Errors assume that the covariance matrix of the errors is correctly specified.<br/>[2] The smallest eigenvalue is 2.8e-29. This might indicate that there are<br/>strong multicollinearity problems or that the design matrix is singular."
      ],
      "text/plain": [
       "<class 'statsmodels.iolib.summary.Summary'>\n",
       "\"\"\"\n",
       "                            OLS Regression Results                            \n",
       "==============================================================================\n",
       "Dep. Variable:                charges   R-squared:                       0.751\n",
       "Model:                            OLS   Adj. R-squared:                  0.749\n",
       "Method:                 Least Squares   F-statistic:                     500.8\n",
       "Date:                Fri, 03 Jun 2022   Prob (F-statistic):               0.00\n",
       "Time:                        13:03:37   Log-Likelihood:                -13548.\n",
       "No. Observations:                1338   AIC:                         2.711e+04\n",
       "Df Residuals:                    1329   BIC:                         2.716e+04\n",
       "Df Model:                           8                                         \n",
       "Covariance Type:            nonrobust                                         \n",
       "==============================================================================\n",
       "                 coef    std err          t      P>|t|      [0.025      0.975]\n",
       "------------------------------------------------------------------------------\n",
       "const      -5756.5219    563.468    -10.216      0.000   -6861.905   -4651.138\n",
       "age          104.2017      4.780     21.800      0.000      94.825     113.579\n",
       "bmi           26.2220      2.259     11.605      0.000      21.790      30.655\n",
       "children     504.8432    137.752      3.665      0.000     234.608     775.078\n",
       "female       126.5203    332.931      0.380      0.704    -526.608     779.649\n",
       "smoker_yes  2.384e+04    413.135     57.706      0.000     2.3e+04    2.47e+04\n",
       "northeast   -872.4546    312.737     -2.790      0.005   -1485.967    -258.942\n",
       "northwest  -1196.8573    312.726     -3.827      0.000   -1810.347    -583.368\n",
       "southeast  -1890.0366    346.913     -5.448      0.000   -2570.594   -1209.479\n",
       "southwest  -1797.1733    323.278     -5.559      0.000   -2431.364   -1162.983\n",
       "==============================================================================\n",
       "Omnibus:                      299.259   Durbin-Watson:                   2.092\n",
       "Prob(Omnibus):                  0.000   Jarque-Bera (JB):              723.742\n",
       "Skew:                           1.202   Prob(JB):                    6.94e-158\n",
       "Kurtosis:                       5.683   Cond. No.                     1.85e+18\n",
       "==============================================================================\n",
       "\n",
       "Notes:\n",
       "[1] Standard Errors assume that the covariance matrix of the errors is correctly specified.\n",
       "[2] The smallest eigenvalue is 2.8e-29. This might indicate that there are\n",
       "strong multicollinearity problems or that the design matrix is singular.\n",
       "\"\"\""
      ]
     },
     "execution_count": 56,
     "metadata": {},
     "output_type": "execute_result"
    }
   ],
   "source": [
    "# y_train=data.pop('charges')\n",
    "X_train = data.copy()\n",
    "for i in range(0 , len(X_train['bmi'])):\n",
    "    X_train['bmi'][i] = pow(X_train['bmi'][i], 1.6)\n",
    "    X_train['age'][i] = pow(X_train['age'][i], 1.2)\n",
    "# X_train['bmi'] = list(map(lambda x: x, X_train['bmi']))\n",
    "\n",
    "import statsmodels.api as sm\n",
    "X_train_sm = sm.add_constant(X_train)\n",
    "\n",
    "bmi_sq= sm.OLS(y_train, X_train_sm).fit()\n",
    "\n",
    "bmi_sq.summary()"
   ]
  },
  {
   "cell_type": "code",
   "execution_count": 57,
   "metadata": {},
   "outputs": [
    {
     "data": {
      "text/html": [
       "<table class=\"simpletable\">\n",
       "<caption>OLS Regression Results</caption>\n",
       "<tr>\n",
       "  <th>Dep. Variable:</th>         <td>charges</td>     <th>  R-squared:         </th> <td>   0.752</td> \n",
       "</tr>\n",
       "<tr>\n",
       "  <th>Model:</th>                   <td>OLS</td>       <th>  Adj. R-squared:    </th> <td>   0.751</td> \n",
       "</tr>\n",
       "<tr>\n",
       "  <th>Method:</th>             <td>Least Squares</td>  <th>  F-statistic:       </th> <td>   503.9</td> \n",
       "</tr>\n",
       "<tr>\n",
       "  <th>Date:</th>             <td>Fri, 03 Jun 2022</td> <th>  Prob (F-statistic):</th>  <td>  0.00</td>  \n",
       "</tr>\n",
       "<tr>\n",
       "  <th>Time:</th>                 <td>13:03:38</td>     <th>  Log-Likelihood:    </th> <td> -13545.</td> \n",
       "</tr>\n",
       "<tr>\n",
       "  <th>No. Observations:</th>      <td>  1338</td>      <th>  AIC:               </th> <td>2.711e+04</td>\n",
       "</tr>\n",
       "<tr>\n",
       "  <th>Df Residuals:</th>          <td>  1329</td>      <th>  BIC:               </th> <td>2.715e+04</td>\n",
       "</tr>\n",
       "<tr>\n",
       "  <th>Df Model:</th>              <td>     8</td>      <th>                     </th>     <td> </td>    \n",
       "</tr>\n",
       "<tr>\n",
       "  <th>Covariance Type:</th>      <td>nonrobust</td>    <th>                     </th>     <td> </td>    \n",
       "</tr>\n",
       "</table>\n",
       "<table class=\"simpletable\">\n",
       "<tr>\n",
       "       <td></td>         <th>coef</th>     <th>std err</th>      <th>t</th>      <th>P>|t|</th>  <th>[0.025</th>    <th>0.975]</th>  \n",
       "</tr>\n",
       "<tr>\n",
       "  <th>const</th>      <td>-4324.8685</td> <td>  534.606</td> <td>   -8.090</td> <td> 0.000</td> <td>-5373.632</td> <td>-3276.105</td>\n",
       "</tr>\n",
       "<tr>\n",
       "  <th>age</th>        <td>   18.0183</td> <td>    0.819</td> <td>   21.991</td> <td> 0.000</td> <td>   16.411</td> <td>   19.626</td>\n",
       "</tr>\n",
       "<tr>\n",
       "  <th>bmi</th>        <td>   26.1039</td> <td>    2.255</td> <td>   11.578</td> <td> 0.000</td> <td>   21.681</td> <td>   30.527</td>\n",
       "</tr>\n",
       "<tr>\n",
       "  <th>children</th>   <td>  559.4120</td> <td>  137.378</td> <td>    4.072</td> <td> 0.000</td> <td>  289.910</td> <td>  828.914</td>\n",
       "</tr>\n",
       "<tr>\n",
       "  <th>female</th>     <td>  128.7134</td> <td>  332.157</td> <td>    0.388</td> <td> 0.698</td> <td> -522.896</td> <td>  780.323</td>\n",
       "</tr>\n",
       "<tr>\n",
       "  <th>smoker_yes</th> <td> 2.385e+04</td> <td>  412.186</td> <td>   57.858</td> <td> 0.000</td> <td>  2.3e+04</td> <td> 2.47e+04</td>\n",
       "</tr>\n",
       "<tr>\n",
       "  <th>northeast</th>  <td> -513.3379</td> <td>  308.668</td> <td>   -1.663</td> <td> 0.097</td> <td>-1118.868</td> <td>   92.192</td>\n",
       "</tr>\n",
       "<tr>\n",
       "  <th>northwest</th>  <td> -845.1433</td> <td>  308.797</td> <td>   -2.737</td> <td> 0.006</td> <td>-1450.926</td> <td> -239.360</td>\n",
       "</tr>\n",
       "<tr>\n",
       "  <th>southeast</th>  <td>-1527.8357</td> <td>  343.917</td> <td>   -4.442</td> <td> 0.000</td> <td>-2202.515</td> <td> -853.157</td>\n",
       "</tr>\n",
       "<tr>\n",
       "  <th>southwest</th>  <td>-1438.5516</td> <td>  319.456</td> <td>   -4.503</td> <td> 0.000</td> <td>-2065.245</td> <td> -811.858</td>\n",
       "</tr>\n",
       "</table>\n",
       "<table class=\"simpletable\">\n",
       "<tr>\n",
       "  <th>Omnibus:</th>       <td>302.594</td> <th>  Durbin-Watson:     </th> <td>   2.095</td> \n",
       "</tr>\n",
       "<tr>\n",
       "  <th>Prob(Omnibus):</th> <td> 0.000</td>  <th>  Jarque-Bera (JB):  </th> <td> 739.741</td> \n",
       "</tr>\n",
       "<tr>\n",
       "  <th>Skew:</th>          <td> 1.211</td>  <th>  Prob(JB):          </th> <td>2.33e-161</td>\n",
       "</tr>\n",
       "<tr>\n",
       "  <th>Kurtosis:</th>      <td> 5.721</td>  <th>  Cond. No.          </th> <td>3.14e+18</td> \n",
       "</tr>\n",
       "</table><br/><br/>Notes:<br/>[1] Standard Errors assume that the covariance matrix of the errors is correctly specified.<br/>[2] The smallest eigenvalue is 3.17e-29. This might indicate that there are<br/>strong multicollinearity problems or that the design matrix is singular."
      ],
      "text/plain": [
       "<class 'statsmodels.iolib.summary.Summary'>\n",
       "\"\"\"\n",
       "                            OLS Regression Results                            \n",
       "==============================================================================\n",
       "Dep. Variable:                charges   R-squared:                       0.752\n",
       "Model:                            OLS   Adj. R-squared:                  0.751\n",
       "Method:                 Least Squares   F-statistic:                     503.9\n",
       "Date:                Fri, 03 Jun 2022   Prob (F-statistic):               0.00\n",
       "Time:                        13:03:38   Log-Likelihood:                -13545.\n",
       "No. Observations:                1338   AIC:                         2.711e+04\n",
       "Df Residuals:                    1329   BIC:                         2.715e+04\n",
       "Df Model:                           8                                         \n",
       "Covariance Type:            nonrobust                                         \n",
       "==============================================================================\n",
       "                 coef    std err          t      P>|t|      [0.025      0.975]\n",
       "------------------------------------------------------------------------------\n",
       "const      -4324.8685    534.606     -8.090      0.000   -5373.632   -3276.105\n",
       "age           18.0183      0.819     21.991      0.000      16.411      19.626\n",
       "bmi           26.1039      2.255     11.578      0.000      21.681      30.527\n",
       "children     559.4120    137.378      4.072      0.000     289.910     828.914\n",
       "female       128.7134    332.157      0.388      0.698    -522.896     780.323\n",
       "smoker_yes  2.385e+04    412.186     57.858      0.000     2.3e+04    2.47e+04\n",
       "northeast   -513.3379    308.668     -1.663      0.097   -1118.868      92.192\n",
       "northwest   -845.1433    308.797     -2.737      0.006   -1450.926    -239.360\n",
       "southeast  -1527.8357    343.917     -4.442      0.000   -2202.515    -853.157\n",
       "southwest  -1438.5516    319.456     -4.503      0.000   -2065.245    -811.858\n",
       "==============================================================================\n",
       "Omnibus:                      302.594   Durbin-Watson:                   2.095\n",
       "Prob(Omnibus):                  0.000   Jarque-Bera (JB):              739.741\n",
       "Skew:                           1.211   Prob(JB):                    2.33e-161\n",
       "Kurtosis:                       5.721   Cond. No.                     3.14e+18\n",
       "==============================================================================\n",
       "\n",
       "Notes:\n",
       "[1] Standard Errors assume that the covariance matrix of the errors is correctly specified.\n",
       "[2] The smallest eigenvalue is 3.17e-29. This might indicate that there are\n",
       "strong multicollinearity problems or that the design matrix is singular.\n",
       "\"\"\""
      ]
     },
     "execution_count": 57,
     "metadata": {},
     "output_type": "execute_result"
    }
   ],
   "source": [
    "# y_train=data.pop('charges')\n",
    "X_train = data.copy()\n",
    "for i in range(0 , len(X_train['bmi'])):\n",
    "    X_train['bmi'][i] = pow(X_train['bmi'][i], 1.6)\n",
    "    X_train['age'][i] = pow(X_train['age'][i], 1.6)\n",
    "# X_train['bmi'] = list(map(lambda x: x, X_train['bmi']))\n",
    "\n",
    "import statsmodels.api as sm\n",
    "X_train_sm = sm.add_constant(X_train)\n",
    "\n",
    "bmi_sq= sm.OLS(y_train, X_train_sm).fit()\n",
    "\n",
    "bmi_sq.summary()"
   ]
  },
  {
   "cell_type": "code",
   "execution_count": 58,
   "metadata": {},
   "outputs": [
    {
     "data": {
      "text/html": [
       "<table class=\"simpletable\">\n",
       "<caption>OLS Regression Results</caption>\n",
       "<tr>\n",
       "  <th>Dep. Variable:</th>         <td>charges</td>     <th>  R-squared:         </th> <td>   0.733</td> \n",
       "</tr>\n",
       "<tr>\n",
       "  <th>Model:</th>                   <td>OLS</td>       <th>  Adj. R-squared:    </th> <td>   0.731</td> \n",
       "</tr>\n",
       "<tr>\n",
       "  <th>Method:</th>             <td>Least Squares</td>  <th>  F-statistic:       </th> <td>   455.1</td> \n",
       "</tr>\n",
       "<tr>\n",
       "  <th>Date:</th>             <td>Fri, 03 Jun 2022</td> <th>  Prob (F-statistic):</th>  <td>  0.00</td>  \n",
       "</tr>\n",
       "<tr>\n",
       "  <th>Time:</th>                 <td>13:03:38</td>     <th>  Log-Likelihood:    </th> <td> -13595.</td> \n",
       "</tr>\n",
       "<tr>\n",
       "  <th>No. Observations:</th>      <td>  1338</td>      <th>  AIC:               </th> <td>2.721e+04</td>\n",
       "</tr>\n",
       "<tr>\n",
       "  <th>Df Residuals:</th>          <td>  1329</td>      <th>  BIC:               </th> <td>2.726e+04</td>\n",
       "</tr>\n",
       "<tr>\n",
       "  <th>Df Model:</th>              <td>     8</td>      <th>                     </th>     <td> </td>    \n",
       "</tr>\n",
       "<tr>\n",
       "  <th>Covariance Type:</th>      <td>nonrobust</td>    <th>                     </th>     <td> </td>    \n",
       "</tr>\n",
       "</table>\n",
       "<table class=\"simpletable\">\n",
       "<tr>\n",
       "       <td></td>         <th>coef</th>     <th>std err</th>      <th>t</th>      <th>P>|t|</th>  <th>[0.025</th>    <th>0.975]</th>  \n",
       "</tr>\n",
       "<tr>\n",
       "  <th>const</th>      <td>-1.513e+04</td> <td>  952.263</td> <td>  -15.889</td> <td> 0.000</td> <td> -1.7e+04</td> <td>-1.33e+04</td>\n",
       "</tr>\n",
       "<tr>\n",
       "  <th>age</th>        <td> 4651.2888</td> <td>  250.280</td> <td>   18.584</td> <td> 0.000</td> <td> 4160.302</td> <td> 5142.276</td>\n",
       "</tr>\n",
       "<tr>\n",
       "  <th>bmi</th>        <td>  145.5311</td> <td>   12.415</td> <td>   11.722</td> <td> 0.000</td> <td>  121.175</td> <td>  169.887</td>\n",
       "</tr>\n",
       "<tr>\n",
       "  <th>children</th>   <td>  582.4533</td> <td>  142.670</td> <td>    4.083</td> <td> 0.000</td> <td>  302.570</td> <td>  862.337</td>\n",
       "</tr>\n",
       "<tr>\n",
       "  <th>female</th>     <td>  158.9681</td> <td>  344.972</td> <td>    0.461</td> <td> 0.645</td> <td> -517.782</td> <td>  835.718</td>\n",
       "</tr>\n",
       "<tr>\n",
       "  <th>smoker_yes</th> <td> 2.379e+04</td> <td>  428.057</td> <td>   55.580</td> <td> 0.000</td> <td>  2.3e+04</td> <td> 2.46e+04</td>\n",
       "</tr>\n",
       "<tr>\n",
       "  <th>northeast</th>  <td>-3177.9997</td> <td>  371.836</td> <td>   -8.547</td> <td> 0.000</td> <td>-3907.450</td> <td>-2448.550</td>\n",
       "</tr>\n",
       "<tr>\n",
       "  <th>northwest</th>  <td>-3540.3168</td> <td>  371.951</td> <td>   -9.518</td> <td> 0.000</td> <td>-4269.993</td> <td>-2810.641</td>\n",
       "</tr>\n",
       "<tr>\n",
       "  <th>southeast</th>  <td>-4275.9162</td> <td>  409.833</td> <td>  -10.433</td> <td> 0.000</td> <td>-5079.907</td> <td>-3471.925</td>\n",
       "</tr>\n",
       "<tr>\n",
       "  <th>southwest</th>  <td>-4136.1458</td> <td>  384.822</td> <td>  -10.748</td> <td> 0.000</td> <td>-4891.070</td> <td>-3381.221</td>\n",
       "</tr>\n",
       "</table>\n",
       "<table class=\"simpletable\">\n",
       "<tr>\n",
       "  <th>Omnibus:</th>       <td>284.703</td> <th>  Durbin-Watson:     </th> <td>   2.071</td> \n",
       "</tr>\n",
       "<tr>\n",
       "  <th>Prob(Omnibus):</th> <td> 0.000</td>  <th>  Jarque-Bera (JB):  </th> <td> 664.036</td> \n",
       "</tr>\n",
       "<tr>\n",
       "  <th>Skew:</th>          <td> 1.161</td>  <th>  Prob(JB):          </th> <td>6.40e-145</td>\n",
       "</tr>\n",
       "<tr>\n",
       "  <th>Kurtosis:</th>      <td> 5.554</td>  <th>  Cond. No.          </th> <td>3.12e+17</td> \n",
       "</tr>\n",
       "</table><br/><br/>Notes:<br/>[1] Standard Errors assume that the covariance matrix of the errors is correctly specified.<br/>[2] The smallest eigenvalue is 5.43e-29. This might indicate that there are<br/>strong multicollinearity problems or that the design matrix is singular."
      ],
      "text/plain": [
       "<class 'statsmodels.iolib.summary.Summary'>\n",
       "\"\"\"\n",
       "                            OLS Regression Results                            \n",
       "==============================================================================\n",
       "Dep. Variable:                charges   R-squared:                       0.733\n",
       "Model:                            OLS   Adj. R-squared:                  0.731\n",
       "Method:                 Least Squares   F-statistic:                     455.1\n",
       "Date:                Fri, 03 Jun 2022   Prob (F-statistic):               0.00\n",
       "Time:                        13:03:38   Log-Likelihood:                -13595.\n",
       "No. Observations:                1338   AIC:                         2.721e+04\n",
       "Df Residuals:                    1329   BIC:                         2.726e+04\n",
       "Df Model:                           8                                         \n",
       "Covariance Type:            nonrobust                                         \n",
       "==============================================================================\n",
       "                 coef    std err          t      P>|t|      [0.025      0.975]\n",
       "------------------------------------------------------------------------------\n",
       "const      -1.513e+04    952.263    -15.889      0.000    -1.7e+04   -1.33e+04\n",
       "age         4651.2888    250.280     18.584      0.000    4160.302    5142.276\n",
       "bmi          145.5311     12.415     11.722      0.000     121.175     169.887\n",
       "children     582.4533    142.670      4.083      0.000     302.570     862.337\n",
       "female       158.9681    344.972      0.461      0.645    -517.782     835.718\n",
       "smoker_yes  2.379e+04    428.057     55.580      0.000     2.3e+04    2.46e+04\n",
       "northeast  -3177.9997    371.836     -8.547      0.000   -3907.450   -2448.550\n",
       "northwest  -3540.3168    371.951     -9.518      0.000   -4269.993   -2810.641\n",
       "southeast  -4275.9162    409.833    -10.433      0.000   -5079.907   -3471.925\n",
       "southwest  -4136.1458    384.822    -10.748      0.000   -4891.070   -3381.221\n",
       "==============================================================================\n",
       "Omnibus:                      284.703   Durbin-Watson:                   2.071\n",
       "Prob(Omnibus):                  0.000   Jarque-Bera (JB):              664.036\n",
       "Skew:                           1.161   Prob(JB):                    6.40e-145\n",
       "Kurtosis:                       5.554   Cond. No.                     3.12e+17\n",
       "==============================================================================\n",
       "\n",
       "Notes:\n",
       "[1] Standard Errors assume that the covariance matrix of the errors is correctly specified.\n",
       "[2] The smallest eigenvalue is 5.43e-29. This might indicate that there are\n",
       "strong multicollinearity problems or that the design matrix is singular.\n",
       "\"\"\""
      ]
     },
     "execution_count": 58,
     "metadata": {},
     "output_type": "execute_result"
    }
   ],
   "source": [
    "# y_train=data.pop('charges')\n",
    "X_train = data.copy()\n",
    "for i in range(0 , len(X_train['bmi'])):\n",
    "    X_train['bmi'][i] = pow(X_train['bmi'][i], 1.2)\n",
    "    X_train['age'][i] = pow(X_train['age'][i], 0.4)\n",
    "# X_train['bmi'] = list(map(lambda x: x, X_train['bmi']))\n",
    "\n",
    "import statsmodels.api as sm\n",
    "X_train_sm = sm.add_constant(X_train)\n",
    "\n",
    "bmi_sq= sm.OLS(y_train, X_train_sm).fit()\n",
    "\n",
    "bmi_sq.summary()"
   ]
  },
  {
   "cell_type": "code",
   "execution_count": 59,
   "metadata": {},
   "outputs": [
    {
     "data": {
      "text/html": [
       "<table class=\"simpletable\">\n",
       "<caption>OLS Regression Results</caption>\n",
       "<tr>\n",
       "  <th>Dep. Variable:</th>         <td>charges</td>     <th>  R-squared:         </th> <td>   0.749</td> \n",
       "</tr>\n",
       "<tr>\n",
       "  <th>Model:</th>                   <td>OLS</td>       <th>  Adj. R-squared:    </th> <td>   0.748</td> \n",
       "</tr>\n",
       "<tr>\n",
       "  <th>Method:</th>             <td>Least Squares</td>  <th>  F-statistic:       </th> <td>   496.1</td> \n",
       "</tr>\n",
       "<tr>\n",
       "  <th>Date:</th>             <td>Fri, 03 Jun 2022</td> <th>  Prob (F-statistic):</th>  <td>  0.00</td>  \n",
       "</tr>\n",
       "<tr>\n",
       "  <th>Time:</th>                 <td>13:03:39</td>     <th>  Log-Likelihood:    </th> <td> -13552.</td> \n",
       "</tr>\n",
       "<tr>\n",
       "  <th>No. Observations:</th>      <td>  1338</td>      <th>  AIC:               </th> <td>2.712e+04</td>\n",
       "</tr>\n",
       "<tr>\n",
       "  <th>Df Residuals:</th>          <td>  1329</td>      <th>  BIC:               </th> <td>2.717e+04</td>\n",
       "</tr>\n",
       "<tr>\n",
       "  <th>Df Model:</th>              <td>     8</td>      <th>                     </th>     <td> </td>    \n",
       "</tr>\n",
       "<tr>\n",
       "  <th>Covariance Type:</th>      <td>nonrobust</td>    <th>                     </th>     <td> </td>    \n",
       "</tr>\n",
       "</table>\n",
       "<table class=\"simpletable\">\n",
       "<tr>\n",
       "       <td></td>         <th>coef</th>     <th>std err</th>      <th>t</th>      <th>P>|t|</th>  <th>[0.025</th>    <th>0.975]</th>  \n",
       "</tr>\n",
       "<tr>\n",
       "  <th>const</th>      <td>-1.022e+04</td> <td>  734.494</td> <td>  -13.908</td> <td> 0.000</td> <td>-1.17e+04</td> <td>-8774.623</td>\n",
       "</tr>\n",
       "<tr>\n",
       "  <th>age</th>        <td>  658.6123</td> <td>   30.840</td> <td>   21.356</td> <td> 0.000</td> <td>  598.112</td> <td>  719.112</td>\n",
       "</tr>\n",
       "<tr>\n",
       "  <th>bmi</th>        <td>  141.9626</td> <td>   12.028</td> <td>   11.803</td> <td> 0.000</td> <td>  118.367</td> <td>  165.558</td>\n",
       "</tr>\n",
       "<tr>\n",
       "  <th>children</th>   <td>  443.3069</td> <td>  138.362</td> <td>    3.204</td> <td> 0.001</td> <td>  171.875</td> <td>  714.739</td>\n",
       "</tr>\n",
       "<tr>\n",
       "  <th>female</th>     <td>  131.3664</td> <td>  334.117</td> <td>    0.393</td> <td> 0.694</td> <td> -524.088</td> <td>  786.821</td>\n",
       "</tr>\n",
       "<tr>\n",
       "  <th>smoker_yes</th> <td> 2.387e+04</td> <td>  414.633</td> <td>   57.566</td> <td> 0.000</td> <td> 2.31e+04</td> <td> 2.47e+04</td>\n",
       "</tr>\n",
       "<tr>\n",
       "  <th>northeast</th>  <td>-1987.6020</td> <td>  331.287</td> <td>   -6.000</td> <td> 0.000</td> <td>-2637.505</td> <td>-1337.699</td>\n",
       "</tr>\n",
       "<tr>\n",
       "  <th>northwest</th>  <td>-2296.0548</td> <td>  330.903</td> <td>   -6.939</td> <td> 0.000</td> <td>-2945.203</td> <td>-1646.906</td>\n",
       "</tr>\n",
       "<tr>\n",
       "  <th>southeast</th>  <td>-3024.9218</td> <td>  373.834</td> <td>   -8.092</td> <td> 0.000</td> <td>-3758.291</td> <td>-2291.553</td>\n",
       "</tr>\n",
       "<tr>\n",
       "  <th>southwest</th>  <td>-2906.9388</td> <td>  345.168</td> <td>   -8.422</td> <td> 0.000</td> <td>-3584.073</td> <td>-2229.805</td>\n",
       "</tr>\n",
       "</table>\n",
       "<table class=\"simpletable\">\n",
       "<tr>\n",
       "  <th>Omnibus:</th>       <td>295.657</td> <th>  Durbin-Watson:     </th> <td>   2.088</td> \n",
       "</tr>\n",
       "<tr>\n",
       "  <th>Prob(Omnibus):</th> <td> 0.000</td>  <th>  Jarque-Bera (JB):  </th> <td> 700.359</td> \n",
       "</tr>\n",
       "<tr>\n",
       "  <th>Skew:</th>          <td> 1.197</td>  <th>  Prob(JB):          </th> <td>8.30e-153</td>\n",
       "</tr>\n",
       "<tr>\n",
       "  <th>Kurtosis:</th>      <td> 5.613</td>  <th>  Cond. No.          </th> <td>2.21e+17</td> \n",
       "</tr>\n",
       "</table><br/><br/>Notes:<br/>[1] Standard Errors assume that the covariance matrix of the errors is correctly specified.<br/>[2] The smallest eigenvalue is 1.17e-28. This might indicate that there are<br/>strong multicollinearity problems or that the design matrix is singular."
      ],
      "text/plain": [
       "<class 'statsmodels.iolib.summary.Summary'>\n",
       "\"\"\"\n",
       "                            OLS Regression Results                            \n",
       "==============================================================================\n",
       "Dep. Variable:                charges   R-squared:                       0.749\n",
       "Model:                            OLS   Adj. R-squared:                  0.748\n",
       "Method:                 Least Squares   F-statistic:                     496.1\n",
       "Date:                Fri, 03 Jun 2022   Prob (F-statistic):               0.00\n",
       "Time:                        13:03:39   Log-Likelihood:                -13552.\n",
       "No. Observations:                1338   AIC:                         2.712e+04\n",
       "Df Residuals:                    1329   BIC:                         2.717e+04\n",
       "Df Model:                           8                                         \n",
       "Covariance Type:            nonrobust                                         \n",
       "==============================================================================\n",
       "                 coef    std err          t      P>|t|      [0.025      0.975]\n",
       "------------------------------------------------------------------------------\n",
       "const      -1.022e+04    734.494    -13.908      0.000   -1.17e+04   -8774.623\n",
       "age          658.6123     30.840     21.356      0.000     598.112     719.112\n",
       "bmi          141.9626     12.028     11.803      0.000     118.367     165.558\n",
       "children     443.3069    138.362      3.204      0.001     171.875     714.739\n",
       "female       131.3664    334.117      0.393      0.694    -524.088     786.821\n",
       "smoker_yes  2.387e+04    414.633     57.566      0.000    2.31e+04    2.47e+04\n",
       "northeast  -1987.6020    331.287     -6.000      0.000   -2637.505   -1337.699\n",
       "northwest  -2296.0548    330.903     -6.939      0.000   -2945.203   -1646.906\n",
       "southeast  -3024.9218    373.834     -8.092      0.000   -3758.291   -2291.553\n",
       "southwest  -2906.9388    345.168     -8.422      0.000   -3584.073   -2229.805\n",
       "==============================================================================\n",
       "Omnibus:                      295.657   Durbin-Watson:                   2.088\n",
       "Prob(Omnibus):                  0.000   Jarque-Bera (JB):              700.359\n",
       "Skew:                           1.197   Prob(JB):                    8.30e-153\n",
       "Kurtosis:                       5.613   Cond. No.                     2.21e+17\n",
       "==============================================================================\n",
       "\n",
       "Notes:\n",
       "[1] Standard Errors assume that the covariance matrix of the errors is correctly specified.\n",
       "[2] The smallest eigenvalue is 1.17e-28. This might indicate that there are\n",
       "strong multicollinearity problems or that the design matrix is singular.\n",
       "\"\"\""
      ]
     },
     "execution_count": 59,
     "metadata": {},
     "output_type": "execute_result"
    }
   ],
   "source": [
    "# y_train=data.pop('charges')\n",
    "X_train = data.copy()\n",
    "for i in range(0 , len(X_train['bmi'])):\n",
    "    X_train['bmi'][i] = pow(X_train['bmi'][i], 1.2)\n",
    "    X_train['age'][i] = pow(X_train['age'][i], 0.8)\n",
    "# X_train['bmi'] = list(map(lambda x: x, X_train['bmi']))\n",
    "\n",
    "import statsmodels.api as sm\n",
    "X_train_sm = sm.add_constant(X_train)\n",
    "\n",
    "bmi_sq= sm.OLS(y_train, X_train_sm).fit()\n",
    "\n",
    "bmi_sq.summary()"
   ]
  },
  {
   "cell_type": "code",
   "execution_count": 60,
   "metadata": {},
   "outputs": [
    {
     "data": {
      "text/html": [
       "<table class=\"simpletable\">\n",
       "<caption>OLS Regression Results</caption>\n",
       "<tr>\n",
       "  <th>Dep. Variable:</th>         <td>charges</td>     <th>  R-squared:         </th> <td>   0.752</td> \n",
       "</tr>\n",
       "<tr>\n",
       "  <th>Model:</th>                   <td>OLS</td>       <th>  Adj. R-squared:    </th> <td>   0.750</td> \n",
       "</tr>\n",
       "<tr>\n",
       "  <th>Method:</th>             <td>Least Squares</td>  <th>  F-statistic:       </th> <td>   502.7</td> \n",
       "</tr>\n",
       "<tr>\n",
       "  <th>Date:</th>             <td>Fri, 03 Jun 2022</td> <th>  Prob (F-statistic):</th>  <td>  0.00</td>  \n",
       "</tr>\n",
       "<tr>\n",
       "  <th>Time:</th>                 <td>13:03:39</td>     <th>  Log-Likelihood:    </th> <td> -13546.</td> \n",
       "</tr>\n",
       "<tr>\n",
       "  <th>No. Observations:</th>      <td>  1338</td>      <th>  AIC:               </th> <td>2.711e+04</td>\n",
       "</tr>\n",
       "<tr>\n",
       "  <th>Df Residuals:</th>          <td>  1329</td>      <th>  BIC:               </th> <td>2.716e+04</td>\n",
       "</tr>\n",
       "<tr>\n",
       "  <th>Df Model:</th>              <td>     8</td>      <th>                     </th>     <td> </td>    \n",
       "</tr>\n",
       "<tr>\n",
       "  <th>Covariance Type:</th>      <td>nonrobust</td>    <th>                     </th>     <td> </td>    \n",
       "</tr>\n",
       "</table>\n",
       "<table class=\"simpletable\">\n",
       "<tr>\n",
       "       <td></td>         <th>coef</th>     <th>std err</th>      <th>t</th>      <th>P>|t|</th>  <th>[0.025</th>    <th>0.975]</th>  \n",
       "</tr>\n",
       "<tr>\n",
       "  <th>const</th>      <td>-7520.4749</td> <td>  674.704</td> <td>  -11.146</td> <td> 0.000</td> <td>-8844.076</td> <td>-6196.873</td>\n",
       "</tr>\n",
       "<tr>\n",
       "  <th>age</th>        <td>  103.9280</td> <td>    4.775</td> <td>   21.764</td> <td> 0.000</td> <td>   94.560</td> <td>  113.296</td>\n",
       "</tr>\n",
       "<tr>\n",
       "  <th>bmi</th>        <td>  140.9833</td> <td>   11.972</td> <td>   11.776</td> <td> 0.000</td> <td>  117.497</td> <td>  164.469</td>\n",
       "</tr>\n",
       "<tr>\n",
       "  <th>children</th>   <td>  504.8787</td> <td>  137.564</td> <td>    3.670</td> <td> 0.000</td> <td>  235.012</td> <td>  774.745</td>\n",
       "</tr>\n",
       "<tr>\n",
       "  <th>female</th>     <td>  129.9583</td> <td>  332.482</td> <td>    0.391</td> <td> 0.696</td> <td> -522.289</td> <td>  782.206</td>\n",
       "</tr>\n",
       "<tr>\n",
       "  <th>smoker_yes</th> <td> 2.385e+04</td> <td>  412.578</td> <td>   57.797</td> <td> 0.000</td> <td>  2.3e+04</td> <td> 2.47e+04</td>\n",
       "</tr>\n",
       "<tr>\n",
       "  <th>northeast</th>  <td>-1299.7964</td> <td>  321.313</td> <td>   -4.045</td> <td> 0.000</td> <td>-1930.133</td> <td> -669.460</td>\n",
       "</tr>\n",
       "<tr>\n",
       "  <th>northwest</th>  <td>-1643.1610</td> <td>  321.590</td> <td>   -5.109</td> <td> 0.000</td> <td>-2274.041</td> <td>-1012.281</td>\n",
       "</tr>\n",
       "<tr>\n",
       "  <th>southeast</th>  <td>-2330.1450</td> <td>  366.157</td> <td>   -6.364</td> <td> 0.000</td> <td>-3048.454</td> <td>-1611.836</td>\n",
       "</tr>\n",
       "<tr>\n",
       "  <th>southwest</th>  <td>-2247.3725</td> <td>  336.175</td> <td>   -6.685</td> <td> 0.000</td> <td>-2906.864</td> <td>-1587.881</td>\n",
       "</tr>\n",
       "</table>\n",
       "<table class=\"simpletable\">\n",
       "<tr>\n",
       "  <th>Omnibus:</th>       <td>301.738</td> <th>  Durbin-Watson:     </th> <td>   2.090</td> \n",
       "</tr>\n",
       "<tr>\n",
       "  <th>Prob(Omnibus):</th> <td> 0.000</td>  <th>  Jarque-Bera (JB):  </th> <td> 728.594</td> \n",
       "</tr>\n",
       "<tr>\n",
       "  <th>Skew:</th>          <td> 1.213</td>  <th>  Prob(JB):          </th> <td>6.13e-159</td>\n",
       "</tr>\n",
       "<tr>\n",
       "  <th>Kurtosis:</th>      <td> 5.681</td>  <th>  Cond. No.          </th> <td>5.64e+17</td> \n",
       "</tr>\n",
       "</table><br/><br/>Notes:<br/>[1] Standard Errors assume that the covariance matrix of the errors is correctly specified.<br/>[2] The smallest eigenvalue is 4.83e-29. This might indicate that there are<br/>strong multicollinearity problems or that the design matrix is singular."
      ],
      "text/plain": [
       "<class 'statsmodels.iolib.summary.Summary'>\n",
       "\"\"\"\n",
       "                            OLS Regression Results                            \n",
       "==============================================================================\n",
       "Dep. Variable:                charges   R-squared:                       0.752\n",
       "Model:                            OLS   Adj. R-squared:                  0.750\n",
       "Method:                 Least Squares   F-statistic:                     502.7\n",
       "Date:                Fri, 03 Jun 2022   Prob (F-statistic):               0.00\n",
       "Time:                        13:03:39   Log-Likelihood:                -13546.\n",
       "No. Observations:                1338   AIC:                         2.711e+04\n",
       "Df Residuals:                    1329   BIC:                         2.716e+04\n",
       "Df Model:                           8                                         \n",
       "Covariance Type:            nonrobust                                         \n",
       "==============================================================================\n",
       "                 coef    std err          t      P>|t|      [0.025      0.975]\n",
       "------------------------------------------------------------------------------\n",
       "const      -7520.4749    674.704    -11.146      0.000   -8844.076   -6196.873\n",
       "age          103.9280      4.775     21.764      0.000      94.560     113.296\n",
       "bmi          140.9833     11.972     11.776      0.000     117.497     164.469\n",
       "children     504.8787    137.564      3.670      0.000     235.012     774.745\n",
       "female       129.9583    332.482      0.391      0.696    -522.289     782.206\n",
       "smoker_yes  2.385e+04    412.578     57.797      0.000     2.3e+04    2.47e+04\n",
       "northeast  -1299.7964    321.313     -4.045      0.000   -1930.133    -669.460\n",
       "northwest  -1643.1610    321.590     -5.109      0.000   -2274.041   -1012.281\n",
       "southeast  -2330.1450    366.157     -6.364      0.000   -3048.454   -1611.836\n",
       "southwest  -2247.3725    336.175     -6.685      0.000   -2906.864   -1587.881\n",
       "==============================================================================\n",
       "Omnibus:                      301.738   Durbin-Watson:                   2.090\n",
       "Prob(Omnibus):                  0.000   Jarque-Bera (JB):              728.594\n",
       "Skew:                           1.213   Prob(JB):                    6.13e-159\n",
       "Kurtosis:                       5.681   Cond. No.                     5.64e+17\n",
       "==============================================================================\n",
       "\n",
       "Notes:\n",
       "[1] Standard Errors assume that the covariance matrix of the errors is correctly specified.\n",
       "[2] The smallest eigenvalue is 4.83e-29. This might indicate that there are\n",
       "strong multicollinearity problems or that the design matrix is singular.\n",
       "\"\"\""
      ]
     },
     "execution_count": 60,
     "metadata": {},
     "output_type": "execute_result"
    }
   ],
   "source": [
    "# y_train=data.pop('charges')\n",
    "X_train = data.copy()\n",
    "for i in range(0 , len(X_train['bmi'])):\n",
    "    X_train['bmi'][i] = pow(X_train['bmi'][i], 1.2)\n",
    "    X_train['age'][i] = pow(X_train['age'][i], 1.2)\n",
    "# X_train['bmi'] = list(map(lambda x: x, X_train['bmi']))\n",
    "\n",
    "import statsmodels.api as sm\n",
    "X_train_sm = sm.add_constant(X_train)\n",
    "\n",
    "bmi_sq= sm.OLS(y_train, X_train_sm).fit()\n",
    "\n",
    "bmi_sq.summary()"
   ]
  },
  {
   "cell_type": "code",
   "execution_count": 61,
   "metadata": {},
   "outputs": [
    {
     "data": {
      "text/html": [
       "<table class=\"simpletable\">\n",
       "<caption>OLS Regression Results</caption>\n",
       "<tr>\n",
       "  <th>Dep. Variable:</th>         <td>charges</td>     <th>  R-squared:         </th> <td>   0.753</td> \n",
       "</tr>\n",
       "<tr>\n",
       "  <th>Model:</th>                   <td>OLS</td>       <th>  Adj. R-squared:    </th> <td>   0.751</td> \n",
       "</tr>\n",
       "<tr>\n",
       "  <th>Method:</th>             <td>Least Squares</td>  <th>  F-statistic:       </th> <td>   505.8</td> \n",
       "</tr>\n",
       "<tr>\n",
       "  <th>Date:</th>             <td>Fri, 03 Jun 2022</td> <th>  Prob (F-statistic):</th>  <td>  0.00</td>  \n",
       "</tr>\n",
       "<tr>\n",
       "  <th>Time:</th>                 <td>13:03:40</td>     <th>  Log-Likelihood:    </th> <td> -13543.</td> \n",
       "</tr>\n",
       "<tr>\n",
       "  <th>No. Observations:</th>      <td>  1338</td>      <th>  AIC:               </th> <td>2.710e+04</td>\n",
       "</tr>\n",
       "<tr>\n",
       "  <th>Df Residuals:</th>          <td>  1329</td>      <th>  BIC:               </th> <td>2.715e+04</td>\n",
       "</tr>\n",
       "<tr>\n",
       "  <th>Df Model:</th>              <td>     8</td>      <th>                     </th>     <td> </td>    \n",
       "</tr>\n",
       "<tr>\n",
       "  <th>Covariance Type:</th>      <td>nonrobust</td>    <th>                     </th>     <td> </td>    \n",
       "</tr>\n",
       "</table>\n",
       "<table class=\"simpletable\">\n",
       "<tr>\n",
       "       <td></td>         <th>coef</th>     <th>std err</th>      <th>t</th>      <th>P>|t|</th>  <th>[0.025</th>    <th>0.975]</th>  \n",
       "</tr>\n",
       "<tr>\n",
       "  <th>const</th>      <td>-6085.5725</td> <td>  652.168</td> <td>   -9.331</td> <td> 0.000</td> <td>-7364.964</td> <td>-4806.181</td>\n",
       "</tr>\n",
       "<tr>\n",
       "  <th>age</th>        <td>   17.9716</td> <td>    0.819</td> <td>   21.956</td> <td> 0.000</td> <td>   16.366</td> <td>   19.577</td>\n",
       "</tr>\n",
       "<tr>\n",
       "  <th>bmi</th>        <td>  140.3661</td> <td>   11.946</td> <td>   11.750</td> <td> 0.000</td> <td>  116.930</td> <td>  163.802</td>\n",
       "</tr>\n",
       "<tr>\n",
       "  <th>children</th>   <td>  559.3001</td> <td>  137.190</td> <td>    4.077</td> <td> 0.000</td> <td>  290.168</td> <td>  828.433</td>\n",
       "</tr>\n",
       "<tr>\n",
       "  <th>female</th>     <td>  132.1464</td> <td>  331.707</td> <td>    0.398</td> <td> 0.690</td> <td> -518.580</td> <td>  782.873</td>\n",
       "</tr>\n",
       "<tr>\n",
       "  <th>smoker_yes</th> <td> 2.385e+04</td> <td>  411.627</td> <td>   57.950</td> <td> 0.000</td> <td>  2.3e+04</td> <td> 2.47e+04</td>\n",
       "</tr>\n",
       "<tr>\n",
       "  <th>northeast</th>  <td> -939.8792</td> <td>  317.542</td> <td>   -2.960</td> <td> 0.003</td> <td>-1562.818</td> <td> -316.941</td>\n",
       "</tr>\n",
       "<tr>\n",
       "  <th>northwest</th>  <td>-1290.5405</td> <td>  317.962</td> <td>   -4.059</td> <td> 0.000</td> <td>-1914.302</td> <td> -666.779</td>\n",
       "</tr>\n",
       "<tr>\n",
       "  <th>southeast</th>  <td>-1967.2527</td> <td>  363.448</td> <td>   -5.413</td> <td> 0.000</td> <td>-2680.247</td> <td>-1254.258</td>\n",
       "</tr>\n",
       "<tr>\n",
       "  <th>southwest</th>  <td>-1887.9001</td> <td>  332.674</td> <td>   -5.675</td> <td> 0.000</td> <td>-2540.523</td> <td>-1235.277</td>\n",
       "</tr>\n",
       "</table>\n",
       "<table class=\"simpletable\">\n",
       "<tr>\n",
       "  <th>Omnibus:</th>       <td>305.104</td> <th>  Durbin-Watson:     </th> <td>   2.093</td> \n",
       "</tr>\n",
       "<tr>\n",
       "  <th>Prob(Omnibus):</th> <td> 0.000</td>  <th>  Jarque-Bera (JB):  </th> <td> 744.812</td> \n",
       "</tr>\n",
       "<tr>\n",
       "  <th>Skew:</th>          <td> 1.221</td>  <th>  Prob(JB):          </th> <td>1.85e-162</td>\n",
       "</tr>\n",
       "<tr>\n",
       "  <th>Kurtosis:</th>      <td> 5.719</td>  <th>  Cond. No.          </th> <td>2.88e+18</td> \n",
       "</tr>\n",
       "</table><br/><br/>Notes:<br/>[1] Standard Errors assume that the covariance matrix of the errors is correctly specified.<br/>[2] The smallest eigenvalue is  3e-29. This might indicate that there are<br/>strong multicollinearity problems or that the design matrix is singular."
      ],
      "text/plain": [
       "<class 'statsmodels.iolib.summary.Summary'>\n",
       "\"\"\"\n",
       "                            OLS Regression Results                            \n",
       "==============================================================================\n",
       "Dep. Variable:                charges   R-squared:                       0.753\n",
       "Model:                            OLS   Adj. R-squared:                  0.751\n",
       "Method:                 Least Squares   F-statistic:                     505.8\n",
       "Date:                Fri, 03 Jun 2022   Prob (F-statistic):               0.00\n",
       "Time:                        13:03:40   Log-Likelihood:                -13543.\n",
       "No. Observations:                1338   AIC:                         2.710e+04\n",
       "Df Residuals:                    1329   BIC:                         2.715e+04\n",
       "Df Model:                           8                                         \n",
       "Covariance Type:            nonrobust                                         \n",
       "==============================================================================\n",
       "                 coef    std err          t      P>|t|      [0.025      0.975]\n",
       "------------------------------------------------------------------------------\n",
       "const      -6085.5725    652.168     -9.331      0.000   -7364.964   -4806.181\n",
       "age           17.9716      0.819     21.956      0.000      16.366      19.577\n",
       "bmi          140.3661     11.946     11.750      0.000     116.930     163.802\n",
       "children     559.3001    137.190      4.077      0.000     290.168     828.433\n",
       "female       132.1464    331.707      0.398      0.690    -518.580     782.873\n",
       "smoker_yes  2.385e+04    411.627     57.950      0.000     2.3e+04    2.47e+04\n",
       "northeast   -939.8792    317.542     -2.960      0.003   -1562.818    -316.941\n",
       "northwest  -1290.5405    317.962     -4.059      0.000   -1914.302    -666.779\n",
       "southeast  -1967.2527    363.448     -5.413      0.000   -2680.247   -1254.258\n",
       "southwest  -1887.9001    332.674     -5.675      0.000   -2540.523   -1235.277\n",
       "==============================================================================\n",
       "Omnibus:                      305.104   Durbin-Watson:                   2.093\n",
       "Prob(Omnibus):                  0.000   Jarque-Bera (JB):              744.812\n",
       "Skew:                           1.221   Prob(JB):                    1.85e-162\n",
       "Kurtosis:                       5.719   Cond. No.                     2.88e+18\n",
       "==============================================================================\n",
       "\n",
       "Notes:\n",
       "[1] Standard Errors assume that the covariance matrix of the errors is correctly specified.\n",
       "[2] The smallest eigenvalue is  3e-29. This might indicate that there are\n",
       "strong multicollinearity problems or that the design matrix is singular.\n",
       "\"\"\""
      ]
     },
     "execution_count": 61,
     "metadata": {},
     "output_type": "execute_result"
    }
   ],
   "source": [
    "# y_train=data.pop('charges')\n",
    "X_train = data.copy()\n",
    "for i in range(0 , len(X_train['bmi'])):\n",
    "    X_train['bmi'][i] = pow(X_train['bmi'][i], 1.2)\n",
    "    X_train['age'][i] = pow(X_train['age'][i], 1.6)\n",
    "# X_train['bmi'] = list(map(lambda x: x, X_train['bmi']))\n",
    "\n",
    "import statsmodels.api as sm\n",
    "X_train_sm = sm.add_constant(X_train)\n",
    "\n",
    "bmi_sq= sm.OLS(y_train, X_train_sm).fit()\n",
    "\n",
    "bmi_sq.summary()"
   ]
  },
  {
   "cell_type": "code",
   "execution_count": 62,
   "metadata": {},
   "outputs": [
    {
     "data": {
      "text/html": [
       "<table class=\"simpletable\">\n",
       "<caption>OLS Regression Results</caption>\n",
       "<tr>\n",
       "  <th>Dep. Variable:</th>         <td>charges</td>     <th>  R-squared:         </th> <td>   0.733</td> \n",
       "</tr>\n",
       "<tr>\n",
       "  <th>Model:</th>                   <td>OLS</td>       <th>  Adj. R-squared:    </th> <td>   0.732</td> \n",
       "</tr>\n",
       "<tr>\n",
       "  <th>Method:</th>             <td>Least Squares</td>  <th>  F-statistic:       </th> <td>   456.4</td> \n",
       "</tr>\n",
       "<tr>\n",
       "  <th>Date:</th>             <td>Fri, 03 Jun 2022</td> <th>  Prob (F-statistic):</th>  <td>  0.00</td>  \n",
       "</tr>\n",
       "<tr>\n",
       "  <th>Time:</th>                 <td>13:03:42</td>     <th>  Log-Likelihood:    </th> <td> -13594.</td> \n",
       "</tr>\n",
       "<tr>\n",
       "  <th>No. Observations:</th>      <td>  1338</td>      <th>  AIC:               </th> <td>2.721e+04</td>\n",
       "</tr>\n",
       "<tr>\n",
       "  <th>Df Residuals:</th>          <td>  1329</td>      <th>  BIC:               </th> <td>2.725e+04</td>\n",
       "</tr>\n",
       "<tr>\n",
       "  <th>Df Model:</th>              <td>     8</td>      <th>                     </th>     <td> </td>    \n",
       "</tr>\n",
       "<tr>\n",
       "  <th>Covariance Type:</th>      <td>nonrobust</td>    <th>                     </th>     <td> </td>    \n",
       "</tr>\n",
       "</table>\n",
       "<table class=\"simpletable\">\n",
       "<tr>\n",
       "       <td></td>         <th>coef</th>     <th>std err</th>      <th>t</th>      <th>P>|t|</th>  <th>[0.025</th>    <th>0.975]</th>  \n",
       "</tr>\n",
       "<tr>\n",
       "  <th>const</th>      <td>-1.871e+04</td> <td> 1142.062</td> <td>  -16.387</td> <td> 0.000</td> <td> -2.1e+04</td> <td>-1.65e+04</td>\n",
       "</tr>\n",
       "<tr>\n",
       "  <th>age</th>        <td> 4640.6255</td> <td>  250.078</td> <td>   18.557</td> <td> 0.000</td> <td> 4150.035</td> <td> 5131.216</td>\n",
       "</tr>\n",
       "<tr>\n",
       "  <th>bmi</th>        <td>  869.9327</td> <td>   73.369</td> <td>   11.857</td> <td> 0.000</td> <td>  726.000</td> <td> 1013.865</td>\n",
       "</tr>\n",
       "<tr>\n",
       "  <th>children</th>   <td>  582.3803</td> <td>  142.515</td> <td>    4.086</td> <td> 0.000</td> <td>  302.801</td> <td>  861.960</td>\n",
       "</tr>\n",
       "<tr>\n",
       "  <th>female</th>     <td>  161.6231</td> <td>  344.601</td> <td>    0.469</td> <td> 0.639</td> <td> -514.398</td> <td>  837.645</td>\n",
       "</tr>\n",
       "<tr>\n",
       "  <th>smoker_yes</th> <td>  2.38e+04</td> <td>  427.600</td> <td>   55.653</td> <td> 0.000</td> <td>  2.3e+04</td> <td> 2.46e+04</td>\n",
       "</tr>\n",
       "<tr>\n",
       "  <th>northeast</th>  <td>-4062.0242</td> <td>  395.746</td> <td>  -10.264</td> <td> 0.000</td> <td>-4838.380</td> <td>-3285.669</td>\n",
       "</tr>\n",
       "<tr>\n",
       "  <th>northwest</th>  <td>-4445.2175</td> <td>  396.522</td> <td>  -11.211</td> <td> 0.000</td> <td>-5223.096</td> <td>-3667.339</td>\n",
       "</tr>\n",
       "<tr>\n",
       "  <th>southeast</th>  <td>-5165.4089</td> <td>  451.787</td> <td>  -11.433</td> <td> 0.000</td> <td>-6051.703</td> <td>-4279.115</td>\n",
       "</tr>\n",
       "<tr>\n",
       "  <th>southwest</th>  <td>-5041.8440</td> <td>  415.940</td> <td>  -12.122</td> <td> 0.000</td> <td>-5857.814</td> <td>-4225.874</td>\n",
       "</tr>\n",
       "</table>\n",
       "<table class=\"simpletable\">\n",
       "<tr>\n",
       "  <th>Omnibus:</th>       <td>286.629</td> <th>  Durbin-Watson:     </th> <td>   2.070</td> \n",
       "</tr>\n",
       "<tr>\n",
       "  <th>Prob(Omnibus):</th> <td> 0.000</td>  <th>  Jarque-Bera (JB):  </th> <td> 667.641</td> \n",
       "</tr>\n",
       "<tr>\n",
       "  <th>Skew:</th>          <td> 1.169</td>  <th>  Prob(JB):          </th> <td>1.06e-145</td>\n",
       "</tr>\n",
       "<tr>\n",
       "  <th>Kurtosis:</th>      <td> 5.552</td>  <th>  Cond. No.          </th> <td>5.85e+16</td> \n",
       "</tr>\n",
       "</table><br/><br/>Notes:<br/>[1] Standard Errors assume that the covariance matrix of the errors is correctly specified.<br/>[2] The smallest eigenvalue is 1.02e-28. This might indicate that there are<br/>strong multicollinearity problems or that the design matrix is singular."
      ],
      "text/plain": [
       "<class 'statsmodels.iolib.summary.Summary'>\n",
       "\"\"\"\n",
       "                            OLS Regression Results                            \n",
       "==============================================================================\n",
       "Dep. Variable:                charges   R-squared:                       0.733\n",
       "Model:                            OLS   Adj. R-squared:                  0.732\n",
       "Method:                 Least Squares   F-statistic:                     456.4\n",
       "Date:                Fri, 03 Jun 2022   Prob (F-statistic):               0.00\n",
       "Time:                        13:03:42   Log-Likelihood:                -13594.\n",
       "No. Observations:                1338   AIC:                         2.721e+04\n",
       "Df Residuals:                    1329   BIC:                         2.725e+04\n",
       "Df Model:                           8                                         \n",
       "Covariance Type:            nonrobust                                         \n",
       "==============================================================================\n",
       "                 coef    std err          t      P>|t|      [0.025      0.975]\n",
       "------------------------------------------------------------------------------\n",
       "const      -1.871e+04   1142.062    -16.387      0.000    -2.1e+04   -1.65e+04\n",
       "age         4640.6255    250.078     18.557      0.000    4150.035    5131.216\n",
       "bmi          869.9327     73.369     11.857      0.000     726.000    1013.865\n",
       "children     582.3803    142.515      4.086      0.000     302.801     861.960\n",
       "female       161.6231    344.601      0.469      0.639    -514.398     837.645\n",
       "smoker_yes   2.38e+04    427.600     55.653      0.000     2.3e+04    2.46e+04\n",
       "northeast  -4062.0242    395.746    -10.264      0.000   -4838.380   -3285.669\n",
       "northwest  -4445.2175    396.522    -11.211      0.000   -5223.096   -3667.339\n",
       "southeast  -5165.4089    451.787    -11.433      0.000   -6051.703   -4279.115\n",
       "southwest  -5041.8440    415.940    -12.122      0.000   -5857.814   -4225.874\n",
       "==============================================================================\n",
       "Omnibus:                      286.629   Durbin-Watson:                   2.070\n",
       "Prob(Omnibus):                  0.000   Jarque-Bera (JB):              667.641\n",
       "Skew:                           1.169   Prob(JB):                    1.06e-145\n",
       "Kurtosis:                       5.552   Cond. No.                     5.85e+16\n",
       "==============================================================================\n",
       "\n",
       "Notes:\n",
       "[1] Standard Errors assume that the covariance matrix of the errors is correctly specified.\n",
       "[2] The smallest eigenvalue is 1.02e-28. This might indicate that there are\n",
       "strong multicollinearity problems or that the design matrix is singular.\n",
       "\"\"\""
      ]
     },
     "execution_count": 62,
     "metadata": {},
     "output_type": "execute_result"
    }
   ],
   "source": [
    "# y_train=data.pop('charges')\n",
    "X_train = data.copy()\n",
    "for i in range(0 , len(X_train['bmi'])):\n",
    "    X_train['bmi'][i] = pow(X_train['bmi'][i], 0.8)\n",
    "    X_train['age'][i] = pow(X_train['age'][i], 1.6)\n",
    "# X_train['bmi'] = list(map(lambda x: x, X_train['bmi']))\n",
    "\n",
    "import statsmodels.api as sm\n",
    "X_train_sm = sm.add_constant(X_train)\n",
    "\n",
    "bmi_sq= sm.OLS(y_train, X_train_sm).fit()\n",
    "\n",
    "bmi_sq.summary()\n",
    "\n",
    "\n",
    "# y_train=data.pop('charges')\n",
    "X_train = data.copy()\n",
    "for i in range(0 , len(X_train['bmi'])):\n",
    "    X_train['bmi'][i] = pow(X_train['bmi'][i], 0.8)\n",
    "    X_train['age'][i] = pow(X_train['age'][i], 1.2)\n",
    "# X_train['bmi'] = list(map(lambda x: x, X_train['bmi']))\n",
    "\n",
    "import statsmodels.api as sm\n",
    "X_train_sm = sm.add_constant(X_train)\n",
    "\n",
    "bmi_sq= sm.OLS(y_train, X_train_sm).fit()\n",
    "\n",
    "bmi_sq.summary()\n",
    "\n",
    "\n",
    "# y_train=data.pop('charges')\n",
    "X_train = data.copy()\n",
    "for i in range(0 , len(X_train['bmi'])):\n",
    "    X_train['bmi'][i] = pow(X_train['bmi'][i], 0.8)\n",
    "    X_train['age'][i] = pow(X_train['age'][i], 0.8)\n",
    "# X_train['bmi'] = list(map(lambda x: x, X_train['bmi']))\n",
    "\n",
    "import statsmodels.api as sm\n",
    "X_train_sm = sm.add_constant(X_train)\n",
    "\n",
    "bmi_sq= sm.OLS(y_train, X_train_sm).fit()\n",
    "\n",
    "bmi_sq.summary()\n",
    "\n",
    "\n",
    "\n",
    "# y_train=data.pop('charges')\n",
    "X_train = data.copy()\n",
    "for i in range(0 , len(X_train['bmi'])):\n",
    "    X_train['bmi'][i] = pow(X_train['bmi'][i], 0.8)\n",
    "    X_train['age'][i] = pow(X_train['age'][i], 0.4)\n",
    "# X_train['bmi'] = list(map(lambda x: x, X_train['bmi']))\n",
    "\n",
    "import statsmodels.api as sm\n",
    "X_train_sm = sm.add_constant(X_train)\n",
    "\n",
    "bmi_sq= sm.OLS(y_train, X_train_sm).fit()\n",
    "\n",
    "bmi_sq.summary()"
   ]
  },
  {
   "cell_type": "markdown",
   "metadata": {},
   "source": [
    "Модель 3. Квадрат признака `age`."
   ]
  },
  {
   "cell_type": "code",
   "execution_count": 63,
   "metadata": {},
   "outputs": [
    {
     "data": {
      "text/html": [
       "<table class=\"simpletable\">\n",
       "<caption>OLS Regression Results</caption>\n",
       "<tr>\n",
       "  <th>Dep. Variable:</th>         <td>charges</td>     <th>  R-squared:         </th> <td>   0.754</td> \n",
       "</tr>\n",
       "<tr>\n",
       "  <th>Model:</th>                   <td>OLS</td>       <th>  Adj. R-squared:    </th> <td>   0.752</td> \n",
       "</tr>\n",
       "<tr>\n",
       "  <th>Method:</th>             <td>Least Squares</td>  <th>  F-statistic:       </th> <td>   508.2</td> \n",
       "</tr>\n",
       "<tr>\n",
       "  <th>Date:</th>             <td>Fri, 03 Jun 2022</td> <th>  Prob (F-statistic):</th>  <td>  0.00</td>  \n",
       "</tr>\n",
       "<tr>\n",
       "  <th>Time:</th>                 <td>13:03:42</td>     <th>  Log-Likelihood:    </th> <td> -13540.</td> \n",
       "</tr>\n",
       "<tr>\n",
       "  <th>No. Observations:</th>      <td>  1338</td>      <th>  AIC:               </th> <td>2.710e+04</td>\n",
       "</tr>\n",
       "<tr>\n",
       "  <th>Df Residuals:</th>          <td>  1329</td>      <th>  BIC:               </th> <td>2.715e+04</td>\n",
       "</tr>\n",
       "<tr>\n",
       "  <th>Df Model:</th>              <td>     8</td>      <th>                     </th>     <td> </td>    \n",
       "</tr>\n",
       "<tr>\n",
       "  <th>Covariance Type:</th>      <td>nonrobust</td>    <th>                     </th>     <td> </td>    \n",
       "</tr>\n",
       "</table>\n",
       "<table class=\"simpletable\">\n",
       "<tr>\n",
       "       <td></td>         <th>coef</th>     <th>std err</th>      <th>t</th>      <th>P>|t|</th>  <th>[0.025</th>    <th>0.975]</th>  \n",
       "</tr>\n",
       "<tr>\n",
       "  <th>const</th>      <td>-6618.9511</td> <td>  744.235</td> <td>   -8.894</td> <td> 0.000</td> <td>-8078.955</td> <td>-5158.947</td>\n",
       "</tr>\n",
       "<tr>\n",
       "  <th>age</th>        <td>    3.2537</td> <td>    0.148</td> <td>   22.041</td> <td> 0.000</td> <td>    2.964</td> <td>    3.543</td>\n",
       "</tr>\n",
       "<tr>\n",
       "  <th>bmi</th>        <td>  335.5668</td> <td>   28.457</td> <td>   11.792</td> <td> 0.000</td> <td>  279.742</td> <td>  391.391</td>\n",
       "</tr>\n",
       "<tr>\n",
       "  <th>children</th>   <td>  612.9125</td> <td>  136.937</td> <td>    4.476</td> <td> 0.000</td> <td>  344.277</td> <td>  881.548</td>\n",
       "</tr>\n",
       "<tr>\n",
       "  <th>female</th>     <td>  136.3929</td> <td>  331.115</td> <td>    0.412</td> <td> 0.680</td> <td> -513.173</td> <td>  785.959</td>\n",
       "</tr>\n",
       "<tr>\n",
       "  <th>smoker_yes</th> <td> 2.386e+04</td> <td>  410.900</td> <td>   58.064</td> <td> 0.000</td> <td> 2.31e+04</td> <td> 2.47e+04</td>\n",
       "</tr>\n",
       "<tr>\n",
       "  <th>northeast</th>  <td>-1066.4526</td> <td>  325.788</td> <td>   -3.273</td> <td> 0.001</td> <td>-1705.568</td> <td> -427.337</td>\n",
       "</tr>\n",
       "<tr>\n",
       "  <th>northwest</th>  <td>-1431.5395</td> <td>  326.569</td> <td>   -4.384</td> <td> 0.000</td> <td>-2072.186</td> <td> -790.893</td>\n",
       "</tr>\n",
       "<tr>\n",
       "  <th>southeast</th>  <td>-2096.8565</td> <td>  379.821</td> <td>   -5.521</td> <td> 0.000</td> <td>-2841.970</td> <td>-1351.743</td>\n",
       "</tr>\n",
       "<tr>\n",
       "  <th>southwest</th>  <td>-2024.1024</td> <td>  344.188</td> <td>   -5.881</td> <td> 0.000</td> <td>-2699.313</td> <td>-1348.892</td>\n",
       "</tr>\n",
       "</table>\n",
       "<table class=\"simpletable\">\n",
       "<tr>\n",
       "  <th>Omnibus:</th>       <td>308.123</td> <th>  Durbin-Watson:     </th> <td>   2.095</td> \n",
       "</tr>\n",
       "<tr>\n",
       "  <th>Prob(Omnibus):</th> <td> 0.000</td>  <th>  Jarque-Bera (JB):  </th> <td> 757.479</td> \n",
       "</tr>\n",
       "<tr>\n",
       "  <th>Skew:</th>          <td> 1.230</td>  <th>  Prob(JB):          </th> <td>3.28e-165</td>\n",
       "</tr>\n",
       "<tr>\n",
       "  <th>Kurtosis:</th>      <td> 5.745</td>  <th>  Cond. No.          </th> <td>9.31e+18</td> \n",
       "</tr>\n",
       "</table><br/><br/>Notes:<br/>[1] Standard Errors assume that the covariance matrix of the errors is correctly specified.<br/>[2] The smallest eigenvalue is 6.6e-29. This might indicate that there are<br/>strong multicollinearity problems or that the design matrix is singular."
      ],
      "text/plain": [
       "<class 'statsmodels.iolib.summary.Summary'>\n",
       "\"\"\"\n",
       "                            OLS Regression Results                            \n",
       "==============================================================================\n",
       "Dep. Variable:                charges   R-squared:                       0.754\n",
       "Model:                            OLS   Adj. R-squared:                  0.752\n",
       "Method:                 Least Squares   F-statistic:                     508.2\n",
       "Date:                Fri, 03 Jun 2022   Prob (F-statistic):               0.00\n",
       "Time:                        13:03:42   Log-Likelihood:                -13540.\n",
       "No. Observations:                1338   AIC:                         2.710e+04\n",
       "Df Residuals:                    1329   BIC:                         2.715e+04\n",
       "Df Model:                           8                                         \n",
       "Covariance Type:            nonrobust                                         \n",
       "==============================================================================\n",
       "                 coef    std err          t      P>|t|      [0.025      0.975]\n",
       "------------------------------------------------------------------------------\n",
       "const      -6618.9511    744.235     -8.894      0.000   -8078.955   -5158.947\n",
       "age            3.2537      0.148     22.041      0.000       2.964       3.543\n",
       "bmi          335.5668     28.457     11.792      0.000     279.742     391.391\n",
       "children     612.9125    136.937      4.476      0.000     344.277     881.548\n",
       "female       136.3929    331.115      0.412      0.680    -513.173     785.959\n",
       "smoker_yes  2.386e+04    410.900     58.064      0.000    2.31e+04    2.47e+04\n",
       "northeast  -1066.4526    325.788     -3.273      0.001   -1705.568    -427.337\n",
       "northwest  -1431.5395    326.569     -4.384      0.000   -2072.186    -790.893\n",
       "southeast  -2096.8565    379.821     -5.521      0.000   -2841.970   -1351.743\n",
       "southwest  -2024.1024    344.188     -5.881      0.000   -2699.313   -1348.892\n",
       "==============================================================================\n",
       "Omnibus:                      308.123   Durbin-Watson:                   2.095\n",
       "Prob(Omnibus):                  0.000   Jarque-Bera (JB):              757.479\n",
       "Skew:                           1.230   Prob(JB):                    3.28e-165\n",
       "Kurtosis:                       5.745   Cond. No.                     9.31e+18\n",
       "==============================================================================\n",
       "\n",
       "Notes:\n",
       "[1] Standard Errors assume that the covariance matrix of the errors is correctly specified.\n",
       "[2] The smallest eigenvalue is 6.6e-29. This might indicate that there are\n",
       "strong multicollinearity problems or that the design matrix is singular.\n",
       "\"\"\""
      ]
     },
     "execution_count": 63,
     "metadata": {},
     "output_type": "execute_result"
    }
   ],
   "source": [
    "# y_train=data.pop('charges')\n",
    "X_train = data.copy()\n",
    "for i in range(0 , len(X_train['age'])):\n",
    "    X_train['age'][i] = X_train['age'][i] * X_train['age'][i]\n",
    "\n",
    "\n",
    "import statsmodels.api as sm\n",
    "X_train_sm = sm.add_constant(X_train)\n",
    "\n",
    "age_sq= sm.OLS(y_train, X_train_sm).fit()\n",
    "\n",
    "age_sq.summary()"
   ]
  },
  {
   "cell_type": "markdown",
   "metadata": {},
   "source": [
    "Модель 4. Квадраты признаков `age` и `bmi`."
   ]
  },
  {
   "cell_type": "code",
   "execution_count": 64,
   "metadata": {},
   "outputs": [
    {
     "data": {
      "text/html": [
       "<table class=\"simpletable\">\n",
       "<caption>OLS Regression Results</caption>\n",
       "<tr>\n",
       "  <th>Dep. Variable:</th>         <td>charges</td>     <th>  R-squared:         </th> <td>   0.752</td> \n",
       "</tr>\n",
       "<tr>\n",
       "  <th>Model:</th>                   <td>OLS</td>       <th>  Adj. R-squared:    </th> <td>   0.750</td> \n",
       "</tr>\n",
       "<tr>\n",
       "  <th>Method:</th>             <td>Least Squares</td>  <th>  F-statistic:       </th> <td>   503.3</td> \n",
       "</tr>\n",
       "<tr>\n",
       "  <th>Date:</th>             <td>Fri, 03 Jun 2022</td> <th>  Prob (F-statistic):</th>  <td>  0.00</td>  \n",
       "</tr>\n",
       "<tr>\n",
       "  <th>Time:</th>                 <td>13:03:43</td>     <th>  Log-Likelihood:    </th> <td> -13545.</td> \n",
       "</tr>\n",
       "<tr>\n",
       "  <th>No. Observations:</th>      <td>  1338</td>      <th>  AIC:               </th> <td>2.711e+04</td>\n",
       "</tr>\n",
       "<tr>\n",
       "  <th>Df Residuals:</th>          <td>  1329</td>      <th>  BIC:               </th> <td>2.716e+04</td>\n",
       "</tr>\n",
       "<tr>\n",
       "  <th>Df Model:</th>              <td>     8</td>      <th>                     </th>     <td> </td>    \n",
       "</tr>\n",
       "<tr>\n",
       "  <th>Covariance Type:</th>      <td>nonrobust</td>    <th>                     </th>     <td> </td>    \n",
       "</tr>\n",
       "</table>\n",
       "<table class=\"simpletable\">\n",
       "<tr>\n",
       "       <td></td>         <th>coef</th>     <th>std err</th>      <th>t</th>      <th>P>|t|</th>  <th>[0.025</th>    <th>0.975]</th>  \n",
       "</tr>\n",
       "<tr>\n",
       "  <th>const</th>      <td>-2396.3046</td> <td>  454.743</td> <td>   -5.270</td> <td> 0.000</td> <td>-3288.397</td> <td>-1504.212</td>\n",
       "</tr>\n",
       "<tr>\n",
       "  <th>age</th>        <td>    3.2753</td> <td>    0.148</td> <td>   22.128</td> <td> 0.000</td> <td>    2.985</td> <td>    3.566</td>\n",
       "</tr>\n",
       "<tr>\n",
       "  <th>bmi</th>        <td>    5.0954</td> <td>    0.450</td> <td>   11.332</td> <td> 0.000</td> <td>    4.213</td> <td>    5.977</td>\n",
       "</tr>\n",
       "<tr>\n",
       "  <th>children</th>   <td>  613.6285</td> <td>  137.436</td> <td>    4.465</td> <td> 0.000</td> <td>  344.013</td> <td>  883.244</td>\n",
       "</tr>\n",
       "<tr>\n",
       "  <th>female</th>     <td>  127.3143</td> <td>  332.311</td> <td>    0.383</td> <td> 0.702</td> <td> -524.597</td> <td>  779.226</td>\n",
       "</tr>\n",
       "<tr>\n",
       "  <th>smoker_yes</th> <td> 2.385e+04</td> <td>  412.384</td> <td>   57.823</td> <td> 0.000</td> <td>  2.3e+04</td> <td> 2.47e+04</td>\n",
       "</tr>\n",
       "<tr>\n",
       "  <th>northeast</th>  <td>  -46.1561</td> <td>  303.451</td> <td>   -0.152</td> <td> 0.879</td> <td> -641.452</td> <td>  549.140</td>\n",
       "</tr>\n",
       "<tr>\n",
       "  <th>northwest</th>  <td> -365.4524</td> <td>  303.573</td> <td>   -1.204</td> <td> 0.229</td> <td> -960.987</td> <td>  230.082</td>\n",
       "</tr>\n",
       "<tr>\n",
       "  <th>southeast</th>  <td>-1038.8491</td> <td>  332.271</td> <td>   -3.127</td> <td> 0.002</td> <td>-1690.683</td> <td> -387.015</td>\n",
       "</tr>\n",
       "<tr>\n",
       "  <th>southwest</th>  <td> -945.8470</td> <td>  311.559</td> <td>   -3.036</td> <td> 0.002</td> <td>-1557.049</td> <td> -334.645</td>\n",
       "</tr>\n",
       "</table>\n",
       "<table class=\"simpletable\">\n",
       "<tr>\n",
       "  <th>Omnibus:</th>       <td>301.634</td> <th>  Durbin-Watson:     </th> <td>   2.098</td> \n",
       "</tr>\n",
       "<tr>\n",
       "  <th>Prob(Omnibus):</th> <td> 0.000</td>  <th>  Jarque-Bera (JB):  </th> <td> 743.886</td> \n",
       "</tr>\n",
       "<tr>\n",
       "  <th>Skew:</th>          <td> 1.203</td>  <th>  Prob(JB):          </th> <td>2.93e-162</td>\n",
       "</tr>\n",
       "<tr>\n",
       "  <th>Kurtosis:</th>      <td> 5.748</td>  <th>  Cond. No.          </th> <td>1.25e+19</td> \n",
       "</tr>\n",
       "</table><br/><br/>Notes:<br/>[1] Standard Errors assume that the covariance matrix of the errors is correctly specified.<br/>[2] The smallest eigenvalue is 4.33e-29. This might indicate that there are<br/>strong multicollinearity problems or that the design matrix is singular."
      ],
      "text/plain": [
       "<class 'statsmodels.iolib.summary.Summary'>\n",
       "\"\"\"\n",
       "                            OLS Regression Results                            \n",
       "==============================================================================\n",
       "Dep. Variable:                charges   R-squared:                       0.752\n",
       "Model:                            OLS   Adj. R-squared:                  0.750\n",
       "Method:                 Least Squares   F-statistic:                     503.3\n",
       "Date:                Fri, 03 Jun 2022   Prob (F-statistic):               0.00\n",
       "Time:                        13:03:43   Log-Likelihood:                -13545.\n",
       "No. Observations:                1338   AIC:                         2.711e+04\n",
       "Df Residuals:                    1329   BIC:                         2.716e+04\n",
       "Df Model:                           8                                         \n",
       "Covariance Type:            nonrobust                                         \n",
       "==============================================================================\n",
       "                 coef    std err          t      P>|t|      [0.025      0.975]\n",
       "------------------------------------------------------------------------------\n",
       "const      -2396.3046    454.743     -5.270      0.000   -3288.397   -1504.212\n",
       "age            3.2753      0.148     22.128      0.000       2.985       3.566\n",
       "bmi            5.0954      0.450     11.332      0.000       4.213       5.977\n",
       "children     613.6285    137.436      4.465      0.000     344.013     883.244\n",
       "female       127.3143    332.311      0.383      0.702    -524.597     779.226\n",
       "smoker_yes  2.385e+04    412.384     57.823      0.000     2.3e+04    2.47e+04\n",
       "northeast    -46.1561    303.451     -0.152      0.879    -641.452     549.140\n",
       "northwest   -365.4524    303.573     -1.204      0.229    -960.987     230.082\n",
       "southeast  -1038.8491    332.271     -3.127      0.002   -1690.683    -387.015\n",
       "southwest   -945.8470    311.559     -3.036      0.002   -1557.049    -334.645\n",
       "==============================================================================\n",
       "Omnibus:                      301.634   Durbin-Watson:                   2.098\n",
       "Prob(Omnibus):                  0.000   Jarque-Bera (JB):              743.886\n",
       "Skew:                           1.203   Prob(JB):                    2.93e-162\n",
       "Kurtosis:                       5.748   Cond. No.                     1.25e+19\n",
       "==============================================================================\n",
       "\n",
       "Notes:\n",
       "[1] Standard Errors assume that the covariance matrix of the errors is correctly specified.\n",
       "[2] The smallest eigenvalue is 4.33e-29. This might indicate that there are\n",
       "strong multicollinearity problems or that the design matrix is singular.\n",
       "\"\"\""
      ]
     },
     "execution_count": 64,
     "metadata": {},
     "output_type": "execute_result"
    }
   ],
   "source": [
    "# y_train=data.pop('charges')\n",
    "X_train = data.copy()\n",
    "for i in range(0 , len(X_train['age'])):\n",
    "    X_train['age'][i] = X_train['age'][i] * X_train['age'][i]\n",
    "    X_train['bmi'][i] = X_train['bmi'][i] * X_train['bmi'][i]\n",
    "\n",
    "\n",
    "import statsmodels.api as sm\n",
    "X_train_sm = sm.add_constant(X_train)\n",
    "\n",
    "bmi_age_sq= sm.OLS(y_train, X_train_sm).fit()\n",
    "\n",
    "bmi_age_sq.summary()"
   ]
  },
  {
   "cell_type": "markdown",
   "metadata": {},
   "source": [
    "Модель 5."
   ]
  },
  {
   "cell_type": "code",
   "execution_count": 65,
   "metadata": {},
   "outputs": [
    {
     "data": {
      "text/html": [
       "<table class=\"simpletable\">\n",
       "<caption>OLS Regression Results</caption>\n",
       "<tr>\n",
       "  <th>Dep. Variable:</th>         <td>charges</td>     <th>  R-squared:         </th> <td>   0.752</td> \n",
       "</tr>\n",
       "<tr>\n",
       "  <th>Model:</th>                   <td>OLS</td>       <th>  Adj. R-squared:    </th> <td>   0.750</td> \n",
       "</tr>\n",
       "<tr>\n",
       "  <th>Method:</th>             <td>Least Squares</td>  <th>  F-statistic:       </th> <td>   503.3</td> \n",
       "</tr>\n",
       "<tr>\n",
       "  <th>Date:</th>             <td>Fri, 03 Jun 2022</td> <th>  Prob (F-statistic):</th>  <td>  0.00</td>  \n",
       "</tr>\n",
       "<tr>\n",
       "  <th>Time:</th>                 <td>13:03:43</td>     <th>  Log-Likelihood:    </th> <td> -13545.</td> \n",
       "</tr>\n",
       "<tr>\n",
       "  <th>No. Observations:</th>      <td>  1338</td>      <th>  AIC:               </th> <td>2.711e+04</td>\n",
       "</tr>\n",
       "<tr>\n",
       "  <th>Df Residuals:</th>          <td>  1329</td>      <th>  BIC:               </th> <td>2.716e+04</td>\n",
       "</tr>\n",
       "<tr>\n",
       "  <th>Df Model:</th>              <td>     8</td>      <th>                     </th>     <td> </td>    \n",
       "</tr>\n",
       "<tr>\n",
       "  <th>Covariance Type:</th>      <td>nonrobust</td>    <th>                     </th>     <td> </td>    \n",
       "</tr>\n",
       "</table>\n",
       "<table class=\"simpletable\">\n",
       "<tr>\n",
       "       <td></td>         <th>coef</th>     <th>std err</th>      <th>t</th>      <th>P>|t|</th>  <th>[0.025</th>    <th>0.975]</th>  \n",
       "</tr>\n",
       "<tr>\n",
       "  <th>const</th>      <td>-2396.3046</td> <td>  454.743</td> <td>   -5.270</td> <td> 0.000</td> <td>-3288.397</td> <td>-1504.212</td>\n",
       "</tr>\n",
       "<tr>\n",
       "  <th>age</th>        <td>    3.2753</td> <td>    0.148</td> <td>   22.128</td> <td> 0.000</td> <td>    2.985</td> <td>    3.566</td>\n",
       "</tr>\n",
       "<tr>\n",
       "  <th>bmi</th>        <td>    5.0954</td> <td>    0.450</td> <td>   11.332</td> <td> 0.000</td> <td>    4.213</td> <td>    5.977</td>\n",
       "</tr>\n",
       "<tr>\n",
       "  <th>children</th>   <td>  613.6285</td> <td>  137.436</td> <td>    4.465</td> <td> 0.000</td> <td>  344.013</td> <td>  883.244</td>\n",
       "</tr>\n",
       "<tr>\n",
       "  <th>female</th>     <td>  127.3143</td> <td>  332.311</td> <td>    0.383</td> <td> 0.702</td> <td> -524.597</td> <td>  779.226</td>\n",
       "</tr>\n",
       "<tr>\n",
       "  <th>smoker_yes</th> <td> 2.385e+04</td> <td>  412.384</td> <td>   57.823</td> <td> 0.000</td> <td>  2.3e+04</td> <td> 2.47e+04</td>\n",
       "</tr>\n",
       "<tr>\n",
       "  <th>northeast</th>  <td>  -46.1561</td> <td>  303.451</td> <td>   -0.152</td> <td> 0.879</td> <td> -641.452</td> <td>  549.140</td>\n",
       "</tr>\n",
       "<tr>\n",
       "  <th>northwest</th>  <td> -365.4524</td> <td>  303.573</td> <td>   -1.204</td> <td> 0.229</td> <td> -960.987</td> <td>  230.082</td>\n",
       "</tr>\n",
       "<tr>\n",
       "  <th>southeast</th>  <td>-1038.8491</td> <td>  332.271</td> <td>   -3.127</td> <td> 0.002</td> <td>-1690.683</td> <td> -387.015</td>\n",
       "</tr>\n",
       "<tr>\n",
       "  <th>southwest</th>  <td> -945.8470</td> <td>  311.559</td> <td>   -3.036</td> <td> 0.002</td> <td>-1557.049</td> <td> -334.645</td>\n",
       "</tr>\n",
       "</table>\n",
       "<table class=\"simpletable\">\n",
       "<tr>\n",
       "  <th>Omnibus:</th>       <td>301.634</td> <th>  Durbin-Watson:     </th> <td>   2.098</td> \n",
       "</tr>\n",
       "<tr>\n",
       "  <th>Prob(Omnibus):</th> <td> 0.000</td>  <th>  Jarque-Bera (JB):  </th> <td> 743.886</td> \n",
       "</tr>\n",
       "<tr>\n",
       "  <th>Skew:</th>          <td> 1.203</td>  <th>  Prob(JB):          </th> <td>2.93e-162</td>\n",
       "</tr>\n",
       "<tr>\n",
       "  <th>Kurtosis:</th>      <td> 5.748</td>  <th>  Cond. No.          </th> <td>1.25e+19</td> \n",
       "</tr>\n",
       "</table><br/><br/>Notes:<br/>[1] Standard Errors assume that the covariance matrix of the errors is correctly specified.<br/>[2] The smallest eigenvalue is 4.33e-29. This might indicate that there are<br/>strong multicollinearity problems or that the design matrix is singular."
      ],
      "text/plain": [
       "<class 'statsmodels.iolib.summary.Summary'>\n",
       "\"\"\"\n",
       "                            OLS Regression Results                            \n",
       "==============================================================================\n",
       "Dep. Variable:                charges   R-squared:                       0.752\n",
       "Model:                            OLS   Adj. R-squared:                  0.750\n",
       "Method:                 Least Squares   F-statistic:                     503.3\n",
       "Date:                Fri, 03 Jun 2022   Prob (F-statistic):               0.00\n",
       "Time:                        13:03:43   Log-Likelihood:                -13545.\n",
       "No. Observations:                1338   AIC:                         2.711e+04\n",
       "Df Residuals:                    1329   BIC:                         2.716e+04\n",
       "Df Model:                           8                                         \n",
       "Covariance Type:            nonrobust                                         \n",
       "==============================================================================\n",
       "                 coef    std err          t      P>|t|      [0.025      0.975]\n",
       "------------------------------------------------------------------------------\n",
       "const      -2396.3046    454.743     -5.270      0.000   -3288.397   -1504.212\n",
       "age            3.2753      0.148     22.128      0.000       2.985       3.566\n",
       "bmi            5.0954      0.450     11.332      0.000       4.213       5.977\n",
       "children     613.6285    137.436      4.465      0.000     344.013     883.244\n",
       "female       127.3143    332.311      0.383      0.702    -524.597     779.226\n",
       "smoker_yes  2.385e+04    412.384     57.823      0.000     2.3e+04    2.47e+04\n",
       "northeast    -46.1561    303.451     -0.152      0.879    -641.452     549.140\n",
       "northwest   -365.4524    303.573     -1.204      0.229    -960.987     230.082\n",
       "southeast  -1038.8491    332.271     -3.127      0.002   -1690.683    -387.015\n",
       "southwest   -945.8470    311.559     -3.036      0.002   -1557.049    -334.645\n",
       "==============================================================================\n",
       "Omnibus:                      301.634   Durbin-Watson:                   2.098\n",
       "Prob(Omnibus):                  0.000   Jarque-Bera (JB):              743.886\n",
       "Skew:                           1.203   Prob(JB):                    2.93e-162\n",
       "Kurtosis:                       5.748   Cond. No.                     1.25e+19\n",
       "==============================================================================\n",
       "\n",
       "Notes:\n",
       "[1] Standard Errors assume that the covariance matrix of the errors is correctly specified.\n",
       "[2] The smallest eigenvalue is 4.33e-29. This might indicate that there are\n",
       "strong multicollinearity problems or that the design matrix is singular.\n",
       "\"\"\""
      ]
     },
     "execution_count": 65,
     "metadata": {},
     "output_type": "execute_result"
    }
   ],
   "source": [
    "# y_train=data.pop('charges')\n",
    "X_train = data.copy()\n",
    "for i in range(0 , len(X_train['age'])):\n",
    "    X_train['age'][i] = X_train['age'][i] * X_train['age'][i]\n",
    "    X_train['bmi'][i] = X_train['bmi'][i] * X_train['bmi'][i]\n",
    "\n",
    "\n",
    "import statsmodels.api as sm\n",
    "X_train_sm = sm.add_constant(X_train)\n",
    "\n",
    "lm_5= sm.OLS(y_train, X_train_sm).fit()\n",
    "lm_5.summary()"
   ]
  },
  {
   "cell_type": "markdown",
   "metadata": {},
   "source": [
    "Модель 6."
   ]
  },
  {
   "cell_type": "code",
   "execution_count": 66,
   "metadata": {},
   "outputs": [
    {
     "data": {
      "text/html": [
       "<table class=\"simpletable\">\n",
       "<caption>OLS Regression Results</caption>\n",
       "<tr>\n",
       "  <th>Dep. Variable:</th>         <td>charges</td>     <th>  R-squared:         </th> <td>   0.664</td> \n",
       "</tr>\n",
       "<tr>\n",
       "  <th>Model:</th>                   <td>OLS</td>       <th>  Adj. R-squared:    </th> <td>   0.662</td> \n",
       "</tr>\n",
       "<tr>\n",
       "  <th>Method:</th>             <td>Least Squares</td>  <th>  F-statistic:       </th> <td>   374.8</td> \n",
       "</tr>\n",
       "<tr>\n",
       "  <th>Date:</th>             <td>Fri, 03 Jun 2022</td> <th>  Prob (F-statistic):</th> <td>2.97e-309</td>\n",
       "</tr>\n",
       "<tr>\n",
       "  <th>Time:</th>                 <td>13:03:44</td>     <th>  Log-Likelihood:    </th> <td> -13749.</td> \n",
       "</tr>\n",
       "<tr>\n",
       "  <th>No. Observations:</th>      <td>  1338</td>      <th>  AIC:               </th> <td>2.751e+04</td>\n",
       "</tr>\n",
       "<tr>\n",
       "  <th>Df Residuals:</th>          <td>  1330</td>      <th>  BIC:               </th> <td>2.756e+04</td>\n",
       "</tr>\n",
       "<tr>\n",
       "  <th>Df Model:</th>              <td>     7</td>      <th>                     </th>     <td> </td>    \n",
       "</tr>\n",
       "<tr>\n",
       "  <th>Covariance Type:</th>      <td>nonrobust</td>    <th>                     </th>     <td> </td>    \n",
       "</tr>\n",
       "</table>\n",
       "<table class=\"simpletable\">\n",
       "<tr>\n",
       "       <td></td>         <th>coef</th>     <th>std err</th>      <th>t</th>      <th>P>|t|</th>  <th>[0.025</th>    <th>0.975]</th>  \n",
       "</tr>\n",
       "<tr>\n",
       "  <th>age</th>        <td>-3977.9645</td> <td>  858.013</td> <td>   -4.636</td> <td> 0.000</td> <td>-5661.171</td> <td>-2294.758</td>\n",
       "</tr>\n",
       "<tr>\n",
       "  <th>bmi</th>        <td>  411.2700</td> <td>   32.998</td> <td>   12.464</td> <td> 0.000</td> <td>  346.537</td> <td>  476.003</td>\n",
       "</tr>\n",
       "<tr>\n",
       "  <th>children</th>   <td>  597.4632</td> <td>  159.956</td> <td>    3.735</td> <td> 0.000</td> <td>  283.669</td> <td>  911.257</td>\n",
       "</tr>\n",
       "<tr>\n",
       "  <th>female</th>     <td>  310.8509</td> <td>  386.671</td> <td>    0.804</td> <td> 0.422</td> <td> -447.701</td> <td> 1069.403</td>\n",
       "</tr>\n",
       "<tr>\n",
       "  <th>smoker_yes</th> <td> 2.366e+04</td> <td>  479.863</td> <td>   49.303</td> <td> 0.000</td> <td> 2.27e+04</td> <td> 2.46e+04</td>\n",
       "</tr>\n",
       "<tr>\n",
       "  <th>northeast</th>  <td> -285.8588</td> <td>  378.304</td> <td>   -0.756</td> <td> 0.450</td> <td>-1027.996</td> <td>  456.279</td>\n",
       "</tr>\n",
       "<tr>\n",
       "  <th>northwest</th>  <td> -678.2273</td> <td>  379.376</td> <td>   -1.788</td> <td> 0.074</td> <td>-1422.468</td> <td>   66.013</td>\n",
       "</tr>\n",
       "<tr>\n",
       "  <th>southeast</th>  <td>-1696.1281</td> <td>  443.167</td> <td>   -3.827</td> <td> 0.000</td> <td>-2565.511</td> <td> -826.746</td>\n",
       "</tr>\n",
       "<tr>\n",
       "  <th>southwest</th>  <td>-1317.7503</td> <td>  400.305</td> <td>   -3.292</td> <td> 0.001</td> <td>-2103.049</td> <td> -532.452</td>\n",
       "</tr>\n",
       "</table>\n",
       "<table class=\"simpletable\">\n",
       "<tr>\n",
       "  <th>Omnibus:</th>       <td>162.572</td> <th>  Durbin-Watson:     </th> <td>   2.043</td>\n",
       "</tr>\n",
       "<tr>\n",
       "  <th>Prob(Omnibus):</th> <td> 0.000</td>  <th>  Jarque-Bera (JB):  </th> <td> 258.818</td>\n",
       "</tr>\n",
       "<tr>\n",
       "  <th>Skew:</th>          <td> 0.833</td>  <th>  Prob(JB):          </th> <td>6.28e-57</td>\n",
       "</tr>\n",
       "<tr>\n",
       "  <th>Kurtosis:</th>      <td> 4.366</td>  <th>  Cond. No.          </th> <td>1.11e+17</td>\n",
       "</tr>\n",
       "</table><br/><br/>Notes:<br/>[1] Standard Errors assume that the covariance matrix of the errors is correctly specified.<br/>[2] The smallest eigenvalue is 1.06e-28. This might indicate that there are<br/>strong multicollinearity problems or that the design matrix is singular."
      ],
      "text/plain": [
       "<class 'statsmodels.iolib.summary.Summary'>\n",
       "\"\"\"\n",
       "                            OLS Regression Results                            \n",
       "==============================================================================\n",
       "Dep. Variable:                charges   R-squared:                       0.664\n",
       "Model:                            OLS   Adj. R-squared:                  0.662\n",
       "Method:                 Least Squares   F-statistic:                     374.8\n",
       "Date:                Fri, 03 Jun 2022   Prob (F-statistic):          2.97e-309\n",
       "Time:                        13:03:44   Log-Likelihood:                -13749.\n",
       "No. Observations:                1338   AIC:                         2.751e+04\n",
       "Df Residuals:                    1330   BIC:                         2.756e+04\n",
       "Df Model:                           7                                         \n",
       "Covariance Type:            nonrobust                                         \n",
       "==============================================================================\n",
       "                 coef    std err          t      P>|t|      [0.025      0.975]\n",
       "------------------------------------------------------------------------------\n",
       "age        -3977.9645    858.013     -4.636      0.000   -5661.171   -2294.758\n",
       "bmi          411.2700     32.998     12.464      0.000     346.537     476.003\n",
       "children     597.4632    159.956      3.735      0.000     283.669     911.257\n",
       "female       310.8509    386.671      0.804      0.422    -447.701    1069.403\n",
       "smoker_yes  2.366e+04    479.863     49.303      0.000    2.27e+04    2.46e+04\n",
       "northeast   -285.8588    378.304     -0.756      0.450   -1027.996     456.279\n",
       "northwest   -678.2273    379.376     -1.788      0.074   -1422.468      66.013\n",
       "southeast  -1696.1281    443.167     -3.827      0.000   -2565.511    -826.746\n",
       "southwest  -1317.7503    400.305     -3.292      0.001   -2103.049    -532.452\n",
       "==============================================================================\n",
       "Omnibus:                      162.572   Durbin-Watson:                   2.043\n",
       "Prob(Omnibus):                  0.000   Jarque-Bera (JB):              258.818\n",
       "Skew:                           0.833   Prob(JB):                     6.28e-57\n",
       "Kurtosis:                       4.366   Cond. No.                     1.11e+17\n",
       "==============================================================================\n",
       "\n",
       "Notes:\n",
       "[1] Standard Errors assume that the covariance matrix of the errors is correctly specified.\n",
       "[2] The smallest eigenvalue is 1.06e-28. This might indicate that there are\n",
       "strong multicollinearity problems or that the design matrix is singular.\n",
       "\"\"\""
      ]
     },
     "execution_count": 66,
     "metadata": {},
     "output_type": "execute_result"
    }
   ],
   "source": [
    "# y_train=data.pop('charges')\n",
    "\n",
    "X_train = data.copy()\n",
    "for i in range(0 , len(X_train['age'])):\n",
    "    X_train['age'][i] = math.log(X_train['age'][i],10)\n",
    "    \n",
    "\n",
    "\n",
    "import statsmodels.api as sm\n",
    "X_train_sm = sm.add_constant(X_train)\n",
    "\n",
    "age_lg= sm.OLS(y_train, X_train_sm).fit()\n",
    "age_lg.summary()"
   ]
  },
  {
   "cell_type": "markdown",
   "metadata": {},
   "source": [
    "Модель 7."
   ]
  },
  {
   "cell_type": "code",
   "execution_count": 67,
   "metadata": {},
   "outputs": [
    {
     "data": {
      "text/html": [
       "<table class=\"simpletable\">\n",
       "<caption>OLS Regression Results</caption>\n",
       "<tr>\n",
       "  <th>Dep. Variable:</th>         <td>charges</td>     <th>  R-squared:         </th> <td>   0.751</td> \n",
       "</tr>\n",
       "<tr>\n",
       "  <th>Model:</th>                   <td>OLS</td>       <th>  Adj. R-squared:    </th> <td>   0.750</td> \n",
       "</tr>\n",
       "<tr>\n",
       "  <th>Method:</th>             <td>Least Squares</td>  <th>  F-statistic:       </th> <td>   502.1</td> \n",
       "</tr>\n",
       "<tr>\n",
       "  <th>Date:</th>             <td>Fri, 03 Jun 2022</td> <th>  Prob (F-statistic):</th>  <td>  0.00</td>  \n",
       "</tr>\n",
       "<tr>\n",
       "  <th>Time:</th>                 <td>13:03:44</td>     <th>  Log-Likelihood:    </th> <td> -13546.</td> \n",
       "</tr>\n",
       "<tr>\n",
       "  <th>No. Observations:</th>      <td>  1338</td>      <th>  AIC:               </th> <td>2.711e+04</td>\n",
       "</tr>\n",
       "<tr>\n",
       "  <th>Df Residuals:</th>          <td>  1329</td>      <th>  BIC:               </th> <td>2.716e+04</td>\n",
       "</tr>\n",
       "<tr>\n",
       "  <th>Df Model:</th>              <td>     8</td>      <th>                     </th>     <td> </td>    \n",
       "</tr>\n",
       "<tr>\n",
       "  <th>Covariance Type:</th>      <td>nonrobust</td>    <th>                     </th>     <td> </td>    \n",
       "</tr>\n",
       "</table>\n",
       "<table class=\"simpletable\">\n",
       "<tr>\n",
       "       <td></td>         <th>coef</th>     <th>std err</th>      <th>t</th>      <th>P>|t|</th>  <th>[0.025</th>    <th>0.975]</th>  \n",
       "</tr>\n",
       "<tr>\n",
       "  <th>const</th>      <td>-2.977e+04</td> <td> 2335.090</td> <td>  -12.749</td> <td> 0.000</td> <td>-3.44e+04</td> <td>-2.52e+04</td>\n",
       "</tr>\n",
       "<tr>\n",
       "  <th>age</th>        <td>  255.7524</td> <td>   11.897</td> <td>   21.498</td> <td> 0.000</td> <td>  232.414</td> <td>  279.090</td>\n",
       "</tr>\n",
       "<tr>\n",
       "  <th>bmi</th>        <td> 2.368e+04</td> <td> 1976.099</td> <td>   11.983</td> <td> 0.000</td> <td> 1.98e+04</td> <td> 2.76e+04</td>\n",
       "</tr>\n",
       "<tr>\n",
       "  <th>children</th>   <td>  476.3307</td> <td>  137.666</td> <td>    3.460</td> <td> 0.001</td> <td>  206.264</td> <td>  746.398</td>\n",
       "</tr>\n",
       "<tr>\n",
       "  <th>female</th>     <td>  133.7055</td> <td>  332.618</td> <td>    0.402</td> <td> 0.688</td> <td> -518.808</td> <td>  786.219</td>\n",
       "</tr>\n",
       "<tr>\n",
       "  <th>smoker_yes</th> <td> 2.386e+04</td> <td>  412.758</td> <td>   57.806</td> <td> 0.000</td> <td> 2.31e+04</td> <td> 2.47e+04</td>\n",
       "</tr>\n",
       "<tr>\n",
       "  <th>northeast</th>  <td>-6836.9410</td> <td>  615.929</td> <td>  -11.100</td> <td> 0.000</td> <td>-8045.240</td> <td>-5628.642</td>\n",
       "</tr>\n",
       "<tr>\n",
       "  <th>northwest</th>  <td>-7242.8017</td> <td>  620.414</td> <td>  -11.674</td> <td> 0.000</td> <td>-8459.899</td> <td>-6025.704</td>\n",
       "</tr>\n",
       "<tr>\n",
       "  <th>southeast</th>  <td>-7851.9979</td> <td>  714.480</td> <td>  -10.990</td> <td> 0.000</td> <td>-9253.629</td> <td>-6450.366</td>\n",
       "</tr>\n",
       "<tr>\n",
       "  <th>southwest</th>  <td>-7838.4189</td> <td>  654.003</td> <td>  -11.985</td> <td> 0.000</td> <td>-9121.409</td> <td>-6555.429</td>\n",
       "</tr>\n",
       "</table>\n",
       "<table class=\"simpletable\">\n",
       "<tr>\n",
       "  <th>Omnibus:</th>       <td>304.091</td> <th>  Durbin-Watson:     </th> <td>   2.085</td> \n",
       "</tr>\n",
       "<tr>\n",
       "  <th>Prob(Omnibus):</th> <td> 0.000</td>  <th>  Jarque-Bera (JB):  </th> <td> 723.749</td> \n",
       "</tr>\n",
       "<tr>\n",
       "  <th>Skew:</th>          <td> 1.228</td>  <th>  Prob(JB):          </th> <td>6.92e-158</td>\n",
       "</tr>\n",
       "<tr>\n",
       "  <th>Kurtosis:</th>      <td> 5.636</td>  <th>  Cond. No.          </th> <td>2.15e+17</td> \n",
       "</tr>\n",
       "</table><br/><br/>Notes:<br/>[1] Standard Errors assume that the covariance matrix of the errors is correctly specified.<br/>[2] The smallest eigenvalue is 5.06e-29. This might indicate that there are<br/>strong multicollinearity problems or that the design matrix is singular."
      ],
      "text/plain": [
       "<class 'statsmodels.iolib.summary.Summary'>\n",
       "\"\"\"\n",
       "                            OLS Regression Results                            \n",
       "==============================================================================\n",
       "Dep. Variable:                charges   R-squared:                       0.751\n",
       "Model:                            OLS   Adj. R-squared:                  0.750\n",
       "Method:                 Least Squares   F-statistic:                     502.1\n",
       "Date:                Fri, 03 Jun 2022   Prob (F-statistic):               0.00\n",
       "Time:                        13:03:44   Log-Likelihood:                -13546.\n",
       "No. Observations:                1338   AIC:                         2.711e+04\n",
       "Df Residuals:                    1329   BIC:                         2.716e+04\n",
       "Df Model:                           8                                         \n",
       "Covariance Type:            nonrobust                                         \n",
       "==============================================================================\n",
       "                 coef    std err          t      P>|t|      [0.025      0.975]\n",
       "------------------------------------------------------------------------------\n",
       "const      -2.977e+04   2335.090    -12.749      0.000   -3.44e+04   -2.52e+04\n",
       "age          255.7524     11.897     21.498      0.000     232.414     279.090\n",
       "bmi         2.368e+04   1976.099     11.983      0.000    1.98e+04    2.76e+04\n",
       "children     476.3307    137.666      3.460      0.001     206.264     746.398\n",
       "female       133.7055    332.618      0.402      0.688    -518.808     786.219\n",
       "smoker_yes  2.386e+04    412.758     57.806      0.000    2.31e+04    2.47e+04\n",
       "northeast  -6836.9410    615.929    -11.100      0.000   -8045.240   -5628.642\n",
       "northwest  -7242.8017    620.414    -11.674      0.000   -8459.899   -6025.704\n",
       "southeast  -7851.9979    714.480    -10.990      0.000   -9253.629   -6450.366\n",
       "southwest  -7838.4189    654.003    -11.985      0.000   -9121.409   -6555.429\n",
       "==============================================================================\n",
       "Omnibus:                      304.091   Durbin-Watson:                   2.085\n",
       "Prob(Omnibus):                  0.000   Jarque-Bera (JB):              723.749\n",
       "Skew:                           1.228   Prob(JB):                    6.92e-158\n",
       "Kurtosis:                       5.636   Cond. No.                     2.15e+17\n",
       "==============================================================================\n",
       "\n",
       "Notes:\n",
       "[1] Standard Errors assume that the covariance matrix of the errors is correctly specified.\n",
       "[2] The smallest eigenvalue is 5.06e-29. This might indicate that there are\n",
       "strong multicollinearity problems or that the design matrix is singular.\n",
       "\"\"\""
      ]
     },
     "execution_count": 67,
     "metadata": {},
     "output_type": "execute_result"
    }
   ],
   "source": [
    "# y_train=data.pop('charges')\n",
    "import math\n",
    "X_train = data.copy()\n",
    "for i in range(0 , len(X_train['bmi'])):\n",
    "    X_train['bmi'][i] = math.log(X_train['bmi'][i],10)\n",
    "    \n",
    "\n",
    "\n",
    "import statsmodels.api as sm\n",
    "X_train_sm = sm.add_constant(X_train)\n",
    "\n",
    "bmi_lg= sm.OLS(y_train, X_train_sm).fit()\n",
    "bmi_lg.summary()"
   ]
  },
  {
   "cell_type": "markdown",
   "metadata": {},
   "source": [
    "Модель 8."
   ]
  },
  {
   "cell_type": "code",
   "execution_count": 68,
   "metadata": {},
   "outputs": [
    {
     "data": {
      "text/html": [
       "<table class=\"simpletable\">\n",
       "<caption>OLS Regression Results</caption>\n",
       "<tr>\n",
       "  <th>Dep. Variable:</th>         <td>charges</td>     <th>  R-squared:         </th> <td>   0.665</td> \n",
       "</tr>\n",
       "<tr>\n",
       "  <th>Model:</th>                   <td>OLS</td>       <th>  Adj. R-squared:    </th> <td>   0.663</td> \n",
       "</tr>\n",
       "<tr>\n",
       "  <th>Method:</th>             <td>Least Squares</td>  <th>  F-statistic:       </th> <td>   377.1</td> \n",
       "</tr>\n",
       "<tr>\n",
       "  <th>Date:</th>             <td>Fri, 03 Jun 2022</td> <th>  Prob (F-statistic):</th> <td>1.94e-310</td>\n",
       "</tr>\n",
       "<tr>\n",
       "  <th>Time:</th>                 <td>13:03:45</td>     <th>  Log-Likelihood:    </th> <td> -13746.</td> \n",
       "</tr>\n",
       "<tr>\n",
       "  <th>No. Observations:</th>      <td>  1338</td>      <th>  AIC:               </th> <td>2.751e+04</td>\n",
       "</tr>\n",
       "<tr>\n",
       "  <th>Df Residuals:</th>          <td>  1330</td>      <th>  BIC:               </th> <td>2.755e+04</td>\n",
       "</tr>\n",
       "<tr>\n",
       "  <th>Df Model:</th>              <td>     7</td>      <th>                     </th>     <td> </td>    \n",
       "</tr>\n",
       "<tr>\n",
       "  <th>Covariance Type:</th>      <td>nonrobust</td>    <th>                     </th>     <td> </td>    \n",
       "</tr>\n",
       "</table>\n",
       "<table class=\"simpletable\">\n",
       "<tr>\n",
       "       <td></td>         <th>coef</th>     <th>std err</th>      <th>t</th>      <th>P>|t|</th>  <th>[0.025</th>    <th>0.975]</th>  \n",
       "</tr>\n",
       "<tr>\n",
       "  <th>age</th>        <td>-2.808e+04</td> <td> 2708.322</td> <td>  -10.369</td> <td> 0.000</td> <td>-3.34e+04</td> <td>-2.28e+04</td>\n",
       "</tr>\n",
       "<tr>\n",
       "  <th>bmi</th>        <td> 2.892e+04</td> <td> 2275.740</td> <td>   12.707</td> <td> 0.000</td> <td> 2.45e+04</td> <td> 3.34e+04</td>\n",
       "</tr>\n",
       "<tr>\n",
       "  <th>children</th>   <td>  597.5486</td> <td>  159.627</td> <td>    3.743</td> <td> 0.000</td> <td>  284.401</td> <td>  910.696</td>\n",
       "</tr>\n",
       "<tr>\n",
       "  <th>female</th>     <td>  314.5665</td> <td>  385.877</td> <td>    0.815</td> <td> 0.415</td> <td> -442.426</td> <td> 1071.560</td>\n",
       "</tr>\n",
       "<tr>\n",
       "  <th>smoker_yes</th> <td> 2.367e+04</td> <td>  478.897</td> <td>   49.436</td> <td> 0.000</td> <td> 2.27e+04</td> <td> 2.46e+04</td>\n",
       "</tr>\n",
       "<tr>\n",
       "  <th>northeast</th>  <td>-6285.5651</td> <td>  714.160</td> <td>   -8.801</td> <td> 0.000</td> <td>-7686.569</td> <td>-4884.562</td>\n",
       "</tr>\n",
       "<tr>\n",
       "  <th>northwest</th>  <td>-6742.3751</td> <td>  719.478</td> <td>   -9.371</td> <td> 0.000</td> <td>-8153.810</td> <td>-5330.940</td>\n",
       "</tr>\n",
       "<tr>\n",
       "  <th>southeast</th>  <td>-7683.4970</td> <td>  829.098</td> <td>   -9.267</td> <td> 0.000</td> <td>-9309.979</td> <td>-6057.015</td>\n",
       "</tr>\n",
       "<tr>\n",
       "  <th>southwest</th>  <td>-7372.3892</td> <td>  758.547</td> <td>   -9.719</td> <td> 0.000</td> <td>-8860.468</td> <td>-5884.310</td>\n",
       "</tr>\n",
       "</table>\n",
       "<table class=\"simpletable\">\n",
       "<tr>\n",
       "  <th>Omnibus:</th>       <td>165.072</td> <th>  Durbin-Watson:     </th> <td>   2.041</td>\n",
       "</tr>\n",
       "<tr>\n",
       "  <th>Prob(Omnibus):</th> <td> 0.000</td>  <th>  Jarque-Bera (JB):  </th> <td> 261.380</td>\n",
       "</tr>\n",
       "<tr>\n",
       "  <th>Skew:</th>          <td> 0.847</td>  <th>  Prob(JB):          </th> <td>1.75e-57</td>\n",
       "</tr>\n",
       "<tr>\n",
       "  <th>Kurtosis:</th>      <td> 4.349</td>  <th>  Cond. No.          </th> <td>8.54e+15</td>\n",
       "</tr>\n",
       "</table><br/><br/>Notes:<br/>[1] Standard Errors assume that the covariance matrix of the errors is correctly specified.<br/>[2] The smallest eigenvalue is 9.87e-29. This might indicate that there are<br/>strong multicollinearity problems or that the design matrix is singular."
      ],
      "text/plain": [
       "<class 'statsmodels.iolib.summary.Summary'>\n",
       "\"\"\"\n",
       "                            OLS Regression Results                            \n",
       "==============================================================================\n",
       "Dep. Variable:                charges   R-squared:                       0.665\n",
       "Model:                            OLS   Adj. R-squared:                  0.663\n",
       "Method:                 Least Squares   F-statistic:                     377.1\n",
       "Date:                Fri, 03 Jun 2022   Prob (F-statistic):          1.94e-310\n",
       "Time:                        13:03:45   Log-Likelihood:                -13746.\n",
       "No. Observations:                1338   AIC:                         2.751e+04\n",
       "Df Residuals:                    1330   BIC:                         2.755e+04\n",
       "Df Model:                           7                                         \n",
       "Covariance Type:            nonrobust                                         \n",
       "==============================================================================\n",
       "                 coef    std err          t      P>|t|      [0.025      0.975]\n",
       "------------------------------------------------------------------------------\n",
       "age        -2.808e+04   2708.322    -10.369      0.000   -3.34e+04   -2.28e+04\n",
       "bmi         2.892e+04   2275.740     12.707      0.000    2.45e+04    3.34e+04\n",
       "children     597.5486    159.627      3.743      0.000     284.401     910.696\n",
       "female       314.5665    385.877      0.815      0.415    -442.426    1071.560\n",
       "smoker_yes  2.367e+04    478.897     49.436      0.000    2.27e+04    2.46e+04\n",
       "northeast  -6285.5651    714.160     -8.801      0.000   -7686.569   -4884.562\n",
       "northwest  -6742.3751    719.478     -9.371      0.000   -8153.810   -5330.940\n",
       "southeast  -7683.4970    829.098     -9.267      0.000   -9309.979   -6057.015\n",
       "southwest  -7372.3892    758.547     -9.719      0.000   -8860.468   -5884.310\n",
       "==============================================================================\n",
       "Omnibus:                      165.072   Durbin-Watson:                   2.041\n",
       "Prob(Omnibus):                  0.000   Jarque-Bera (JB):              261.380\n",
       "Skew:                           0.847   Prob(JB):                     1.75e-57\n",
       "Kurtosis:                       4.349   Cond. No.                     8.54e+15\n",
       "==============================================================================\n",
       "\n",
       "Notes:\n",
       "[1] Standard Errors assume that the covariance matrix of the errors is correctly specified.\n",
       "[2] The smallest eigenvalue is 9.87e-29. This might indicate that there are\n",
       "strong multicollinearity problems or that the design matrix is singular.\n",
       "\"\"\""
      ]
     },
     "execution_count": 68,
     "metadata": {},
     "output_type": "execute_result"
    }
   ],
   "source": [
    "# y_train=data.pop('charges')\n",
    "\n",
    "X_train = data.copy()\n",
    "for i in range(0 , len(X_train['bmi'])):\n",
    "    X_train['bmi'][i] = math.log(X_train['bmi'][i],10)\n",
    "    X_train['age'][i] = math.log(X_train['age'][i],10)\n",
    "\n",
    "\n",
    "import statsmodels.api as sm\n",
    "X_train_sm = sm.add_constant(X_train)\n",
    "\n",
    "bmi_age_lg= sm.OLS(y_train, X_train_sm).fit()\n",
    "bmi_age_lg.summary()"
   ]
  },
  {
   "cell_type": "markdown",
   "metadata": {},
   "source": [
    "Модель 9."
   ]
  },
  {
   "cell_type": "code",
   "execution_count": 69,
   "metadata": {},
   "outputs": [
    {
     "data": {
      "text/html": [
       "<table class=\"simpletable\">\n",
       "<caption>OLS Regression Results</caption>\n",
       "<tr>\n",
       "  <th>Dep. Variable:</th>         <td>charges</td>     <th>  R-squared:         </th> <td>   0.754</td> \n",
       "</tr>\n",
       "<tr>\n",
       "  <th>Model:</th>                   <td>OLS</td>       <th>  Adj. R-squared:    </th> <td>   0.753</td> \n",
       "</tr>\n",
       "<tr>\n",
       "  <th>Method:</th>             <td>Least Squares</td>  <th>  F-statistic:       </th> <td>   509.6</td> \n",
       "</tr>\n",
       "<tr>\n",
       "  <th>Date:</th>             <td>Fri, 03 Jun 2022</td> <th>  Prob (F-statistic):</th>  <td>  0.00</td>  \n",
       "</tr>\n",
       "<tr>\n",
       "  <th>Time:</th>                 <td>13:03:45</td>     <th>  Log-Likelihood:    </th> <td> -13539.</td> \n",
       "</tr>\n",
       "<tr>\n",
       "  <th>No. Observations:</th>      <td>  1338</td>      <th>  AIC:               </th> <td>2.710e+04</td>\n",
       "</tr>\n",
       "<tr>\n",
       "  <th>Df Residuals:</th>          <td>  1329</td>      <th>  BIC:               </th> <td>2.714e+04</td>\n",
       "</tr>\n",
       "<tr>\n",
       "  <th>Df Model:</th>              <td>     8</td>      <th>                     </th>     <td> </td>    \n",
       "</tr>\n",
       "<tr>\n",
       "  <th>Covariance Type:</th>      <td>nonrobust</td>    <th>                     </th>     <td> </td>    \n",
       "</tr>\n",
       "</table>\n",
       "<table class=\"simpletable\">\n",
       "<tr>\n",
       "       <td></td>         <th>coef</th>     <th>std err</th>      <th>t</th>      <th>P>|t|</th>  <th>[0.025</th>    <th>0.975]</th>  \n",
       "</tr>\n",
       "<tr>\n",
       "  <th>const</th>      <td>-2.609e+04</td> <td> 2322.604</td> <td>  -11.233</td> <td> 0.000</td> <td>-3.06e+04</td> <td>-2.15e+04</td>\n",
       "</tr>\n",
       "<tr>\n",
       "  <th>age</th>        <td>    3.2407</td> <td>    0.148</td> <td>   21.959</td> <td> 0.000</td> <td>    2.951</td> <td>    3.530</td>\n",
       "</tr>\n",
       "<tr>\n",
       "  <th>bmi</th>        <td> 2.344e+04</td> <td> 1966.007</td> <td>   11.925</td> <td> 0.000</td> <td> 1.96e+04</td> <td> 2.73e+04</td>\n",
       "</tr>\n",
       "<tr>\n",
       "  <th>children</th>   <td>  613.1307</td> <td>  136.790</td> <td>    4.482</td> <td> 0.000</td> <td>  344.783</td> <td>  881.478</td>\n",
       "</tr>\n",
       "<tr>\n",
       "  <th>female</th>     <td>  138.8321</td> <td>  330.764</td> <td>    0.420</td> <td> 0.675</td> <td> -510.045</td> <td>  787.709</td>\n",
       "</tr>\n",
       "<tr>\n",
       "  <th>smoker_yes</th> <td> 2.387e+04</td> <td>  410.476</td> <td>   58.152</td> <td> 0.000</td> <td> 2.31e+04</td> <td> 2.47e+04</td>\n",
       "</tr>\n",
       "<tr>\n",
       "  <th>northeast</th>  <td>-5915.6909</td> <td>  612.214</td> <td>   -9.663</td> <td> 0.000</td> <td>-7116.702</td> <td>-4714.680</td>\n",
       "</tr>\n",
       "<tr>\n",
       "  <th>northwest</th>  <td>-6333.0950</td> <td>  616.820</td> <td>  -10.267</td> <td> 0.000</td> <td>-7543.143</td> <td>-5123.047</td>\n",
       "</tr>\n",
       "<tr>\n",
       "  <th>southeast</th>  <td>-6927.3617</td> <td>  711.309</td> <td>   -9.739</td> <td> 0.000</td> <td>-8322.772</td> <td>-5531.951</td>\n",
       "</tr>\n",
       "<tr>\n",
       "  <th>southwest</th>  <td>-6914.7218</td> <td>  650.352</td> <td>  -10.632</td> <td> 0.000</td> <td>-8190.551</td> <td>-5638.893</td>\n",
       "</tr>\n",
       "</table>\n",
       "<table class=\"simpletable\">\n",
       "<tr>\n",
       "  <th>Omnibus:</th>       <td>312.130</td> <th>  Durbin-Watson:     </th> <td>   2.092</td> \n",
       "</tr>\n",
       "<tr>\n",
       "  <th>Prob(Omnibus):</th> <td> 0.000</td>  <th>  Jarque-Bera (JB):  </th> <td> 763.757</td> \n",
       "</tr>\n",
       "<tr>\n",
       "  <th>Skew:</th>          <td> 1.248</td>  <th>  Prob(JB):          </th> <td>1.42e-166</td>\n",
       "</tr>\n",
       "<tr>\n",
       "  <th>Kurtosis:</th>      <td> 5.733</td>  <th>  Cond. No.          </th> <td>9.70e+18</td> \n",
       "</tr>\n",
       "</table><br/><br/>Notes:<br/>[1] Standard Errors assume that the covariance matrix of the errors is correctly specified.<br/>[2] The smallest eigenvalue is 6.08e-29. This might indicate that there are<br/>strong multicollinearity problems or that the design matrix is singular."
      ],
      "text/plain": [
       "<class 'statsmodels.iolib.summary.Summary'>\n",
       "\"\"\"\n",
       "                            OLS Regression Results                            \n",
       "==============================================================================\n",
       "Dep. Variable:                charges   R-squared:                       0.754\n",
       "Model:                            OLS   Adj. R-squared:                  0.753\n",
       "Method:                 Least Squares   F-statistic:                     509.6\n",
       "Date:                Fri, 03 Jun 2022   Prob (F-statistic):               0.00\n",
       "Time:                        13:03:45   Log-Likelihood:                -13539.\n",
       "No. Observations:                1338   AIC:                         2.710e+04\n",
       "Df Residuals:                    1329   BIC:                         2.714e+04\n",
       "Df Model:                           8                                         \n",
       "Covariance Type:            nonrobust                                         \n",
       "==============================================================================\n",
       "                 coef    std err          t      P>|t|      [0.025      0.975]\n",
       "------------------------------------------------------------------------------\n",
       "const      -2.609e+04   2322.604    -11.233      0.000   -3.06e+04   -2.15e+04\n",
       "age            3.2407      0.148     21.959      0.000       2.951       3.530\n",
       "bmi         2.344e+04   1966.007     11.925      0.000    1.96e+04    2.73e+04\n",
       "children     613.1307    136.790      4.482      0.000     344.783     881.478\n",
       "female       138.8321    330.764      0.420      0.675    -510.045     787.709\n",
       "smoker_yes  2.387e+04    410.476     58.152      0.000    2.31e+04    2.47e+04\n",
       "northeast  -5915.6909    612.214     -9.663      0.000   -7116.702   -4714.680\n",
       "northwest  -6333.0950    616.820    -10.267      0.000   -7543.143   -5123.047\n",
       "southeast  -6927.3617    711.309     -9.739      0.000   -8322.772   -5531.951\n",
       "southwest  -6914.7218    650.352    -10.632      0.000   -8190.551   -5638.893\n",
       "==============================================================================\n",
       "Omnibus:                      312.130   Durbin-Watson:                   2.092\n",
       "Prob(Omnibus):                  0.000   Jarque-Bera (JB):              763.757\n",
       "Skew:                           1.248   Prob(JB):                    1.42e-166\n",
       "Kurtosis:                       5.733   Cond. No.                     9.70e+18\n",
       "==============================================================================\n",
       "\n",
       "Notes:\n",
       "[1] Standard Errors assume that the covariance matrix of the errors is correctly specified.\n",
       "[2] The smallest eigenvalue is 6.08e-29. This might indicate that there are\n",
       "strong multicollinearity problems or that the design matrix is singular.\n",
       "\"\"\""
      ]
     },
     "execution_count": 69,
     "metadata": {},
     "output_type": "execute_result"
    }
   ],
   "source": [
    "\n",
    "X_train = data.copy()\n",
    "for i in range(0 , len(X_train['bmi'])):\n",
    "    X_train['bmi'][i] = math.log(X_train['bmi'][i],10)\n",
    "    X_train['age'][i] = X_train['age'][i] * X_train['age'][i]\n",
    "\n",
    "\n",
    "import statsmodels.api as sm\n",
    "X_train_sm = sm.add_constant(X_train)\n",
    "\n",
    "lm_16= sm.OLS(y_train, X_train_sm).fit()\n",
    "lm_16.summary()"
   ]
  },
  {
   "cell_type": "markdown",
   "metadata": {},
   "source": [
    "Модель 10."
   ]
  },
  {
   "cell_type": "code",
   "execution_count": 70,
   "metadata": {},
   "outputs": [
    {
     "data": {
      "text/html": [
       "<table class=\"simpletable\">\n",
       "<caption>OLS Regression Results</caption>\n",
       "<tr>\n",
       "  <th>Dep. Variable:</th>         <td>charges</td>     <th>  R-squared:         </th> <td>   0.658</td> \n",
       "</tr>\n",
       "<tr>\n",
       "  <th>Model:</th>                   <td>OLS</td>       <th>  Adj. R-squared:    </th> <td>   0.657</td> \n",
       "</tr>\n",
       "<tr>\n",
       "  <th>Method:</th>             <td>Least Squares</td>  <th>  F-statistic:       </th> <td>   1284.</td> \n",
       "</tr>\n",
       "<tr>\n",
       "  <th>Date:</th>             <td>Fri, 03 Jun 2022</td> <th>  Prob (F-statistic):</th> <td>1.03e-311</td>\n",
       "</tr>\n",
       "<tr>\n",
       "  <th>Time:</th>                 <td>13:03:45</td>     <th>  Log-Likelihood:    </th> <td> -13760.</td> \n",
       "</tr>\n",
       "<tr>\n",
       "  <th>No. Observations:</th>      <td>  1338</td>      <th>  AIC:               </th> <td>2.753e+04</td>\n",
       "</tr>\n",
       "<tr>\n",
       "  <th>Df Residuals:</th>          <td>  1335</td>      <th>  BIC:               </th> <td>2.754e+04</td>\n",
       "</tr>\n",
       "<tr>\n",
       "  <th>Df Model:</th>              <td>     2</td>      <th>                     </th>     <td> </td>    \n",
       "</tr>\n",
       "<tr>\n",
       "  <th>Covariance Type:</th>      <td>nonrobust</td>    <th>                     </th>     <td> </td>    \n",
       "</tr>\n",
       "</table>\n",
       "<table class=\"simpletable\">\n",
       "<tr>\n",
       "       <td></td>         <th>coef</th>     <th>std err</th>      <th>t</th>      <th>P>|t|</th>  <th>[0.025</th>    <th>0.975]</th>  \n",
       "</tr>\n",
       "<tr>\n",
       "  <th>const</th>      <td>-3459.0955</td> <td>  998.279</td> <td>   -3.465</td> <td> 0.001</td> <td>-5417.463</td> <td>-1500.728</td>\n",
       "</tr>\n",
       "<tr>\n",
       "  <th>bmi</th>        <td>  388.0152</td> <td>   31.787</td> <td>   12.207</td> <td> 0.000</td> <td>  325.656</td> <td>  450.374</td>\n",
       "</tr>\n",
       "<tr>\n",
       "  <th>smoker_yes</th> <td> 2.359e+04</td> <td>  480.180</td> <td>   49.136</td> <td> 0.000</td> <td> 2.27e+04</td> <td> 2.45e+04</td>\n",
       "</tr>\n",
       "</table>\n",
       "<table class=\"simpletable\">\n",
       "<tr>\n",
       "  <th>Omnibus:</th>       <td>153.688</td> <th>  Durbin-Watson:     </th> <td>   2.034</td>\n",
       "</tr>\n",
       "<tr>\n",
       "  <th>Prob(Omnibus):</th> <td> 0.000</td>  <th>  Jarque-Bera (JB):  </th> <td> 239.253</td>\n",
       "</tr>\n",
       "<tr>\n",
       "  <th>Skew:</th>          <td> 0.805</td>  <th>  Prob(JB):          </th> <td>1.11e-52</td>\n",
       "</tr>\n",
       "<tr>\n",
       "  <th>Kurtosis:</th>      <td> 4.303</td>  <th>  Cond. No.          </th> <td>    161.</td>\n",
       "</tr>\n",
       "</table><br/><br/>Notes:<br/>[1] Standard Errors assume that the covariance matrix of the errors is correctly specified."
      ],
      "text/plain": [
       "<class 'statsmodels.iolib.summary.Summary'>\n",
       "\"\"\"\n",
       "                            OLS Regression Results                            \n",
       "==============================================================================\n",
       "Dep. Variable:                charges   R-squared:                       0.658\n",
       "Model:                            OLS   Adj. R-squared:                  0.657\n",
       "Method:                 Least Squares   F-statistic:                     1284.\n",
       "Date:                Fri, 03 Jun 2022   Prob (F-statistic):          1.03e-311\n",
       "Time:                        13:03:45   Log-Likelihood:                -13760.\n",
       "No. Observations:                1338   AIC:                         2.753e+04\n",
       "Df Residuals:                    1335   BIC:                         2.754e+04\n",
       "Df Model:                           2                                         \n",
       "Covariance Type:            nonrobust                                         \n",
       "==============================================================================\n",
       "                 coef    std err          t      P>|t|      [0.025      0.975]\n",
       "------------------------------------------------------------------------------\n",
       "const      -3459.0955    998.279     -3.465      0.001   -5417.463   -1500.728\n",
       "bmi          388.0152     31.787     12.207      0.000     325.656     450.374\n",
       "smoker_yes  2.359e+04    480.180     49.136      0.000    2.27e+04    2.45e+04\n",
       "==============================================================================\n",
       "Omnibus:                      153.688   Durbin-Watson:                   2.034\n",
       "Prob(Omnibus):                  0.000   Jarque-Bera (JB):              239.253\n",
       "Skew:                           0.805   Prob(JB):                     1.11e-52\n",
       "Kurtosis:                       4.303   Cond. No.                         161.\n",
       "==============================================================================\n",
       "\n",
       "Notes:\n",
       "[1] Standard Errors assume that the covariance matrix of the errors is correctly specified.\n",
       "\"\"\""
      ]
     },
     "execution_count": 70,
     "metadata": {},
     "output_type": "execute_result"
    }
   ],
   "source": [
    "# y_train=data.pop('charges')\n",
    "\n",
    "\n",
    "X_train = data.loc[:, data.columns.isin(['bmi', 'smoker_yes',])]\n",
    "\n",
    "import statsmodels.api as sm\n",
    "X_train_sm = sm.add_constant(X_train)\n",
    "\n",
    "lm_9= sm.OLS(y_train, X_train_sm).fit()\n",
    "lm_9.summary()"
   ]
  },
  {
   "cell_type": "markdown",
   "metadata": {},
   "source": [
    "Модель 11."
   ]
  },
  {
   "cell_type": "code",
   "execution_count": 71,
   "metadata": {},
   "outputs": [
    {
     "data": {
      "text/html": [
       "<table class=\"simpletable\">\n",
       "<caption>OLS Regression Results</caption>\n",
       "<tr>\n",
       "  <th>Dep. Variable:</th>         <td>charges</td>     <th>  R-squared:         </th> <td>   0.721</td> \n",
       "</tr>\n",
       "<tr>\n",
       "  <th>Model:</th>                   <td>OLS</td>       <th>  Adj. R-squared:    </th> <td>   0.721</td> \n",
       "</tr>\n",
       "<tr>\n",
       "  <th>Method:</th>             <td>Least Squares</td>  <th>  F-statistic:       </th> <td>   1728.</td> \n",
       "</tr>\n",
       "<tr>\n",
       "  <th>Date:</th>             <td>Fri, 03 Jun 2022</td> <th>  Prob (F-statistic):</th>  <td>  0.00</td>  \n",
       "</tr>\n",
       "<tr>\n",
       "  <th>Time:</th>                 <td>13:03:45</td>     <th>  Log-Likelihood:    </th> <td> -13623.</td> \n",
       "</tr>\n",
       "<tr>\n",
       "  <th>No. Observations:</th>      <td>  1338</td>      <th>  AIC:               </th> <td>2.725e+04</td>\n",
       "</tr>\n",
       "<tr>\n",
       "  <th>Df Residuals:</th>          <td>  1335</td>      <th>  BIC:               </th> <td>2.727e+04</td>\n",
       "</tr>\n",
       "<tr>\n",
       "  <th>Df Model:</th>              <td>     2</td>      <th>                     </th>     <td> </td>    \n",
       "</tr>\n",
       "<tr>\n",
       "  <th>Covariance Type:</th>      <td>nonrobust</td>    <th>                     </th>     <td> </td>    \n",
       "</tr>\n",
       "</table>\n",
       "<table class=\"simpletable\">\n",
       "<tr>\n",
       "       <td></td>         <th>coef</th>     <th>std err</th>      <th>t</th>      <th>P>|t|</th>  <th>[0.025</th>    <th>0.975]</th>  \n",
       "</tr>\n",
       "<tr>\n",
       "  <th>const</th>      <td>-2391.6264</td> <td>  528.302</td> <td>   -4.527</td> <td> 0.000</td> <td>-3428.019</td> <td>-1355.234</td>\n",
       "</tr>\n",
       "<tr>\n",
       "  <th>age</th>        <td>  274.8712</td> <td>   12.455</td> <td>   22.069</td> <td> 0.000</td> <td>  250.437</td> <td>  299.305</td>\n",
       "</tr>\n",
       "<tr>\n",
       "  <th>smoker_yes</th> <td> 2.386e+04</td> <td>  433.488</td> <td>   55.031</td> <td> 0.000</td> <td>  2.3e+04</td> <td> 2.47e+04</td>\n",
       "</tr>\n",
       "</table>\n",
       "<table class=\"simpletable\">\n",
       "<tr>\n",
       "  <th>Omnibus:</th>       <td>265.239</td> <th>  Durbin-Watson:     </th> <td>   2.080</td> \n",
       "</tr>\n",
       "<tr>\n",
       "  <th>Prob(Omnibus):</th> <td> 0.000</td>  <th>  Jarque-Bera (JB):  </th> <td> 636.675</td> \n",
       "</tr>\n",
       "<tr>\n",
       "  <th>Skew:</th>          <td> 1.074</td>  <th>  Prob(JB):          </th> <td>5.59e-139</td>\n",
       "</tr>\n",
       "<tr>\n",
       "  <th>Kurtosis:</th>      <td> 5.609</td>  <th>  Cond. No.          </th> <td>    130.</td> \n",
       "</tr>\n",
       "</table><br/><br/>Notes:<br/>[1] Standard Errors assume that the covariance matrix of the errors is correctly specified."
      ],
      "text/plain": [
       "<class 'statsmodels.iolib.summary.Summary'>\n",
       "\"\"\"\n",
       "                            OLS Regression Results                            \n",
       "==============================================================================\n",
       "Dep. Variable:                charges   R-squared:                       0.721\n",
       "Model:                            OLS   Adj. R-squared:                  0.721\n",
       "Method:                 Least Squares   F-statistic:                     1728.\n",
       "Date:                Fri, 03 Jun 2022   Prob (F-statistic):               0.00\n",
       "Time:                        13:03:45   Log-Likelihood:                -13623.\n",
       "No. Observations:                1338   AIC:                         2.725e+04\n",
       "Df Residuals:                    1335   BIC:                         2.727e+04\n",
       "Df Model:                           2                                         \n",
       "Covariance Type:            nonrobust                                         \n",
       "==============================================================================\n",
       "                 coef    std err          t      P>|t|      [0.025      0.975]\n",
       "------------------------------------------------------------------------------\n",
       "const      -2391.6264    528.302     -4.527      0.000   -3428.019   -1355.234\n",
       "age          274.8712     12.455     22.069      0.000     250.437     299.305\n",
       "smoker_yes  2.386e+04    433.488     55.031      0.000     2.3e+04    2.47e+04\n",
       "==============================================================================\n",
       "Omnibus:                      265.239   Durbin-Watson:                   2.080\n",
       "Prob(Omnibus):                  0.000   Jarque-Bera (JB):              636.675\n",
       "Skew:                           1.074   Prob(JB):                    5.59e-139\n",
       "Kurtosis:                       5.609   Cond. No.                         130.\n",
       "==============================================================================\n",
       "\n",
       "Notes:\n",
       "[1] Standard Errors assume that the covariance matrix of the errors is correctly specified.\n",
       "\"\"\""
      ]
     },
     "execution_count": 71,
     "metadata": {},
     "output_type": "execute_result"
    }
   ],
   "source": [
    "# y_train=data.pop('charges')\n",
    "\n",
    "X_train = data.loc[:, data.columns.isin(['age', 'smoker_yes',])]\n",
    "\n",
    "\n",
    "import statsmodels.api as sm\n",
    "X_train_sm = sm.add_constant(X_train)\n",
    "\n",
    "age_smoke= sm.OLS(y_train, X_train_sm).fit()\n",
    "age_smoke.summary()"
   ]
  },
  {
   "cell_type": "markdown",
   "metadata": {},
   "source": [
    "Модель 12."
   ]
  },
  {
   "cell_type": "code",
   "execution_count": 72,
   "metadata": {},
   "outputs": [
    {
     "data": {
      "text/html": [
       "<table class=\"simpletable\">\n",
       "<caption>OLS Regression Results</caption>\n",
       "<tr>\n",
       "  <th>Dep. Variable:</th>         <td>charges</td>     <th>  R-squared:         </th> <td>   0.751</td> \n",
       "</tr>\n",
       "<tr>\n",
       "  <th>Model:</th>                   <td>OLS</td>       <th>  Adj. R-squared:    </th> <td>   0.749</td> \n",
       "</tr>\n",
       "<tr>\n",
       "  <th>Method:</th>             <td>Least Squares</td>  <th>  F-statistic:       </th> <td>   500.8</td> \n",
       "</tr>\n",
       "<tr>\n",
       "  <th>Date:</th>             <td>Fri, 03 Jun 2022</td> <th>  Prob (F-statistic):</th>  <td>  0.00</td>  \n",
       "</tr>\n",
       "<tr>\n",
       "  <th>Time:</th>                 <td>13:03:46</td>     <th>  Log-Likelihood:    </th> <td> -13548.</td> \n",
       "</tr>\n",
       "<tr>\n",
       "  <th>No. Observations:</th>      <td>  1338</td>      <th>  AIC:               </th> <td>2.711e+04</td>\n",
       "</tr>\n",
       "<tr>\n",
       "  <th>Df Residuals:</th>          <td>  1329</td>      <th>  BIC:               </th> <td>2.716e+04</td>\n",
       "</tr>\n",
       "<tr>\n",
       "  <th>Df Model:</th>              <td>     8</td>      <th>                     </th>     <td> </td>    \n",
       "</tr>\n",
       "<tr>\n",
       "  <th>Covariance Type:</th>      <td>nonrobust</td>    <th>                     </th>     <td> </td>    \n",
       "</tr>\n",
       "</table>\n",
       "<table class=\"simpletable\">\n",
       "<tr>\n",
       "       <td></td>         <th>coef</th>     <th>std err</th>      <th>t</th>      <th>P>|t|</th>  <th>[0.025</th>    <th>0.975]</th>  \n",
       "</tr>\n",
       "<tr>\n",
       "  <th>const</th>      <td>-1.013e+04</td> <td>  791.569</td> <td>  -12.792</td> <td> 0.000</td> <td>-1.17e+04</td> <td>-8572.628</td>\n",
       "</tr>\n",
       "<tr>\n",
       "  <th>age</th>        <td>  256.8564</td> <td>   11.899</td> <td>   21.587</td> <td> 0.000</td> <td>  233.514</td> <td>  280.199</td>\n",
       "</tr>\n",
       "<tr>\n",
       "  <th>bmi</th>        <td>  339.1935</td> <td>   28.599</td> <td>   11.860</td> <td> 0.000</td> <td>  283.088</td> <td>  395.298</td>\n",
       "</tr>\n",
       "<tr>\n",
       "  <th>children</th>   <td>  475.5005</td> <td>  137.804</td> <td>    3.451</td> <td> 0.001</td> <td>  205.163</td> <td>  745.838</td>\n",
       "</tr>\n",
       "<tr>\n",
       "  <th>female</th>     <td>  131.3144</td> <td>  332.945</td> <td>    0.394</td> <td> 0.693</td> <td> -521.842</td> <td>  784.470</td>\n",
       "</tr>\n",
       "<tr>\n",
       "  <th>smoker_yes</th> <td> 2.385e+04</td> <td>  413.153</td> <td>   57.723</td> <td> 0.000</td> <td>  2.3e+04</td> <td> 2.47e+04</td>\n",
       "</tr>\n",
       "<tr>\n",
       "  <th>northeast</th>  <td>-1944.3632</td> <td>  334.580</td> <td>   -5.811</td> <td> 0.000</td> <td>-2600.725</td> <td>-1288.001</td>\n",
       "</tr>\n",
       "<tr>\n",
       "  <th>northwest</th>  <td>-2297.3271</td> <td>  335.065</td> <td>   -6.856</td> <td> 0.000</td> <td>-2954.641</td> <td>-1640.014</td>\n",
       "</tr>\n",
       "<tr>\n",
       "  <th>southeast</th>  <td>-2979.3852</td> <td>  386.076</td> <td>   -7.717</td> <td> 0.000</td> <td>-3736.771</td> <td>-2222.000</td>\n",
       "</tr>\n",
       "<tr>\n",
       "  <th>southwest</th>  <td>-2904.4142</td> <td>  352.330</td> <td>   -8.243</td> <td> 0.000</td> <td>-3595.597</td> <td>-2213.231</td>\n",
       "</tr>\n",
       "</table>\n",
       "<table class=\"simpletable\">\n",
       "<tr>\n",
       "  <th>Omnibus:</th>       <td>300.366</td> <th>  Durbin-Watson:     </th> <td>   2.088</td> \n",
       "</tr>\n",
       "<tr>\n",
       "  <th>Prob(Omnibus):</th> <td> 0.000</td>  <th>  Jarque-Bera (JB):  </th> <td> 718.887</td> \n",
       "</tr>\n",
       "<tr>\n",
       "  <th>Skew:</th>          <td> 1.211</td>  <th>  Prob(JB):          </th> <td>7.86e-157</td>\n",
       "</tr>\n",
       "<tr>\n",
       "  <th>Kurtosis:</th>      <td> 5.651</td>  <th>  Cond. No.          </th> <td>2.36e+17</td> \n",
       "</tr>\n",
       "</table><br/><br/>Notes:<br/>[1] Standard Errors assume that the covariance matrix of the errors is correctly specified.<br/>[2] The smallest eigenvalue is 6.3e-29. This might indicate that there are<br/>strong multicollinearity problems or that the design matrix is singular."
      ],
      "text/plain": [
       "<class 'statsmodels.iolib.summary.Summary'>\n",
       "\"\"\"\n",
       "                            OLS Regression Results                            \n",
       "==============================================================================\n",
       "Dep. Variable:                charges   R-squared:                       0.751\n",
       "Model:                            OLS   Adj. R-squared:                  0.749\n",
       "Method:                 Least Squares   F-statistic:                     500.8\n",
       "Date:                Fri, 03 Jun 2022   Prob (F-statistic):               0.00\n",
       "Time:                        13:03:46   Log-Likelihood:                -13548.\n",
       "No. Observations:                1338   AIC:                         2.711e+04\n",
       "Df Residuals:                    1329   BIC:                         2.716e+04\n",
       "Df Model:                           8                                         \n",
       "Covariance Type:            nonrobust                                         \n",
       "==============================================================================\n",
       "                 coef    std err          t      P>|t|      [0.025      0.975]\n",
       "------------------------------------------------------------------------------\n",
       "const      -1.013e+04    791.569    -12.792      0.000   -1.17e+04   -8572.628\n",
       "age          256.8564     11.899     21.587      0.000     233.514     280.199\n",
       "bmi          339.1935     28.599     11.860      0.000     283.088     395.298\n",
       "children     475.5005    137.804      3.451      0.001     205.163     745.838\n",
       "female       131.3144    332.945      0.394      0.693    -521.842     784.470\n",
       "smoker_yes  2.385e+04    413.153     57.723      0.000     2.3e+04    2.47e+04\n",
       "northeast  -1944.3632    334.580     -5.811      0.000   -2600.725   -1288.001\n",
       "northwest  -2297.3271    335.065     -6.856      0.000   -2954.641   -1640.014\n",
       "southeast  -2979.3852    386.076     -7.717      0.000   -3736.771   -2222.000\n",
       "southwest  -2904.4142    352.330     -8.243      0.000   -3595.597   -2213.231\n",
       "==============================================================================\n",
       "Omnibus:                      300.366   Durbin-Watson:                   2.088\n",
       "Prob(Omnibus):                  0.000   Jarque-Bera (JB):              718.887\n",
       "Skew:                           1.211   Prob(JB):                    7.86e-157\n",
       "Kurtosis:                       5.651   Cond. No.                     2.36e+17\n",
       "==============================================================================\n",
       "\n",
       "Notes:\n",
       "[1] Standard Errors assume that the covariance matrix of the errors is correctly specified.\n",
       "[2] The smallest eigenvalue is 6.3e-29. This might indicate that there are\n",
       "strong multicollinearity problems or that the design matrix is singular.\n",
       "\"\"\""
      ]
     },
     "execution_count": 72,
     "metadata": {},
     "output_type": "execute_result"
    }
   ],
   "source": [
    "# y_train=data.pop('charges')\n",
    "X_train = data.copy()\n",
    "for i in range(0 , len(X_train['smoker_yes'])):\n",
    "    X_train['smoker_yes'][i] = X_train['smoker_yes'][i] * X_train['smoker_yes'][i]\n",
    "\n",
    "\n",
    "import statsmodels.api as sm\n",
    "X_train_sm = sm.add_constant(X_train)\n",
    "\n",
    "lm_11= sm.OLS(y_train, X_train_sm).fit()\n",
    "lm_11.summary()"
   ]
  },
  {
   "cell_type": "markdown",
   "metadata": {},
   "source": [
    "Модель 13."
   ]
  },
  {
   "cell_type": "code",
   "execution_count": 73,
   "metadata": {},
   "outputs": [
    {
     "data": {
      "text/html": [
       "<table class=\"simpletable\">\n",
       "<caption>OLS Regression Results</caption>\n",
       "<tr>\n",
       "  <th>Dep. Variable:</th>         <td>charges</td>     <th>  R-squared:         </th> <td>   0.117</td> \n",
       "</tr>\n",
       "<tr>\n",
       "  <th>Model:</th>                   <td>OLS</td>       <th>  Adj. R-squared:    </th> <td>   0.116</td> \n",
       "</tr>\n",
       "<tr>\n",
       "  <th>Method:</th>             <td>Least Squares</td>  <th>  F-statistic:       </th> <td>   88.60</td> \n",
       "</tr>\n",
       "<tr>\n",
       "  <th>Date:</th>             <td>Fri, 03 Jun 2022</td> <th>  Prob (F-statistic):</th> <td>7.39e-37</td> \n",
       "</tr>\n",
       "<tr>\n",
       "  <th>Time:</th>                 <td>13:03:46</td>     <th>  Log-Likelihood:    </th> <td> -14394.</td> \n",
       "</tr>\n",
       "<tr>\n",
       "  <th>No. Observations:</th>      <td>  1338</td>      <th>  AIC:               </th> <td>2.879e+04</td>\n",
       "</tr>\n",
       "<tr>\n",
       "  <th>Df Residuals:</th>          <td>  1335</td>      <th>  BIC:               </th> <td>2.881e+04</td>\n",
       "</tr>\n",
       "<tr>\n",
       "  <th>Df Model:</th>              <td>     2</td>      <th>                     </th>     <td> </td>    \n",
       "</tr>\n",
       "<tr>\n",
       "  <th>Covariance Type:</th>      <td>nonrobust</td>    <th>                     </th>     <td> </td>    \n",
       "</tr>\n",
       "</table>\n",
       "<table class=\"simpletable\">\n",
       "<tr>\n",
       "    <td></td>       <th>coef</th>     <th>std err</th>      <th>t</th>      <th>P>|t|</th>  <th>[0.025</th>    <th>0.975]</th>  \n",
       "</tr>\n",
       "<tr>\n",
       "  <th>const</th> <td>-6424.8046</td> <td> 1744.091</td> <td>   -3.684</td> <td> 0.000</td> <td>-9846.262</td> <td>-3003.347</td>\n",
       "</tr>\n",
       "<tr>\n",
       "  <th>age</th>   <td>  241.9308</td> <td>   22.298</td> <td>   10.850</td> <td> 0.000</td> <td>  198.187</td> <td>  285.674</td>\n",
       "</tr>\n",
       "<tr>\n",
       "  <th>bmi</th>   <td>  332.9651</td> <td>   51.374</td> <td>    6.481</td> <td> 0.000</td> <td>  232.182</td> <td>  433.748</td>\n",
       "</tr>\n",
       "</table>\n",
       "<table class=\"simpletable\">\n",
       "<tr>\n",
       "  <th>Omnibus:</th>       <td>321.874</td> <th>  Durbin-Watson:     </th> <td>   2.010</td> \n",
       "</tr>\n",
       "<tr>\n",
       "  <th>Prob(Omnibus):</th> <td> 0.000</td>  <th>  Jarque-Bera (JB):  </th> <td> 592.574</td> \n",
       "</tr>\n",
       "<tr>\n",
       "  <th>Skew:</th>          <td> 1.511</td>  <th>  Prob(JB):          </th> <td>2.11e-129</td>\n",
       "</tr>\n",
       "<tr>\n",
       "  <th>Kurtosis:</th>      <td> 4.223</td>  <th>  Cond. No.          </th> <td>    287.</td> \n",
       "</tr>\n",
       "</table><br/><br/>Notes:<br/>[1] Standard Errors assume that the covariance matrix of the errors is correctly specified."
      ],
      "text/plain": [
       "<class 'statsmodels.iolib.summary.Summary'>\n",
       "\"\"\"\n",
       "                            OLS Regression Results                            \n",
       "==============================================================================\n",
       "Dep. Variable:                charges   R-squared:                       0.117\n",
       "Model:                            OLS   Adj. R-squared:                  0.116\n",
       "Method:                 Least Squares   F-statistic:                     88.60\n",
       "Date:                Fri, 03 Jun 2022   Prob (F-statistic):           7.39e-37\n",
       "Time:                        13:03:46   Log-Likelihood:                -14394.\n",
       "No. Observations:                1338   AIC:                         2.879e+04\n",
       "Df Residuals:                    1335   BIC:                         2.881e+04\n",
       "Df Model:                           2                                         \n",
       "Covariance Type:            nonrobust                                         \n",
       "==============================================================================\n",
       "                 coef    std err          t      P>|t|      [0.025      0.975]\n",
       "------------------------------------------------------------------------------\n",
       "const      -6424.8046   1744.091     -3.684      0.000   -9846.262   -3003.347\n",
       "age          241.9308     22.298     10.850      0.000     198.187     285.674\n",
       "bmi          332.9651     51.374      6.481      0.000     232.182     433.748\n",
       "==============================================================================\n",
       "Omnibus:                      321.874   Durbin-Watson:                   2.010\n",
       "Prob(Omnibus):                  0.000   Jarque-Bera (JB):              592.574\n",
       "Skew:                           1.511   Prob(JB):                    2.11e-129\n",
       "Kurtosis:                       4.223   Cond. No.                         287.\n",
       "==============================================================================\n",
       "\n",
       "Notes:\n",
       "[1] Standard Errors assume that the covariance matrix of the errors is correctly specified.\n",
       "\"\"\""
      ]
     },
     "execution_count": 73,
     "metadata": {},
     "output_type": "execute_result"
    }
   ],
   "source": [
    "# y_train=data.pop('charges')\n",
    "X_train = data.loc[:, data.columns.isin(['age', 'bmi',])]\n",
    "\n",
    "\n",
    "import statsmodels.api as sm\n",
    "X_train_sm = sm.add_constant(X_train)\n",
    "\n",
    "lm_12= sm.OLS(y_train, X_train_sm).fit()\n",
    "lm_12.summary()"
   ]
  },
  {
   "cell_type": "markdown",
   "metadata": {},
   "source": [
    "Модель 14."
   ]
  },
  {
   "cell_type": "code",
   "execution_count": 74,
   "metadata": {},
   "outputs": [
    {
     "data": {
      "text/html": [
       "<table class=\"simpletable\">\n",
       "<caption>OLS Regression Results</caption>\n",
       "<tr>\n",
       "  <th>Dep. Variable:</th>       <td>smoker_yes</td>    <th>  R-squared:         </th> <td>   0.012</td>\n",
       "</tr>\n",
       "<tr>\n",
       "  <th>Model:</th>                   <td>OLS</td>       <th>  Adj. R-squared:    </th> <td>   0.007</td>\n",
       "</tr>\n",
       "<tr>\n",
       "  <th>Method:</th>             <td>Least Squares</td>  <th>  F-statistic:       </th> <td>   2.294</td>\n",
       "</tr>\n",
       "<tr>\n",
       "  <th>Date:</th>             <td>Fri, 03 Jun 2022</td> <th>  Prob (F-statistic):</th>  <td>0.0252</td> \n",
       "</tr>\n",
       "<tr>\n",
       "  <th>Time:</th>                 <td>13:03:46</td>     <th>  Log-Likelihood:    </th> <td> -676.31</td>\n",
       "</tr>\n",
       "<tr>\n",
       "  <th>No. Observations:</th>      <td>  1338</td>      <th>  AIC:               </th> <td>   1369.</td>\n",
       "</tr>\n",
       "<tr>\n",
       "  <th>Df Residuals:</th>          <td>  1330</td>      <th>  BIC:               </th> <td>   1410.</td>\n",
       "</tr>\n",
       "<tr>\n",
       "  <th>Df Model:</th>              <td>     7</td>      <th>                     </th>     <td> </td>   \n",
       "</tr>\n",
       "<tr>\n",
       "  <th>Covariance Type:</th>      <td>nonrobust</td>    <th>                     </th>     <td> </td>   \n",
       "</tr>\n",
       "</table>\n",
       "<table class=\"simpletable\">\n",
       "<tr>\n",
       "      <td></td>         <th>coef</th>     <th>std err</th>      <th>t</th>      <th>P>|t|</th>  <th>[0.025</th>    <th>0.975]</th>  \n",
       "</tr>\n",
       "<tr>\n",
       "  <th>const</th>     <td>    0.2282</td> <td>    0.052</td> <td>    4.375</td> <td> 0.000</td> <td>    0.126</td> <td>    0.331</td>\n",
       "</tr>\n",
       "<tr>\n",
       "  <th>age</th>       <td>   -0.0006</td> <td>    0.001</td> <td>   -0.776</td> <td> 0.438</td> <td>   -0.002</td> <td>    0.001</td>\n",
       "</tr>\n",
       "<tr>\n",
       "  <th>bmi</th>       <td>   -0.0010</td> <td>    0.002</td> <td>   -0.543</td> <td> 0.587</td> <td>   -0.005</td> <td>    0.003</td>\n",
       "</tr>\n",
       "<tr>\n",
       "  <th>children</th>  <td>    0.0034</td> <td>    0.009</td> <td>    0.368</td> <td> 0.713</td> <td>   -0.015</td> <td>    0.021</td>\n",
       "</tr>\n",
       "<tr>\n",
       "  <th>female</th>    <td>   -0.0605</td> <td>    0.022</td> <td>   -2.746</td> <td> 0.006</td> <td>   -0.104</td> <td>   -0.017</td>\n",
       "</tr>\n",
       "<tr>\n",
       "  <th>northeast</th> <td>    0.0593</td> <td>    0.022</td> <td>    2.676</td> <td> 0.008</td> <td>    0.016</td> <td>    0.103</td>\n",
       "</tr>\n",
       "<tr>\n",
       "  <th>northwest</th> <td>    0.0310</td> <td>    0.022</td> <td>    1.397</td> <td> 0.163</td> <td>   -0.013</td> <td>    0.075</td>\n",
       "</tr>\n",
       "<tr>\n",
       "  <th>southeast</th> <td>    0.1056</td> <td>    0.025</td> <td>    4.148</td> <td> 0.000</td> <td>    0.056</td> <td>    0.156</td>\n",
       "</tr>\n",
       "<tr>\n",
       "  <th>southwest</th> <td>    0.0323</td> <td>    0.023</td> <td>    1.382</td> <td> 0.167</td> <td>   -0.014</td> <td>    0.078</td>\n",
       "</tr>\n",
       "</table>\n",
       "<table class=\"simpletable\">\n",
       "<tr>\n",
       "  <th>Omnibus:</th>       <td>268.877</td> <th>  Durbin-Watson:     </th> <td>   1.951</td> \n",
       "</tr>\n",
       "<tr>\n",
       "  <th>Prob(Omnibus):</th> <td> 0.000</td>  <th>  Jarque-Bera (JB):  </th> <td> 461.447</td> \n",
       "</tr>\n",
       "<tr>\n",
       "  <th>Skew:</th>          <td> 1.437</td>  <th>  Prob(JB):          </th> <td>6.28e-101</td>\n",
       "</tr>\n",
       "<tr>\n",
       "  <th>Kurtosis:</th>      <td> 3.138</td>  <th>  Cond. No.          </th> <td>2.05e+17</td> \n",
       "</tr>\n",
       "</table><br/><br/>Notes:<br/>[1] Standard Errors assume that the covariance matrix of the errors is correctly specified.<br/>[2] The smallest eigenvalue is 8.34e-29. This might indicate that there are<br/>strong multicollinearity problems or that the design matrix is singular."
      ],
      "text/plain": [
       "<class 'statsmodels.iolib.summary.Summary'>\n",
       "\"\"\"\n",
       "                            OLS Regression Results                            \n",
       "==============================================================================\n",
       "Dep. Variable:             smoker_yes   R-squared:                       0.012\n",
       "Model:                            OLS   Adj. R-squared:                  0.007\n",
       "Method:                 Least Squares   F-statistic:                     2.294\n",
       "Date:                Fri, 03 Jun 2022   Prob (F-statistic):             0.0252\n",
       "Time:                        13:03:46   Log-Likelihood:                -676.31\n",
       "No. Observations:                1338   AIC:                             1369.\n",
       "Df Residuals:                    1330   BIC:                             1410.\n",
       "Df Model:                           7                                         \n",
       "Covariance Type:            nonrobust                                         \n",
       "==============================================================================\n",
       "                 coef    std err          t      P>|t|      [0.025      0.975]\n",
       "------------------------------------------------------------------------------\n",
       "const          0.2282      0.052      4.375      0.000       0.126       0.331\n",
       "age           -0.0006      0.001     -0.776      0.438      -0.002       0.001\n",
       "bmi           -0.0010      0.002     -0.543      0.587      -0.005       0.003\n",
       "children       0.0034      0.009      0.368      0.713      -0.015       0.021\n",
       "female        -0.0605      0.022     -2.746      0.006      -0.104      -0.017\n",
       "northeast      0.0593      0.022      2.676      0.008       0.016       0.103\n",
       "northwest      0.0310      0.022      1.397      0.163      -0.013       0.075\n",
       "southeast      0.1056      0.025      4.148      0.000       0.056       0.156\n",
       "southwest      0.0323      0.023      1.382      0.167      -0.014       0.078\n",
       "==============================================================================\n",
       "Omnibus:                      268.877   Durbin-Watson:                   1.951\n",
       "Prob(Omnibus):                  0.000   Jarque-Bera (JB):              461.447\n",
       "Skew:                           1.437   Prob(JB):                    6.28e-101\n",
       "Kurtosis:                       3.138   Cond. No.                     2.05e+17\n",
       "==============================================================================\n",
       "\n",
       "Notes:\n",
       "[1] Standard Errors assume that the covariance matrix of the errors is correctly specified.\n",
       "[2] The smallest eigenvalue is 8.34e-29. This might indicate that there are\n",
       "strong multicollinearity problems or that the design matrix is singular.\n",
       "\"\"\""
      ]
     },
     "execution_count": 74,
     "metadata": {},
     "output_type": "execute_result"
    }
   ],
   "source": [
    "# y_train=data.pop('charges')\n",
    "y_train=data.pop('smoker_yes')\n",
    "# X_train = [data['female'].copy(), data['bmi'].copy()]\n",
    "X_train = data.loc[:, data.columns.isin(['age', 'female', 'bmi', 'children' , 'charges', 'northeast', 'northwest','southeast', 'southwest'])]\n",
    "\n",
    "import statsmodels.api as sm\n",
    "X_train_sm = sm.add_constant(X_train)\n",
    "\n",
    "lm_13= sm.OLS(y_train, X_train_sm).fit()\n",
    "lm_13.summary()"
   ]
  },
  {
   "cell_type": "markdown",
   "metadata": {},
   "source": [
    "Модель 15."
   ]
  },
  {
   "cell_type": "code",
   "execution_count": 75,
   "metadata": {},
   "outputs": [
    {
     "data": {
      "text/html": [
       "<table class=\"simpletable\">\n",
       "<caption>OLS Regression Results</caption>\n",
       "<tr>\n",
       "  <th>Dep. Variable:</th>           <td>bmi</td>       <th>  R-squared:         </th> <td>   0.096</td>\n",
       "</tr>\n",
       "<tr>\n",
       "  <th>Model:</th>                   <td>OLS</td>       <th>  Adj. R-squared:    </th> <td>   0.092</td>\n",
       "</tr>\n",
       "<tr>\n",
       "  <th>Method:</th>             <td>Least Squares</td>  <th>  F-statistic:       </th> <td>   23.60</td>\n",
       "</tr>\n",
       "<tr>\n",
       "  <th>Date:</th>             <td>Fri, 03 Jun 2022</td> <th>  Prob (F-statistic):</th> <td>1.28e-26</td>\n",
       "</tr>\n",
       "<tr>\n",
       "  <th>Time:</th>                 <td>13:03:46</td>     <th>  Log-Likelihood:    </th> <td> -4249.5</td>\n",
       "</tr>\n",
       "<tr>\n",
       "  <th>No. Observations:</th>      <td>  1338</td>      <th>  AIC:               </th> <td>   8513.</td>\n",
       "</tr>\n",
       "<tr>\n",
       "  <th>Df Residuals:</th>          <td>  1331</td>      <th>  BIC:               </th> <td>   8549.</td>\n",
       "</tr>\n",
       "<tr>\n",
       "  <th>Df Model:</th>              <td>     6</td>      <th>                     </th>     <td> </td>   \n",
       "</tr>\n",
       "<tr>\n",
       "  <th>Covariance Type:</th>      <td>nonrobust</td>    <th>                     </th>     <td> </td>   \n",
       "</tr>\n",
       "</table>\n",
       "<table class=\"simpletable\">\n",
       "<tr>\n",
       "      <td></td>         <th>coef</th>     <th>std err</th>      <th>t</th>      <th>P>|t|</th>  <th>[0.025</th>    <th>0.975]</th>  \n",
       "</tr>\n",
       "<tr>\n",
       "  <th>const</th>     <td>   23.0944</td> <td>    0.408</td> <td>   56.547</td> <td> 0.000</td> <td>   22.293</td> <td>   23.896</td>\n",
       "</tr>\n",
       "<tr>\n",
       "  <th>age</th>       <td>    0.0487</td> <td>    0.011</td> <td>    4.302</td> <td> 0.000</td> <td>    0.027</td> <td>    0.071</td>\n",
       "</tr>\n",
       "<tr>\n",
       "  <th>children</th>  <td>    0.0611</td> <td>    0.132</td> <td>    0.463</td> <td> 0.644</td> <td>   -0.198</td> <td>    0.320</td>\n",
       "</tr>\n",
       "<tr>\n",
       "  <th>female</th>    <td>   -0.5329</td> <td>    0.318</td> <td>   -1.676</td> <td> 0.094</td> <td>   -1.157</td> <td>    0.091</td>\n",
       "</tr>\n",
       "<tr>\n",
       "  <th>northeast</th> <td>    4.3670</td> <td>    0.297</td> <td>   14.724</td> <td> 0.000</td> <td>    3.785</td> <td>    4.949</td>\n",
       "</tr>\n",
       "<tr>\n",
       "  <th>northwest</th> <td>    4.3947</td> <td>    0.297</td> <td>   14.774</td> <td> 0.000</td> <td>    3.811</td> <td>    4.978</td>\n",
       "</tr>\n",
       "<tr>\n",
       "  <th>southeast</th> <td>    8.5567</td> <td>    0.283</td> <td>   30.217</td> <td> 0.000</td> <td>    8.001</td> <td>    9.112</td>\n",
       "</tr>\n",
       "<tr>\n",
       "  <th>southwest</th> <td>    5.7760</td> <td>    0.298</td> <td>   19.381</td> <td> 0.000</td> <td>    5.191</td> <td>    6.361</td>\n",
       "</tr>\n",
       "</table>\n",
       "<table class=\"simpletable\">\n",
       "<tr>\n",
       "  <th>Omnibus:</th>       <td> 9.898</td> <th>  Durbin-Watson:     </th> <td>   2.073</td>\n",
       "</tr>\n",
       "<tr>\n",
       "  <th>Prob(Omnibus):</th> <td> 0.007</td> <th>  Jarque-Bera (JB):  </th> <td>   9.975</td>\n",
       "</tr>\n",
       "<tr>\n",
       "  <th>Skew:</th>          <td> 0.198</td> <th>  Prob(JB):          </th> <td> 0.00682</td>\n",
       "</tr>\n",
       "<tr>\n",
       "  <th>Kurtosis:</th>      <td> 2.853</td> <th>  Cond. No.          </th> <td>1.83e+17</td>\n",
       "</tr>\n",
       "</table><br/><br/>Notes:<br/>[1] Standard Errors assume that the covariance matrix of the errors is correctly specified.<br/>[2] The smallest eigenvalue is 6.98e-29. This might indicate that there are<br/>strong multicollinearity problems or that the design matrix is singular."
      ],
      "text/plain": [
       "<class 'statsmodels.iolib.summary.Summary'>\n",
       "\"\"\"\n",
       "                            OLS Regression Results                            \n",
       "==============================================================================\n",
       "Dep. Variable:                    bmi   R-squared:                       0.096\n",
       "Model:                            OLS   Adj. R-squared:                  0.092\n",
       "Method:                 Least Squares   F-statistic:                     23.60\n",
       "Date:                Fri, 03 Jun 2022   Prob (F-statistic):           1.28e-26\n",
       "Time:                        13:03:46   Log-Likelihood:                -4249.5\n",
       "No. Observations:                1338   AIC:                             8513.\n",
       "Df Residuals:                    1331   BIC:                             8549.\n",
       "Df Model:                           6                                         \n",
       "Covariance Type:            nonrobust                                         \n",
       "==============================================================================\n",
       "                 coef    std err          t      P>|t|      [0.025      0.975]\n",
       "------------------------------------------------------------------------------\n",
       "const         23.0944      0.408     56.547      0.000      22.293      23.896\n",
       "age            0.0487      0.011      4.302      0.000       0.027       0.071\n",
       "children       0.0611      0.132      0.463      0.644      -0.198       0.320\n",
       "female        -0.5329      0.318     -1.676      0.094      -1.157       0.091\n",
       "northeast      4.3670      0.297     14.724      0.000       3.785       4.949\n",
       "northwest      4.3947      0.297     14.774      0.000       3.811       4.978\n",
       "southeast      8.5567      0.283     30.217      0.000       8.001       9.112\n",
       "southwest      5.7760      0.298     19.381      0.000       5.191       6.361\n",
       "==============================================================================\n",
       "Omnibus:                        9.898   Durbin-Watson:                   2.073\n",
       "Prob(Omnibus):                  0.007   Jarque-Bera (JB):                9.975\n",
       "Skew:                           0.198   Prob(JB):                      0.00682\n",
       "Kurtosis:                       2.853   Cond. No.                     1.83e+17\n",
       "==============================================================================\n",
       "\n",
       "Notes:\n",
       "[1] Standard Errors assume that the covariance matrix of the errors is correctly specified.\n",
       "[2] The smallest eigenvalue is 6.98e-29. This might indicate that there are\n",
       "strong multicollinearity problems or that the design matrix is singular.\n",
       "\"\"\""
      ]
     },
     "execution_count": 75,
     "metadata": {},
     "output_type": "execute_result"
    }
   ],
   "source": [
    "# y_train=data.pop('charges')\n",
    "y_train=data.pop('bmi')\n",
    "# X_train = [data['female'].copy(), data['bmi'].copy()]\n",
    "X_train = data.loc[:, data.columns.isin(['age', 'female', 'smoker_yes', 'children' , 'charges', 'northeast', 'northwest','southeast', 'southwest'])]\n",
    "\n",
    "import statsmodels.api as sm\n",
    "X_train_sm = sm.add_constant(X_train)\n",
    "\n",
    "lm_20= sm.OLS(y_train, X_train_sm).fit()\n",
    "lm_20.summary()"
   ]
  },
  {
   "cell_type": "markdown",
   "metadata": {},
   "source": [
    "Модель 1. `all`. Распределение по регионам."
   ]
  },
  {
   "cell_type": "code",
   "execution_count": 76,
   "metadata": {},
   "outputs": [
    {
     "name": "stdout",
     "output_type": "stream",
     "text": [
      "\n",
      "Region: Southwest\n",
      "\n",
      "Number of Principal Components = 7\n",
      "Train Shape:(260, 7) (260,)  Test Shape:(65, 7) (65,)\n",
      "Test Error (RMSE) = 5,349.04\n",
      "R-Squared = 79.15%, Adjusted R-Squared = 76.59%\n",
      "__________________________\n",
      "\n",
      "Region: Southeast\n",
      "\n",
      "Number of Principal Components = 7\n",
      "Train Shape:(291, 7) (291,)  Test Shape:(73, 7) (73,)\n",
      "Test Error (RMSE) = 4,699.59\n",
      "R-Squared = 90.32%, Adjusted R-Squared = 89.27%\n",
      "__________________________\n",
      "\n",
      "Region: Northwest\n",
      "\n",
      "Number of Principal Components = 6\n",
      "Train Shape:(260, 6) (260,)  Test Shape:(65, 6) (65,)\n",
      "Test Error (RMSE) = 6,305.7\n",
      "R-Squared = 74.43%, Adjusted R-Squared = 71.79%\n",
      "__________________________\n",
      "\n",
      "Region: Northeast\n",
      "\n",
      "Number of Principal Components = 7\n",
      "Train Shape:(259, 7) (259,)  Test Shape:(65, 7) (65,)\n",
      "Test Error (RMSE) = 6,231.75\n",
      "R-Squared = 63.27%, Adjusted R-Squared = 58.76%\n"
     ]
    },
    {
     "data": {
      "application/vnd.plotly.v1+json": {
       "config": {
        "plotlyServerURL": "https://plot.ly"
       },
       "data": [
        {
         "hovertemplate": "Actual Cost: %{x:$,.2f}<br>Predicted Cost: %{y:$,.2f}",
         "legendgroup": "Southwest",
         "marker": {
          "color": "#B14B51",
          "line": {
           "color": "#F7F7F7",
           "width": 1
          },
          "opacity": 0.7,
          "size": 10,
          "symbol": "circle"
         },
         "mode": "markers",
         "name": "Southwest",
         "orientation": "v",
         "showlegend": false,
         "type": "scatter",
         "x": [
          3761.292,
          11674.13,
          6311.952,
          14319.031,
          11552.904,
          5080.096,
          8269.044,
          3693.428,
          36837.467,
          13224.693,
          23306.547,
          35160.13457,
          12347.172,
          10065.413,
          5488.262,
          38711,
          7196.867,
          6571.544,
          5979.731,
          34828.654,
          6600.361,
          39836.519,
          1256.299,
          1242.26,
          4762.329,
          9264.797,
          13470.86,
          1759.338,
          1241.565,
          48173.361,
          16232.847,
          25309.489,
          10791.96,
          4751.07,
          8556.907,
          42856.838,
          8277.523,
          11576.13,
          7623.518,
          12146.971,
          20630.28351,
          4646.759,
          26140.3603,
          2007.945,
          8444.474,
          17081.08,
          13822.803,
          8825.086,
          37079.372,
          10096.97,
          11411.685,
          14988.432,
          11362.755,
          6875.961,
          10795.93733,
          18259.216,
          1261.859,
          17942.106,
          11150.78,
          38415.474,
          8522.003,
          8703.456,
          3987.926,
          1964.78,
          1743.214
         ],
         "xaxis": "x3",
         "y": [
          4748.540040111573,
          13330.567156085232,
          7583.248902467086,
          15916.440968564577,
          12521.209296610286,
          1686.992129108874,
          7104.924298223733,
          8204.362736365802,
          34080.10762567636,
          12452.529507156083,
          35439.49959812501,
          10626.881498322447,
          13940.700508296482,
          8197.377664220478,
          7163.030323433187,
          33190.7731073709,
          8343.269394678491,
          9078.652267865109,
          8811.322296978906,
          29722.014011179184,
          7231.734527245742,
          33127.465815695745,
          3290.3300711027696,
          1409.8339293437493,
          8344.125477579386,
          7284.847945526528,
          15175.36278573196,
          4675.5715356170185,
          1322.8087386387942,
          49106.99745038214,
          26789.211785023675,
          35640.34476940902,
          8683.76092167546,
          6398.767077569195,
          10967.885905072864,
          40099.89129940322,
          8583.544320100636,
          15365.77455642269,
          7492.129732478379,
          11789.91335881633,
          12863.700066226153,
          6899.50007751094,
          9193.41242904219,
          2090.5136457469907,
          8762.155922262573,
          23292.510295766828,
          14451.176397148414,
          9915.234542757706,
          31025.829705859498,
          6624.07393183249,
          16094.3083060621,
          11943.782214997032,
          13192.133306997783,
          8020.191566503316,
          3993.0515844750125,
          26321.2450180846,
          4099.660909319193,
          22338.982275646184,
          10801.22032593395,
          33838.139055727006,
          10787.150879800662,
          9097.290064077724,
          6162.403807097601,
          1807.5749544053251,
          2303.644859571057
         ],
         "yaxis": "y3"
        },
        {
         "hovertemplate": "<b>OLS trendline</b><br>preds = 0.826689 * actuals + 2433.4<br>R<sup>2</sup>=0.792960<br><br>index=Southwest<br>actuals=%{x}<br>preds=%{y} <b>(trend)</b><extra></extra>",
         "legendgroup": "Southwest",
         "marker": {
          "color": "#B14B51",
          "symbol": "circle"
         },
         "mode": "lines",
         "name": "Southwest",
         "showlegend": false,
         "type": "scatter",
         "x": [
          1241.565,
          1242.26,
          1256.299,
          1261.859,
          1743.214,
          1759.338,
          1964.78,
          2007.945,
          3693.428,
          3761.292,
          3987.926,
          4646.759,
          4751.07,
          4762.329,
          5080.096,
          5488.262,
          5979.731,
          6311.952,
          6571.544,
          6600.361,
          6875.961,
          7196.867,
          7623.518,
          8269.044,
          8277.523,
          8444.474,
          8522.003,
          8556.907,
          8703.456,
          8825.086,
          9264.797,
          10065.413,
          10096.97,
          10791.96,
          10795.93733,
          11150.78,
          11362.755,
          11411.685,
          11552.904,
          11576.13,
          11674.13,
          12146.971,
          12347.172,
          13224.693,
          13470.86,
          13822.803,
          14319.031,
          14988.432,
          16232.847,
          17081.08,
          17942.106,
          18259.216,
          20630.28351,
          23306.547,
          25309.489,
          26140.3603,
          34828.654,
          35160.13457,
          36837.467,
          37079.372,
          38415.474,
          38711,
          39836.519,
          42856.838,
          48173.361
         ],
         "xaxis": "x3",
         "y": [
          3459.785111057031,
          3460.35966019135,
          3471.9655527045948,
          3476.561945779147,
          3874.4930228297153,
          3887.8225627459174,
          4057.6592868506277,
          4093.343334883551,
          5486.714268062646,
          5542.816717633044,
          5730.172643542775,
          6274.822902263381,
          6361.055700464754,
          6370.363396440723,
          6633.058007613616,
          6970.484514028678,
          7376.776727690041,
          7651.420307477967,
          7866.022262695449,
          7889.844971189941,
          8117.680570353005,
          8382.970159558456,
          8735.6780195676,
          9269.327522417152,
          9276.337021855843,
          9414.353644192102,
          9478.446046831845,
          9507.300813715688,
          9628.451318874426,
          9729.001550827268,
          10092.5059744252,
          10754.366736615097,
          10780.454574070789,
          11354.995441495817,
          11358.28345805467,
          11651.628132684826,
          11826.865618652135,
          11867.315531086999,
          11984.05978173362,
          12003.2604697821,
          12084.276031168096,
          12475.168674650906,
          12640.67271960027,
          13366.110030243124,
          13569.613680240129,
          13860.561228412284,
          14270.78765693728,
          14824.174369257144,
          15852.91906131993,
          16554.14429276,
          17265.94536171855,
          17528.096837954396,
          19488.23321965586,
          21700.67188352517,
          23356.482807541375,
          24043.355305592515,
          31225.875627958892,
          31499.90710211297,
          32886.54004545363,
          33086.52034521975,
          34191.06170847436,
          34435.369920659636,
          35365.82454959437,
          37862.69025724527,
          42257.80347629174
         ],
         "yaxis": "y3"
        },
        {
         "hovertemplate": "Actual Cost: %{x:$,.2f}<br>Predicted Cost: %{y:$,.2f}",
         "legendgroup": "Southeast",
         "marker": {
          "color": "#D0A99C",
          "line": {
           "color": "#F7F7F7",
           "width": 1
          },
          "opacity": 0.7,
          "size": 10,
          "symbol": "circle"
         },
         "mode": "markers",
         "name": "Southeast",
         "orientation": "v",
         "showlegend": false,
         "type": "scatter",
         "x": [
          44202.6536,
          6781.3542,
          5478.0368,
          32548.3405,
          1815.8759,
          11093.6229,
          11090.7178,
          13470.8044,
          47269.854,
          10107.2206,
          38282.7495,
          19350.3689,
          1615.7667,
          40974.1649,
          1824.2854,
          7243.8136,
          36950.2567,
          41999.52,
          6184.2994,
          20462.99766,
          7152.6714,
          2219.4451,
          8232.6388,
          4266.1658,
          19521.9682,
          27808.7251,
          16586.49771,
          5966.8874,
          4504.6624,
          3500.6123,
          4340.4409,
          5974.3847,
          3227.1211,
          11363.2832,
          12592.5345,
          6313.759,
          5920.1041,
          12142.5786,
          3561.8889,
          4673.3922,
          46599.1084,
          2566.4707,
          41676.0811,
          8978.1851,
          48970.2476,
          24667.419,
          8596.8278,
          38709.176,
          1136.3994,
          18806.14547,
          1981.5819,
          1131.5066,
          6500.2359,
          1146.7966,
          8547.6913,
          39611.7577,
          11881.9696,
          48675.5177,
          44400.4064,
          18223.4512,
          28287.89766,
          9855.1314,
          10702.6424,
          5245.2269,
          1664.9996,
          2464.6188,
          9377.9047,
          10226.2842,
          36124.5737,
          4779.6023,
          6338.0756,
          42112.2356,
          1633.9618
         ],
         "xaxis": "x4",
         "y": [
          40101.129470959815,
          9501.012860062852,
          6655.040624813024,
          26113.20860618344,
          2082.6779886390123,
          14032.246219671773,
          13348.454616570993,
          14781.282509901435,
          43789.440019426176,
          9337.444297363687,
          33166.07666764008,
          30185.93253008525,
          1396.0838060847618,
          37760.7308681525,
          3427.956337286554,
          10179.061703168521,
          32462.162456300284,
          39175.01793425799,
          8409.81954515223,
          15835.039259850535,
          9674.477773802833,
          4734.5645104538,
          8339.314907262285,
          8812.754121804024,
          28322.532950660185,
          40240.551661502686,
          2725.1687536127884,
          5203.050982135595,
          6267.166126533462,
          7372.954838071723,
          5204.330922927262,
          6838.336619282366,
          5343.713326489129,
          11933.575628508741,
          21698.335868914095,
          8255.852307061663,
          8219.564960910882,
          9354.083452022325,
          3180.872957700034,
          7295.40011465575,
          45172.50365678042,
          3363.342478899338,
          39448.785709950665,
          11060.95458308058,
          46788.6141732871,
          35901.095698616184,
          13933.363811840973,
          34071.22716235507,
          2796.2910708373765,
          9269.03172657478,
          3481.144944387195,
          2023.8315253033416,
          7520.949607476159,
          4556.760611655645,
          9033.924622196679,
          34470.535174711855,
          12497.26963388012,
          46438.31333121321,
          41594.9477658173,
          23570.735184568308,
          14289.20246758349,
          7841.109586423987,
          11971.251265302506,
          7573.27631657694,
          1985.3997632538612,
          2697.839874735686,
          9007.781138202992,
          11862.094889444681,
          28522.87908705356,
          5586.009799401027,
          7527.162977009408,
          34388.69024152325,
          4421.25940067611
         ],
         "yaxis": "y4"
        },
        {
         "hovertemplate": "<b>OLS trendline</b><br>preds = 0.866193 * actuals + 2334.73<br>R<sup>2</sup>=0.905011<br><br>index=Southeast<br>actuals=%{x}<br>preds=%{y} <b>(trend)</b><extra></extra>",
         "legendgroup": "Southeast",
         "marker": {
          "color": "#D0A99C",
          "symbol": "circle"
         },
         "mode": "lines",
         "name": "Southeast",
         "showlegend": false,
         "type": "scatter",
         "x": [
          1131.5066,
          1136.3994,
          1146.7966,
          1615.7667,
          1633.9618,
          1664.9996,
          1815.8759,
          1824.2854,
          1981.5819,
          2219.4451,
          2464.6188,
          2566.4707,
          3227.1211,
          3500.6123,
          3561.8889,
          4266.1658,
          4340.4409,
          4504.6624,
          4673.3922,
          4779.6023,
          5245.2269,
          5478.0368,
          5920.1041,
          5966.8874,
          5974.3847,
          6184.2994,
          6313.759,
          6338.0756,
          6500.2359,
          6781.3542,
          7152.6714,
          7243.8136,
          8232.6388,
          8547.6913,
          8596.8278,
          8978.1851,
          9377.9047,
          9855.1314,
          10107.2206,
          10226.2842,
          10702.6424,
          11090.7178,
          11093.6229,
          11363.2832,
          11881.9696,
          12142.5786,
          12592.5345,
          13470.8044,
          16586.49771,
          18223.4512,
          18806.14547,
          19350.3689,
          19521.9682,
          20462.99766,
          24667.419,
          27808.7251,
          28287.89766,
          32548.3405,
          36124.5737,
          36950.2567,
          38282.7495,
          38709.176,
          39611.7577,
          40974.1649,
          41676.0811,
          41999.52,
          42112.2356,
          44202.6536,
          44400.4064,
          46599.1084,
          47269.854,
          48675.5177,
          48970.2476
         ],
         "xaxis": "x4",
         "y": [
          3314.835450062111,
          3319.073557908646,
          3328.0795370825326,
          3734.2980337716153,
          3750.058497325918,
          3776.9432144039074,
          3907.631170356773,
          3914.9154182180055,
          4051.1645048110613,
          4257.199882165939,
          4469.5675615589325,
          4557.790938066149,
          5130.041519339968,
          5366.937611695735,
          5420.014957851105,
          6030.054496770211,
          6094.3910492784225,
          6236.638520607674,
          6382.791048674282,
          6474.789466388325,
          6878.110115260089,
          7079.76836083339,
          7462.683847431366,
          7503.207202323617,
          7509.701309165881,
          7691.527898679668,
          7803.664864541607,
          7824.727726964157,
          7965.189801814239,
          8208.692432830141,
          8530.324696334359,
          8609.27140843591,
          9465.784619474913,
          9738.680808225832,
          9781.242487877822,
          10111.571413127873,
          10457.80562935863,
          10871.175933038743,
          11089.533768336885,
          11192.665794456228,
          11605.28380974018,
          11941.43190444817,
          11943.948280982051,
          12177.526075563681,
          12626.808470456388,
          12852.54609467517,
          13242.294629335232,
          14003.045641959005,
          16701.836572409436,
          18119.753803929627,
          18624.479351227295,
          19095.881736150295,
          19244.519804289175,
          20059.63269225653,
          23701.47193996614,
          26422.44848320897,
          26837.504276697422,
          30527.868941085548,
          33625.57618151215,
          34340.776803048,
          35494.972394760625,
          35864.33993392439,
          36646.149651245556,
          37826.25687911016,
          38434.25159682396,
          38714.41202438377,
          38812.04545897887,
          40622.750357674544,
          40794.04239768319,
          42698.54211121989,
          43279.53708145961,
          44497.11277565506,
          44752.40567579374
         ],
         "yaxis": "y4"
        },
        {
         "hovertemplate": "Actual Cost: %{x:$,.2f}<br>Predicted Cost: %{y:$,.2f}",
         "legendgroup": "Northwest",
         "marker": {
          "color": "#5D8370",
          "line": {
           "color": "#F7F7F7",
           "width": 1
          },
          "opacity": 0.7,
          "size": 10,
          "symbol": "circle"
         },
         "mode": "markers",
         "name": "Northwest",
         "orientation": "v",
         "showlegend": false,
         "type": "scatter",
         "x": [
          9174.13565,
          4433.3877,
          21774.32215,
          7731.85785,
          33471.97189,
          4618.0799,
          3594.17085,
          12235.8392,
          6203.90175,
          11840.77505,
          4466.6214,
          8162.71625,
          6393.60345,
          1906.35825,
          23967.38305,
          2775.19215,
          3537.703,
          32787.45859,
          6112.35295,
          9301.89355,
          11945.1327,
          6389.37785,
          23807.2406,
          10264.4421,
          4243.59005,
          16455.70785,
          8413.46305,
          26018.95052,
          60021.39897,
          3579.8287,
          12479.70895,
          5855.9025,
          7153.5539,
          1635.73365,
          6986.697,
          43921.1837,
          15019.76005,
          29330.98315,
          5630.45785,
          8827.2099,
          8059.6791,
          5729.0053,
          14382.70905,
          29141.3603,
          38746.3551,
          3877.30425,
          42760.5022,
          6373.55735,
          28950.4692,
          16420.49455,
          10600.5483,
          18033.9679,
          39983.42595,
          6940.90985,
          4239.89265,
          6360.9936,
          8116.26885,
          6796.86325,
          2136.88225,
          33307.5508,
          13415.0381,
          10976.24575,
          3353.4703,
          5261.46945,
          5989.52365
         ],
         "xaxis": "x",
         "y": [
          11662.079848311947,
          7887.237359638068,
          30779.59908927316,
          10694.280222659365,
          14532.951933022512,
          5954.229909662867,
          3359.181512122159,
          14343.314792709585,
          8680.011762205479,
          12151.711041479024,
          6946.681330221862,
          11768.488418035988,
          9061.186735238247,
          4479.501317223452,
          30654.810022336325,
          2757.6528237931325,
          5981.704650793146,
          30834.895056281275,
          8838.102077083082,
          10924.637982455692,
          14637.178133270309,
          8218.201147316606,
          30407.723444400093,
          12588.565427343274,
          6876.765969642719,
          16391.725929078104,
          11311.67782104834,
          5367.008229972483,
          37387.5273016675,
          5601.638987129486,
          11772.993665859412,
          6134.898450106288,
          8184.323083461493,
          3859.907577699818,
          10617.184862931681,
          32857.883437755256,
          15057.11261872107,
          38211.946224628715,
          8837.982443905405,
          9857.29977520879,
          9343.337965449511,
          10132.428468214948,
          13800.298141447971,
          38093.912426811745,
          29616.27411289045,
          7005.146610150608,
          33778.752176654234,
          10976.163881189232,
          37882.4306048391,
          27685.54672373418,
          13577.90704970677,
          25000.856894538694,
          36013.24428154003,
          8666.46386339655,
          6199.63068291869,
          11755.962580062762,
          11523.575845762776,
          10214.756641963098,
          4980.859736205084,
          24436.414067676436,
          10341.659410877808,
          13597.640230391156,
          3104.314910254958,
          7627.434572251037,
          9645.182120522692
         ],
         "yaxis": "y"
        },
        {
         "hovertemplate": "<b>OLS trendline</b><br>preds = 0.716568 * actuals + 4799.83<br>R<sup>2</sup>=0.751236<br><br>index=Northwest<br>actuals=%{x}<br>preds=%{y} <b>(trend)</b><extra></extra>",
         "legendgroup": "Northwest",
         "marker": {
          "color": "#5D8370",
          "symbol": "circle"
         },
         "mode": "lines",
         "name": "Northwest",
         "showlegend": false,
         "type": "scatter",
         "x": [
          1635.73365,
          1906.35825,
          2136.88225,
          2775.19215,
          3353.4703,
          3537.703,
          3579.8287,
          3594.17085,
          3877.30425,
          4239.89265,
          4243.59005,
          4433.3877,
          4466.6214,
          4618.0799,
          5261.46945,
          5630.45785,
          5729.0053,
          5855.9025,
          5989.52365,
          6112.35295,
          6203.90175,
          6360.9936,
          6373.55735,
          6389.37785,
          6393.60345,
          6796.86325,
          6940.90985,
          6986.697,
          7153.5539,
          7731.85785,
          8059.6791,
          8116.26885,
          8162.71625,
          8413.46305,
          8827.2099,
          9174.13565,
          9301.89355,
          10264.4421,
          10600.5483,
          10976.24575,
          11840.77505,
          11945.1327,
          12235.8392,
          12479.70895,
          13415.0381,
          14382.70905,
          15019.76005,
          16420.49455,
          16455.70785,
          18033.9679,
          21774.32215,
          23807.2406,
          23967.38305,
          26018.95052,
          28950.4692,
          29141.3603,
          29330.98315,
          32787.45859,
          33307.5508,
          33471.97189,
          38746.3551,
          39983.42595,
          42760.5022,
          43921.1837,
          60021.39897
         ],
         "xaxis": "x",
         "y": [
          5971.945203294331,
          6165.866176270728,
          6331.052335897055,
          6788.444889524724,
          7202.8206022241275,
          7334.835889962451,
          7365.021825503092,
          7375.298953608126,
          7578.183334444588,
          7838.002638816604,
          7840.652077949198,
          7976.655031696322,
          8000.469243115409,
          8108.999582506379,
          8570.032051612463,
          8834.437392239308,
          8905.053357633227,
          8995.983851357672,
          9091.732513593939,
          9179.748079680725,
          9245.349035287943,
          9357.916053950186,
          9366.91883723091,
          9378.2553038824,
          9381.283234319653,
          9670.246369150216,
          9773.465576960378,
          9806.275191008088,
          9925.839533628181,
          10340.233733786237,
          10575.140005286827,
          10615.690418591792,
          10648.973146770324,
          10828.650321080117,
          11125.128142083526,
          11373.724090088868,
          11465.271334032772,
          12155.002982053757,
          12395.84598497145,
          12665.058817244462,
          13284.552991176188,
          13359.332360921328,
          13567.643384126768,
          13742.392683338703,
          14412.619775854264,
          15106.02197264271,
          15562.512438607691,
          16566.23418866887,
          16591.46691842703,
          17722.39782605988,
          20402.616606748707,
          21859.341249688296,
          21974.09423119413,
          23444.182168170755,
          25544.815128825787,
          25681.60161403273,
          25817.479311664643,
          28294.279574441272,
          28666.961094896706,
          28784.78001361526,
          32564.235110947768,
          33450.68069968116,
          35440.64513170118,
          36272.35254409349,
          47809.25425327974
         ],
         "yaxis": "y"
        },
        {
         "hovertemplate": "Actual Cost: %{x:$,.2f}<br>Predicted Cost: %{y:$,.2f}",
         "legendgroup": "Northeast",
         "marker": {
          "color": "#6C839B",
          "line": {
           "color": "#F7F7F7",
           "width": 1
          },
          "opacity": 0.7,
          "size": 10,
          "symbol": "circle"
         },
         "mode": "markers",
         "name": "Northeast",
         "orientation": "v",
         "showlegend": false,
         "type": "scatter",
         "x": [
          58571.07448,
          41034.2214,
          13129.60345,
          17128.42608,
          13224.05705,
          42303.69215,
          8627.5411,
          11512.405,
          13228.84695,
          12730.9996,
          3558.62025,
          14590.63205,
          13019.16105,
          6113.23105,
          4846.92015,
          14451.83515,
          9282.4806,
          5594.8455,
          2203.73595,
          6640.54485,
          12323.936,
          7935.29115,
          3857.75925,
          1712.227,
          2727.3951,
          7639.41745,
          3044.2133,
          25517.11363,
          11938.25595,
          3393.35635,
          14449.8544,
          33475.81715,
          20709.02034,
          8334.45755,
          2217.6012,
          11879.10405,
          11394.06555,
          10072.05505,
          2396.0959,
          7729.64575,
          2211.13075,
          3385.39915,
          24106.91255,
          2205.9808,
          9722.7695,
          13616.3586,
          11658.37915,
          6067.12675,
          19594.80965,
          2217.46915,
          22395.74424,
          12029.2867,
          9866.30485,
          16115.3045,
          7050.0213,
          5428.7277,
          13430.265,
          2196.4732,
          7985.815,
          13725.47184,
          3481.868,
          13143.86485,
          23241.47453,
          7133.9025,
          8606.2174
         ],
         "xaxis": "x2",
         "y": [
          31028.800511882146,
          35621.05311406819,
          10184.204088583767,
          7658.688104486745,
          16793.11080832911,
          36631.2754193772,
          5919.313404919069,
          13912.083507331175,
          15826.168140120235,
          12527.784782259074,
          4328.168705057173,
          17563.27570150471,
          14908.411894377441,
          10384.684552974559,
          7699.37836939925,
          10679.871737094254,
          8881.480564711681,
          9934.872624235106,
          4646.426387884028,
          3638.2599763281796,
          10192.24554806781,
          13319.656740704413,
          7174.458685405249,
          4129.3046697871105,
          6015.763862073865,
          11581.861964233263,
          3851.640255616012,
          9754.880173939551,
          12374.735839712916,
          10144.397588110882,
          10080.510768664944,
          25117.627678202698,
          16781.952572424387,
          11422.655103028366,
          8533.558074859015,
          14191.380192537737,
          14284.679153905368,
          11364.450282042128,
          3533.6809177461582,
          7824.935735694548,
          6657.434118833633,
          5474.222008119214,
          31015.345803238844,
          5241.899347427123,
          12352.304317870074,
          9795.23848941501,
          11552.538480836109,
          7602.093828080337,
          24591.682354091594,
          8494.183023241523,
          5447.555717645693,
          9003.60050253131,
          12696.71495722163,
          19409.42996077756,
          10244.709117072203,
          10329.487234316583,
          16773.624984401253,
          2809.5578530567855,
          8890.809278773599,
          6739.999674670882,
          5232.604737686357,
          14697.63731088027,
          4325.799276586884,
          6581.4222015930245,
          8694.98060791957
         ],
         "yaxis": "y2"
        },
        {
         "hovertemplate": "<b>OLS trendline</b><br>preds = 0.569433 * actuals + 4826.1<br>R<sup>2</sup>=0.641782<br><br>index=Northeast<br>actuals=%{x}<br>preds=%{y} <b>(trend)</b><extra></extra>",
         "legendgroup": "Northeast",
         "marker": {
          "color": "#6C839B",
          "symbol": "circle"
         },
         "mode": "lines",
         "name": "Northeast",
         "showlegend": false,
         "type": "scatter",
         "x": [
          1712.227,
          2196.4732,
          2203.73595,
          2205.9808,
          2211.13075,
          2217.46915,
          2217.6012,
          2396.0959,
          2727.3951,
          3044.2133,
          3385.39915,
          3393.35635,
          3481.868,
          3558.62025,
          3857.75925,
          4846.92015,
          5428.7277,
          5594.8455,
          6067.12675,
          6113.23105,
          6640.54485,
          7050.0213,
          7133.9025,
          7639.41745,
          7729.64575,
          7935.29115,
          7985.815,
          8334.45755,
          8606.2174,
          8627.5411,
          9282.4806,
          9722.7695,
          9866.30485,
          10072.05505,
          11394.06555,
          11512.405,
          11658.37915,
          11879.10405,
          11938.25595,
          12029.2867,
          12323.936,
          12730.9996,
          13019.16105,
          13129.60345,
          13143.86485,
          13224.05705,
          13228.84695,
          13430.265,
          13616.3586,
          13725.47184,
          14449.8544,
          14451.83515,
          14590.63205,
          16115.3045,
          17128.42608,
          19594.80965,
          20709.02034,
          22395.74424,
          23241.47453,
          24106.91255,
          25517.11363,
          33475.81715,
          41034.2214,
          42303.69215,
          58571.07448
         ],
         "xaxis": "x2",
         "y": [
          5801.100205611611,
          6076.846109795121,
          6080.981761382287,
          6082.260053691047,
          6085.192606634673,
          6088.80190256529,
          6088.877096230512,
          6190.517919521359,
          6379.170711137015,
          6559.577539359502,
          6753.860118557583,
          6758.391213089184,
          6808.792692667184,
          6852.497978479172,
          7022.83768177793,
          7586.098821986101,
          7917.399406142555,
          8011.992410614196,
          8280.925074020059,
          8307.178396999667,
          8607.448426107676,
          8840.617945965763,
          8888.382693191448,
          9176.239731545144,
          9227.61872877102,
          9344.72006433995,
          9373.490026192168,
          9572.018698562948,
          9726.767802549773,
          9738.910227078944,
          10111.854577727428,
          10362.5697321932,
          10444.303537988777,
          10561.464550165927,
          11314.261331354077,
          11381.647753056157,
          11464.770292746027,
          11590.458397528913,
          11624.141458231657,
          11675.977397196699,
          11843.760515877937,
          12075.556078635464,
          12239.644799581714,
          12302.534378164255,
          12310.655294008142,
          12356.319401847222,
          12359.046930336757,
          12473.74107211036,
          12579.708961986966,
          12641.84167262505,
          13054.329213016623,
          13055.457117994942,
          13134.492692643475,
          14002.691933667847,
          14579.59708258781,
          15984.037979745088,
          16618.506632601802,
          17578.9833630613,
          18060.570339916114,
          18553.37955419531,
          19356.3949870168,
          23888.345672950698,
          28192.352630776557,
          28915.23152955422,
          38178.42048030841
         ],
         "yaxis": "y2"
        }
       ],
       "layout": {
        "annotations": [
         {
          "showarrow": false,
          "text": "Northwest",
          "x": 0.245,
          "xanchor": "center",
          "xref": "paper",
          "y": 0.46499999999999997,
          "yanchor": "bottom",
          "yref": "paper"
         },
         {
          "showarrow": false,
          "text": "Northeast",
          "x": 0.755,
          "xanchor": "center",
          "xref": "paper",
          "y": 0.46499999999999997,
          "yanchor": "bottom",
          "yref": "paper"
         },
         {
          "showarrow": false,
          "text": "Southwest",
          "x": 0.245,
          "xanchor": "center",
          "xref": "paper",
          "y": 0.9999999999999999,
          "yanchor": "bottom",
          "yref": "paper"
         },
         {
          "showarrow": false,
          "text": "Southeast",
          "x": 0.755,
          "xanchor": "center",
          "xref": "paper",
          "y": 0.9999999999999999,
          "yanchor": "bottom",
          "yref": "paper"
         },
         {
          "showarrow": false,
          "text": "Adj. R-Squared = 76.6%<br>RMSE = 5,349",
          "x": 51000,
          "xref": "x3",
          "y": 15000,
          "yref": "y3"
         },
         {
          "showarrow": false,
          "text": "Adj. R-Squared = 89.3%<br>RMSE = 4,700",
          "x": 51000,
          "xref": "x4",
          "y": 15000,
          "yref": "y4"
         },
         {
          "showarrow": false,
          "text": "Adj. R-Squared = 71.8%<br>RMSE = 6,306",
          "x": 51000,
          "xref": "x",
          "y": 15000,
          "yref": "y"
         },
         {
          "showarrow": false,
          "text": "Adj. R-Squared = 58.8%<br>RMSE = 6,232",
          "x": 51000,
          "xref": "x2",
          "y": 15000,
          "yref": "y2"
         }
        ],
        "font": {
         "color": "#303030"
        },
        "height": 700,
        "legend": {
         "title": {
          "text": "index"
         },
         "tracegroupgap": 0
        },
        "paper_bgcolor": "white",
        "plot_bgcolor": "white",
        "template": {
         "data": {
          "bar": [
           {
            "error_x": {
             "color": "#2a3f5f"
            },
            "error_y": {
             "color": "#2a3f5f"
            },
            "marker": {
             "line": {
              "color": "white",
              "width": 0.5
             },
             "pattern": {
              "fillmode": "overlay",
              "size": 10,
              "solidity": 0.2
             }
            },
            "type": "bar"
           }
          ],
          "barpolar": [
           {
            "marker": {
             "line": {
              "color": "white",
              "width": 0.5
             },
             "pattern": {
              "fillmode": "overlay",
              "size": 10,
              "solidity": 0.2
             }
            },
            "type": "barpolar"
           }
          ],
          "carpet": [
           {
            "aaxis": {
             "endlinecolor": "#2a3f5f",
             "gridcolor": "#C8D4E3",
             "linecolor": "#C8D4E3",
             "minorgridcolor": "#C8D4E3",
             "startlinecolor": "#2a3f5f"
            },
            "baxis": {
             "endlinecolor": "#2a3f5f",
             "gridcolor": "#C8D4E3",
             "linecolor": "#C8D4E3",
             "minorgridcolor": "#C8D4E3",
             "startlinecolor": "#2a3f5f"
            },
            "type": "carpet"
           }
          ],
          "choropleth": [
           {
            "colorbar": {
             "outlinewidth": 0,
             "ticks": ""
            },
            "type": "choropleth"
           }
          ],
          "contour": [
           {
            "colorbar": {
             "outlinewidth": 0,
             "ticks": ""
            },
            "colorscale": [
             [
              0,
              "#0d0887"
             ],
             [
              0.1111111111111111,
              "#46039f"
             ],
             [
              0.2222222222222222,
              "#7201a8"
             ],
             [
              0.3333333333333333,
              "#9c179e"
             ],
             [
              0.4444444444444444,
              "#bd3786"
             ],
             [
              0.5555555555555556,
              "#d8576b"
             ],
             [
              0.6666666666666666,
              "#ed7953"
             ],
             [
              0.7777777777777778,
              "#fb9f3a"
             ],
             [
              0.8888888888888888,
              "#fdca26"
             ],
             [
              1,
              "#f0f921"
             ]
            ],
            "type": "contour"
           }
          ],
          "contourcarpet": [
           {
            "colorbar": {
             "outlinewidth": 0,
             "ticks": ""
            },
            "type": "contourcarpet"
           }
          ],
          "heatmap": [
           {
            "colorbar": {
             "outlinewidth": 0,
             "ticks": ""
            },
            "colorscale": [
             [
              0,
              "#0d0887"
             ],
             [
              0.1111111111111111,
              "#46039f"
             ],
             [
              0.2222222222222222,
              "#7201a8"
             ],
             [
              0.3333333333333333,
              "#9c179e"
             ],
             [
              0.4444444444444444,
              "#bd3786"
             ],
             [
              0.5555555555555556,
              "#d8576b"
             ],
             [
              0.6666666666666666,
              "#ed7953"
             ],
             [
              0.7777777777777778,
              "#fb9f3a"
             ],
             [
              0.8888888888888888,
              "#fdca26"
             ],
             [
              1,
              "#f0f921"
             ]
            ],
            "type": "heatmap"
           }
          ],
          "heatmapgl": [
           {
            "colorbar": {
             "outlinewidth": 0,
             "ticks": ""
            },
            "colorscale": [
             [
              0,
              "#0d0887"
             ],
             [
              0.1111111111111111,
              "#46039f"
             ],
             [
              0.2222222222222222,
              "#7201a8"
             ],
             [
              0.3333333333333333,
              "#9c179e"
             ],
             [
              0.4444444444444444,
              "#bd3786"
             ],
             [
              0.5555555555555556,
              "#d8576b"
             ],
             [
              0.6666666666666666,
              "#ed7953"
             ],
             [
              0.7777777777777778,
              "#fb9f3a"
             ],
             [
              0.8888888888888888,
              "#fdca26"
             ],
             [
              1,
              "#f0f921"
             ]
            ],
            "type": "heatmapgl"
           }
          ],
          "histogram": [
           {
            "marker": {
             "pattern": {
              "fillmode": "overlay",
              "size": 10,
              "solidity": 0.2
             }
            },
            "type": "histogram"
           }
          ],
          "histogram2d": [
           {
            "colorbar": {
             "outlinewidth": 0,
             "ticks": ""
            },
            "colorscale": [
             [
              0,
              "#0d0887"
             ],
             [
              0.1111111111111111,
              "#46039f"
             ],
             [
              0.2222222222222222,
              "#7201a8"
             ],
             [
              0.3333333333333333,
              "#9c179e"
             ],
             [
              0.4444444444444444,
              "#bd3786"
             ],
             [
              0.5555555555555556,
              "#d8576b"
             ],
             [
              0.6666666666666666,
              "#ed7953"
             ],
             [
              0.7777777777777778,
              "#fb9f3a"
             ],
             [
              0.8888888888888888,
              "#fdca26"
             ],
             [
              1,
              "#f0f921"
             ]
            ],
            "type": "histogram2d"
           }
          ],
          "histogram2dcontour": [
           {
            "colorbar": {
             "outlinewidth": 0,
             "ticks": ""
            },
            "colorscale": [
             [
              0,
              "#0d0887"
             ],
             [
              0.1111111111111111,
              "#46039f"
             ],
             [
              0.2222222222222222,
              "#7201a8"
             ],
             [
              0.3333333333333333,
              "#9c179e"
             ],
             [
              0.4444444444444444,
              "#bd3786"
             ],
             [
              0.5555555555555556,
              "#d8576b"
             ],
             [
              0.6666666666666666,
              "#ed7953"
             ],
             [
              0.7777777777777778,
              "#fb9f3a"
             ],
             [
              0.8888888888888888,
              "#fdca26"
             ],
             [
              1,
              "#f0f921"
             ]
            ],
            "type": "histogram2dcontour"
           }
          ],
          "mesh3d": [
           {
            "colorbar": {
             "outlinewidth": 0,
             "ticks": ""
            },
            "type": "mesh3d"
           }
          ],
          "parcoords": [
           {
            "line": {
             "colorbar": {
              "outlinewidth": 0,
              "ticks": ""
             }
            },
            "type": "parcoords"
           }
          ],
          "pie": [
           {
            "automargin": true,
            "type": "pie"
           }
          ],
          "scatter": [
           {
            "marker": {
             "colorbar": {
              "outlinewidth": 0,
              "ticks": ""
             }
            },
            "type": "scatter"
           }
          ],
          "scatter3d": [
           {
            "line": {
             "colorbar": {
              "outlinewidth": 0,
              "ticks": ""
             }
            },
            "marker": {
             "colorbar": {
              "outlinewidth": 0,
              "ticks": ""
             }
            },
            "type": "scatter3d"
           }
          ],
          "scattercarpet": [
           {
            "marker": {
             "colorbar": {
              "outlinewidth": 0,
              "ticks": ""
             }
            },
            "type": "scattercarpet"
           }
          ],
          "scattergeo": [
           {
            "marker": {
             "colorbar": {
              "outlinewidth": 0,
              "ticks": ""
             }
            },
            "type": "scattergeo"
           }
          ],
          "scattergl": [
           {
            "marker": {
             "colorbar": {
              "outlinewidth": 0,
              "ticks": ""
             }
            },
            "type": "scattergl"
           }
          ],
          "scattermapbox": [
           {
            "marker": {
             "colorbar": {
              "outlinewidth": 0,
              "ticks": ""
             }
            },
            "type": "scattermapbox"
           }
          ],
          "scatterpolar": [
           {
            "marker": {
             "colorbar": {
              "outlinewidth": 0,
              "ticks": ""
             }
            },
            "type": "scatterpolar"
           }
          ],
          "scatterpolargl": [
           {
            "marker": {
             "colorbar": {
              "outlinewidth": 0,
              "ticks": ""
             }
            },
            "type": "scatterpolargl"
           }
          ],
          "scatterternary": [
           {
            "marker": {
             "colorbar": {
              "outlinewidth": 0,
              "ticks": ""
             }
            },
            "type": "scatterternary"
           }
          ],
          "surface": [
           {
            "colorbar": {
             "outlinewidth": 0,
             "ticks": ""
            },
            "colorscale": [
             [
              0,
              "#0d0887"
             ],
             [
              0.1111111111111111,
              "#46039f"
             ],
             [
              0.2222222222222222,
              "#7201a8"
             ],
             [
              0.3333333333333333,
              "#9c179e"
             ],
             [
              0.4444444444444444,
              "#bd3786"
             ],
             [
              0.5555555555555556,
              "#d8576b"
             ],
             [
              0.6666666666666666,
              "#ed7953"
             ],
             [
              0.7777777777777778,
              "#fb9f3a"
             ],
             [
              0.8888888888888888,
              "#fdca26"
             ],
             [
              1,
              "#f0f921"
             ]
            ],
            "type": "surface"
           }
          ],
          "table": [
           {
            "cells": {
             "fill": {
              "color": "#EBF0F8"
             },
             "line": {
              "color": "white"
             }
            },
            "header": {
             "fill": {
              "color": "#C8D4E3"
             },
             "line": {
              "color": "white"
             }
            },
            "type": "table"
           }
          ]
         },
         "layout": {
          "annotationdefaults": {
           "arrowcolor": "#2a3f5f",
           "arrowhead": 0,
           "arrowwidth": 1
          },
          "autotypenumbers": "strict",
          "coloraxis": {
           "colorbar": {
            "outlinewidth": 0,
            "ticks": ""
           }
          },
          "colorscale": {
           "diverging": [
            [
             0,
             "#8e0152"
            ],
            [
             0.1,
             "#c51b7d"
            ],
            [
             0.2,
             "#de77ae"
            ],
            [
             0.3,
             "#f1b6da"
            ],
            [
             0.4,
             "#fde0ef"
            ],
            [
             0.5,
             "#f7f7f7"
            ],
            [
             0.6,
             "#e6f5d0"
            ],
            [
             0.7,
             "#b8e186"
            ],
            [
             0.8,
             "#7fbc41"
            ],
            [
             0.9,
             "#4d9221"
            ],
            [
             1,
             "#276419"
            ]
           ],
           "sequential": [
            [
             0,
             "#0d0887"
            ],
            [
             0.1111111111111111,
             "#46039f"
            ],
            [
             0.2222222222222222,
             "#7201a8"
            ],
            [
             0.3333333333333333,
             "#9c179e"
            ],
            [
             0.4444444444444444,
             "#bd3786"
            ],
            [
             0.5555555555555556,
             "#d8576b"
            ],
            [
             0.6666666666666666,
             "#ed7953"
            ],
            [
             0.7777777777777778,
             "#fb9f3a"
            ],
            [
             0.8888888888888888,
             "#fdca26"
            ],
            [
             1,
             "#f0f921"
            ]
           ],
           "sequentialminus": [
            [
             0,
             "#0d0887"
            ],
            [
             0.1111111111111111,
             "#46039f"
            ],
            [
             0.2222222222222222,
             "#7201a8"
            ],
            [
             0.3333333333333333,
             "#9c179e"
            ],
            [
             0.4444444444444444,
             "#bd3786"
            ],
            [
             0.5555555555555556,
             "#d8576b"
            ],
            [
             0.6666666666666666,
             "#ed7953"
            ],
            [
             0.7777777777777778,
             "#fb9f3a"
            ],
            [
             0.8888888888888888,
             "#fdca26"
            ],
            [
             1,
             "#f0f921"
            ]
           ]
          },
          "colorway": [
           "#636efa",
           "#EF553B",
           "#00cc96",
           "#ab63fa",
           "#FFA15A",
           "#19d3f3",
           "#FF6692",
           "#B6E880",
           "#FF97FF",
           "#FECB52"
          ],
          "font": {
           "color": "#2a3f5f"
          },
          "geo": {
           "bgcolor": "white",
           "lakecolor": "white",
           "landcolor": "white",
           "showlakes": true,
           "showland": true,
           "subunitcolor": "#C8D4E3"
          },
          "hoverlabel": {
           "align": "left"
          },
          "hovermode": "closest",
          "mapbox": {
           "style": "light"
          },
          "paper_bgcolor": "white",
          "plot_bgcolor": "white",
          "polar": {
           "angularaxis": {
            "gridcolor": "#EBF0F8",
            "linecolor": "#EBF0F8",
            "ticks": ""
           },
           "bgcolor": "white",
           "radialaxis": {
            "gridcolor": "#EBF0F8",
            "linecolor": "#EBF0F8",
            "ticks": ""
           }
          },
          "scene": {
           "xaxis": {
            "backgroundcolor": "white",
            "gridcolor": "#DFE8F3",
            "gridwidth": 2,
            "linecolor": "#EBF0F8",
            "showbackground": true,
            "ticks": "",
            "zerolinecolor": "#EBF0F8"
           },
           "yaxis": {
            "backgroundcolor": "white",
            "gridcolor": "#DFE8F3",
            "gridwidth": 2,
            "linecolor": "#EBF0F8",
            "showbackground": true,
            "ticks": "",
            "zerolinecolor": "#EBF0F8"
           },
           "zaxis": {
            "backgroundcolor": "white",
            "gridcolor": "#DFE8F3",
            "gridwidth": 2,
            "linecolor": "#EBF0F8",
            "showbackground": true,
            "ticks": "",
            "zerolinecolor": "#EBF0F8"
           }
          },
          "shapedefaults": {
           "line": {
            "color": "#2a3f5f"
           }
          },
          "ternary": {
           "aaxis": {
            "gridcolor": "#DFE8F3",
            "linecolor": "#A2B1C6",
            "ticks": ""
           },
           "baxis": {
            "gridcolor": "#DFE8F3",
            "linecolor": "#A2B1C6",
            "ticks": ""
           },
           "bgcolor": "white",
           "caxis": {
            "gridcolor": "#DFE8F3",
            "linecolor": "#A2B1C6",
            "ticks": ""
           }
          },
          "title": {
           "x": 0.05
          },
          "xaxis": {
           "automargin": true,
           "gridcolor": "#EBF0F8",
           "linecolor": "#EBF0F8",
           "ticks": "",
           "title": {
            "standoff": 15
           },
           "zerolinecolor": "#EBF0F8",
           "zerolinewidth": 2
          },
          "yaxis": {
           "automargin": true,
           "gridcolor": "#EBF0F8",
           "linecolor": "#EBF0F8",
           "ticks": "",
           "title": {
            "standoff": 15
           },
           "zerolinecolor": "#EBF0F8",
           "zerolinewidth": 2
          }
         }
        },
        "title": {
         "text": "Actual vs Predicted Insurance Costs by Region,<br>Linear Regression with Principal Component Analysis"
        },
        "xaxis": {
         "anchor": "y",
         "domain": [
          0,
          0.49
         ],
         "gridcolor": "#EAEAEA",
         "gridwidth": 1,
         "showgrid": true,
         "title": {
          "text": "Actual Cost, $"
         },
         "zeroline": true,
         "zerolinecolor": "#5E5E5E",
         "zerolinewidth": 2
        },
        "xaxis2": {
         "anchor": "y2",
         "domain": [
          0.51,
          1
         ],
         "gridcolor": "#EAEAEA",
         "gridwidth": 1,
         "matches": "x",
         "showgrid": true,
         "title": {
          "text": "Actual Cost, $"
         },
         "zeroline": true,
         "zerolinecolor": "#5E5E5E",
         "zerolinewidth": 2
        },
        "xaxis3": {
         "anchor": "y3",
         "domain": [
          0,
          0.49
         ],
         "gridcolor": "#EAEAEA",
         "gridwidth": 1,
         "matches": "x",
         "showgrid": true,
         "showticklabels": false,
         "zeroline": true,
         "zerolinecolor": "#5E5E5E",
         "zerolinewidth": 2
        },
        "xaxis4": {
         "anchor": "y4",
         "domain": [
          0.51,
          1
         ],
         "gridcolor": "#EAEAEA",
         "gridwidth": 1,
         "matches": "x",
         "showgrid": true,
         "showticklabels": false,
         "zeroline": true,
         "zerolinecolor": "#5E5E5E",
         "zerolinewidth": 2
        },
        "yaxis": {
         "anchor": "x",
         "domain": [
          0,
          0.46499999999999997
         ],
         "gridcolor": "#E3E3E3",
         "gridwidth": 1,
         "showgrid": true,
         "title": {
          "text": "Predicted Cost, $"
         },
         "zeroline": true,
         "zerolinecolor": "#5E5E5E",
         "zerolinewidth": 2
        },
        "yaxis2": {
         "anchor": "x2",
         "domain": [
          0,
          0.46499999999999997
         ],
         "gridcolor": "#E3E3E3",
         "gridwidth": 1,
         "matches": "y",
         "showgrid": true,
         "showticklabels": false,
         "zeroline": true,
         "zerolinecolor": "#5E5E5E",
         "zerolinewidth": 2
        },
        "yaxis3": {
         "anchor": "x3",
         "domain": [
          0.5349999999999999,
          0.9999999999999999
         ],
         "gridcolor": "#E3E3E3",
         "gridwidth": 1,
         "matches": "y",
         "showgrid": true,
         "title": {
          "text": "Predicted Cost, $"
         },
         "zeroline": true,
         "zerolinecolor": "#5E5E5E",
         "zerolinewidth": 2
        },
        "yaxis4": {
         "anchor": "x4",
         "domain": [
          0.5349999999999999,
          0.9999999999999999
         ],
         "gridcolor": "#E3E3E3",
         "gridwidth": 1,
         "matches": "y",
         "showgrid": true,
         "showticklabels": false,
         "zeroline": true,
         "zerolinecolor": "#5E5E5E",
         "zerolinewidth": 2
        }
       }
      },
      "text/html": [
       "<div>                            <div id=\"2ae9bf6a-ae7e-4b85-ad25-acc9a5a2cd4b\" class=\"plotly-graph-div\" style=\"height:700px; width:100%;\"></div>            <script type=\"text/javascript\">                require([\"plotly\"], function(Plotly) {                    window.PLOTLYENV=window.PLOTLYENV || {};                                    if (document.getElementById(\"2ae9bf6a-ae7e-4b85-ad25-acc9a5a2cd4b\")) {                    Plotly.newPlot(                        \"2ae9bf6a-ae7e-4b85-ad25-acc9a5a2cd4b\",                        [{\"hovertemplate\":\"Actual Cost: %{x:$,.2f}<br>Predicted Cost: %{y:$,.2f}\",\"legendgroup\":\"Southwest\",\"marker\":{\"color\":\"#B14B51\",\"opacity\":0.7,\"symbol\":\"circle\",\"line\":{\"color\":\"#F7F7F7\",\"width\":1},\"size\":10},\"mode\":\"markers\",\"name\":\"Southwest\",\"orientation\":\"v\",\"showlegend\":false,\"x\":[3761.292,11674.13,6311.952,14319.031,11552.904,5080.096,8269.044,3693.428,36837.467,13224.693,23306.547,35160.13457,12347.172,10065.413,5488.262,38711.0,7196.867,6571.544,5979.731,34828.654,6600.361,39836.519,1256.299,1242.26,4762.329,9264.797,13470.86,1759.338,1241.565,48173.361,16232.847,25309.489,10791.96,4751.07,8556.907,42856.838,8277.523,11576.13,7623.518,12146.971,20630.28351,4646.759,26140.3603,2007.945,8444.474,17081.08,13822.803,8825.086,37079.372,10096.97,11411.685,14988.432,11362.755,6875.961,10795.93733,18259.216,1261.859,17942.106,11150.78,38415.474,8522.003,8703.456,3987.926,1964.78,1743.214],\"xaxis\":\"x3\",\"y\":[4748.540040111573,13330.567156085232,7583.248902467086,15916.440968564577,12521.209296610286,1686.992129108874,7104.924298223733,8204.362736365802,34080.10762567636,12452.529507156083,35439.49959812501,10626.881498322447,13940.700508296482,8197.377664220478,7163.030323433187,33190.7731073709,8343.269394678491,9078.652267865109,8811.322296978906,29722.014011179184,7231.734527245742,33127.465815695745,3290.3300711027696,1409.8339293437493,8344.125477579386,7284.847945526528,15175.36278573196,4675.5715356170185,1322.8087386387942,49106.99745038214,26789.211785023675,35640.34476940902,8683.76092167546,6398.767077569195,10967.885905072864,40099.89129940322,8583.544320100636,15365.77455642269,7492.129732478379,11789.91335881633,12863.700066226153,6899.50007751094,9193.41242904219,2090.5136457469907,8762.155922262573,23292.510295766828,14451.176397148414,9915.234542757706,31025.829705859498,6624.07393183249,16094.3083060621,11943.782214997032,13192.133306997783,8020.191566503316,3993.0515844750125,26321.2450180846,4099.660909319193,22338.982275646184,10801.22032593395,33838.139055727006,10787.150879800662,9097.290064077724,6162.403807097601,1807.5749544053251,2303.644859571057],\"yaxis\":\"y3\",\"type\":\"scatter\"},{\"hovertemplate\":\"<b>OLS trendline</b><br>preds = 0.826689 * actuals + 2433.4<br>R<sup>2</sup>=0.792960<br><br>index=Southwest<br>actuals=%{x}<br>preds=%{y} <b>(trend)</b><extra></extra>\",\"legendgroup\":\"Southwest\",\"marker\":{\"color\":\"#B14B51\",\"symbol\":\"circle\"},\"mode\":\"lines\",\"name\":\"Southwest\",\"showlegend\":false,\"x\":[1241.565,1242.26,1256.299,1261.859,1743.214,1759.338,1964.78,2007.945,3693.428,3761.292,3987.926,4646.759,4751.07,4762.329,5080.096,5488.262,5979.731,6311.952,6571.544,6600.361,6875.961,7196.867,7623.518,8269.044,8277.523,8444.474,8522.003,8556.907,8703.456,8825.086,9264.797,10065.413,10096.97,10791.96,10795.93733,11150.78,11362.755,11411.685,11552.904,11576.13,11674.13,12146.971,12347.172,13224.693,13470.86,13822.803,14319.031,14988.432,16232.847,17081.08,17942.106,18259.216,20630.28351,23306.547,25309.489,26140.3603,34828.654,35160.13457,36837.467,37079.372,38415.474,38711.0,39836.519,42856.838,48173.361],\"xaxis\":\"x3\",\"y\":[3459.785111057031,3460.35966019135,3471.9655527045948,3476.561945779147,3874.4930228297153,3887.8225627459174,4057.6592868506277,4093.343334883551,5486.714268062646,5542.816717633044,5730.172643542775,6274.822902263381,6361.055700464754,6370.363396440723,6633.058007613616,6970.484514028678,7376.776727690041,7651.420307477967,7866.022262695449,7889.844971189941,8117.680570353005,8382.970159558456,8735.6780195676,9269.327522417152,9276.337021855843,9414.353644192102,9478.446046831845,9507.300813715688,9628.451318874426,9729.001550827268,10092.5059744252,10754.366736615097,10780.454574070789,11354.995441495817,11358.28345805467,11651.628132684826,11826.865618652135,11867.315531086999,11984.05978173362,12003.2604697821,12084.276031168096,12475.168674650906,12640.67271960027,13366.110030243124,13569.613680240129,13860.561228412284,14270.78765693728,14824.174369257144,15852.91906131993,16554.14429276,17265.94536171855,17528.096837954396,19488.23321965586,21700.67188352517,23356.482807541375,24043.355305592515,31225.875627958892,31499.90710211297,32886.54004545363,33086.52034521975,34191.06170847436,34435.369920659636,35365.82454959437,37862.69025724527,42257.80347629174],\"yaxis\":\"y3\",\"type\":\"scatter\"},{\"hovertemplate\":\"Actual Cost: %{x:$,.2f}<br>Predicted Cost: %{y:$,.2f}\",\"legendgroup\":\"Southeast\",\"marker\":{\"color\":\"#D0A99C\",\"opacity\":0.7,\"symbol\":\"circle\",\"line\":{\"color\":\"#F7F7F7\",\"width\":1},\"size\":10},\"mode\":\"markers\",\"name\":\"Southeast\",\"orientation\":\"v\",\"showlegend\":false,\"x\":[44202.6536,6781.3542,5478.0368,32548.3405,1815.8759,11093.6229,11090.7178,13470.8044,47269.854,10107.2206,38282.7495,19350.3689,1615.7667,40974.1649,1824.2854,7243.8136,36950.2567,41999.52,6184.2994,20462.99766,7152.6714,2219.4451,8232.6388,4266.1658,19521.9682,27808.7251,16586.49771,5966.8874,4504.6624,3500.6123,4340.4409,5974.3847,3227.1211,11363.2832,12592.5345,6313.759,5920.1041,12142.5786,3561.8889,4673.3922,46599.1084,2566.4707,41676.0811,8978.1851,48970.2476,24667.419,8596.8278,38709.176,1136.3994,18806.14547,1981.5819,1131.5066,6500.2359,1146.7966,8547.6913,39611.7577,11881.9696,48675.5177,44400.4064,18223.4512,28287.89766,9855.1314,10702.6424,5245.2269,1664.9996,2464.6188,9377.9047,10226.2842,36124.5737,4779.6023,6338.0756,42112.2356,1633.9618],\"xaxis\":\"x4\",\"y\":[40101.129470959815,9501.012860062852,6655.040624813024,26113.20860618344,2082.6779886390123,14032.246219671773,13348.454616570993,14781.282509901435,43789.440019426176,9337.444297363687,33166.07666764008,30185.93253008525,1396.0838060847618,37760.7308681525,3427.956337286554,10179.061703168521,32462.162456300284,39175.01793425799,8409.81954515223,15835.039259850535,9674.477773802833,4734.5645104538,8339.314907262285,8812.754121804024,28322.532950660185,40240.551661502686,2725.1687536127884,5203.050982135595,6267.166126533462,7372.954838071723,5204.330922927262,6838.336619282366,5343.713326489129,11933.575628508741,21698.335868914095,8255.852307061663,8219.564960910882,9354.083452022325,3180.872957700034,7295.40011465575,45172.50365678042,3363.342478899338,39448.785709950665,11060.95458308058,46788.6141732871,35901.095698616184,13933.363811840973,34071.22716235507,2796.2910708373765,9269.03172657478,3481.144944387195,2023.8315253033416,7520.949607476159,4556.760611655645,9033.924622196679,34470.535174711855,12497.26963388012,46438.31333121321,41594.9477658173,23570.735184568308,14289.20246758349,7841.109586423987,11971.251265302506,7573.27631657694,1985.3997632538612,2697.839874735686,9007.781138202992,11862.094889444681,28522.87908705356,5586.009799401027,7527.162977009408,34388.69024152325,4421.25940067611],\"yaxis\":\"y4\",\"type\":\"scatter\"},{\"hovertemplate\":\"<b>OLS trendline</b><br>preds = 0.866193 * actuals + 2334.73<br>R<sup>2</sup>=0.905011<br><br>index=Southeast<br>actuals=%{x}<br>preds=%{y} <b>(trend)</b><extra></extra>\",\"legendgroup\":\"Southeast\",\"marker\":{\"color\":\"#D0A99C\",\"symbol\":\"circle\"},\"mode\":\"lines\",\"name\":\"Southeast\",\"showlegend\":false,\"x\":[1131.5066,1136.3994,1146.7966,1615.7667,1633.9618,1664.9996,1815.8759,1824.2854,1981.5819,2219.4451,2464.6188,2566.4707,3227.1211,3500.6123,3561.8889,4266.1658,4340.4409,4504.6624,4673.3922,4779.6023,5245.2269,5478.0368,5920.1041,5966.8874,5974.3847,6184.2994,6313.759,6338.0756,6500.2359,6781.3542,7152.6714,7243.8136,8232.6388,8547.6913,8596.8278,8978.1851,9377.9047,9855.1314,10107.2206,10226.2842,10702.6424,11090.7178,11093.6229,11363.2832,11881.9696,12142.5786,12592.5345,13470.8044,16586.49771,18223.4512,18806.14547,19350.3689,19521.9682,20462.99766,24667.419,27808.7251,28287.89766,32548.3405,36124.5737,36950.2567,38282.7495,38709.176,39611.7577,40974.1649,41676.0811,41999.52,42112.2356,44202.6536,44400.4064,46599.1084,47269.854,48675.5177,48970.2476],\"xaxis\":\"x4\",\"y\":[3314.835450062111,3319.073557908646,3328.0795370825326,3734.2980337716153,3750.058497325918,3776.9432144039074,3907.631170356773,3914.9154182180055,4051.1645048110613,4257.199882165939,4469.5675615589325,4557.790938066149,5130.041519339968,5366.937611695735,5420.014957851105,6030.054496770211,6094.3910492784225,6236.638520607674,6382.791048674282,6474.789466388325,6878.110115260089,7079.76836083339,7462.683847431366,7503.207202323617,7509.701309165881,7691.527898679668,7803.664864541607,7824.727726964157,7965.189801814239,8208.692432830141,8530.324696334359,8609.27140843591,9465.784619474913,9738.680808225832,9781.242487877822,10111.571413127873,10457.80562935863,10871.175933038743,11089.533768336885,11192.665794456228,11605.28380974018,11941.43190444817,11943.948280982051,12177.526075563681,12626.808470456388,12852.54609467517,13242.294629335232,14003.045641959005,16701.836572409436,18119.753803929627,18624.479351227295,19095.881736150295,19244.519804289175,20059.63269225653,23701.47193996614,26422.44848320897,26837.504276697422,30527.868941085548,33625.57618151215,34340.776803048,35494.972394760625,35864.33993392439,36646.149651245556,37826.25687911016,38434.25159682396,38714.41202438377,38812.04545897887,40622.750357674544,40794.04239768319,42698.54211121989,43279.53708145961,44497.11277565506,44752.40567579374],\"yaxis\":\"y4\",\"type\":\"scatter\"},{\"hovertemplate\":\"Actual Cost: %{x:$,.2f}<br>Predicted Cost: %{y:$,.2f}\",\"legendgroup\":\"Northwest\",\"marker\":{\"color\":\"#5D8370\",\"opacity\":0.7,\"symbol\":\"circle\",\"line\":{\"color\":\"#F7F7F7\",\"width\":1},\"size\":10},\"mode\":\"markers\",\"name\":\"Northwest\",\"orientation\":\"v\",\"showlegend\":false,\"x\":[9174.13565,4433.3877,21774.32215,7731.85785,33471.97189,4618.0799,3594.17085,12235.8392,6203.90175,11840.77505,4466.6214,8162.71625,6393.60345,1906.35825,23967.38305,2775.19215,3537.703,32787.45859,6112.35295,9301.89355,11945.1327,6389.37785,23807.2406,10264.4421,4243.59005,16455.70785,8413.46305,26018.95052,60021.39897,3579.8287,12479.70895,5855.9025,7153.5539,1635.73365,6986.697,43921.1837,15019.76005,29330.98315,5630.45785,8827.2099,8059.6791,5729.0053,14382.70905,29141.3603,38746.3551,3877.30425,42760.5022,6373.55735,28950.4692,16420.49455,10600.5483,18033.9679,39983.42595,6940.90985,4239.89265,6360.9936,8116.26885,6796.86325,2136.88225,33307.5508,13415.0381,10976.24575,3353.4703,5261.46945,5989.52365],\"xaxis\":\"x\",\"y\":[11662.079848311947,7887.237359638068,30779.59908927316,10694.280222659365,14532.951933022512,5954.229909662867,3359.181512122159,14343.314792709585,8680.011762205479,12151.711041479024,6946.681330221862,11768.488418035988,9061.186735238247,4479.501317223452,30654.810022336325,2757.6528237931325,5981.704650793146,30834.895056281275,8838.102077083082,10924.637982455692,14637.178133270309,8218.201147316606,30407.723444400093,12588.565427343274,6876.765969642719,16391.725929078104,11311.67782104834,5367.008229972483,37387.5273016675,5601.638987129486,11772.993665859412,6134.898450106288,8184.323083461493,3859.907577699818,10617.184862931681,32857.883437755256,15057.11261872107,38211.946224628715,8837.982443905405,9857.29977520879,9343.337965449511,10132.428468214948,13800.298141447971,38093.912426811745,29616.27411289045,7005.146610150608,33778.752176654234,10976.163881189232,37882.4306048391,27685.54672373418,13577.90704970677,25000.856894538694,36013.24428154003,8666.46386339655,6199.63068291869,11755.962580062762,11523.575845762776,10214.756641963098,4980.859736205084,24436.414067676436,10341.659410877808,13597.640230391156,3104.314910254958,7627.434572251037,9645.182120522692],\"yaxis\":\"y\",\"type\":\"scatter\"},{\"hovertemplate\":\"<b>OLS trendline</b><br>preds = 0.716568 * actuals + 4799.83<br>R<sup>2</sup>=0.751236<br><br>index=Northwest<br>actuals=%{x}<br>preds=%{y} <b>(trend)</b><extra></extra>\",\"legendgroup\":\"Northwest\",\"marker\":{\"color\":\"#5D8370\",\"symbol\":\"circle\"},\"mode\":\"lines\",\"name\":\"Northwest\",\"showlegend\":false,\"x\":[1635.73365,1906.35825,2136.88225,2775.19215,3353.4703,3537.703,3579.8287,3594.17085,3877.30425,4239.89265,4243.59005,4433.3877,4466.6214,4618.0799,5261.46945,5630.45785,5729.0053,5855.9025,5989.52365,6112.35295,6203.90175,6360.9936,6373.55735,6389.37785,6393.60345,6796.86325,6940.90985,6986.697,7153.5539,7731.85785,8059.6791,8116.26885,8162.71625,8413.46305,8827.2099,9174.13565,9301.89355,10264.4421,10600.5483,10976.24575,11840.77505,11945.1327,12235.8392,12479.70895,13415.0381,14382.70905,15019.76005,16420.49455,16455.70785,18033.9679,21774.32215,23807.2406,23967.38305,26018.95052,28950.4692,29141.3603,29330.98315,32787.45859,33307.5508,33471.97189,38746.3551,39983.42595,42760.5022,43921.1837,60021.39897],\"xaxis\":\"x\",\"y\":[5971.945203294331,6165.866176270728,6331.052335897055,6788.444889524724,7202.8206022241275,7334.835889962451,7365.021825503092,7375.298953608126,7578.183334444588,7838.002638816604,7840.652077949198,7976.655031696322,8000.469243115409,8108.999582506379,8570.032051612463,8834.437392239308,8905.053357633227,8995.983851357672,9091.732513593939,9179.748079680725,9245.349035287943,9357.916053950186,9366.91883723091,9378.2553038824,9381.283234319653,9670.246369150216,9773.465576960378,9806.275191008088,9925.839533628181,10340.233733786237,10575.140005286827,10615.690418591792,10648.973146770324,10828.650321080117,11125.128142083526,11373.724090088868,11465.271334032772,12155.002982053757,12395.84598497145,12665.058817244462,13284.552991176188,13359.332360921328,13567.643384126768,13742.392683338703,14412.619775854264,15106.02197264271,15562.512438607691,16566.23418866887,16591.46691842703,17722.39782605988,20402.616606748707,21859.341249688296,21974.09423119413,23444.182168170755,25544.815128825787,25681.60161403273,25817.479311664643,28294.279574441272,28666.961094896706,28784.78001361526,32564.235110947768,33450.68069968116,35440.64513170118,36272.35254409349,47809.25425327974],\"yaxis\":\"y\",\"type\":\"scatter\"},{\"hovertemplate\":\"Actual Cost: %{x:$,.2f}<br>Predicted Cost: %{y:$,.2f}\",\"legendgroup\":\"Northeast\",\"marker\":{\"color\":\"#6C839B\",\"opacity\":0.7,\"symbol\":\"circle\",\"line\":{\"color\":\"#F7F7F7\",\"width\":1},\"size\":10},\"mode\":\"markers\",\"name\":\"Northeast\",\"orientation\":\"v\",\"showlegend\":false,\"x\":[58571.07448,41034.2214,13129.60345,17128.42608,13224.05705,42303.69215,8627.5411,11512.405,13228.84695,12730.9996,3558.62025,14590.63205,13019.16105,6113.23105,4846.92015,14451.83515,9282.4806,5594.8455,2203.73595,6640.54485,12323.936,7935.29115,3857.75925,1712.227,2727.3951,7639.41745,3044.2133,25517.11363,11938.25595,3393.35635,14449.8544,33475.81715,20709.02034,8334.45755,2217.6012,11879.10405,11394.06555,10072.05505,2396.0959,7729.64575,2211.13075,3385.39915,24106.91255,2205.9808,9722.7695,13616.3586,11658.37915,6067.12675,19594.80965,2217.46915,22395.74424,12029.2867,9866.30485,16115.3045,7050.0213,5428.7277,13430.265,2196.4732,7985.815,13725.47184,3481.868,13143.86485,23241.47453,7133.9025,8606.2174],\"xaxis\":\"x2\",\"y\":[31028.800511882146,35621.05311406819,10184.204088583767,7658.688104486745,16793.11080832911,36631.2754193772,5919.313404919069,13912.083507331175,15826.168140120235,12527.784782259074,4328.168705057173,17563.27570150471,14908.411894377441,10384.684552974559,7699.37836939925,10679.871737094254,8881.480564711681,9934.872624235106,4646.426387884028,3638.2599763281796,10192.24554806781,13319.656740704413,7174.458685405249,4129.3046697871105,6015.763862073865,11581.861964233263,3851.640255616012,9754.880173939551,12374.735839712916,10144.397588110882,10080.510768664944,25117.627678202698,16781.952572424387,11422.655103028366,8533.558074859015,14191.380192537737,14284.679153905368,11364.450282042128,3533.6809177461582,7824.935735694548,6657.434118833633,5474.222008119214,31015.345803238844,5241.899347427123,12352.304317870074,9795.23848941501,11552.538480836109,7602.093828080337,24591.682354091594,8494.183023241523,5447.555717645693,9003.60050253131,12696.71495722163,19409.42996077756,10244.709117072203,10329.487234316583,16773.624984401253,2809.5578530567855,8890.809278773599,6739.999674670882,5232.604737686357,14697.63731088027,4325.799276586884,6581.4222015930245,8694.98060791957],\"yaxis\":\"y2\",\"type\":\"scatter\"},{\"hovertemplate\":\"<b>OLS trendline</b><br>preds = 0.569433 * actuals + 4826.1<br>R<sup>2</sup>=0.641782<br><br>index=Northeast<br>actuals=%{x}<br>preds=%{y} <b>(trend)</b><extra></extra>\",\"legendgroup\":\"Northeast\",\"marker\":{\"color\":\"#6C839B\",\"symbol\":\"circle\"},\"mode\":\"lines\",\"name\":\"Northeast\",\"showlegend\":false,\"x\":[1712.227,2196.4732,2203.73595,2205.9808,2211.13075,2217.46915,2217.6012,2396.0959,2727.3951,3044.2133,3385.39915,3393.35635,3481.868,3558.62025,3857.75925,4846.92015,5428.7277,5594.8455,6067.12675,6113.23105,6640.54485,7050.0213,7133.9025,7639.41745,7729.64575,7935.29115,7985.815,8334.45755,8606.2174,8627.5411,9282.4806,9722.7695,9866.30485,10072.05505,11394.06555,11512.405,11658.37915,11879.10405,11938.25595,12029.2867,12323.936,12730.9996,13019.16105,13129.60345,13143.86485,13224.05705,13228.84695,13430.265,13616.3586,13725.47184,14449.8544,14451.83515,14590.63205,16115.3045,17128.42608,19594.80965,20709.02034,22395.74424,23241.47453,24106.91255,25517.11363,33475.81715,41034.2214,42303.69215,58571.07448],\"xaxis\":\"x2\",\"y\":[5801.100205611611,6076.846109795121,6080.981761382287,6082.260053691047,6085.192606634673,6088.80190256529,6088.877096230512,6190.517919521359,6379.170711137015,6559.577539359502,6753.860118557583,6758.391213089184,6808.792692667184,6852.497978479172,7022.83768177793,7586.098821986101,7917.399406142555,8011.992410614196,8280.925074020059,8307.178396999667,8607.448426107676,8840.617945965763,8888.382693191448,9176.239731545144,9227.61872877102,9344.72006433995,9373.490026192168,9572.018698562948,9726.767802549773,9738.910227078944,10111.854577727428,10362.5697321932,10444.303537988777,10561.464550165927,11314.261331354077,11381.647753056157,11464.770292746027,11590.458397528913,11624.141458231657,11675.977397196699,11843.760515877937,12075.556078635464,12239.644799581714,12302.534378164255,12310.655294008142,12356.319401847222,12359.046930336757,12473.74107211036,12579.708961986966,12641.84167262505,13054.329213016623,13055.457117994942,13134.492692643475,14002.691933667847,14579.59708258781,15984.037979745088,16618.506632601802,17578.9833630613,18060.570339916114,18553.37955419531,19356.3949870168,23888.345672950698,28192.352630776557,28915.23152955422,38178.42048030841],\"yaxis\":\"y2\",\"type\":\"scatter\"}],                        {\"template\":{\"data\":{\"barpolar\":[{\"marker\":{\"line\":{\"color\":\"white\",\"width\":0.5},\"pattern\":{\"fillmode\":\"overlay\",\"size\":10,\"solidity\":0.2}},\"type\":\"barpolar\"}],\"bar\":[{\"error_x\":{\"color\":\"#2a3f5f\"},\"error_y\":{\"color\":\"#2a3f5f\"},\"marker\":{\"line\":{\"color\":\"white\",\"width\":0.5},\"pattern\":{\"fillmode\":\"overlay\",\"size\":10,\"solidity\":0.2}},\"type\":\"bar\"}],\"carpet\":[{\"aaxis\":{\"endlinecolor\":\"#2a3f5f\",\"gridcolor\":\"#C8D4E3\",\"linecolor\":\"#C8D4E3\",\"minorgridcolor\":\"#C8D4E3\",\"startlinecolor\":\"#2a3f5f\"},\"baxis\":{\"endlinecolor\":\"#2a3f5f\",\"gridcolor\":\"#C8D4E3\",\"linecolor\":\"#C8D4E3\",\"minorgridcolor\":\"#C8D4E3\",\"startlinecolor\":\"#2a3f5f\"},\"type\":\"carpet\"}],\"choropleth\":[{\"colorbar\":{\"outlinewidth\":0,\"ticks\":\"\"},\"type\":\"choropleth\"}],\"contourcarpet\":[{\"colorbar\":{\"outlinewidth\":0,\"ticks\":\"\"},\"type\":\"contourcarpet\"}],\"contour\":[{\"colorbar\":{\"outlinewidth\":0,\"ticks\":\"\"},\"colorscale\":[[0.0,\"#0d0887\"],[0.1111111111111111,\"#46039f\"],[0.2222222222222222,\"#7201a8\"],[0.3333333333333333,\"#9c179e\"],[0.4444444444444444,\"#bd3786\"],[0.5555555555555556,\"#d8576b\"],[0.6666666666666666,\"#ed7953\"],[0.7777777777777778,\"#fb9f3a\"],[0.8888888888888888,\"#fdca26\"],[1.0,\"#f0f921\"]],\"type\":\"contour\"}],\"heatmapgl\":[{\"colorbar\":{\"outlinewidth\":0,\"ticks\":\"\"},\"colorscale\":[[0.0,\"#0d0887\"],[0.1111111111111111,\"#46039f\"],[0.2222222222222222,\"#7201a8\"],[0.3333333333333333,\"#9c179e\"],[0.4444444444444444,\"#bd3786\"],[0.5555555555555556,\"#d8576b\"],[0.6666666666666666,\"#ed7953\"],[0.7777777777777778,\"#fb9f3a\"],[0.8888888888888888,\"#fdca26\"],[1.0,\"#f0f921\"]],\"type\":\"heatmapgl\"}],\"heatmap\":[{\"colorbar\":{\"outlinewidth\":0,\"ticks\":\"\"},\"colorscale\":[[0.0,\"#0d0887\"],[0.1111111111111111,\"#46039f\"],[0.2222222222222222,\"#7201a8\"],[0.3333333333333333,\"#9c179e\"],[0.4444444444444444,\"#bd3786\"],[0.5555555555555556,\"#d8576b\"],[0.6666666666666666,\"#ed7953\"],[0.7777777777777778,\"#fb9f3a\"],[0.8888888888888888,\"#fdca26\"],[1.0,\"#f0f921\"]],\"type\":\"heatmap\"}],\"histogram2dcontour\":[{\"colorbar\":{\"outlinewidth\":0,\"ticks\":\"\"},\"colorscale\":[[0.0,\"#0d0887\"],[0.1111111111111111,\"#46039f\"],[0.2222222222222222,\"#7201a8\"],[0.3333333333333333,\"#9c179e\"],[0.4444444444444444,\"#bd3786\"],[0.5555555555555556,\"#d8576b\"],[0.6666666666666666,\"#ed7953\"],[0.7777777777777778,\"#fb9f3a\"],[0.8888888888888888,\"#fdca26\"],[1.0,\"#f0f921\"]],\"type\":\"histogram2dcontour\"}],\"histogram2d\":[{\"colorbar\":{\"outlinewidth\":0,\"ticks\":\"\"},\"colorscale\":[[0.0,\"#0d0887\"],[0.1111111111111111,\"#46039f\"],[0.2222222222222222,\"#7201a8\"],[0.3333333333333333,\"#9c179e\"],[0.4444444444444444,\"#bd3786\"],[0.5555555555555556,\"#d8576b\"],[0.6666666666666666,\"#ed7953\"],[0.7777777777777778,\"#fb9f3a\"],[0.8888888888888888,\"#fdca26\"],[1.0,\"#f0f921\"]],\"type\":\"histogram2d\"}],\"histogram\":[{\"marker\":{\"pattern\":{\"fillmode\":\"overlay\",\"size\":10,\"solidity\":0.2}},\"type\":\"histogram\"}],\"mesh3d\":[{\"colorbar\":{\"outlinewidth\":0,\"ticks\":\"\"},\"type\":\"mesh3d\"}],\"parcoords\":[{\"line\":{\"colorbar\":{\"outlinewidth\":0,\"ticks\":\"\"}},\"type\":\"parcoords\"}],\"pie\":[{\"automargin\":true,\"type\":\"pie\"}],\"scatter3d\":[{\"line\":{\"colorbar\":{\"outlinewidth\":0,\"ticks\":\"\"}},\"marker\":{\"colorbar\":{\"outlinewidth\":0,\"ticks\":\"\"}},\"type\":\"scatter3d\"}],\"scattercarpet\":[{\"marker\":{\"colorbar\":{\"outlinewidth\":0,\"ticks\":\"\"}},\"type\":\"scattercarpet\"}],\"scattergeo\":[{\"marker\":{\"colorbar\":{\"outlinewidth\":0,\"ticks\":\"\"}},\"type\":\"scattergeo\"}],\"scattergl\":[{\"marker\":{\"colorbar\":{\"outlinewidth\":0,\"ticks\":\"\"}},\"type\":\"scattergl\"}],\"scattermapbox\":[{\"marker\":{\"colorbar\":{\"outlinewidth\":0,\"ticks\":\"\"}},\"type\":\"scattermapbox\"}],\"scatterpolargl\":[{\"marker\":{\"colorbar\":{\"outlinewidth\":0,\"ticks\":\"\"}},\"type\":\"scatterpolargl\"}],\"scatterpolar\":[{\"marker\":{\"colorbar\":{\"outlinewidth\":0,\"ticks\":\"\"}},\"type\":\"scatterpolar\"}],\"scatter\":[{\"marker\":{\"colorbar\":{\"outlinewidth\":0,\"ticks\":\"\"}},\"type\":\"scatter\"}],\"scatterternary\":[{\"marker\":{\"colorbar\":{\"outlinewidth\":0,\"ticks\":\"\"}},\"type\":\"scatterternary\"}],\"surface\":[{\"colorbar\":{\"outlinewidth\":0,\"ticks\":\"\"},\"colorscale\":[[0.0,\"#0d0887\"],[0.1111111111111111,\"#46039f\"],[0.2222222222222222,\"#7201a8\"],[0.3333333333333333,\"#9c179e\"],[0.4444444444444444,\"#bd3786\"],[0.5555555555555556,\"#d8576b\"],[0.6666666666666666,\"#ed7953\"],[0.7777777777777778,\"#fb9f3a\"],[0.8888888888888888,\"#fdca26\"],[1.0,\"#f0f921\"]],\"type\":\"surface\"}],\"table\":[{\"cells\":{\"fill\":{\"color\":\"#EBF0F8\"},\"line\":{\"color\":\"white\"}},\"header\":{\"fill\":{\"color\":\"#C8D4E3\"},\"line\":{\"color\":\"white\"}},\"type\":\"table\"}]},\"layout\":{\"annotationdefaults\":{\"arrowcolor\":\"#2a3f5f\",\"arrowhead\":0,\"arrowwidth\":1},\"autotypenumbers\":\"strict\",\"coloraxis\":{\"colorbar\":{\"outlinewidth\":0,\"ticks\":\"\"}},\"colorscale\":{\"diverging\":[[0,\"#8e0152\"],[0.1,\"#c51b7d\"],[0.2,\"#de77ae\"],[0.3,\"#f1b6da\"],[0.4,\"#fde0ef\"],[0.5,\"#f7f7f7\"],[0.6,\"#e6f5d0\"],[0.7,\"#b8e186\"],[0.8,\"#7fbc41\"],[0.9,\"#4d9221\"],[1,\"#276419\"]],\"sequential\":[[0.0,\"#0d0887\"],[0.1111111111111111,\"#46039f\"],[0.2222222222222222,\"#7201a8\"],[0.3333333333333333,\"#9c179e\"],[0.4444444444444444,\"#bd3786\"],[0.5555555555555556,\"#d8576b\"],[0.6666666666666666,\"#ed7953\"],[0.7777777777777778,\"#fb9f3a\"],[0.8888888888888888,\"#fdca26\"],[1.0,\"#f0f921\"]],\"sequentialminus\":[[0.0,\"#0d0887\"],[0.1111111111111111,\"#46039f\"],[0.2222222222222222,\"#7201a8\"],[0.3333333333333333,\"#9c179e\"],[0.4444444444444444,\"#bd3786\"],[0.5555555555555556,\"#d8576b\"],[0.6666666666666666,\"#ed7953\"],[0.7777777777777778,\"#fb9f3a\"],[0.8888888888888888,\"#fdca26\"],[1.0,\"#f0f921\"]]},\"colorway\":[\"#636efa\",\"#EF553B\",\"#00cc96\",\"#ab63fa\",\"#FFA15A\",\"#19d3f3\",\"#FF6692\",\"#B6E880\",\"#FF97FF\",\"#FECB52\"],\"font\":{\"color\":\"#2a3f5f\"},\"geo\":{\"bgcolor\":\"white\",\"lakecolor\":\"white\",\"landcolor\":\"white\",\"showlakes\":true,\"showland\":true,\"subunitcolor\":\"#C8D4E3\"},\"hoverlabel\":{\"align\":\"left\"},\"hovermode\":\"closest\",\"mapbox\":{\"style\":\"light\"},\"paper_bgcolor\":\"white\",\"plot_bgcolor\":\"white\",\"polar\":{\"angularaxis\":{\"gridcolor\":\"#EBF0F8\",\"linecolor\":\"#EBF0F8\",\"ticks\":\"\"},\"bgcolor\":\"white\",\"radialaxis\":{\"gridcolor\":\"#EBF0F8\",\"linecolor\":\"#EBF0F8\",\"ticks\":\"\"}},\"scene\":{\"xaxis\":{\"backgroundcolor\":\"white\",\"gridcolor\":\"#DFE8F3\",\"gridwidth\":2,\"linecolor\":\"#EBF0F8\",\"showbackground\":true,\"ticks\":\"\",\"zerolinecolor\":\"#EBF0F8\"},\"yaxis\":{\"backgroundcolor\":\"white\",\"gridcolor\":\"#DFE8F3\",\"gridwidth\":2,\"linecolor\":\"#EBF0F8\",\"showbackground\":true,\"ticks\":\"\",\"zerolinecolor\":\"#EBF0F8\"},\"zaxis\":{\"backgroundcolor\":\"white\",\"gridcolor\":\"#DFE8F3\",\"gridwidth\":2,\"linecolor\":\"#EBF0F8\",\"showbackground\":true,\"ticks\":\"\",\"zerolinecolor\":\"#EBF0F8\"}},\"shapedefaults\":{\"line\":{\"color\":\"#2a3f5f\"}},\"ternary\":{\"aaxis\":{\"gridcolor\":\"#DFE8F3\",\"linecolor\":\"#A2B1C6\",\"ticks\":\"\"},\"baxis\":{\"gridcolor\":\"#DFE8F3\",\"linecolor\":\"#A2B1C6\",\"ticks\":\"\"},\"bgcolor\":\"white\",\"caxis\":{\"gridcolor\":\"#DFE8F3\",\"linecolor\":\"#A2B1C6\",\"ticks\":\"\"}},\"title\":{\"x\":0.05},\"xaxis\":{\"automargin\":true,\"gridcolor\":\"#EBF0F8\",\"linecolor\":\"#EBF0F8\",\"ticks\":\"\",\"title\":{\"standoff\":15},\"zerolinecolor\":\"#EBF0F8\",\"zerolinewidth\":2},\"yaxis\":{\"automargin\":true,\"gridcolor\":\"#EBF0F8\",\"linecolor\":\"#EBF0F8\",\"ticks\":\"\",\"title\":{\"standoff\":15},\"zerolinecolor\":\"#EBF0F8\",\"zerolinewidth\":2}}},\"xaxis\":{\"anchor\":\"y\",\"domain\":[0.0,0.49],\"title\":{\"text\":\"Actual Cost, $\"},\"showgrid\":true,\"gridwidth\":1,\"gridcolor\":\"#EAEAEA\",\"zeroline\":true,\"zerolinewidth\":2,\"zerolinecolor\":\"#5E5E5E\"},\"yaxis\":{\"anchor\":\"x\",\"domain\":[0.0,0.46499999999999997],\"title\":{\"text\":\"Predicted Cost, $\"},\"showgrid\":true,\"gridwidth\":1,\"gridcolor\":\"#E3E3E3\",\"zeroline\":true,\"zerolinewidth\":2,\"zerolinecolor\":\"#5E5E5E\"},\"xaxis2\":{\"anchor\":\"y2\",\"domain\":[0.51,1.0],\"matches\":\"x\",\"title\":{\"text\":\"Actual Cost, $\"},\"showgrid\":true,\"gridwidth\":1,\"gridcolor\":\"#EAEAEA\",\"zeroline\":true,\"zerolinewidth\":2,\"zerolinecolor\":\"#5E5E5E\"},\"yaxis2\":{\"anchor\":\"x2\",\"domain\":[0.0,0.46499999999999997],\"matches\":\"y\",\"showticklabels\":false,\"showgrid\":true,\"gridwidth\":1,\"gridcolor\":\"#E3E3E3\",\"zeroline\":true,\"zerolinewidth\":2,\"zerolinecolor\":\"#5E5E5E\"},\"xaxis3\":{\"anchor\":\"y3\",\"domain\":[0.0,0.49],\"matches\":\"x\",\"showticklabels\":false,\"showgrid\":true,\"gridwidth\":1,\"gridcolor\":\"#EAEAEA\",\"zeroline\":true,\"zerolinewidth\":2,\"zerolinecolor\":\"#5E5E5E\"},\"yaxis3\":{\"anchor\":\"x3\",\"domain\":[0.5349999999999999,0.9999999999999999],\"matches\":\"y\",\"title\":{\"text\":\"Predicted Cost, $\"},\"showgrid\":true,\"gridwidth\":1,\"gridcolor\":\"#E3E3E3\",\"zeroline\":true,\"zerolinewidth\":2,\"zerolinecolor\":\"#5E5E5E\"},\"xaxis4\":{\"anchor\":\"y4\",\"domain\":[0.51,1.0],\"matches\":\"x\",\"showticklabels\":false,\"showgrid\":true,\"gridwidth\":1,\"gridcolor\":\"#EAEAEA\",\"zeroline\":true,\"zerolinewidth\":2,\"zerolinecolor\":\"#5E5E5E\"},\"yaxis4\":{\"anchor\":\"x4\",\"domain\":[0.5349999999999999,0.9999999999999999],\"matches\":\"y\",\"showticklabels\":false,\"showgrid\":true,\"gridwidth\":1,\"gridcolor\":\"#E3E3E3\",\"zeroline\":true,\"zerolinewidth\":2,\"zerolinecolor\":\"#5E5E5E\"},\"annotations\":[{\"showarrow\":false,\"text\":\"Northwest\",\"x\":0.245,\"xanchor\":\"center\",\"xref\":\"paper\",\"y\":0.46499999999999997,\"yanchor\":\"bottom\",\"yref\":\"paper\"},{\"showarrow\":false,\"text\":\"Northeast\",\"x\":0.755,\"xanchor\":\"center\",\"xref\":\"paper\",\"y\":0.46499999999999997,\"yanchor\":\"bottom\",\"yref\":\"paper\"},{\"showarrow\":false,\"text\":\"Southwest\",\"x\":0.245,\"xanchor\":\"center\",\"xref\":\"paper\",\"y\":0.9999999999999999,\"yanchor\":\"bottom\",\"yref\":\"paper\"},{\"showarrow\":false,\"text\":\"Southeast\",\"x\":0.755,\"xanchor\":\"center\",\"xref\":\"paper\",\"y\":0.9999999999999999,\"yanchor\":\"bottom\",\"yref\":\"paper\"},{\"showarrow\":false,\"text\":\"Adj. R-Squared = 76.6%<br>RMSE = 5,349\",\"x\":51000.0,\"xref\":\"x3\",\"y\":15000.0,\"yref\":\"y3\"},{\"showarrow\":false,\"text\":\"Adj. R-Squared = 89.3%<br>RMSE = 4,700\",\"x\":51000.0,\"xref\":\"x4\",\"y\":15000.0,\"yref\":\"y4\"},{\"showarrow\":false,\"text\":\"Adj. R-Squared = 71.8%<br>RMSE = 6,306\",\"x\":51000.0,\"xref\":\"x\",\"y\":15000.0,\"yref\":\"y\"},{\"showarrow\":false,\"text\":\"Adj. R-Squared = 58.8%<br>RMSE = 6,232\",\"x\":51000.0,\"xref\":\"x2\",\"y\":15000.0,\"yref\":\"y2\"}],\"legend\":{\"title\":{\"text\":\"index\"},\"tracegroupgap\":0},\"title\":{\"text\":\"Actual vs Predicted Insurance Costs by Region,<br>Linear Regression with Principal Component Analysis\"},\"height\":700,\"font\":{\"color\":\"#303030\"},\"paper_bgcolor\":\"white\",\"plot_bgcolor\":\"white\"},                        {\"responsive\": true}                    ).then(function(){\n",
       "                            \n",
       "var gd = document.getElementById('2ae9bf6a-ae7e-4b85-ad25-acc9a5a2cd4b');\n",
       "var x = new MutationObserver(function (mutations, observer) {{\n",
       "        var display = window.getComputedStyle(gd).display;\n",
       "        if (!display || display === 'none') {{\n",
       "            console.log([gd, 'removed!']);\n",
       "            Plotly.purge(gd);\n",
       "            observer.disconnect();\n",
       "        }}\n",
       "}});\n",
       "\n",
       "// Listen for the removal of the full notebook cells\n",
       "var notebookContainer = gd.closest('#notebook-container');\n",
       "if (notebookContainer) {{\n",
       "    x.observe(notebookContainer, {childList: true});\n",
       "}}\n",
       "\n",
       "// Listen for the clearing of the current output cell\n",
       "var outputEl = gd.closest('.output');\n",
       "if (outputEl) {{\n",
       "    x.observe(outputEl, {childList: true});\n",
       "}}\n",
       "\n",
       "                        })                };                });            </script>        </div>"
      ]
     },
     "metadata": {},
     "output_type": "display_data"
    }
   ],
   "source": [
    "# Dataframe to save results\n",
    "\n",
    "\n",
    "regions = ins.region.unique()\n",
    "s = StandardScaler()\n",
    "# feat_importance=pd.DataFrame()\n",
    "actuals=[]\n",
    "preds=[]\n",
    "rmses=[]\n",
    "r2_scores=[]\n",
    "adj_r2_scores=[]\n",
    "\n",
    "for i in regions:\n",
    "    \n",
    "    # Filter data by region\n",
    "    print(\"\\nRegion: {}\\n\".format(i))\n",
    "    ins_df = ins[ins.region==i]\n",
    "    X=ins_df.drop(['charges', 'region'], axis=1)\n",
    "    y=ins_df.charges\n",
    "    \n",
    "    # Add polynomial features\n",
    "    pf = PolynomialFeatures(degree=2, include_bias=False)\n",
    "    X_pf = pd.DataFrame(data=pf.fit_transform(X), columns=pf.get_feature_names(X.columns))\n",
    "    \n",
    "    # Create training and test sets\n",
    "    X_train, X_test, y_train, y_test = train_test_split(X_pf, y, test_size=0.2, random_state=1)\n",
    "    \n",
    "    # Scale features\n",
    "    X_train_scaled = s.fit_transform(X_train)\n",
    "    X_test_scaled = s.transform(X_test)\n",
    "    \n",
    "    # PCA\n",
    "    pca = PCA(.95)\n",
    "    X_train_pca=pca.fit_transform(X_train_scaled)\n",
    "    X_test_pca=pca.transform(X_test_scaled)\n",
    "    print(\"Number of Principal Components = {}\".format(pca.n_components_))\n",
    "    print(\"Train Shape:{} {}  Test Shape:{} {}\".format(X_train_pca.shape, y_train.shape, X_test_pca.shape, y_test.shape))\n",
    "    \n",
    "    # Linear Regression\n",
    "    lr = LinearRegression().fit(X_train_pca, y_train)\n",
    "    y_pred=lr.predict(X_test_pca)\n",
    "    rmse=np.sqrt(mean_squared_error(y_test, y_pred)).round(2)\n",
    "    r2=r2_score(y_test, y_pred)\n",
    "    adj_r2 = 1 - (1-r2)*(len(y_test)-1)/(len(y_test)-X_test_pca.shape[1]-1)\n",
    "    \n",
    "    actuals.append(pd.Series(y_test, name='actuals').reset_index())\n",
    "    preds.append(pd.Series(y_pred, name='preds').reset_index(drop=True))\n",
    "    rmses.append(rmse)\n",
    "    r2_scores.append(r2)\n",
    "    adj_r2_scores.append(adj_r2)\n",
    "    \n",
    "    # feat_importance[\"Importance_\"+str(i)]=lr.feature_importances_\n",
    "\n",
    "    print(\"Test Error (RMSE) = {:,}\".format(rmse))\n",
    "    print(\"R-Squared = {:.2f}%, Adjusted R-Squared = {:.2f}%\".format(r2*100, adj_r2*100))\n",
    "    if i != 'Northeast':\n",
    "        print(\"__________________________\")\n",
    "\n",
    "# Plot results\n",
    "for i in range(0,4):\n",
    "    actuals[i].loc[:,'index']=regions[i]\n",
    "actual = pd.concat([actuals[i] for i in range(4)], axis = 0)\n",
    "pred = pd.concat([preds[i] for i in range(4)], axis = 0)\n",
    "df = pd.concat([actual, pred], axis=1).reset_index(drop=True)\n",
    "col = [\"#B14B51\", '#D0A99C', '#5D8370','#6C839B']\n",
    "fig = px.scatter(df, x=\"actuals\", y=\"preds\", color=\"index\", trendline=\"ols\", height=700,\n",
    "                 title=\"Actual vs Predicted Insurance Costs by Region,<br>Linear Regression with Principal Component Analysis\",\n",
    "                 color_discrete_sequence=col, opacity=0.7, facet_col='index', facet_col_wrap=2)\n",
    "\n",
    "fig.for_each_annotation(lambda a: a.update(text=a.text.split(\"=\")[-1]))\n",
    "fig.add_annotation(text=\"Adj. R-Squared = {:.1f}%<br>RMSE = {:,.0f}\".format(adj_r2_scores[0]*100,rmses[0]),\n",
    "                   x=51e3,y=15e3, row=2,col=1, showarrow=False)\n",
    "fig.add_annotation(text=\"Adj. R-Squared = {:.1f}%<br>RMSE = {:,.0f}\".format(adj_r2_scores[1]*100,rmses[1]),\n",
    "                   x=51e3,y=15e3, row=2,col=2, showarrow=False)\n",
    "fig.add_annotation(text=\"Adj. R-Squared = {:.1f}%<br>RMSE = {:,.0f}\".format(adj_r2_scores[2]*100,rmses[2]),\n",
    "                   x=51e3,y=15e3, row=1,col=1, showarrow=False)\n",
    "fig.add_annotation(text=\"Adj. R-Squared = {:.1f}%<br>RMSE = {:,.0f}\".format(adj_r2_scores[3]*100,rmses[3]),\n",
    "                   x=51e3,y=15e3, row=1,col=2, showarrow=False)\n",
    "\n",
    "fig.update_traces(hovertemplate=\"Actual Cost: %{x:$,.2f}<br>Predicted Cost: %{y:$,.2f}\",\n",
    "                  marker=dict(size=10, line=dict(width=1,color=\"#F7F7F7\")),\n",
    "                  selector=dict(mode=\"markers\"), showlegend=False)\n",
    "fig.update_xaxes(title=\"Actual Cost, $\", row=1)\n",
    "fig.update_xaxes(showgrid=True, gridwidth=1, gridcolor='#EAEAEA',\n",
    "                 zeroline=True, zerolinewidth=2, zerolinecolor='#5E5E5E')\n",
    "fig.update_yaxes(title=\"Predicted Cost, $\", col=1)\n",
    "fig.update_yaxes(showgrid=True, gridwidth=1, gridcolor='#E3E3E3',\n",
    "                 zeroline=True, zerolinewidth=2, zerolinecolor='#5E5E5E')\n",
    "fig.update_layout(font_color=\"#303030\", paper_bgcolor=\"white\", plot_bgcolor=\"white\")\n",
    "fig.show()"
   ]
  },
  {
   "cell_type": "markdown",
   "metadata": {},
   "source": [
    "Gradient Boosting"
   ]
  },
  {
   "cell_type": "code",
   "execution_count": 77,
   "metadata": {},
   "outputs": [
    {
     "name": "stdout",
     "output_type": "stream",
     "text": [
      "\n",
      "Region: Southwest\n",
      "\n",
      "Train Shape:(260, 20) (260,)  Test Shape:(65, 20) (65,)\n",
      "Test Error (RMSE) = 4,117.69\n",
      "R-Squared = 87.64%, Adjusted R-Squared = 82.03%\n",
      "__________________________\n",
      "\n",
      "Region: Southeast\n",
      "\n",
      "Train Shape:(291, 20) (291,)  Test Shape:(73, 20) (73,)\n",
      "Test Error (RMSE) = 3,212.02\n",
      "R-Squared = 95.48%, Adjusted R-Squared = 93.74%\n",
      "__________________________\n",
      "\n",
      "Region: Northwest\n",
      "\n",
      "Train Shape:(260, 20) (260,)  Test Shape:(65, 20) (65,)\n",
      "Test Error (RMSE) = 4,559.91\n",
      "R-Squared = 86.63%, Adjusted R-Squared = 80.55%\n",
      "__________________________\n",
      "\n",
      "Region: Northeast\n",
      "\n",
      "Train Shape:(259, 20) (259,)  Test Shape:(65, 20) (65,)\n",
      "Test Error (RMSE) = 5,275.79\n",
      "R-Squared = 73.68%, Adjusted R-Squared = 61.71%\n"
     ]
    },
    {
     "data": {
      "application/vnd.plotly.v1+json": {
       "config": {
        "plotlyServerURL": "https://plot.ly"
       },
       "data": [
        {
         "hovertemplate": "Actual Cost: %{x:$,.2f}<br>Predicted Cost: %{y:$,.2f}",
         "legendgroup": "Southwest",
         "marker": {
          "color": "#B14B51",
          "line": {
           "color": "#F7F7F7",
           "width": 1
          },
          "opacity": 0.7,
          "size": 10,
          "symbol": "circle"
         },
         "mode": "markers",
         "name": "Southwest",
         "orientation": "v",
         "showlegend": false,
         "type": "scatter",
         "x": [
          3761.292,
          11674.13,
          6311.952,
          14319.031,
          11552.904,
          5080.096,
          8269.044,
          3693.428,
          36837.467,
          13224.693,
          23306.547,
          35160.13457,
          12347.172,
          10065.413,
          5488.262,
          38711,
          7196.867,
          6571.544,
          5979.731,
          34828.654,
          6600.361,
          39836.519,
          1256.299,
          1242.26,
          4762.329,
          9264.797,
          13470.86,
          1759.338,
          1241.565,
          48173.361,
          16232.847,
          25309.489,
          10791.96,
          4751.07,
          8556.907,
          42856.838,
          8277.523,
          11576.13,
          7623.518,
          12146.971,
          20630.28351,
          4646.759,
          26140.3603,
          2007.945,
          8444.474,
          17081.08,
          13822.803,
          8825.086,
          37079.372,
          10096.97,
          11411.685,
          14988.432,
          11362.755,
          6875.961,
          10795.93733,
          18259.216,
          1261.859,
          17942.106,
          11150.78,
          38415.474,
          8522.003,
          8703.456,
          3987.926,
          1964.78,
          1743.214
         ],
         "xaxis": "x3",
         "y": [
          5194.615631427988,
          11013.738254346084,
          7474.145374430177,
          14190.526380820265,
          11936.72367688087,
          4474.477805446251,
          9996.837837499339,
          5844.749674047692,
          38292.18998438621,
          14793.550480661328,
          24717.3538098108,
          10801.690224946107,
          16161.71746845606,
          10336.85862976391,
          7090.024800190971,
          41206.3323871548,
          8631.131154185767,
          8069.584970575805,
          7640.239691793349,
          32894.36666000996,
          7836.83613549636,
          41004.64535092994,
          2864.165501005381,
          2501.909521128163,
          6119.776746658974,
          9514.334098330419,
          14131.461400086424,
          3058.7713791969645,
          2501.909521128163,
          48081.2857387927,
          15768.450033611434,
          30837.714489584992,
          10450.207148355803,
          5421.303336450241,
          9624.146496355535,
          43111.554438201376,
          10553.520648647442,
          10821.99198125225,
          7344.781737358411,
          13468.597412455707,
          11565.413152670433,
          7572.223290869513,
          10766.145445292914,
          2685.0139914156784,
          10365.405663545738,
          17997.12165631137,
          15396.083235766306,
          9694.94964116612,
          37056.988809499555,
          11254.266281319044,
          13221.447548142425,
          14934.970659238417,
          12300.734929952723,
          7584.674747460682,
          3929.7689239109086,
          19002.88262370815,
          3831.0258564867986,
          16916.125456792677,
          11505.204142645047,
          39355.19765305582,
          9083.95649362571,
          10013.323415350142,
          5234.690171246745,
          2415.6000826039376,
          3053.6470272554348
         ],
         "yaxis": "y3"
        },
        {
         "hovertemplate": "<b>LOWESS trendline</b><br><br>index=Southwest<br>actuals=%{x}<br>preds=%{y} <b>(trend)</b><extra></extra>",
         "legendgroup": "Southwest",
         "marker": {
          "color": "#B14B51",
          "symbol": "circle"
         },
         "mode": "lines",
         "name": "Southwest",
         "showlegend": false,
         "type": "scatter",
         "x": [
          1241.565,
          1242.26,
          1256.299,
          1261.859,
          1743.214,
          1759.338,
          1964.78,
          2007.945,
          3693.428,
          3761.292,
          3987.926,
          4646.759,
          4751.07,
          4762.329,
          5080.096,
          5488.262,
          5979.731,
          6311.952,
          6571.544,
          6600.361,
          6875.961,
          7196.867,
          7623.518,
          8269.044,
          8277.523,
          8444.474,
          8522.003,
          8556.907,
          8703.456,
          8825.086,
          9264.797,
          10065.413,
          10096.97,
          10791.96,
          10795.93733,
          11150.78,
          11362.755,
          11411.685,
          11552.904,
          11576.13,
          11674.13,
          12146.971,
          12347.172,
          13224.693,
          13470.86,
          13822.803,
          14319.031,
          14988.432,
          16232.847,
          17081.08,
          17942.106,
          18259.216,
          20630.28351,
          23306.547,
          25309.489,
          26140.3603,
          34828.654,
          35160.13457,
          36837.467,
          37079.372,
          38415.474,
          38711,
          39836.519,
          42856.838,
          48173.361
         ],
         "xaxis": "x3",
         "y": [
          2653.957686544016,
          2654.6279915684227,
          2668.1679627584813,
          2673.5302273187162,
          3137.4834560541663,
          3153.0123689108054,
          3350.7832064796503,
          3392.3138399542727,
          5008.343776638421,
          5073.241067972392,
          5289.922627703597,
          5919.622292192766,
          6019.334322795406,
          6030.097765962682,
          6333.978765460519,
          6724.908415368251,
          7198.230364295012,
          7521.254841320249,
          7773.946646114557,
          7801.764839811475,
          8056.450660872672,
          8331.326133177625,
          8698.806789083246,
          9269.85380257002,
          9277.478415089294,
          9428.203634760373,
          9498.659679028102,
          9530.435875180401,
          9664.09993364686,
          9775.18630263395,
          10174.962184009955,
          10897.189288268257,
          10925.532046891496,
          11548.928057300165,
          11552.483889492594,
          11868.635440562532,
          12057.418738334829,
          12101.068832233517,
          12227.242102422235,
          12248.021128019634,
          12335.779440961713,
          12760.876998793186,
          12940.285934251671,
          13735.552631409519,
          13959.382394770457,
          14279.170712123401,
          14734.445835239625,
          15375.190045109237,
          16624.78047404244,
          17485.469185573344,
          18354.30652779451,
          18672.92640463999,
          21077.740528606537,
          23722.91263375432,
          25842.13114081242,
          26711.8789539612,
          35432.72898023668,
          35762.57017392833,
          37432.41101783588,
          37673.35575141508,
          39004.67621263075,
          39299.258212296336,
          40421.46859367814,
          43432.914055855894,
          48720.42628469442
         ],
         "yaxis": "y3"
        },
        {
         "hovertemplate": "Actual Cost: %{x:$,.2f}<br>Predicted Cost: %{y:$,.2f}",
         "legendgroup": "Southeast",
         "marker": {
          "color": "#D0A99C",
          "line": {
           "color": "#F7F7F7",
           "width": 1
          },
          "opacity": 0.7,
          "size": 10,
          "symbol": "circle"
         },
         "mode": "markers",
         "name": "Southeast",
         "orientation": "v",
         "showlegend": false,
         "type": "scatter",
         "x": [
          44202.6536,
          6781.3542,
          5478.0368,
          32548.3405,
          1815.8759,
          11093.6229,
          11090.7178,
          13470.8044,
          47269.854,
          10107.2206,
          38282.7495,
          19350.3689,
          1615.7667,
          40974.1649,
          1824.2854,
          7243.8136,
          36950.2567,
          41999.52,
          6184.2994,
          20462.99766,
          7152.6714,
          2219.4451,
          8232.6388,
          4266.1658,
          19521.9682,
          27808.7251,
          16586.49771,
          5966.8874,
          4504.6624,
          3500.6123,
          4340.4409,
          5974.3847,
          3227.1211,
          11363.2832,
          12592.5345,
          6313.759,
          5920.1041,
          12142.5786,
          3561.8889,
          4673.3922,
          46599.1084,
          2566.4707,
          41676.0811,
          8978.1851,
          48970.2476,
          24667.419,
          8596.8278,
          38709.176,
          1136.3994,
          18806.14547,
          1981.5819,
          1131.5066,
          6500.2359,
          1146.7966,
          8547.6913,
          39611.7577,
          11881.9696,
          48675.5177,
          44400.4064,
          18223.4512,
          28287.89766,
          9855.1314,
          10702.6424,
          5245.2269,
          1664.9996,
          2464.6188,
          9377.9047,
          10226.2842,
          36124.5737,
          4779.6023,
          6338.0756,
          42112.2356,
          1633.9618
         ],
         "xaxis": "x4",
         "y": [
          44560.969440330264,
          7643.249301299456,
          4941.410399760841,
          31568.904154435586,
          3731.093417626308,
          14307.849260379659,
          12855.38866869515,
          15969.930921964751,
          46964.99582461899,
          11422.58933404289,
          37110.58370162507,
          23040.19207847872,
          3340.1244647849135,
          44044.30824302048,
          4091.426871947585,
          8158.809513940939,
          35955.689068815984,
          43745.613706669385,
          6297.899917288916,
          16821.577947213464,
          8669.91241210659,
          3670.703498028214,
          8366.180995718621,
          6262.078145330169,
          19826.783244144455,
          30279.806960172155,
          3608.115096702893,
          7042.806165461979,
          6859.719430658683,
          4400.4838738081235,
          5100.341734704636,
          5835.448176139753,
          5227.950412079155,
          12150.794674184415,
          19174.84383304879,
          6396.084175347679,
          7273.9653444291425,
          13358.98301154723,
          5417.244735868891,
          5725.1166474405145,
          46980.53187498954,
          4916.95120390531,
          44311.834537872724,
          8729.454379838533,
          47302.92210824306,
          27363.067702283864,
          12352.12755028851,
          37722.005026774845,
          2702.3746624373207,
          8807.491265288376,
          4405.79201360275,
          3274.7958584055673,
          6878.375020186041,
          3214.264180453648,
          9518.502346537998,
          38046.03985109837,
          13688.807999774217,
          47703.770757891216,
          46779.94971106279,
          20757.906820010237,
          13335.47187637889,
          10062.279528125377,
          13845.089397533427,
          6109.792764562036,
          3287.401544240322,
          3900.4621613911513,
          10069.182845318885,
          12046.99046646884,
          36095.46420221343,
          4708.351237342133,
          7330.840850299176,
          39518.58648387046,
          3349.507741025428
         ],
         "yaxis": "y4"
        },
        {
         "hovertemplate": "<b>LOWESS trendline</b><br><br>index=Southeast<br>actuals=%{x}<br>preds=%{y} <b>(trend)</b><extra></extra>",
         "legendgroup": "Southeast",
         "marker": {
          "color": "#D0A99C",
          "symbol": "circle"
         },
         "mode": "lines",
         "name": "Southeast",
         "showlegend": false,
         "type": "scatter",
         "x": [
          1131.5066,
          1136.3994,
          1146.7966,
          1615.7667,
          1633.9618,
          1664.9996,
          1815.8759,
          1824.2854,
          1981.5819,
          2219.4451,
          2464.6188,
          2566.4707,
          3227.1211,
          3500.6123,
          3561.8889,
          4266.1658,
          4340.4409,
          4504.6624,
          4673.3922,
          4779.6023,
          5245.2269,
          5478.0368,
          5920.1041,
          5966.8874,
          5974.3847,
          6184.2994,
          6313.759,
          6338.0756,
          6500.2359,
          6781.3542,
          7152.6714,
          7243.8136,
          8232.6388,
          8547.6913,
          8596.8278,
          8978.1851,
          9377.9047,
          9855.1314,
          10107.2206,
          10226.2842,
          10702.6424,
          11090.7178,
          11093.6229,
          11363.2832,
          11881.9696,
          12142.5786,
          12592.5345,
          13470.8044,
          16586.49771,
          18223.4512,
          18806.14547,
          19350.3689,
          19521.9682,
          20462.99766,
          24667.419,
          27808.7251,
          28287.89766,
          32548.3405,
          36124.5737,
          36950.2567,
          38282.7495,
          38709.176,
          39611.7577,
          40974.1649,
          41676.0811,
          41999.52,
          42112.2356,
          44202.6536,
          44400.4064,
          46599.1084,
          47269.854,
          48675.5177,
          48970.2476
         ],
         "xaxis": "x4",
         "y": [
          2970.5444293869946,
          2974.558878597978,
          2983.0904424366495,
          3369.18914795189,
          3384.222096254704,
          3409.8754443931766,
          3534.754778470521,
          3541.7240918131456,
          3672.259382828242,
          3870.311202178817,
          4075.3092472445583,
          4160.736512758538,
          4718.8263427099455,
          4951.953635991014,
          5004.358977109011,
          5611.267964763019,
          5675.767656900337,
          5818.705205585498,
          5966.031342550013,
          6059.002324795889,
          6468.574349980188,
          6674.45039205751,
          7066.920622024341,
          7108.54601590453,
          7115.217939204229,
          7302.135634722801,
          7417.497276311312,
          7439.171927231838,
          7583.775192021214,
          7835.078891636342,
          8172.635614193745,
          8257.936307148018,
          9363.75774468302,
          9721.293307559617,
          9777.1323273789,
          10211.089544619592,
          10667.31892629531,
          11213.939872698593,
          11509.082866309389,
          11651.295863866057,
          12208.219660250112,
          12656.000601582155,
          12659.57897633727,
          12964.743684382123,
          13523.604548976273,
          13800.499661404408,
          14278.44154677671,
          15218.642829053098,
          18571.18110636455,
          20288.02402197458,
          20836.345619090065,
          21325.32756367602,
          21473.711199045334,
          22304.3551501028,
          25637.48544207885,
          28552.16737502059,
          29006.12750995795,
          33005.351864042525,
          36313.951097108875,
          37075.19527945736,
          38302.741632918434,
          38695.4587674586,
          39526.70370743273,
          40782.0411348324,
          41429.359418786196,
          41727.809497482056,
          41831.843851535625,
          43764.09956383419,
          43947.19434844292,
          45986.656153438715,
          46610.153965249854,
          47918.64282855097,
          48193.28773239007
         ],
         "yaxis": "y4"
        },
        {
         "hovertemplate": "Actual Cost: %{x:$,.2f}<br>Predicted Cost: %{y:$,.2f}",
         "legendgroup": "Northwest",
         "marker": {
          "color": "#5D8370",
          "line": {
           "color": "#F7F7F7",
           "width": 1
          },
          "opacity": 0.7,
          "size": 10,
          "symbol": "circle"
         },
         "mode": "markers",
         "name": "Northwest",
         "orientation": "v",
         "showlegend": false,
         "type": "scatter",
         "x": [
          9174.13565,
          4433.3877,
          21774.32215,
          7731.85785,
          33471.97189,
          4618.0799,
          3594.17085,
          12235.8392,
          6203.90175,
          11840.77505,
          4466.6214,
          8162.71625,
          6393.60345,
          1906.35825,
          23967.38305,
          2775.19215,
          3537.703,
          32787.45859,
          6112.35295,
          9301.89355,
          11945.1327,
          6389.37785,
          23807.2406,
          10264.4421,
          4243.59005,
          16455.70785,
          8413.46305,
          26018.95052,
          60021.39897,
          3579.8287,
          12479.70895,
          5855.9025,
          7153.5539,
          1635.73365,
          6986.697,
          43921.1837,
          15019.76005,
          29330.98315,
          5630.45785,
          8827.2099,
          8059.6791,
          5729.0053,
          14382.70905,
          29141.3603,
          38746.3551,
          3877.30425,
          42760.5022,
          6373.55735,
          28950.4692,
          16420.49455,
          10600.5483,
          18033.9679,
          39983.42595,
          6940.90985,
          4239.89265,
          6360.9936,
          8116.26885,
          6796.86325,
          2136.88225,
          33307.5508,
          13415.0381,
          10976.24575,
          3353.4703,
          5261.46945,
          5989.52365
         ],
         "xaxis": "x",
         "y": [
          11126.270351162459,
          8221.75784895452,
          21663.471362494605,
          10025.806890647375,
          14358.887732490291,
          7606.033099136951,
          4464.475340554435,
          12627.864585210296,
          8283.433946247724,
          11901.08347480634,
          6931.081570947542,
          9653.35980348435,
          8071.466988129577,
          3462.894339950391,
          25973.655767342174,
          5700.128584993465,
          8560.781516697554,
          24567.573558674154,
          7251.477356079721,
          10811.236976127158,
          13881.085946476456,
          7297.756413624634,
          25393.374291458553,
          12049.097328882017,
          5529.755770027403,
          16640.947935003413,
          11496.309953597749,
          7035.772847519125,
          44521.85157973165,
          7359.91171327527,
          13283.318498153481,
          6458.439825141441,
          7595.956375931327,
          4519.703883140422,
          9299.820207032391,
          42054.112204070334,
          16056.31317391771,
          28346.85947180195,
          7612.725636529631,
          10492.715850349545,
          8247.612737003605,
          8499.581755791285,
          14980.725576751554,
          28613.567306571556,
          38615.91817999026,
          7997.333860043743,
          43665.48717732414,
          10590.356793055611,
          28311.28703480437,
          22657.03203077406,
          13466.042582675474,
          17824.735808212172,
          42689.00588359781,
          7293.047561692712,
          5394.708844714091,
          11186.236254828571,
          9699.498406433726,
          7908.04938728265,
          3861.512384329114,
          33772.46172202779,
          14270.20282384113,
          12491.648246780858,
          4403.7175331399485,
          8523.588390855883,
          10162.336563593835
         ],
         "yaxis": "y"
        },
        {
         "hovertemplate": "<b>LOWESS trendline</b><br><br>index=Northwest<br>actuals=%{x}<br>preds=%{y} <b>(trend)</b><extra></extra>",
         "legendgroup": "Northwest",
         "marker": {
          "color": "#5D8370",
          "symbol": "circle"
         },
         "mode": "lines",
         "name": "Northwest",
         "showlegend": false,
         "type": "scatter",
         "x": [
          1635.73365,
          1906.35825,
          2136.88225,
          2775.19215,
          3353.4703,
          3537.703,
          3579.8287,
          3594.17085,
          3877.30425,
          4239.89265,
          4243.59005,
          4433.3877,
          4466.6214,
          4618.0799,
          5261.46945,
          5630.45785,
          5729.0053,
          5855.9025,
          5989.52365,
          6112.35295,
          6203.90175,
          6360.9936,
          6373.55735,
          6389.37785,
          6393.60345,
          6796.86325,
          6940.90985,
          6986.697,
          7153.5539,
          7731.85785,
          8059.6791,
          8116.26885,
          8162.71625,
          8413.46305,
          8827.2099,
          9174.13565,
          9301.89355,
          10264.4421,
          10600.5483,
          10976.24575,
          11840.77505,
          11945.1327,
          12235.8392,
          12479.70895,
          13415.0381,
          14382.70905,
          15019.76005,
          16420.49455,
          16455.70785,
          18033.9679,
          21774.32215,
          23807.2406,
          23967.38305,
          26018.95052,
          28950.4692,
          29141.3603,
          29330.98315,
          32787.45859,
          33307.5508,
          33471.97189,
          38746.3551,
          39983.42595,
          42760.5022,
          43921.1837,
          60021.39897
         ],
         "xaxis": "x",
         "y": [
          4323.869999616355,
          4562.576717451614,
          4765.256979263108,
          5323.67373138568,
          5827.157912541166,
          5987.3096930957845,
          6023.923810938516,
          6036.389350139349,
          6282.492573555547,
          6597.8458214681295,
          6601.06303669638,
          6766.263377668661,
          6795.202622090951,
          6927.145422415249,
          7488.609652180733,
          7810.874316095087,
          7896.838801204885,
          8007.3831447730445,
          8123.514938544599,
          8229.926023749887,
          8308.95562191788,
          8443.838109413678,
          8454.579255256804,
          8468.093885775903,
          8471.701514662682,
          8811.173652741229,
          8930.358405051147,
          8970.87353963544,
          9112.745701928037,
          9607.842292835288,
          9878.671430738255,
          9924.84516618627,
          9962.658496484326,
          10167.909155393507,
          10504.648495862091,
          10790.159445919999,
          10893.538726060166,
          11690.330211775174,
          11973.856712246363,
          12291.341362388685,
          13011.519719149452,
          13097.464840933942,
          13336.292670861838,
          13536.172603745299,
          14305.486863869097,
          15119.964621215224,
          15743.006252976002,
          17209.299899575584,
          17246.012659516426,
          18812.578006033393,
          22183.96607488987,
          24096.26276734052,
          24251.747361613172,
          26297.27166368704,
          29205.52126547075,
          29391.423576961126,
          29575.854774427717,
          32918.22469509026,
          33420.19381965283,
          33578.89791099592,
          38681.23760704287,
          39882.347843714095,
          42584.70249611057,
          43715.71901725034,
          59403.97662169252
         ],
         "yaxis": "y"
        },
        {
         "hovertemplate": "Actual Cost: %{x:$,.2f}<br>Predicted Cost: %{y:$,.2f}",
         "legendgroup": "Northeast",
         "marker": {
          "color": "#6C839B",
          "line": {
           "color": "#F7F7F7",
           "width": 1
          },
          "opacity": 0.7,
          "size": 10,
          "symbol": "circle"
         },
         "mode": "markers",
         "name": "Northeast",
         "orientation": "v",
         "showlegend": false,
         "type": "scatter",
         "x": [
          58571.07448,
          41034.2214,
          13129.60345,
          17128.42608,
          13224.05705,
          42303.69215,
          8627.5411,
          11512.405,
          13228.84695,
          12730.9996,
          3558.62025,
          14590.63205,
          13019.16105,
          6113.23105,
          4846.92015,
          14451.83515,
          9282.4806,
          5594.8455,
          2203.73595,
          6640.54485,
          12323.936,
          7935.29115,
          3857.75925,
          1712.227,
          2727.3951,
          7639.41745,
          3044.2133,
          25517.11363,
          11938.25595,
          3393.35635,
          14449.8544,
          33475.81715,
          20709.02034,
          8334.45755,
          2217.6012,
          11879.10405,
          11394.06555,
          10072.05505,
          2396.0959,
          7729.64575,
          2211.13075,
          3385.39915,
          24106.91255,
          2205.9808,
          9722.7695,
          13616.3586,
          11658.37915,
          6067.12675,
          19594.80965,
          2217.46915,
          22395.74424,
          12029.2867,
          9866.30485,
          16115.3045,
          7050.0213,
          5428.7277,
          13430.265,
          2196.4732,
          7985.815,
          13725.47184,
          3481.868,
          13143.86485,
          23241.47453,
          7133.9025,
          8606.2174
         ],
         "xaxis": "x2",
         "y": [
          39566.781175661825,
          39523.00387506937,
          13397.603670455273,
          9147.495150840887,
          14967.963453374035,
          40157.84711089808,
          8206.814587162187,
          14495.710935492494,
          16481.816885026932,
          14893.613797657015,
          5640.829947119103,
          15027.633036309651,
          14907.684399826718,
          8193.309784735062,
          8148.473069157815,
          14424.4697670317,
          9259.352761382032,
          9175.427718366078,
          5864.8177357134955,
          6891.8495980867865,
          11455.71719582803,
          12137.571599236815,
          6695.328861152391,
          4207.500043222989,
          5952.61645677217,
          10843.032653574877,
          3517.8797543729156,
          10996.794185474848,
          12128.26367898042,
          8573.41415478046,
          14423.131942896276,
          29250.909577895676,
          11312.555914581751,
          10552.33444569631,
          6545.944992133522,
          14408.667220116604,
          12185.640602460302,
          12229.887204429393,
          3191.6194286792042,
          8143.488212118998,
          6735.938721001885,
          6299.010950908208,
          24962.144414152233,
          5799.106179092046,
          12460.172427416057,
          14045.325109167816,
          12870.99387563455,
          7027.727597672263,
          21129.243630233355,
          6506.681638386528,
          4282.8515143026025,
          11243.100562277452,
          14138.872191107906,
          16910.379366331494,
          10430.418456237838,
          8553.517516325515,
          14355.746412479815,
          3351.13411141057,
          7730.730631287824,
          7117.629598139993,
          5369.55043663145,
          14073.047768209446,
          3908.001082695969,
          7810.881307098831,
          8809.136680817908
         ],
         "yaxis": "y2"
        },
        {
         "hovertemplate": "<b>LOWESS trendline</b><br><br>index=Northeast<br>actuals=%{x}<br>preds=%{y} <b>(trend)</b><extra></extra>",
         "legendgroup": "Northeast",
         "marker": {
          "color": "#6C839B",
          "symbol": "circle"
         },
         "mode": "lines",
         "name": "Northeast",
         "showlegend": false,
         "type": "scatter",
         "x": [
          1712.227,
          2196.4732,
          2203.73595,
          2205.9808,
          2211.13075,
          2217.46915,
          2217.6012,
          2396.0959,
          2727.3951,
          3044.2133,
          3385.39915,
          3393.35635,
          3481.868,
          3558.62025,
          3857.75925,
          4846.92015,
          5428.7277,
          5594.8455,
          6067.12675,
          6113.23105,
          6640.54485,
          7050.0213,
          7133.9025,
          7639.41745,
          7729.64575,
          7935.29115,
          7985.815,
          8334.45755,
          8606.2174,
          8627.5411,
          9282.4806,
          9722.7695,
          9866.30485,
          10072.05505,
          11394.06555,
          11512.405,
          11658.37915,
          11879.10405,
          11938.25595,
          12029.2867,
          12323.936,
          12730.9996,
          13019.16105,
          13129.60345,
          13143.86485,
          13224.05705,
          13228.84695,
          13430.265,
          13616.3586,
          13725.47184,
          14449.8544,
          14451.83515,
          14590.63205,
          16115.3045,
          17128.42608,
          19594.80965,
          20709.02034,
          22395.74424,
          23241.47453,
          24106.91255,
          25517.11363,
          33475.81715,
          41034.2214,
          42303.69215,
          58571.07448
         ],
         "xaxis": "x2",
         "y": [
          4915.401789607645,
          5281.274332308554,
          5286.764223215139,
          5288.4611188813415,
          5292.354033926574,
          5297.145384880264,
          5297.245205527067,
          5432.202391086628,
          5682.808248632555,
          5922.598482482207,
          6181.011341547758,
          6187.041354893473,
          6254.128466438133,
          6312.321465547028,
          6539.320217524187,
          7293.408015197591,
          7740.933170932192,
          7869.440281548251,
          8236.63919551994,
          8272.614279261745,
          8685.037535224983,
          9005.076463868943,
          9070.481894626251,
          9469.882034470753,
          9544.346710632726,
          9717.733023392548,
          9759.609440618437,
          10051.1845809817,
          10268.805836342854,
          10285.307691306607,
          10824.658635718215,
          11195.232771750447,
          11315.415954432707,
          11487.857194373135,
          12566.878931022506,
          12658.213690216195,
          12771.967782880785,
          12938.912035150086,
          12983.32692140028,
          13051.459233742835,
          13278.549051609945,
          13566.77072269834,
          13749.859696195019,
          13815.26748028137,
          13825.451797748274,
          13882.220674553932,
          13885.58304714822,
          14023.520195330488,
          14143.545924757464,
          14195.428728004,
          14493.777292432564,
          14494.325268701148,
          14531.314701212794,
          14887.618716148256,
          15430.919257483827,
          16898.634509214346,
          17703.076881371366,
          19608.990810660092,
          20424.663627921836,
          21151.744191957514,
          22502.20054284689,
          30751.255359454637,
          37712.87695263049,
          38894.20168720203,
          54400.27728591014
         ],
         "yaxis": "y2"
        }
       ],
       "layout": {
        "annotations": [
         {
          "showarrow": false,
          "text": "Northwest",
          "x": 0.245,
          "xanchor": "center",
          "xref": "paper",
          "y": 0.46499999999999997,
          "yanchor": "bottom",
          "yref": "paper"
         },
         {
          "showarrow": false,
          "text": "Northeast",
          "x": 0.755,
          "xanchor": "center",
          "xref": "paper",
          "y": 0.46499999999999997,
          "yanchor": "bottom",
          "yref": "paper"
         },
         {
          "showarrow": false,
          "text": "Southwest",
          "x": 0.245,
          "xanchor": "center",
          "xref": "paper",
          "y": 0.9999999999999999,
          "yanchor": "bottom",
          "yref": "paper"
         },
         {
          "showarrow": false,
          "text": "Southeast",
          "x": 0.755,
          "xanchor": "center",
          "xref": "paper",
          "y": 0.9999999999999999,
          "yanchor": "bottom",
          "yref": "paper"
         },
         {
          "showarrow": false,
          "text": "Adj. R-Squared = 82.0%<br>RMSE = 4,118",
          "x": 51000,
          "xref": "x3",
          "y": 15000,
          "yref": "y3"
         },
         {
          "showarrow": false,
          "text": "Adj. R-Squared = 93.7%<br>RMSE = 3,212",
          "x": 51000,
          "xref": "x4",
          "y": 15000,
          "yref": "y4"
         },
         {
          "showarrow": false,
          "text": "Adj. R-Squared = 80.6%<br>RMSE = 4,560",
          "x": 51000,
          "xref": "x",
          "y": 15000,
          "yref": "y"
         },
         {
          "showarrow": false,
          "text": "Adj. R-Squared = 61.7%<br>RMSE = 5,276",
          "x": 51000,
          "xref": "x2",
          "y": 15000,
          "yref": "y2"
         }
        ],
        "font": {
         "color": "#303030"
        },
        "height": 700,
        "legend": {
         "title": {
          "text": "index"
         },
         "tracegroupgap": 0
        },
        "paper_bgcolor": "white",
        "plot_bgcolor": "white",
        "template": {
         "data": {
          "bar": [
           {
            "error_x": {
             "color": "#2a3f5f"
            },
            "error_y": {
             "color": "#2a3f5f"
            },
            "marker": {
             "line": {
              "color": "white",
              "width": 0.5
             },
             "pattern": {
              "fillmode": "overlay",
              "size": 10,
              "solidity": 0.2
             }
            },
            "type": "bar"
           }
          ],
          "barpolar": [
           {
            "marker": {
             "line": {
              "color": "white",
              "width": 0.5
             },
             "pattern": {
              "fillmode": "overlay",
              "size": 10,
              "solidity": 0.2
             }
            },
            "type": "barpolar"
           }
          ],
          "carpet": [
           {
            "aaxis": {
             "endlinecolor": "#2a3f5f",
             "gridcolor": "#C8D4E3",
             "linecolor": "#C8D4E3",
             "minorgridcolor": "#C8D4E3",
             "startlinecolor": "#2a3f5f"
            },
            "baxis": {
             "endlinecolor": "#2a3f5f",
             "gridcolor": "#C8D4E3",
             "linecolor": "#C8D4E3",
             "minorgridcolor": "#C8D4E3",
             "startlinecolor": "#2a3f5f"
            },
            "type": "carpet"
           }
          ],
          "choropleth": [
           {
            "colorbar": {
             "outlinewidth": 0,
             "ticks": ""
            },
            "type": "choropleth"
           }
          ],
          "contour": [
           {
            "colorbar": {
             "outlinewidth": 0,
             "ticks": ""
            },
            "colorscale": [
             [
              0,
              "#0d0887"
             ],
             [
              0.1111111111111111,
              "#46039f"
             ],
             [
              0.2222222222222222,
              "#7201a8"
             ],
             [
              0.3333333333333333,
              "#9c179e"
             ],
             [
              0.4444444444444444,
              "#bd3786"
             ],
             [
              0.5555555555555556,
              "#d8576b"
             ],
             [
              0.6666666666666666,
              "#ed7953"
             ],
             [
              0.7777777777777778,
              "#fb9f3a"
             ],
             [
              0.8888888888888888,
              "#fdca26"
             ],
             [
              1,
              "#f0f921"
             ]
            ],
            "type": "contour"
           }
          ],
          "contourcarpet": [
           {
            "colorbar": {
             "outlinewidth": 0,
             "ticks": ""
            },
            "type": "contourcarpet"
           }
          ],
          "heatmap": [
           {
            "colorbar": {
             "outlinewidth": 0,
             "ticks": ""
            },
            "colorscale": [
             [
              0,
              "#0d0887"
             ],
             [
              0.1111111111111111,
              "#46039f"
             ],
             [
              0.2222222222222222,
              "#7201a8"
             ],
             [
              0.3333333333333333,
              "#9c179e"
             ],
             [
              0.4444444444444444,
              "#bd3786"
             ],
             [
              0.5555555555555556,
              "#d8576b"
             ],
             [
              0.6666666666666666,
              "#ed7953"
             ],
             [
              0.7777777777777778,
              "#fb9f3a"
             ],
             [
              0.8888888888888888,
              "#fdca26"
             ],
             [
              1,
              "#f0f921"
             ]
            ],
            "type": "heatmap"
           }
          ],
          "heatmapgl": [
           {
            "colorbar": {
             "outlinewidth": 0,
             "ticks": ""
            },
            "colorscale": [
             [
              0,
              "#0d0887"
             ],
             [
              0.1111111111111111,
              "#46039f"
             ],
             [
              0.2222222222222222,
              "#7201a8"
             ],
             [
              0.3333333333333333,
              "#9c179e"
             ],
             [
              0.4444444444444444,
              "#bd3786"
             ],
             [
              0.5555555555555556,
              "#d8576b"
             ],
             [
              0.6666666666666666,
              "#ed7953"
             ],
             [
              0.7777777777777778,
              "#fb9f3a"
             ],
             [
              0.8888888888888888,
              "#fdca26"
             ],
             [
              1,
              "#f0f921"
             ]
            ],
            "type": "heatmapgl"
           }
          ],
          "histogram": [
           {
            "marker": {
             "pattern": {
              "fillmode": "overlay",
              "size": 10,
              "solidity": 0.2
             }
            },
            "type": "histogram"
           }
          ],
          "histogram2d": [
           {
            "colorbar": {
             "outlinewidth": 0,
             "ticks": ""
            },
            "colorscale": [
             [
              0,
              "#0d0887"
             ],
             [
              0.1111111111111111,
              "#46039f"
             ],
             [
              0.2222222222222222,
              "#7201a8"
             ],
             [
              0.3333333333333333,
              "#9c179e"
             ],
             [
              0.4444444444444444,
              "#bd3786"
             ],
             [
              0.5555555555555556,
              "#d8576b"
             ],
             [
              0.6666666666666666,
              "#ed7953"
             ],
             [
              0.7777777777777778,
              "#fb9f3a"
             ],
             [
              0.8888888888888888,
              "#fdca26"
             ],
             [
              1,
              "#f0f921"
             ]
            ],
            "type": "histogram2d"
           }
          ],
          "histogram2dcontour": [
           {
            "colorbar": {
             "outlinewidth": 0,
             "ticks": ""
            },
            "colorscale": [
             [
              0,
              "#0d0887"
             ],
             [
              0.1111111111111111,
              "#46039f"
             ],
             [
              0.2222222222222222,
              "#7201a8"
             ],
             [
              0.3333333333333333,
              "#9c179e"
             ],
             [
              0.4444444444444444,
              "#bd3786"
             ],
             [
              0.5555555555555556,
              "#d8576b"
             ],
             [
              0.6666666666666666,
              "#ed7953"
             ],
             [
              0.7777777777777778,
              "#fb9f3a"
             ],
             [
              0.8888888888888888,
              "#fdca26"
             ],
             [
              1,
              "#f0f921"
             ]
            ],
            "type": "histogram2dcontour"
           }
          ],
          "mesh3d": [
           {
            "colorbar": {
             "outlinewidth": 0,
             "ticks": ""
            },
            "type": "mesh3d"
           }
          ],
          "parcoords": [
           {
            "line": {
             "colorbar": {
              "outlinewidth": 0,
              "ticks": ""
             }
            },
            "type": "parcoords"
           }
          ],
          "pie": [
           {
            "automargin": true,
            "type": "pie"
           }
          ],
          "scatter": [
           {
            "marker": {
             "colorbar": {
              "outlinewidth": 0,
              "ticks": ""
             }
            },
            "type": "scatter"
           }
          ],
          "scatter3d": [
           {
            "line": {
             "colorbar": {
              "outlinewidth": 0,
              "ticks": ""
             }
            },
            "marker": {
             "colorbar": {
              "outlinewidth": 0,
              "ticks": ""
             }
            },
            "type": "scatter3d"
           }
          ],
          "scattercarpet": [
           {
            "marker": {
             "colorbar": {
              "outlinewidth": 0,
              "ticks": ""
             }
            },
            "type": "scattercarpet"
           }
          ],
          "scattergeo": [
           {
            "marker": {
             "colorbar": {
              "outlinewidth": 0,
              "ticks": ""
             }
            },
            "type": "scattergeo"
           }
          ],
          "scattergl": [
           {
            "marker": {
             "colorbar": {
              "outlinewidth": 0,
              "ticks": ""
             }
            },
            "type": "scattergl"
           }
          ],
          "scattermapbox": [
           {
            "marker": {
             "colorbar": {
              "outlinewidth": 0,
              "ticks": ""
             }
            },
            "type": "scattermapbox"
           }
          ],
          "scatterpolar": [
           {
            "marker": {
             "colorbar": {
              "outlinewidth": 0,
              "ticks": ""
             }
            },
            "type": "scatterpolar"
           }
          ],
          "scatterpolargl": [
           {
            "marker": {
             "colorbar": {
              "outlinewidth": 0,
              "ticks": ""
             }
            },
            "type": "scatterpolargl"
           }
          ],
          "scatterternary": [
           {
            "marker": {
             "colorbar": {
              "outlinewidth": 0,
              "ticks": ""
             }
            },
            "type": "scatterternary"
           }
          ],
          "surface": [
           {
            "colorbar": {
             "outlinewidth": 0,
             "ticks": ""
            },
            "colorscale": [
             [
              0,
              "#0d0887"
             ],
             [
              0.1111111111111111,
              "#46039f"
             ],
             [
              0.2222222222222222,
              "#7201a8"
             ],
             [
              0.3333333333333333,
              "#9c179e"
             ],
             [
              0.4444444444444444,
              "#bd3786"
             ],
             [
              0.5555555555555556,
              "#d8576b"
             ],
             [
              0.6666666666666666,
              "#ed7953"
             ],
             [
              0.7777777777777778,
              "#fb9f3a"
             ],
             [
              0.8888888888888888,
              "#fdca26"
             ],
             [
              1,
              "#f0f921"
             ]
            ],
            "type": "surface"
           }
          ],
          "table": [
           {
            "cells": {
             "fill": {
              "color": "#EBF0F8"
             },
             "line": {
              "color": "white"
             }
            },
            "header": {
             "fill": {
              "color": "#C8D4E3"
             },
             "line": {
              "color": "white"
             }
            },
            "type": "table"
           }
          ]
         },
         "layout": {
          "annotationdefaults": {
           "arrowcolor": "#2a3f5f",
           "arrowhead": 0,
           "arrowwidth": 1
          },
          "autotypenumbers": "strict",
          "coloraxis": {
           "colorbar": {
            "outlinewidth": 0,
            "ticks": ""
           }
          },
          "colorscale": {
           "diverging": [
            [
             0,
             "#8e0152"
            ],
            [
             0.1,
             "#c51b7d"
            ],
            [
             0.2,
             "#de77ae"
            ],
            [
             0.3,
             "#f1b6da"
            ],
            [
             0.4,
             "#fde0ef"
            ],
            [
             0.5,
             "#f7f7f7"
            ],
            [
             0.6,
             "#e6f5d0"
            ],
            [
             0.7,
             "#b8e186"
            ],
            [
             0.8,
             "#7fbc41"
            ],
            [
             0.9,
             "#4d9221"
            ],
            [
             1,
             "#276419"
            ]
           ],
           "sequential": [
            [
             0,
             "#0d0887"
            ],
            [
             0.1111111111111111,
             "#46039f"
            ],
            [
             0.2222222222222222,
             "#7201a8"
            ],
            [
             0.3333333333333333,
             "#9c179e"
            ],
            [
             0.4444444444444444,
             "#bd3786"
            ],
            [
             0.5555555555555556,
             "#d8576b"
            ],
            [
             0.6666666666666666,
             "#ed7953"
            ],
            [
             0.7777777777777778,
             "#fb9f3a"
            ],
            [
             0.8888888888888888,
             "#fdca26"
            ],
            [
             1,
             "#f0f921"
            ]
           ],
           "sequentialminus": [
            [
             0,
             "#0d0887"
            ],
            [
             0.1111111111111111,
             "#46039f"
            ],
            [
             0.2222222222222222,
             "#7201a8"
            ],
            [
             0.3333333333333333,
             "#9c179e"
            ],
            [
             0.4444444444444444,
             "#bd3786"
            ],
            [
             0.5555555555555556,
             "#d8576b"
            ],
            [
             0.6666666666666666,
             "#ed7953"
            ],
            [
             0.7777777777777778,
             "#fb9f3a"
            ],
            [
             0.8888888888888888,
             "#fdca26"
            ],
            [
             1,
             "#f0f921"
            ]
           ]
          },
          "colorway": [
           "#636efa",
           "#EF553B",
           "#00cc96",
           "#ab63fa",
           "#FFA15A",
           "#19d3f3",
           "#FF6692",
           "#B6E880",
           "#FF97FF",
           "#FECB52"
          ],
          "font": {
           "color": "#2a3f5f"
          },
          "geo": {
           "bgcolor": "white",
           "lakecolor": "white",
           "landcolor": "white",
           "showlakes": true,
           "showland": true,
           "subunitcolor": "#C8D4E3"
          },
          "hoverlabel": {
           "align": "left"
          },
          "hovermode": "closest",
          "mapbox": {
           "style": "light"
          },
          "paper_bgcolor": "white",
          "plot_bgcolor": "white",
          "polar": {
           "angularaxis": {
            "gridcolor": "#EBF0F8",
            "linecolor": "#EBF0F8",
            "ticks": ""
           },
           "bgcolor": "white",
           "radialaxis": {
            "gridcolor": "#EBF0F8",
            "linecolor": "#EBF0F8",
            "ticks": ""
           }
          },
          "scene": {
           "xaxis": {
            "backgroundcolor": "white",
            "gridcolor": "#DFE8F3",
            "gridwidth": 2,
            "linecolor": "#EBF0F8",
            "showbackground": true,
            "ticks": "",
            "zerolinecolor": "#EBF0F8"
           },
           "yaxis": {
            "backgroundcolor": "white",
            "gridcolor": "#DFE8F3",
            "gridwidth": 2,
            "linecolor": "#EBF0F8",
            "showbackground": true,
            "ticks": "",
            "zerolinecolor": "#EBF0F8"
           },
           "zaxis": {
            "backgroundcolor": "white",
            "gridcolor": "#DFE8F3",
            "gridwidth": 2,
            "linecolor": "#EBF0F8",
            "showbackground": true,
            "ticks": "",
            "zerolinecolor": "#EBF0F8"
           }
          },
          "shapedefaults": {
           "line": {
            "color": "#2a3f5f"
           }
          },
          "ternary": {
           "aaxis": {
            "gridcolor": "#DFE8F3",
            "linecolor": "#A2B1C6",
            "ticks": ""
           },
           "baxis": {
            "gridcolor": "#DFE8F3",
            "linecolor": "#A2B1C6",
            "ticks": ""
           },
           "bgcolor": "white",
           "caxis": {
            "gridcolor": "#DFE8F3",
            "linecolor": "#A2B1C6",
            "ticks": ""
           }
          },
          "title": {
           "x": 0.05
          },
          "xaxis": {
           "automargin": true,
           "gridcolor": "#EBF0F8",
           "linecolor": "#EBF0F8",
           "ticks": "",
           "title": {
            "standoff": 15
           },
           "zerolinecolor": "#EBF0F8",
           "zerolinewidth": 2
          },
          "yaxis": {
           "automargin": true,
           "gridcolor": "#EBF0F8",
           "linecolor": "#EBF0F8",
           "ticks": "",
           "title": {
            "standoff": 15
           },
           "zerolinecolor": "#EBF0F8",
           "zerolinewidth": 2
          }
         }
        },
        "title": {
         "text": "Реальные vs Предсказанные результаты стоимости соответсвтующих регионам,<br>Gradient Boosting"
        },
        "xaxis": {
         "anchor": "y",
         "domain": [
          0,
          0.49
         ],
         "gridcolor": "#EAEAEA",
         "gridwidth": 1,
         "showgrid": true,
         "title": {
          "text": "Actual Cost, $"
         },
         "zeroline": true,
         "zerolinecolor": "#5E5E5E",
         "zerolinewidth": 2
        },
        "xaxis2": {
         "anchor": "y2",
         "domain": [
          0.51,
          1
         ],
         "gridcolor": "#EAEAEA",
         "gridwidth": 1,
         "matches": "x",
         "showgrid": true,
         "title": {
          "text": "Actual Cost, $"
         },
         "zeroline": true,
         "zerolinecolor": "#5E5E5E",
         "zerolinewidth": 2
        },
        "xaxis3": {
         "anchor": "y3",
         "domain": [
          0,
          0.49
         ],
         "gridcolor": "#EAEAEA",
         "gridwidth": 1,
         "matches": "x",
         "showgrid": true,
         "showticklabels": false,
         "zeroline": true,
         "zerolinecolor": "#5E5E5E",
         "zerolinewidth": 2
        },
        "xaxis4": {
         "anchor": "y4",
         "domain": [
          0.51,
          1
         ],
         "gridcolor": "#EAEAEA",
         "gridwidth": 1,
         "matches": "x",
         "showgrid": true,
         "showticklabels": false,
         "zeroline": true,
         "zerolinecolor": "#5E5E5E",
         "zerolinewidth": 2
        },
        "yaxis": {
         "anchor": "x",
         "domain": [
          0,
          0.46499999999999997
         ],
         "gridcolor": "#E3E3E3",
         "gridwidth": 1,
         "showgrid": true,
         "title": {
          "text": "Predicted Cost, $"
         },
         "zeroline": true,
         "zerolinecolor": "#5E5E5E",
         "zerolinewidth": 2
        },
        "yaxis2": {
         "anchor": "x2",
         "domain": [
          0,
          0.46499999999999997
         ],
         "gridcolor": "#E3E3E3",
         "gridwidth": 1,
         "matches": "y",
         "showgrid": true,
         "showticklabels": false,
         "zeroline": true,
         "zerolinecolor": "#5E5E5E",
         "zerolinewidth": 2
        },
        "yaxis3": {
         "anchor": "x3",
         "domain": [
          0.5349999999999999,
          0.9999999999999999
         ],
         "gridcolor": "#E3E3E3",
         "gridwidth": 1,
         "matches": "y",
         "showgrid": true,
         "title": {
          "text": "Predicted Cost, $"
         },
         "zeroline": true,
         "zerolinecolor": "#5E5E5E",
         "zerolinewidth": 2
        },
        "yaxis4": {
         "anchor": "x4",
         "domain": [
          0.5349999999999999,
          0.9999999999999999
         ],
         "gridcolor": "#E3E3E3",
         "gridwidth": 1,
         "matches": "y",
         "showgrid": true,
         "showticklabels": false,
         "zeroline": true,
         "zerolinecolor": "#5E5E5E",
         "zerolinewidth": 2
        }
       }
      },
      "text/html": [
       "<div>                            <div id=\"ac8d41e7-01c1-4a96-8321-863494f3ec98\" class=\"plotly-graph-div\" style=\"height:700px; width:100%;\"></div>            <script type=\"text/javascript\">                require([\"plotly\"], function(Plotly) {                    window.PLOTLYENV=window.PLOTLYENV || {};                                    if (document.getElementById(\"ac8d41e7-01c1-4a96-8321-863494f3ec98\")) {                    Plotly.newPlot(                        \"ac8d41e7-01c1-4a96-8321-863494f3ec98\",                        [{\"hovertemplate\":\"Actual Cost: %{x:$,.2f}<br>Predicted Cost: %{y:$,.2f}\",\"legendgroup\":\"Southwest\",\"marker\":{\"color\":\"#B14B51\",\"opacity\":0.7,\"symbol\":\"circle\",\"line\":{\"color\":\"#F7F7F7\",\"width\":1},\"size\":10},\"mode\":\"markers\",\"name\":\"Southwest\",\"orientation\":\"v\",\"showlegend\":false,\"x\":[3761.292,11674.13,6311.952,14319.031,11552.904,5080.096,8269.044,3693.428,36837.467,13224.693,23306.547,35160.13457,12347.172,10065.413,5488.262,38711.0,7196.867,6571.544,5979.731,34828.654,6600.361,39836.519,1256.299,1242.26,4762.329,9264.797,13470.86,1759.338,1241.565,48173.361,16232.847,25309.489,10791.96,4751.07,8556.907,42856.838,8277.523,11576.13,7623.518,12146.971,20630.28351,4646.759,26140.3603,2007.945,8444.474,17081.08,13822.803,8825.086,37079.372,10096.97,11411.685,14988.432,11362.755,6875.961,10795.93733,18259.216,1261.859,17942.106,11150.78,38415.474,8522.003,8703.456,3987.926,1964.78,1743.214],\"xaxis\":\"x3\",\"y\":[5194.615631427988,11013.738254346084,7474.145374430177,14190.526380820265,11936.72367688087,4474.477805446251,9996.837837499339,5844.749674047692,38292.18998438621,14793.550480661328,24717.3538098108,10801.690224946107,16161.71746845606,10336.85862976391,7090.024800190971,41206.3323871548,8631.131154185767,8069.584970575805,7640.239691793349,32894.36666000996,7836.83613549636,41004.64535092994,2864.165501005381,2501.909521128163,6119.776746658974,9514.334098330419,14131.461400086424,3058.7713791969645,2501.909521128163,48081.2857387927,15768.450033611434,30837.714489584992,10450.207148355803,5421.303336450241,9624.146496355535,43111.554438201376,10553.520648647442,10821.99198125225,7344.781737358411,13468.597412455707,11565.413152670433,7572.223290869513,10766.145445292914,2685.0139914156784,10365.405663545738,17997.12165631137,15396.083235766306,9694.94964116612,37056.988809499555,11254.266281319044,13221.447548142425,14934.970659238417,12300.734929952723,7584.674747460682,3929.7689239109086,19002.88262370815,3831.0258564867986,16916.125456792677,11505.204142645047,39355.19765305582,9083.95649362571,10013.323415350142,5234.690171246745,2415.6000826039376,3053.6470272554348],\"yaxis\":\"y3\",\"type\":\"scatter\"},{\"hovertemplate\":\"<b>LOWESS trendline</b><br><br>index=Southwest<br>actuals=%{x}<br>preds=%{y} <b>(trend)</b><extra></extra>\",\"legendgroup\":\"Southwest\",\"marker\":{\"color\":\"#B14B51\",\"symbol\":\"circle\"},\"mode\":\"lines\",\"name\":\"Southwest\",\"showlegend\":false,\"x\":[1241.565,1242.26,1256.299,1261.859,1743.214,1759.338,1964.78,2007.945,3693.428,3761.292,3987.926,4646.759,4751.07,4762.329,5080.096,5488.262,5979.731,6311.952,6571.544,6600.361,6875.961,7196.867,7623.518,8269.044,8277.523,8444.474,8522.003,8556.907,8703.456,8825.086,9264.797,10065.413,10096.97,10791.96,10795.93733,11150.78,11362.755,11411.685,11552.904,11576.13,11674.13,12146.971,12347.172,13224.693,13470.86,13822.803,14319.031,14988.432,16232.847,17081.08,17942.106,18259.216,20630.28351,23306.547,25309.489,26140.3603,34828.654,35160.13457,36837.467,37079.372,38415.474,38711.0,39836.519,42856.838,48173.361],\"xaxis\":\"x3\",\"y\":[2653.957686544016,2654.6279915684227,2668.1679627584813,2673.5302273187162,3137.4834560541663,3153.0123689108054,3350.7832064796503,3392.3138399542727,5008.343776638421,5073.241067972392,5289.922627703597,5919.622292192766,6019.334322795406,6030.097765962682,6333.978765460519,6724.908415368251,7198.230364295012,7521.254841320249,7773.946646114557,7801.764839811475,8056.450660872672,8331.326133177625,8698.806789083246,9269.85380257002,9277.478415089294,9428.203634760373,9498.659679028102,9530.435875180401,9664.09993364686,9775.18630263395,10174.962184009955,10897.189288268257,10925.532046891496,11548.928057300165,11552.483889492594,11868.635440562532,12057.418738334829,12101.068832233517,12227.242102422235,12248.021128019634,12335.779440961713,12760.876998793186,12940.285934251671,13735.552631409519,13959.382394770457,14279.170712123401,14734.445835239625,15375.190045109237,16624.78047404244,17485.469185573344,18354.30652779451,18672.92640463999,21077.740528606537,23722.91263375432,25842.13114081242,26711.8789539612,35432.72898023668,35762.57017392833,37432.41101783588,37673.35575141508,39004.67621263075,39299.258212296336,40421.46859367814,43432.914055855894,48720.42628469442],\"yaxis\":\"y3\",\"type\":\"scatter\"},{\"hovertemplate\":\"Actual Cost: %{x:$,.2f}<br>Predicted Cost: %{y:$,.2f}\",\"legendgroup\":\"Southeast\",\"marker\":{\"color\":\"#D0A99C\",\"opacity\":0.7,\"symbol\":\"circle\",\"line\":{\"color\":\"#F7F7F7\",\"width\":1},\"size\":10},\"mode\":\"markers\",\"name\":\"Southeast\",\"orientation\":\"v\",\"showlegend\":false,\"x\":[44202.6536,6781.3542,5478.0368,32548.3405,1815.8759,11093.6229,11090.7178,13470.8044,47269.854,10107.2206,38282.7495,19350.3689,1615.7667,40974.1649,1824.2854,7243.8136,36950.2567,41999.52,6184.2994,20462.99766,7152.6714,2219.4451,8232.6388,4266.1658,19521.9682,27808.7251,16586.49771,5966.8874,4504.6624,3500.6123,4340.4409,5974.3847,3227.1211,11363.2832,12592.5345,6313.759,5920.1041,12142.5786,3561.8889,4673.3922,46599.1084,2566.4707,41676.0811,8978.1851,48970.2476,24667.419,8596.8278,38709.176,1136.3994,18806.14547,1981.5819,1131.5066,6500.2359,1146.7966,8547.6913,39611.7577,11881.9696,48675.5177,44400.4064,18223.4512,28287.89766,9855.1314,10702.6424,5245.2269,1664.9996,2464.6188,9377.9047,10226.2842,36124.5737,4779.6023,6338.0756,42112.2356,1633.9618],\"xaxis\":\"x4\",\"y\":[44560.969440330264,7643.249301299456,4941.410399760841,31568.904154435586,3731.093417626308,14307.849260379659,12855.38866869515,15969.930921964751,46964.99582461899,11422.58933404289,37110.58370162507,23040.19207847872,3340.1244647849135,44044.30824302048,4091.426871947585,8158.809513940939,35955.689068815984,43745.613706669385,6297.899917288916,16821.577947213464,8669.91241210659,3670.703498028214,8366.180995718621,6262.078145330169,19826.783244144455,30279.806960172155,3608.115096702893,7042.806165461979,6859.719430658683,4400.4838738081235,5100.341734704636,5835.448176139753,5227.950412079155,12150.794674184415,19174.84383304879,6396.084175347679,7273.9653444291425,13358.98301154723,5417.244735868891,5725.1166474405145,46980.53187498954,4916.95120390531,44311.834537872724,8729.454379838533,47302.92210824306,27363.067702283864,12352.12755028851,37722.005026774845,2702.3746624373207,8807.491265288376,4405.79201360275,3274.7958584055673,6878.375020186041,3214.264180453648,9518.502346537998,38046.03985109837,13688.807999774217,47703.770757891216,46779.94971106279,20757.906820010237,13335.47187637889,10062.279528125377,13845.089397533427,6109.792764562036,3287.401544240322,3900.4621613911513,10069.182845318885,12046.99046646884,36095.46420221343,4708.351237342133,7330.840850299176,39518.58648387046,3349.507741025428],\"yaxis\":\"y4\",\"type\":\"scatter\"},{\"hovertemplate\":\"<b>LOWESS trendline</b><br><br>index=Southeast<br>actuals=%{x}<br>preds=%{y} <b>(trend)</b><extra></extra>\",\"legendgroup\":\"Southeast\",\"marker\":{\"color\":\"#D0A99C\",\"symbol\":\"circle\"},\"mode\":\"lines\",\"name\":\"Southeast\",\"showlegend\":false,\"x\":[1131.5066,1136.3994,1146.7966,1615.7667,1633.9618,1664.9996,1815.8759,1824.2854,1981.5819,2219.4451,2464.6188,2566.4707,3227.1211,3500.6123,3561.8889,4266.1658,4340.4409,4504.6624,4673.3922,4779.6023,5245.2269,5478.0368,5920.1041,5966.8874,5974.3847,6184.2994,6313.759,6338.0756,6500.2359,6781.3542,7152.6714,7243.8136,8232.6388,8547.6913,8596.8278,8978.1851,9377.9047,9855.1314,10107.2206,10226.2842,10702.6424,11090.7178,11093.6229,11363.2832,11881.9696,12142.5786,12592.5345,13470.8044,16586.49771,18223.4512,18806.14547,19350.3689,19521.9682,20462.99766,24667.419,27808.7251,28287.89766,32548.3405,36124.5737,36950.2567,38282.7495,38709.176,39611.7577,40974.1649,41676.0811,41999.52,42112.2356,44202.6536,44400.4064,46599.1084,47269.854,48675.5177,48970.2476],\"xaxis\":\"x4\",\"y\":[2970.5444293869946,2974.558878597978,2983.0904424366495,3369.18914795189,3384.222096254704,3409.8754443931766,3534.754778470521,3541.7240918131456,3672.259382828242,3870.311202178817,4075.3092472445583,4160.736512758538,4718.8263427099455,4951.953635991014,5004.358977109011,5611.267964763019,5675.767656900337,5818.705205585498,5966.031342550013,6059.002324795889,6468.574349980188,6674.45039205751,7066.920622024341,7108.54601590453,7115.217939204229,7302.135634722801,7417.497276311312,7439.171927231838,7583.775192021214,7835.078891636342,8172.635614193745,8257.936307148018,9363.75774468302,9721.293307559617,9777.1323273789,10211.089544619592,10667.31892629531,11213.939872698593,11509.082866309389,11651.295863866057,12208.219660250112,12656.000601582155,12659.57897633727,12964.743684382123,13523.604548976273,13800.499661404408,14278.44154677671,15218.642829053098,18571.18110636455,20288.02402197458,20836.345619090065,21325.32756367602,21473.711199045334,22304.3551501028,25637.48544207885,28552.16737502059,29006.12750995795,33005.351864042525,36313.951097108875,37075.19527945736,38302.741632918434,38695.4587674586,39526.70370743273,40782.0411348324,41429.359418786196,41727.809497482056,41831.843851535625,43764.09956383419,43947.19434844292,45986.656153438715,46610.153965249854,47918.64282855097,48193.28773239007],\"yaxis\":\"y4\",\"type\":\"scatter\"},{\"hovertemplate\":\"Actual Cost: %{x:$,.2f}<br>Predicted Cost: %{y:$,.2f}\",\"legendgroup\":\"Northwest\",\"marker\":{\"color\":\"#5D8370\",\"opacity\":0.7,\"symbol\":\"circle\",\"line\":{\"color\":\"#F7F7F7\",\"width\":1},\"size\":10},\"mode\":\"markers\",\"name\":\"Northwest\",\"orientation\":\"v\",\"showlegend\":false,\"x\":[9174.13565,4433.3877,21774.32215,7731.85785,33471.97189,4618.0799,3594.17085,12235.8392,6203.90175,11840.77505,4466.6214,8162.71625,6393.60345,1906.35825,23967.38305,2775.19215,3537.703,32787.45859,6112.35295,9301.89355,11945.1327,6389.37785,23807.2406,10264.4421,4243.59005,16455.70785,8413.46305,26018.95052,60021.39897,3579.8287,12479.70895,5855.9025,7153.5539,1635.73365,6986.697,43921.1837,15019.76005,29330.98315,5630.45785,8827.2099,8059.6791,5729.0053,14382.70905,29141.3603,38746.3551,3877.30425,42760.5022,6373.55735,28950.4692,16420.49455,10600.5483,18033.9679,39983.42595,6940.90985,4239.89265,6360.9936,8116.26885,6796.86325,2136.88225,33307.5508,13415.0381,10976.24575,3353.4703,5261.46945,5989.52365],\"xaxis\":\"x\",\"y\":[11126.270351162459,8221.75784895452,21663.471362494605,10025.806890647375,14358.887732490291,7606.033099136951,4464.475340554435,12627.864585210296,8283.433946247724,11901.08347480634,6931.081570947542,9653.35980348435,8071.466988129577,3462.894339950391,25973.655767342174,5700.128584993465,8560.781516697554,24567.573558674154,7251.477356079721,10811.236976127158,13881.085946476456,7297.756413624634,25393.374291458553,12049.097328882017,5529.755770027403,16640.947935003413,11496.309953597749,7035.772847519125,44521.85157973165,7359.91171327527,13283.318498153481,6458.439825141441,7595.956375931327,4519.703883140422,9299.820207032391,42054.112204070334,16056.31317391771,28346.85947180195,7612.725636529631,10492.715850349545,8247.612737003605,8499.581755791285,14980.725576751554,28613.567306571556,38615.91817999026,7997.333860043743,43665.48717732414,10590.356793055611,28311.28703480437,22657.03203077406,13466.042582675474,17824.735808212172,42689.00588359781,7293.047561692712,5394.708844714091,11186.236254828571,9699.498406433726,7908.04938728265,3861.512384329114,33772.46172202779,14270.20282384113,12491.648246780858,4403.7175331399485,8523.588390855883,10162.336563593835],\"yaxis\":\"y\",\"type\":\"scatter\"},{\"hovertemplate\":\"<b>LOWESS trendline</b><br><br>index=Northwest<br>actuals=%{x}<br>preds=%{y} <b>(trend)</b><extra></extra>\",\"legendgroup\":\"Northwest\",\"marker\":{\"color\":\"#5D8370\",\"symbol\":\"circle\"},\"mode\":\"lines\",\"name\":\"Northwest\",\"showlegend\":false,\"x\":[1635.73365,1906.35825,2136.88225,2775.19215,3353.4703,3537.703,3579.8287,3594.17085,3877.30425,4239.89265,4243.59005,4433.3877,4466.6214,4618.0799,5261.46945,5630.45785,5729.0053,5855.9025,5989.52365,6112.35295,6203.90175,6360.9936,6373.55735,6389.37785,6393.60345,6796.86325,6940.90985,6986.697,7153.5539,7731.85785,8059.6791,8116.26885,8162.71625,8413.46305,8827.2099,9174.13565,9301.89355,10264.4421,10600.5483,10976.24575,11840.77505,11945.1327,12235.8392,12479.70895,13415.0381,14382.70905,15019.76005,16420.49455,16455.70785,18033.9679,21774.32215,23807.2406,23967.38305,26018.95052,28950.4692,29141.3603,29330.98315,32787.45859,33307.5508,33471.97189,38746.3551,39983.42595,42760.5022,43921.1837,60021.39897],\"xaxis\":\"x\",\"y\":[4323.869999616355,4562.576717451614,4765.256979263108,5323.67373138568,5827.157912541166,5987.3096930957845,6023.923810938516,6036.389350139349,6282.492573555547,6597.8458214681295,6601.06303669638,6766.263377668661,6795.202622090951,6927.145422415249,7488.609652180733,7810.874316095087,7896.838801204885,8007.3831447730445,8123.514938544599,8229.926023749887,8308.95562191788,8443.838109413678,8454.579255256804,8468.093885775903,8471.701514662682,8811.173652741229,8930.358405051147,8970.87353963544,9112.745701928037,9607.842292835288,9878.671430738255,9924.84516618627,9962.658496484326,10167.909155393507,10504.648495862091,10790.159445919999,10893.538726060166,11690.330211775174,11973.856712246363,12291.341362388685,13011.519719149452,13097.464840933942,13336.292670861838,13536.172603745299,14305.486863869097,15119.964621215224,15743.006252976002,17209.299899575584,17246.012659516426,18812.578006033393,22183.96607488987,24096.26276734052,24251.747361613172,26297.27166368704,29205.52126547075,29391.423576961126,29575.854774427717,32918.22469509026,33420.19381965283,33578.89791099592,38681.23760704287,39882.347843714095,42584.70249611057,43715.71901725034,59403.97662169252],\"yaxis\":\"y\",\"type\":\"scatter\"},{\"hovertemplate\":\"Actual Cost: %{x:$,.2f}<br>Predicted Cost: %{y:$,.2f}\",\"legendgroup\":\"Northeast\",\"marker\":{\"color\":\"#6C839B\",\"opacity\":0.7,\"symbol\":\"circle\",\"line\":{\"color\":\"#F7F7F7\",\"width\":1},\"size\":10},\"mode\":\"markers\",\"name\":\"Northeast\",\"orientation\":\"v\",\"showlegend\":false,\"x\":[58571.07448,41034.2214,13129.60345,17128.42608,13224.05705,42303.69215,8627.5411,11512.405,13228.84695,12730.9996,3558.62025,14590.63205,13019.16105,6113.23105,4846.92015,14451.83515,9282.4806,5594.8455,2203.73595,6640.54485,12323.936,7935.29115,3857.75925,1712.227,2727.3951,7639.41745,3044.2133,25517.11363,11938.25595,3393.35635,14449.8544,33475.81715,20709.02034,8334.45755,2217.6012,11879.10405,11394.06555,10072.05505,2396.0959,7729.64575,2211.13075,3385.39915,24106.91255,2205.9808,9722.7695,13616.3586,11658.37915,6067.12675,19594.80965,2217.46915,22395.74424,12029.2867,9866.30485,16115.3045,7050.0213,5428.7277,13430.265,2196.4732,7985.815,13725.47184,3481.868,13143.86485,23241.47453,7133.9025,8606.2174],\"xaxis\":\"x2\",\"y\":[39566.781175661825,39523.00387506937,13397.603670455273,9147.495150840887,14967.963453374035,40157.84711089808,8206.814587162187,14495.710935492494,16481.816885026932,14893.613797657015,5640.829947119103,15027.633036309651,14907.684399826718,8193.309784735062,8148.473069157815,14424.4697670317,9259.352761382032,9175.427718366078,5864.8177357134955,6891.8495980867865,11455.71719582803,12137.571599236815,6695.328861152391,4207.500043222989,5952.61645677217,10843.032653574877,3517.8797543729156,10996.794185474848,12128.26367898042,8573.41415478046,14423.131942896276,29250.909577895676,11312.555914581751,10552.33444569631,6545.944992133522,14408.667220116604,12185.640602460302,12229.887204429393,3191.6194286792042,8143.488212118998,6735.938721001885,6299.010950908208,24962.144414152233,5799.106179092046,12460.172427416057,14045.325109167816,12870.99387563455,7027.727597672263,21129.243630233355,6506.681638386528,4282.8515143026025,11243.100562277452,14138.872191107906,16910.379366331494,10430.418456237838,8553.517516325515,14355.746412479815,3351.13411141057,7730.730631287824,7117.629598139993,5369.55043663145,14073.047768209446,3908.001082695969,7810.881307098831,8809.136680817908],\"yaxis\":\"y2\",\"type\":\"scatter\"},{\"hovertemplate\":\"<b>LOWESS trendline</b><br><br>index=Northeast<br>actuals=%{x}<br>preds=%{y} <b>(trend)</b><extra></extra>\",\"legendgroup\":\"Northeast\",\"marker\":{\"color\":\"#6C839B\",\"symbol\":\"circle\"},\"mode\":\"lines\",\"name\":\"Northeast\",\"showlegend\":false,\"x\":[1712.227,2196.4732,2203.73595,2205.9808,2211.13075,2217.46915,2217.6012,2396.0959,2727.3951,3044.2133,3385.39915,3393.35635,3481.868,3558.62025,3857.75925,4846.92015,5428.7277,5594.8455,6067.12675,6113.23105,6640.54485,7050.0213,7133.9025,7639.41745,7729.64575,7935.29115,7985.815,8334.45755,8606.2174,8627.5411,9282.4806,9722.7695,9866.30485,10072.05505,11394.06555,11512.405,11658.37915,11879.10405,11938.25595,12029.2867,12323.936,12730.9996,13019.16105,13129.60345,13143.86485,13224.05705,13228.84695,13430.265,13616.3586,13725.47184,14449.8544,14451.83515,14590.63205,16115.3045,17128.42608,19594.80965,20709.02034,22395.74424,23241.47453,24106.91255,25517.11363,33475.81715,41034.2214,42303.69215,58571.07448],\"xaxis\":\"x2\",\"y\":[4915.401789607645,5281.274332308554,5286.764223215139,5288.4611188813415,5292.354033926574,5297.145384880264,5297.245205527067,5432.202391086628,5682.808248632555,5922.598482482207,6181.011341547758,6187.041354893473,6254.128466438133,6312.321465547028,6539.320217524187,7293.408015197591,7740.933170932192,7869.440281548251,8236.63919551994,8272.614279261745,8685.037535224983,9005.076463868943,9070.481894626251,9469.882034470753,9544.346710632726,9717.733023392548,9759.609440618437,10051.1845809817,10268.805836342854,10285.307691306607,10824.658635718215,11195.232771750447,11315.415954432707,11487.857194373135,12566.878931022506,12658.213690216195,12771.967782880785,12938.912035150086,12983.32692140028,13051.459233742835,13278.549051609945,13566.77072269834,13749.859696195019,13815.26748028137,13825.451797748274,13882.220674553932,13885.58304714822,14023.520195330488,14143.545924757464,14195.428728004,14493.777292432564,14494.325268701148,14531.314701212794,14887.618716148256,15430.919257483827,16898.634509214346,17703.076881371366,19608.990810660092,20424.663627921836,21151.744191957514,22502.20054284689,30751.255359454637,37712.87695263049,38894.20168720203,54400.27728591014],\"yaxis\":\"y2\",\"type\":\"scatter\"}],                        {\"template\":{\"data\":{\"barpolar\":[{\"marker\":{\"line\":{\"color\":\"white\",\"width\":0.5},\"pattern\":{\"fillmode\":\"overlay\",\"size\":10,\"solidity\":0.2}},\"type\":\"barpolar\"}],\"bar\":[{\"error_x\":{\"color\":\"#2a3f5f\"},\"error_y\":{\"color\":\"#2a3f5f\"},\"marker\":{\"line\":{\"color\":\"white\",\"width\":0.5},\"pattern\":{\"fillmode\":\"overlay\",\"size\":10,\"solidity\":0.2}},\"type\":\"bar\"}],\"carpet\":[{\"aaxis\":{\"endlinecolor\":\"#2a3f5f\",\"gridcolor\":\"#C8D4E3\",\"linecolor\":\"#C8D4E3\",\"minorgridcolor\":\"#C8D4E3\",\"startlinecolor\":\"#2a3f5f\"},\"baxis\":{\"endlinecolor\":\"#2a3f5f\",\"gridcolor\":\"#C8D4E3\",\"linecolor\":\"#C8D4E3\",\"minorgridcolor\":\"#C8D4E3\",\"startlinecolor\":\"#2a3f5f\"},\"type\":\"carpet\"}],\"choropleth\":[{\"colorbar\":{\"outlinewidth\":0,\"ticks\":\"\"},\"type\":\"choropleth\"}],\"contourcarpet\":[{\"colorbar\":{\"outlinewidth\":0,\"ticks\":\"\"},\"type\":\"contourcarpet\"}],\"contour\":[{\"colorbar\":{\"outlinewidth\":0,\"ticks\":\"\"},\"colorscale\":[[0.0,\"#0d0887\"],[0.1111111111111111,\"#46039f\"],[0.2222222222222222,\"#7201a8\"],[0.3333333333333333,\"#9c179e\"],[0.4444444444444444,\"#bd3786\"],[0.5555555555555556,\"#d8576b\"],[0.6666666666666666,\"#ed7953\"],[0.7777777777777778,\"#fb9f3a\"],[0.8888888888888888,\"#fdca26\"],[1.0,\"#f0f921\"]],\"type\":\"contour\"}],\"heatmapgl\":[{\"colorbar\":{\"outlinewidth\":0,\"ticks\":\"\"},\"colorscale\":[[0.0,\"#0d0887\"],[0.1111111111111111,\"#46039f\"],[0.2222222222222222,\"#7201a8\"],[0.3333333333333333,\"#9c179e\"],[0.4444444444444444,\"#bd3786\"],[0.5555555555555556,\"#d8576b\"],[0.6666666666666666,\"#ed7953\"],[0.7777777777777778,\"#fb9f3a\"],[0.8888888888888888,\"#fdca26\"],[1.0,\"#f0f921\"]],\"type\":\"heatmapgl\"}],\"heatmap\":[{\"colorbar\":{\"outlinewidth\":0,\"ticks\":\"\"},\"colorscale\":[[0.0,\"#0d0887\"],[0.1111111111111111,\"#46039f\"],[0.2222222222222222,\"#7201a8\"],[0.3333333333333333,\"#9c179e\"],[0.4444444444444444,\"#bd3786\"],[0.5555555555555556,\"#d8576b\"],[0.6666666666666666,\"#ed7953\"],[0.7777777777777778,\"#fb9f3a\"],[0.8888888888888888,\"#fdca26\"],[1.0,\"#f0f921\"]],\"type\":\"heatmap\"}],\"histogram2dcontour\":[{\"colorbar\":{\"outlinewidth\":0,\"ticks\":\"\"},\"colorscale\":[[0.0,\"#0d0887\"],[0.1111111111111111,\"#46039f\"],[0.2222222222222222,\"#7201a8\"],[0.3333333333333333,\"#9c179e\"],[0.4444444444444444,\"#bd3786\"],[0.5555555555555556,\"#d8576b\"],[0.6666666666666666,\"#ed7953\"],[0.7777777777777778,\"#fb9f3a\"],[0.8888888888888888,\"#fdca26\"],[1.0,\"#f0f921\"]],\"type\":\"histogram2dcontour\"}],\"histogram2d\":[{\"colorbar\":{\"outlinewidth\":0,\"ticks\":\"\"},\"colorscale\":[[0.0,\"#0d0887\"],[0.1111111111111111,\"#46039f\"],[0.2222222222222222,\"#7201a8\"],[0.3333333333333333,\"#9c179e\"],[0.4444444444444444,\"#bd3786\"],[0.5555555555555556,\"#d8576b\"],[0.6666666666666666,\"#ed7953\"],[0.7777777777777778,\"#fb9f3a\"],[0.8888888888888888,\"#fdca26\"],[1.0,\"#f0f921\"]],\"type\":\"histogram2d\"}],\"histogram\":[{\"marker\":{\"pattern\":{\"fillmode\":\"overlay\",\"size\":10,\"solidity\":0.2}},\"type\":\"histogram\"}],\"mesh3d\":[{\"colorbar\":{\"outlinewidth\":0,\"ticks\":\"\"},\"type\":\"mesh3d\"}],\"parcoords\":[{\"line\":{\"colorbar\":{\"outlinewidth\":0,\"ticks\":\"\"}},\"type\":\"parcoords\"}],\"pie\":[{\"automargin\":true,\"type\":\"pie\"}],\"scatter3d\":[{\"line\":{\"colorbar\":{\"outlinewidth\":0,\"ticks\":\"\"}},\"marker\":{\"colorbar\":{\"outlinewidth\":0,\"ticks\":\"\"}},\"type\":\"scatter3d\"}],\"scattercarpet\":[{\"marker\":{\"colorbar\":{\"outlinewidth\":0,\"ticks\":\"\"}},\"type\":\"scattercarpet\"}],\"scattergeo\":[{\"marker\":{\"colorbar\":{\"outlinewidth\":0,\"ticks\":\"\"}},\"type\":\"scattergeo\"}],\"scattergl\":[{\"marker\":{\"colorbar\":{\"outlinewidth\":0,\"ticks\":\"\"}},\"type\":\"scattergl\"}],\"scattermapbox\":[{\"marker\":{\"colorbar\":{\"outlinewidth\":0,\"ticks\":\"\"}},\"type\":\"scattermapbox\"}],\"scatterpolargl\":[{\"marker\":{\"colorbar\":{\"outlinewidth\":0,\"ticks\":\"\"}},\"type\":\"scatterpolargl\"}],\"scatterpolar\":[{\"marker\":{\"colorbar\":{\"outlinewidth\":0,\"ticks\":\"\"}},\"type\":\"scatterpolar\"}],\"scatter\":[{\"marker\":{\"colorbar\":{\"outlinewidth\":0,\"ticks\":\"\"}},\"type\":\"scatter\"}],\"scatterternary\":[{\"marker\":{\"colorbar\":{\"outlinewidth\":0,\"ticks\":\"\"}},\"type\":\"scatterternary\"}],\"surface\":[{\"colorbar\":{\"outlinewidth\":0,\"ticks\":\"\"},\"colorscale\":[[0.0,\"#0d0887\"],[0.1111111111111111,\"#46039f\"],[0.2222222222222222,\"#7201a8\"],[0.3333333333333333,\"#9c179e\"],[0.4444444444444444,\"#bd3786\"],[0.5555555555555556,\"#d8576b\"],[0.6666666666666666,\"#ed7953\"],[0.7777777777777778,\"#fb9f3a\"],[0.8888888888888888,\"#fdca26\"],[1.0,\"#f0f921\"]],\"type\":\"surface\"}],\"table\":[{\"cells\":{\"fill\":{\"color\":\"#EBF0F8\"},\"line\":{\"color\":\"white\"}},\"header\":{\"fill\":{\"color\":\"#C8D4E3\"},\"line\":{\"color\":\"white\"}},\"type\":\"table\"}]},\"layout\":{\"annotationdefaults\":{\"arrowcolor\":\"#2a3f5f\",\"arrowhead\":0,\"arrowwidth\":1},\"autotypenumbers\":\"strict\",\"coloraxis\":{\"colorbar\":{\"outlinewidth\":0,\"ticks\":\"\"}},\"colorscale\":{\"diverging\":[[0,\"#8e0152\"],[0.1,\"#c51b7d\"],[0.2,\"#de77ae\"],[0.3,\"#f1b6da\"],[0.4,\"#fde0ef\"],[0.5,\"#f7f7f7\"],[0.6,\"#e6f5d0\"],[0.7,\"#b8e186\"],[0.8,\"#7fbc41\"],[0.9,\"#4d9221\"],[1,\"#276419\"]],\"sequential\":[[0.0,\"#0d0887\"],[0.1111111111111111,\"#46039f\"],[0.2222222222222222,\"#7201a8\"],[0.3333333333333333,\"#9c179e\"],[0.4444444444444444,\"#bd3786\"],[0.5555555555555556,\"#d8576b\"],[0.6666666666666666,\"#ed7953\"],[0.7777777777777778,\"#fb9f3a\"],[0.8888888888888888,\"#fdca26\"],[1.0,\"#f0f921\"]],\"sequentialminus\":[[0.0,\"#0d0887\"],[0.1111111111111111,\"#46039f\"],[0.2222222222222222,\"#7201a8\"],[0.3333333333333333,\"#9c179e\"],[0.4444444444444444,\"#bd3786\"],[0.5555555555555556,\"#d8576b\"],[0.6666666666666666,\"#ed7953\"],[0.7777777777777778,\"#fb9f3a\"],[0.8888888888888888,\"#fdca26\"],[1.0,\"#f0f921\"]]},\"colorway\":[\"#636efa\",\"#EF553B\",\"#00cc96\",\"#ab63fa\",\"#FFA15A\",\"#19d3f3\",\"#FF6692\",\"#B6E880\",\"#FF97FF\",\"#FECB52\"],\"font\":{\"color\":\"#2a3f5f\"},\"geo\":{\"bgcolor\":\"white\",\"lakecolor\":\"white\",\"landcolor\":\"white\",\"showlakes\":true,\"showland\":true,\"subunitcolor\":\"#C8D4E3\"},\"hoverlabel\":{\"align\":\"left\"},\"hovermode\":\"closest\",\"mapbox\":{\"style\":\"light\"},\"paper_bgcolor\":\"white\",\"plot_bgcolor\":\"white\",\"polar\":{\"angularaxis\":{\"gridcolor\":\"#EBF0F8\",\"linecolor\":\"#EBF0F8\",\"ticks\":\"\"},\"bgcolor\":\"white\",\"radialaxis\":{\"gridcolor\":\"#EBF0F8\",\"linecolor\":\"#EBF0F8\",\"ticks\":\"\"}},\"scene\":{\"xaxis\":{\"backgroundcolor\":\"white\",\"gridcolor\":\"#DFE8F3\",\"gridwidth\":2,\"linecolor\":\"#EBF0F8\",\"showbackground\":true,\"ticks\":\"\",\"zerolinecolor\":\"#EBF0F8\"},\"yaxis\":{\"backgroundcolor\":\"white\",\"gridcolor\":\"#DFE8F3\",\"gridwidth\":2,\"linecolor\":\"#EBF0F8\",\"showbackground\":true,\"ticks\":\"\",\"zerolinecolor\":\"#EBF0F8\"},\"zaxis\":{\"backgroundcolor\":\"white\",\"gridcolor\":\"#DFE8F3\",\"gridwidth\":2,\"linecolor\":\"#EBF0F8\",\"showbackground\":true,\"ticks\":\"\",\"zerolinecolor\":\"#EBF0F8\"}},\"shapedefaults\":{\"line\":{\"color\":\"#2a3f5f\"}},\"ternary\":{\"aaxis\":{\"gridcolor\":\"#DFE8F3\",\"linecolor\":\"#A2B1C6\",\"ticks\":\"\"},\"baxis\":{\"gridcolor\":\"#DFE8F3\",\"linecolor\":\"#A2B1C6\",\"ticks\":\"\"},\"bgcolor\":\"white\",\"caxis\":{\"gridcolor\":\"#DFE8F3\",\"linecolor\":\"#A2B1C6\",\"ticks\":\"\"}},\"title\":{\"x\":0.05},\"xaxis\":{\"automargin\":true,\"gridcolor\":\"#EBF0F8\",\"linecolor\":\"#EBF0F8\",\"ticks\":\"\",\"title\":{\"standoff\":15},\"zerolinecolor\":\"#EBF0F8\",\"zerolinewidth\":2},\"yaxis\":{\"automargin\":true,\"gridcolor\":\"#EBF0F8\",\"linecolor\":\"#EBF0F8\",\"ticks\":\"\",\"title\":{\"standoff\":15},\"zerolinecolor\":\"#EBF0F8\",\"zerolinewidth\":2}}},\"xaxis\":{\"anchor\":\"y\",\"domain\":[0.0,0.49],\"title\":{\"text\":\"Actual Cost, $\"},\"showgrid\":true,\"gridwidth\":1,\"gridcolor\":\"#EAEAEA\",\"zeroline\":true,\"zerolinewidth\":2,\"zerolinecolor\":\"#5E5E5E\"},\"yaxis\":{\"anchor\":\"x\",\"domain\":[0.0,0.46499999999999997],\"title\":{\"text\":\"Predicted Cost, $\"},\"showgrid\":true,\"gridwidth\":1,\"gridcolor\":\"#E3E3E3\",\"zeroline\":true,\"zerolinewidth\":2,\"zerolinecolor\":\"#5E5E5E\"},\"xaxis2\":{\"anchor\":\"y2\",\"domain\":[0.51,1.0],\"matches\":\"x\",\"title\":{\"text\":\"Actual Cost, $\"},\"showgrid\":true,\"gridwidth\":1,\"gridcolor\":\"#EAEAEA\",\"zeroline\":true,\"zerolinewidth\":2,\"zerolinecolor\":\"#5E5E5E\"},\"yaxis2\":{\"anchor\":\"x2\",\"domain\":[0.0,0.46499999999999997],\"matches\":\"y\",\"showticklabels\":false,\"showgrid\":true,\"gridwidth\":1,\"gridcolor\":\"#E3E3E3\",\"zeroline\":true,\"zerolinewidth\":2,\"zerolinecolor\":\"#5E5E5E\"},\"xaxis3\":{\"anchor\":\"y3\",\"domain\":[0.0,0.49],\"matches\":\"x\",\"showticklabels\":false,\"showgrid\":true,\"gridwidth\":1,\"gridcolor\":\"#EAEAEA\",\"zeroline\":true,\"zerolinewidth\":2,\"zerolinecolor\":\"#5E5E5E\"},\"yaxis3\":{\"anchor\":\"x3\",\"domain\":[0.5349999999999999,0.9999999999999999],\"matches\":\"y\",\"title\":{\"text\":\"Predicted Cost, $\"},\"showgrid\":true,\"gridwidth\":1,\"gridcolor\":\"#E3E3E3\",\"zeroline\":true,\"zerolinewidth\":2,\"zerolinecolor\":\"#5E5E5E\"},\"xaxis4\":{\"anchor\":\"y4\",\"domain\":[0.51,1.0],\"matches\":\"x\",\"showticklabels\":false,\"showgrid\":true,\"gridwidth\":1,\"gridcolor\":\"#EAEAEA\",\"zeroline\":true,\"zerolinewidth\":2,\"zerolinecolor\":\"#5E5E5E\"},\"yaxis4\":{\"anchor\":\"x4\",\"domain\":[0.5349999999999999,0.9999999999999999],\"matches\":\"y\",\"showticklabels\":false,\"showgrid\":true,\"gridwidth\":1,\"gridcolor\":\"#E3E3E3\",\"zeroline\":true,\"zerolinewidth\":2,\"zerolinecolor\":\"#5E5E5E\"},\"annotations\":[{\"showarrow\":false,\"text\":\"Northwest\",\"x\":0.245,\"xanchor\":\"center\",\"xref\":\"paper\",\"y\":0.46499999999999997,\"yanchor\":\"bottom\",\"yref\":\"paper\"},{\"showarrow\":false,\"text\":\"Northeast\",\"x\":0.755,\"xanchor\":\"center\",\"xref\":\"paper\",\"y\":0.46499999999999997,\"yanchor\":\"bottom\",\"yref\":\"paper\"},{\"showarrow\":false,\"text\":\"Southwest\",\"x\":0.245,\"xanchor\":\"center\",\"xref\":\"paper\",\"y\":0.9999999999999999,\"yanchor\":\"bottom\",\"yref\":\"paper\"},{\"showarrow\":false,\"text\":\"Southeast\",\"x\":0.755,\"xanchor\":\"center\",\"xref\":\"paper\",\"y\":0.9999999999999999,\"yanchor\":\"bottom\",\"yref\":\"paper\"},{\"showarrow\":false,\"text\":\"Adj. R-Squared = 82.0%<br>RMSE = 4,118\",\"x\":51000.0,\"xref\":\"x3\",\"y\":15000.0,\"yref\":\"y3\"},{\"showarrow\":false,\"text\":\"Adj. R-Squared = 93.7%<br>RMSE = 3,212\",\"x\":51000.0,\"xref\":\"x4\",\"y\":15000.0,\"yref\":\"y4\"},{\"showarrow\":false,\"text\":\"Adj. R-Squared = 80.6%<br>RMSE = 4,560\",\"x\":51000.0,\"xref\":\"x\",\"y\":15000.0,\"yref\":\"y\"},{\"showarrow\":false,\"text\":\"Adj. R-Squared = 61.7%<br>RMSE = 5,276\",\"x\":51000.0,\"xref\":\"x2\",\"y\":15000.0,\"yref\":\"y2\"}],\"legend\":{\"title\":{\"text\":\"index\"},\"tracegroupgap\":0},\"title\":{\"text\":\"\\u0420\\u0435\\u0430\\u043b\\u044c\\u043d\\u044b\\u0435 vs \\u041f\\u0440\\u0435\\u0434\\u0441\\u043a\\u0430\\u0437\\u0430\\u043d\\u043d\\u044b\\u0435 \\u0440\\u0435\\u0437\\u0443\\u043b\\u044c\\u0442\\u0430\\u0442\\u044b \\u0441\\u0442\\u043e\\u0438\\u043c\\u043e\\u0441\\u0442\\u0438 \\u0441\\u043e\\u043e\\u0442\\u0432\\u0435\\u0442\\u0441\\u0432\\u0442\\u0443\\u044e\\u0449\\u0438\\u0445 \\u0440\\u0435\\u0433\\u0438\\u043e\\u043d\\u0430\\u043c,<br>Gradient Boosting\"},\"height\":700,\"font\":{\"color\":\"#303030\"},\"paper_bgcolor\":\"white\",\"plot_bgcolor\":\"white\"},                        {\"responsive\": true}                    ).then(function(){\n",
       "                            \n",
       "var gd = document.getElementById('ac8d41e7-01c1-4a96-8321-863494f3ec98');\n",
       "var x = new MutationObserver(function (mutations, observer) {{\n",
       "        var display = window.getComputedStyle(gd).display;\n",
       "        if (!display || display === 'none') {{\n",
       "            console.log([gd, 'removed!']);\n",
       "            Plotly.purge(gd);\n",
       "            observer.disconnect();\n",
       "        }}\n",
       "}});\n",
       "\n",
       "// Listen for the removal of the full notebook cells\n",
       "var notebookContainer = gd.closest('#notebook-container');\n",
       "if (notebookContainer) {{\n",
       "    x.observe(notebookContainer, {childList: true});\n",
       "}}\n",
       "\n",
       "// Listen for the clearing of the current output cell\n",
       "var outputEl = gd.closest('.output');\n",
       "if (outputEl) {{\n",
       "    x.observe(outputEl, {childList: true});\n",
       "}}\n",
       "\n",
       "                        })                };                });            </script>        </div>"
      ]
     },
     "metadata": {},
     "output_type": "display_data"
    }
   ],
   "source": [
    "actuals=[]\n",
    "preds=[]\n",
    "rmses=[]\n",
    "r2_scores=[]\n",
    "adj_r2_scores=[]\n",
    "feat_importance=pd.DataFrame()\n",
    "regions = ins.region.unique()\n",
    "s = StandardScaler()\n",
    "col = [\"#B14B51\", '#D0A99C', '#5D8370','#6C839B']\n",
    "\n",
    "for i in regions:\n",
    "    \n",
    "    # Разделение датасета по региону\n",
    "    ins_df = ins[ins.region==i]\n",
    "    X=ins_df.drop(['charges', 'region'], axis=1)\n",
    "    y=ins_df.charges\n",
    "    \n",
    "    \n",
    "    \n",
    "    pf = PolynomialFeatures(degree=2, include_bias=False)\n",
    "    X_pf = pd.DataFrame(data=pf.fit_transform(X), columns=pf.get_feature_names(X.columns))\n",
    "    \n",
    "    # Распределение на выборки\n",
    "    X_train, X_test, y_train, y_test = train_test_split(X_pf, y, test_size=0.2, random_state=1)\n",
    "    X_train = pd.DataFrame(X_train, columns = X_pf.columns)\n",
    "    X_test = pd.DataFrame(X_test, columns = X_pf.columns)\n",
    "    actuals.append(pd.Series(y_test, name='actuals').reset_index())\n",
    "    print(\"\\nRegion: {}\\n\".format(i))\n",
    "    print(\"Train Shape:{} {}  Test Shape:{} {}\".format(X_train.shape, y_train.shape, X_test.shape, y_test.shape))\n",
    "    \n",
    "    \n",
    "    X_train = pd.DataFrame(data=s.fit_transform(X_train), columns=X_pf.columns)\n",
    "    X_test = pd.DataFrame(data=s.transform(X_test), columns=X_pf.columns)\n",
    "    \n",
    "    \n",
    "    grid = {'learning_rate': [0.0001, 0.001, 0.01, 0.1, 0.25, 0.5],\n",
    "            'n_estimators': [int(x) for x in np.linspace(start = 200, stop = 1000, num = 5)],\n",
    "            'subsample': [0.5, 0.8, 1],\n",
    "            'min_samples_split': [2, 5, 10],\n",
    "            'min_samples_leaf': [1, 2, 4],\n",
    "            'max_depth': [int(x) for x in np.linspace(2, 10, num = 5)],\n",
    "            'max_features': [None, 'sqrt']}\n",
    "    xgb=GradientBoostingRegressor(random_state=21)\n",
    "    xgb_cv=RandomizedSearchCV(estimator=xgb, param_distributions=grid, scoring='neg_mean_squared_error', \n",
    "                              n_iter=100, cv=3, random_state=21, n_jobs=-1)\n",
    "    xgb_cv.fit(X_train, y_train)\n",
    "    y_pred=xgb_cv.predict(X_test)\n",
    "    preds.append(pd.Series(y_pred, name='preds').reset_index(drop=True))\n",
    "    rmse=np.sqrt(mean_squared_error(y_test, y_pred)).round(2)\n",
    "    r2=r2_score(y_test, y_pred)\n",
    "    adj_r2 = 1 - (1-r2)*(len(y_test)-1)/(len(y_test)-X_test.shape[1]-1)\n",
    "    rmses.append(rmse)\n",
    "    r2_scores.append(r2)\n",
    "    adj_r2_scores.append(adj_r2)\n",
    "    \n",
    "    \n",
    "    feat_importance[\"Importance_\"+str(i)]=xgb_cv.best_estimator_.feature_importances_\n",
    "    \n",
    "    print(\"Test Error (RMSE) = {:,}\".format(rmse))\n",
    "    print(\"R-Squared = {:.2f}%, Adjusted R-Squared = {:.2f}%\".format(r2*100, adj_r2*100))\n",
    "    if i != 'Northeast':\n",
    "        print(\"__________________________\")\n",
    "\n",
    "# Plot results\n",
    "for i in range(0,4):\n",
    "    actuals[i].loc[:,'index']=regions[i]\n",
    "actual = pd.concat([actuals[i] for i in range(4)], axis = 0)\n",
    "pred = pd.concat([preds[i] for i in range(4)], axis = 0)\n",
    "df = pd.concat([actual, pred], axis=1).reset_index(drop=True)\n",
    "\n",
    "fig = px.scatter(df, x=\"actuals\", y=\"preds\", color=\"index\", trendline=\"lowess\", height=700,\n",
    "                 title=\"Реальные vs Предсказанные результаты стоимости соответсвтующих регионам,<br>Gradient Boosting\",\n",
    "                 color_discrete_sequence=col, opacity=0.7, facet_col='index', facet_col_wrap=2)\n",
    "\n",
    "fig.for_each_annotation(lambda a: a.update(text=a.text.split(\"=\")[-1]))\n",
    "fig.add_annotation(text=\"Adj. R-Squared = {:.1f}%<br>RMSE = {:,.0f}\".format(adj_r2_scores[0]*100,rmses[0]),\n",
    "                   x=51e3,y=15e3, row=2,col=1, showarrow=False)\n",
    "fig.add_annotation(text=\"Adj. R-Squared = {:.1f}%<br>RMSE = {:,.0f}\".format(adj_r2_scores[1]*100,rmses[1]),\n",
    "                   x=51e3,y=15e3, row=2,col=2, showarrow=False)\n",
    "fig.add_annotation(text=\"Adj. R-Squared = {:.1f}%<br>RMSE = {:,.0f}\".format(adj_r2_scores[2]*100,rmses[2]),\n",
    "                   x=51e3,y=15e3, row=1,col=1, showarrow=False)\n",
    "fig.add_annotation(text=\"Adj. R-Squared = {:.1f}%<br>RMSE = {:,.0f}\".format(adj_r2_scores[3]*100,rmses[3]),\n",
    "                   x=51e3,y=15e3, row=1,col=2, showarrow=False)\n",
    "\n",
    "fig.update_traces(hovertemplate=\"Actual Cost: %{x:$,.2f}<br>Predicted Cost: %{y:$,.2f}\",\n",
    "                  marker=dict(size=10,line=dict(width=1,color=\"#F7F7F7\")),\n",
    "                  selector=dict(mode=\"markers\"), showlegend=False)\n",
    "fig.update_xaxes(title=\"Actual Cost, $\", row=1)\n",
    "fig.update_xaxes(showgrid=True, gridwidth=1, gridcolor='#EAEAEA',\n",
    "                 zeroline=True, zerolinewidth=2, zerolinecolor='#5E5E5E')\n",
    "fig.update_yaxes(title=\"Predicted Cost, $\", col=1)\n",
    "fig.update_yaxes(showgrid=True, gridwidth=1, gridcolor='#E3E3E3',\n",
    "                 zeroline=True, zerolinewidth=2, zerolinecolor='#5E5E5E')\n",
    "fig.update_layout(font_color=\"#303030\", paper_bgcolor=\"white\", plot_bgcolor=\"white\")\n",
    "fig.show()"
   ]
  },
  {
   "cell_type": "code",
   "execution_count": 78,
   "metadata": {},
   "outputs": [],
   "source": [
    "# models=[\"Linear Regression\", \"KNN\", \"SVM\", \"Gradient Boosting\"]\n",
    "# mod_res=pd.DataFrame(columns=[\"Average RMSE\", \"Avg. Adjusted R2\"], index=models)\n",
    "\n",
    "# mod_res.iloc[3,0]=pd.Series(rmses).mean()\n",
    "# mod_res.iloc[3,1]=pd.Series(adj_r2_scores).mean()\n",
    "# mod_res[\"Average RMSE\"]=mod_res[\"Average RMSE\"].map('{:,.2f}'.format)\n",
    "# mod_res[\"Avg. Adjusted R2\"]=mod_res[\"Avg. Adjusted R2\"].mul(100).map('{:.2f}%'.format)\n",
    "# display(mod_res.sort_values(\"Average RMSE\"))"
   ]
  },
  {
   "cell_type": "markdown",
   "metadata": {},
   "source": []
  },
  {
   "cell_type": "code",
   "execution_count": 80,
   "metadata": {},
   "outputs": [
    {
     "data": {
      "application/vnd.plotly.v1+json": {
       "config": {
        "plotlyServerURL": "https://plot.ly"
       },
       "data": [
        {
         "alignmentgroup": "True",
         "hovertemplate": "Значимость = <b>%{x:.2}</b>",
         "legendgroup": "bmi smoker_yes",
         "marker": {
          "color": "#fde7a9",
          "line": {
           "color": "#3F3B3A",
           "width": 1
          },
          "opacity": 0.8,
          "pattern": {
           "shape": ""
          }
         },
         "name": "bmi smoker_yes",
         "offsetgroup": "bmi smoker_yes",
         "orientation": "h",
         "showlegend": false,
         "text": [
          0.23780277460107246
         ],
         "textposition": "outside",
         "texttemplate": "%{text:.2f}",
         "type": "bar",
         "x": [
          0.23780277460107246
         ],
         "xaxis": "x",
         "y": [
          "bmi smoker_yes"
         ],
         "yaxis": "y"
        },
        {
         "alignmentgroup": "True",
         "hovertemplate": "Значимость = <b>%{x:.2}</b>",
         "legendgroup": "age smoker_yes",
         "marker": {
          "color": "#fed194",
          "line": {
           "color": "#3F3B3A",
           "width": 1
          },
          "opacity": 0.8,
          "pattern": {
           "shape": ""
          }
         },
         "name": "age smoker_yes",
         "offsetgroup": "age smoker_yes",
         "orientation": "h",
         "showlegend": false,
         "text": [
          0.15622935142145974
         ],
         "textposition": "outside",
         "texttemplate": "%{text:.2f}",
         "type": "bar",
         "x": [
          0.15622935142145974
         ],
         "xaxis": "x",
         "y": [
          "age smoker_yes"
         ],
         "yaxis": "y"
        },
        {
         "alignmentgroup": "True",
         "hovertemplate": "Значимость = <b>%{x:.2}</b>",
         "legendgroup": "smoker_yes^2",
         "marker": {
          "color": "#febb81",
          "line": {
           "color": "#3F3B3A",
           "width": 1
          },
          "opacity": 0.8,
          "pattern": {
           "shape": ""
          }
         },
         "name": "smoker_yes^2",
         "offsetgroup": "smoker_yes^2",
         "orientation": "h",
         "showlegend": false,
         "text": [
          0.14135532387278563
         ],
         "textposition": "outside",
         "texttemplate": "%{text:.2f}",
         "type": "bar",
         "x": [
          0.14135532387278563
         ],
         "xaxis": "x",
         "y": [
          "smoker_yes^2"
         ],
         "yaxis": "y"
        },
        {
         "alignmentgroup": "True",
         "hovertemplate": "Значимость = <b>%{x:.2}</b>",
         "legendgroup": "smoker_yes",
         "marker": {
          "color": "#fea571",
          "line": {
           "color": "#3F3B3A",
           "width": 1
          },
          "opacity": 0.8,
          "pattern": {
           "shape": ""
          }
         },
         "name": "smoker_yes",
         "offsetgroup": "smoker_yes",
         "orientation": "h",
         "showlegend": false,
         "text": [
          0.13460793266628426
         ],
         "textposition": "outside",
         "texttemplate": "%{text:.2f}",
         "type": "bar",
         "x": [
          0.13460793266628426
         ],
         "xaxis": "x",
         "y": [
          "smoker_yes"
         ],
         "yaxis": "y"
        },
        {
         "alignmentgroup": "True",
         "hovertemplate": "Значимость = <b>%{x:.2}</b>",
         "legendgroup": "age bmi",
         "marker": {
          "color": "#fc8e64",
          "line": {
           "color": "#3F3B3A",
           "width": 1
          },
          "opacity": 0.8,
          "pattern": {
           "shape": ""
          }
         },
         "name": "age bmi",
         "offsetgroup": "age bmi",
         "orientation": "h",
         "showlegend": false,
         "text": [
          0.05560692682936757
         ],
         "textposition": "outside",
         "texttemplate": "%{text:.2f}",
         "type": "bar",
         "x": [
          0.05560692682936757
         ],
         "xaxis": "x",
         "y": [
          "age bmi"
         ],
         "yaxis": "y"
        },
        {
         "alignmentgroup": "True",
         "hovertemplate": "Значимость = <b>%{x:.2}</b>",
         "legendgroup": "age",
         "marker": {
          "color": "#f8765c",
          "line": {
           "color": "#3F3B3A",
           "width": 1
          },
          "opacity": 0.8,
          "pattern": {
           "shape": ""
          }
         },
         "name": "age",
         "offsetgroup": "age",
         "orientation": "h",
         "showlegend": false,
         "text": [
          0.04886528661937072
         ],
         "textposition": "outside",
         "texttemplate": "%{text:.2f}",
         "type": "bar",
         "x": [
          0.04886528661937072
         ],
         "xaxis": "x",
         "y": [
          "age"
         ],
         "yaxis": "y"
        },
        {
         "alignmentgroup": "True",
         "hovertemplate": "Значимость = <b>%{x:.2}</b>",
         "legendgroup": "age^2",
         "marker": {
          "color": "#f1605d",
          "line": {
           "color": "#3F3B3A",
           "width": 1
          },
          "opacity": 0.8,
          "pattern": {
           "shape": ""
          }
         },
         "name": "age^2",
         "offsetgroup": "age^2",
         "orientation": "h",
         "showlegend": false,
         "text": [
          0.04388461875584225
         ],
         "textposition": "outside",
         "texttemplate": "%{text:.2f}",
         "type": "bar",
         "x": [
          0.04388461875584225
         ],
         "xaxis": "x",
         "y": [
          "age^2"
         ],
         "yaxis": "y"
        },
        {
         "alignmentgroup": "True",
         "hovertemplate": "Значимость = <b>%{x:.2}</b>",
         "legendgroup": "bmi^2",
         "marker": {
          "color": "#e44f64",
          "line": {
           "color": "#3F3B3A",
           "width": 1
          },
          "opacity": 0.8,
          "pattern": {
           "shape": ""
          }
         },
         "name": "bmi^2",
         "offsetgroup": "bmi^2",
         "orientation": "h",
         "showlegend": false,
         "text": [
          0.03594414805835943
         ],
         "textposition": "outside",
         "texttemplate": "%{text:.2f}",
         "type": "bar",
         "x": [
          0.03594414805835943
         ],
         "xaxis": "x",
         "y": [
          "bmi^2"
         ],
         "yaxis": "y"
        },
        {
         "alignmentgroup": "True",
         "hovertemplate": "Значимость = <b>%{x:.2}</b>",
         "legendgroup": "bmi",
         "marker": {
          "color": "#d3436e",
          "line": {
           "color": "#3F3B3A",
           "width": 1
          },
          "opacity": 0.8,
          "pattern": {
           "shape": ""
          }
         },
         "name": "bmi",
         "offsetgroup": "bmi",
         "orientation": "h",
         "showlegend": false,
         "text": [
          0.035095248211926486
         ],
         "textposition": "outside",
         "texttemplate": "%{text:.2f}",
         "type": "bar",
         "x": [
          0.035095248211926486
         ],
         "xaxis": "x",
         "y": [
          "bmi"
         ],
         "yaxis": "y"
        },
        {
         "alignmentgroup": "True",
         "hovertemplate": "Значимость = <b>%{x:.2}</b>",
         "legendgroup": "children smoker_yes",
         "marker": {
          "color": "#c03a76",
          "line": {
           "color": "#3F3B3A",
           "width": 1
          },
          "opacity": 0.8,
          "pattern": {
           "shape": ""
          }
         },
         "name": "children smoker_yes",
         "offsetgroup": "children smoker_yes",
         "orientation": "h",
         "showlegend": false,
         "text": [
          0.0333595894309977
         ],
         "textposition": "outside",
         "texttemplate": "%{text:.2f}",
         "type": "bar",
         "x": [
          0.0333595894309977
         ],
         "xaxis": "x",
         "y": [
          "children smoker_yes"
         ],
         "yaxis": "y"
        },
        {
         "alignmentgroup": "True",
         "hovertemplate": "Значимость = <b>%{x:.2}</b>",
         "legendgroup": "female smoker_yes",
         "marker": {
          "color": "#ab337c",
          "line": {
           "color": "#3F3B3A",
           "width": 1
          },
          "opacity": 0.8,
          "pattern": {
           "shape": ""
          }
         },
         "name": "female smoker_yes",
         "offsetgroup": "female smoker_yes",
         "orientation": "h",
         "showlegend": false,
         "text": [
          0.014830848344711402
         ],
         "textposition": "outside",
         "texttemplate": "%{text:.2f}",
         "type": "bar",
         "x": [
          0.014830848344711402
         ],
         "xaxis": "x",
         "y": [
          "female smoker_yes"
         ],
         "yaxis": "y"
        },
        {
         "alignmentgroup": "True",
         "hovertemplate": "Значимость = <b>%{x:.2}</b>",
         "legendgroup": "age children",
         "marker": {
          "color": "#982d80",
          "line": {
           "color": "#3F3B3A",
           "width": 1
          },
          "opacity": 0.8,
          "pattern": {
           "shape": ""
          }
         },
         "name": "age children",
         "offsetgroup": "age children",
         "orientation": "h",
         "showlegend": false,
         "text": [
          0.014751633001448598
         ],
         "textposition": "outside",
         "texttemplate": "%{text:.2f}",
         "type": "bar",
         "x": [
          0.014751633001448598
         ],
         "xaxis": "x",
         "y": [
          "age children"
         ],
         "yaxis": "y"
        },
        {
         "alignmentgroup": "True",
         "hovertemplate": "Значимость = <b>%{x:.2}</b>",
         "legendgroup": "bmi children",
         "marker": {
          "color": "#842681",
          "line": {
           "color": "#3F3B3A",
           "width": 1
          },
          "opacity": 0.8,
          "pattern": {
           "shape": ""
          }
         },
         "name": "bmi children",
         "offsetgroup": "bmi children",
         "orientation": "h",
         "showlegend": false,
         "text": [
          0.01260531070469836
         ],
         "textposition": "outside",
         "texttemplate": "%{text:.2f}",
         "type": "bar",
         "x": [
          0.01260531070469836
         ],
         "xaxis": "x",
         "y": [
          "bmi children"
         ],
         "yaxis": "y"
        },
        {
         "alignmentgroup": "True",
         "hovertemplate": "Значимость = <b>%{x:.2}</b>",
         "legendgroup": "age female",
         "marker": {
          "color": "#721f81",
          "line": {
           "color": "#3F3B3A",
           "width": 1
          },
          "opacity": 0.8,
          "pattern": {
           "shape": ""
          }
         },
         "name": "age female",
         "offsetgroup": "age female",
         "orientation": "h",
         "showlegend": false,
         "text": [
          0.01156888401990276
         ],
         "textposition": "outside",
         "texttemplate": "%{text:.2f}",
         "type": "bar",
         "x": [
          0.01156888401990276
         ],
         "xaxis": "x",
         "y": [
          "age female"
         ],
         "yaxis": "y"
        },
        {
         "alignmentgroup": "True",
         "hovertemplate": "Значимость = <b>%{x:.2}</b>",
         "legendgroup": "bmi female",
         "marker": {
          "color": "#5f187f",
          "line": {
           "color": "#3F3B3A",
           "width": 1
          },
          "opacity": 0.8,
          "pattern": {
           "shape": ""
          }
         },
         "name": "bmi female",
         "offsetgroup": "bmi female",
         "orientation": "h",
         "showlegend": false,
         "text": [
          0.011532925415229829
         ],
         "textposition": "outside",
         "texttemplate": "%{text:.2f}",
         "type": "bar",
         "x": [
          0.011532925415229829
         ],
         "xaxis": "x",
         "y": [
          "bmi female"
         ],
         "yaxis": "y"
        },
        {
         "alignmentgroup": "True",
         "hovertemplate": "Значимость = <b>%{x:.2}</b>",
         "legendgroup": "children^2",
         "marker": {
          "color": "#4a1079",
          "line": {
           "color": "#3F3B3A",
           "width": 1
          },
          "opacity": 0.8,
          "pattern": {
           "shape": ""
          }
         },
         "name": "children^2",
         "offsetgroup": "children^2",
         "orientation": "h",
         "showlegend": false,
         "text": [
          0.0034313296994771146
         ],
         "textposition": "outside",
         "texttemplate": "%{text:.2f}",
         "type": "bar",
         "x": [
          0.0034313296994771146
         ],
         "xaxis": "x",
         "y": [
          "children^2"
         ],
         "yaxis": "y"
        },
        {
         "alignmentgroup": "True",
         "hovertemplate": "Значимость = <b>%{x:.2}</b>",
         "legendgroup": "children",
         "marker": {
          "color": "#36106b",
          "line": {
           "color": "#3F3B3A",
           "width": 1
          },
          "opacity": 0.8,
          "pattern": {
           "shape": ""
          }
         },
         "name": "children",
         "offsetgroup": "children",
         "orientation": "h",
         "showlegend": false,
         "text": [
          0.0034176230208931638
         ],
         "textposition": "outside",
         "texttemplate": "%{text:.2f}",
         "type": "bar",
         "x": [
          0.0034176230208931638
         ],
         "xaxis": "x",
         "y": [
          "children"
         ],
         "yaxis": "y"
        },
        {
         "alignmentgroup": "True",
         "hovertemplate": "Значимость = <b>%{x:.2}</b>",
         "legendgroup": "children female",
         "marker": {
          "color": "#221150",
          "line": {
           "color": "#3F3B3A",
           "width": 1
          },
          "opacity": 0.8,
          "pattern": {
           "shape": ""
          }
         },
         "name": "children female",
         "offsetgroup": "children female",
         "orientation": "h",
         "showlegend": false,
         "text": [
          0.003312430017832467
         ],
         "textposition": "outside",
         "texttemplate": "%{text:.2f}",
         "type": "bar",
         "x": [
          0.003312430017832467
         ],
         "xaxis": "x",
         "y": [
          "children female"
         ],
         "yaxis": "y"
        },
        {
         "alignmentgroup": "True",
         "hovertemplate": "Значимость = <b>%{x:.2}</b>",
         "legendgroup": "female^2",
         "marker": {
          "color": "#130d34",
          "line": {
           "color": "#3F3B3A",
           "width": 1
          },
          "opacity": 0.8,
          "pattern": {
           "shape": ""
          }
         },
         "name": "female^2",
         "offsetgroup": "female^2",
         "orientation": "h",
         "showlegend": false,
         "text": [
          0.0009208507927611657
         ],
         "textposition": "outside",
         "texttemplate": "%{text:.2f}",
         "type": "bar",
         "x": [
          0.0009208507927611657
         ],
         "xaxis": "x",
         "y": [
          "female^2"
         ],
         "yaxis": "y"
        },
        {
         "alignmentgroup": "True",
         "hovertemplate": "Значимость = <b>%{x:.2}</b>",
         "legendgroup": "female",
         "marker": {
          "color": "#06051a",
          "line": {
           "color": "#3F3B3A",
           "width": 1
          },
          "opacity": 0.8,
          "pattern": {
           "shape": ""
          }
         },
         "name": "female",
         "offsetgroup": "female",
         "orientation": "h",
         "showlegend": false,
         "text": [
          0.0008769645155789132
         ],
         "textposition": "outside",
         "texttemplate": "%{text:.2f}",
         "type": "bar",
         "x": [
          0.0008769645155789132
         ],
         "xaxis": "x",
         "y": [
          "female"
         ],
         "yaxis": "y"
        }
       ],
       "layout": {
        "barmode": "relative",
        "coloraxis": {
         "showscale": false
        },
        "font": {
         "color": "#303030"
        },
        "height": 700,
        "legend": {
         "title": {
          "text": "index"
         },
         "tracegroupgap": 0
        },
        "margin": {
         "t": 60
        },
        "template": {
         "data": {
          "bar": [
           {
            "error_x": {
             "color": "#2a3f5f"
            },
            "error_y": {
             "color": "#2a3f5f"
            },
            "marker": {
             "line": {
              "color": "white",
              "width": 0.5
             },
             "pattern": {
              "fillmode": "overlay",
              "size": 10,
              "solidity": 0.2
             }
            },
            "type": "bar"
           }
          ],
          "barpolar": [
           {
            "marker": {
             "line": {
              "color": "white",
              "width": 0.5
             },
             "pattern": {
              "fillmode": "overlay",
              "size": 10,
              "solidity": 0.2
             }
            },
            "type": "barpolar"
           }
          ],
          "carpet": [
           {
            "aaxis": {
             "endlinecolor": "#2a3f5f",
             "gridcolor": "#C8D4E3",
             "linecolor": "#C8D4E3",
             "minorgridcolor": "#C8D4E3",
             "startlinecolor": "#2a3f5f"
            },
            "baxis": {
             "endlinecolor": "#2a3f5f",
             "gridcolor": "#C8D4E3",
             "linecolor": "#C8D4E3",
             "minorgridcolor": "#C8D4E3",
             "startlinecolor": "#2a3f5f"
            },
            "type": "carpet"
           }
          ],
          "choropleth": [
           {
            "colorbar": {
             "outlinewidth": 0,
             "ticks": ""
            },
            "type": "choropleth"
           }
          ],
          "contour": [
           {
            "colorbar": {
             "outlinewidth": 0,
             "ticks": ""
            },
            "colorscale": [
             [
              0,
              "#0d0887"
             ],
             [
              0.1111111111111111,
              "#46039f"
             ],
             [
              0.2222222222222222,
              "#7201a8"
             ],
             [
              0.3333333333333333,
              "#9c179e"
             ],
             [
              0.4444444444444444,
              "#bd3786"
             ],
             [
              0.5555555555555556,
              "#d8576b"
             ],
             [
              0.6666666666666666,
              "#ed7953"
             ],
             [
              0.7777777777777778,
              "#fb9f3a"
             ],
             [
              0.8888888888888888,
              "#fdca26"
             ],
             [
              1,
              "#f0f921"
             ]
            ],
            "type": "contour"
           }
          ],
          "contourcarpet": [
           {
            "colorbar": {
             "outlinewidth": 0,
             "ticks": ""
            },
            "type": "contourcarpet"
           }
          ],
          "heatmap": [
           {
            "colorbar": {
             "outlinewidth": 0,
             "ticks": ""
            },
            "colorscale": [
             [
              0,
              "#0d0887"
             ],
             [
              0.1111111111111111,
              "#46039f"
             ],
             [
              0.2222222222222222,
              "#7201a8"
             ],
             [
              0.3333333333333333,
              "#9c179e"
             ],
             [
              0.4444444444444444,
              "#bd3786"
             ],
             [
              0.5555555555555556,
              "#d8576b"
             ],
             [
              0.6666666666666666,
              "#ed7953"
             ],
             [
              0.7777777777777778,
              "#fb9f3a"
             ],
             [
              0.8888888888888888,
              "#fdca26"
             ],
             [
              1,
              "#f0f921"
             ]
            ],
            "type": "heatmap"
           }
          ],
          "heatmapgl": [
           {
            "colorbar": {
             "outlinewidth": 0,
             "ticks": ""
            },
            "colorscale": [
             [
              0,
              "#0d0887"
             ],
             [
              0.1111111111111111,
              "#46039f"
             ],
             [
              0.2222222222222222,
              "#7201a8"
             ],
             [
              0.3333333333333333,
              "#9c179e"
             ],
             [
              0.4444444444444444,
              "#bd3786"
             ],
             [
              0.5555555555555556,
              "#d8576b"
             ],
             [
              0.6666666666666666,
              "#ed7953"
             ],
             [
              0.7777777777777778,
              "#fb9f3a"
             ],
             [
              0.8888888888888888,
              "#fdca26"
             ],
             [
              1,
              "#f0f921"
             ]
            ],
            "type": "heatmapgl"
           }
          ],
          "histogram": [
           {
            "marker": {
             "pattern": {
              "fillmode": "overlay",
              "size": 10,
              "solidity": 0.2
             }
            },
            "type": "histogram"
           }
          ],
          "histogram2d": [
           {
            "colorbar": {
             "outlinewidth": 0,
             "ticks": ""
            },
            "colorscale": [
             [
              0,
              "#0d0887"
             ],
             [
              0.1111111111111111,
              "#46039f"
             ],
             [
              0.2222222222222222,
              "#7201a8"
             ],
             [
              0.3333333333333333,
              "#9c179e"
             ],
             [
              0.4444444444444444,
              "#bd3786"
             ],
             [
              0.5555555555555556,
              "#d8576b"
             ],
             [
              0.6666666666666666,
              "#ed7953"
             ],
             [
              0.7777777777777778,
              "#fb9f3a"
             ],
             [
              0.8888888888888888,
              "#fdca26"
             ],
             [
              1,
              "#f0f921"
             ]
            ],
            "type": "histogram2d"
           }
          ],
          "histogram2dcontour": [
           {
            "colorbar": {
             "outlinewidth": 0,
             "ticks": ""
            },
            "colorscale": [
             [
              0,
              "#0d0887"
             ],
             [
              0.1111111111111111,
              "#46039f"
             ],
             [
              0.2222222222222222,
              "#7201a8"
             ],
             [
              0.3333333333333333,
              "#9c179e"
             ],
             [
              0.4444444444444444,
              "#bd3786"
             ],
             [
              0.5555555555555556,
              "#d8576b"
             ],
             [
              0.6666666666666666,
              "#ed7953"
             ],
             [
              0.7777777777777778,
              "#fb9f3a"
             ],
             [
              0.8888888888888888,
              "#fdca26"
             ],
             [
              1,
              "#f0f921"
             ]
            ],
            "type": "histogram2dcontour"
           }
          ],
          "mesh3d": [
           {
            "colorbar": {
             "outlinewidth": 0,
             "ticks": ""
            },
            "type": "mesh3d"
           }
          ],
          "parcoords": [
           {
            "line": {
             "colorbar": {
              "outlinewidth": 0,
              "ticks": ""
             }
            },
            "type": "parcoords"
           }
          ],
          "pie": [
           {
            "automargin": true,
            "type": "pie"
           }
          ],
          "scatter": [
           {
            "marker": {
             "colorbar": {
              "outlinewidth": 0,
              "ticks": ""
             }
            },
            "type": "scatter"
           }
          ],
          "scatter3d": [
           {
            "line": {
             "colorbar": {
              "outlinewidth": 0,
              "ticks": ""
             }
            },
            "marker": {
             "colorbar": {
              "outlinewidth": 0,
              "ticks": ""
             }
            },
            "type": "scatter3d"
           }
          ],
          "scattercarpet": [
           {
            "marker": {
             "colorbar": {
              "outlinewidth": 0,
              "ticks": ""
             }
            },
            "type": "scattercarpet"
           }
          ],
          "scattergeo": [
           {
            "marker": {
             "colorbar": {
              "outlinewidth": 0,
              "ticks": ""
             }
            },
            "type": "scattergeo"
           }
          ],
          "scattergl": [
           {
            "marker": {
             "colorbar": {
              "outlinewidth": 0,
              "ticks": ""
             }
            },
            "type": "scattergl"
           }
          ],
          "scattermapbox": [
           {
            "marker": {
             "colorbar": {
              "outlinewidth": 0,
              "ticks": ""
             }
            },
            "type": "scattermapbox"
           }
          ],
          "scatterpolar": [
           {
            "marker": {
             "colorbar": {
              "outlinewidth": 0,
              "ticks": ""
             }
            },
            "type": "scatterpolar"
           }
          ],
          "scatterpolargl": [
           {
            "marker": {
             "colorbar": {
              "outlinewidth": 0,
              "ticks": ""
             }
            },
            "type": "scatterpolargl"
           }
          ],
          "scatterternary": [
           {
            "marker": {
             "colorbar": {
              "outlinewidth": 0,
              "ticks": ""
             }
            },
            "type": "scatterternary"
           }
          ],
          "surface": [
           {
            "colorbar": {
             "outlinewidth": 0,
             "ticks": ""
            },
            "colorscale": [
             [
              0,
              "#0d0887"
             ],
             [
              0.1111111111111111,
              "#46039f"
             ],
             [
              0.2222222222222222,
              "#7201a8"
             ],
             [
              0.3333333333333333,
              "#9c179e"
             ],
             [
              0.4444444444444444,
              "#bd3786"
             ],
             [
              0.5555555555555556,
              "#d8576b"
             ],
             [
              0.6666666666666666,
              "#ed7953"
             ],
             [
              0.7777777777777778,
              "#fb9f3a"
             ],
             [
              0.8888888888888888,
              "#fdca26"
             ],
             [
              1,
              "#f0f921"
             ]
            ],
            "type": "surface"
           }
          ],
          "table": [
           {
            "cells": {
             "fill": {
              "color": "#EBF0F8"
             },
             "line": {
              "color": "white"
             }
            },
            "header": {
             "fill": {
              "color": "#C8D4E3"
             },
             "line": {
              "color": "white"
             }
            },
            "type": "table"
           }
          ]
         },
         "layout": {
          "annotationdefaults": {
           "arrowcolor": "#2a3f5f",
           "arrowhead": 0,
           "arrowwidth": 1
          },
          "autotypenumbers": "strict",
          "coloraxis": {
           "colorbar": {
            "outlinewidth": 0,
            "ticks": ""
           }
          },
          "colorscale": {
           "diverging": [
            [
             0,
             "#8e0152"
            ],
            [
             0.1,
             "#c51b7d"
            ],
            [
             0.2,
             "#de77ae"
            ],
            [
             0.3,
             "#f1b6da"
            ],
            [
             0.4,
             "#fde0ef"
            ],
            [
             0.5,
             "#f7f7f7"
            ],
            [
             0.6,
             "#e6f5d0"
            ],
            [
             0.7,
             "#b8e186"
            ],
            [
             0.8,
             "#7fbc41"
            ],
            [
             0.9,
             "#4d9221"
            ],
            [
             1,
             "#276419"
            ]
           ],
           "sequential": [
            [
             0,
             "#0d0887"
            ],
            [
             0.1111111111111111,
             "#46039f"
            ],
            [
             0.2222222222222222,
             "#7201a8"
            ],
            [
             0.3333333333333333,
             "#9c179e"
            ],
            [
             0.4444444444444444,
             "#bd3786"
            ],
            [
             0.5555555555555556,
             "#d8576b"
            ],
            [
             0.6666666666666666,
             "#ed7953"
            ],
            [
             0.7777777777777778,
             "#fb9f3a"
            ],
            [
             0.8888888888888888,
             "#fdca26"
            ],
            [
             1,
             "#f0f921"
            ]
           ],
           "sequentialminus": [
            [
             0,
             "#0d0887"
            ],
            [
             0.1111111111111111,
             "#46039f"
            ],
            [
             0.2222222222222222,
             "#7201a8"
            ],
            [
             0.3333333333333333,
             "#9c179e"
            ],
            [
             0.4444444444444444,
             "#bd3786"
            ],
            [
             0.5555555555555556,
             "#d8576b"
            ],
            [
             0.6666666666666666,
             "#ed7953"
            ],
            [
             0.7777777777777778,
             "#fb9f3a"
            ],
            [
             0.8888888888888888,
             "#fdca26"
            ],
            [
             1,
             "#f0f921"
            ]
           ]
          },
          "colorway": [
           "#636efa",
           "#EF553B",
           "#00cc96",
           "#ab63fa",
           "#FFA15A",
           "#19d3f3",
           "#FF6692",
           "#B6E880",
           "#FF97FF",
           "#FECB52"
          ],
          "font": {
           "color": "#2a3f5f"
          },
          "geo": {
           "bgcolor": "white",
           "lakecolor": "white",
           "landcolor": "white",
           "showlakes": true,
           "showland": true,
           "subunitcolor": "#C8D4E3"
          },
          "hoverlabel": {
           "align": "left"
          },
          "hovermode": "closest",
          "mapbox": {
           "style": "light"
          },
          "paper_bgcolor": "white",
          "plot_bgcolor": "white",
          "polar": {
           "angularaxis": {
            "gridcolor": "#EBF0F8",
            "linecolor": "#EBF0F8",
            "ticks": ""
           },
           "bgcolor": "white",
           "radialaxis": {
            "gridcolor": "#EBF0F8",
            "linecolor": "#EBF0F8",
            "ticks": ""
           }
          },
          "scene": {
           "xaxis": {
            "backgroundcolor": "white",
            "gridcolor": "#DFE8F3",
            "gridwidth": 2,
            "linecolor": "#EBF0F8",
            "showbackground": true,
            "ticks": "",
            "zerolinecolor": "#EBF0F8"
           },
           "yaxis": {
            "backgroundcolor": "white",
            "gridcolor": "#DFE8F3",
            "gridwidth": 2,
            "linecolor": "#EBF0F8",
            "showbackground": true,
            "ticks": "",
            "zerolinecolor": "#EBF0F8"
           },
           "zaxis": {
            "backgroundcolor": "white",
            "gridcolor": "#DFE8F3",
            "gridwidth": 2,
            "linecolor": "#EBF0F8",
            "showbackground": true,
            "ticks": "",
            "zerolinecolor": "#EBF0F8"
           }
          },
          "shapedefaults": {
           "line": {
            "color": "#2a3f5f"
           }
          },
          "ternary": {
           "aaxis": {
            "gridcolor": "#DFE8F3",
            "linecolor": "#A2B1C6",
            "ticks": ""
           },
           "baxis": {
            "gridcolor": "#DFE8F3",
            "linecolor": "#A2B1C6",
            "ticks": ""
           },
           "bgcolor": "white",
           "caxis": {
            "gridcolor": "#DFE8F3",
            "linecolor": "#A2B1C6",
            "ticks": ""
           }
          },
          "title": {
           "x": 0.05
          },
          "xaxis": {
           "automargin": true,
           "gridcolor": "#EBF0F8",
           "linecolor": "#EBF0F8",
           "ticks": "",
           "title": {
            "standoff": 15
           },
           "zerolinecolor": "#EBF0F8",
           "zerolinewidth": 2
          },
          "yaxis": {
           "automargin": true,
           "gridcolor": "#EBF0F8",
           "linecolor": "#EBF0F8",
           "ticks": "",
           "title": {
            "standoff": 15
           },
           "zerolinecolor": "#EBF0F8",
           "zerolinewidth": 2
          }
         }
        },
        "title": {
         "text": "Значимость факторов при оценке стоимости медицинской страховки"
        },
        "width": 700,
        "xaxis": {
         "anchor": "y",
         "domain": [
          0,
          1
         ],
         "gridcolor": "#F5F5F5",
         "linecolor": "#9A9A9A",
         "showgrid": true,
         "showline": true,
         "title": {
          "text": "Средняя значимость"
         }
        },
        "yaxis": {
         "anchor": "x",
         "categoryarray": [
          "female",
          "female^2",
          "children female",
          "children",
          "children^2",
          "bmi female",
          "age female",
          "bmi children",
          "age children",
          "female smoker_yes",
          "children smoker_yes",
          "bmi",
          "bmi^2",
          "age^2",
          "age",
          "age bmi",
          "smoker_yes",
          "smoker_yes^2",
          "age smoker_yes",
          "bmi smoker_yes"
         ],
         "categoryorder": "array",
         "domain": [
          0,
          1
         ],
         "linecolor": "#D8D8D8",
         "title": {
          "text": ""
         }
        }
       }
      },
      "text/html": [
       "<div>                            <div id=\"025313b7-09ad-40c6-b4be-642cfa2d5e64\" class=\"plotly-graph-div\" style=\"height:700px; width:700px;\"></div>            <script type=\"text/javascript\">                require([\"plotly\"], function(Plotly) {                    window.PLOTLYENV=window.PLOTLYENV || {};                                    if (document.getElementById(\"025313b7-09ad-40c6-b4be-642cfa2d5e64\")) {                    Plotly.newPlot(                        \"025313b7-09ad-40c6-b4be-642cfa2d5e64\",                        [{\"alignmentgroup\":\"True\",\"hovertemplate\":\"\\u0417\\u043d\\u0430\\u0447\\u0438\\u043c\\u043e\\u0441\\u0442\\u044c = <b>%{x:.2}</b>\",\"legendgroup\":\"bmi smoker_yes\",\"marker\":{\"color\":\"#fde7a9\",\"opacity\":0.8,\"pattern\":{\"shape\":\"\"},\"line\":{\"color\":\"#3F3B3A\",\"width\":1}},\"name\":\"bmi smoker_yes\",\"offsetgroup\":\"bmi smoker_yes\",\"orientation\":\"h\",\"showlegend\":false,\"text\":[0.23780277460107246],\"textposition\":\"outside\",\"x\":[0.23780277460107246],\"xaxis\":\"x\",\"y\":[\"bmi smoker_yes\"],\"yaxis\":\"y\",\"type\":\"bar\",\"texttemplate\":\"%{text:.2f}\"},{\"alignmentgroup\":\"True\",\"hovertemplate\":\"\\u0417\\u043d\\u0430\\u0447\\u0438\\u043c\\u043e\\u0441\\u0442\\u044c = <b>%{x:.2}</b>\",\"legendgroup\":\"age smoker_yes\",\"marker\":{\"color\":\"#fed194\",\"opacity\":0.8,\"pattern\":{\"shape\":\"\"},\"line\":{\"color\":\"#3F3B3A\",\"width\":1}},\"name\":\"age smoker_yes\",\"offsetgroup\":\"age smoker_yes\",\"orientation\":\"h\",\"showlegend\":false,\"text\":[0.15622935142145974],\"textposition\":\"outside\",\"x\":[0.15622935142145974],\"xaxis\":\"x\",\"y\":[\"age smoker_yes\"],\"yaxis\":\"y\",\"type\":\"bar\",\"texttemplate\":\"%{text:.2f}\"},{\"alignmentgroup\":\"True\",\"hovertemplate\":\"\\u0417\\u043d\\u0430\\u0447\\u0438\\u043c\\u043e\\u0441\\u0442\\u044c = <b>%{x:.2}</b>\",\"legendgroup\":\"smoker_yes^2\",\"marker\":{\"color\":\"#febb81\",\"opacity\":0.8,\"pattern\":{\"shape\":\"\"},\"line\":{\"color\":\"#3F3B3A\",\"width\":1}},\"name\":\"smoker_yes^2\",\"offsetgroup\":\"smoker_yes^2\",\"orientation\":\"h\",\"showlegend\":false,\"text\":[0.14135532387278563],\"textposition\":\"outside\",\"x\":[0.14135532387278563],\"xaxis\":\"x\",\"y\":[\"smoker_yes^2\"],\"yaxis\":\"y\",\"type\":\"bar\",\"texttemplate\":\"%{text:.2f}\"},{\"alignmentgroup\":\"True\",\"hovertemplate\":\"\\u0417\\u043d\\u0430\\u0447\\u0438\\u043c\\u043e\\u0441\\u0442\\u044c = <b>%{x:.2}</b>\",\"legendgroup\":\"smoker_yes\",\"marker\":{\"color\":\"#fea571\",\"opacity\":0.8,\"pattern\":{\"shape\":\"\"},\"line\":{\"color\":\"#3F3B3A\",\"width\":1}},\"name\":\"smoker_yes\",\"offsetgroup\":\"smoker_yes\",\"orientation\":\"h\",\"showlegend\":false,\"text\":[0.13460793266628426],\"textposition\":\"outside\",\"x\":[0.13460793266628426],\"xaxis\":\"x\",\"y\":[\"smoker_yes\"],\"yaxis\":\"y\",\"type\":\"bar\",\"texttemplate\":\"%{text:.2f}\"},{\"alignmentgroup\":\"True\",\"hovertemplate\":\"\\u0417\\u043d\\u0430\\u0447\\u0438\\u043c\\u043e\\u0441\\u0442\\u044c = <b>%{x:.2}</b>\",\"legendgroup\":\"age bmi\",\"marker\":{\"color\":\"#fc8e64\",\"opacity\":0.8,\"pattern\":{\"shape\":\"\"},\"line\":{\"color\":\"#3F3B3A\",\"width\":1}},\"name\":\"age bmi\",\"offsetgroup\":\"age bmi\",\"orientation\":\"h\",\"showlegend\":false,\"text\":[0.05560692682936757],\"textposition\":\"outside\",\"x\":[0.05560692682936757],\"xaxis\":\"x\",\"y\":[\"age bmi\"],\"yaxis\":\"y\",\"type\":\"bar\",\"texttemplate\":\"%{text:.2f}\"},{\"alignmentgroup\":\"True\",\"hovertemplate\":\"\\u0417\\u043d\\u0430\\u0447\\u0438\\u043c\\u043e\\u0441\\u0442\\u044c = <b>%{x:.2}</b>\",\"legendgroup\":\"age\",\"marker\":{\"color\":\"#f8765c\",\"opacity\":0.8,\"pattern\":{\"shape\":\"\"},\"line\":{\"color\":\"#3F3B3A\",\"width\":1}},\"name\":\"age\",\"offsetgroup\":\"age\",\"orientation\":\"h\",\"showlegend\":false,\"text\":[0.04886528661937072],\"textposition\":\"outside\",\"x\":[0.04886528661937072],\"xaxis\":\"x\",\"y\":[\"age\"],\"yaxis\":\"y\",\"type\":\"bar\",\"texttemplate\":\"%{text:.2f}\"},{\"alignmentgroup\":\"True\",\"hovertemplate\":\"\\u0417\\u043d\\u0430\\u0447\\u0438\\u043c\\u043e\\u0441\\u0442\\u044c = <b>%{x:.2}</b>\",\"legendgroup\":\"age^2\",\"marker\":{\"color\":\"#f1605d\",\"opacity\":0.8,\"pattern\":{\"shape\":\"\"},\"line\":{\"color\":\"#3F3B3A\",\"width\":1}},\"name\":\"age^2\",\"offsetgroup\":\"age^2\",\"orientation\":\"h\",\"showlegend\":false,\"text\":[0.04388461875584225],\"textposition\":\"outside\",\"x\":[0.04388461875584225],\"xaxis\":\"x\",\"y\":[\"age^2\"],\"yaxis\":\"y\",\"type\":\"bar\",\"texttemplate\":\"%{text:.2f}\"},{\"alignmentgroup\":\"True\",\"hovertemplate\":\"\\u0417\\u043d\\u0430\\u0447\\u0438\\u043c\\u043e\\u0441\\u0442\\u044c = <b>%{x:.2}</b>\",\"legendgroup\":\"bmi^2\",\"marker\":{\"color\":\"#e44f64\",\"opacity\":0.8,\"pattern\":{\"shape\":\"\"},\"line\":{\"color\":\"#3F3B3A\",\"width\":1}},\"name\":\"bmi^2\",\"offsetgroup\":\"bmi^2\",\"orientation\":\"h\",\"showlegend\":false,\"text\":[0.03594414805835943],\"textposition\":\"outside\",\"x\":[0.03594414805835943],\"xaxis\":\"x\",\"y\":[\"bmi^2\"],\"yaxis\":\"y\",\"type\":\"bar\",\"texttemplate\":\"%{text:.2f}\"},{\"alignmentgroup\":\"True\",\"hovertemplate\":\"\\u0417\\u043d\\u0430\\u0447\\u0438\\u043c\\u043e\\u0441\\u0442\\u044c = <b>%{x:.2}</b>\",\"legendgroup\":\"bmi\",\"marker\":{\"color\":\"#d3436e\",\"opacity\":0.8,\"pattern\":{\"shape\":\"\"},\"line\":{\"color\":\"#3F3B3A\",\"width\":1}},\"name\":\"bmi\",\"offsetgroup\":\"bmi\",\"orientation\":\"h\",\"showlegend\":false,\"text\":[0.035095248211926486],\"textposition\":\"outside\",\"x\":[0.035095248211926486],\"xaxis\":\"x\",\"y\":[\"bmi\"],\"yaxis\":\"y\",\"type\":\"bar\",\"texttemplate\":\"%{text:.2f}\"},{\"alignmentgroup\":\"True\",\"hovertemplate\":\"\\u0417\\u043d\\u0430\\u0447\\u0438\\u043c\\u043e\\u0441\\u0442\\u044c = <b>%{x:.2}</b>\",\"legendgroup\":\"children smoker_yes\",\"marker\":{\"color\":\"#c03a76\",\"opacity\":0.8,\"pattern\":{\"shape\":\"\"},\"line\":{\"color\":\"#3F3B3A\",\"width\":1}},\"name\":\"children smoker_yes\",\"offsetgroup\":\"children smoker_yes\",\"orientation\":\"h\",\"showlegend\":false,\"text\":[0.0333595894309977],\"textposition\":\"outside\",\"x\":[0.0333595894309977],\"xaxis\":\"x\",\"y\":[\"children smoker_yes\"],\"yaxis\":\"y\",\"type\":\"bar\",\"texttemplate\":\"%{text:.2f}\"},{\"alignmentgroup\":\"True\",\"hovertemplate\":\"\\u0417\\u043d\\u0430\\u0447\\u0438\\u043c\\u043e\\u0441\\u0442\\u044c = <b>%{x:.2}</b>\",\"legendgroup\":\"female smoker_yes\",\"marker\":{\"color\":\"#ab337c\",\"opacity\":0.8,\"pattern\":{\"shape\":\"\"},\"line\":{\"color\":\"#3F3B3A\",\"width\":1}},\"name\":\"female smoker_yes\",\"offsetgroup\":\"female smoker_yes\",\"orientation\":\"h\",\"showlegend\":false,\"text\":[0.014830848344711402],\"textposition\":\"outside\",\"x\":[0.014830848344711402],\"xaxis\":\"x\",\"y\":[\"female smoker_yes\"],\"yaxis\":\"y\",\"type\":\"bar\",\"texttemplate\":\"%{text:.2f}\"},{\"alignmentgroup\":\"True\",\"hovertemplate\":\"\\u0417\\u043d\\u0430\\u0447\\u0438\\u043c\\u043e\\u0441\\u0442\\u044c = <b>%{x:.2}</b>\",\"legendgroup\":\"age children\",\"marker\":{\"color\":\"#982d80\",\"opacity\":0.8,\"pattern\":{\"shape\":\"\"},\"line\":{\"color\":\"#3F3B3A\",\"width\":1}},\"name\":\"age children\",\"offsetgroup\":\"age children\",\"orientation\":\"h\",\"showlegend\":false,\"text\":[0.014751633001448598],\"textposition\":\"outside\",\"x\":[0.014751633001448598],\"xaxis\":\"x\",\"y\":[\"age children\"],\"yaxis\":\"y\",\"type\":\"bar\",\"texttemplate\":\"%{text:.2f}\"},{\"alignmentgroup\":\"True\",\"hovertemplate\":\"\\u0417\\u043d\\u0430\\u0447\\u0438\\u043c\\u043e\\u0441\\u0442\\u044c = <b>%{x:.2}</b>\",\"legendgroup\":\"bmi children\",\"marker\":{\"color\":\"#842681\",\"opacity\":0.8,\"pattern\":{\"shape\":\"\"},\"line\":{\"color\":\"#3F3B3A\",\"width\":1}},\"name\":\"bmi children\",\"offsetgroup\":\"bmi children\",\"orientation\":\"h\",\"showlegend\":false,\"text\":[0.01260531070469836],\"textposition\":\"outside\",\"x\":[0.01260531070469836],\"xaxis\":\"x\",\"y\":[\"bmi children\"],\"yaxis\":\"y\",\"type\":\"bar\",\"texttemplate\":\"%{text:.2f}\"},{\"alignmentgroup\":\"True\",\"hovertemplate\":\"\\u0417\\u043d\\u0430\\u0447\\u0438\\u043c\\u043e\\u0441\\u0442\\u044c = <b>%{x:.2}</b>\",\"legendgroup\":\"age female\",\"marker\":{\"color\":\"#721f81\",\"opacity\":0.8,\"pattern\":{\"shape\":\"\"},\"line\":{\"color\":\"#3F3B3A\",\"width\":1}},\"name\":\"age female\",\"offsetgroup\":\"age female\",\"orientation\":\"h\",\"showlegend\":false,\"text\":[0.01156888401990276],\"textposition\":\"outside\",\"x\":[0.01156888401990276],\"xaxis\":\"x\",\"y\":[\"age female\"],\"yaxis\":\"y\",\"type\":\"bar\",\"texttemplate\":\"%{text:.2f}\"},{\"alignmentgroup\":\"True\",\"hovertemplate\":\"\\u0417\\u043d\\u0430\\u0447\\u0438\\u043c\\u043e\\u0441\\u0442\\u044c = <b>%{x:.2}</b>\",\"legendgroup\":\"bmi female\",\"marker\":{\"color\":\"#5f187f\",\"opacity\":0.8,\"pattern\":{\"shape\":\"\"},\"line\":{\"color\":\"#3F3B3A\",\"width\":1}},\"name\":\"bmi female\",\"offsetgroup\":\"bmi female\",\"orientation\":\"h\",\"showlegend\":false,\"text\":[0.011532925415229829],\"textposition\":\"outside\",\"x\":[0.011532925415229829],\"xaxis\":\"x\",\"y\":[\"bmi female\"],\"yaxis\":\"y\",\"type\":\"bar\",\"texttemplate\":\"%{text:.2f}\"},{\"alignmentgroup\":\"True\",\"hovertemplate\":\"\\u0417\\u043d\\u0430\\u0447\\u0438\\u043c\\u043e\\u0441\\u0442\\u044c = <b>%{x:.2}</b>\",\"legendgroup\":\"children^2\",\"marker\":{\"color\":\"#4a1079\",\"opacity\":0.8,\"pattern\":{\"shape\":\"\"},\"line\":{\"color\":\"#3F3B3A\",\"width\":1}},\"name\":\"children^2\",\"offsetgroup\":\"children^2\",\"orientation\":\"h\",\"showlegend\":false,\"text\":[0.0034313296994771146],\"textposition\":\"outside\",\"x\":[0.0034313296994771146],\"xaxis\":\"x\",\"y\":[\"children^2\"],\"yaxis\":\"y\",\"type\":\"bar\",\"texttemplate\":\"%{text:.2f}\"},{\"alignmentgroup\":\"True\",\"hovertemplate\":\"\\u0417\\u043d\\u0430\\u0447\\u0438\\u043c\\u043e\\u0441\\u0442\\u044c = <b>%{x:.2}</b>\",\"legendgroup\":\"children\",\"marker\":{\"color\":\"#36106b\",\"opacity\":0.8,\"pattern\":{\"shape\":\"\"},\"line\":{\"color\":\"#3F3B3A\",\"width\":1}},\"name\":\"children\",\"offsetgroup\":\"children\",\"orientation\":\"h\",\"showlegend\":false,\"text\":[0.0034176230208931638],\"textposition\":\"outside\",\"x\":[0.0034176230208931638],\"xaxis\":\"x\",\"y\":[\"children\"],\"yaxis\":\"y\",\"type\":\"bar\",\"texttemplate\":\"%{text:.2f}\"},{\"alignmentgroup\":\"True\",\"hovertemplate\":\"\\u0417\\u043d\\u0430\\u0447\\u0438\\u043c\\u043e\\u0441\\u0442\\u044c = <b>%{x:.2}</b>\",\"legendgroup\":\"children female\",\"marker\":{\"color\":\"#221150\",\"opacity\":0.8,\"pattern\":{\"shape\":\"\"},\"line\":{\"color\":\"#3F3B3A\",\"width\":1}},\"name\":\"children female\",\"offsetgroup\":\"children female\",\"orientation\":\"h\",\"showlegend\":false,\"text\":[0.003312430017832467],\"textposition\":\"outside\",\"x\":[0.003312430017832467],\"xaxis\":\"x\",\"y\":[\"children female\"],\"yaxis\":\"y\",\"type\":\"bar\",\"texttemplate\":\"%{text:.2f}\"},{\"alignmentgroup\":\"True\",\"hovertemplate\":\"\\u0417\\u043d\\u0430\\u0447\\u0438\\u043c\\u043e\\u0441\\u0442\\u044c = <b>%{x:.2}</b>\",\"legendgroup\":\"female^2\",\"marker\":{\"color\":\"#130d34\",\"opacity\":0.8,\"pattern\":{\"shape\":\"\"},\"line\":{\"color\":\"#3F3B3A\",\"width\":1}},\"name\":\"female^2\",\"offsetgroup\":\"female^2\",\"orientation\":\"h\",\"showlegend\":false,\"text\":[0.0009208507927611657],\"textposition\":\"outside\",\"x\":[0.0009208507927611657],\"xaxis\":\"x\",\"y\":[\"female^2\"],\"yaxis\":\"y\",\"type\":\"bar\",\"texttemplate\":\"%{text:.2f}\"},{\"alignmentgroup\":\"True\",\"hovertemplate\":\"\\u0417\\u043d\\u0430\\u0447\\u0438\\u043c\\u043e\\u0441\\u0442\\u044c = <b>%{x:.2}</b>\",\"legendgroup\":\"female\",\"marker\":{\"color\":\"#06051a\",\"opacity\":0.8,\"pattern\":{\"shape\":\"\"},\"line\":{\"color\":\"#3F3B3A\",\"width\":1}},\"name\":\"female\",\"offsetgroup\":\"female\",\"orientation\":\"h\",\"showlegend\":false,\"text\":[0.0008769645155789132],\"textposition\":\"outside\",\"x\":[0.0008769645155789132],\"xaxis\":\"x\",\"y\":[\"female\"],\"yaxis\":\"y\",\"type\":\"bar\",\"texttemplate\":\"%{text:.2f}\"}],                        {\"template\":{\"data\":{\"barpolar\":[{\"marker\":{\"line\":{\"color\":\"white\",\"width\":0.5},\"pattern\":{\"fillmode\":\"overlay\",\"size\":10,\"solidity\":0.2}},\"type\":\"barpolar\"}],\"bar\":[{\"error_x\":{\"color\":\"#2a3f5f\"},\"error_y\":{\"color\":\"#2a3f5f\"},\"marker\":{\"line\":{\"color\":\"white\",\"width\":0.5},\"pattern\":{\"fillmode\":\"overlay\",\"size\":10,\"solidity\":0.2}},\"type\":\"bar\"}],\"carpet\":[{\"aaxis\":{\"endlinecolor\":\"#2a3f5f\",\"gridcolor\":\"#C8D4E3\",\"linecolor\":\"#C8D4E3\",\"minorgridcolor\":\"#C8D4E3\",\"startlinecolor\":\"#2a3f5f\"},\"baxis\":{\"endlinecolor\":\"#2a3f5f\",\"gridcolor\":\"#C8D4E3\",\"linecolor\":\"#C8D4E3\",\"minorgridcolor\":\"#C8D4E3\",\"startlinecolor\":\"#2a3f5f\"},\"type\":\"carpet\"}],\"choropleth\":[{\"colorbar\":{\"outlinewidth\":0,\"ticks\":\"\"},\"type\":\"choropleth\"}],\"contourcarpet\":[{\"colorbar\":{\"outlinewidth\":0,\"ticks\":\"\"},\"type\":\"contourcarpet\"}],\"contour\":[{\"colorbar\":{\"outlinewidth\":0,\"ticks\":\"\"},\"colorscale\":[[0.0,\"#0d0887\"],[0.1111111111111111,\"#46039f\"],[0.2222222222222222,\"#7201a8\"],[0.3333333333333333,\"#9c179e\"],[0.4444444444444444,\"#bd3786\"],[0.5555555555555556,\"#d8576b\"],[0.6666666666666666,\"#ed7953\"],[0.7777777777777778,\"#fb9f3a\"],[0.8888888888888888,\"#fdca26\"],[1.0,\"#f0f921\"]],\"type\":\"contour\"}],\"heatmapgl\":[{\"colorbar\":{\"outlinewidth\":0,\"ticks\":\"\"},\"colorscale\":[[0.0,\"#0d0887\"],[0.1111111111111111,\"#46039f\"],[0.2222222222222222,\"#7201a8\"],[0.3333333333333333,\"#9c179e\"],[0.4444444444444444,\"#bd3786\"],[0.5555555555555556,\"#d8576b\"],[0.6666666666666666,\"#ed7953\"],[0.7777777777777778,\"#fb9f3a\"],[0.8888888888888888,\"#fdca26\"],[1.0,\"#f0f921\"]],\"type\":\"heatmapgl\"}],\"heatmap\":[{\"colorbar\":{\"outlinewidth\":0,\"ticks\":\"\"},\"colorscale\":[[0.0,\"#0d0887\"],[0.1111111111111111,\"#46039f\"],[0.2222222222222222,\"#7201a8\"],[0.3333333333333333,\"#9c179e\"],[0.4444444444444444,\"#bd3786\"],[0.5555555555555556,\"#d8576b\"],[0.6666666666666666,\"#ed7953\"],[0.7777777777777778,\"#fb9f3a\"],[0.8888888888888888,\"#fdca26\"],[1.0,\"#f0f921\"]],\"type\":\"heatmap\"}],\"histogram2dcontour\":[{\"colorbar\":{\"outlinewidth\":0,\"ticks\":\"\"},\"colorscale\":[[0.0,\"#0d0887\"],[0.1111111111111111,\"#46039f\"],[0.2222222222222222,\"#7201a8\"],[0.3333333333333333,\"#9c179e\"],[0.4444444444444444,\"#bd3786\"],[0.5555555555555556,\"#d8576b\"],[0.6666666666666666,\"#ed7953\"],[0.7777777777777778,\"#fb9f3a\"],[0.8888888888888888,\"#fdca26\"],[1.0,\"#f0f921\"]],\"type\":\"histogram2dcontour\"}],\"histogram2d\":[{\"colorbar\":{\"outlinewidth\":0,\"ticks\":\"\"},\"colorscale\":[[0.0,\"#0d0887\"],[0.1111111111111111,\"#46039f\"],[0.2222222222222222,\"#7201a8\"],[0.3333333333333333,\"#9c179e\"],[0.4444444444444444,\"#bd3786\"],[0.5555555555555556,\"#d8576b\"],[0.6666666666666666,\"#ed7953\"],[0.7777777777777778,\"#fb9f3a\"],[0.8888888888888888,\"#fdca26\"],[1.0,\"#f0f921\"]],\"type\":\"histogram2d\"}],\"histogram\":[{\"marker\":{\"pattern\":{\"fillmode\":\"overlay\",\"size\":10,\"solidity\":0.2}},\"type\":\"histogram\"}],\"mesh3d\":[{\"colorbar\":{\"outlinewidth\":0,\"ticks\":\"\"},\"type\":\"mesh3d\"}],\"parcoords\":[{\"line\":{\"colorbar\":{\"outlinewidth\":0,\"ticks\":\"\"}},\"type\":\"parcoords\"}],\"pie\":[{\"automargin\":true,\"type\":\"pie\"}],\"scatter3d\":[{\"line\":{\"colorbar\":{\"outlinewidth\":0,\"ticks\":\"\"}},\"marker\":{\"colorbar\":{\"outlinewidth\":0,\"ticks\":\"\"}},\"type\":\"scatter3d\"}],\"scattercarpet\":[{\"marker\":{\"colorbar\":{\"outlinewidth\":0,\"ticks\":\"\"}},\"type\":\"scattercarpet\"}],\"scattergeo\":[{\"marker\":{\"colorbar\":{\"outlinewidth\":0,\"ticks\":\"\"}},\"type\":\"scattergeo\"}],\"scattergl\":[{\"marker\":{\"colorbar\":{\"outlinewidth\":0,\"ticks\":\"\"}},\"type\":\"scattergl\"}],\"scattermapbox\":[{\"marker\":{\"colorbar\":{\"outlinewidth\":0,\"ticks\":\"\"}},\"type\":\"scattermapbox\"}],\"scatterpolargl\":[{\"marker\":{\"colorbar\":{\"outlinewidth\":0,\"ticks\":\"\"}},\"type\":\"scatterpolargl\"}],\"scatterpolar\":[{\"marker\":{\"colorbar\":{\"outlinewidth\":0,\"ticks\":\"\"}},\"type\":\"scatterpolar\"}],\"scatter\":[{\"marker\":{\"colorbar\":{\"outlinewidth\":0,\"ticks\":\"\"}},\"type\":\"scatter\"}],\"scatterternary\":[{\"marker\":{\"colorbar\":{\"outlinewidth\":0,\"ticks\":\"\"}},\"type\":\"scatterternary\"}],\"surface\":[{\"colorbar\":{\"outlinewidth\":0,\"ticks\":\"\"},\"colorscale\":[[0.0,\"#0d0887\"],[0.1111111111111111,\"#46039f\"],[0.2222222222222222,\"#7201a8\"],[0.3333333333333333,\"#9c179e\"],[0.4444444444444444,\"#bd3786\"],[0.5555555555555556,\"#d8576b\"],[0.6666666666666666,\"#ed7953\"],[0.7777777777777778,\"#fb9f3a\"],[0.8888888888888888,\"#fdca26\"],[1.0,\"#f0f921\"]],\"type\":\"surface\"}],\"table\":[{\"cells\":{\"fill\":{\"color\":\"#EBF0F8\"},\"line\":{\"color\":\"white\"}},\"header\":{\"fill\":{\"color\":\"#C8D4E3\"},\"line\":{\"color\":\"white\"}},\"type\":\"table\"}]},\"layout\":{\"annotationdefaults\":{\"arrowcolor\":\"#2a3f5f\",\"arrowhead\":0,\"arrowwidth\":1},\"autotypenumbers\":\"strict\",\"coloraxis\":{\"colorbar\":{\"outlinewidth\":0,\"ticks\":\"\"}},\"colorscale\":{\"diverging\":[[0,\"#8e0152\"],[0.1,\"#c51b7d\"],[0.2,\"#de77ae\"],[0.3,\"#f1b6da\"],[0.4,\"#fde0ef\"],[0.5,\"#f7f7f7\"],[0.6,\"#e6f5d0\"],[0.7,\"#b8e186\"],[0.8,\"#7fbc41\"],[0.9,\"#4d9221\"],[1,\"#276419\"]],\"sequential\":[[0.0,\"#0d0887\"],[0.1111111111111111,\"#46039f\"],[0.2222222222222222,\"#7201a8\"],[0.3333333333333333,\"#9c179e\"],[0.4444444444444444,\"#bd3786\"],[0.5555555555555556,\"#d8576b\"],[0.6666666666666666,\"#ed7953\"],[0.7777777777777778,\"#fb9f3a\"],[0.8888888888888888,\"#fdca26\"],[1.0,\"#f0f921\"]],\"sequentialminus\":[[0.0,\"#0d0887\"],[0.1111111111111111,\"#46039f\"],[0.2222222222222222,\"#7201a8\"],[0.3333333333333333,\"#9c179e\"],[0.4444444444444444,\"#bd3786\"],[0.5555555555555556,\"#d8576b\"],[0.6666666666666666,\"#ed7953\"],[0.7777777777777778,\"#fb9f3a\"],[0.8888888888888888,\"#fdca26\"],[1.0,\"#f0f921\"]]},\"colorway\":[\"#636efa\",\"#EF553B\",\"#00cc96\",\"#ab63fa\",\"#FFA15A\",\"#19d3f3\",\"#FF6692\",\"#B6E880\",\"#FF97FF\",\"#FECB52\"],\"font\":{\"color\":\"#2a3f5f\"},\"geo\":{\"bgcolor\":\"white\",\"lakecolor\":\"white\",\"landcolor\":\"white\",\"showlakes\":true,\"showland\":true,\"subunitcolor\":\"#C8D4E3\"},\"hoverlabel\":{\"align\":\"left\"},\"hovermode\":\"closest\",\"mapbox\":{\"style\":\"light\"},\"paper_bgcolor\":\"white\",\"plot_bgcolor\":\"white\",\"polar\":{\"angularaxis\":{\"gridcolor\":\"#EBF0F8\",\"linecolor\":\"#EBF0F8\",\"ticks\":\"\"},\"bgcolor\":\"white\",\"radialaxis\":{\"gridcolor\":\"#EBF0F8\",\"linecolor\":\"#EBF0F8\",\"ticks\":\"\"}},\"scene\":{\"xaxis\":{\"backgroundcolor\":\"white\",\"gridcolor\":\"#DFE8F3\",\"gridwidth\":2,\"linecolor\":\"#EBF0F8\",\"showbackground\":true,\"ticks\":\"\",\"zerolinecolor\":\"#EBF0F8\"},\"yaxis\":{\"backgroundcolor\":\"white\",\"gridcolor\":\"#DFE8F3\",\"gridwidth\":2,\"linecolor\":\"#EBF0F8\",\"showbackground\":true,\"ticks\":\"\",\"zerolinecolor\":\"#EBF0F8\"},\"zaxis\":{\"backgroundcolor\":\"white\",\"gridcolor\":\"#DFE8F3\",\"gridwidth\":2,\"linecolor\":\"#EBF0F8\",\"showbackground\":true,\"ticks\":\"\",\"zerolinecolor\":\"#EBF0F8\"}},\"shapedefaults\":{\"line\":{\"color\":\"#2a3f5f\"}},\"ternary\":{\"aaxis\":{\"gridcolor\":\"#DFE8F3\",\"linecolor\":\"#A2B1C6\",\"ticks\":\"\"},\"baxis\":{\"gridcolor\":\"#DFE8F3\",\"linecolor\":\"#A2B1C6\",\"ticks\":\"\"},\"bgcolor\":\"white\",\"caxis\":{\"gridcolor\":\"#DFE8F3\",\"linecolor\":\"#A2B1C6\",\"ticks\":\"\"}},\"title\":{\"x\":0.05},\"xaxis\":{\"automargin\":true,\"gridcolor\":\"#EBF0F8\",\"linecolor\":\"#EBF0F8\",\"ticks\":\"\",\"title\":{\"standoff\":15},\"zerolinecolor\":\"#EBF0F8\",\"zerolinewidth\":2},\"yaxis\":{\"automargin\":true,\"gridcolor\":\"#EBF0F8\",\"linecolor\":\"#EBF0F8\",\"ticks\":\"\",\"title\":{\"standoff\":15},\"zerolinecolor\":\"#EBF0F8\",\"zerolinewidth\":2}}},\"xaxis\":{\"anchor\":\"y\",\"domain\":[0.0,1.0],\"title\":{\"text\":\"\\u0421\\u0440\\u0435\\u0434\\u043d\\u044f\\u044f \\u0437\\u043d\\u0430\\u0447\\u0438\\u043c\\u043e\\u0441\\u0442\\u044c\"},\"showgrid\":true,\"showline\":true,\"linecolor\":\"#9A9A9A\",\"gridcolor\":\"#F5F5F5\"},\"yaxis\":{\"anchor\":\"x\",\"domain\":[0.0,1.0],\"title\":{\"text\":\"\"},\"categoryorder\":\"array\",\"categoryarray\":[\"female\",\"female^2\",\"children female\",\"children\",\"children^2\",\"bmi female\",\"age female\",\"bmi children\",\"age children\",\"female smoker_yes\",\"children smoker_yes\",\"bmi\",\"bmi^2\",\"age^2\",\"age\",\"age bmi\",\"smoker_yes\",\"smoker_yes^2\",\"age smoker_yes\",\"bmi smoker_yes\"],\"linecolor\":\"#D8D8D8\"},\"legend\":{\"title\":{\"text\":\"index\"},\"tracegroupgap\":0},\"margin\":{\"t\":60},\"barmode\":\"relative\",\"height\":700,\"width\":700,\"title\":{\"text\":\"\\u0417\\u043d\\u0430\\u0447\\u0438\\u043c\\u043e\\u0441\\u0442\\u044c \\u0444\\u0430\\u043a\\u0442\\u043e\\u0440\\u043e\\u0432 \\u043f\\u0440\\u0438 \\u043e\\u0446\\u0435\\u043d\\u043a\\u0435 \\u0441\\u0442\\u043e\\u0438\\u043c\\u043e\\u0441\\u0442\\u0438 \\u043c\\u0435\\u0434\\u0438\\u0446\\u0438\\u043d\\u0441\\u043a\\u043e\\u0439 \\u0441\\u0442\\u0440\\u0430\\u0445\\u043e\\u0432\\u043a\\u0438\"},\"coloraxis\":{\"showscale\":false},\"font\":{\"color\":\"#303030\"}},                        {\"responsive\": true}                    ).then(function(){\n",
       "                            \n",
       "var gd = document.getElementById('025313b7-09ad-40c6-b4be-642cfa2d5e64');\n",
       "var x = new MutationObserver(function (mutations, observer) {{\n",
       "        var display = window.getComputedStyle(gd).display;\n",
       "        if (!display || display === 'none') {{\n",
       "            console.log([gd, 'removed!']);\n",
       "            Plotly.purge(gd);\n",
       "            observer.disconnect();\n",
       "        }}\n",
       "}});\n",
       "\n",
       "// Listen for the removal of the full notebook cells\n",
       "var notebookContainer = gd.closest('#notebook-container');\n",
       "if (notebookContainer) {{\n",
       "    x.observe(notebookContainer, {childList: true});\n",
       "}}\n",
       "\n",
       "// Listen for the clearing of the current output cell\n",
       "var outputEl = gd.closest('.output');\n",
       "if (outputEl) {{\n",
       "    x.observe(outputEl, {childList: true});\n",
       "}}\n",
       "\n",
       "                        })                };                });            </script>        </div>"
      ]
     },
     "metadata": {},
     "output_type": "display_data"
    }
   ],
   "source": [
    "col=sns.color_palette(\"magma\", 20).as_hex()[::-1]\n",
    "feat_importance.set_index(X_train.columns, inplace=True)\n",
    "ft=pd.DataFrame({\"Средняя значимость\":feat_importance.mean(axis=1)})\n",
    "plot_df=ft.nlargest(20, columns=\"Средняя значимость\").sort_values(by=\"Средняя значимость\",ascending=False)\n",
    "fig = px.bar(plot_df, x=\"Средняя значимость\", y=plot_df.index, text=\"Средняя значимость\", height=700,\n",
    "             color=plot_df.index,width=700,opacity=.8,color_discrete_sequence=col)\n",
    "fig.update_traces(texttemplate='%{text:.2f}', textposition='outside',\n",
    "                  marker_line=dict(width=1, color='#3F3B3A'), showlegend=False, \n",
    "                  hovertemplate='Значимость = <b>%{x:.2}</b>')\n",
    "fig.update_layout(title_text='Значимость факторов при оценке стоимости медицинской страховки', \n",
    "                  coloraxis_showscale=False, yaxis_title=\"\", font_color=\"#303030\", yaxis_linecolor=\"#D8D8D8\", \n",
    "                  xaxis=dict(title=\"Средняя значимость\", showgrid=True, showline=True, \n",
    "                             linecolor=\"#9A9A9A\", gridcolor=\"#F5F5F5\"))"
   ]
  }
 ],
 "metadata": {
  "interpreter": {
   "hash": "50ff43e8070212667bfca142fe2278bb73e035152a7dcb29e242b66042ec9537"
  },
  "kernelspec": {
   "display_name": "Python 3.9.7 ('base')",
   "language": "python",
   "name": "python3"
  },
  "language_info": {
   "codemirror_mode": {
    "name": "ipython",
    "version": 3
   },
   "file_extension": ".py",
   "mimetype": "text/x-python",
   "name": "python",
   "nbconvert_exporter": "python",
   "pygments_lexer": "ipython3",
   "version": "3.9.7"
  },
  "orig_nbformat": 4
 },
 "nbformat": 4,
 "nbformat_minor": 2
}
