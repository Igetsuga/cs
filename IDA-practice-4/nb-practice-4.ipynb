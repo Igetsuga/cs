{
 "cells": [
  {
   "cell_type": "markdown",
   "metadata": {},
   "source": [
    "## Практическая работа №4\n",
    "##### Сиразетдинов Рустем (Вариант - 20)"
   ]
  },
  {
   "cell_type": "markdown",
   "metadata": {},
   "source": [
    "1.0 Подготовка датасета для последующего решения задачи"
   ]
  },
  {
   "cell_type": "code",
   "execution_count": 1,
   "metadata": {},
   "outputs": [],
   "source": [
    "import pandas as pd\n",
    "import numpy as np\n",
    "import seaborn as sns\n",
    "import matplotlib.pyplot as plt\n",
    "from sklearn.decomposition import PCA\n",
    "from sklearn.linear_model import LogisticRegression\n",
    "from sklearn.model_selection import train_test_split, GridSearchCV, RandomizedSearchCV, learning_curve, ShuffleSplit, cross_val_score\n",
    "from sklearn.metrics import confusion_matrix\n",
    "from sklearn.metrics import f1_score, roc_auc_score, roc_curve\n",
    "from sklearn.preprocessing import StandardScaler, LabelEncoder\n",
    "from sklearn.pipeline import make_pipeline\n",
    "# from pandas_profiling import ProfileReport\n",
    "from sklearn.impute import KNNImputer\n",
    "from sklearn.ensemble import RandomForestClassifier\n",
    "import warnings\n",
    "warnings.filterwarnings(\"ignore\")\n",
    "# import lightgbm as lgb\n",
    "from sklearn import svm\n",
    "from scipy.special import boxcox1p\n",
    "from scipy.stats import boxcox_normmax\n",
    "pd.set_option('display.max_columns', 50)\n",
    "pd.set_option('display.max_rows', 100)"
   ]
  },
  {
   "cell_type": "code",
   "execution_count": 2,
   "metadata": {},
   "outputs": [
    {
     "data": {
      "text/html": [
       "<div>\n",
       "<style scoped>\n",
       "    .dataframe tbody tr th:only-of-type {\n",
       "        vertical-align: middle;\n",
       "    }\n",
       "\n",
       "    .dataframe tbody tr th {\n",
       "        vertical-align: top;\n",
       "    }\n",
       "\n",
       "    .dataframe thead th {\n",
       "        text-align: right;\n",
       "    }\n",
       "</style>\n",
       "<table border=\"1\" class=\"dataframe\">\n",
       "  <thead>\n",
       "    <tr style=\"text-align: right;\">\n",
       "      <th></th>\n",
       "      <th>Customer_Age</th>\n",
       "      <th>Gender</th>\n",
       "      <th>Education_Level</th>\n",
       "      <th>Income_Category</th>\n",
       "      <th>Months_on_book</th>\n",
       "    </tr>\n",
       "    <tr>\n",
       "      <th>CLIENTNUM</th>\n",
       "      <th></th>\n",
       "      <th></th>\n",
       "      <th></th>\n",
       "      <th></th>\n",
       "      <th></th>\n",
       "    </tr>\n",
       "  </thead>\n",
       "  <tbody>\n",
       "    <tr>\n",
       "      <th>768805383</th>\n",
       "      <td>45</td>\n",
       "      <td>1</td>\n",
       "      <td>2</td>\n",
       "      <td>3</td>\n",
       "      <td>39</td>\n",
       "    </tr>\n",
       "    <tr>\n",
       "      <th>818770008</th>\n",
       "      <td>49</td>\n",
       "      <td>0</td>\n",
       "      <td>3</td>\n",
       "      <td>1</td>\n",
       "      <td>44</td>\n",
       "    </tr>\n",
       "    <tr>\n",
       "      <th>713982108</th>\n",
       "      <td>51</td>\n",
       "      <td>1</td>\n",
       "      <td>3</td>\n",
       "      <td>4</td>\n",
       "      <td>36</td>\n",
       "    </tr>\n",
       "    <tr>\n",
       "      <th>769911858</th>\n",
       "      <td>40</td>\n",
       "      <td>0</td>\n",
       "      <td>2</td>\n",
       "      <td>1</td>\n",
       "      <td>34</td>\n",
       "    </tr>\n",
       "    <tr>\n",
       "      <th>709106358</th>\n",
       "      <td>40</td>\n",
       "      <td>1</td>\n",
       "      <td>1</td>\n",
       "      <td>3</td>\n",
       "      <td>21</td>\n",
       "    </tr>\n",
       "    <tr>\n",
       "      <th>...</th>\n",
       "      <td>...</td>\n",
       "      <td>...</td>\n",
       "      <td>...</td>\n",
       "      <td>...</td>\n",
       "      <td>...</td>\n",
       "    </tr>\n",
       "    <tr>\n",
       "      <th>772366833</th>\n",
       "      <td>50</td>\n",
       "      <td>1</td>\n",
       "      <td>3</td>\n",
       "      <td>2</td>\n",
       "      <td>40</td>\n",
       "    </tr>\n",
       "    <tr>\n",
       "      <th>710638233</th>\n",
       "      <td>41</td>\n",
       "      <td>1</td>\n",
       "      <td>1</td>\n",
       "      <td>2</td>\n",
       "      <td>25</td>\n",
       "    </tr>\n",
       "    <tr>\n",
       "      <th>716506083</th>\n",
       "      <td>44</td>\n",
       "      <td>0</td>\n",
       "      <td>2</td>\n",
       "      <td>1</td>\n",
       "      <td>36</td>\n",
       "    </tr>\n",
       "    <tr>\n",
       "      <th>717406983</th>\n",
       "      <td>30</td>\n",
       "      <td>1</td>\n",
       "      <td>3</td>\n",
       "      <td>2</td>\n",
       "      <td>36</td>\n",
       "    </tr>\n",
       "    <tr>\n",
       "      <th>714337233</th>\n",
       "      <td>43</td>\n",
       "      <td>0</td>\n",
       "      <td>3</td>\n",
       "      <td>1</td>\n",
       "      <td>25</td>\n",
       "    </tr>\n",
       "  </tbody>\n",
       "</table>\n",
       "<p>10127 rows × 5 columns</p>\n",
       "</div>"
      ],
      "text/plain": [
       "           Customer_Age  Gender Education_Level Income_Category  \\\n",
       "CLIENTNUM                                                         \n",
       "768805383            45       1               2               3   \n",
       "818770008            49       0               3               1   \n",
       "713982108            51       1               3               4   \n",
       "769911858            40       0               2               1   \n",
       "709106358            40       1               1               3   \n",
       "...                 ...     ...             ...             ...   \n",
       "772366833            50       1               3               2   \n",
       "710638233            41       1               1               2   \n",
       "716506083            44       0               2               1   \n",
       "717406983            30       1               3               2   \n",
       "714337233            43       0               3               1   \n",
       "\n",
       "           Months_on_book  \n",
       "CLIENTNUM                  \n",
       "768805383              39  \n",
       "818770008              44  \n",
       "713982108              36  \n",
       "769911858              34  \n",
       "709106358              21  \n",
       "...                   ...  \n",
       "772366833              40  \n",
       "710638233              25  \n",
       "716506083              36  \n",
       "717406983              36  \n",
       "714337233              25  \n",
       "\n",
       "[10127 rows x 5 columns]"
      ]
     },
     "execution_count": 2,
     "metadata": {},
     "output_type": "execute_result"
    }
   ],
   "source": [
    "# import pandas\n",
    "# import numpy as np\n",
    "# import io\n",
    "\n",
    "data = pd.read_csv('C:\\\\Users\\\\averu\\\\Documents\\\\git_local\\\\programming-practice\\\\IDA-practice-4\\\\BankChurners.csv', index_col='CLIENTNUM')\n",
    "\n",
    "bank_df = data.loc[:, data.columns.isin(['Marital_Status', 'Credit_Limit', 'Customer_Age', 'Gender', 'Education_Level', 'Income_Category', 'Months_on_book'])]\n",
    "\n",
    "bank_df = bank_df.dropna()\n",
    "\n",
    "bank_df['Gender']          = np.where(bank_df['Gender'] == 'M', 1, 0)\n",
    "\n",
    "bank_df['Education_Level'] = np.where(bank_df['Education_Level'] == 'Unknown' , 1 , bank_df['Education_Level'])\n",
    "bank_df['Education_Level'] = np.where(bank_df['Education_Level'] == 'Uneducated' , 1 , bank_df['Education_Level'])\n",
    "bank_df['Education_Level'] = np.where(bank_df['Education_Level'] == 'High School' , 2 , bank_df['Education_Level'])\n",
    "bank_df['Education_Level'] = np.where(bank_df['Education_Level'] == 'Graduate' , 3 , bank_df['Education_Level'])\n",
    "bank_df['Education_Level'] = np.where(bank_df['Education_Level'] == 'College', 3 , bank_df['Education_Level'])\n",
    "bank_df['Education_Level'] = np.where(bank_df['Education_Level'] == 'Post-Graduate' , 4 , bank_df['Education_Level'])\n",
    "bank_df['Education_Level'] = np.where(bank_df['Education_Level'] == 'Doctorate' , 4 , bank_df['Education_Level'])\n",
    "\n",
    "bank_df['Income_Category'] = np.where(bank_df['Income_Category'] == 'Unknown' , 0, bank_df['Income_Category'])\n",
    "bank_df['Income_Category'] = np.where(bank_df['Income_Category'] == 'Less than $40K' , 1, bank_df['Income_Category'])\n",
    "bank_df['Income_Category'] = np.where(bank_df['Income_Category'] == '$40K - $60K' , 2, bank_df['Income_Category'])\n",
    "bank_df['Income_Category'] = np.where(bank_df['Income_Category'] == '$60K - $80K' , 3, bank_df['Income_Category'])\n",
    "bank_df['Income_Category'] = np.where(bank_df['Income_Category'] == '$80K - $120K' , 4, bank_df['Income_Category'])\n",
    "bank_df['Income_Category'] = np.where(bank_df['Income_Category'] == '$120K +' , 5, bank_df['Income_Category'])\n",
    "\n",
    "bank_df['Credit_Limit']    = np.where([ (float(x) > 10000) for x in bank_df['Credit_Limit'] ] , 1 , 0)\n",
    "# bank_df['Credit_Limit']    = [ (float(x) > 10000) for x in bank_df['Credit_Limit'] ]\n",
    "\n",
    "bank_df['Marital_Status'] = np.where(bank_df['Marital_Status'] == 'Married' , False, bank_df['Marital_Status'])\n",
    "bank_df['Marital_Status'] = np.where(bank_df['Marital_Status'] == 'Single' , True, bank_df['Marital_Status'])\n",
    "bank_df['Marital_Status'] = np.where(bank_df['Marital_Status'] == 'Divorced' , True, bank_df['Marital_Status'])\n",
    "bank_df['Marital_Status'] = np.where(bank_df['Marital_Status'] == 'Unknown' , True, bank_df['Marital_Status'])\n",
    "\n",
    "M_status = bank_df.loc[:, bank_df.columns.isin(['Marital_Status'])]\n",
    "# settings = bank_df.loc[:, bank_df.columns.isin(['Credit_Limit', 'Customer_Age', 'Gender', 'Education_Level', 'Income_Category' , 'Months_on_book'])]\n",
    "settings = bank_df.loc[:, bank_df.columns.isin(['Customer_Age', 'Gender', 'Education_Level', 'Income_Category' , 'Months_on_book'])]\n",
    "\n",
    "settings"
   ]
  },
  {
   "cell_type": "code",
   "execution_count": 3,
   "metadata": {},
   "outputs": [],
   "source": [
    "# Standardize\n",
    "std = StandardScaler()\n",
    "std_df = pd.DataFrame(std.fit_transform(bank_df.iloc[:,1:]), \n",
    "                      index = bank_df.index, \n",
    "                      columns = bank_df.columns[1:])\n",
    "std_bank_df = pd.concat([bank_df.iloc[:,0], std_df], axis=1)"
   ]
  },
  {
   "cell_type": "code",
   "execution_count": 6,
   "metadata": {},
   "outputs": [],
   "source": [
    "# Разделение выборки на обучающаю и тестовую\n",
    "# x_train, x_test, y_train, y_test = train_test_split(settings, M_status, test_size=0.35, random_state=2020)\n",
    "# SVM\n",
    "X_train, X_test, y_train, y_test = train_test_split(bank_df.iloc[:,1:], bank_df.iloc[:,0], test_size=0.25, random_state=42)\n",
    "svm_clf = svm.SVC()"
   ]
  },
  {
   "cell_type": "code",
   "execution_count": 7,
   "metadata": {},
   "outputs": [
    {
     "name": "stdout",
     "output_type": "stream",
     "text": [
      "accuracy:0.09557577316774642\n",
      "f1:nan\n",
      "precision:nan\n",
      "recall:nan\n"
     ]
    }
   ],
   "source": [
    "print( \"accuracy:\"+str(np.average(cross_val_score(svm_clf, X_test, y_test, scoring=  'accuracy'))))\n",
    "print(       \"f1:\"+str(np.average(cross_val_score(svm_clf, X_test, y_test, scoring=  'f1'))))\n",
    "print(\"precision:\"+str(np.average(cross_val_score(svm_clf, X_test, y_test, scoring=  'precision'))))\n",
    "print(   \"recall:\"+str(np.average(cross_val_score(svm_clf, X_test, y_test, scoring=  'recall'))))\n"
   ]
  },
  {
   "cell_type": "markdown",
   "metadata": {},
   "source": [
    "1.1 Подключение необходимых библиотек"
   ]
  },
  {
   "cell_type": "code",
   "execution_count": 70,
   "metadata": {},
   "outputs": [],
   "source": [
    "# from sklearn.linear_model import SGDClassifier\n",
    "# from sklearn.linear_model import LogisticRegression\n",
    "# from sklearn.model_selection import train_test_split\n",
    "# from sklearn import datasets\n"
   ]
  },
  {
   "cell_type": "markdown",
   "metadata": {},
   "source": [
    "1.2 Построение классификатора SVM"
   ]
  },
  {
   "cell_type": "code",
   "execution_count": null,
   "metadata": {},
   "outputs": [],
   "source": []
  },
  {
   "cell_type": "code",
   "execution_count": null,
   "metadata": {},
   "outputs": [],
   "source": [
    "clf = SGDClassifier(loss=\"log\", penalty=\"l2\")\n",
    "# y_train__ = y_train.ravel()\n",
    "clf = clf.fit(x_train, y_train)"
   ]
  },
  {
   "cell_type": "code",
   "execution_count": null,
   "metadata": {},
   "outputs": [],
   "source": [
    "y_pred = clf.predict(x_test)\n",
    "clf.score(x_test, y_test)"
   ]
  },
  {
   "cell_type": "code",
   "execution_count": null,
   "metadata": {},
   "outputs": [],
   "source": [
    "clf2 = LogisticRegression(random_state=0, solver='lbfgs', multi_class='multinomial')\n",
    "clf2.fit(x_train, y_train)"
   ]
  },
  {
   "cell_type": "code",
   "execution_count": null,
   "metadata": {},
   "outputs": [],
   "source": [
    "y_pred = clf2.predict(x_test)\n",
    "clf2.score(x_test, y_test)"
   ]
  },
  {
   "cell_type": "markdown",
   "metadata": {},
   "source": [
    "1.3 Оценка точности построенного классификатора с помощью метрик: precision, recall и F1"
   ]
  },
  {
   "cell_type": "code",
   "execution_count": null,
   "metadata": {},
   "outputs": [],
   "source": [
    "from sklearn.model_selection import cross_val_score\n",
    "print(\"accuracy:\"+str(np.average(cross_val_score(clf, x_test, y_test, scoring='accuracy'))))\n",
    "print(\"f1:\"+str(np.average(cross_val_score(clf, x_test, y_test, scoring='f1'))))\n",
    "print(\"precision:\"+str(np.average(cross_val_score(clf, x_test, y_test, scoring='precision'))))\n",
    "print(\"recall:\"+str(np.average(cross_val_score(clf, x_test, y_test, scoring='recall'))))"
   ]
  },
  {
   "cell_type": "markdown",
   "metadata": {},
   "source": [
    "2.1 Построение классификатора типа \"Random Forest\" для нашей задачи классификации"
   ]
  },
  {
   "cell_type": "code",
   "execution_count": null,
   "metadata": {},
   "outputs": [],
   "source": [
    "from sklearn.model_selection import train_test_split\n",
    "from sklearn.tree import DecisionTreeClassifier\n",
    "x_train, x_validation, y_train, y_validation = train_test_split(settings, M_status, test_size=.35, random_state=1)\n",
    "\n",
    "tree = DecisionTreeClassifier(random_state=241, max_depth=5)  # наилучшая максимальная глубина\n",
    "tree = tree.fit(x_train, y_train)\n",
    "# for i in range(3, 30):\n",
    "#     tree = DecisionTreeClassifier(random_state=241, max_depth = i)\n",
    "#     tree = tree.fit(x_train, y_train)\n",
    "#     print(str(i) + \": \" + str(tree.score(x_validation, y_validation)))"
   ]
  },
  {
   "cell_type": "code",
   "execution_count": null,
   "metadata": {},
   "outputs": [],
   "source": [
    "from sklearn.metrics import accuracy_score\n",
    "validation_acc = accuracy_score(y_validation, tree.predict(x_validation))\n",
    "print('Точность на валидации:', validation_acc)\n",
    "\n",
    "\n",
    "from sklearn.model_selection import cross_val_score\n",
    "print(\"accuracy:\"+str(np.average(cross_val_score(tree, x_validation, y_validation, scoring='accuracy'))))\n",
    "print(\"f1:\"+str(np.average(cross_val_score(tree, x_validation, y_validation, scoring='f1'))))\n",
    "print(\"precision:\"+str(np.average(cross_val_score(tree, x_validation, y_validation, scoring='precision'))))\n",
    "print(\"recall:\"+str(np.average(cross_val_score(tree, x_validation, y_validation, scoring='recall'))))"
   ]
  },
  {
   "cell_type": "code",
   "execution_count": null,
   "metadata": {},
   "outputs": [],
   "source": [
    "from sklearn.ensemble import RandomForestClassifier \n",
    "from sklearn.model_selection import GridSearchCV\n",
    "\n",
    "param_grid = { 'n_estimators': [200, 300, 400],'max_features': ['auto'], 'max_depth' : [5], 'criterion' :['gini']}\n",
    "\n",
    "RFC = GridSearchCV(estimator=RandomForestClassifier(), param_grid=param_grid, cv= 5, refit = True) \n",
    "RFC.fit(x_train, y_train)\n"
   ]
  },
  {
   "cell_type": "markdown",
   "metadata": {},
   "source": [
    "1.3 Оценка точности построенного классификатора с помощью метрик: precision, recall и F1"
   ]
  },
  {
   "cell_type": "code",
   "execution_count": null,
   "metadata": {},
   "outputs": [],
   "source": [
    "print(\"accuracy:\"+str(np.average(cross_val_score(RFC.best_estimator_, x_validation, y_validation, scoring='accuracy'))))\n",
    "print(\"f1:\"+str(np.average(cross_val_score(RFC.best_estimator_, x_validation, y_validation, scoring='f1'))))\n",
    "print(\"precision:\"+str(np.average(RFC(tree.best_estimator, x_validation, y_validation, scoring='precision'))))\n",
    "print(\"recall:\"+str(np.average(RFC(tree.best_estimator, x_validation, y_validation, scoring='recall'))))"
   ]
  }
 ],
 "metadata": {
  "interpreter": {
   "hash": "50ff43e8070212667bfca142fe2278bb73e035152a7dcb29e242b66042ec9537"
  },
  "kernelspec": {
   "display_name": "Python 3.9.7 ('base')",
   "language": "python",
   "name": "python3"
  },
  "language_info": {
   "codemirror_mode": {
    "name": "ipython",
    "version": 3
   },
   "file_extension": ".py",
   "mimetype": "text/x-python",
   "name": "python",
   "nbconvert_exporter": "python",
   "pygments_lexer": "ipython3",
   "version": "3.9.7"
  },
  "orig_nbformat": 4
 },
 "nbformat": 4,
 "nbformat_minor": 2
}
