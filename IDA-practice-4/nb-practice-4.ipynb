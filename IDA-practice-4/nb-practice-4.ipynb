{
 "cells": [
  {
   "cell_type": "markdown",
   "metadata": {},
   "source": [
    "## Практическая работа №4\n",
    "##### Сиразетдинов Рустем (Вариант - 20)"
   ]
  },
  {
   "cell_type": "markdown",
   "metadata": {},
   "source": [
    "1.0 Подготовка датасета для последующего решения задачи"
   ]
  },
  {
   "cell_type": "code",
   "execution_count": 75,
   "metadata": {},
   "outputs": [
    {
     "data": {
      "text/html": [
       "<div>\n",
       "<style scoped>\n",
       "    .dataframe tbody tr th:only-of-type {\n",
       "        vertical-align: middle;\n",
       "    }\n",
       "\n",
       "    .dataframe tbody tr th {\n",
       "        vertical-align: top;\n",
       "    }\n",
       "\n",
       "    .dataframe thead th {\n",
       "        text-align: right;\n",
       "    }\n",
       "</style>\n",
       "<table border=\"1\" class=\"dataframe\">\n",
       "  <thead>\n",
       "    <tr style=\"text-align: right;\">\n",
       "      <th></th>\n",
       "      <th>Customer_Age</th>\n",
       "      <th>Gender</th>\n",
       "      <th>Education_Level</th>\n",
       "      <th>Income_Category</th>\n",
       "      <th>Months_on_book</th>\n",
       "    </tr>\n",
       "    <tr>\n",
       "      <th>CLIENTNUM</th>\n",
       "      <th></th>\n",
       "      <th></th>\n",
       "      <th></th>\n",
       "      <th></th>\n",
       "      <th></th>\n",
       "    </tr>\n",
       "  </thead>\n",
       "  <tbody>\n",
       "    <tr>\n",
       "      <th>768805383</th>\n",
       "      <td>45</td>\n",
       "      <td>1</td>\n",
       "      <td>2</td>\n",
       "      <td>3</td>\n",
       "      <td>39</td>\n",
       "    </tr>\n",
       "    <tr>\n",
       "      <th>818770008</th>\n",
       "      <td>49</td>\n",
       "      <td>0</td>\n",
       "      <td>3</td>\n",
       "      <td>1</td>\n",
       "      <td>44</td>\n",
       "    </tr>\n",
       "    <tr>\n",
       "      <th>713982108</th>\n",
       "      <td>51</td>\n",
       "      <td>1</td>\n",
       "      <td>3</td>\n",
       "      <td>4</td>\n",
       "      <td>36</td>\n",
       "    </tr>\n",
       "    <tr>\n",
       "      <th>769911858</th>\n",
       "      <td>40</td>\n",
       "      <td>0</td>\n",
       "      <td>2</td>\n",
       "      <td>1</td>\n",
       "      <td>34</td>\n",
       "    </tr>\n",
       "    <tr>\n",
       "      <th>709106358</th>\n",
       "      <td>40</td>\n",
       "      <td>1</td>\n",
       "      <td>1</td>\n",
       "      <td>3</td>\n",
       "      <td>21</td>\n",
       "    </tr>\n",
       "    <tr>\n",
       "      <th>...</th>\n",
       "      <td>...</td>\n",
       "      <td>...</td>\n",
       "      <td>...</td>\n",
       "      <td>...</td>\n",
       "      <td>...</td>\n",
       "    </tr>\n",
       "    <tr>\n",
       "      <th>772366833</th>\n",
       "      <td>50</td>\n",
       "      <td>1</td>\n",
       "      <td>3</td>\n",
       "      <td>2</td>\n",
       "      <td>40</td>\n",
       "    </tr>\n",
       "    <tr>\n",
       "      <th>710638233</th>\n",
       "      <td>41</td>\n",
       "      <td>1</td>\n",
       "      <td>1</td>\n",
       "      <td>2</td>\n",
       "      <td>25</td>\n",
       "    </tr>\n",
       "    <tr>\n",
       "      <th>716506083</th>\n",
       "      <td>44</td>\n",
       "      <td>0</td>\n",
       "      <td>2</td>\n",
       "      <td>1</td>\n",
       "      <td>36</td>\n",
       "    </tr>\n",
       "    <tr>\n",
       "      <th>717406983</th>\n",
       "      <td>30</td>\n",
       "      <td>1</td>\n",
       "      <td>3</td>\n",
       "      <td>2</td>\n",
       "      <td>36</td>\n",
       "    </tr>\n",
       "    <tr>\n",
       "      <th>714337233</th>\n",
       "      <td>43</td>\n",
       "      <td>0</td>\n",
       "      <td>3</td>\n",
       "      <td>1</td>\n",
       "      <td>25</td>\n",
       "    </tr>\n",
       "  </tbody>\n",
       "</table>\n",
       "<p>10127 rows × 5 columns</p>\n",
       "</div>"
      ],
      "text/plain": [
       "           Customer_Age  Gender Education_Level Income_Category  \\\n",
       "CLIENTNUM                                                         \n",
       "768805383            45       1               2               3   \n",
       "818770008            49       0               3               1   \n",
       "713982108            51       1               3               4   \n",
       "769911858            40       0               2               1   \n",
       "709106358            40       1               1               3   \n",
       "...                 ...     ...             ...             ...   \n",
       "772366833            50       1               3               2   \n",
       "710638233            41       1               1               2   \n",
       "716506083            44       0               2               1   \n",
       "717406983            30       1               3               2   \n",
       "714337233            43       0               3               1   \n",
       "\n",
       "           Months_on_book  \n",
       "CLIENTNUM                  \n",
       "768805383              39  \n",
       "818770008              44  \n",
       "713982108              36  \n",
       "769911858              34  \n",
       "709106358              21  \n",
       "...                   ...  \n",
       "772366833              40  \n",
       "710638233              25  \n",
       "716506083              36  \n",
       "717406983              36  \n",
       "714337233              25  \n",
       "\n",
       "[10127 rows x 5 columns]"
      ]
     },
     "execution_count": 75,
     "metadata": {},
     "output_type": "execute_result"
    }
   ],
   "source": [
    "import pandas\n",
    "import numpy as np\n",
    "import io\n",
    "\n",
    "data = pandas.read_csv('C:\\\\Users\\\\averu\\\\Documents\\\\git_local\\\\programming-practice\\\\IDA-practice-4\\\\BankChurners.csv', index_col='CLIENTNUM')\n",
    "\n",
    "data_set = data.loc[:, data.columns.isin(['Marital_Status', 'Credit_Limit', 'Customer_Age', 'Gender', 'Education_Level', 'Income_Category', 'Months_on_book'])]\n",
    "\n",
    "data_set = data_set.dropna()\n",
    "\n",
    "data_set['Gender']          = np.where(data_set['Gender'] == 'M', 1, 0)\n",
    "\n",
    "data_set['Education_Level'] = np.where(data_set['Education_Level'] == 'Unknown' , 1 , data_set['Education_Level'])\n",
    "data_set['Education_Level'] = np.where(data_set['Education_Level'] == 'Uneducated' , 1 , data_set['Education_Level'])\n",
    "data_set['Education_Level'] = np.where(data_set['Education_Level'] == 'High School' , 2 , data_set['Education_Level'])\n",
    "data_set['Education_Level'] = np.where(data_set['Education_Level'] == 'Graduate' , 3 , data_set['Education_Level'])\n",
    "data_set['Education_Level'] = np.where(data_set['Education_Level'] == 'College', 3 , data_set['Education_Level'])\n",
    "data_set['Education_Level'] = np.where(data_set['Education_Level'] == 'Post-Graduate' , 4 , data_set['Education_Level'])\n",
    "data_set['Education_Level'] = np.where(data_set['Education_Level'] == 'Doctorate' , 4 , data_set['Education_Level'])\n",
    "\n",
    "data_set['Income_Category'] = np.where(data_set['Income_Category'] == 'Unknown' , 0, data_set['Income_Category'])\n",
    "data_set['Income_Category'] = np.where(data_set['Income_Category'] == 'Less than $40K' , 1, data_set['Income_Category'])\n",
    "data_set['Income_Category'] = np.where(data_set['Income_Category'] == '$40K - $60K' , 2, data_set['Income_Category'])\n",
    "data_set['Income_Category'] = np.where(data_set['Income_Category'] == '$60K - $80K' , 3, data_set['Income_Category'])\n",
    "data_set['Income_Category'] = np.where(data_set['Income_Category'] == '$80K - $120K' , 4, data_set['Income_Category'])\n",
    "data_set['Income_Category'] = np.where(data_set['Income_Category'] == '$120K +' , 5, data_set['Income_Category'])\n",
    "\n",
    "data_set['Credit_Limit']    = np.where([ (float(x) > 10000) for x in data_set['Credit_Limit'] ] , 1 , 0)\n",
    "# data_set['Credit_Limit']    = [ (float(x) > 10000) for x in data_set['Credit_Limit'] ]\n",
    "\n",
    "data_set['Marital_Status'] = np.where(data_set['Marital_Status'] == 'Married' , False, data_set['Marital_Status'])\n",
    "data_set['Marital_Status'] = np.where(data_set['Marital_Status'] == 'Single' , True, data_set['Marital_Status'])\n",
    "data_set['Marital_Status'] = np.where(data_set['Marital_Status'] == 'Divorced' , True, data_set['Marital_Status'])\n",
    "data_set['Marital_Status'] = np.where(data_set['Marital_Status'] == 'Unknown' , True, data_set['Marital_Status'])\n",
    "\n",
    "M_status = data_set.loc[:, data_set.columns.isin(['Marital_Status'])]\n",
    "# settings = data_set.loc[:, data_set.columns.isin(['Credit_Limit', 'Customer_Age', 'Gender', 'Education_Level', 'Income_Category' , 'Months_on_book'])]\n",
    "settings = data_set.loc[:, data_set.columns.isin(['Customer_Age', 'Gender', 'Education_Level', 'Income_Category' , 'Months_on_book'])]\n",
    "\n",
    "settings"
   ]
  },
  {
   "cell_type": "markdown",
   "metadata": {},
   "source": [
    "1.1 Подключение необходимых библиотек"
   ]
  },
  {
   "cell_type": "code",
   "execution_count": 70,
   "metadata": {},
   "outputs": [],
   "source": [
    "from sklearn.linear_model import SGDClassifier\n",
    "from sklearn.linear_model import LogisticRegression\n",
    "from sklearn.model_selection import train_test_split\n",
    "from sklearn import datasets\n"
   ]
  },
  {
   "cell_type": "markdown",
   "metadata": {},
   "source": [
    "1.2 Построение классификатора SVM"
   ]
  },
  {
   "cell_type": "code",
   "execution_count": 80,
   "metadata": {},
   "outputs": [],
   "source": [
    "# Разделение выборки на обучающаю и тестовую\n",
    "x_train, x_test, y_train, y_test = train_test_split(settings, M_status, test_size=0.35, random_state=2020)"
   ]
  },
  {
   "cell_type": "code",
   "execution_count": null,
   "metadata": {},
   "outputs": [],
   "source": [
    "clf = SGDClassifier(loss=\"log\", penalty=\"l2\")\n",
    "# y_train__ = y_train.ravel()\n",
    "clf = clf.fit(x_train, y_train)"
   ]
  },
  {
   "cell_type": "code",
   "execution_count": null,
   "metadata": {},
   "outputs": [],
   "source": [
    "y_pred = clf.predict(x_test)\n",
    "clf.score(x_test, y_test)"
   ]
  },
  {
   "cell_type": "code",
   "execution_count": null,
   "metadata": {},
   "outputs": [],
   "source": [
    "clf2 = LogisticRegression(random_state=0, solver='lbfgs', multi_class='multinomial')\n",
    "clf2.fit(x_train, y_train)"
   ]
  },
  {
   "cell_type": "code",
   "execution_count": null,
   "metadata": {},
   "outputs": [],
   "source": [
    "y_pred = clf2.predict(x_test)\n",
    "clf2.score(x_test, y_test)"
   ]
  },
  {
   "cell_type": "markdown",
   "metadata": {},
   "source": [
    "1.3 Оценка точности построенного классификатора с помощью метрик: precision, recall и F1"
   ]
  },
  {
   "cell_type": "code",
   "execution_count": null,
   "metadata": {},
   "outputs": [],
   "source": [
    "from sklearn.model_selection import cross_val_score\n",
    "print(\"accuracy:\"+str(np.average(cross_val_score(clf, x_test, y_test, scoring='accuracy'))))\n",
    "print(\"f1:\"+str(np.average(cross_val_score(clf, x_test, y_test, scoring='f1'))))\n",
    "print(\"precision:\"+str(np.average(cross_val_score(clf, x_test, y_test, scoring='precision'))))\n",
    "print(\"recall:\"+str(np.average(cross_val_score(clf, x_test, y_test, scoring='recall'))))"
   ]
  },
  {
   "cell_type": "markdown",
   "metadata": {},
   "source": [
    "2.1 Построение классификатора типа \"Random Forest\" для нашей задачи классификации"
   ]
  },
  {
   "cell_type": "code",
   "execution_count": null,
   "metadata": {},
   "outputs": [],
   "source": [
    "from sklearn.model_selection import train_test_split\n",
    "from sklearn.tree import DecisionTreeClassifier\n",
    "x_train, x_validation, y_train, y_validation = train_test_split(settings, M_status, test_size=.35, random_state=1)\n",
    "\n",
    "tree = DecisionTreeClassifier(random_state=241, max_depth=5)  # наилучшая максимальная глубина\n",
    "tree = tree.fit(x_train, y_train)\n",
    "# for i in range(3, 30):\n",
    "#     tree = DecisionTreeClassifier(random_state=241, max_depth = i)\n",
    "#     tree = tree.fit(x_train, y_train)\n",
    "#     print(str(i) + \": \" + str(tree.score(x_validation, y_validation)))"
   ]
  },
  {
   "cell_type": "code",
   "execution_count": null,
   "metadata": {},
   "outputs": [],
   "source": [
    "from sklearn.metrics import accuracy_score\n",
    "validation_acc = accuracy_score(y_validation, tree.predict(x_validation))\n",
    "print('Точность на валидации:', validation_acc)\n",
    "\n",
    "\n",
    "from sklearn.model_selection import cross_val_score\n",
    "print(\"accuracy:\"+str(np.average(cross_val_score(tree, x_validation, y_validation, scoring='accuracy'))))\n",
    "print(\"f1:\"+str(np.average(cross_val_score(tree, x_validation, y_validation, scoring='f1'))))\n",
    "print(\"precision:\"+str(np.average(cross_val_score(tree, x_validation, y_validation, scoring='precision'))))\n",
    "print(\"recall:\"+str(np.average(cross_val_score(tree, x_validation, y_validation, scoring='recall'))))"
   ]
  },
  {
   "cell_type": "code",
   "execution_count": null,
   "metadata": {},
   "outputs": [],
   "source": [
    "from sklearn.ensemble import RandomForestClassifier \n",
    "from sklearn.model_selection import GridSearchCV\n",
    "\n",
    "param_grid = { 'n_estimators': [200, 300, 400],'max_features': ['auto'], 'max_depth' : [5], 'criterion' :['gini']}\n",
    "\n",
    "RFC = GridSearchCV(estimator=RandomForestClassifier(), param_grid=param_grid, cv= 5, refit = True) \n",
    "RFC.fit(x_train, y_train)\n"
   ]
  },
  {
   "cell_type": "markdown",
   "metadata": {},
   "source": [
    "1.3 Оценка точности построенного классификатора с помощью метрик: precision, recall и F1"
   ]
  },
  {
   "cell_type": "code",
   "execution_count": null,
   "metadata": {},
   "outputs": [],
   "source": [
    "print(\"accuracy:\"+str(np.average(cross_val_score(RFC.best_estimator_, x_validation, y_validation, scoring='accuracy'))))\n",
    "print(\"f1:\"+str(np.average(cross_val_score(RFC.best_estimator_, x_validation, y_validation, scoring='f1'))))\n",
    "print(\"precision:\"+str(np.average(RFC(tree.best_estimator, x_validation, y_validation, scoring='precision'))))\n",
    "print(\"recall:\"+str(np.average(RFC(tree.best_estimator, x_validation, y_validation, scoring='recall'))))"
   ]
  }
 ],
 "metadata": {
  "interpreter": {
   "hash": "50ff43e8070212667bfca142fe2278bb73e035152a7dcb29e242b66042ec9537"
  },
  "kernelspec": {
   "display_name": "Python 3.9.7 ('base')",
   "language": "python",
   "name": "python3"
  },
  "language_info": {
   "codemirror_mode": {
    "name": "ipython",
    "version": 3
   },
   "file_extension": ".py",
   "mimetype": "text/x-python",
   "name": "python",
   "nbconvert_exporter": "python",
   "pygments_lexer": "ipython3",
   "version": "3.9.7"
  },
  "orig_nbformat": 4
 },
 "nbformat": 4,
 "nbformat_minor": 2
}
