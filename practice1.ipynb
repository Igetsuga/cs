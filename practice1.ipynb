{
  "nbformat": 4,
  "nbformat_minor": 0,
  "metadata": {
    "colab": {
      "provenance": [],
      "collapsed_sections": [],
      "authorship_tag": "ABX9TyNhV4ADrvTy7MI7dgl8o1Jf",
      "include_colab_link": true
    },
    "kernelspec": {
      "name": "python3",
      "display_name": "Python 3"
    },
    "language_info": {
      "name": "python"
    }
  },
  "cells": [
    {
      "cell_type": "markdown",
      "metadata": {
        "id": "view-in-github",
        "colab_type": "text"
      },
      "source": [
        "<a href=\"https://colab.research.google.com/github/Igetsuga/cs/blob/master/practice1.ipynb\" target=\"_parent\"><img src=\"https://colab.research.google.com/assets/colab-badge.svg\" alt=\"Open In Colab\"/></a>"
      ]
    },
    {
      "cell_type": "code",
      "execution_count": 34,
      "metadata": {
        "colab": {
          "base_uri": "https://localhost:8080/",
          "height": 70
        },
        "id": "gbCiHxXWPUbr",
        "outputId": "af7a6662-066f-4e2e-ddd0-42780e1fada4"
      },
      "outputs": [
        {
          "output_type": "stream",
          "name": "stdout",
          "text": [
            "The sql extension is already loaded. To reload it, use:\n",
            "  %reload_ext sql\n"
          ]
        },
        {
          "output_type": "execute_result",
          "data": {
            "text/plain": [
              "'Connected: @None'"
            ],
            "application/vnd.google.colaboratory.intrinsic+json": {
              "type": "string"
            }
          },
          "metadata": {},
          "execution_count": 34
        }
      ],
      "source": [
        "%load_ext sql\n",
        "%sql sqlite://"
      ]
    },
    {
      "cell_type": "code",
      "source": [
        "%%sql \n",
        "\n",
        "PRAGMA foreign_keys = ON;\n",
        "\n",
        "drop table if exists Students;\n",
        "drop table if exists Program;\n"
      ],
      "metadata": {
        "colab": {
          "base_uri": "https://localhost:8080/"
        },
        "id": "-a1lj0kGiRGI",
        "outputId": "d74827cd-0526-4f3a-9fcb-041ee1caf3ad"
      },
      "execution_count": 53,
      "outputs": [
        {
          "output_type": "stream",
          "name": "stdout",
          "text": [
            " * sqlite://\n",
            "Done.\n",
            "Done.\n",
            "Done.\n"
          ]
        },
        {
          "output_type": "execute_result",
          "data": {
            "text/plain": [
              "[]"
            ]
          },
          "metadata": {},
          "execution_count": 53
        }
      ]
    },
    {
      "cell_type": "code",
      "source": [
        "%%sql \n",
        "\n",
        "drop table if exists Program;\n",
        "CREATE TABLE Program\n",
        "(\n",
        "    program_id integer primary key, \n",
        "    program_name varchar(50)\n",
        ");\n",
        "\n",
        "insert Into program(program_id, program_name) values (1, 'Bio');\n",
        "insert Into program(program_id, program_name) values (2, 'Computer security');\n",
        "insert Into program(program_id, program_name) values (3, 'PMI');\n",
        "insert Into program(program_id, program_name) values (4, 'Robotics');\n",
        "insert Into program(program_id, program_name) values (5, 'System analysis');\n",
        "insert Into program(program_id, program_name) values (6, 'Data security');\n",
        "insert Into program(program_id, program_name) values (7, 'Managment');\n",
        "\n",
        "select * from program;"
      ],
      "metadata": {
        "colab": {
          "base_uri": "https://localhost:8080/",
          "height": 376
        },
        "id": "aaZbysgQPnHx",
        "outputId": "4512f8cd-5499-40ee-80ad-f163d8a553c9"
      },
      "execution_count": 54,
      "outputs": [
        {
          "output_type": "stream",
          "name": "stdout",
          "text": [
            " * sqlite://\n",
            "Done.\n",
            "Done.\n",
            "1 rows affected.\n",
            "1 rows affected.\n",
            "1 rows affected.\n",
            "1 rows affected.\n",
            "1 rows affected.\n",
            "1 rows affected.\n",
            "1 rows affected.\n",
            "Done.\n"
          ]
        },
        {
          "output_type": "execute_result",
          "data": {
            "text/plain": [
              "[(1, 'Bio'),\n",
              " (2, 'Computer security'),\n",
              " (3, 'PMI'),\n",
              " (4, 'Robotics'),\n",
              " (5, 'System analysis'),\n",
              " (6, 'Data security'),\n",
              " (7, 'Managment')]"
            ],
            "text/html": [
              "<table>\n",
              "    <thead>\n",
              "        <tr>\n",
              "            <th>program_id</th>\n",
              "            <th>program_name</th>\n",
              "        </tr>\n",
              "    </thead>\n",
              "    <tbody>\n",
              "        <tr>\n",
              "            <td>1</td>\n",
              "            <td>Bio</td>\n",
              "        </tr>\n",
              "        <tr>\n",
              "            <td>2</td>\n",
              "            <td>Computer security</td>\n",
              "        </tr>\n",
              "        <tr>\n",
              "            <td>3</td>\n",
              "            <td>PMI</td>\n",
              "        </tr>\n",
              "        <tr>\n",
              "            <td>4</td>\n",
              "            <td>Robotics</td>\n",
              "        </tr>\n",
              "        <tr>\n",
              "            <td>5</td>\n",
              "            <td>System analysis</td>\n",
              "        </tr>\n",
              "        <tr>\n",
              "            <td>6</td>\n",
              "            <td>Data security</td>\n",
              "        </tr>\n",
              "        <tr>\n",
              "            <td>7</td>\n",
              "            <td>Managment</td>\n",
              "        </tr>\n",
              "    </tbody>\n",
              "</table>"
            ]
          },
          "metadata": {},
          "execution_count": 54
        }
      ]
    },
    {
      "cell_type": "code",
      "source": [
        "%%sql\n",
        "\n",
        "drop table if exists Students;\n",
        "\n",
        "CREATE TABLE Students \n",
        "(\n",
        "    student_id integer primary key, \n",
        "    student_name varchar(50),\n",
        "    student_sname varchar(50),\n",
        "    student_program_id integer,\n",
        "    class varchar(20),\n",
        "    GPA number,\n",
        "    foreign key(student_program_id) references program(program_id)\n",
        ");\n",
        "\n",
        "insert into Students(student_id, student_sname, student_name, student_program_id, class, GPA) VALUES (1, 'Альянов', 'Николай', 1, '04-20', 3.58);\n",
        "insert into Students(student_id, student_sname, student_name, student_program_id, class, GPA) VALUES (2, 'Крыгина', 'Ева', 1, '01-20', 4.58);\n",
        "insert into Students(student_id, student_sname, student_name, student_program_id, class, GPA) VALUES (3, 'Исаева', 'Анна', 1, '01-20', 4.75);\n",
        "insert into Students(student_id, student_sname, student_name, student_program_id, class, GPA) VALUES (4, 'Егоров', 'Павел', 2, '01-20', 4.83);\n",
        "insert into Students(student_id, student_sname, student_name, student_program_id, class, GPA) VALUES (5, 'Тихомиров', 'Тимофей', 2, '03-20', 4.18);\n",
        "insert into Students(student_id, student_sname, student_name, student_program_id, class, GPA) VALUES (6, 'Ширшов', 'Александр', 2, '06-20', 3.91);\n",
        "insert into Students(student_id, student_sname, student_name, student_program_id, class, GPA) VALUES (7, 'Фатеев', 'Максим', 3, '05-20', 3.8);\n",
        "insert into Students(student_id, student_sname, student_name, student_program_id, class, GPA) VALUES (8, 'Киселев', 'Петр',  3, '05-20', 3.5);\n",
        "insert into Students(student_id, student_sname, student_name, student_program_id, class, GPA) VALUES (9, 'Агашкина', 'Дарья', 4, '02-20', 4.18);\n",
        "insert into Students(student_id, student_sname, student_name, student_program_id, class, GPA) VALUES (10, 'Горин', 'Олег', 5, '01-20', 3.89);\n",
        "insert into Students(student_id, student_sname, student_name, student_program_id, class, GPA) VALUES (11, 'Комарова', 'Виктория', 6, '02-20', 4.83);\n",
        "insert into Students(student_id, student_sname, student_name, student_program_id, class, GPA) VALUES (12, 'Челыхов', 'Иван', 6, '06-20', 4.45);\n",
        "insert into Students(student_id, student_sname, student_name, student_program_id, class, GPA) VALUES (13, 'Назаров', 'Александр', 6, '06-20', 3.73);\n",
        "insert into Students(student_id, student_sname, student_name, student_program_id, class, GPA) VALUES (14, 'Горлова', 'Ксения', 7, '01-20', 5);\n",
        "\n",
        "select * from Students;"
      ],
      "metadata": {
        "colab": {
          "base_uri": "https://localhost:8080/",
          "height": 643
        },
        "id": "fJG1kebUQvvk",
        "outputId": "696bad78-33e0-4446-c9ce-3c8f0082d500"
      },
      "execution_count": 55,
      "outputs": [
        {
          "output_type": "stream",
          "name": "stdout",
          "text": [
            " * sqlite://\n",
            "Done.\n",
            "Done.\n",
            "1 rows affected.\n",
            "1 rows affected.\n",
            "1 rows affected.\n",
            "1 rows affected.\n",
            "1 rows affected.\n",
            "1 rows affected.\n",
            "1 rows affected.\n",
            "1 rows affected.\n",
            "1 rows affected.\n",
            "1 rows affected.\n",
            "1 rows affected.\n",
            "1 rows affected.\n",
            "1 rows affected.\n",
            "1 rows affected.\n",
            "Done.\n"
          ]
        },
        {
          "output_type": "execute_result",
          "data": {
            "text/plain": [
              "[(1, 'Николай', 'Альянов', 1, '04-20', 3.58),\n",
              " (2, 'Ева', 'Крыгина', 1, '01-20', 4.58),\n",
              " (3, 'Анна', 'Исаева', 1, '01-20', 4.75),\n",
              " (4, 'Павел', 'Егоров', 2, '01-20', 4.83),\n",
              " (5, 'Тимофей', 'Тихомиров', 2, '03-20', 4.18),\n",
              " (6, 'Александр', 'Ширшов', 2, '06-20', 3.91),\n",
              " (7, 'Максим', 'Фатеев', 3, '05-20', 3.8),\n",
              " (8, 'Петр', 'Киселев', 3, '05-20', 3.5),\n",
              " (9, 'Дарья', 'Агашкина', 4, '02-20', 4.18),\n",
              " (10, 'Олег', 'Горин', 5, '01-20', 3.89),\n",
              " (11, 'Виктория', 'Комарова', 6, '02-20', 4.83),\n",
              " (12, 'Иван', 'Челыхов', 6, '06-20', 4.45),\n",
              " (13, 'Александр', 'Назаров', 6, '06-20', 3.73),\n",
              " (14, 'Ксения', 'Горлова', 7, '01-20', 5)]"
            ],
            "text/html": [
              "<table>\n",
              "    <thead>\n",
              "        <tr>\n",
              "            <th>student_id</th>\n",
              "            <th>student_name</th>\n",
              "            <th>student_sname</th>\n",
              "            <th>student_program_id</th>\n",
              "            <th>class</th>\n",
              "            <th>GPA</th>\n",
              "        </tr>\n",
              "    </thead>\n",
              "    <tbody>\n",
              "        <tr>\n",
              "            <td>1</td>\n",
              "            <td>Николай</td>\n",
              "            <td>Альянов</td>\n",
              "            <td>1</td>\n",
              "            <td>04-20</td>\n",
              "            <td>3.58</td>\n",
              "        </tr>\n",
              "        <tr>\n",
              "            <td>2</td>\n",
              "            <td>Ева</td>\n",
              "            <td>Крыгина</td>\n",
              "            <td>1</td>\n",
              "            <td>01-20</td>\n",
              "            <td>4.58</td>\n",
              "        </tr>\n",
              "        <tr>\n",
              "            <td>3</td>\n",
              "            <td>Анна</td>\n",
              "            <td>Исаева</td>\n",
              "            <td>1</td>\n",
              "            <td>01-20</td>\n",
              "            <td>4.75</td>\n",
              "        </tr>\n",
              "        <tr>\n",
              "            <td>4</td>\n",
              "            <td>Павел</td>\n",
              "            <td>Егоров</td>\n",
              "            <td>2</td>\n",
              "            <td>01-20</td>\n",
              "            <td>4.83</td>\n",
              "        </tr>\n",
              "        <tr>\n",
              "            <td>5</td>\n",
              "            <td>Тимофей</td>\n",
              "            <td>Тихомиров</td>\n",
              "            <td>2</td>\n",
              "            <td>03-20</td>\n",
              "            <td>4.18</td>\n",
              "        </tr>\n",
              "        <tr>\n",
              "            <td>6</td>\n",
              "            <td>Александр</td>\n",
              "            <td>Ширшов</td>\n",
              "            <td>2</td>\n",
              "            <td>06-20</td>\n",
              "            <td>3.91</td>\n",
              "        </tr>\n",
              "        <tr>\n",
              "            <td>7</td>\n",
              "            <td>Максим</td>\n",
              "            <td>Фатеев</td>\n",
              "            <td>3</td>\n",
              "            <td>05-20</td>\n",
              "            <td>3.8</td>\n",
              "        </tr>\n",
              "        <tr>\n",
              "            <td>8</td>\n",
              "            <td>Петр</td>\n",
              "            <td>Киселев</td>\n",
              "            <td>3</td>\n",
              "            <td>05-20</td>\n",
              "            <td>3.5</td>\n",
              "        </tr>\n",
              "        <tr>\n",
              "            <td>9</td>\n",
              "            <td>Дарья</td>\n",
              "            <td>Агашкина</td>\n",
              "            <td>4</td>\n",
              "            <td>02-20</td>\n",
              "            <td>4.18</td>\n",
              "        </tr>\n",
              "        <tr>\n",
              "            <td>10</td>\n",
              "            <td>Олег</td>\n",
              "            <td>Горин</td>\n",
              "            <td>5</td>\n",
              "            <td>01-20</td>\n",
              "            <td>3.89</td>\n",
              "        </tr>\n",
              "        <tr>\n",
              "            <td>11</td>\n",
              "            <td>Виктория</td>\n",
              "            <td>Комарова</td>\n",
              "            <td>6</td>\n",
              "            <td>02-20</td>\n",
              "            <td>4.83</td>\n",
              "        </tr>\n",
              "        <tr>\n",
              "            <td>12</td>\n",
              "            <td>Иван</td>\n",
              "            <td>Челыхов</td>\n",
              "            <td>6</td>\n",
              "            <td>06-20</td>\n",
              "            <td>4.45</td>\n",
              "        </tr>\n",
              "        <tr>\n",
              "            <td>13</td>\n",
              "            <td>Александр</td>\n",
              "            <td>Назаров</td>\n",
              "            <td>6</td>\n",
              "            <td>06-20</td>\n",
              "            <td>3.73</td>\n",
              "        </tr>\n",
              "        <tr>\n",
              "            <td>14</td>\n",
              "            <td>Ксения</td>\n",
              "            <td>Горлова</td>\n",
              "            <td>7</td>\n",
              "            <td>01-20</td>\n",
              "            <td>5</td>\n",
              "        </tr>\n",
              "    </tbody>\n",
              "</table>"
            ]
          },
          "metadata": {},
          "execution_count": 55
        }
      ]
    },
    {
      "cell_type": "markdown",
      "source": [
        "### Задание 1"
      ],
      "metadata": {
        "id": "ZbUsnO1AYYOn"
      }
    },
    {
      "cell_type": "code",
      "source": [
        "%%sql\n",
        "\n",
        "select student_sname\n",
        "  from students\n",
        "    where (student_name == \"Александр\")"
      ],
      "metadata": {
        "colab": {
          "base_uri": "https://localhost:8080/",
          "height": 116
        },
        "id": "Sc4w5JkpUKwr",
        "outputId": "1be47f35-f83b-4fb1-8099-393d4b6d5787"
      },
      "execution_count": 56,
      "outputs": [
        {
          "output_type": "stream",
          "name": "stdout",
          "text": [
            " * sqlite://\n",
            "Done.\n"
          ]
        },
        {
          "output_type": "execute_result",
          "data": {
            "text/plain": [
              "[('Ширшов',), ('Назаров',)]"
            ],
            "text/html": [
              "<table>\n",
              "    <thead>\n",
              "        <tr>\n",
              "            <th>student_sname</th>\n",
              "        </tr>\n",
              "    </thead>\n",
              "    <tbody>\n",
              "        <tr>\n",
              "            <td>Ширшов</td>\n",
              "        </tr>\n",
              "        <tr>\n",
              "            <td>Назаров</td>\n",
              "        </tr>\n",
              "    </tbody>\n",
              "</table>"
            ]
          },
          "metadata": {},
          "execution_count": 56
        }
      ]
    },
    {
      "cell_type": "markdown",
      "source": [
        "### Задание 2"
      ],
      "metadata": {
        "id": "9WEelsSKYimw"
      }
    },
    {
      "cell_type": "code",
      "source": [
        "%%sql\n",
        "\n",
        "select DISTINCT program_name\n",
        "  from students, program\n",
        "    where (student_program_id = program_id) and (GPA >= 4)\n"
      ],
      "metadata": {
        "colab": {
          "base_uri": "https://localhost:8080/",
          "height": 178
        },
        "id": "yCKM954gU4rg",
        "outputId": "dd16fa2d-f111-4d4a-c62e-10576ff69906"
      },
      "execution_count": 33,
      "outputs": [
        {
          "output_type": "stream",
          "name": "stdout",
          "text": [
            " * sqlite://\n",
            "Done.\n"
          ]
        },
        {
          "output_type": "execute_result",
          "data": {
            "text/plain": [
              "[('Bio',),\n",
              " ('Computer security',),\n",
              " ('Robotics',),\n",
              " ('Data security',),\n",
              " ('Managment',)]"
            ],
            "text/html": [
              "<table>\n",
              "    <thead>\n",
              "        <tr>\n",
              "            <th>program_name</th>\n",
              "        </tr>\n",
              "    </thead>\n",
              "    <tbody>\n",
              "        <tr>\n",
              "            <td>Bio</td>\n",
              "        </tr>\n",
              "        <tr>\n",
              "            <td>Computer security</td>\n",
              "        </tr>\n",
              "        <tr>\n",
              "            <td>Robotics</td>\n",
              "        </tr>\n",
              "        <tr>\n",
              "            <td>Data security</td>\n",
              "        </tr>\n",
              "        <tr>\n",
              "            <td>Managment</td>\n",
              "        </tr>\n",
              "    </tbody>\n",
              "</table>"
            ]
          },
          "metadata": {},
          "execution_count": 33
        }
      ]
    },
    {
      "cell_type": "markdown",
      "source": [
        "### Задание 3"
      ],
      "metadata": {
        "id": "dAl8YhZmYpLS"
      }
    },
    {
      "cell_type": "code",
      "source": [
        "%%sql\n",
        "\n",
        "\n",
        "select student_name, student_sname\n",
        "  from students\n",
        "    -- where (student_sname LIKE \"К%\" OR student_sname LIKE \"%к%\") and (student_name LIKE \"%е%\");\n",
        "    where (student_sname LIKE \"К%\") and (student_name LIKE \"%е%\");"
      ],
      "metadata": {
        "colab": {
          "base_uri": "https://localhost:8080/",
          "height": 95
        },
        "id": "kUtPWHfNVPHR",
        "outputId": "0c8d858e-444c-4433-abac-d5fa48cad7b2"
      },
      "execution_count": 57,
      "outputs": [
        {
          "output_type": "stream",
          "name": "stdout",
          "text": [
            " * sqlite://\n",
            "Done.\n"
          ]
        },
        {
          "output_type": "execute_result",
          "data": {
            "text/plain": [
              "[('Петр', 'Киселев')]"
            ],
            "text/html": [
              "<table>\n",
              "    <thead>\n",
              "        <tr>\n",
              "            <th>student_name</th>\n",
              "            <th>student_sname</th>\n",
              "        </tr>\n",
              "    </thead>\n",
              "    <tbody>\n",
              "        <tr>\n",
              "            <td>Петр</td>\n",
              "            <td>Киселев</td>\n",
              "        </tr>\n",
              "    </tbody>\n",
              "</table>"
            ]
          },
          "metadata": {},
          "execution_count": 57
        }
      ]
    },
    {
      "cell_type": "markdown",
      "source": [
        "### Задание 4"
      ],
      "metadata": {
        "id": "LdSc3J--orVR"
      }
    },
    {
      "cell_type": "code",
      "source": [
        "%%sql \n",
        "\n",
        "\n",
        "select program_name, AVG(GPA)\n",
        "  from program, students\n",
        "    where (student_program_id = program_id) \n",
        "    GROUP BY student_program_id \n",
        "      HAVING count(DISTINCT class) > 1"
      ],
      "metadata": {
        "colab": {
          "base_uri": "https://localhost:8080/",
          "height": 136
        },
        "id": "b5N8G_UunSLg",
        "outputId": "95078c99-b71c-4d86-b8dc-9ff3c513e7d6"
      },
      "execution_count": 61,
      "outputs": [
        {
          "output_type": "stream",
          "name": "stdout",
          "text": [
            " * sqlite://\n",
            "Done.\n"
          ]
        },
        {
          "output_type": "execute_result",
          "data": {
            "text/plain": [
              "[('Bio', 4.303333333333334),\n",
              " ('Computer security', 4.306666666666667),\n",
              " ('Data security', 4.336666666666667)]"
            ],
            "text/html": [
              "<table>\n",
              "    <thead>\n",
              "        <tr>\n",
              "            <th>program_name</th>\n",
              "            <th>AVG(GPA)</th>\n",
              "        </tr>\n",
              "    </thead>\n",
              "    <tbody>\n",
              "        <tr>\n",
              "            <td>Bio</td>\n",
              "            <td>4.303333333333334</td>\n",
              "        </tr>\n",
              "        <tr>\n",
              "            <td>Computer security</td>\n",
              "            <td>4.306666666666667</td>\n",
              "        </tr>\n",
              "        <tr>\n",
              "            <td>Data security</td>\n",
              "            <td>4.336666666666667</td>\n",
              "        </tr>\n",
              "    </tbody>\n",
              "</table>"
            ]
          },
          "metadata": {},
          "execution_count": 61
        }
      ]
    },
    {
      "cell_type": "markdown",
      "source": [
        "### Задание 5"
      ],
      "metadata": {
        "id": "lUe56_RSo0XT"
      }
    },
    {
      "cell_type": "code",
      "source": [
        "%%sql\n",
        "\n",
        "\n",
        "select program_name, AVG(GPA)\n",
        "  from program, \n",
        "       (select * \n",
        "          from students\n",
        "            where student_sname NOT LIKE \"_а%\") newStudents\n",
        "    where (newStudents.student_program_id = program_id)\n",
        "    GROUP BY newStudents.student_program_id \n",
        "      HAVING count(newStudents.student_id) >= 2"
      ],
      "metadata": {
        "colab": {
          "base_uri": "https://localhost:8080/",
          "height": 136
        },
        "id": "W7Z7Pl6Jope7",
        "outputId": "1258b215-c484-4125-b573-2b10f3c41a87"
      },
      "execution_count": 64,
      "outputs": [
        {
          "output_type": "stream",
          "name": "stdout",
          "text": [
            " * sqlite://\n",
            "Done.\n"
          ]
        },
        {
          "output_type": "execute_result",
          "data": {
            "text/plain": [
              "[('Bio', 4.303333333333334),\n",
              " ('Computer security', 4.306666666666667),\n",
              " ('Data security', 4.640000000000001)]"
            ],
            "text/html": [
              "<table>\n",
              "    <thead>\n",
              "        <tr>\n",
              "            <th>program_name</th>\n",
              "            <th>AVG(GPA)</th>\n",
              "        </tr>\n",
              "    </thead>\n",
              "    <tbody>\n",
              "        <tr>\n",
              "            <td>Bio</td>\n",
              "            <td>4.303333333333334</td>\n",
              "        </tr>\n",
              "        <tr>\n",
              "            <td>Computer security</td>\n",
              "            <td>4.306666666666667</td>\n",
              "        </tr>\n",
              "        <tr>\n",
              "            <td>Data security</td>\n",
              "            <td>4.640000000000001</td>\n",
              "        </tr>\n",
              "    </tbody>\n",
              "</table>"
            ]
          },
          "metadata": {},
          "execution_count": 64
        }
      ]
    }
  ]
}